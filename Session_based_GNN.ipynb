{
 "cells": [
  {
   "cell_type": "code",
   "metadata": {
    "id": "CRxB48iDiAF_",
    "ExecuteTime": {
     "end_time": "2025-04-02T11:09:09.503888Z",
     "start_time": "2025-04-02T11:09:09.496770Z"
    }
   },
   "source": [
    "# Import Python built-in libraries\n",
    "import copy\n",
    "import pickle\n",
    "import random"
   ],
   "outputs": [],
   "execution_count": 96
  },
  {
   "cell_type": "code",
   "metadata": {
    "id": "HGQ13SWwiHRl",
    "ExecuteTime": {
     "end_time": "2025-04-02T12:12:18.451391Z",
     "start_time": "2025-04-02T12:12:18.437073Z"
    }
   },
   "source": [
    "# Import pip libraries\n",
    "import matplotlib.pyplot as plt\n",
    "import numpy as np\n",
    "import pandas as pd\n",
    "from tqdm import tqdm, trange\n",
    "\n",
    "# Import torch packages\n",
    "import torch\n",
    "import torch.nn as nn\n",
    "import torch.nn.functional as F\n",
    "import torch.optim as optim\n",
    "from torch.utils import data\n",
    "\n",
    "# Import PyG packages\n",
    "import torch_geometric as pyg\n",
    "import torch_geometric.data as pyg_data\n",
    "from torch_geometric.typing import Adj, OptTensor\n",
    "import torch_sparse"
   ],
   "outputs": [],
   "execution_count": 130
  },
  {
   "cell_type": "code",
   "metadata": {
    "colab": {
     "base_uri": "https://localhost:8080/"
    },
    "id": "Pn79u2Vc7Bi7",
    "outputId": "750d5825-42cc-42f2-9a1d-a64d13259797",
    "ExecuteTime": {
     "end_time": "2025-04-02T12:12:19.763453Z",
     "start_time": "2025-04-02T12:12:18.978805Z"
    }
   },
   "source": [
    "# Load and have a peek into the dataset\n",
    "events = pd.read_csv('events.csv')\n",
    "print(events.head())\n",
    "print(f'There are {len(events)} rows in the raw data.')"
   ],
   "outputs": [
    {
     "name": "stdout",
     "output_type": "stream",
     "text": [
      "       timestamp  visitorid event  itemid  transactionid\n",
      "0  1433221332117     257597  view  355908            NaN\n",
      "1  1433224214164     992329  view  248676            NaN\n",
      "2  1433221999827     111016  view  318965            NaN\n",
      "3  1433221955914     483717  view  253185            NaN\n",
      "4  1433221337106     951259  view  367447            NaN\n",
      "There are 2756101 rows in the raw data.\n"
     ]
    }
   ],
   "execution_count": 131
  },
  {
   "cell_type": "code",
   "metadata": {
    "colab": {
     "base_uri": "https://localhost:8080/",
     "height": 300
    },
    "id": "oD7SEiObBC8x",
    "outputId": "6218a809-1c60-4797-9c42-c6de8ffa93d6",
    "ExecuteTime": {
     "end_time": "2025-04-02T12:12:20.180243Z",
     "start_time": "2025-04-02T12:12:19.832985Z"
    }
   },
   "source": [
    "# Print the summarized statistics of the dataset\n",
    "events.describe()"
   ],
   "outputs": [
    {
     "data": {
      "text/plain": [
       "          timestamp     visitorid        itemid  transactionid\n",
       "count  2.756101e+06  2.756101e+06  2.756101e+06   22457.000000\n",
       "mean   1.436424e+12  7.019229e+05  2.349225e+05    8826.497796\n",
       "std    3.366312e+09  4.056875e+05  1.341954e+05    5098.996290\n",
       "min    1.430622e+12  0.000000e+00  3.000000e+00       0.000000\n",
       "25%    1.433478e+12  3.505660e+05  1.181200e+05    4411.000000\n",
       "50%    1.436453e+12  7.020600e+05  2.360670e+05    8813.000000\n",
       "75%    1.439225e+12  1.053437e+06  3.507150e+05   13224.000000\n",
       "max    1.442545e+12  1.407579e+06  4.668670e+05   17671.000000"
      ],
      "text/html": [
       "<div>\n",
       "<style scoped>\n",
       "    .dataframe tbody tr th:only-of-type {\n",
       "        vertical-align: middle;\n",
       "    }\n",
       "\n",
       "    .dataframe tbody tr th {\n",
       "        vertical-align: top;\n",
       "    }\n",
       "\n",
       "    .dataframe thead th {\n",
       "        text-align: right;\n",
       "    }\n",
       "</style>\n",
       "<table border=\"1\" class=\"dataframe\">\n",
       "  <thead>\n",
       "    <tr style=\"text-align: right;\">\n",
       "      <th></th>\n",
       "      <th>timestamp</th>\n",
       "      <th>visitorid</th>\n",
       "      <th>itemid</th>\n",
       "      <th>transactionid</th>\n",
       "    </tr>\n",
       "  </thead>\n",
       "  <tbody>\n",
       "    <tr>\n",
       "      <th>count</th>\n",
       "      <td>2.756101e+06</td>\n",
       "      <td>2.756101e+06</td>\n",
       "      <td>2.756101e+06</td>\n",
       "      <td>22457.000000</td>\n",
       "    </tr>\n",
       "    <tr>\n",
       "      <th>mean</th>\n",
       "      <td>1.436424e+12</td>\n",
       "      <td>7.019229e+05</td>\n",
       "      <td>2.349225e+05</td>\n",
       "      <td>8826.497796</td>\n",
       "    </tr>\n",
       "    <tr>\n",
       "      <th>std</th>\n",
       "      <td>3.366312e+09</td>\n",
       "      <td>4.056875e+05</td>\n",
       "      <td>1.341954e+05</td>\n",
       "      <td>5098.996290</td>\n",
       "    </tr>\n",
       "    <tr>\n",
       "      <th>min</th>\n",
       "      <td>1.430622e+12</td>\n",
       "      <td>0.000000e+00</td>\n",
       "      <td>3.000000e+00</td>\n",
       "      <td>0.000000</td>\n",
       "    </tr>\n",
       "    <tr>\n",
       "      <th>25%</th>\n",
       "      <td>1.433478e+12</td>\n",
       "      <td>3.505660e+05</td>\n",
       "      <td>1.181200e+05</td>\n",
       "      <td>4411.000000</td>\n",
       "    </tr>\n",
       "    <tr>\n",
       "      <th>50%</th>\n",
       "      <td>1.436453e+12</td>\n",
       "      <td>7.020600e+05</td>\n",
       "      <td>2.360670e+05</td>\n",
       "      <td>8813.000000</td>\n",
       "    </tr>\n",
       "    <tr>\n",
       "      <th>75%</th>\n",
       "      <td>1.439225e+12</td>\n",
       "      <td>1.053437e+06</td>\n",
       "      <td>3.507150e+05</td>\n",
       "      <td>13224.000000</td>\n",
       "    </tr>\n",
       "    <tr>\n",
       "      <th>max</th>\n",
       "      <td>1.442545e+12</td>\n",
       "      <td>1.407579e+06</td>\n",
       "      <td>4.668670e+05</td>\n",
       "      <td>17671.000000</td>\n",
       "    </tr>\n",
       "  </tbody>\n",
       "</table>\n",
       "</div>"
      ]
     },
     "execution_count": 132,
     "metadata": {},
     "output_type": "execute_result"
    }
   ],
   "execution_count": 132
  },
  {
   "cell_type": "code",
   "metadata": {
    "colab": {
     "base_uri": "https://localhost:8080/"
    },
    "id": "WLaXTMI3TqYe",
    "outputId": "23fd452c-2ec8-483c-ddc5-f4a62ee17638",
    "ExecuteTime": {
     "end_time": "2025-04-02T12:12:20.534456Z",
     "start_time": "2025-04-02T12:12:20.416345Z"
    }
   },
   "source": [
    "# Check the maximum unique id of items.\n",
    "# \n",
    "max(events['itemid'])"
   ],
   "outputs": [
    {
     "data": {
      "text/plain": [
       "466867"
      ]
     },
     "execution_count": 133,
     "metadata": {},
     "output_type": "execute_result"
    }
   ],
   "execution_count": 133
  },
  {
   "cell_type": "code",
   "metadata": {
    "colab": {
     "base_uri": "https://localhost:8080/"
    },
    "id": "36yeTCZ6-O6_",
    "outputId": "27afc431-2bf5-458d-953f-9029c796ca88",
    "ExecuteTime": {
     "end_time": "2025-04-02T12:12:20.979081Z",
     "start_time": "2025-04-02T12:12:20.839956Z"
    }
   },
   "source": [
    "# Filter only the 'view' events.\n",
    "view_events = events[events['event'] == 'view']\n",
    "print(f'There are {len(view_events)} `view` events in the raw data.')"
   ],
   "outputs": [
    {
     "name": "stdout",
     "output_type": "stream",
     "text": [
      "There are 2664312 `view` events in the raw data.\n"
     ]
    }
   ],
   "execution_count": 134
  },
  {
   "cell_type": "code",
   "metadata": {
    "id": "72rxoxUqBT3J",
    "ExecuteTime": {
     "end_time": "2025-04-02T12:12:21.569117Z",
     "start_time": "2025-04-02T12:12:21.249772Z"
    }
   },
   "source": [
    "# Filter out visitors with single clicks.\n",
    "visits_per_visitor = view_events['visitorid'].value_counts(dropna=False)\n",
    "visits_per_visitor.head()\n",
    "\n",
    "filtered_visits_of_visitors = visits_per_visitor[\n",
    "    visits_per_visitor > 1\n",
    "].index\n",
    "view_events = view_events[\n",
    "    view_events['visitorid'].isin(filtered_visits_of_visitors)]"
   ],
   "outputs": [],
   "execution_count": 135
  },
  {
   "cell_type": "code",
   "metadata": {
    "colab": {
     "base_uri": "https://localhost:8080/"
    },
    "id": "jQDjX6S1D-nH",
    "outputId": "5d04fea2-11e3-491b-9898-abdbb29f7982",
    "jupyter": {
     "is_executing": true
    },
    "ExecuteTime": {
     "start_time": "2025-04-02T12:12:21.971967Z"
    }
   },
   "source": [
    "# Let's group events and their timing data.\n",
    "visits_data = {}\n",
    "for _, row in enumerate(tqdm(view_events.iterrows())):\n",
    "    timestamp, visitorid, event, itemid, transactionid = row[1].values\n",
    "\n",
    "    if visitorid not in visits_data:\n",
    "        visits_data[visitorid] = {'itemids': [], 'timestamps': []}\n",
    "    visits_data[visitorid]['itemids'].append(itemid)\n",
    "    visits_data[visitorid]['timestamps'].append(timestamp)\n",
    "\n",
    "print()\n",
    "print(f'There are {len(visits_data)} visitors left.')"
   ],
   "outputs": [
    {
     "name": "stderr",
     "output_type": "stream",
     "text": [
      "44714it [00:01, 55863.70it/s]"
     ]
    }
   ],
   "execution_count": null
  },
  {
   "cell_type": "code",
   "metadata": {
    "colab": {
     "base_uri": "https://localhost:8080/"
    },
    "id": "0YdCvwXpIpN6",
    "outputId": "d0c0f98c-1147-46d0-81fb-333c1954c794",
    "ExecuteTime": {
     "end_time": "2025-04-02T11:09:50.845748Z",
     "start_time": "2025-04-02T11:09:49.713705Z"
    }
   },
   "source": [
    "# We will separate sessions by 1 hr.\n",
    "session_gap = 1 * 3600 * 1000\n",
    "\n",
    "# Let's group events from visitors into sessions.\n",
    "sessions_of_visitors = {}\n",
    "for visitorid, visitor_dict in visits_data.items():\n",
    "    sessions = [[]]\n",
    "    sorted_events = sorted(zip(visitor_dict['timestamps'],\n",
    "                               visitor_dict['itemids']))\n",
    "    for i in range(len(sorted_events) - 1):\n",
    "        sessions[-1].append(sorted_events[i][1])\n",
    "        if (sorted_events[i+1][0] - sorted_events[i][0]) > session_gap:\n",
    "            sessions.append([])\n",
    "    sessions[-1].append(sorted_events[len(sorted_events) - 1][1])\n",
    "    sessions_of_visitors[visitorid] = sessions\n",
    "\n",
    "print()\n",
    "print(f'There are {len(sessions_of_visitors)} sessions.')"
   ],
   "outputs": [
    {
     "name": "stdout",
     "output_type": "stream",
     "text": [
      "\n",
      "There are 396449 sessions.\n"
     ]
    }
   ],
   "execution_count": 104
  },
  {
   "cell_type": "code",
   "metadata": {
    "id": "80Shzu4P-s_9",
    "ExecuteTime": {
     "end_time": "2025-04-02T11:09:51.804099Z",
     "start_time": "2025-04-02T11:09:51.616558Z"
    }
   },
   "source": [
    "# Adjsut sampling rate ([0, 1]) to generate smaller datasets.\n",
    "# Setting `sampling_rate` to 1 will lead to a full dataset split.\n",
    "sampling_rate = 0.5\n",
    "\n",
    "# We use random seed for reproducibility.\n",
    "seed = 42\n",
    "all_visitors = list(sessions_of_visitors.keys())\n",
    "random.Random(seed).shuffle(all_visitors)\n",
    "\n",
    "num_train = int(len(all_visitors) * 0.8 * sampling_rate)\n",
    "num_val = int(len(all_visitors) * 0.1 * sampling_rate)\n",
    "num_test = int(len(all_visitors) * 0.1 * sampling_rate)\n",
    "\n",
    "train_visitors = all_visitors[:num_train]\n",
    "val_visitors = all_visitors[num_train : num_train+num_val]\n",
    "test_visitors = all_visitors[num_train+num_val:num_train+num_val+num_test]"
   ],
   "outputs": [],
   "execution_count": 105
  },
  {
   "cell_type": "code",
   "metadata": {
    "id": "vOt9UVcesil7",
    "ExecuteTime": {
     "end_time": "2025-04-02T12:11:59.644691Z",
     "start_time": "2025-04-02T12:11:59.637651Z"
    }
   },
   "source": [
    "def extract_subsessions(sessions):\n",
    "    all_sessions = []\n",
    "    for session in sessions:\n",
    "        for i in range(1, len(session)):\n",
    "            all_sessions.append(session[:i+1])\n",
    "    return all_sessions"
   ],
   "outputs": [],
   "execution_count": 128
  },
  {
   "cell_type": "code",
   "metadata": {
    "colab": {
     "base_uri": "https://localhost:8080/"
    },
    "id": "dOTFciFbAHDl",
    "outputId": "cd7a9dd2-3944-409c-97cf-28ff20555ddd",
    "ExecuteTime": {
     "end_time": "2025-04-02T12:12:03.360107Z",
     "start_time": "2025-04-02T12:12:03.312930Z"
    }
   },
   "source": [
    "# Check the number of visitors in each split\n",
    "print(f'train, val, and test visitors: {len(train_visitors), len(val_visitors), len(test_visitors)}')\n",
    "\n",
    "train_sessions, val_sessions, test_sessions = [], [], []\n",
    "for visitor in train_visitors:\n",
    "    train_sessions.extend(extract_subsessions(sessions_of_visitors[visitor]))\n",
    "for visitor in val_visitors:\n",
    "    val_sessions.extend(extract_subsessions(sessions_of_visitors[visitor]))\n",
    "for visitor in test_visitors:\n",
    "    test_sessions.extend(extract_subsessions(sessions_of_visitors[visitor]))"
   ],
   "outputs": [
    {
     "name": "stdout",
     "output_type": "stream",
     "text": [
      "train, val, and test visitors: (158579, 19822, 19822)\n"
     ]
    },
    {
     "ename": "NameError",
     "evalue": "name 'sessions_of_visitors' is not defined",
     "output_type": "error",
     "traceback": [
      "\u001B[1;31m---------------------------------------------------------------------------\u001B[0m",
      "\u001B[1;31mNameError\u001B[0m                                 Traceback (most recent call last)",
      "Cell \u001B[1;32mIn[129], line 6\u001B[0m\n\u001B[0;32m      4\u001B[0m train_sessions, val_sessions, test_sessions \u001B[38;5;241m=\u001B[39m [], [], []\n\u001B[0;32m      5\u001B[0m \u001B[38;5;28;01mfor\u001B[39;00m visitor \u001B[38;5;129;01min\u001B[39;00m train_visitors:\n\u001B[1;32m----> 6\u001B[0m     train_sessions\u001B[38;5;241m.\u001B[39mextend(extract_subsessions(\u001B[43msessions_of_visitors\u001B[49m[visitor]))\n\u001B[0;32m      7\u001B[0m \u001B[38;5;28;01mfor\u001B[39;00m visitor \u001B[38;5;129;01min\u001B[39;00m val_visitors:\n\u001B[0;32m      8\u001B[0m     val_sessions\u001B[38;5;241m.\u001B[39mextend(extract_subsessions(sessions_of_visitors[visitor]))\n",
      "\u001B[1;31mNameError\u001B[0m: name 'sessions_of_visitors' is not defined"
     ]
    }
   ],
   "execution_count": 129
  },
  {
   "cell_type": "code",
   "metadata": {
    "colab": {
     "base_uri": "https://localhost:8080/"
    },
    "id": "sHNN9AV55P-v",
    "outputId": "538dbb6d-b5c2-4498-c502-9a5e95bf76e5",
    "ExecuteTime": {
     "end_time": "2025-04-02T11:09:57.325340Z",
     "start_time": "2025-04-02T11:09:57.068200Z"
    }
   },
   "source": [
    "# Check the number of (sub)sessions in each split\n",
    "print(f'train, val, and test sessions: {len(train_sessions), len(val_sessions), len(test_sessions)}')\n",
    "\n",
    "# Save the processed files.\n",
    "with open('raw/train.txt', 'wb') as f:\n",
    "    pickle.dump(train_sessions, f)\n",
    "with open('raw/val.txt', 'wb') as f:\n",
    "    pickle.dump(val_sessions, f)\n",
    "with open('raw/test.txt', 'wb') as f:\n",
    "    pickle.dump(test_sessions, f)"
   ],
   "outputs": [
    {
     "name": "stdout",
     "output_type": "stream",
     "text": [
      "train, val, and test sessions: (373755, 49563, 52584)\n"
     ]
    }
   ],
   "execution_count": 108
  },
  {
   "cell_type": "code",
   "metadata": {
    "id": "82KWESLd-1gV",
    "ExecuteTime": {
     "end_time": "2025-04-02T11:09:58.297450Z",
     "start_time": "2025-04-02T11:09:58.284074Z"
    }
   },
   "source": [
    "class GraphDataset(pyg_data.InMemoryDataset):\n",
    "    def __init__(self, root, file_name, transform=None, pre_transform=None):\n",
    "        self.file_name = file_name\n",
    "        super().__init__(root, transform, pre_transform)\n",
    "        self.data, self.slices = torch.load(self.processed_paths[0], weights_only=False)\n",
    "\n",
    "    @property\n",
    "    def raw_file_names(self):\n",
    "        return [f'{self.file_name}.txt']\n",
    "\n",
    "    @property\n",
    "    def processed_file_names(self):\n",
    "        return [f'{self.file_name}.pt']\n",
    "\n",
    "    def download(self):\n",
    "        pass\n",
    "\n",
    "    def process(self):\n",
    "        raw_data_file = f'{self.raw_dir}/{self.raw_file_names[0]}'\n",
    "        with open(raw_data_file, 'rb') as f:\n",
    "            sessions = pickle.load(f)\n",
    "        data_list = []\n",
    "\n",
    "        for session in sessions:\n",
    "            session, y = session[:-1], session[-1]\n",
    "            codes, uniques = pd.factorize(session)\n",
    "            senders, receivers = codes[:-1], codes[1:]\n",
    "\n",
    "            # Build Data instance\n",
    "            edge_index = torch.tensor(np.array([senders, receivers]))\n",
    "            x = torch.tensor(uniques, dtype=torch.long).unsqueeze(1)\n",
    "            y = torch.tensor([y], dtype=torch.long)\n",
    "            data_list.append(pyg_data.Data(x=x, edge_index=edge_index, y=y))\n",
    "\n",
    "        data, slices = self.collate(data_list)\n",
    "        torch.save((data, slices), self.processed_paths[0])"
   ],
   "outputs": [],
   "execution_count": 109
  },
  {
   "cell_type": "code",
   "metadata": {
    "id": "7K3HWrcwqp0Z",
    "ExecuteTime": {
     "end_time": "2025-04-02T11:09:59.075403Z",
     "start_time": "2025-04-02T11:09:59.062295Z"
    }
   },
   "source": [
    "class GatedSessionGraphConv(pyg.nn.conv.MessagePassing):\n",
    "    def __init__(self, out_channels, aggr: str = 'add', **kwargs):\n",
    "        super().__init__(aggr=aggr, **kwargs)\n",
    "\n",
    "        self.out_channels = out_channels\n",
    "\n",
    "        self.gru = torch.nn.GRUCell(out_channels, out_channels, bias=False)\n",
    "\n",
    "    # forward() function will contain following two things\n",
    "              ## 1. Message propagation to create and use an adjacency matrix (self.propagate).\n",
    "              ## 2. The GRU cell (self.gru)\n",
    "\n",
    "    def forward(self, x, edge_index):\n",
    "        m = self.propagate(edge_index, x=x, size=None)\n",
    "        x = self.gru(m, x)\n",
    "        return x\n",
    "\n",
    "    def message(self, x_j):\n",
    "        return x_j\n",
    "\n",
    "    # the `message_and_aggregate()` function will simply multiply our adjacency matrix with the node embeddings\n",
    "    def message_and_aggregate(self, adj_t, x):\n",
    "        return matmul(adj_t, x, reduce=self.aggr)"
   ],
   "outputs": [],
   "execution_count": 110
  },
  {
   "cell_type": "code",
   "metadata": {
    "id": "TNsAHq8PCN3k",
    "ExecuteTime": {
     "end_time": "2025-04-02T11:09:59.792428Z",
     "start_time": "2025-04-02T11:09:59.778425Z"
    }
   },
   "source": [
    "class SRGNN(nn.Module):\n",
    "    def __init__(self, hidden_size, n_items):\n",
    "        super(SRGNN, self).__init__()\n",
    "        self.hidden_size = hidden_size\n",
    "        self.n_items = n_items\n",
    "\n",
    "        self.embedding = nn.Embedding(self.n_items, self.hidden_size)\n",
    "        # use message-passing class inside the SRGNN class\n",
    "        self.gated = GatedSessionGraphConv(self.hidden_size)\n",
    "\n",
    "        self.q = nn.Linear(self.hidden_size, 1)\n",
    "        self.W_1 = nn.Linear(self.hidden_size, self.hidden_size, bias=False)\n",
    "        self.W_2 = nn.Linear(self.hidden_size, self.hidden_size)\n",
    "        self.W_3 = nn.Linear(2 * self.hidden_size, self.hidden_size, bias=False)\n",
    "\n",
    "    def reset_parameters(self):\n",
    "        stdv = 1.0 / math.sqrt(self.hidden_size)\n",
    "        for weight in self.parameters():\n",
    "            weight.data.uniform_(-stdv, stdv)\n",
    "\n",
    "    def forward(self, data):\n",
    "        x, edge_index, batch_map = data.x, data.edge_index, data.batch\n",
    "\n",
    "        # (0) \n",
    "        embedding = self.embedding(x).squeeze()\n",
    "\n",
    "        # (1)-(5) \n",
    "        v_i = self.gated(embedding, edge_index)\n",
    "\n",
    "        # Divide nodes by session\n",
    "        sections = list(torch.bincount(batch_map).cpu())\n",
    "        v_i_split = torch.split(v_i, sections)\n",
    "\n",
    "        v_n, v_n_repeat = [], []\n",
    "        for session in v_i_split:\n",
    "            v_n.append(session[-1])\n",
    "            v_n_repeat.append(\n",
    "                session[-1].view(1, -1).repeat(session.shape[0], 1))\n",
    "        v_n, v_n_repeat = torch.stack(v_n), torch.cat(v_n_repeat, dim=0)\n",
    "\n",
    "        q1 = self.W_1(v_n_repeat)\n",
    "        q2 = self.W_2(v_i)\n",
    "\n",
    "        # (6) creating global Embedding : The global embedding is the weighted average of the embeddings of the items in the session. \n",
    "        alpha = self.q(F.sigmoid(q1 + q2))\n",
    "        s_g_split = torch.split(alpha * v_i, sections)\n",
    "\n",
    "        s_g = []\n",
    "        for session in s_g_split:\n",
    "            s_g_session = torch.sum(session, dim=0)\n",
    "            s_g.append(s_g_session)\n",
    "        s_g = torch.stack(s_g)\n",
    "\n",
    "        # (7) The final hybrid embedding of a session is created by first concatenating the local and global embeddings\n",
    "        s_l = v_n # local Embedding\n",
    "        s_h = self.W_3(torch.cat([s_l, s_g], dim=-1))\n",
    "\n",
    "        # (8) The final scores of each item are computed by computing the cosine similarity between the session embedding (1 x d) \n",
    "        # and the embeddings of all 466867 unique items (466867 x d)\n",
    "        z = torch.mm(self.embedding.weight, s_h.T).T\n",
    "        return z"
   ],
   "outputs": [],
   "execution_count": 111
  },
  {
   "cell_type": "code",
   "metadata": {
    "ExecuteTime": {
     "end_time": "2025-04-02T11:10:01.373967Z",
     "start_time": "2025-04-02T11:10:01.367166Z"
    }
   },
   "source": [
    "import torch\n",
    "print(torch.__version__)\n",
    "print(torch.backends.cudnn.enabled)\n"
   ],
   "outputs": [
    {
     "name": "stdout",
     "output_type": "stream",
     "text": [
      "2.6.0+cu126\n",
      "True\n"
     ]
    }
   ],
   "execution_count": 112
  },
  {
   "cell_type": "code",
   "metadata": {
    "ExecuteTime": {
     "end_time": "2025-04-02T11:10:02.269870Z",
     "start_time": "2025-04-02T11:10:02.262801Z"
    }
   },
   "source": [
    "import sys\n",
    "print(sys.executable)\n"
   ],
   "outputs": [
    {
     "name": "stdout",
     "output_type": "stream",
     "text": [
      "C:\\Users\\USER\\Desktop\\ML viva\\.venv\\Scripts\\python.exe\n"
     ]
    }
   ],
   "execution_count": 113
  },
  {
   "cell_type": "code",
   "metadata": {
    "ExecuteTime": {
     "end_time": "2025-04-02T11:10:03.167199Z",
     "start_time": "2025-04-02T11:10:03.151847Z"
    }
   },
   "source": [
    "import torch\n",
    "print(\"PyTorch Version:\", torch.__version__)\n",
    "print(\"CUDA Available:\", torch.cuda.is_available())\n",
    "print(\"CUDA Version:\", torch.version.cuda)\n",
    "print(\"GPU Name:\", torch.cuda.get_device_name(0) if torch.cuda.is_available() else \"No GPU\")\n"
   ],
   "outputs": [
    {
     "name": "stdout",
     "output_type": "stream",
     "text": [
      "PyTorch Version: 2.6.0+cu126\n",
      "CUDA Available: True\n",
      "CUDA Version: 12.6\n",
      "GPU Name: NVIDIA GeForce RTX 3050 6GB Laptop GPU\n"
     ]
    }
   ],
   "execution_count": 114
  },
  {
   "cell_type": "code",
   "metadata": {
    "id": "5gMZqEW81HYj",
    "ExecuteTime": {
     "end_time": "2025-04-02T11:10:04.208813Z",
     "start_time": "2025-04-02T11:10:04.200463Z"
    }
   },
   "source": [
    "# Define the hyperparameters.\n",
    "# Code taken from 2021 Fall CS224W Colab assignments.\n",
    "args = {\n",
    "    'batch_size': 128,\n",
    "    'hidden_dim': 64,\n",
    "    'epochs': 10,\n",
    "    'l2_penalty': 0.0001,\n",
    "    'weight_decay': 0.1,\n",
    "    'step': 5,\n",
    "    'lr': 0.001,\n",
    "    'num_items': 466868}\n",
    "\n",
    "class objectview(object):\n",
    "    def __init__(self, d): \n",
    "        self.__dict__ = d\n",
    "\n",
    "args = objectview(args)"
   ],
   "outputs": [],
   "execution_count": 115
  },
  {
   "cell_type": "code",
   "metadata": {
    "ExecuteTime": {
     "end_time": "2025-04-01T17:33:04.862546Z",
     "start_time": "2025-04-01T17:33:04.846364Z"
    }
   },
   "source": [
    "print(\"w\")"
   ],
   "outputs": [
    {
     "name": "stdout",
     "output_type": "stream",
     "text": [
      "w\n"
     ]
    }
   ],
   "execution_count": 23
  },
  {
   "cell_type": "code",
   "metadata": {
    "id": "8iVoTPoJAKkU",
    "ExecuteTime": {
     "end_time": "2025-04-02T11:10:07.179770Z",
     "start_time": "2025-04-02T11:10:07.167466Z"
    }
   },
   "source": [
    "def train(args):\n",
    "    # Prepare data pipeline\n",
    "    train_dataset = GraphDataset('./', 'train')\n",
    "    train_loader = pyg_data.DataLoader(train_dataset,\n",
    "                                       batch_size=args.batch_size,\n",
    "                                       shuffle=False,\n",
    "                                       drop_last=True)\n",
    "    val_dataset = GraphDataset('./', 'val')\n",
    "    val_loader = pyg_data.DataLoader(val_dataset,\n",
    "                                     batch_size=args.batch_size,\n",
    "                                     shuffle=False,\n",
    "                                     drop_last=True)\n",
    "\n",
    "    device = torch.device(\"cuda\")\n",
    "\n",
    "    # Build model\n",
    "    model = SRGNN(args.hidden_dim, args.num_items).to(device)\n",
    "\n",
    "    # Get training components\n",
    "    optimizer = torch.optim.Adam(model.parameters(),\n",
    "                                 lr=args.lr,\n",
    "                                 weight_decay=args.l2_penalty)\n",
    "    scheduler = optim.lr_scheduler.StepLR(optimizer,\n",
    "                                          step_size=args.step,\n",
    "                                          gamma=args.weight_decay)\n",
    "    criterion = nn.CrossEntropyLoss()\n",
    "\n",
    "    # Train\n",
    "    losses = []\n",
    "    test_accs = []\n",
    "    top_k_accs = []\n",
    "\n",
    "    best_acc = 0\n",
    "    best_model = None\n",
    "\n",
    "    for epoch in range(args.epochs):\n",
    "        total_loss = 0\n",
    "        model.train()\n",
    "        for _, batch in enumerate(tqdm(train_loader)):\n",
    "            batch.to(device)\n",
    "            optimizer.zero_grad()\n",
    "\n",
    "            pred = model(batch)\n",
    "            label = batch.y\n",
    "            loss = criterion(pred, label)\n",
    "\n",
    "            loss.backward()\n",
    "            optimizer.step()\n",
    "            total_loss += loss.item() * batch.num_graphs\n",
    "\n",
    "        total_loss /= len(train_loader.dataset)\n",
    "        losses.append(total_loss)\n",
    "\n",
    "        scheduler.step()\n",
    "\n",
    "        if epoch % 1 == 0:\n",
    "          test_acc, top_k_acc = test(val_loader, model, is_validation=True)\n",
    "          print(test_acc)\n",
    "          test_accs.append(test_acc)\n",
    "          top_k_accs.append(top_k_acc)\n",
    "          if test_acc > best_acc:\n",
    "            best_acc = test_acc\n",
    "            best_model = copy.deepcopy(model)\n",
    "        else:\n",
    "          test_accs.append(test_accs[-1])\n",
    "  \n",
    "    return test_accs, top_k_accs, losses, best_model, best_acc, val_loader"
   ],
   "outputs": [],
   "execution_count": 116
  },
  {
   "cell_type": "code",
   "execution_count": 25,
   "metadata": {
    "ExecuteTime": {
     "end_time": "2025-03-28T19:07:31.750123Z",
     "start_time": "2025-03-28T19:07:31.742101Z"
    },
    "id": "UTiJJ1pm0ks9"
   },
   "outputs": [
    {
     "name": "stderr",
     "output_type": "stream",
     "text": [
      "  1%|█▊                                                                                                                     | 11/747 [00:02<05:31,  2.22it/s]"
     ]
    },
    {
     "name": "stdout",
     "output_type": "stream",
     "text": [
      "Processed 10 batches\n"
     ]
    },
    {
     "name": "stderr",
     "output_type": "stream",
     "text": [
      "  3%|███▎                                                                                                                   | 21/747 [00:05<05:15,  2.30it/s]"
     ]
    },
    {
     "name": "stdout",
     "output_type": "stream",
     "text": [
      "Processed 20 batches\n"
     ]
    },
    {
     "name": "stderr",
     "output_type": "stream",
     "text": [
      "  4%|████▉                                                                                                                  | 31/747 [00:08<04:56,  2.41it/s]"
     ]
    },
    {
     "name": "stdout",
     "output_type": "stream",
     "text": [
      "Processed 30 batches\n"
     ]
    },
    {
     "name": "stderr",
     "output_type": "stream",
     "text": [
      "  5%|██████▌                                                                                                                | 41/747 [00:11<05:39,  2.08it/s]"
     ]
    },
    {
     "name": "stdout",
     "output_type": "stream",
     "text": [
      "Processed 40 batches\n"
     ]
    },
    {
     "name": "stderr",
     "output_type": "stream",
     "text": [
      "  7%|████████                                                                                                               | 51/747 [00:13<04:57,  2.34it/s]"
     ]
    },
    {
     "name": "stdout",
     "output_type": "stream",
     "text": [
      "Processed 50 batches\n"
     ]
    },
    {
     "name": "stderr",
     "output_type": "stream",
     "text": [
      "  8%|█████████▋                                                                                                             | 61/747 [00:16<04:45,  2.40it/s]"
     ]
    },
    {
     "name": "stdout",
     "output_type": "stream",
     "text": [
      "Processed 60 batches\n"
     ]
    },
    {
     "name": "stderr",
     "output_type": "stream",
     "text": [
      " 10%|███████████▎                                                                                                           | 71/747 [00:19<04:56,  2.28it/s]"
     ]
    },
    {
     "name": "stdout",
     "output_type": "stream",
     "text": [
      "Processed 70 batches\n"
     ]
    },
    {
     "name": "stderr",
     "output_type": "stream",
     "text": [
      " 11%|████████████▉                                                                                                          | 81/747 [00:21<04:36,  2.41it/s]"
     ]
    },
    {
     "name": "stdout",
     "output_type": "stream",
     "text": [
      "Processed 80 batches\n"
     ]
    },
    {
     "name": "stderr",
     "output_type": "stream",
     "text": [
      " 12%|██████████████▍                                                                                                        | 91/747 [00:24<04:53,  2.24it/s]"
     ]
    },
    {
     "name": "stdout",
     "output_type": "stream",
     "text": [
      "Processed 90 batches\n"
     ]
    },
    {
     "name": "stderr",
     "output_type": "stream",
     "text": [
      " 14%|███████████████▉                                                                                                      | 101/747 [00:27<04:32,  2.37it/s]"
     ]
    },
    {
     "name": "stdout",
     "output_type": "stream",
     "text": [
      "Processed 100 batches\n"
     ]
    },
    {
     "name": "stderr",
     "output_type": "stream",
     "text": [
      " 15%|█████████████████▌                                                                                                    | 111/747 [00:29<04:29,  2.36it/s]"
     ]
    },
    {
     "name": "stdout",
     "output_type": "stream",
     "text": [
      "Processed 110 batches\n"
     ]
    },
    {
     "name": "stderr",
     "output_type": "stream",
     "text": [
      " 16%|███████████████████                                                                                                   | 121/747 [00:32<04:23,  2.38it/s]"
     ]
    },
    {
     "name": "stdout",
     "output_type": "stream",
     "text": [
      "Processed 120 batches\n"
     ]
    },
    {
     "name": "stderr",
     "output_type": "stream",
     "text": [
      " 18%|████████████████████▋                                                                                                 | 131/747 [00:35<04:23,  2.34it/s]"
     ]
    },
    {
     "name": "stdout",
     "output_type": "stream",
     "text": [
      "Processed 130 batches\n"
     ]
    },
    {
     "name": "stderr",
     "output_type": "stream",
     "text": [
      " 19%|██████████████████████▎                                                                                               | 141/747 [00:37<03:43,  2.71it/s]"
     ]
    },
    {
     "name": "stdout",
     "output_type": "stream",
     "text": [
      "Processed 140 batches\n"
     ]
    },
    {
     "name": "stderr",
     "output_type": "stream",
     "text": [
      " 20%|███████████████████████▊                                                                                              | 151/747 [00:40<04:45,  2.09it/s]"
     ]
    },
    {
     "name": "stdout",
     "output_type": "stream",
     "text": [
      "Processed 150 batches\n"
     ]
    },
    {
     "name": "stderr",
     "output_type": "stream",
     "text": [
      " 22%|█████████████████████████▍                                                                                            | 161/747 [00:43<03:39,  2.67it/s]"
     ]
    },
    {
     "name": "stdout",
     "output_type": "stream",
     "text": [
      "Processed 160 batches\n"
     ]
    },
    {
     "name": "stderr",
     "output_type": "stream",
     "text": [
      " 23%|███████████████████████████                                                                                           | 171/747 [00:46<04:09,  2.31it/s]"
     ]
    },
    {
     "name": "stdout",
     "output_type": "stream",
     "text": [
      "Processed 170 batches\n"
     ]
    },
    {
     "name": "stderr",
     "output_type": "stream",
     "text": [
      " 24%|████████████████████████████▌                                                                                         | 181/747 [00:48<04:00,  2.36it/s]"
     ]
    },
    {
     "name": "stdout",
     "output_type": "stream",
     "text": [
      "Processed 180 batches\n"
     ]
    },
    {
     "name": "stderr",
     "output_type": "stream",
     "text": [
      " 26%|██████████████████████████████▏                                                                                       | 191/747 [00:51<03:36,  2.57it/s]"
     ]
    },
    {
     "name": "stdout",
     "output_type": "stream",
     "text": [
      "Processed 190 batches\n"
     ]
    },
    {
     "name": "stderr",
     "output_type": "stream",
     "text": [
      " 27%|███████████████████████████████▊                                                                                      | 201/747 [00:54<03:44,  2.43it/s]"
     ]
    },
    {
     "name": "stdout",
     "output_type": "stream",
     "text": [
      "Processed 200 batches\n"
     ]
    },
    {
     "name": "stderr",
     "output_type": "stream",
     "text": [
      " 28%|█████████████████████████████████▎                                                                                    | 211/747 [00:56<03:45,  2.38it/s]"
     ]
    },
    {
     "name": "stdout",
     "output_type": "stream",
     "text": [
      "Processed 210 batches\n"
     ]
    },
    {
     "name": "stderr",
     "output_type": "stream",
     "text": [
      " 30%|██████████████████████████████████▉                                                                                   | 221/747 [00:59<03:48,  2.31it/s]"
     ]
    },
    {
     "name": "stdout",
     "output_type": "stream",
     "text": [
      "Processed 220 batches\n"
     ]
    },
    {
     "name": "stderr",
     "output_type": "stream",
     "text": [
      " 31%|████████████████████████████████████▍                                                                                 | 231/747 [01:01<03:13,  2.66it/s]"
     ]
    },
    {
     "name": "stdout",
     "output_type": "stream",
     "text": [
      "Processed 230 batches\n"
     ]
    },
    {
     "name": "stderr",
     "output_type": "stream",
     "text": [
      " 32%|██████████████████████████████████████                                                                                | 241/747 [01:04<03:44,  2.25it/s]"
     ]
    },
    {
     "name": "stdout",
     "output_type": "stream",
     "text": [
      "Processed 240 batches\n"
     ]
    },
    {
     "name": "stderr",
     "output_type": "stream",
     "text": [
      " 34%|███████████████████████████████████████▋                                                                              | 251/747 [01:07<03:16,  2.53it/s]"
     ]
    },
    {
     "name": "stdout",
     "output_type": "stream",
     "text": [
      "Processed 250 batches\n"
     ]
    },
    {
     "name": "stderr",
     "output_type": "stream",
     "text": [
      " 35%|█████████████████████████████████████████▍                                                                            | 262/747 [01:10<02:52,  2.81it/s]"
     ]
    },
    {
     "name": "stdout",
     "output_type": "stream",
     "text": [
      "Processed 260 batches\n"
     ]
    },
    {
     "name": "stderr",
     "output_type": "stream",
     "text": [
      " 36%|██████████████████████████████████████████▊                                                                           | 271/747 [01:12<03:11,  2.48it/s]"
     ]
    },
    {
     "name": "stdout",
     "output_type": "stream",
     "text": [
      "Processed 270 batches\n"
     ]
    },
    {
     "name": "stderr",
     "output_type": "stream",
     "text": [
      " 38%|████████████████████████████████████████████▍                                                                         | 281/747 [01:15<03:28,  2.24it/s]"
     ]
    },
    {
     "name": "stdout",
     "output_type": "stream",
     "text": [
      "Processed 280 batches\n"
     ]
    },
    {
     "name": "stderr",
     "output_type": "stream",
     "text": [
      " 39%|█████████████████████████████████████████████▉                                                                        | 291/747 [01:18<03:17,  2.31it/s]"
     ]
    },
    {
     "name": "stdout",
     "output_type": "stream",
     "text": [
      "Processed 290 batches\n"
     ]
    },
    {
     "name": "stderr",
     "output_type": "stream",
     "text": [
      " 40%|███████████████████████████████████████████████▌                                                                      | 301/747 [01:20<03:09,  2.35it/s]"
     ]
    },
    {
     "name": "stdout",
     "output_type": "stream",
     "text": [
      "Processed 300 batches\n"
     ]
    },
    {
     "name": "stderr",
     "output_type": "stream",
     "text": [
      " 42%|█████████████████████████████████████████████████▏                                                                    | 311/747 [01:23<02:46,  2.62it/s]"
     ]
    },
    {
     "name": "stdout",
     "output_type": "stream",
     "text": [
      "Processed 310 batches\n"
     ]
    },
    {
     "name": "stderr",
     "output_type": "stream",
     "text": [
      " 43%|██████████████████████████████████████████████████▋                                                                   | 321/747 [01:26<03:13,  2.20it/s]"
     ]
    },
    {
     "name": "stdout",
     "output_type": "stream",
     "text": [
      "Processed 320 batches\n"
     ]
    },
    {
     "name": "stderr",
     "output_type": "stream",
     "text": [
      " 44%|████████████████████████████████████████████████████▎                                                                 | 331/747 [01:29<02:56,  2.35it/s]"
     ]
    },
    {
     "name": "stdout",
     "output_type": "stream",
     "text": [
      "Processed 330 batches\n"
     ]
    },
    {
     "name": "stderr",
     "output_type": "stream",
     "text": [
      " 46%|█████████████████████████████████████████████████████▊                                                                | 341/747 [01:31<02:37,  2.58it/s]"
     ]
    },
    {
     "name": "stdout",
     "output_type": "stream",
     "text": [
      "Processed 340 batches\n"
     ]
    },
    {
     "name": "stderr",
     "output_type": "stream",
     "text": [
      " 47%|███████████████████████████████████████████████████████▍                                                              | 351/747 [01:34<02:29,  2.65it/s]"
     ]
    },
    {
     "name": "stdout",
     "output_type": "stream",
     "text": [
      "Processed 350 batches\n"
     ]
    },
    {
     "name": "stderr",
     "output_type": "stream",
     "text": [
      " 48%|█████████████████████████████████████████████████████████                                                             | 361/747 [01:36<02:38,  2.43it/s]"
     ]
    },
    {
     "name": "stdout",
     "output_type": "stream",
     "text": [
      "Processed 360 batches\n"
     ]
    },
    {
     "name": "stderr",
     "output_type": "stream",
     "text": [
      " 50%|██████████████████████████████████████████████████████████▌                                                           | 371/747 [01:39<02:36,  2.40it/s]"
     ]
    },
    {
     "name": "stdout",
     "output_type": "stream",
     "text": [
      "Processed 370 batches\n"
     ]
    },
    {
     "name": "stderr",
     "output_type": "stream",
     "text": [
      " 51%|████████████████████████████████████████████████████████████▏                                                         | 381/747 [01:41<02:28,  2.47it/s]"
     ]
    },
    {
     "name": "stdout",
     "output_type": "stream",
     "text": [
      "Processed 380 batches\n"
     ]
    },
    {
     "name": "stderr",
     "output_type": "stream",
     "text": [
      " 52%|█████████████████████████████████████████████████████████████▊                                                        | 391/747 [01:44<02:28,  2.40it/s]"
     ]
    },
    {
     "name": "stdout",
     "output_type": "stream",
     "text": [
      "Processed 390 batches\n"
     ]
    },
    {
     "name": "stderr",
     "output_type": "stream",
     "text": [
      " 54%|███████████████████████████████████████████████████████████████▎                                                      | 401/747 [01:47<02:09,  2.68it/s]"
     ]
    },
    {
     "name": "stdout",
     "output_type": "stream",
     "text": [
      "Processed 400 batches\n"
     ]
    },
    {
     "name": "stderr",
     "output_type": "stream",
     "text": [
      " 55%|████████████████████████████████████████████████████████████████▉                                                     | 411/747 [01:49<02:01,  2.76it/s]"
     ]
    },
    {
     "name": "stdout",
     "output_type": "stream",
     "text": [
      "Processed 410 batches\n"
     ]
    },
    {
     "name": "stderr",
     "output_type": "stream",
     "text": [
      " 56%|██████████████████████████████████████████████████████████████████▌                                                   | 421/747 [01:52<02:18,  2.35it/s]"
     ]
    },
    {
     "name": "stdout",
     "output_type": "stream",
     "text": [
      "Processed 420 batches\n"
     ]
    },
    {
     "name": "stderr",
     "output_type": "stream",
     "text": [
      " 58%|████████████████████████████████████████████████████████████████████                                                  | 431/747 [01:55<02:07,  2.49it/s]"
     ]
    },
    {
     "name": "stdout",
     "output_type": "stream",
     "text": [
      "Processed 430 batches\n"
     ]
    },
    {
     "name": "stderr",
     "output_type": "stream",
     "text": [
      " 59%|█████████████████████████████████████████████████████████████████████▋                                                | 441/747 [01:57<02:12,  2.30it/s]"
     ]
    },
    {
     "name": "stdout",
     "output_type": "stream",
     "text": [
      "Processed 440 batches\n"
     ]
    },
    {
     "name": "stderr",
     "output_type": "stream",
     "text": [
      " 60%|███████████████████████████████████████████████████████████████████████▏                                              | 451/747 [02:00<02:03,  2.40it/s]"
     ]
    },
    {
     "name": "stdout",
     "output_type": "stream",
     "text": [
      "Processed 450 batches\n"
     ]
    },
    {
     "name": "stderr",
     "output_type": "stream",
     "text": [
      " 62%|████████████████████████████████████████████████████████████████████████▊                                             | 461/747 [02:02<01:58,  2.42it/s]"
     ]
    },
    {
     "name": "stdout",
     "output_type": "stream",
     "text": [
      "Processed 460 batches\n"
     ]
    },
    {
     "name": "stderr",
     "output_type": "stream",
     "text": [
      " 63%|██████████████████████████████████████████████████████████████████████████▍                                           | 471/747 [02:05<01:54,  2.41it/s]"
     ]
    },
    {
     "name": "stdout",
     "output_type": "stream",
     "text": [
      "Processed 470 batches\n"
     ]
    },
    {
     "name": "stderr",
     "output_type": "stream",
     "text": [
      " 64%|███████████████████████████████████████████████████████████████████████████▉                                          | 481/747 [02:08<01:54,  2.33it/s]"
     ]
    },
    {
     "name": "stdout",
     "output_type": "stream",
     "text": [
      "Processed 480 batches\n"
     ]
    },
    {
     "name": "stderr",
     "output_type": "stream",
     "text": [
      " 66%|█████████████████████████████████████████████████████████████████████████████▌                                        | 491/747 [02:10<01:32,  2.76it/s]"
     ]
    },
    {
     "name": "stdout",
     "output_type": "stream",
     "text": [
      "Processed 490 batches\n"
     ]
    },
    {
     "name": "stderr",
     "output_type": "stream",
     "text": [
      " 67%|███████████████████████████████████████████████████████████████████████████████▏                                      | 501/747 [02:13<01:39,  2.48it/s]"
     ]
    },
    {
     "name": "stdout",
     "output_type": "stream",
     "text": [
      "Processed 500 batches\n"
     ]
    },
    {
     "name": "stderr",
     "output_type": "stream",
     "text": [
      " 68%|████████████████████████████████████████████████████████████████████████████████▋                                     | 511/747 [02:16<01:43,  2.27it/s]"
     ]
    },
    {
     "name": "stdout",
     "output_type": "stream",
     "text": [
      "Processed 510 batches\n"
     ]
    },
    {
     "name": "stderr",
     "output_type": "stream",
     "text": [
      " 70%|██████████████████████████████████████████████████████████████████████████████████▎                                   | 521/747 [02:19<01:34,  2.39it/s]"
     ]
    },
    {
     "name": "stdout",
     "output_type": "stream",
     "text": [
      "Processed 520 batches\n"
     ]
    },
    {
     "name": "stderr",
     "output_type": "stream",
     "text": [
      " 71%|███████████████████████████████████████████████████████████████████████████████████▋                                  | 530/747 [02:21<02:10,  1.66it/s]"
     ]
    },
    {
     "name": "stdout",
     "output_type": "stream",
     "text": [
      "Processed 530 batches\n"
     ]
    },
    {
     "name": "stderr",
     "output_type": "stream",
     "text": [
      " 72%|█████████████████████████████████████████████████████████████████████████████████████▍                                | 541/747 [02:24<01:26,  2.37it/s]"
     ]
    },
    {
     "name": "stdout",
     "output_type": "stream",
     "text": [
      "Processed 540 batches\n"
     ]
    },
    {
     "name": "stderr",
     "output_type": "stream",
     "text": [
      " 74%|███████████████████████████████████████████████████████████████████████████████████████                               | 551/747 [02:27<01:27,  2.24it/s]"
     ]
    },
    {
     "name": "stdout",
     "output_type": "stream",
     "text": [
      "Processed 550 batches\n"
     ]
    },
    {
     "name": "stderr",
     "output_type": "stream",
     "text": [
      " 75%|████████████████████████████████████████████████████████████████████████████████████████▌                             | 561/747 [02:29<01:12,  2.57it/s]"
     ]
    },
    {
     "name": "stdout",
     "output_type": "stream",
     "text": [
      "Processed 560 batches\n"
     ]
    },
    {
     "name": "stderr",
     "output_type": "stream",
     "text": [
      " 76%|██████████████████████████████████████████████████████████████████████████████████████████▏                           | 571/747 [02:32<01:25,  2.06it/s]"
     ]
    },
    {
     "name": "stdout",
     "output_type": "stream",
     "text": [
      "Processed 570 batches\n"
     ]
    },
    {
     "name": "stderr",
     "output_type": "stream",
     "text": [
      " 78%|███████████████████████████████████████████████████████████████████████████████████████████▊                          | 581/747 [02:35<01:15,  2.20it/s]"
     ]
    },
    {
     "name": "stdout",
     "output_type": "stream",
     "text": [
      "Processed 580 batches\n"
     ]
    },
    {
     "name": "stderr",
     "output_type": "stream",
     "text": [
      " 79%|█████████████████████████████████████████████████████████████████████████████████████████████▎                        | 591/747 [02:38<01:11,  2.18it/s]"
     ]
    },
    {
     "name": "stdout",
     "output_type": "stream",
     "text": [
      "Processed 590 batches\n"
     ]
    },
    {
     "name": "stderr",
     "output_type": "stream",
     "text": [
      " 80%|██████████████████████████████████████████████████████████████████████████████████████████████▊                       | 600/747 [02:41<01:07,  2.19it/s]"
     ]
    },
    {
     "name": "stdout",
     "output_type": "stream",
     "text": [
      "Processed 600 batches\n"
     ]
    },
    {
     "name": "stderr",
     "output_type": "stream",
     "text": [
      " 82%|████████████████████████████████████████████████████████████████████████████████████████████████▌                     | 611/747 [02:43<00:46,  2.95it/s]"
     ]
    },
    {
     "name": "stdout",
     "output_type": "stream",
     "text": [
      "Processed 610 batches\n"
     ]
    },
    {
     "name": "stderr",
     "output_type": "stream",
     "text": [
      " 83%|██████████████████████████████████████████████████████████████████████████████████████████████████                    | 621/747 [02:46<00:52,  2.38it/s]"
     ]
    },
    {
     "name": "stdout",
     "output_type": "stream",
     "text": [
      "Processed 620 batches\n"
     ]
    },
    {
     "name": "stderr",
     "output_type": "stream",
     "text": [
      " 84%|███████████████████████████████████████████████████████████████████████████████████████████████████▋                  | 631/747 [02:49<00:49,  2.34it/s]"
     ]
    },
    {
     "name": "stdout",
     "output_type": "stream",
     "text": [
      "Processed 630 batches\n"
     ]
    },
    {
     "name": "stderr",
     "output_type": "stream",
     "text": [
      " 86%|█████████████████████████████████████████████████████████████████████████████████████████████████████▎                | 641/747 [02:51<00:46,  2.29it/s]"
     ]
    },
    {
     "name": "stdout",
     "output_type": "stream",
     "text": [
      "Processed 640 batches\n"
     ]
    },
    {
     "name": "stderr",
     "output_type": "stream",
     "text": [
      " 87%|██████████████████████████████████████████████████████████████████████████████████████████████████████▋               | 650/747 [02:54<00:53,  1.82it/s]"
     ]
    },
    {
     "name": "stdout",
     "output_type": "stream",
     "text": [
      "Processed 650 batches\n"
     ]
    },
    {
     "name": "stderr",
     "output_type": "stream",
     "text": [
      " 88%|████████████████████████████████████████████████████████████████████████████████████████████████████████▍             | 661/747 [02:57<00:36,  2.35it/s]"
     ]
    },
    {
     "name": "stdout",
     "output_type": "stream",
     "text": [
      "Processed 660 batches\n"
     ]
    },
    {
     "name": "stderr",
     "output_type": "stream",
     "text": [
      " 90%|█████████████████████████████████████████████████████████████████████████████████████████████████████████▊            | 670/747 [02:59<00:45,  1.69it/s]"
     ]
    },
    {
     "name": "stdout",
     "output_type": "stream",
     "text": [
      "Processed 670 batches\n"
     ]
    },
    {
     "name": "stderr",
     "output_type": "stream",
     "text": [
      " 91%|███████████████████████████████████████████████████████████████████████████████████████████████████████████▌          | 681/747 [03:02<00:26,  2.53it/s]"
     ]
    },
    {
     "name": "stdout",
     "output_type": "stream",
     "text": [
      "Processed 680 batches\n"
     ]
    },
    {
     "name": "stderr",
     "output_type": "stream",
     "text": [
      " 93%|█████████████████████████████████████████████████████████████████████████████████████████████████████████████▏        | 691/747 [03:05<00:23,  2.36it/s]"
     ]
    },
    {
     "name": "stdout",
     "output_type": "stream",
     "text": [
      "Processed 690 batches\n"
     ]
    },
    {
     "name": "stderr",
     "output_type": "stream",
     "text": [
      " 94%|██████████████████████████████████████████████████████████████████████████████████████████████████████████████▋       | 701/747 [03:07<00:17,  2.60it/s]"
     ]
    },
    {
     "name": "stdout",
     "output_type": "stream",
     "text": [
      "Processed 700 batches\n"
     ]
    },
    {
     "name": "stderr",
     "output_type": "stream",
     "text": [
      " 95%|████████████████████████████████████████████████████████████████████████████████████████████████████████████████▎     | 711/747 [03:10<00:15,  2.27it/s]"
     ]
    },
    {
     "name": "stdout",
     "output_type": "stream",
     "text": [
      "Processed 710 batches\n"
     ]
    },
    {
     "name": "stderr",
     "output_type": "stream",
     "text": [
      " 97%|█████████████████████████████████████████████████████████████████████████████████████████████████████████████████▉    | 721/747 [03:13<00:11,  2.35it/s]"
     ]
    },
    {
     "name": "stdout",
     "output_type": "stream",
     "text": [
      "Processed 720 batches\n"
     ]
    },
    {
     "name": "stderr",
     "output_type": "stream",
     "text": [
      " 98%|███████████████████████████████████████████████████████████████████████████████████████████████████████████████████▍  | 731/747 [03:15<00:06,  2.60it/s]"
     ]
    },
    {
     "name": "stdout",
     "output_type": "stream",
     "text": [
      "Processed 730 batches\n"
     ]
    },
    {
     "name": "stderr",
     "output_type": "stream",
     "text": [
      " 99%|█████████████████████████████████████████████████████████████████████████████████████████████████████████████████████ | 741/747 [03:18<00:02,  2.30it/s]"
     ]
    },
    {
     "name": "stdout",
     "output_type": "stream",
     "text": [
      "Processed 740 batches\n"
     ]
    },
    {
     "name": "stderr",
     "output_type": "stream",
     "text": [
      "100%|██████████████████████████████████████████████████████████████████████████████████████████████████████████████████████| 747/747 [03:19<00:00,  3.75it/s]\n"
     ]
    },
    {
     "name": "stdout",
     "output_type": "stream",
     "text": [
      "{'hit_rate': 0.250892458723784, 'hit_rate@k': 0.5554439982150825, 'precision@k': 0.6428571428571429, 'recall@k': 0.6428571428571429, 'mrr': 0.38575762477770986, 'ndcg@k': 0.4410254088639926, 'diversity': 0.41785714285714287, 'novelty': 1.0}\n"
     ]
    }
   ],
   "source": [
    "import torch\n",
    "import pandas as pd\n",
    "import numpy as np\n",
    "from tqdm import tqdm\n",
    "from sklearn.metrics import pairwise_distances\n",
    "\n",
    "def precision_at_k(predictions, labels, k):\n",
    "    top_k_preds = predictions.argsort(axis=1)[:, -k:]\n",
    "    hits = (top_k_preds == labels[:, None]).sum(axis=1)\n",
    "    return hits.mean()\n",
    "\n",
    "def recall_at_k(predictions, labels, k):\n",
    "    top_k_preds = predictions.argsort(axis=1)[:, -k:]\n",
    "    hits = (top_k_preds == labels[:, None]).sum(axis=1)\n",
    "    return hits.mean()\n",
    "\n",
    "def mean_reciprocal_rank(predictions, labels):\n",
    "    recip_ranks = []\n",
    "    for i in range(predictions.shape[0]):\n",
    "        pred = predictions[i]\n",
    "        rank = np.where(pred.argsort()[::-1] == labels[i])[0][0]\n",
    "        recip_ranks.append(1.0 / (rank + 1))\n",
    "    return np.mean(recip_ranks)\n",
    "\n",
    "def ndcg_at_k(predictions, labels, k):\n",
    "    def dcg(scores):\n",
    "        return np.sum(scores / np.log2(np.arange(2, scores.size + 2)))\n",
    "\n",
    "    ndcg_scores = []\n",
    "    for i in range(predictions.shape[0]):\n",
    "        pred = predictions[i]\n",
    "        true_relevance = np.zeros(pred.shape)\n",
    "        true_relevance[labels[i]] = 1\n",
    "        ranked_relevance = true_relevance[pred.argsort()[::-1]]\n",
    "        ideal_relevance = np.sort(true_relevance)[::-1]\n",
    "        ndcg_scores.append(dcg(ranked_relevance[:k]) / dcg(ideal_relevance[:k]))\n",
    "    return np.mean(ndcg_scores)\n",
    "\n",
    "def diversity(predictions, k):\n",
    "    top_k_preds = predictions.argsort(axis=1)[:, -k:]\n",
    "    unique_items = np.unique(top_k_preds)\n",
    "    return len(unique_items) / (predictions.shape[0] * k)\n",
    "\n",
    "def novelty(predictions, k, item_popularity):\n",
    "    top_k_preds = predictions.argsort(axis=1)[:, -k:]\n",
    "    novel_items = (item_popularity[top_k_preds] == 0).sum()\n",
    "    return novel_items / (predictions.shape[0] * k)\n",
    "\n",
    "def save_checkpoint(epoch, data, filename='checkpoint.pth.tar'):\n",
    "    torch.save({'epoch': epoch, 'data': data}, filename)\n",
    "\n",
    "def test(loader, test_model, is_validation=False, save_model_preds=False, item_popularity=None, checkpoint_interval=10):\n",
    "    test_model.eval()\n",
    "\n",
    "    # Define K for metrics.\n",
    "    k = 10\n",
    "    correct = 0\n",
    "    top_k_correct = 0\n",
    "    total_samples = 0\n",
    "\n",
    "    all_preds = []\n",
    "    all_labels = []\n",
    "    all_scores = []\n",
    "\n",
    "    batch_count = 0\n",
    "\n",
    "    for idx, data in enumerate(tqdm(loader)):\n",
    "        try:\n",
    "            data = data.to('cuda')\n",
    "            with torch.no_grad():\n",
    "                score = test_model(data)\n",
    "                pred = score.max(dim=1)[1]\n",
    "                label = data.y\n",
    "\n",
    "            if save_model_preds:\n",
    "                all_preds.extend(pred.view(-1).cpu().detach().numpy())\n",
    "                all_labels.extend(label.view(-1).cpu().detach().numpy())\n",
    "                all_scores.extend(score.cpu().detach().numpy())\n",
    "\n",
    "            correct += pred.eq(label).sum().item()\n",
    "            total_samples += label.size(0)\n",
    "\n",
    "            if not is_validation:\n",
    "                score = score.cpu().detach().numpy()\n",
    "                for row in range(pred.size(0)):\n",
    "                    top_k_pred = np.argpartition(score[row], -k)[-k:]\n",
    "                    if label[row].item() in top_k_pred:\n",
    "                        top_k_correct += 1\n",
    "\n",
    "            # Save checkpoint\n",
    "            if save_model_preds and (idx + 1) % checkpoint_interval == 0:\n",
    "                save_checkpoint(idx + 1, {\n",
    "                    'pred': all_preds,\n",
    "                    'label': all_labels,\n",
    "                    'score': all_scores\n",
    "                })\n",
    "                # Clear intermediate results to free up memory\n",
    "                all_preds = []\n",
    "                all_labels = []\n",
    "                all_scores = []\n",
    "\n",
    "            # Clear CUDA cache to free up memory\n",
    "            torch.cuda.empty_cache()\n",
    "\n",
    "            batch_count += 1\n",
    "            if batch_count % 10 == 0:\n",
    "                print(f\"Processed {batch_count} batches\")\n",
    "\n",
    "        except Exception as e:\n",
    "            print(f\"Error processing batch: {e}\")\n",
    "            torch.cuda.empty_cache()\n",
    "\n",
    "    if save_model_preds:\n",
    "        data = {\n",
    "            'pred': all_preds,\n",
    "            'label': all_labels,\n",
    "            'score': all_scores\n",
    "        }\n",
    "        df = pd.DataFrame(data=data)\n",
    "        df.to_csv('pred.csv', sep=',', index=False)\n",
    "\n",
    "    if not is_validation:\n",
    "        all_scores = np.array(all_scores)\n",
    "        all_labels = np.array(all_labels)\n",
    "        precision_k = precision_at_k(all_scores, all_labels, k)\n",
    "        recall_k = recall_at_k(all_scores, all_labels, k)\n",
    "        mrr = mean_reciprocal_rank(all_scores, all_labels)\n",
    "        ndcg_k = ndcg_at_k(all_scores, all_labels, k)\n",
    "        diversity_score = diversity(all_scores, k)\n",
    "        novelty_score = novelty(all_scores, k, item_popularity) if item_popularity is not None else 0\n",
    "\n",
    "        return {\n",
    "            'hit_rate': correct / total_samples,\n",
    "            'hit_rate@k': top_k_correct / total_samples,\n",
    "            'precision@k': precision_k,\n",
    "            'recall@k': recall_k,\n",
    "            'mrr': mrr,\n",
    "            'ndcg@k': ndcg_k,\n",
    "            'diversity': diversity_score,\n",
    "            'novelty': novelty_score\n",
    "        }\n",
    "    else:\n",
    "        return correct / total_samples, 0\n",
    "\n",
    "# Run test for our best model to save the predictions!\n",
    "test_dataset = GraphDataset('./', 'test')\n",
    "test_loader = pyg_data.DataLoader(test_dataset,\n",
    "                                  batch_size=args.batch_size // 10,  # Further reduce batch size\n",
    "                                  shuffle=False,\n",
    "                                  drop_last=True)\n",
    "\n",
    "# Assuming item_popularity is a numpy array with the popularity of each item\n",
    "item_popularity = np.zeros((args.num_items,))\n",
    "\n",
    "metrics = test(test_loader, best_model, is_validation=False, save_model_preds=True, item_popularity=item_popularity)\n",
    "print(metrics)"
   ]
  },
  {
   "cell_type": "code",
   "metadata": {
    "ExecuteTime": {
     "end_time": "2025-04-02T11:10:25.000086Z",
     "start_time": "2025-04-02T11:10:24.986075Z"
    }
   },
   "source": [
    "def test(loader, test_model, is_validation=False, save_model_preds=False):\n",
    "    test_model.eval()\n",
    "\n",
    "    # Define K for Hit@K metrics.\n",
    "    k = 10\n",
    "    correct = 0\n",
    "    top_k_correct = 0\n",
    "\n",
    "    for _, data in enumerate(tqdm(loader)):\n",
    "        data.to('cuda')\n",
    "        with torch.no_grad():\n",
    "            # max(dim=1) returns values, indices tuple; only need indices\n",
    "            score = test_model(data)\n",
    "            pred = score.max(dim=1)[1]\n",
    "            label = data.y\n",
    "\n",
    "        if save_model_preds:\n",
    "          data = {}\n",
    "          data['pred'] = pred.view(-1).cpu().detach().numpy()\n",
    "          data['label'] = label.view(-1).cpu().detach().numpy()\n",
    "\n",
    "          df = pd.DataFrame(data=data)\n",
    "          # Save locally as csv\n",
    "          df.to_csv('pred.csv', sep=',', index=False)\n",
    "            \n",
    "        correct += pred.eq(label).sum().item()\n",
    "\n",
    "        # We calculate Hit@K accuracy only at test time.\n",
    "        if not is_validation:\n",
    "            score = score.cpu().detach().numpy()\n",
    "            for row in range(pred.size(0)):\n",
    "                top_k_pred = np.argpartition(score[row], -k)[-k:]\n",
    "                if label[row].item() in top_k_pred:\n",
    "                    top_k_correct += 1\n",
    "    \n",
    "    if not is_validation:\n",
    "        return correct / len(loader), top_k_correct / len(loader)\n",
    "    else:\n",
    "        return correct / len(loader), 0"
   ],
   "outputs": [],
   "execution_count": 117
  },
  {
   "cell_type": "code",
   "execution_count": 26,
   "metadata": {
    "ExecuteTime": {
     "end_time": "2025-03-29T12:39:22.976778800Z",
     "start_time": "2025-03-28T19:07:40.152640Z"
    },
    "colab": {
     "base_uri": "https://localhost:8080/",
     "height": 1000
    },
    "id": "pdNUqKJl1r35",
    "outputId": "e2e8b168-4ad1-4830-cb65-c3b3ff3d3cba"
   },
   "outputs": [
    {
     "name": "stderr",
     "output_type": "stream",
     "text": [
      "C:\\Users\\USER\\Desktop\\ML viva\\.venv\\lib\\site-packages\\torch_geometric\\deprecation.py:26: UserWarning: 'data.DataLoader' is deprecated, use 'loader.DataLoader' instead\n",
      "  warnings.warn(out)\n",
      "100%|████████████████████████████████████████████████████████████████████████████████████████████████████████████████████| 2919/2919 [04:23<00:00, 11.10it/s]\n",
      "100%|██████████████████████████████████████████████████████████████████████████████████████████████████████████████████████| 387/387 [00:09<00:00, 40.86it/s]\n"
     ]
    },
    {
     "name": "stdout",
     "output_type": "stream",
     "text": [
      "13.958656330749355\n"
     ]
    },
    {
     "name": "stderr",
     "output_type": "stream",
     "text": [
      "100%|████████████████████████████████████████████████████████████████████████████████████████████████████████████████████| 2919/2919 [04:02<00:00, 12.06it/s]\n",
      "100%|██████████████████████████████████████████████████████████████████████████████████████████████████████████████████████| 387/387 [00:07<00:00, 54.66it/s]\n"
     ]
    },
    {
     "name": "stdout",
     "output_type": "stream",
     "text": [
      "13.62532299741602\n"
     ]
    },
    {
     "name": "stderr",
     "output_type": "stream",
     "text": [
      "100%|████████████████████████████████████████████████████████████████████████████████████████████████████████████████████| 2919/2919 [04:03<00:00, 11.97it/s]\n",
      "100%|██████████████████████████████████████████████████████████████████████████████████████████████████████████████████████| 387/387 [00:07<00:00, 53.95it/s]\n"
     ]
    },
    {
     "name": "stdout",
     "output_type": "stream",
     "text": [
      "15.167958656330748\n"
     ]
    },
    {
     "name": "stderr",
     "output_type": "stream",
     "text": [
      "100%|████████████████████████████████████████████████████████████████████████████████████████████████████████████████████| 2919/2919 [04:01<00:00, 12.10it/s]\n",
      "100%|██████████████████████████████████████████████████████████████████████████████████████████████████████████████████████| 387/387 [00:07<00:00, 54.38it/s]\n"
     ]
    },
    {
     "name": "stdout",
     "output_type": "stream",
     "text": [
      "16.046511627906977\n"
     ]
    },
    {
     "name": "stderr",
     "output_type": "stream",
     "text": [
      "100%|████████████████████████████████████████████████████████████████████████████████████████████████████████████████████| 2919/2919 [04:01<00:00, 12.09it/s]\n",
      "100%|██████████████████████████████████████████████████████████████████████████████████████████████████████████████████████| 387/387 [00:06<00:00, 57.21it/s]\n"
     ]
    },
    {
     "name": "stdout",
     "output_type": "stream",
     "text": [
      "16.705426356589147\n"
     ]
    },
    {
     "name": "stderr",
     "output_type": "stream",
     "text": [
      "100%|████████████████████████████████████████████████████████████████████████████████████████████████████████████████████| 2919/2919 [03:57<00:00, 12.27it/s]\n",
      "100%|██████████████████████████████████████████████████████████████████████████████████████████████████████████████████████| 387/387 [00:06<00:00, 57.06it/s]\n"
     ]
    },
    {
     "name": "stdout",
     "output_type": "stream",
     "text": [
      "18.839793281653748\n"
     ]
    },
    {
     "name": "stderr",
     "output_type": "stream",
     "text": [
      "100%|████████████████████████████████████████████████████████████████████████████████████████████████████████████████████| 2919/2919 [03:58<00:00, 12.23it/s]\n",
      "100%|██████████████████████████████████████████████████████████████████████████████████████████████████████████████████████| 387/387 [00:06<00:00, 56.23it/s]\n"
     ]
    },
    {
     "name": "stdout",
     "output_type": "stream",
     "text": [
      "19.20671834625323\n"
     ]
    },
    {
     "name": "stderr",
     "output_type": "stream",
     "text": [
      "100%|████████████████████████████████████████████████████████████████████████████████████████████████████████████████████| 2919/2919 [04:00<00:00, 12.14it/s]\n",
      "100%|██████████████████████████████████████████████████████████████████████████████████████████████████████████████████████| 387/387 [00:07<00:00, 55.12it/s]\n"
     ]
    },
    {
     "name": "stdout",
     "output_type": "stream",
     "text": [
      "19.51421188630491\n"
     ]
    },
    {
     "name": "stderr",
     "output_type": "stream",
     "text": [
      "100%|████████████████████████████████████████████████████████████████████████████████████████████████████████████████████| 2919/2919 [03:59<00:00, 12.21it/s]\n",
      "100%|██████████████████████████████████████████████████████████████████████████████████████████████████████████████████████| 387/387 [00:06<00:00, 56.17it/s]\n"
     ]
    },
    {
     "name": "stdout",
     "output_type": "stream",
     "text": [
      "19.785529715762273\n"
     ]
    },
    {
     "name": "stderr",
     "output_type": "stream",
     "text": [
      "100%|████████████████████████████████████████████████████████████████████████████████████████████████████████████████████| 2919/2919 [04:00<00:00, 12.14it/s]\n",
      "100%|██████████████████████████████████████████████████████████████████████████████████████████████████████████████████████| 387/387 [00:06<00:00, 58.32it/s]\n"
     ]
    },
    {
     "name": "stdout",
     "output_type": "stream",
     "text": [
      "19.987080103359173\n",
      "[13.958656330749355, 13.62532299741602, 15.167958656330748, 16.046511627906977, 16.705426356589147, 18.839793281653748, 19.20671834625323, 19.51421188630491, 19.785529715762273, 19.987080103359173] [0, 0, 0, 0, 0, 0, 0, 0, 0, 0]\n",
      "Maximum test set accuracy: 19.987080103359173\n",
      "Minimum loss: 5.800257827177636\n"
     ]
    },
    {
     "data": {
      "image/png": "[encoded data removed]",
      "text/plain": [
       "<Figure size 640x480 with 1 Axes>"
      ]
     },
     "metadata": {},
     "output_type": "display_data"
    }
   ],
   "source": [
    "test_accs, top_k_accs, losses, best_model, best_acc, test_loader = train(args) \n",
    "\n",
    "print(test_accs, top_k_accs)\n",
    "print(\"Maximum test set accuracy: {0}\".format(max(test_accs)))\n",
    "print(\"Minimum loss: {0}\".format(min(losses)))\n",
    "\n",
    "# plt.title(dataset.name)\n",
    "plt.plot(losses, label=\"training loss\" + \" - \")\n",
    "plt.plot(test_accs, label=\"test accuracy\" + \" - \")\n",
    "plt.legend()\n",
    "plt.show()"
   ]
  },
  {
   "cell_type": "markdown",
   "metadata": {
    "id": "bfUleigO6Xy1"
   },
   "source": [
    "## Model Evaluation"
   ]
  },
  {
   "cell_type": "code",
   "execution_count": 23,
   "metadata": {},
   "outputs": [
    {
     "name": "stdout",
     "output_type": "stream",
     "text": [
      "hi\n"
     ]
    }
   ],
   "source": [
    "print(\"hi\")"
   ]
  },
  {
   "cell_type": "code",
   "execution_count": 10,
   "metadata": {},
   "outputs": [
    {
     "name": "stdout",
     "output_type": "stream",
     "text": [
      "hiiii0\n"
     ]
    }
   ],
   "source": [
    "print(\"hiiii0\")"
   ]
  },
  {
   "cell_type": "code",
   "execution_count": 24,
   "metadata": {
    "id": "9rTB4_lI1Ocg"
   },
   "outputs": [],
   "source": [
    "# Save the best model\n",
    "torch.save(best_model.state_dict(), 'model')"
   ]
  },
  {
   "cell_type": "code",
   "metadata": {
    "colab": {
     "base_uri": "https://localhost:8080/"
    },
    "id": "MoK2gVD7HVep",
    "outputId": "0ba517f1-5d52-4ef2-ce23-201fe28454f3",
    "ExecuteTime": {
     "end_time": "2025-04-02T11:12:07.122405Z",
     "start_time": "2025-04-02T11:10:40.972995Z"
    }
   },
   "source": [
    "# Run test for our best model to save the predictions!\n",
    "test_dataset = GraphDataset('./', 'test')\n",
    "test_loader = pyg_data.DataLoader(test_dataset,\n",
    "                                  batch_size=args.batch_size,\n",
    "                                  shuffle=False,\n",
    "                                  drop_last=True)\n",
    "\n",
    "test(test_loader, best_model, is_validation=False, save_model_preds=True)"
   ],
   "outputs": [
    {
     "name": "stderr",
     "output_type": "stream",
     "text": [
      "C:\\Users\\USER\\Desktop\\ML viva\\.venv\\lib\\site-packages\\torch_geometric\\deprecation.py:26: UserWarning: 'data.DataLoader' is deprecated, use 'loader.DataLoader' instead\n",
      "  warnings.warn(out)\n",
      "100%|██████████| 70/70 [01:26<00:00,  1.23s/it]\n"
     ]
    },
    {
     "data": {
      "text/plain": [
       "(32.128571428571426, 71.11428571428571)"
      ]
     },
     "execution_count": 119,
     "metadata": {},
     "output_type": "execute_result"
    }
   ],
   "execution_count": 119
  },
  {
   "cell_type": "code",
   "metadata": {
    "ExecuteTime": {
     "end_time": "2025-04-02T11:10:37.750518Z",
     "start_time": "2025-04-02T11:10:37.361664Z"
    }
   },
   "source": [
    "import torch\n",
    "import torch.nn as nn\n",
    "\n",
    "# Instantiate the model\n",
    "device = torch.device('cuda' if torch.cuda.is_available() else 'cpu')\n",
    "best_model = model = SRGNN(args.hidden_dim, args.num_items).to(device)\n",
    "\n",
    "# Load the state dictionary into the model\n",
    "best_model.load_state_dict(torch.load('model', map_location=device))\n",
    "\n",
    "# Set the model to evaluation mode\n",
    "best_model.eval()\n",
    "\n",
    "# If you're using CUDA\n",
    "#best_model.to('cuda')"
   ],
   "outputs": [
    {
     "data": {
      "text/plain": [
       "SRGNN(\n",
       "  (embedding): Embedding(466868, 64)\n",
       "  (gated): GatedSessionGraphConv()\n",
       "  (q): Linear(in_features=64, out_features=1, bias=True)\n",
       "  (W_1): Linear(in_features=64, out_features=64, bias=False)\n",
       "  (W_2): Linear(in_features=64, out_features=64, bias=True)\n",
       "  (W_3): Linear(in_features=128, out_features=64, bias=False)\n",
       ")"
      ]
     },
     "execution_count": 118,
     "metadata": {},
     "output_type": "execute_result"
    }
   ],
   "execution_count": 118
  },
  {
   "metadata": {
    "ExecuteTime": {
     "end_time": "2025-04-02T16:01:55.013830Z",
     "start_time": "2025-04-02T16:01:48.462596Z"
    }
   },
   "cell_type": "code",
   "source": [
    "import pickle\n",
    "import torch\n",
    "import numpy as np\n",
    "import pandas as pd\n",
    "from torch_geometric.data import Data\n",
    "\n",
    "device = torch.device(\"cuda\" if torch.cuda.is_available() else \"cpu\")\n",
    "\n",
    "# Load the preprocessed data\n",
    "with open('raw/train.txt', 'rb') as f:\n",
    "    train_sessions = pickle.load(f)\n",
    "with open('raw/val.txt', 'rb') as f:\n",
    "    val_sessions = pickle.load(f)\n",
    "with open('raw/test.txt', 'rb') as f:\n",
    "    test_sessions = pickle.load(f)\n",
    "\n",
    "# Combine all sessions\n",
    "all_sessions = train_sessions + val_sessions + test_sessions\n",
    "\n",
    "def generate_recommendations(visitor_id, sessions, model, top_k=10):\n",
    "    # Filter sessions for the given visitor ID\n",
    "    user_sessions = [session for session in sessions if session[0] == visitor_id]\n",
    "    if not user_sessions:\n",
    "        return \"No sessions found for the given visitor ID.\"\n",
    "\n",
    "    # Generate recommendations using the model\n",
    "    recommendations = []\n",
    "    for session in user_sessions:\n",
    "        if len(session) < 2:\n",
    "            continue  # Ensure session has enough elements\n",
    "        session_data = np.array(session[1:])  # Convert to NumPy array for factorization\n",
    "\n",
    "        # Build Data instance\n",
    "        codes, uniques = pd.factorize(session_data)\n",
    "        senders, receivers = codes[:-1], codes[1:]\n",
    "        if len(senders) == 0 or len(receivers) == 0:\n",
    "            continue  # Skip if there are no edges\n",
    "\n",
    "        edge_index = torch.tensor(np.array([senders, receivers]), dtype=torch.long).to(device)\n",
    "        x = torch.tensor(codes, dtype=torch.long).unsqueeze(1).to(device)\n",
    "        batch = torch.zeros(len(codes), dtype=torch.long).to(device)\n",
    "\n",
    "        data = Data(x=x, edge_index=edge_index, batch=batch)\n",
    "\n",
    "        with torch.no_grad():\n",
    "            output = model(data)\n",
    "            if output.numel() < top_k:\n",
    "                top_k = output.numel()  # Adjust top_k if not enough predictions\n",
    "            top_items = torch.topk(output.squeeze(), top_k).indices.tolist()\n",
    "            recommendations.extend(top_items)\n",
    "\n",
    "    # Flatten and get unique recommendations\n",
    "    unique_recommendations = list(set(recommendations))\n",
    "    return unique_recommendations[:top_k]\n",
    "\n",
    "# Example usage\n",
    "visitor_id = 1234\n",
    "recommendations = generate_recommendations(visitor_id, all_sessions, best_model, top_k=5)\n",
    "print(\"Top 10 Recommended Items:\", recommendations)"
   ],
   "outputs": [
    {
     "ename": "NameError",
     "evalue": "name 'best_model' is not defined",
     "output_type": "error",
     "traceback": [
      "\u001B[1;31m---------------------------------------------------------------------------\u001B[0m",
      "\u001B[1;31mNameError\u001B[0m                                 Traceback (most recent call last)",
      "Cell \u001B[1;32mIn[1], line 58\u001B[0m\n\u001B[0;32m     56\u001B[0m \u001B[38;5;66;03m# Example usage\u001B[39;00m\n\u001B[0;32m     57\u001B[0m visitor_id \u001B[38;5;241m=\u001B[39m \u001B[38;5;241m1234\u001B[39m\n\u001B[1;32m---> 58\u001B[0m recommendations \u001B[38;5;241m=\u001B[39m generate_recommendations(visitor_id, all_sessions, \u001B[43mbest_model\u001B[49m, top_k\u001B[38;5;241m=\u001B[39m\u001B[38;5;241m5\u001B[39m)\n\u001B[0;32m     59\u001B[0m \u001B[38;5;28mprint\u001B[39m(\u001B[38;5;124m\"\u001B[39m\u001B[38;5;124mTop 10 Recommended Items:\u001B[39m\u001B[38;5;124m\"\u001B[39m, recommendations)\n",
      "\u001B[1;31mNameError\u001B[0m: name 'best_model' is not defined"
     ]
    }
   ],
   "execution_count": 1
  },
  {
   "metadata": {},
   "cell_type": "code",
   "outputs": [],
   "execution_count": null,
   "source": ""
  }
 ],
 "metadata": {
  "accelerator": "GPU",
  "colab": {
   "provenance": []
  },
  "gpuClass": "standard",
  "kernelspec": {
   "display_name": "Python (.venv)",
   "language": "python",
   "name": ".venv"
  },
  "language_info": {
   "codemirror_mode": {
    "name": "ipython",
    "version": 3
   },
   "file_extension": ".py",
   "mimetype": "text/x-python",
   "name": "python",
   "nbconvert_exporter": "python",
   "pygments_lexer": "ipython3",
   "version": "3.10.11"
  }
 },
 "nbformat": 4,
 "nbformat_minor": 4
}
