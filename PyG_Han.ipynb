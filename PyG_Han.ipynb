{
  "nbformat": 4,
  "nbformat_minor": 0,
  "metadata": {
    "colab": {
      "provenance": [],
      "gpuType": "V28",
      "include_colab_link": true
    },
    "kernelspec": {
      "name": "python3",
      "display_name": "Python 3 (ipykernel)",
      "language": "python"
    },
    "language_info": {
      "name": "python"
    },
    "accelerator": "TPU"
  },
  "cells": [
    {
      "cell_type": "markdown",
      "metadata": {
        "id": "view-in-github",
        "colab_type": "text"
      },
      "source": [
        "<a href=\"https://colab.research.google.com/github/GinuraAdikari/InsightHive/blob/Recommendation_Engine/PyG_Han.ipynb\" target=\"_parent\"><img src=\"https://colab.research.google.com/assets/colab-badge.svg\" alt=\"Open In Colab\"/></a>"
      ]
    },
    {
      "cell_type": "code",
      "metadata": {
        "id": "67f0vjVJBKf8",
        "ExecuteTime": {
          "end_time": "2025-02-14T15:33:33.741553Z",
          "start_time": "2025-02-14T15:33:33.725778Z"
        }
      },
      "source": [
        "import numpy as np\n",
        "import pandas as pd\n",
        "import datetime\n",
        "import matplotlib.pyplot as plt\n",
        "import seaborn as sns\n",
        "\n",
        "\n",
        "import os"
      ],
      "outputs": [],
      "execution_count": null
    },
    {
      "cell_type": "code",
      "source": [
        "# Load the events data\n",
        "event_df=pd.read_csv('events.csv')\n",
        "event_df"
      ],
      "metadata": {
        "colab": {
          "base_uri": "https://localhost:8080/",
          "height": 424
        },
        "id": "pneTVn12Go1a",
        "outputId": "317b5dbb-fcbd-4766-dd08-cd604a6b0737",
        "ExecuteTime": {
          "end_time": "2025-02-14T15:33:34.390754Z",
          "start_time": "2025-02-14T15:33:33.767171Z"
        }
      },
      "outputs": [
        {
          "data": {
            "text/plain": [
              "             timestamp  visitorid event  itemid  transactionid\n",
              "0        1433221332117     257597  view  355908            NaN\n",
              "1        1433224214164     992329  view  248676            NaN\n",
              "2        1433221999827     111016  view  318965            NaN\n",
              "3        1433221955914     483717  view  253185            NaN\n",
              "4        1433221337106     951259  view  367447            NaN\n",
              "...                ...        ...   ...     ...            ...\n",
              "2756096  1438398785939     591435  view  261427            NaN\n",
              "2756097  1438399813142     762376  view  115946            NaN\n",
              "2756098  1438397820527    1251746  view   78144            NaN\n",
              "2756099  1438398530703    1184451  view  283392            NaN\n",
              "2756100  1438400163914     199536  view  152913            NaN\n",
              "\n",
              "[2756101 rows x 5 columns]"
            ],
            "text/html": [
              "<div>\n",
              "<style scoped>\n",
              "    .dataframe tbody tr th:only-of-type {\n",
              "        vertical-align: middle;\n",
              "    }\n",
              "\n",
              "    .dataframe tbody tr th {\n",
              "        vertical-align: top;\n",
              "    }\n",
              "\n",
              "    .dataframe thead th {\n",
              "        text-align: right;\n",
              "    }\n",
              "</style>\n",
              "<table border=\"1\" class=\"dataframe\">\n",
              "  <thead>\n",
              "    <tr style=\"text-align: right;\">\n",
              "      <th></th>\n",
              "      <th>timestamp</th>\n",
              "      <th>visitorid</th>\n",
              "      <th>event</th>\n",
              "      <th>itemid</th>\n",
              "      <th>transactionid</th>\n",
              "    </tr>\n",
              "  </thead>\n",
              "  <tbody>\n",
              "    <tr>\n",
              "      <th>0</th>\n",
              "      <td>1433221332117</td>\n",
              "      <td>257597</td>\n",
              "      <td>view</td>\n",
              "      <td>355908</td>\n",
              "      <td>NaN</td>\n",
              "    </tr>\n",
              "    <tr>\n",
              "      <th>1</th>\n",
              "      <td>1433224214164</td>\n",
              "      <td>992329</td>\n",
              "      <td>view</td>\n",
              "      <td>248676</td>\n",
              "      <td>NaN</td>\n",
              "    </tr>\n",
              "    <tr>\n",
              "      <th>2</th>\n",
              "      <td>1433221999827</td>\n",
              "      <td>111016</td>\n",
              "      <td>view</td>\n",
              "      <td>318965</td>\n",
              "      <td>NaN</td>\n",
              "    </tr>\n",
              "    <tr>\n",
              "      <th>3</th>\n",
              "      <td>1433221955914</td>\n",
              "      <td>483717</td>\n",
              "      <td>view</td>\n",
              "      <td>253185</td>\n",
              "      <td>NaN</td>\n",
              "    </tr>\n",
              "    <tr>\n",
              "      <th>4</th>\n",
              "      <td>1433221337106</td>\n",
              "      <td>951259</td>\n",
              "      <td>view</td>\n",
              "      <td>367447</td>\n",
              "      <td>NaN</td>\n",
              "    </tr>\n",
              "    <tr>\n",
              "      <th>...</th>\n",
              "      <td>...</td>\n",
              "      <td>...</td>\n",
              "      <td>...</td>\n",
              "      <td>...</td>\n",
              "      <td>...</td>\n",
              "    </tr>\n",
              "    <tr>\n",
              "      <th>2756096</th>\n",
              "      <td>1438398785939</td>\n",
              "      <td>591435</td>\n",
              "      <td>view</td>\n",
              "      <td>261427</td>\n",
              "      <td>NaN</td>\n",
              "    </tr>\n",
              "    <tr>\n",
              "      <th>2756097</th>\n",
              "      <td>1438399813142</td>\n",
              "      <td>762376</td>\n",
              "      <td>view</td>\n",
              "      <td>115946</td>\n",
              "      <td>NaN</td>\n",
              "    </tr>\n",
              "    <tr>\n",
              "      <th>2756098</th>\n",
              "      <td>1438397820527</td>\n",
              "      <td>1251746</td>\n",
              "      <td>view</td>\n",
              "      <td>78144</td>\n",
              "      <td>NaN</td>\n",
              "    </tr>\n",
              "    <tr>\n",
              "      <th>2756099</th>\n",
              "      <td>1438398530703</td>\n",
              "      <td>1184451</td>\n",
              "      <td>view</td>\n",
              "      <td>283392</td>\n",
              "      <td>NaN</td>\n",
              "    </tr>\n",
              "    <tr>\n",
              "      <th>2756100</th>\n",
              "      <td>1438400163914</td>\n",
              "      <td>199536</td>\n",
              "      <td>view</td>\n",
              "      <td>152913</td>\n",
              "      <td>NaN</td>\n",
              "    </tr>\n",
              "  </tbody>\n",
              "</table>\n",
              "<p>2756101 rows × 5 columns</p>\n",
              "</div>"
            ]
          },
          "execution_count": 2,
          "metadata": {},
          "output_type": "execute_result"
        }
      ],
      "execution_count": null
    },
    {
      "cell_type": "code",
      "source": [
        "# Load the category tree data\n",
        "category_tree=pd.read_csv('category_tree.csv')\n",
        "\n",
        "category_tree.head()"
      ],
      "metadata": {
        "colab": {
          "base_uri": "https://localhost:8080/",
          "height": 206
        },
        "id": "Q2rg3KfXGrBo",
        "outputId": "c0948a42-a966-4b0f-aa5b-667b0e4dd6c3",
        "ExecuteTime": {
          "end_time": "2025-02-14T15:33:34.847998Z",
          "start_time": "2025-02-14T15:33:34.832180Z"
        }
      },
      "outputs": [
        {
          "data": {
            "text/plain": [
              "   categoryid  parentid\n",
              "0        1016     213.0\n",
              "1         809     169.0\n",
              "2         570       9.0\n",
              "3        1691     885.0\n",
              "4         536    1691.0"
            ],
            "text/html": [
              "<div>\n",
              "<style scoped>\n",
              "    .dataframe tbody tr th:only-of-type {\n",
              "        vertical-align: middle;\n",
              "    }\n",
              "\n",
              "    .dataframe tbody tr th {\n",
              "        vertical-align: top;\n",
              "    }\n",
              "\n",
              "    .dataframe thead th {\n",
              "        text-align: right;\n",
              "    }\n",
              "</style>\n",
              "<table border=\"1\" class=\"dataframe\">\n",
              "  <thead>\n",
              "    <tr style=\"text-align: right;\">\n",
              "      <th></th>\n",
              "      <th>categoryid</th>\n",
              "      <th>parentid</th>\n",
              "    </tr>\n",
              "  </thead>\n",
              "  <tbody>\n",
              "    <tr>\n",
              "      <th>0</th>\n",
              "      <td>1016</td>\n",
              "      <td>213.0</td>\n",
              "    </tr>\n",
              "    <tr>\n",
              "      <th>1</th>\n",
              "      <td>809</td>\n",
              "      <td>169.0</td>\n",
              "    </tr>\n",
              "    <tr>\n",
              "      <th>2</th>\n",
              "      <td>570</td>\n",
              "      <td>9.0</td>\n",
              "    </tr>\n",
              "    <tr>\n",
              "      <th>3</th>\n",
              "      <td>1691</td>\n",
              "      <td>885.0</td>\n",
              "    </tr>\n",
              "    <tr>\n",
              "      <th>4</th>\n",
              "      <td>536</td>\n",
              "      <td>1691.0</td>\n",
              "    </tr>\n",
              "  </tbody>\n",
              "</table>\n",
              "</div>"
            ]
          },
          "execution_count": 3,
          "metadata": {},
          "output_type": "execute_result"
        }
      ],
      "execution_count": null
    },
    {
      "cell_type": "code",
      "source": [
        "# load item-related datasets\n",
        "item1=pd.read_csv('item_properties_part1.csv')\n",
        "item2=pd.read_csv('item_properties_part2.csv')\n",
        "\n",
        "# Combine the item properties dataframes\n",
        "item_properties = pd.concat([item1, item2])\n",
        "item_properties.head(10)"
      ],
      "metadata": {
        "colab": {
          "base_uri": "https://localhost:8080/",
          "height": 363
        },
        "id": "xL-JARQGGtKb",
        "outputId": "b65ca5ba-08b1-4b6d-cc50-8cd221760d5e",
        "ExecuteTime": {
          "end_time": "2025-02-14T15:33:43.366402Z",
          "start_time": "2025-02-14T15:33:34.932651Z"
        }
      },
      "outputs": [
        {
          "data": {
            "text/plain": [
              "       timestamp  itemid    property                            value\n",
              "0  1435460400000  460429  categoryid                             1338\n",
              "1  1441508400000  206783         888          1116713 960601 n277.200\n",
              "2  1439089200000  395014         400  n552.000 639502 n720.000 424566\n",
              "3  1431226800000   59481         790                       n15360.000\n",
              "4  1431831600000  156781         917                           828513\n",
              "5  1436065200000  285026   available                                0\n",
              "6  1434250800000   89534         213                          1121373\n",
              "7  1431831600000  264312           6                           319724\n",
              "8  1433646000000  229370         202                          1330310\n",
              "9  1434250800000   98113         451                  1141052 n48.000"
            ],
            "text/html": [
              "<div>\n",
              "<style scoped>\n",
              "    .dataframe tbody tr th:only-of-type {\n",
              "        vertical-align: middle;\n",
              "    }\n",
              "\n",
              "    .dataframe tbody tr th {\n",
              "        vertical-align: top;\n",
              "    }\n",
              "\n",
              "    .dataframe thead th {\n",
              "        text-align: right;\n",
              "    }\n",
              "</style>\n",
              "<table border=\"1\" class=\"dataframe\">\n",
              "  <thead>\n",
              "    <tr style=\"text-align: right;\">\n",
              "      <th></th>\n",
              "      <th>timestamp</th>\n",
              "      <th>itemid</th>\n",
              "      <th>property</th>\n",
              "      <th>value</th>\n",
              "    </tr>\n",
              "  </thead>\n",
              "  <tbody>\n",
              "    <tr>\n",
              "      <th>0</th>\n",
              "      <td>1435460400000</td>\n",
              "      <td>460429</td>\n",
              "      <td>categoryid</td>\n",
              "      <td>1338</td>\n",
              "    </tr>\n",
              "    <tr>\n",
              "      <th>1</th>\n",
              "      <td>1441508400000</td>\n",
              "      <td>206783</td>\n",
              "      <td>888</td>\n",
              "      <td>1116713 960601 n277.200</td>\n",
              "    </tr>\n",
              "    <tr>\n",
              "      <th>2</th>\n",
              "      <td>1439089200000</td>\n",
              "      <td>395014</td>\n",
              "      <td>400</td>\n",
              "      <td>n552.000 639502 n720.000 424566</td>\n",
              "    </tr>\n",
              "    <tr>\n",
              "      <th>3</th>\n",
              "      <td>1431226800000</td>\n",
              "      <td>59481</td>\n",
              "      <td>790</td>\n",
              "      <td>n15360.000</td>\n",
              "    </tr>\n",
              "    <tr>\n",
              "      <th>4</th>\n",
              "      <td>1431831600000</td>\n",
              "      <td>156781</td>\n",
              "      <td>917</td>\n",
              "      <td>828513</td>\n",
              "    </tr>\n",
              "    <tr>\n",
              "      <th>5</th>\n",
              "      <td>1436065200000</td>\n",
              "      <td>285026</td>\n",
              "      <td>available</td>\n",
              "      <td>0</td>\n",
              "    </tr>\n",
              "    <tr>\n",
              "      <th>6</th>\n",
              "      <td>1434250800000</td>\n",
              "      <td>89534</td>\n",
              "      <td>213</td>\n",
              "      <td>1121373</td>\n",
              "    </tr>\n",
              "    <tr>\n",
              "      <th>7</th>\n",
              "      <td>1431831600000</td>\n",
              "      <td>264312</td>\n",
              "      <td>6</td>\n",
              "      <td>319724</td>\n",
              "    </tr>\n",
              "    <tr>\n",
              "      <th>8</th>\n",
              "      <td>1433646000000</td>\n",
              "      <td>229370</td>\n",
              "      <td>202</td>\n",
              "      <td>1330310</td>\n",
              "    </tr>\n",
              "    <tr>\n",
              "      <th>9</th>\n",
              "      <td>1434250800000</td>\n",
              "      <td>98113</td>\n",
              "      <td>451</td>\n",
              "      <td>1141052 n48.000</td>\n",
              "    </tr>\n",
              "  </tbody>\n",
              "</table>\n",
              "</div>"
            ]
          },
          "execution_count": 4,
          "metadata": {},
          "output_type": "execute_result"
        }
      ],
      "execution_count": null
    },
    {
      "cell_type": "code",
      "source": [
        "# Filter for items with at least 'categoryid' OR 'availability'\n",
        "filtered_items = item_properties[item_properties['property'].isin(['categoryid', 'available'])]\n",
        "\n",
        "filtered_items.shape"
      ],
      "metadata": {
        "colab": {
          "base_uri": "https://localhost:8080/"
        },
        "id": "OYJRJDaKGvMm",
        "outputId": "0475cb58-ff90-4ab5-f582-87975c4d7068",
        "ExecuteTime": {
          "end_time": "2025-02-14T15:33:44.050966Z",
          "start_time": "2025-02-14T15:33:43.432289Z"
        }
      },
      "outputs": [
        {
          "data": {
            "text/plain": [
              "(2291853, 4)"
            ]
          },
          "execution_count": 5,
          "metadata": {},
          "output_type": "execute_result"
        }
      ],
      "execution_count": null
    },
    {
      "cell_type": "code",
      "source": [
        "duplicates = filtered_items[filtered_items.duplicated(subset=['itemid', 'property', 'value'], keep=False)]\n",
        "print(duplicates)\n",
        "print(f\"Number of duplicate rows: {len(duplicates)}\")"
      ],
      "metadata": {
        "colab": {
          "base_uri": "https://localhost:8080/"
        },
        "id": "rovgDHSXG2g6",
        "outputId": "d8babdd7-0512-4498-89bb-4fe4d85007f9",
        "ExecuteTime": {
          "end_time": "2025-02-14T15:33:46.091551Z",
          "start_time": "2025-02-14T15:33:45.283731Z"
        }
      },
      "outputs": [
        {
          "name": "stdout",
          "output_type": "stream",
          "text": [
            "             timestamp  itemid    property value\n",
            "5        1436065200000  285026   available     0\n",
            "15       1437274800000  186518   available     0\n",
            "82       1434250800000  316253   available     1\n",
            "96       1437274800000  430459   available     0\n",
            "101      1433041200000  411262   available     0\n",
            "...                ...     ...         ...   ...\n",
            "9275856  1438484400000  225378   available     1\n",
            "9275873  1435460400000  444741  categoryid   511\n",
            "9275879  1435460400000   97513  categoryid  1385\n",
            "9275892  1439089200000  200211   available     0\n",
            "9275897  1436065200000   74745   available     0\n",
            "\n",
            "[1534714 rows x 4 columns]\n",
            "Number of duplicate rows: 1534714\n"
          ]
        }
      ],
      "execution_count": null
    },
    {
      "cell_type": "code",
      "source": [
        "# Convert 'value' column in filtered_items to int64 using .loc\n",
        "filtered_items.loc[:, 'value'] = pd.to_numeric(filtered_items['value'], errors='coerce').astype('Int64')\n",
        "\n",
        "# Now perform the merge\n",
        "items_cats = pd.merge(filtered_items, category_tree, how='left', left_on='value', right_on='categoryid')\n",
        "items_cats"
      ],
      "metadata": {
        "colab": {
          "base_uri": "https://localhost:8080/",
          "height": 424
        },
        "id": "tqGYvIQKGyfT",
        "outputId": "4b521aad-8a47-42fb-ad2a-e2d053194b80",
        "ExecuteTime": {
          "end_time": "2025-02-14T15:33:47.582040Z",
          "start_time": "2025-02-14T15:33:46.395162Z"
        }
      },
      "outputs": [
        {
          "data": {
            "text/plain": [
              "             timestamp  itemid    property value  categoryid  parentid\n",
              "0        1435460400000  460429  categoryid  1338      1338.0    1278.0\n",
              "1        1436065200000  285026   available     0         0.0     605.0\n",
              "2        1437274800000  186518   available     0         0.0     605.0\n",
              "3        1433646000000  423682   available     0         0.0     605.0\n",
              "4        1434250800000  316253   available     1         1.0     854.0\n",
              "...                ...     ...         ...   ...         ...       ...\n",
              "2291848  1435460400000  444741  categoryid   511       511.0     724.0\n",
              "2291849  1435460400000   97513  categoryid  1385      1385.0    1202.0\n",
              "2291850  1433041200000  356167   available     0         0.0     605.0\n",
              "2291851  1439089200000  200211   available     0         0.0     605.0\n",
              "2291852  1436065200000   74745   available     0         0.0     605.0\n",
              "\n",
              "[2291853 rows x 6 columns]"
            ],
            "text/html": [
              "<div>\n",
              "<style scoped>\n",
              "    .dataframe tbody tr th:only-of-type {\n",
              "        vertical-align: middle;\n",
              "    }\n",
              "\n",
              "    .dataframe tbody tr th {\n",
              "        vertical-align: top;\n",
              "    }\n",
              "\n",
              "    .dataframe thead th {\n",
              "        text-align: right;\n",
              "    }\n",
              "</style>\n",
              "<table border=\"1\" class=\"dataframe\">\n",
              "  <thead>\n",
              "    <tr style=\"text-align: right;\">\n",
              "      <th></th>\n",
              "      <th>timestamp</th>\n",
              "      <th>itemid</th>\n",
              "      <th>property</th>\n",
              "      <th>value</th>\n",
              "      <th>categoryid</th>\n",
              "      <th>parentid</th>\n",
              "    </tr>\n",
              "  </thead>\n",
              "  <tbody>\n",
              "    <tr>\n",
              "      <th>0</th>\n",
              "      <td>1435460400000</td>\n",
              "      <td>460429</td>\n",
              "      <td>categoryid</td>\n",
              "      <td>1338</td>\n",
              "      <td>1338.0</td>\n",
              "      <td>1278.0</td>\n",
              "    </tr>\n",
              "    <tr>\n",
              "      <th>1</th>\n",
              "      <td>1436065200000</td>\n",
              "      <td>285026</td>\n",
              "      <td>available</td>\n",
              "      <td>0</td>\n",
              "      <td>0.0</td>\n",
              "      <td>605.0</td>\n",
              "    </tr>\n",
              "    <tr>\n",
              "      <th>2</th>\n",
              "      <td>1437274800000</td>\n",
              "      <td>186518</td>\n",
              "      <td>available</td>\n",
              "      <td>0</td>\n",
              "      <td>0.0</td>\n",
              "      <td>605.0</td>\n",
              "    </tr>\n",
              "    <tr>\n",
              "      <th>3</th>\n",
              "      <td>1433646000000</td>\n",
              "      <td>423682</td>\n",
              "      <td>available</td>\n",
              "      <td>0</td>\n",
              "      <td>0.0</td>\n",
              "      <td>605.0</td>\n",
              "    </tr>\n",
              "    <tr>\n",
              "      <th>4</th>\n",
              "      <td>1434250800000</td>\n",
              "      <td>316253</td>\n",
              "      <td>available</td>\n",
              "      <td>1</td>\n",
              "      <td>1.0</td>\n",
              "      <td>854.0</td>\n",
              "    </tr>\n",
              "    <tr>\n",
              "      <th>...</th>\n",
              "      <td>...</td>\n",
              "      <td>...</td>\n",
              "      <td>...</td>\n",
              "      <td>...</td>\n",
              "      <td>...</td>\n",
              "      <td>...</td>\n",
              "    </tr>\n",
              "    <tr>\n",
              "      <th>2291848</th>\n",
              "      <td>1435460400000</td>\n",
              "      <td>444741</td>\n",
              "      <td>categoryid</td>\n",
              "      <td>511</td>\n",
              "      <td>511.0</td>\n",
              "      <td>724.0</td>\n",
              "    </tr>\n",
              "    <tr>\n",
              "      <th>2291849</th>\n",
              "      <td>1435460400000</td>\n",
              "      <td>97513</td>\n",
              "      <td>categoryid</td>\n",
              "      <td>1385</td>\n",
              "      <td>1385.0</td>\n",
              "      <td>1202.0</td>\n",
              "    </tr>\n",
              "    <tr>\n",
              "      <th>2291850</th>\n",
              "      <td>1433041200000</td>\n",
              "      <td>356167</td>\n",
              "      <td>available</td>\n",
              "      <td>0</td>\n",
              "      <td>0.0</td>\n",
              "      <td>605.0</td>\n",
              "    </tr>\n",
              "    <tr>\n",
              "      <th>2291851</th>\n",
              "      <td>1439089200000</td>\n",
              "      <td>200211</td>\n",
              "      <td>available</td>\n",
              "      <td>0</td>\n",
              "      <td>0.0</td>\n",
              "      <td>605.0</td>\n",
              "    </tr>\n",
              "    <tr>\n",
              "      <th>2291852</th>\n",
              "      <td>1436065200000</td>\n",
              "      <td>74745</td>\n",
              "      <td>available</td>\n",
              "      <td>0</td>\n",
              "      <td>0.0</td>\n",
              "      <td>605.0</td>\n",
              "    </tr>\n",
              "  </tbody>\n",
              "</table>\n",
              "<p>2291853 rows × 6 columns</p>\n",
              "</div>"
            ]
          },
          "execution_count": 7,
          "metadata": {},
          "output_type": "execute_result"
        }
      ],
      "execution_count": null
    },
    {
      "cell_type": "code",
      "source": [
        "items_cats['categoryid'] = items_cats['categoryid'].fillna('Unknown')\n",
        "items_cats['parentid'] = items_cats['parentid'].fillna('Unknown')"
      ],
      "metadata": {
        "id": "4QSjoYXfG5R5",
        "ExecuteTime": {
          "end_time": "2025-02-14T15:33:48.098062Z",
          "start_time": "2025-02-14T15:33:47.801771Z"
        }
      },
      "outputs": [],
      "execution_count": null
    },
    {
      "cell_type": "code",
      "source": [
        "# Sort by itemid and timestamp\n",
        "items_cats_sorted = items_cats.sort_values(by=['itemid', 'timestamp'])\n",
        "\n",
        "# Group by itemid\n",
        "grouped = items_cats_sorted.groupby('itemid')\n",
        "\n",
        "# Initialize an empty list to store the results\n",
        "result_data = []\n",
        "\n",
        "# Iterate through each group\n",
        "for itemid, group in grouped:\n",
        "    # Filter for 'available' property\n",
        "    available_rows = group[group['property'] == 'available']\n",
        "\n",
        "    # Iterate through available rows\n",
        "    for i in range(len(available_rows) - 1):\n",
        "        # Get current and next row\n",
        "        current_row = available_rows.iloc[i]\n",
        "        next_row = available_rows.iloc[i + 1]\n",
        "\n",
        "        # Create a dictionary to store the new data\n",
        "        new_row = current_row.to_dict()  # Start with all columns from current_row\n",
        "\n",
        "        # Add new features\n",
        "        new_row['from'] = current_row['timestamp']\n",
        "        new_row['to'] = next_row['timestamp']\n",
        "\n",
        "        # Determine 'availability' value\n",
        "        if current_row['value'] == 0 and next_row['value'] == 1:\n",
        "            new_row['availability'] = 0\n",
        "        elif current_row['value'] == 1 and next_row['value'] == 0:\n",
        "            new_row['availability'] = 1\n",
        "\n",
        "        # Append to the result list\n",
        "        result_data.append(new_row)\n",
        "\n",
        "# Create a DataFrame from the result list\n",
        "result_df = pd.DataFrame(result_data)\n"
      ],
      "metadata": {
        "id": "szqPZbK8G_CF",
        "ExecuteTime": {
          "end_time": "2025-02-14T15:35:45.429385Z",
          "start_time": "2025-02-14T15:33:48.503941Z"
        }
      },
      "outputs": [],
      "execution_count": null
    },
    {
      "cell_type": "code",
      "source": [
        "import pandas as pd\n",
        "\n",
        "# Sort by itemid, from, and to\n",
        "result_df_sorted = result_df.sort_values(by=['itemid', 'from', 'to'])\n",
        "\n",
        "# Group by itemid and availability\n",
        "grouped = result_df_sorted.groupby(['itemid', 'availability'])\n",
        "\n",
        "# Initialize an empty list to store the processed rows\n",
        "processed_rows = []\n",
        "\n",
        "# Iterate through each group\n",
        "for (itemid, availability), group in grouped:\n",
        "    # If there are multiple rows with the same availability\n",
        "    if len(group) > 1:\n",
        "        # Update the 'to' value of the first row with the 'to' value of the last row\n",
        "        first_row = group.iloc[0].copy()  # Create a copy to avoid modifying the original DataFrame\n",
        "        first_row['to'] = group.iloc[-1]['to']\n",
        "        processed_rows.append(first_row)\n",
        "    else:\n",
        "        # If only one row, keep it as is\n",
        "        processed_rows.append(group.iloc[0])\n",
        "\n",
        "# Create a new DataFrame from the processed rows\n",
        "final_df = pd.DataFrame(processed_rows)\n",
        "\n",
        "# Display the final DataFrame\n",
        "final_df"
      ],
      "metadata": {
        "colab": {
          "base_uri": "https://localhost:8080/",
          "height": 424
        },
        "id": "t6l8FCmAG_tH",
        "outputId": "0e96d5ee-7afe-435b-8b1a-c19b94525af4",
        "ExecuteTime": {
          "end_time": "2025-02-14T15:35:58.334896Z",
          "start_time": "2025-02-14T15:35:49.125993Z"
        }
      },
      "outputs": [
        {
          "data": {
            "text/plain": [
              "             timestamp  itemid   property  value  categoryid  parentid  \\\n",
              "0        1431226800000       1  available      1         1.0     854.0   \n",
              "22       1434250800000       6  available      1         1.0     854.0   \n",
              "34       1431226800000      15  available      0         0.0     605.0   \n",
              "42       1436670000000      15  available      1         1.0     854.0   \n",
              "54       1433041200000      16  available      0         0.0     605.0   \n",
              "...                ...     ...        ...    ...         ...       ...   \n",
              "1086539  1433646000000  466858  available      0         0.0     605.0   \n",
              "1086536  1431831600000  466858  available      1         1.0     854.0   \n",
              "1086553  1431831600000  466861  available      0         0.0     605.0   \n",
              "1086552  1431226800000  466861  available      1         1.0     854.0   \n",
              "1086581  1439089200000  466864  available      1         1.0     854.0   \n",
              "\n",
              "                  from             to  availability  \n",
              "0        1431226800000  1431831600000           1.0  \n",
              "22       1434250800000  1435460400000           1.0  \n",
              "34       1431226800000  1431831600000           0.0  \n",
              "42       1436670000000  1437274800000           1.0  \n",
              "54       1433041200000  1437879600000           0.0  \n",
              "...                ...            ...           ...  \n",
              "1086539  1433646000000  1434250800000           0.0  \n",
              "1086536  1431831600000  1432436400000           1.0  \n",
              "1086553  1431831600000  1441508400000           0.0  \n",
              "1086552  1431226800000  1442113200000           1.0  \n",
              "1086581  1439089200000  1439694000000           1.0  \n",
              "\n",
              "[112043 rows x 9 columns]"
            ],
            "text/html": [
              "<div>\n",
              "<style scoped>\n",
              "    .dataframe tbody tr th:only-of-type {\n",
              "        vertical-align: middle;\n",
              "    }\n",
              "\n",
              "    .dataframe tbody tr th {\n",
              "        vertical-align: top;\n",
              "    }\n",
              "\n",
              "    .dataframe thead th {\n",
              "        text-align: right;\n",
              "    }\n",
              "</style>\n",
              "<table border=\"1\" class=\"dataframe\">\n",
              "  <thead>\n",
              "    <tr style=\"text-align: right;\">\n",
              "      <th></th>\n",
              "      <th>timestamp</th>\n",
              "      <th>itemid</th>\n",
              "      <th>property</th>\n",
              "      <th>value</th>\n",
              "      <th>categoryid</th>\n",
              "      <th>parentid</th>\n",
              "      <th>from</th>\n",
              "      <th>to</th>\n",
              "      <th>availability</th>\n",
              "    </tr>\n",
              "  </thead>\n",
              "  <tbody>\n",
              "    <tr>\n",
              "      <th>0</th>\n",
              "      <td>1431226800000</td>\n",
              "      <td>1</td>\n",
              "      <td>available</td>\n",
              "      <td>1</td>\n",
              "      <td>1.0</td>\n",
              "      <td>854.0</td>\n",
              "      <td>1431226800000</td>\n",
              "      <td>1431831600000</td>\n",
              "      <td>1.0</td>\n",
              "    </tr>\n",
              "    <tr>\n",
              "      <th>22</th>\n",
              "      <td>1434250800000</td>\n",
              "      <td>6</td>\n",
              "      <td>available</td>\n",
              "      <td>1</td>\n",
              "      <td>1.0</td>\n",
              "      <td>854.0</td>\n",
              "      <td>1434250800000</td>\n",
              "      <td>1435460400000</td>\n",
              "      <td>1.0</td>\n",
              "    </tr>\n",
              "    <tr>\n",
              "      <th>34</th>\n",
              "      <td>1431226800000</td>\n",
              "      <td>15</td>\n",
              "      <td>available</td>\n",
              "      <td>0</td>\n",
              "      <td>0.0</td>\n",
              "      <td>605.0</td>\n",
              "      <td>1431226800000</td>\n",
              "      <td>1431831600000</td>\n",
              "      <td>0.0</td>\n",
              "    </tr>\n",
              "    <tr>\n",
              "      <th>42</th>\n",
              "      <td>1436670000000</td>\n",
              "      <td>15</td>\n",
              "      <td>available</td>\n",
              "      <td>1</td>\n",
              "      <td>1.0</td>\n",
              "      <td>854.0</td>\n",
              "      <td>1436670000000</td>\n",
              "      <td>1437274800000</td>\n",
              "      <td>1.0</td>\n",
              "    </tr>\n",
              "    <tr>\n",
              "      <th>54</th>\n",
              "      <td>1433041200000</td>\n",
              "      <td>16</td>\n",
              "      <td>available</td>\n",
              "      <td>0</td>\n",
              "      <td>0.0</td>\n",
              "      <td>605.0</td>\n",
              "      <td>1433041200000</td>\n",
              "      <td>1437879600000</td>\n",
              "      <td>0.0</td>\n",
              "    </tr>\n",
              "    <tr>\n",
              "      <th>...</th>\n",
              "      <td>...</td>\n",
              "      <td>...</td>\n",
              "      <td>...</td>\n",
              "      <td>...</td>\n",
              "      <td>...</td>\n",
              "      <td>...</td>\n",
              "      <td>...</td>\n",
              "      <td>...</td>\n",
              "      <td>...</td>\n",
              "    </tr>\n",
              "    <tr>\n",
              "      <th>1086539</th>\n",
              "      <td>1433646000000</td>\n",
              "      <td>466858</td>\n",
              "      <td>available</td>\n",
              "      <td>0</td>\n",
              "      <td>0.0</td>\n",
              "      <td>605.0</td>\n",
              "      <td>1433646000000</td>\n",
              "      <td>1434250800000</td>\n",
              "      <td>0.0</td>\n",
              "    </tr>\n",
              "    <tr>\n",
              "      <th>1086536</th>\n",
              "      <td>1431831600000</td>\n",
              "      <td>466858</td>\n",
              "      <td>available</td>\n",
              "      <td>1</td>\n",
              "      <td>1.0</td>\n",
              "      <td>854.0</td>\n",
              "      <td>1431831600000</td>\n",
              "      <td>1432436400000</td>\n",
              "      <td>1.0</td>\n",
              "    </tr>\n",
              "    <tr>\n",
              "      <th>1086553</th>\n",
              "      <td>1431831600000</td>\n",
              "      <td>466861</td>\n",
              "      <td>available</td>\n",
              "      <td>0</td>\n",
              "      <td>0.0</td>\n",
              "      <td>605.0</td>\n",
              "      <td>1431831600000</td>\n",
              "      <td>1441508400000</td>\n",
              "      <td>0.0</td>\n",
              "    </tr>\n",
              "    <tr>\n",
              "      <th>1086552</th>\n",
              "      <td>1431226800000</td>\n",
              "      <td>466861</td>\n",
              "      <td>available</td>\n",
              "      <td>1</td>\n",
              "      <td>1.0</td>\n",
              "      <td>854.0</td>\n",
              "      <td>1431226800000</td>\n",
              "      <td>1442113200000</td>\n",
              "      <td>1.0</td>\n",
              "    </tr>\n",
              "    <tr>\n",
              "      <th>1086581</th>\n",
              "      <td>1439089200000</td>\n",
              "      <td>466864</td>\n",
              "      <td>available</td>\n",
              "      <td>1</td>\n",
              "      <td>1.0</td>\n",
              "      <td>854.0</td>\n",
              "      <td>1439089200000</td>\n",
              "      <td>1439694000000</td>\n",
              "      <td>1.0</td>\n",
              "    </tr>\n",
              "  </tbody>\n",
              "</table>\n",
              "<p>112043 rows × 9 columns</p>\n",
              "</div>"
            ]
          },
          "execution_count": 10,
          "metadata": {},
          "output_type": "execute_result"
        }
      ],
      "execution_count": null
    },
    {
      "cell_type": "code",
      "source": [
        "# 1. Extract itemid, categoryid, and parentid from items_cats where property is 'categoryid'\n",
        "item_category_mapping = items_cats[items_cats['property'] == 'categoryid'][['itemid', 'categoryid', 'parentid']]\n",
        "\n",
        "# 2. Convert itemid to string for matching\n",
        "item_category_mapping['itemid'] = item_category_mapping['itemid'].astype(str)\n",
        "final_df['itemid'] = final_df['itemid'].astype(str)\n",
        "\n",
        "# 3. Replace categoryid and parentid in final_df using the mapping\n",
        "final_df = pd.merge(final_df, item_category_mapping[['itemid', 'categoryid', 'parentid']], on='itemid', how='left', suffixes=('', '_new'))\n",
        "final_df['categoryid'] = final_df['categoryid_new']  # Directly replace categoryid\n",
        "final_df['parentid'] = final_df['parentid_new']  # Directly replace parentid\n",
        "final_df = final_df.drop(columns=['categoryid_new', 'parentid_new'])  # Drop temporary columns\n",
        "\n",
        "# Display the updated final_df\n",
        "final_df"
      ],
      "metadata": {
        "colab": {
          "base_uri": "https://localhost:8080/",
          "height": 424
        },
        "id": "8E-koRkTHCUz",
        "outputId": "e0560b50-e0bd-4f18-baf4-27091de50419",
        "ExecuteTime": {
          "end_time": "2025-02-14T15:35:59.469779Z",
          "start_time": "2025-02-14T15:35:58.371264Z"
        }
      },
      "outputs": [
        {
          "data": {
            "text/plain": [
              "            timestamp  itemid   property  value categoryid parentid  \\\n",
              "0       1431226800000       1  available      1     1114.0    113.0   \n",
              "1       1434250800000       6  available      1     1091.0    573.0   \n",
              "2       1431226800000      15  available      0      722.0   1110.0   \n",
              "3       1436670000000      15  available      1      722.0   1110.0   \n",
              "4       1433041200000      16  available      0      333.0   1497.0   \n",
              "...               ...     ...        ...    ...        ...      ...   \n",
              "210806  1433646000000  466858  available      0     1191.0     61.0   \n",
              "210807  1431831600000  466858  available      1     1191.0     61.0   \n",
              "210808  1431831600000  466861  available      0     1051.0    955.0   \n",
              "210809  1431226800000  466861  available      1     1051.0    955.0   \n",
              "210810  1439089200000  466864  available      1      373.0    340.0   \n",
              "\n",
              "                 from             to  availability  \n",
              "0       1431226800000  1431831600000           1.0  \n",
              "1       1434250800000  1435460400000           1.0  \n",
              "2       1431226800000  1431831600000           0.0  \n",
              "3       1436670000000  1437274800000           1.0  \n",
              "4       1433041200000  1437879600000           0.0  \n",
              "...               ...            ...           ...  \n",
              "210806  1433646000000  1434250800000           0.0  \n",
              "210807  1431831600000  1432436400000           1.0  \n",
              "210808  1431831600000  1441508400000           0.0  \n",
              "210809  1431226800000  1442113200000           1.0  \n",
              "210810  1439089200000  1439694000000           1.0  \n",
              "\n",
              "[210811 rows x 9 columns]"
            ],
            "text/html": [
              "<div>\n",
              "<style scoped>\n",
              "    .dataframe tbody tr th:only-of-type {\n",
              "        vertical-align: middle;\n",
              "    }\n",
              "\n",
              "    .dataframe tbody tr th {\n",
              "        vertical-align: top;\n",
              "    }\n",
              "\n",
              "    .dataframe thead th {\n",
              "        text-align: right;\n",
              "    }\n",
              "</style>\n",
              "<table border=\"1\" class=\"dataframe\">\n",
              "  <thead>\n",
              "    <tr style=\"text-align: right;\">\n",
              "      <th></th>\n",
              "      <th>timestamp</th>\n",
              "      <th>itemid</th>\n",
              "      <th>property</th>\n",
              "      <th>value</th>\n",
              "      <th>categoryid</th>\n",
              "      <th>parentid</th>\n",
              "      <th>from</th>\n",
              "      <th>to</th>\n",
              "      <th>availability</th>\n",
              "    </tr>\n",
              "  </thead>\n",
              "  <tbody>\n",
              "    <tr>\n",
              "      <th>0</th>\n",
              "      <td>1431226800000</td>\n",
              "      <td>1</td>\n",
              "      <td>available</td>\n",
              "      <td>1</td>\n",
              "      <td>1114.0</td>\n",
              "      <td>113.0</td>\n",
              "      <td>1431226800000</td>\n",
              "      <td>1431831600000</td>\n",
              "      <td>1.0</td>\n",
              "    </tr>\n",
              "    <tr>\n",
              "      <th>1</th>\n",
              "      <td>1434250800000</td>\n",
              "      <td>6</td>\n",
              "      <td>available</td>\n",
              "      <td>1</td>\n",
              "      <td>1091.0</td>\n",
              "      <td>573.0</td>\n",
              "      <td>1434250800000</td>\n",
              "      <td>1435460400000</td>\n",
              "      <td>1.0</td>\n",
              "    </tr>\n",
              "    <tr>\n",
              "      <th>2</th>\n",
              "      <td>1431226800000</td>\n",
              "      <td>15</td>\n",
              "      <td>available</td>\n",
              "      <td>0</td>\n",
              "      <td>722.0</td>\n",
              "      <td>1110.0</td>\n",
              "      <td>1431226800000</td>\n",
              "      <td>1431831600000</td>\n",
              "      <td>0.0</td>\n",
              "    </tr>\n",
              "    <tr>\n",
              "      <th>3</th>\n",
              "      <td>1436670000000</td>\n",
              "      <td>15</td>\n",
              "      <td>available</td>\n",
              "      <td>1</td>\n",
              "      <td>722.0</td>\n",
              "      <td>1110.0</td>\n",
              "      <td>1436670000000</td>\n",
              "      <td>1437274800000</td>\n",
              "      <td>1.0</td>\n",
              "    </tr>\n",
              "    <tr>\n",
              "      <th>4</th>\n",
              "      <td>1433041200000</td>\n",
              "      <td>16</td>\n",
              "      <td>available</td>\n",
              "      <td>0</td>\n",
              "      <td>333.0</td>\n",
              "      <td>1497.0</td>\n",
              "      <td>1433041200000</td>\n",
              "      <td>1437879600000</td>\n",
              "      <td>0.0</td>\n",
              "    </tr>\n",
              "    <tr>\n",
              "      <th>...</th>\n",
              "      <td>...</td>\n",
              "      <td>...</td>\n",
              "      <td>...</td>\n",
              "      <td>...</td>\n",
              "      <td>...</td>\n",
              "      <td>...</td>\n",
              "      <td>...</td>\n",
              "      <td>...</td>\n",
              "      <td>...</td>\n",
              "    </tr>\n",
              "    <tr>\n",
              "      <th>210806</th>\n",
              "      <td>1433646000000</td>\n",
              "      <td>466858</td>\n",
              "      <td>available</td>\n",
              "      <td>0</td>\n",
              "      <td>1191.0</td>\n",
              "      <td>61.0</td>\n",
              "      <td>1433646000000</td>\n",
              "      <td>1434250800000</td>\n",
              "      <td>0.0</td>\n",
              "    </tr>\n",
              "    <tr>\n",
              "      <th>210807</th>\n",
              "      <td>1431831600000</td>\n",
              "      <td>466858</td>\n",
              "      <td>available</td>\n",
              "      <td>1</td>\n",
              "      <td>1191.0</td>\n",
              "      <td>61.0</td>\n",
              "      <td>1431831600000</td>\n",
              "      <td>1432436400000</td>\n",
              "      <td>1.0</td>\n",
              "    </tr>\n",
              "    <tr>\n",
              "      <th>210808</th>\n",
              "      <td>1431831600000</td>\n",
              "      <td>466861</td>\n",
              "      <td>available</td>\n",
              "      <td>0</td>\n",
              "      <td>1051.0</td>\n",
              "      <td>955.0</td>\n",
              "      <td>1431831600000</td>\n",
              "      <td>1441508400000</td>\n",
              "      <td>0.0</td>\n",
              "    </tr>\n",
              "    <tr>\n",
              "      <th>210809</th>\n",
              "      <td>1431226800000</td>\n",
              "      <td>466861</td>\n",
              "      <td>available</td>\n",
              "      <td>1</td>\n",
              "      <td>1051.0</td>\n",
              "      <td>955.0</td>\n",
              "      <td>1431226800000</td>\n",
              "      <td>1442113200000</td>\n",
              "      <td>1.0</td>\n",
              "    </tr>\n",
              "    <tr>\n",
              "      <th>210810</th>\n",
              "      <td>1439089200000</td>\n",
              "      <td>466864</td>\n",
              "      <td>available</td>\n",
              "      <td>1</td>\n",
              "      <td>373.0</td>\n",
              "      <td>340.0</td>\n",
              "      <td>1439089200000</td>\n",
              "      <td>1439694000000</td>\n",
              "      <td>1.0</td>\n",
              "    </tr>\n",
              "  </tbody>\n",
              "</table>\n",
              "<p>210811 rows × 9 columns</p>\n",
              "</div>"
            ]
          },
          "execution_count": 11,
          "metadata": {},
          "output_type": "execute_result"
        }
      ],
      "execution_count": null
    },
    {
      "cell_type": "code",
      "source": [
        "item_final = final_df.drop(columns=['property','value','timestamp'])\n",
        "item_final"
      ],
      "metadata": {
        "colab": {
          "base_uri": "https://localhost:8080/",
          "height": 424
        },
        "id": "hlQNwQIsHEqN",
        "outputId": "b19d107e-e951-4824-dd1b-af6856f8af0c",
        "ExecuteTime": {
          "end_time": "2025-02-14T15:35:59.561887Z",
          "start_time": "2025-02-14T15:35:59.515256Z"
        }
      },
      "outputs": [
        {
          "data": {
            "text/plain": [
              "        itemid categoryid parentid           from             to  availability\n",
              "0            1     1114.0    113.0  1431226800000  1431831600000           1.0\n",
              "1            6     1091.0    573.0  1434250800000  1435460400000           1.0\n",
              "2           15      722.0   1110.0  1431226800000  1431831600000           0.0\n",
              "3           15      722.0   1110.0  1436670000000  1437274800000           1.0\n",
              "4           16      333.0   1497.0  1433041200000  1437879600000           0.0\n",
              "...        ...        ...      ...            ...            ...           ...\n",
              "210806  466858     1191.0     61.0  1433646000000  1434250800000           0.0\n",
              "210807  466858     1191.0     61.0  1431831600000  1432436400000           1.0\n",
              "210808  466861     1051.0    955.0  1431831600000  1441508400000           0.0\n",
              "210809  466861     1051.0    955.0  1431226800000  1442113200000           1.0\n",
              "210810  466864      373.0    340.0  1439089200000  1439694000000           1.0\n",
              "\n",
              "[210811 rows x 6 columns]"
            ],
            "text/html": [
              "<div>\n",
              "<style scoped>\n",
              "    .dataframe tbody tr th:only-of-type {\n",
              "        vertical-align: middle;\n",
              "    }\n",
              "\n",
              "    .dataframe tbody tr th {\n",
              "        vertical-align: top;\n",
              "    }\n",
              "\n",
              "    .dataframe thead th {\n",
              "        text-align: right;\n",
              "    }\n",
              "</style>\n",
              "<table border=\"1\" class=\"dataframe\">\n",
              "  <thead>\n",
              "    <tr style=\"text-align: right;\">\n",
              "      <th></th>\n",
              "      <th>itemid</th>\n",
              "      <th>categoryid</th>\n",
              "      <th>parentid</th>\n",
              "      <th>from</th>\n",
              "      <th>to</th>\n",
              "      <th>availability</th>\n",
              "    </tr>\n",
              "  </thead>\n",
              "  <tbody>\n",
              "    <tr>\n",
              "      <th>0</th>\n",
              "      <td>1</td>\n",
              "      <td>1114.0</td>\n",
              "      <td>113.0</td>\n",
              "      <td>1431226800000</td>\n",
              "      <td>1431831600000</td>\n",
              "      <td>1.0</td>\n",
              "    </tr>\n",
              "    <tr>\n",
              "      <th>1</th>\n",
              "      <td>6</td>\n",
              "      <td>1091.0</td>\n",
              "      <td>573.0</td>\n",
              "      <td>1434250800000</td>\n",
              "      <td>1435460400000</td>\n",
              "      <td>1.0</td>\n",
              "    </tr>\n",
              "    <tr>\n",
              "      <th>2</th>\n",
              "      <td>15</td>\n",
              "      <td>722.0</td>\n",
              "      <td>1110.0</td>\n",
              "      <td>1431226800000</td>\n",
              "      <td>1431831600000</td>\n",
              "      <td>0.0</td>\n",
              "    </tr>\n",
              "    <tr>\n",
              "      <th>3</th>\n",
              "      <td>15</td>\n",
              "      <td>722.0</td>\n",
              "      <td>1110.0</td>\n",
              "      <td>1436670000000</td>\n",
              "      <td>1437274800000</td>\n",
              "      <td>1.0</td>\n",
              "    </tr>\n",
              "    <tr>\n",
              "      <th>4</th>\n",
              "      <td>16</td>\n",
              "      <td>333.0</td>\n",
              "      <td>1497.0</td>\n",
              "      <td>1433041200000</td>\n",
              "      <td>1437879600000</td>\n",
              "      <td>0.0</td>\n",
              "    </tr>\n",
              "    <tr>\n",
              "      <th>...</th>\n",
              "      <td>...</td>\n",
              "      <td>...</td>\n",
              "      <td>...</td>\n",
              "      <td>...</td>\n",
              "      <td>...</td>\n",
              "      <td>...</td>\n",
              "    </tr>\n",
              "    <tr>\n",
              "      <th>210806</th>\n",
              "      <td>466858</td>\n",
              "      <td>1191.0</td>\n",
              "      <td>61.0</td>\n",
              "      <td>1433646000000</td>\n",
              "      <td>1434250800000</td>\n",
              "      <td>0.0</td>\n",
              "    </tr>\n",
              "    <tr>\n",
              "      <th>210807</th>\n",
              "      <td>466858</td>\n",
              "      <td>1191.0</td>\n",
              "      <td>61.0</td>\n",
              "      <td>1431831600000</td>\n",
              "      <td>1432436400000</td>\n",
              "      <td>1.0</td>\n",
              "    </tr>\n",
              "    <tr>\n",
              "      <th>210808</th>\n",
              "      <td>466861</td>\n",
              "      <td>1051.0</td>\n",
              "      <td>955.0</td>\n",
              "      <td>1431831600000</td>\n",
              "      <td>1441508400000</td>\n",
              "      <td>0.0</td>\n",
              "    </tr>\n",
              "    <tr>\n",
              "      <th>210809</th>\n",
              "      <td>466861</td>\n",
              "      <td>1051.0</td>\n",
              "      <td>955.0</td>\n",
              "      <td>1431226800000</td>\n",
              "      <td>1442113200000</td>\n",
              "      <td>1.0</td>\n",
              "    </tr>\n",
              "    <tr>\n",
              "      <th>210810</th>\n",
              "      <td>466864</td>\n",
              "      <td>373.0</td>\n",
              "      <td>340.0</td>\n",
              "      <td>1439089200000</td>\n",
              "      <td>1439694000000</td>\n",
              "      <td>1.0</td>\n",
              "    </tr>\n",
              "  </tbody>\n",
              "</table>\n",
              "<p>210811 rows × 6 columns</p>\n",
              "</div>"
            ]
          },
          "execution_count": 12,
          "metadata": {},
          "output_type": "execute_result"
        }
      ],
      "execution_count": null
    },
    {
      "cell_type": "code",
      "source": [
        "event_df['is_transaction'] = event_df['transactionid'].notnull().astype(int)"
      ],
      "metadata": {
        "id": "Fe9AtG1xHGv5",
        "ExecuteTime": {
          "end_time": "2025-02-14T15:36:00.583696Z",
          "start_time": "2025-02-14T15:36:00.555831Z"
        }
      },
      "outputs": [],
      "execution_count": null
    },
    {
      "cell_type": "code",
      "source": [
        "event_df.drop(columns=['transactionid'], inplace=True)"
      ],
      "metadata": {
        "id": "YzCtkn-ZHJsL",
        "ExecuteTime": {
          "end_time": "2025-02-14T15:36:01.375209Z",
          "start_time": "2025-02-14T15:36:01.292368Z"
        }
      },
      "outputs": [],
      "execution_count": null
    },
    {
      "cell_type": "code",
      "source": [
        "item_final['itemid'] = item_final['itemid'].astype(str)\n",
        "item_final['categoryid'] = item_final['categoryid'].astype(str)\n",
        "item_final['parentid'] = item_final['parentid'].astype(str)\n",
        "item_final['categoryid'] = item_final['categoryid'].astype(str)\n",
        "\n",
        "event_df['itemid'] = event_df['itemid'].astype(str)\n",
        "event_df['visitorid'] = event_df['visitorid'].astype(str)\n"
      ],
      "metadata": {
        "id": "---ZGca2HL5-",
        "ExecuteTime": {
          "end_time": "2025-02-14T15:36:07.880205Z",
          "start_time": "2025-02-14T15:36:06.895294Z"
        }
      },
      "outputs": [],
      "execution_count": null
    },
    {
      "cell_type": "code",
      "source": [
        "# Convert timestamp columns to datetime for comparison and merging\n",
        "event_df['timestamp'] = pd.to_datetime(event_df['timestamp'])\n",
        "item_final['from'] = pd.to_datetime(item_final['from'])\n",
        "item_final['to'] = pd.to_datetime(item_final['to'])\n",
        "\n",
        "# Rename columns to avoid conflicts after merging\n",
        "item_final = item_final.rename(columns={'categoryid': 'item_categoryid', 'parentid': 'item_parentid'})\n",
        "\n",
        "# Merge event_df and item_final based on 'itemid'\n",
        "merged_df = pd.merge(event_df, item_final, on='itemid', how='left')\n",
        "\n",
        "# Filter the merged DataFrame based on timestamp range\n",
        "filtered_df = merged_df[\n",
        "    (merged_df['from'] <= merged_df['timestamp']) & (merged_df['timestamp'] <= merged_df['to'])\n",
        "]\n",
        "\n",
        "# Select relevant columns and rename them back to original names\n",
        "event_df = filtered_df[['visitorid', 'timestamp', 'itemid', 'event', 'is_transaction',\n",
        "                         'item_categoryid', 'item_parentid', 'availability']]\n",
        "event_df = event_df.rename(columns={'item_categoryid': 'categoryid', 'item_parentid': 'parentid'})\n",
        "\n",
        "# Display the updated event_df\n",
        "print(event_df)"
      ],
      "metadata": {
        "colab": {
          "base_uri": "https://localhost:8080/"
        },
        "id": "G_5dOxQsHOlc",
        "outputId": "5359edd6-1482-403a-cbd0-0fa117e1ea43",
        "ExecuteTime": {
          "end_time": "2025-02-14T15:36:11.559907Z",
          "start_time": "2025-02-14T15:36:08.443906Z"
        }
      },
      "outputs": [
        {
          "name": "stdout",
          "output_type": "stream",
          "text": [
            "        visitorid                     timestamp  itemid event  is_transaction  \\\n",
            "98        1076270 1970-01-01 00:23:53.222147345  262799  view               0   \n",
            "99        1076270 1970-01-01 00:23:53.222147345  262799  view               0   \n",
            "143        692195 1970-01-01 00:23:53.223138106  112792  view               0   \n",
            "146        392042 1970-01-01 00:23:53.223790254   16813  view               0   \n",
            "147        392042 1970-01-01 00:23:53.223790254   16813  view               0   \n",
            "...           ...                           ...     ...   ...             ...   \n",
            "6108754    639019 1970-01-01 00:23:58.400010258   47138  view               0   \n",
            "6108764    611270 1970-01-01 00:23:58.397455397  432925  view               0   \n",
            "6108765    611270 1970-01-01 00:23:58.397455397  432925  view               0   \n",
            "6108774    701750 1970-01-01 00:23:58.399289446  296172  view               0   \n",
            "6108775    701750 1970-01-01 00:23:58.399289446  296172  view               0   \n",
            "\n",
            "        categoryid parentid  availability  \n",
            "98           324.0   1145.0           0.0  \n",
            "99           324.0   1145.0           1.0  \n",
            "143          958.0   1041.0           0.0  \n",
            "146         1173.0    805.0           0.0  \n",
            "147         1173.0    805.0           1.0  \n",
            "...            ...      ...           ...  \n",
            "6108754     1047.0    127.0           0.0  \n",
            "6108764     1650.0   1426.0           0.0  \n",
            "6108765     1650.0   1426.0           1.0  \n",
            "6108774      624.0    871.0           0.0  \n",
            "6108775      624.0    871.0           1.0  \n",
            "\n",
            "[1225358 rows x 8 columns]\n"
          ]
        }
      ],
      "execution_count": null
    },
    {
      "cell_type": "code",
      "source": [
        "# Define a custom encoding for the event column\n",
        "event_weight = {\"view\": 1, \"addtocart\": 2, \"transaction\": 3}  # Assign weights\n",
        "event_df[\"event_encoded\"] = event_df[\"event\"].map(event_weight)\n",
        "\n",
        "# Compute extra visitor-level features directly in event_df before splitting\n",
        "visitor_features = event_df.groupby(\"visitorid\").agg(\n",
        "    total_interactions=(\"event\", \"count\"),\n",
        "    transaction_frequency=(\"is_transaction\", \"sum\"),\n",
        "    distinct_items=(\"itemid\", \"nunique\")\n",
        ").reset_index()\n",
        "\n",
        "# Merge back into the original dataset\n",
        "event_df = event_df.merge(visitor_features, on=\"visitorid\", how=\"left\")\n",
        "\n",
        "# Ensure there are no NaN values (should not happen, but just in case)\n",
        "#event_df.fillna(0, inplace=True)\n",
        "\n",
        "\n",
        "event_df.head()"
      ],
      "metadata": {
        "colab": {
          "base_uri": "https://localhost:8080/",
          "height": 313
        },
        "id": "UH9Mw38gHRJR",
        "outputId": "e7a4b825-a8e2-4dca-91d0-4feca9657cdf",
        "ExecuteTime": {
          "end_time": "2025-02-14T15:36:12.847123Z",
          "start_time": "2025-02-14T15:36:11.646053Z"
        }
      },
      "outputs": [
        {
          "data": {
            "text/plain": [
              "  visitorid                     timestamp  itemid event  is_transaction  \\\n",
              "0   1076270 1970-01-01 00:23:53.222147345  262799  view               0   \n",
              "1   1076270 1970-01-01 00:23:53.222147345  262799  view               0   \n",
              "2    692195 1970-01-01 00:23:53.223138106  112792  view               0   \n",
              "3    392042 1970-01-01 00:23:53.223790254   16813  view               0   \n",
              "4    392042 1970-01-01 00:23:53.223790254   16813  view               0   \n",
              "\n",
              "  categoryid parentid  availability  event_encoded  total_interactions  \\\n",
              "0      324.0   1145.0           0.0              1                  12   \n",
              "1      324.0   1145.0           1.0              1                  12   \n",
              "2      958.0   1041.0           0.0              1                   1   \n",
              "3     1173.0    805.0           0.0              1                   8   \n",
              "4     1173.0    805.0           1.0              1                   8   \n",
              "\n",
              "   transaction_frequency  distinct_items  \n",
              "0                      2               1  \n",
              "1                      2               1  \n",
              "2                      0               1  \n",
              "3                      0               2  \n",
              "4                      0               2  "
            ],
            "text/html": [
              "<div>\n",
              "<style scoped>\n",
              "    .dataframe tbody tr th:only-of-type {\n",
              "        vertical-align: middle;\n",
              "    }\n",
              "\n",
              "    .dataframe tbody tr th {\n",
              "        vertical-align: top;\n",
              "    }\n",
              "\n",
              "    .dataframe thead th {\n",
              "        text-align: right;\n",
              "    }\n",
              "</style>\n",
              "<table border=\"1\" class=\"dataframe\">\n",
              "  <thead>\n",
              "    <tr style=\"text-align: right;\">\n",
              "      <th></th>\n",
              "      <th>visitorid</th>\n",
              "      <th>timestamp</th>\n",
              "      <th>itemid</th>\n",
              "      <th>event</th>\n",
              "      <th>is_transaction</th>\n",
              "      <th>categoryid</th>\n",
              "      <th>parentid</th>\n",
              "      <th>availability</th>\n",
              "      <th>event_encoded</th>\n",
              "      <th>total_interactions</th>\n",
              "      <th>transaction_frequency</th>\n",
              "      <th>distinct_items</th>\n",
              "    </tr>\n",
              "  </thead>\n",
              "  <tbody>\n",
              "    <tr>\n",
              "      <th>0</th>\n",
              "      <td>1076270</td>\n",
              "      <td>1970-01-01 00:23:53.222147345</td>\n",
              "      <td>262799</td>\n",
              "      <td>view</td>\n",
              "      <td>0</td>\n",
              "      <td>324.0</td>\n",
              "      <td>1145.0</td>\n",
              "      <td>0.0</td>\n",
              "      <td>1</td>\n",
              "      <td>12</td>\n",
              "      <td>2</td>\n",
              "      <td>1</td>\n",
              "    </tr>\n",
              "    <tr>\n",
              "      <th>1</th>\n",
              "      <td>1076270</td>\n",
              "      <td>1970-01-01 00:23:53.222147345</td>\n",
              "      <td>262799</td>\n",
              "      <td>view</td>\n",
              "      <td>0</td>\n",
              "      <td>324.0</td>\n",
              "      <td>1145.0</td>\n",
              "      <td>1.0</td>\n",
              "      <td>1</td>\n",
              "      <td>12</td>\n",
              "      <td>2</td>\n",
              "      <td>1</td>\n",
              "    </tr>\n",
              "    <tr>\n",
              "      <th>2</th>\n",
              "      <td>692195</td>\n",
              "      <td>1970-01-01 00:23:53.223138106</td>\n",
              "      <td>112792</td>\n",
              "      <td>view</td>\n",
              "      <td>0</td>\n",
              "      <td>958.0</td>\n",
              "      <td>1041.0</td>\n",
              "      <td>0.0</td>\n",
              "      <td>1</td>\n",
              "      <td>1</td>\n",
              "      <td>0</td>\n",
              "      <td>1</td>\n",
              "    </tr>\n",
              "    <tr>\n",
              "      <th>3</th>\n",
              "      <td>392042</td>\n",
              "      <td>1970-01-01 00:23:53.223790254</td>\n",
              "      <td>16813</td>\n",
              "      <td>view</td>\n",
              "      <td>0</td>\n",
              "      <td>1173.0</td>\n",
              "      <td>805.0</td>\n",
              "      <td>0.0</td>\n",
              "      <td>1</td>\n",
              "      <td>8</td>\n",
              "      <td>0</td>\n",
              "      <td>2</td>\n",
              "    </tr>\n",
              "    <tr>\n",
              "      <th>4</th>\n",
              "      <td>392042</td>\n",
              "      <td>1970-01-01 00:23:53.223790254</td>\n",
              "      <td>16813</td>\n",
              "      <td>view</td>\n",
              "      <td>0</td>\n",
              "      <td>1173.0</td>\n",
              "      <td>805.0</td>\n",
              "      <td>1.0</td>\n",
              "      <td>1</td>\n",
              "      <td>8</td>\n",
              "      <td>0</td>\n",
              "      <td>2</td>\n",
              "    </tr>\n",
              "  </tbody>\n",
              "</table>\n",
              "</div>"
            ]
          },
          "execution_count": 17,
          "metadata": {},
          "output_type": "execute_result"
        }
      ],
      "execution_count": null
    },
    {
      "cell_type": "code",
      "source": [
        "# Convert visitorid and itemid to string\n",
        "event_df['visitorid'] = event_df['visitorid'].astype(str)\n",
        "event_df['itemid'] = event_df['itemid'].astype(str)\n",
        "\n",
        "# Convert categoryid and parentid to integers (removing decimals) unless they are 'Unknown'\n",
        "event_df['categoryid'] = event_df['categoryid'].apply(lambda x: str(int(float(x))) if x != 'Unknown' else x)\n",
        "event_df['parentid'] = event_df['parentid'].apply(lambda x: str(int(float(x))) if x != 'Unknown' else x)\n",
        "\n",
        "# Convert availability to integer (ensuring 0 and 1)\n",
        "event_df['availability'] = event_df['availability'].astype(int)\n",
        "\n",
        "# Verify dtypes\n",
        "print(event_df.dtypes)"
      ],
      "metadata": {
        "colab": {
          "base_uri": "https://localhost:8080/"
        },
        "id": "sVxcSRLjHXk_",
        "outputId": "d264bde3-ad5f-4cd1-b5a8-54899a231432",
        "ExecuteTime": {
          "end_time": "2025-02-14T15:36:13.987791Z",
          "start_time": "2025-02-14T15:36:12.894935Z"
        }
      },
      "outputs": [
        {
          "name": "stdout",
          "output_type": "stream",
          "text": [
            "visitorid                        object\n",
            "timestamp                datetime64[ns]\n",
            "itemid                           object\n",
            "event                            object\n",
            "is_transaction                    int64\n",
            "categoryid                       object\n",
            "parentid                         object\n",
            "availability                      int64\n",
            "event_encoded                     int64\n",
            "total_interactions                int64\n",
            "transaction_frequency             int64\n",
            "distinct_items                    int64\n",
            "dtype: object\n"
          ]
        }
      ],
      "execution_count": null
    },
    {
      "cell_type": "code",
      "source": [
        "from sklearn.preprocessing import StandardScaler\n",
        "\n",
        "scaler = StandardScaler()\n",
        "\n",
        "event_df[['total_interactions', 'transaction_frequency', 'distinct_items']] = scaler.fit_transform(\n",
        "    event_df[['total_interactions', 'transaction_frequency', 'distinct_items']]\n",
        ")\n"
      ],
      "metadata": {
        "id": "J9DYKKm6HYrk",
        "ExecuteTime": {
          "end_time": "2025-02-14T15:36:14.376597Z",
          "start_time": "2025-02-14T15:36:14.022237Z"
        }
      },
      "outputs": [],
      "execution_count": null
    },
    {
      "cell_type": "code",
      "source": [
        "filtered_event_df = event_df.copy()"
      ],
      "metadata": {
        "id": "TsZtvLhqHbDk",
        "ExecuteTime": {
          "end_time": "2025-02-14T15:36:14.827611Z",
          "start_time": "2025-02-14T15:36:14.480213Z"
        }
      },
      "outputs": [],
      "execution_count": null
    },
    {
      "cell_type": "code",
      "source": [
        "# Randomly shuffle the data\n",
        "filtered_event_df = filtered_event_df.sample(frac=1, random_state=42).reset_index(drop=True)\n",
        "\n",
        "# Get all unique visitorids and itemids\n",
        "all_users = set(filtered_event_df['visitorid'].unique())\n",
        "all_items = set(filtered_event_df['itemid'].unique())\n",
        "\n",
        "# Split the data into train/test based on the number of unique users and items\n",
        "split_fraction = 0.8\n",
        "split_index = int(len(filtered_event_df) * split_fraction)\n",
        "train_data = filtered_event_df[:split_index]\n",
        "test_data = filtered_event_df[split_index:]\n",
        "\n",
        "# Identify seen users and items in the train data\n",
        "seen_users = set(train_data['visitorid'].unique())\n",
        "seen_items = set(train_data['itemid'].unique())\n",
        "\n",
        "# Filter test data to include only users and items seen in the training data\n",
        "test_data = test_data[test_data['visitorid'].isin(seen_users) & test_data['itemid'].isin(seen_items)]\n",
        "\n",
        "# Ensure the test set does not have any new users/items\n",
        "print(\"Number of unique visitors in train:\", len(seen_users))\n",
        "print(\"Number of unique visitors in test:\", len(test_data['visitorid'].unique()))\n",
        "print(\"Number of unique items in train:\", len(seen_items))\n",
        "print(\"Number of unique items in test:\", len(test_data['itemid'].unique()))"
      ],
      "metadata": {
        "colab": {
          "base_uri": "https://localhost:8080/"
        },
        "id": "PTKl0jMMHmzD",
        "outputId": "c992b649-3e5e-428e-ea00-8b7d0f0e8c75",
        "ExecuteTime": {
          "end_time": "2025-02-14T15:36:16.410340Z",
          "start_time": "2025-02-14T15:36:14.866085Z"
        }
      },
      "outputs": [
        {
          "name": "stdout",
          "output_type": "stream",
          "text": [
            "Number of unique visitors in train: 190956\n",
            "Number of unique visitors in test: 64200\n",
            "Number of unique items in train: 30429\n",
            "Number of unique items in test: 16384\n"
          ]
        }
      ],
      "execution_count": null
    },
    {
      "cell_type": "code",
      "source": [
        "# Ensure there are no unseen visitors or items in the test set\n",
        "unseen_visitors = set(test_data['visitorid'].unique()) - seen_users\n",
        "unseen_items = set(test_data['itemid'].unique()) - seen_items\n",
        "\n",
        "# Print the results\n",
        "if unseen_visitors:\n",
        "    print(f\"Unseen visitors in test data: {unseen_visitors}\")\n",
        "else:\n",
        "    print(\"No unseen visitors in test data.\")\n",
        "\n",
        "if unseen_items:\n",
        "    print(f\"Unseen items in test data: {unseen_items}\")\n",
        "else:\n",
        "    print(\"No unseen items in test data.\")\n"
      ],
      "metadata": {
        "colab": {
          "base_uri": "https://localhost:8080/"
        },
        "id": "z_zkXDIvHo_n",
        "outputId": "3fb96624-e774-47a7-bd62-f73ed0d2615f",
        "ExecuteTime": {
          "end_time": "2025-02-14T15:36:16.790358Z",
          "start_time": "2025-02-14T15:36:16.668167Z"
        }
      },
      "outputs": [
        {
          "name": "stdout",
          "output_type": "stream",
          "text": [
            "No unseen visitors in test data.\n",
            "No unseen items in test data.\n"
          ]
        }
      ],
      "execution_count": null
    },
    {
      "cell_type": "code",
      "source": [
        "train_data.shape"
      ],
      "metadata": {
        "colab": {
          "base_uri": "https://localhost:8080/"
        },
        "id": "0g8EMfIYHrVy",
        "outputId": "1692ee02-fc36-482d-effb-b37e038ccb27",
        "ExecuteTime": {
          "end_time": "2025-02-14T15:36:17.036151Z",
          "start_time": "2025-02-14T15:36:17.020291Z"
        }
      },
      "outputs": [
        {
          "data": {
            "text/plain": [
              "(980286, 12)"
            ]
          },
          "execution_count": 23,
          "metadata": {},
          "output_type": "execute_result"
        }
      ],
      "execution_count": null
    },
    {
      "cell_type": "code",
      "source": [
        "test_data.shape"
      ],
      "metadata": {
        "colab": {
          "base_uri": "https://localhost:8080/"
        },
        "id": "s-rpMK5lHt5n",
        "outputId": "074f49f7-7fff-4a1e-cebd-96caeb8c719f",
        "ExecuteTime": {
          "end_time": "2025-02-14T15:36:17.302548Z",
          "start_time": "2025-02-14T15:36:17.287974Z"
        }
      },
      "outputs": [
        {
          "data": {
            "text/plain": [
              "(221316, 12)"
            ]
          },
          "execution_count": 24,
          "metadata": {},
          "output_type": "execute_result"
        }
      ],
      "execution_count": null
    },
    {
      "cell_type": "code",
      "source": [
        "import torch\n",
        "import torch_sparse\n",
        "import torch_geometric\n",
        "\n",
        "print(torch.__version__)\n",
        "print(torch_sparse.__version__)\n",
        "print(torch_geometric.__version__)\n"
      ],
      "metadata": {
        "colab": {
          "base_uri": "https://localhost:8080/"
        },
        "id": "s81IuFSjLUfC",
        "outputId": "d75ad2d8-2ff9-4809-e8f3-95aef14a7edc",
        "ExecuteTime": {
          "end_time": "2025-02-14T15:36:20.957484Z",
          "start_time": "2025-02-14T15:36:17.552558Z"
        }
      },
      "outputs": [
        {
          "name": "stdout",
          "output_type": "stream",
          "text": [
            "2.6.0+cpu\n",
            "0.6.18\n",
            "2.6.1\n"
          ]
        }
      ],
      "execution_count": null
    },
    {
      "cell_type": "code",
      "source": [
        "import torch\n",
        "from torch_geometric.data import HeteroData\n",
        "import pandas as pd\n",
        "\n",
        "# Create HeteroData object\n",
        "data = HeteroData()\n",
        "\n",
        "# --- Encode Identifiers as Integer Indices using train_data---\n",
        "train_data_encoded = train_data.copy()\n",
        "\n",
        "train_data_encoded.loc[:, 'visitorid_encoded'], visitor_mapping = pd.factorize(train_data_encoded['visitorid'])\n",
        "train_data_encoded.loc[:, 'itemid_encoded'], item_mapping = pd.factorize(train_data_encoded['itemid'])\n",
        "train_data_encoded.loc[:, 'categoryid_encoded'], category_mapping = pd.factorize(train_data_encoded['categoryid'])\n",
        "train_data_encoded.loc[:, 'parentid_encoded'], parent_mapping = pd.factorize(train_data_encoded['parentid'])\n",
        "\n",
        "# --- Add Visitor Nodes ---\n",
        "visitor_data = train_data_encoded.groupby('visitorid_encoded').agg(\n",
        "    total_interactions=('visitorid_encoded', 'size'),\n",
        "    transaction_frequency=('is_transaction', 'sum'),\n",
        "    distinct_items=('itemid_encoded', 'nunique')\n",
        ").reset_index()\n",
        "\n",
        "data['visitor'].x = torch.tensor(visitor_data[['total_interactions', 'transaction_frequency', 'distinct_items']].values, dtype=torch.float)\n",
        "\n",
        "# --- Add Item Nodes (Pad with Zeros) ---\n",
        "item_data = train_data_encoded[['itemid_encoded', 'availability', 'categoryid_encoded', 'parentid_encoded']].drop_duplicates(subset=['itemid_encoded'])\n",
        "\n",
        "# Padding item node features\n",
        "item_features = item_data[['availability']].values\n",
        "padded_item_features = torch.tensor(\n",
        "    np.hstack((item_features, np.zeros((item_features.shape[0], 2)))), dtype=torch.float\n",
        ")\n",
        "\n",
        "data['item'].x = padded_item_features  # Shape will be (num_items, 3)\n",
        "\n",
        "# --- Add Category Nodes (Pad with Zeros) ---\n",
        "category_data = train_data_encoded[['categoryid_encoded', 'parentid_encoded']].drop_duplicates(subset=['categoryid_encoded'])\n",
        "\n",
        "# Padding category node features\n",
        "category_features = category_data[['parentid_encoded']].values\n",
        "padded_category_features = torch.tensor(\n",
        "    np.hstack((category_features, np.zeros((category_features.shape[0], 2)))), dtype=torch.float\n",
        ")\n",
        "\n",
        "data['category'].x = padded_category_features  # Shape will be (num_categories, 3)\n"
      ],
      "metadata": {
        "id": "k-dX9gMQPMdD",
        "ExecuteTime": {
          "end_time": "2025-02-14T15:36:22.417211Z",
          "start_time": "2025-02-14T15:36:21.223473Z"
        }
      },
      "outputs": [],
      "execution_count": null
    },
    {
      "cell_type": "code",
      "source": [
        "# 1. Visitor → Item (interaction edges)\n",
        "train_data_encoded.loc[:, 'event_encoded'] = pd.to_numeric(train_data_encoded['event_encoded'], errors='coerce').fillna(0).astype(float)\n",
        "train_data_encoded.loc[:, 'is_transaction'] = pd.to_numeric(train_data_encoded['is_transaction'], errors='coerce').fillna(0).astype(float)\n",
        "train_data_encoded['timestamp'] = pd.to_datetime(train_data_encoded['timestamp'], errors='coerce')\n",
        "train_data_encoded['timestamp'] = train_data_encoded['timestamp'].astype('int64') // 10**9  # Convert to UNIX timestamp (seconds)\n",
        "\n",
        "visitor_item_edge_index = torch.tensor(\n",
        "    train_data_encoded[['visitorid_encoded', 'itemid_encoded']].values,\n",
        "    dtype=torch.long\n",
        ").t().contiguous()\n",
        "\n",
        "visitor_item_edge_attr = torch.tensor(\n",
        "    train_data_encoded[['event_encoded', 'is_transaction', 'timestamp']].values,\n",
        "    dtype=torch.float\n",
        ")\n",
        "\n",
        "data['visitor', 'interaction', 'item'].edge_index = visitor_item_edge_index\n",
        "data['visitor', 'interaction', 'item'].edge_attr = visitor_item_edge_attr\n",
        "\n",
        "# 2. Item → Category (item-category edges)\n",
        "item_category_edge_index = torch.tensor(\n",
        "    item_data[['itemid_encoded', 'categoryid_encoded']].dropna().astype(int).values,\n",
        "    dtype=torch.long\n",
        ").t().contiguous()\n",
        "\n",
        "item_category_edge_attr = torch.ones(item_category_edge_index.size(1), dtype=torch.float)\n",
        "\n",
        "data['item', 'belongs_to', 'category'].edge_index = item_category_edge_index\n",
        "data['item', 'belongs_to', 'category'].edge_attr = item_category_edge_attr\n",
        "\n",
        "# 3. Category → Parent Category (category hierarchy)\n",
        "category_data['categoryid_encoded'] = pd.to_numeric(category_data['categoryid_encoded'], errors='coerce').fillna(0).astype(int)\n",
        "category_data['parentid_encoded'] = pd.to_numeric(category_data['parentid_encoded'], errors='coerce').fillna(0).astype(int)\n",
        "\n",
        "category_parent_edge_index = torch.tensor(\n",
        "    category_data[['categoryid_encoded', 'parentid_encoded']].dropna().astype(int).values,\n",
        "    dtype=torch.long\n",
        ").t().contiguous()\n",
        "\n",
        "category_parent_edge_attr = torch.tensor(\n",
        "    category_data[['parentid_encoded']].values,\n",
        "    dtype=torch.float\n",
        ")\n",
        "\n",
        "data['category', 'sub_category_of', 'category'].edge_index = category_parent_edge_index\n",
        "data['category', 'sub_category_of', 'category'].edge_attr = category_parent_edge_attr\n",
        "\n",
        "# 4. Visitor → Category (visitor-category edges)\n",
        "visitor_category_edge_index = torch.tensor(\n",
        "    train_data_encoded[['visitorid_encoded', 'categoryid_encoded']].dropna().astype(int).values,\n",
        "    dtype=torch.long\n",
        ").t().contiguous()\n",
        "\n",
        "visitor_category_edge_attr = torch.tensor(\n",
        "    train_data_encoded[['event_encoded', 'is_transaction', 'timestamp']].values,\n",
        "    dtype=torch.float\n",
        ")\n",
        "\n",
        "data['visitor', 'visitor-category', 'category'].edge_index = visitor_category_edge_index\n",
        "data['visitor', 'visitor-category', 'category'].edge_attr = visitor_category_edge_attr\n",
        "\n",
        "# 5. Item → Parent Category (item-parent category edges)\n",
        "item_parent_edge_index = torch.tensor(\n",
        "    item_data[['itemid_encoded', 'parentid_encoded']].dropna().astype(int).values,\n",
        "    dtype=torch.long\n",
        ").t().contiguous()\n",
        "\n",
        "item_parent_edge_attr = torch.ones(item_parent_edge_index.size(1), dtype=torch.float)\n",
        "\n",
        "data['item', 'belongs_to_parent', 'category'].edge_index = item_parent_edge_index\n",
        "data['item', 'belongs_to_parent', 'category'].edge_attr = item_parent_edge_attr"
      ],
      "metadata": {
        "id": "FrOhBIQzHv_O",
        "ExecuteTime": {
          "end_time": "2025-02-14T15:36:22.942445Z",
          "start_time": "2025-02-14T15:36:22.764477Z"
        }
      },
      "outputs": [],
      "execution_count": null
    },
    {
      "metadata": {
        "ExecuteTime": {
          "end_time": "2025-02-14T15:36:23.289195Z",
          "start_time": "2025-02-14T15:36:23.279188Z"
        },
        "id": "6RSXJcY15BJm",
        "outputId": "b9ff61c7-1e5d-4a2a-c47f-b5eaab526d58"
      },
      "cell_type": "code",
      "source": [
        "# Check the number of nodes per type\n",
        "node_types = data.node_types\n",
        "print(f\"Node Types: {node_types}\")\n",
        "\n",
        "for node_type in node_types:\n",
        "    num_nodes = data[node_type].num_nodes\n",
        "    print(f\"Number of nodes in '{node_type}': {num_nodes}\")\n",
        "\n",
        "# Check the number of edge types and their counts\n",
        "edge_types = data.edge_types\n",
        "print(f\"Edge Types: {edge_types}\")\n",
        "\n",
        "for edge_type in edge_types:\n",
        "    src, rel, dst = edge_type\n",
        "    edge_index = data[edge_type].edge_index.cpu().numpy()\n",
        "    print(f\"Number of edges of type '{rel}' between {src} and {dst}: {edge_index.shape[1]}\")\n"
      ],
      "outputs": [
        {
          "name": "stdout",
          "output_type": "stream",
          "text": [
            "Node Types: ['visitor', 'item', 'category']\n",
            "Number of nodes in 'visitor': 190956\n",
            "Number of nodes in 'item': 30429\n",
            "Number of nodes in 'category': 849\n",
            "Edge Types: [('visitor', 'interaction', 'item'), ('item', 'belongs_to', 'category'), ('category', 'sub_category_of', 'category'), ('visitor', 'visitor-category', 'category'), ('item', 'belongs_to_parent', 'category')]\n",
            "Number of edges of type 'interaction' between visitor and item: 980286\n",
            "Number of edges of type 'belongs_to' between item and category: 30429\n",
            "Number of edges of type 'sub_category_of' between category and category: 849\n",
            "Number of edges of type 'visitor-category' between visitor and category: 980286\n",
            "Number of edges of type 'belongs_to_parent' between item and category: 30429\n"
          ]
        }
      ],
      "execution_count": null
    },
    {
      "metadata": {
        "ExecuteTime": {
          "end_time": "2025-02-14T15:36:23.657158Z",
          "start_time": "2025-02-14T15:36:23.643264Z"
        },
        "id": "4mPAuSIv5BJm",
        "outputId": "933d917e-2139-410f-e10a-1ffb5236bacf"
      },
      "cell_type": "code",
      "source": [
        "print(data)"
      ],
      "outputs": [
        {
          "name": "stdout",
          "output_type": "stream",
          "text": [
            "HeteroData(\n",
            "  visitor={ x=[190956, 3] },\n",
            "  item={ x=[30429, 3] },\n",
            "  category={ x=[849, 3] },\n",
            "  (visitor, interaction, item)={\n",
            "    edge_index=[2, 980286],\n",
            "    edge_attr=[980286, 3],\n",
            "  },\n",
            "  (item, belongs_to, category)={\n",
            "    edge_index=[2, 30429],\n",
            "    edge_attr=[30429],\n",
            "  },\n",
            "  (category, sub_category_of, category)={\n",
            "    edge_index=[2, 849],\n",
            "    edge_attr=[849, 1],\n",
            "  },\n",
            "  (visitor, visitor-category, category)={\n",
            "    edge_index=[2, 980286],\n",
            "    edge_attr=[980286, 3],\n",
            "  },\n",
            "  (item, belongs_to_parent, category)={\n",
            "    edge_index=[2, 30429],\n",
            "    edge_attr=[30429],\n",
            "  }\n",
            ")\n"
          ]
        }
      ],
      "execution_count": null
    },
    {
      "metadata": {
        "ExecuteTime": {
          "end_time": "2025-02-14T15:36:24.312916Z",
          "start_time": "2025-02-14T15:36:23.988929Z"
        },
        "id": "Z8_m23Ou5BJm",
        "outputId": "644fed77-5364-40ef-8aab-b7380eba17ec"
      },
      "cell_type": "code",
      "source": [
        "import torch\n",
        "import matplotlib.pyplot as plt\n",
        "import networkx as nx\n",
        "\n",
        "''''# Function to convert the heterogeneous graph to a NetworkX graph\n",
        "def convert_to_networkx(data):\n",
        "    G = nx.DiGraph()  # Directed graph to retain edge types\n",
        "\n",
        "    # Add nodes separately by type and assign 'ntype'\n",
        "    for node_type in data.node_types:\n",
        "        num_nodes = data[node_type].num_nodes\n",
        "        G.add_nodes_from(range(num_nodes), ntype=node_type)  # Assign node type as 'ntype'\n",
        "\n",
        "    # Add edges separately by type\n",
        "    for edge_type in data.edge_types:\n",
        "        src, relation, dst = edge_type\n",
        "        edge_index = data[edge_type].edge_index.cpu().numpy()\n",
        "\n",
        "        for i in range(edge_index.shape[1]):\n",
        "            G.add_edge(edge_index[0, i], edge_index[1, i], etype=relation)\n",
        "\n",
        "    return G\n",
        "\n",
        "# Convert the full graph to NetworkX\n",
        "G = convert_to_networkx(data)\n",
        "\n",
        "# Define the node types and edges to be included in the subgraph\n",
        "node_types_to_include = ['visitor', 'item', 'category']\n",
        "edge_types_to_include = [('visitor', 'interaction', 'item'),\n",
        "                         ('item', 'belongs_to', 'category'),\n",
        "                         ('visitor', 'visitor-category', 'category')]\n",
        "\n",
        "# Extract the subgraph from the NetworkX graph by filtering nodes and edges\n",
        "subgraph = G.subgraph([n for n, data in G.nodes(data=True) if data['ntype'] in node_types_to_include])\n",
        "\n",
        "# Create the visualization layout for the subgraph\n",
        "plt.figure(figsize=(12, 12))\n",
        "\n",
        "# Generate layout for visualization\n",
        "pos = nx.spring_layout(subgraph)  # Layout for better visualization\n",
        "\n",
        "# Draw the subgraph with different node colors for node types\n",
        "node_color_map = []\n",
        "for node, data in subgraph.nodes(data=True):\n",
        "    if data['ntype'] == 'visitor':\n",
        "        node_color_map.append('red')\n",
        "    elif data['ntype'] == 'item':\n",
        "        node_color_map.append('blue')\n",
        "    else:\n",
        "        node_color_map.append('green')\n",
        "\n",
        "# Draw the subgraph with custom node colors and edge types\n",
        "edge_color_map = []\n",
        "for u, v, data in subgraph.edges(data=True):\n",
        "    if data['etype'] == 'interaction':\n",
        "        edge_color_map.append('purple')\n",
        "    elif data['etype'] == 'belongs_to':\n",
        "        edge_color_map.append('orange')\n",
        "    else:\n",
        "        edge_color_map.append('gray')\n",
        "\n",
        "# Draw nodes, edges, and labels\n",
        "nx.draw(subgraph, pos, with_labels=True, node_color=node_color_map, edge_color=edge_color_map, node_size=500, font_size=8, font_weight='bold')\n",
        "\n",
        "# Title and show the plot\n",
        "plt.title(\"Subgraph Visualization with Node and Edge Type Colors\")\n",
        "plt.show() '''\n"
      ],
      "outputs": [
        {
          "data": {
            "text/plain": [
              "'\\'# Function to convert the heterogeneous graph to a NetworkX graph\\ndef convert_to_networkx(data):\\n    G = nx.DiGraph()  # Directed graph to retain edge types\\n\\n    # Add nodes separately by type and assign \\'ntype\\'\\n    for node_type in data.node_types:\\n        num_nodes = data[node_type].num_nodes\\n        G.add_nodes_from(range(num_nodes), ntype=node_type)  # Assign node type as \\'ntype\\'\\n\\n    # Add edges separately by type\\n    for edge_type in data.edge_types:\\n        src, relation, dst = edge_type\\n        edge_index = data[edge_type].edge_index.cpu().numpy()\\n\\n        for i in range(edge_index.shape[1]):\\n            G.add_edge(edge_index[0, i], edge_index[1, i], etype=relation)\\n\\n    return G\\n\\n# Convert the full graph to NetworkX\\nG = convert_to_networkx(data)\\n\\n# Define the node types and edges to be included in the subgraph\\nnode_types_to_include = [\\'visitor\\', \\'item\\', \\'category\\']\\nedge_types_to_include = [(\\'visitor\\', \\'interaction\\', \\'item\\'),\\n                         (\\'item\\', \\'belongs_to\\', \\'category\\'),\\n                         (\\'visitor\\', \\'visitor-category\\', \\'category\\')]\\n\\n# Extract the subgraph from the NetworkX graph by filtering nodes and edges\\nsubgraph = G.subgraph([n for n, data in G.nodes(data=True) if data[\\'ntype\\'] in node_types_to_include])\\n\\n# Create the visualization layout for the subgraph\\nplt.figure(figsize=(12, 12))\\n\\n# Generate layout for visualization\\npos = nx.spring_layout(subgraph)  # Layout for better visualization\\n\\n# Draw the subgraph with different node colors for node types\\nnode_color_map = []\\nfor node, data in subgraph.nodes(data=True):\\n    if data[\\'ntype\\'] == \\'visitor\\':\\n        node_color_map.append(\\'red\\')\\n    elif data[\\'ntype\\'] == \\'item\\':\\n        node_color_map.append(\\'blue\\')\\n    else:\\n        node_color_map.append(\\'green\\')\\n\\n# Draw the subgraph with custom node colors and edge types\\nedge_color_map = []\\nfor u, v, data in subgraph.edges(data=True):\\n    if data[\\'etype\\'] == \\'interaction\\':\\n        edge_color_map.append(\\'purple\\')\\n    elif data[\\'etype\\'] == \\'belongs_to\\':\\n        edge_color_map.append(\\'orange\\')\\n    else:\\n        edge_color_map.append(\\'gray\\')\\n\\n# Draw nodes, edges, and labels\\nnx.draw(subgraph, pos, with_labels=True, node_color=node_color_map, edge_color=edge_color_map, node_size=500, font_size=8, font_weight=\\'bold\\')\\n\\n# Title and show the plot\\nplt.title(\"Subgraph Visualization with Node and Edge Type Colors\")\\nplt.show() '"
            ]
          },
          "execution_count": 30,
          "metadata": {},
          "output_type": "execute_result"
        }
      ],
      "execution_count": null
    },
    {
      "cell_type": "code",
      "source": [
        "import torch\n",
        "from torch_geometric.data import HeteroData\n",
        "from torch_geometric.nn import HANConv\n",
        "import torch.nn.functional as F\n",
        "\n",
        "# Define HAN model\n",
        "class HANModel(torch.nn.Module):\n",
        "    def __init__(self, metadata, in_channels=3, hidden_channels=64, out_channels=32, heads=4):\n",
        "        super().__init__()\n",
        "\n",
        "        # Initialize HANConv layer\n",
        "        self.han_conv = HANConv(\n",
        "            in_channels,\n",
        "            hidden_channels,\n",
        "            heads=heads,\n",
        "            metadata=metadata\n",
        "        )\n",
        "\n",
        "        # Final transformation layer for visitor embeddings\n",
        "        self.fc = torch.nn.Linear(hidden_channels, hidden_channels)\n",
        "\n",
        "    def forward(self, x_dict, edge_index_dict):\n",
        "        print(\"\\n=== Forward Pass Debugging ===\")\n",
        "\n",
        "        # Ensure all nodes have their embeddings\n",
        "        for node_type in ['visitor', 'item', 'category']:\n",
        "            if node_type not in x_dict:\n",
        "                print(f\"⚠️ Missing node embeddings for {node_type}!\")\n",
        "                return None\n",
        "\n",
        "        # Debug input node features\n",
        "        print(\"\\n=== Input Node Features ===\")\n",
        "        for node_type, features in x_dict.items():\n",
        "            print(f\"{node_type} node embedding shape: {features.shape}\")\n",
        "\n",
        "        # Ensure visitors have self-loops for message passing\n",
        "        if ('visitor', 'self', 'visitor') not in edge_index_dict:\n",
        "            num_visitors = x_dict['visitor'].shape[0]\n",
        "            self_loops = torch.arange(num_visitors, dtype=torch.long).unsqueeze(0).repeat(2, 1)  # Create self-loops\n",
        "            edge_index_dict[('visitor', 'self', 'visitor')] = self_loops.to(x_dict['visitor'].device)\n",
        "            print(\"✅ Added self-loops to visitor nodes!\")\n",
        "\n",
        "        # Debug edge connectivity\n",
        "        print(\"\\n=== Checking Edge Connectivity ===\")\n",
        "        for edge_type, edge_index in edge_index_dict.items():\n",
        "            print(f\"Edge type: {edge_type}, edge index shape: {edge_index.shape}\")\n",
        "\n",
        "        # Pass through HANConv layer\n",
        "        print(\"\\n=== HANConv Layer Output ===\")\n",
        "        x = self.han_conv(x_dict, edge_index_dict)\n",
        "\n",
        "        # Debugging intermediate embeddings\n",
        "        print(\"\\n=== Debugging Intermediate Embeddings ===\")\n",
        "        for key, val in x.items():\n",
        "            print(f\"{key} embedding: {val.shape}\" if val is not None else f\"⚠️ {key} embedding is None!\")\n",
        "\n",
        "        # Ensure visitor embeddings exist after HANConv\n",
        "        if 'visitor' not in x or x['visitor'] is None:\n",
        "            print(\"⚠️ Visitor node embeddings are missing after HANConv! Check edge connections.\")\n",
        "            return None\n",
        "\n",
        "        # Apply ReLU activation\n",
        "        x = {key: F.relu(val) for key, val in x.items() if val is not None}\n",
        "\n",
        "\n",
        "\n",
        "        # Apply the final transformation to visitor embeddings\n",
        "        x['visitor'] = self.fc(x['visitor'])\n",
        "        print(\"✅ Final transformation applied to visitor embeddings.\")\n",
        "\n",
        "        return x\n",
        "\n",
        "\n",
        "'''# Define toy data\n",
        "toy_data = HeteroData()\n",
        "\n",
        "# Adding node features\n",
        "toy_data['visitor'].x = torch.randn(5, 3)  # 5 visitors, 3 features each\n",
        "\n",
        "# Items: 1 real feature + 2 zeros to match 3 dimensions\n",
        "item_real_features = torch.randn(3, 1)  # 3 items, 1 real feature\n",
        "item_zero_features = torch.zeros(3, 2)  # 3 items, 2 zero features\n",
        "toy_data['item'].x = torch.cat([item_real_features, item_zero_features], dim=1)\n",
        "\n",
        "# Categories: 2 real features + 1 zero to match 3 dimensions\n",
        "category_real_features = torch.randn(2, 2)  # 2 categories, 2 real features\n",
        "category_zero_features = torch.zeros(2, 1)  # 2 categories, 1 zero feature\n",
        "toy_data['category'].x = torch.cat([category_real_features, category_zero_features], dim=1)\n",
        "\n",
        "# Define edges (explicitly specifying dtype)\n",
        "toy_data['visitor', 'interaction', 'item'].edge_index = torch.tensor(\n",
        "    [[0, 1, 2, 3, 4], [0, 1, 2, 1, 0]], dtype=torch.long\n",
        ")\n",
        "toy_data['item', 'belongs_to', 'category'].edge_index = torch.tensor(\n",
        "    [[0, 1, 2], [0, 1, 1]], dtype=torch.long\n",
        ")\n",
        "toy_data['visitor', 'visitor-category', 'category'].edge_index = torch.tensor(\n",
        "    [[0, 1, 2, 3, 4], [0, 0, 1, 1, 0]], dtype=torch.long\n",
        ")\n",
        "\n",
        "# Add self-loops for visitor nodes\n",
        "num_visitors = toy_data['visitor'].x.shape[0]\n",
        "toy_data['visitor', 'self', 'visitor'].edge_index = torch.arange(\n",
        "    num_visitors, dtype=torch.long\n",
        ").repeat(2, 1)  # Self-loops\n",
        "\n",
        "# Define metadata for HAN (including self-loops)\n",
        "metadata = (\n",
        "    ['visitor', 'item', 'category'],  # Node types\n",
        "    [\n",
        "        ('visitor', 'interaction', 'item'),\n",
        "        ('item', 'belongs_to', 'category'),\n",
        "        ('visitor', 'visitor-category', 'category'),\n",
        "        ('visitor', 'self', 'visitor')  # Include self-loops in metadata\n",
        "    ]  # Edge types\n",
        ")\n",
        "\n",
        "# Initialize the HAN model\n",
        "model = HANModel(metadata, in_channels=3, hidden_channels=8, out_channels=4, heads=2)\n",
        "\n",
        "# Run toy data through the model\n",
        "output = model(toy_data.x_dict, toy_data.edge_index_dict)\n",
        "\n",
        "# Print the output\n",
        "print(\"\\nModel output on toy data:\")\n",
        "print(output)'''\n"
      ],
      "metadata": {
        "id": "ZhuAzd85hAe5",
        "ExecuteTime": {
          "end_time": "2025-02-14T18:04:37.158664Z",
          "start_time": "2025-02-14T18:04:37.139558Z"
        },
        "outputId": "bec6fcdd-6fde-438f-8b5f-867d87b2e781"
      },
      "outputs": [
        {
          "data": {
            "text/plain": [
              "'# Define toy data\\ntoy_data = HeteroData()\\n\\n# Adding node features\\ntoy_data[\\'visitor\\'].x = torch.randn(5, 3)  # 5 visitors, 3 features each\\n\\n# Items: 1 real feature + 2 zeros to match 3 dimensions\\nitem_real_features = torch.randn(3, 1)  # 3 items, 1 real feature\\nitem_zero_features = torch.zeros(3, 2)  # 3 items, 2 zero features\\ntoy_data[\\'item\\'].x = torch.cat([item_real_features, item_zero_features], dim=1)\\n\\n# Categories: 2 real features + 1 zero to match 3 dimensions\\ncategory_real_features = torch.randn(2, 2)  # 2 categories, 2 real features\\ncategory_zero_features = torch.zeros(2, 1)  # 2 categories, 1 zero feature\\ntoy_data[\\'category\\'].x = torch.cat([category_real_features, category_zero_features], dim=1)\\n\\n# Define edges (explicitly specifying dtype)\\ntoy_data[\\'visitor\\', \\'interaction\\', \\'item\\'].edge_index = torch.tensor(\\n    [[0, 1, 2, 3, 4], [0, 1, 2, 1, 0]], dtype=torch.long\\n)\\ntoy_data[\\'item\\', \\'belongs_to\\', \\'category\\'].edge_index = torch.tensor(\\n    [[0, 1, 2], [0, 1, 1]], dtype=torch.long\\n)\\ntoy_data[\\'visitor\\', \\'visitor-category\\', \\'category\\'].edge_index = torch.tensor(\\n    [[0, 1, 2, 3, 4], [0, 0, 1, 1, 0]], dtype=torch.long\\n)\\n\\n# Add self-loops for visitor nodes\\nnum_visitors = toy_data[\\'visitor\\'].x.shape[0]\\ntoy_data[\\'visitor\\', \\'self\\', \\'visitor\\'].edge_index = torch.arange(\\n    num_visitors, dtype=torch.long\\n).repeat(2, 1)  # Self-loops\\n\\n# Define metadata for HAN (including self-loops)\\nmetadata = (\\n    [\\'visitor\\', \\'item\\', \\'category\\'],  # Node types\\n    [\\n        (\\'visitor\\', \\'interaction\\', \\'item\\'),\\n        (\\'item\\', \\'belongs_to\\', \\'category\\'),\\n        (\\'visitor\\', \\'visitor-category\\', \\'category\\'),\\n        (\\'visitor\\', \\'self\\', \\'visitor\\')  # Include self-loops in metadata\\n    ]  # Edge types\\n)\\n\\n# Initialize the HAN model\\nmodel = HANModel(metadata, in_channels=3, hidden_channels=8, out_channels=4, heads=2)\\n\\n# Run toy data through the model\\noutput = model(toy_data.x_dict, toy_data.edge_index_dict)\\n\\n# Print the output\\nprint(\"\\nModel output on toy data:\")\\nprint(output)'"
            ]
          },
          "execution_count": 64,
          "metadata": {},
          "output_type": "execute_result"
        }
      ],
      "execution_count": null
    },
    {
      "metadata": {
        "ExecuteTime": {
          "end_time": "2025-02-14T18:04:43.703984Z",
          "start_time": "2025-02-14T18:04:43.392372Z"
        },
        "id": "XOL1XNuR5BJn",
        "outputId": "19803e10-8bcb-4b01-9639-96e2d894576b"
      },
      "cell_type": "code",
      "source": [
        "# Add self-loops for visitor nodes\n",
        "num_visitors = data['visitor'].x.shape[0]\n",
        "data['visitor', 'self', 'visitor'].edge_index = torch.arange(\n",
        "    num_visitors, dtype=torch.long\n",
        ").repeat(2, 1)  # Self-loops\n",
        "\n",
        "# Print all edge types in the data\n",
        "print(\"\\nChecking edge types in data:\")\n",
        "for edge_type in data.edge_index_dict.keys():\n",
        "    print(f\"Edge type: {edge_type}\")\n",
        "\n",
        "# Define metadata for HAN (with the correct edge types, including the 'category__sub_category_of__category' edge)\n",
        "metadata = (\n",
        "    ['visitor', 'item', 'category'],  # Node types\n",
        "    [\n",
        "        ('visitor', 'interaction', 'item'),\n",
        "        ('item', 'belongs_to', 'category'),\n",
        "        ('category', 'sub_category_of', 'category'),  # Corrected edge type\n",
        "        ('visitor', 'visitor-category', 'category'),\n",
        "        ('item', 'belongs_to_parent', 'category'),\n",
        "        ('visitor', 'self', 'visitor')  # Ensure this is correct\n",
        "    ]  # Edge types\n",
        ")\n",
        "\n",
        "# Initialize the HAN model\n",
        "model = HANModel(metadata, in_channels=3, hidden_channels=16, out_channels=4, heads=2)\n",
        "\n",
        "# Run toy data through the model\n",
        "output = model(data.x_dict, data.edge_index_dict)\n",
        "\n",
        "# Print the output\n",
        "print(\"\\nModel output on toy data:\")\n",
        "print(output)\n",
        "\n"
      ],
      "outputs": [
        {
          "name": "stdout",
          "output_type": "stream",
          "text": [
            "\n",
            "Checking edge types in data:\n",
            "Edge type: ('visitor', 'interaction', 'item')\n",
            "Edge type: ('item', 'belongs_to', 'category')\n",
            "Edge type: ('category', 'sub_category_of', 'category')\n",
            "Edge type: ('visitor', 'visitor-category', 'category')\n",
            "Edge type: ('item', 'belongs_to_parent', 'category')\n",
            "Edge type: ('visitor', 'self', 'visitor')\n",
            "\n",
            "=== Forward Pass Debugging ===\n",
            "\n",
            "=== Input Node Features ===\n",
            "visitor node embedding shape: torch.Size([190956, 3])\n",
            "item node embedding shape: torch.Size([30429, 3])\n",
            "category node embedding shape: torch.Size([849, 3])\n",
            "\n",
            "=== Checking Edge Connectivity ===\n",
            "Edge type: ('visitor', 'interaction', 'item'), edge index shape: torch.Size([2, 980286])\n",
            "Edge type: ('item', 'belongs_to', 'category'), edge index shape: torch.Size([2, 30429])\n",
            "Edge type: ('category', 'sub_category_of', 'category'), edge index shape: torch.Size([2, 849])\n",
            "Edge type: ('visitor', 'visitor-category', 'category'), edge index shape: torch.Size([2, 980286])\n",
            "Edge type: ('item', 'belongs_to_parent', 'category'), edge index shape: torch.Size([2, 30429])\n",
            "Edge type: ('visitor', 'self', 'visitor'), edge index shape: torch.Size([2, 190956])\n",
            "\n",
            "=== HANConv Layer Output ===\n",
            "\n",
            "=== Debugging Intermediate Embeddings ===\n",
            "visitor embedding: torch.Size([190956, 16])\n",
            "item embedding: torch.Size([30429, 16])\n",
            "category embedding: torch.Size([849, 16])\n",
            "✅ Final transformation applied to visitor embeddings.\n",
            "\n",
            "Model output on toy data:\n",
            "{'visitor': tensor([[-5.2117, -6.3517, -0.4093,  ..., -1.0407, -6.7657, -0.2934],\n",
            "        [-0.9850, -0.3004,  0.2914,  ..., -0.4594, -0.4901, -0.0649],\n",
            "        [-0.9850, -0.3004,  0.2914,  ..., -0.4594, -0.4901, -0.0649],\n",
            "        ...,\n",
            "        [-0.8698, -0.1054,  0.3929,  ..., -0.3143, -0.3697, -0.0479],\n",
            "        [-0.8698, -0.1054,  0.3929,  ..., -0.3143, -0.3697, -0.0479],\n",
            "        [-0.8698, -0.1054,  0.3929,  ..., -0.3143, -0.3697, -0.0479]],\n",
            "       grad_fn=<AddmmBackward0>), 'item': tensor([[2.4708e+01, 1.9972e+01, 0.0000e+00,  ..., 2.8926e+02, 0.0000e+00,\n",
            "         0.0000e+00],\n",
            "        [8.8639e-01, 9.7082e-01, 0.0000e+00,  ..., 3.5954e+02, 0.0000e+00,\n",
            "         0.0000e+00],\n",
            "        [1.7947e+00, 1.7189e+00, 0.0000e+00,  ..., 1.9632e+03, 0.0000e+00,\n",
            "         0.0000e+00],\n",
            "        ...,\n",
            "        [2.5059e+00, 2.1985e+00, 0.0000e+00,  ..., 5.3298e+00, 0.0000e+00,\n",
            "         0.0000e+00],\n",
            "        [2.2651e+00, 1.9075e+00, 0.0000e+00,  ..., 5.0010e+00, 0.0000e+00,\n",
            "         0.0000e+00],\n",
            "        [0.0000e+00, 1.7924e-01, 0.0000e+00,  ..., 6.6167e-01, 0.0000e+00,\n",
            "         0.0000e+00]], grad_fn=<ReluBackward0>), 'category': tensor([[2.1980e+02, 1.7415e+02, 8.9539e-02,  ..., 3.7530e+02, 2.3923e-01,\n",
            "         7.3779e-02],\n",
            "        [2.1990e+02, 1.7415e+02, 7.5290e-02,  ..., 3.7530e+02, 2.3930e-01,\n",
            "         7.9514e-02],\n",
            "        [2.1999e+02, 1.7415e+02, 8.4334e-02,  ..., 3.7530e+02, 2.3913e-01,\n",
            "         8.5248e-02],\n",
            "        ...,\n",
            "        [0.0000e+00, 1.1818e-01, 1.3423e-01,  ..., 1.2649e-01, 1.2069e-01,\n",
            "         0.0000e+00],\n",
            "        [7.6823e+01, 6.1005e+01, 0.0000e+00,  ..., 1.3229e+02, 1.2227e-01,\n",
            "         0.0000e+00],\n",
            "        [0.0000e+00, 3.4264e-02, 0.0000e+00,  ..., 1.2649e-01, 1.2227e-01,\n",
            "         0.0000e+00]], grad_fn=<ReluBackward0>)}\n"
          ]
        }
      ],
      "execution_count": null
    },
    {
      "metadata": {
        "ExecuteTime": {
          "end_time": "2025-02-14T18:04:49.502175Z",
          "start_time": "2025-02-14T18:04:49.486781Z"
        },
        "id": "ELAEcq-q5BJn",
        "outputId": "cb31e160-c78c-4baf-b5a1-cbb51982b325"
      },
      "cell_type": "code",
      "source": [
        "# Assuming 'output' is the result from your HAN model\n",
        "visitor_embeddings = output['visitor']\n",
        "item_embeddings = output['item']\n",
        "\n",
        "# Ensure these embeddings are in the right shape (e.g., [num_visitors, embedding_dim])\n",
        "print(\"Visitor Embeddings Shape:\", visitor_embeddings.shape)\n",
        "print(\"Item Embeddings Shape:\", item_embeddings.shape)\n"
      ],
      "outputs": [
        {
          "name": "stdout",
          "output_type": "stream",
          "text": [
            "Visitor Embeddings Shape: torch.Size([190956, 16])\n",
            "Item Embeddings Shape: torch.Size([30429, 16])\n"
          ]
        }
      ],
      "execution_count": null
    },
    {
      "metadata": {
        "ExecuteTime": {
          "end_time": "2025-02-14T18:05:07.445224Z",
          "start_time": "2025-02-14T18:04:57.857840Z"
        },
        "id": "tpHorz3U5BJn",
        "outputId": "73401e8f-ad2c-4682-8003-3af04f77f205"
      },
      "cell_type": "code",
      "source": [
        "import torch\n",
        "import torch.nn as nn\n",
        "\n",
        "# Move everything to GPU if available\n",
        "device = torch.device(\"cuda\" if torch.cuda.is_available() else \"cpu\")\n",
        "\n",
        "# Load data to GPU\n",
        "visitor_embeddings = visitor_embeddings.to(device)\n",
        "item_embeddings = item_embeddings.to(device)\n",
        "\n",
        "# Normalize both embeddings to unit vectors\n",
        "visitor_embeddings = visitor_embeddings / visitor_embeddings.norm(dim=1, keepdim=True)\n",
        "item_embeddings = item_embeddings / item_embeddings.norm(dim=1, keepdim=True)\n",
        "\n",
        "# Batch size for computing similarities\n",
        "batch_size = 5000  # Adjust based on available memory\n",
        "num_visitors = visitor_embeddings.shape[0]\n",
        "top_k = 5\n",
        "\n",
        "# Store top-k recommendations\n",
        "top_k_values_list = []\n",
        "top_k_indices_list = []\n",
        "\n",
        "# Process in batches\n",
        "for i in range(0, num_visitors, batch_size):\n",
        "    batch_visitors = visitor_embeddings[i : i + batch_size]  # Shape: [batch_size, 8]\n",
        "\n",
        "    # Compute cosine similarity using matrix multiplication\n",
        "    batch_similarities = torch.matmul(batch_visitors, item_embeddings.T)  # Shape: [batch_size, num_items]\n",
        "\n",
        "    # Get top-k recommendations\n",
        "    top_k_values, top_k_indices = torch.topk(batch_similarities, k=top_k, dim=1)\n",
        "\n",
        "    # Store results\n",
        "    top_k_values_list.append(top_k_values)\n",
        "    top_k_indices_list.append(top_k_indices)\n",
        "\n",
        "# Concatenate results\n",
        "top_k_values = torch.cat(top_k_values_list, dim=0)\n",
        "top_k_indices = torch.cat(top_k_indices_list, dim=0)\n",
        "\n",
        "print(\"Top-K Recommendations Shape:\", top_k_indices.shape)  # Expected: [190956, 5]\n",
        "print(\"Top-K Similarities Shape:\", top_k_values.shape)  # Expected: [190956, 5]\n"
      ],
      "outputs": [
        {
          "name": "stdout",
          "output_type": "stream",
          "text": [
            "Top-K Recommendations Shape: torch.Size([190956, 5])\n",
            "Top-K Similarities Shape: torch.Size([190956, 5])\n"
          ]
        }
      ],
      "execution_count": null
    },
    {
      "metadata": {
        "ExecuteTime": {
          "end_time": "2025-02-14T18:05:14.942266Z",
          "start_time": "2025-02-14T18:05:14.934066Z"
        },
        "id": "MnYHYZkI5BJn",
        "outputId": "9ad4f490-ae0e-466c-d9bc-dde39f5e49f6"
      },
      "cell_type": "code",
      "source": [
        "print(\"Top K Indices Shape:\", top_k_indices.shape)\n",
        "print(\"Max idx in train_data:\", train_data.index.max())\n"
      ],
      "outputs": [
        {
          "name": "stdout",
          "output_type": "stream",
          "text": [
            "Top K Indices Shape: torch.Size([190956, 5])\n",
            "Max idx in train_data: 980285\n"
          ]
        }
      ],
      "execution_count": null
    },
    {
      "metadata": {
        "ExecuteTime": {
          "end_time": "2025-02-14T18:05:24.632986Z",
          "start_time": "2025-02-14T18:05:24.381839Z"
        },
        "id": "xAdHE3Uu5BJn",
        "outputId": "70cb0201-a064-4a97-8b98-c04785a5f4ce"
      },
      "cell_type": "code",
      "source": [
        "import torch\n",
        "import numpy as np\n",
        "import matplotlib.pyplot as plt\n",
        "from sklearn.decomposition import PCA\n",
        "\n",
        "def plot_embeddings(embeddings, title=\"Embeddings Visualization\"):\n",
        "    embeddings_np = embeddings.detach().cpu().numpy() if isinstance(embeddings, torch.Tensor) else embeddings\n",
        "    pca = PCA(n_components=2)\n",
        "    reduced_embeddings = pca.fit_transform(embeddings_np)\n",
        "\n",
        "    plt.figure(figsize=(8, 6))\n",
        "    plt.scatter(reduced_embeddings[:, 0], reduced_embeddings[:, 1], s=1, alpha=0.5)\n",
        "    plt.title(title)\n",
        "    plt.xlabel(\"PCA 1\")\n",
        "    plt.ylabel(\"PCA 2\")\n",
        "    plt.show()\n",
        "\n",
        "# Plot visitor and item embeddings separately\n",
        "plot_embeddings(visitor_embeddings, title=\"Visitor Embeddings (PCA Projection)\")\n",
        "plot_embeddings(item_embeddings, title=\"Item Embeddings (PCA Projection)\")\n"
      ],
      "outputs": [
        {
          "data": {
            "text/plain": [
              "<Figure size 800x600 with 1 Axes>"
            ],
            "image/png": "[encoded data removed]"
          },
          "metadata": {},
          "output_type": "display_data"
        },
        {
          "data": {
            "text/plain": [
              "<Figure size 800x600 with 1 Axes>"
            ],
            "image/png": "[encoded data removed]"
          },
          "metadata": {},
          "output_type": "display_data"
        }
      ],
      "execution_count": null
    },
    {
      "metadata": {
        "ExecuteTime": {
          "end_time": "2025-02-14T18:05:52.140895Z",
          "start_time": "2025-02-14T18:05:35.662686Z"
        },
        "id": "YbCaq0dZ5BJn",
        "outputId": "e63a310f-b97f-45e7-d72f-71ed5319b75a"
      },
      "cell_type": "code",
      "source": [
        "import matplotlib.pyplot as plt\n",
        "import numpy as np\n",
        "from sklearn.decomposition import PCA\n",
        "from sklearn.manifold import TSNE\n",
        "import torch.nn.functional as F\n",
        "\n",
        "# Convert tensors to numpy\n",
        "visitor_embeddings_np = visitor_embeddings.cpu().detach().numpy()\n",
        "item_embeddings_np = item_embeddings.cpu().detach().numpy()\n",
        "\n",
        "# Normalize embeddings\n",
        "visitor_embeddings_np = F.normalize(torch.tensor(visitor_embeddings_np), p=2, dim=1).numpy()\n",
        "item_embeddings_np = F.normalize(torch.tensor(item_embeddings_np), p=2, dim=1).numpy()\n",
        "\n",
        "### 1. PCA on Normalized Embeddings ###\n",
        "pca = PCA(n_components=2)\n",
        "visitor_pca_norm = pca.fit_transform(visitor_embeddings_np)\n",
        "item_pca_norm = pca.fit_transform(item_embeddings_np)\n",
        "\n",
        "# Plot Normalized PCA embeddings\n",
        "plt.figure(figsize=(8,6))\n",
        "plt.scatter(visitor_pca_norm[:, 0], visitor_pca_norm[:, 1], s=1, alpha=0.5, label=\"Visitors\")\n",
        "plt.scatter(item_pca_norm[:, 0], item_pca_norm[:, 1], s=1, alpha=0.5, label=\"Items\")\n",
        "plt.xlabel(\"PCA 1\")\n",
        "plt.ylabel(\"PCA 2\")\n",
        "plt.title(\"Normalized Embeddings - PCA\")\n",
        "plt.legend()\n",
        "plt.show()\n",
        "\n",
        "### 2. t-SNE on Normalized Embeddings ###\n",
        "tsne = TSNE(n_components=2, perplexity=30, random_state=42)\n",
        "visitor_tsne_norm = tsne.fit_transform(visitor_embeddings_np[:5000])  # Subsample if needed\n",
        "item_tsne_norm = tsne.fit_transform(item_embeddings_np[:5000])\n",
        "\n",
        "# Plot t-SNE Normalized embeddings\n",
        "plt.figure(figsize=(8,6))\n",
        "plt.scatter(visitor_tsne_norm[:, 0], visitor_tsne_norm[:, 1], s=1, alpha=0.5, label=\"Visitors\")\n",
        "plt.scatter(item_tsne_norm[:, 0], item_tsne_norm[:, 1], s=1, alpha=0.5, label=\"Items\")\n",
        "plt.xlabel(\"t-SNE 1\")\n",
        "plt.ylabel(\"t-SNE 2\")\n",
        "plt.title(\"t-SNE Normalized Embeddings\")\n",
        "plt.legend()\n",
        "plt.show()\n"
      ],
      "outputs": [
        {
          "data": {
            "text/plain": [
              "<Figure size 800x600 with 1 Axes>"
            ],
            "image/png": "[encoded data removed]"
          },
          "metadata": {},
          "output_type": "display_data"
        },
        {
          "data": {
            "text/plain": [
              "<Figure size 800x600 with 1 Axes>"
            ],
            "image/png": "[encoded data removed]"
          },
          "metadata": {},
          "output_type": "display_data"
        }
      ],
      "execution_count": null
    },
    {
      "metadata": {
        "ExecuteTime": {
          "end_time": "2025-02-14T18:10:26.617282Z",
          "start_time": "2025-02-14T18:10:26.600350Z"
        },
        "id": "bKwJfrsD5BJo",
        "outputId": "bf173aaf-2108-4170-b4cd-3f18cd26c643"
      },
      "cell_type": "code",
      "source": [
        "import torch\n",
        "import numpy as np\n",
        "from sklearn.metrics.pairwise import cosine_similarity\n",
        "\n",
        "def check_item_similarity(item_embeddings, item_indices):\n",
        "    item_subset = item_embeddings[item_indices].detach().cpu().numpy()  # ✅ FIX: Use .detach()\n",
        "    similarity_matrix = cosine_similarity(item_subset)\n",
        "    return similarity_matrix\n",
        "\n",
        "# Example: Check similarity for 10 random items\n",
        "random_items = np.random.choice(item_embeddings.shape[0], size=10, replace=False)\n",
        "similarities = check_item_similarity(item_embeddings, random_items)\n",
        "\n",
        "print(\"Item Similarity Matrix:\\n\", similarities)\n"
      ],
      "outputs": [
        {
          "name": "stdout",
          "output_type": "stream",
          "text": [
            "Item Similarity Matrix:\n",
            " [[1.0000001  0.6330309  0.97971314 1.0000001  1.0000001  0.90056324\n",
            "  0.6003709  0.6225682  1.0000001  0.94481236]\n",
            " [0.6330309  1.0000001  0.7065571  0.6330309  0.6330309  0.8587833\n",
            "  0.99528843 0.99328774 0.6330309  0.7971296 ]\n",
            " [0.97971314 0.7065571  1.0000001  0.97971314 0.97971314 0.9424705\n",
            "  0.67039865 0.6952199  0.97971314 0.9862287 ]\n",
            " [1.0000001  0.6330309  0.97971314 1.0000001  1.0000001  0.90056324\n",
            "  0.6003709  0.6225682  1.0000001  0.94481236]\n",
            " [1.0000001  0.6330309  0.97971314 1.0000001  1.0000001  0.90056324\n",
            "  0.6003709  0.6225682  1.0000001  0.94481236]\n",
            " [0.90056324 0.8587833  0.9424705  0.90056324 0.90056324 1.\n",
            "  0.8450852  0.86766505 0.90056324 0.97799206]\n",
            " [0.6003709  0.99528843 0.67039865 0.6003709  0.6003709  0.8450852\n",
            "  1.0000001  0.9967454  0.6003709  0.7674288 ]\n",
            " [0.6225682  0.99328774 0.6952199  0.6225682  0.6225682  0.86766505\n",
            "  0.9967454  1.         0.6225682  0.79212433]\n",
            " [1.0000001  0.6330309  0.97971314 1.0000001  1.0000001  0.90056324\n",
            "  0.6003709  0.6225682  1.0000001  0.94481236]\n",
            " [0.94481236 0.7971296  0.9862287  0.94481236 0.94481236 0.97799206\n",
            "  0.7674288  0.79212433 0.94481236 0.99999994]]\n"
          ]
        }
      ],
      "execution_count": null
    },
    {
      "metadata": {
        "ExecuteTime": {
          "end_time": "2025-02-14T18:10:29.557278Z",
          "start_time": "2025-02-14T18:10:29.544123Z"
        },
        "id": "O0MS8TwN5BJo",
        "outputId": "8100fbd8-0147-4358-9532-65d9c5a135f7"
      },
      "cell_type": "code",
      "source": [
        "import numpy as np\n",
        "from sklearn.metrics.pairwise import cosine_similarity\n",
        "\n",
        "def visitor_item_similarity(visitor_embeddings, item_embeddings, visitor_indices, item_indices):\n",
        "    visitor_subset = visitor_embeddings[visitor_indices].detach().cpu().numpy()\n",
        "    item_subset = item_embeddings[item_indices].detach().cpu().numpy()\n",
        "\n",
        "    similarity = cosine_similarity(visitor_subset, item_subset)\n",
        "    return similarity\n",
        "\n",
        "# Example: Check similarity for 10 visitors with 10 random items\n",
        "random_visitors = np.random.choice(visitor_embeddings.shape[0], size=10, replace=False)\n",
        "random_items = np.random.choice(item_embeddings.shape[0], size=10, replace=False)\n",
        "\n",
        "visitor_item_sim = visitor_item_similarity(visitor_embeddings, item_embeddings, random_visitors, random_items)\n",
        "print(\"Visitor-Item Similarity Matrix:\\n\", visitor_item_sim)\n"
      ],
      "outputs": [
        {
          "name": "stdout",
          "output_type": "stream",
          "text": [
            "Visitor-Item Similarity Matrix:\n",
            " [[-0.5752482  -0.47216356 -0.47669354 -0.49299112 -0.49299112 -0.30071217\n",
            "  -0.35862646 -0.3416659  -0.49299112 -0.39469385]\n",
            " [-0.666638   -0.56888455 -0.5752806  -0.5924648  -0.5924648  -0.32269517\n",
            "  -0.3752119  -0.35635123 -0.5924648  -0.46668202]\n",
            " [-0.666638   -0.56888455 -0.5752806  -0.5924648  -0.5924648  -0.32269517\n",
            "  -0.3752119  -0.35635123 -0.5924648  -0.46668202]\n",
            " [-0.6253856  -0.5340288  -0.5420126  -0.5799822  -0.5799822  -0.24606152\n",
            "  -0.29375947 -0.2764928  -0.5799822  -0.4237093 ]\n",
            " [-0.6253856  -0.5340288  -0.5420126  -0.5799822  -0.5799822  -0.24606152\n",
            "  -0.29375947 -0.2764928  -0.5799822  -0.4237093 ]\n",
            " [-0.666638   -0.56888455 -0.5752806  -0.5924648  -0.5924648  -0.32269517\n",
            "  -0.3752119  -0.35635123 -0.5924648  -0.46668202]\n",
            " [-0.5752482  -0.47216356 -0.47669354 -0.49299112 -0.49299112 -0.30071217\n",
            "  -0.35862646 -0.3416659  -0.49299112 -0.39469385]\n",
            " [-0.6253856  -0.5340288  -0.5420126  -0.5799822  -0.5799822  -0.24606152\n",
            "  -0.29375947 -0.2764928  -0.5799822  -0.4237093 ]\n",
            " [-0.6025085  -0.49146014 -0.49593434 -0.50207704 -0.50207704 -0.33382788\n",
            "  -0.39032465 -0.37349623 -0.50207704 -0.42510897]\n",
            " [-0.7088831  -0.5999323  -0.6065606  -0.60347897 -0.60347897 -0.3745237\n",
            "  -0.41906843 -0.40135485 -0.60347897 -0.5218882 ]]\n"
          ]
        }
      ],
      "execution_count": null
    },
    {
      "metadata": {
        "ExecuteTime": {
          "end_time": "2025-02-14T18:11:34.758342Z",
          "start_time": "2025-02-14T18:10:32.357301Z"
        },
        "id": "2Nu7tTyK5BJv",
        "outputId": "af98cdc7-5de4-4539-8ad7-3a4714d38b41"
      },
      "cell_type": "code",
      "source": [
        "import numpy as np\n",
        "\n",
        "def mean_squared_error(train_data, top_k_indices, visitor_to_index):\n",
        "    squared_errors = []\n",
        "\n",
        "    for _, row in train_data.iterrows():\n",
        "        visitor_id = row['visitorid']  # Get visitor ID for this row\n",
        "        true_item = row['itemid']  # True interacted item\n",
        "        true_event_encoded = row['event_encoded']  # Interaction type (1, 2, 3)\n",
        "\n",
        "        # Get the index of the visitor in the graph\n",
        "        if visitor_id in visitor_to_index:\n",
        "            visitor_idx = visitor_to_index[visitor_id]\n",
        "        else:\n",
        "            print(f\"Skipping visitor {visitor_id} as it is not found in the visitor_to_index.\")\n",
        "            continue\n",
        "\n",
        "        # Get recommended items for this visitor from top_k_indices\n",
        "        recommended_items = top_k_indices[visitor_idx].cpu().numpy()\n",
        "\n",
        "        # Assign squared error: 0 if found, (1, 2, or 3)² if not found\n",
        "        if true_item in recommended_items:\n",
        "            squared_errors.append(0)\n",
        "        else:\n",
        "            squared_errors.append(true_event_encoded ** 2)\n",
        "\n",
        "    return np.mean(squared_errors)\n",
        "\n",
        "def weighted_hit_rate(train_data, top_k_indices, visitor_to_index):\n",
        "    weighted_hits = 0\n",
        "    total_weight = 0\n",
        "\n",
        "    for _, row in train_data.iterrows():\n",
        "        visitor_id = row['visitorid']  # Get visitor ID for this row\n",
        "        true_item = row['itemid']\n",
        "        true_event_encoded = row['event_encoded']\n",
        "\n",
        "        # Get the index of the visitor in the graph\n",
        "        if visitor_id in visitor_to_index:\n",
        "            visitor_idx = visitor_to_index[visitor_id]\n",
        "        else:\n",
        "            print(f\"Skipping visitor {visitor_id} as it is not found in the visitor_to_index.\")\n",
        "            continue\n",
        "\n",
        "        # Get recommended items for this visitor from top_k_indices\n",
        "        recommended_items = top_k_indices[visitor_idx].cpu().numpy()\n",
        "\n",
        "        # Calculate the weight for the interaction type (3 for transaction, 2 for add-to-cart, 1 for view)\n",
        "        weight = true_event_encoded\n",
        "        total_weight += weight\n",
        "\n",
        "        if true_item in recommended_items:\n",
        "            weighted_hits += weight\n",
        "\n",
        "    return weighted_hits / total_weight\n",
        "\n",
        "# Assuming you have the visitor-to-index mapping\n",
        "visitor_to_index = {v: i for i, v in enumerate(sorted(train_data['visitorid'].unique()))}\n",
        "\n",
        "# Compute MSE and WHR on Train Data\n",
        "mse_score = mean_squared_error(train_data, top_k_indices, visitor_to_index)\n",
        "whr_score = weighted_hit_rate(train_data, top_k_indices, visitor_to_index)\n",
        "\n",
        "print(f\"Mean Squared Error (MSE) on Training Data: {mse_score:.4f}\")\n",
        "print(f\"Weighted Hit Rate (WHR) on Training Data: {whr_score:.4f}\")\n"
      ],
      "outputs": [
        {
          "name": "stdout",
          "output_type": "stream",
          "text": [
            "Mean Squared Error (MSE) on Training Data: 1.2218\n",
            "Weighted Hit Rate (WHR) on Training Data: 0.0000\n"
          ]
        }
      ],
      "execution_count": null
    },
    {
      "cell_type": "code",
      "source": [
        "import torch_geometric, torch_sparse, torch_scatter\n",
        "print(torch_geometric.__version__)\n",
        "print(torch_sparse.__version__)\n",
        "print(torch_scatter.__version__)"
      ],
      "metadata": {
        "id": "7_svjbExa2mV",
        "ExecuteTime": {
          "end_time": "2025-02-14T15:36:39.035764700Z",
          "start_time": "2025-02-14T04:55:30.341131Z"
        },
        "outputId": "f32efc4c-3963-4cd7-fe2c-87a02efdcd72"
      },
      "outputs": [
        {
          "name": "stdout",
          "output_type": "stream",
          "text": [
            "2.6.1\n",
            "0.6.18\n",
            "2.1.2\n"
          ]
        }
      ],
      "execution_count": null
    },
    {
      "metadata": {
        "ExecuteTime": {
          "end_time": "2025-02-14T15:36:39.036558200Z",
          "start_time": "2025-02-13T10:27:17.401205Z"
        },
        "id": "c_0_gy_45BJv",
        "outputId": "03af021f-8f07-46d5-f89e-e88e4e11e2ef"
      },
      "cell_type": "code",
      "source": [
        "'''# Ensure that the visitor node is handled correctly in the HANConv\n",
        "# Assuming you are using an Heterogeneous Graph Neural Network (HGNN) model\n",
        "output = model(x_dict, edge_index_dict)\n",
        "\n",
        "# Inspect the output to confirm the embeddings for 'visitor' are calculated\n",
        "print(f\"Output embeddings for 'visitor': {output['visitor']}\")\n",
        "'''"
      ],
      "outputs": [
        {
          "name": "stdout",
          "output_type": "stream",
          "text": [
            "=== Forward Pass Debugging ===\n",
            "x_dict keys: dict_keys(['visitor', 'item', 'category'])\n",
            "\n",
            "edge_index_dict keys: dict_keys([('visitor', 'interaction', 'item'), ('item', 'belongs_to', 'category'), ('category', 'sub_category_of', 'category'), ('visitor', 'visitor-category', 'category'), ('item', 'belongs_to_parent', 'category')])\n",
            "('visitor', 'interaction', 'item'): torch.Size([2, 980286])\n",
            "('item', 'belongs_to', 'category'): torch.Size([2, 30429])\n",
            "('category', 'sub_category_of', 'category'): torch.Size([2, 849])\n",
            "('visitor', 'visitor-category', 'category'): torch.Size([2, 980286])\n",
            "('item', 'belongs_to_parent', 'category'): torch.Size([2, 30429])\n",
            "✅ Found ('visitor', 'interaction', 'item') edges: torch.Size([2, 980286])\n",
            "\n",
            "=== HANConv Output ===\n",
            "{'visitor': None, 'item': tensor([[ 0.0000, 11.3224,  1.1874,  ..., 11.7579,  2.9124, 11.5879],\n",
            "        [ 0.0000,  0.4071,  0.2735,  ...,  1.6497,  0.0000,  1.2548],\n",
            "        [ 0.0000,  0.7065,  0.0000,  ...,  1.5973,  0.0000,  1.2018],\n",
            "        ...,\n",
            "        [ 0.0000,  1.4574,  0.0667,  ...,  4.6403,  0.0000,  5.7760],\n",
            "        [ 0.0000,  0.0387,  0.0000,  ...,  3.7103,  0.0000,  5.8470],\n",
            "        [ 0.0000,  0.0000,  0.2645,  ...,  0.8258,  0.0000,  0.3095]],\n",
            "       grad_fn=<SumBackward1>), 'category': tensor([[0.0000e+00, 5.7080e+02, 5.7614e-02,  ..., 9.8732e+02, 1.6412e+01,\n",
            "         1.2507e+03],\n",
            "        [1.4371e-01, 5.7079e+02, 8.2146e-02,  ..., 9.8734e+02, 1.6445e+01,\n",
            "         1.2507e+03],\n",
            "        [2.9562e-01, 5.7083e+02, 1.0668e-01,  ..., 9.8737e+02, 1.6565e+01,\n",
            "         1.2508e+03],\n",
            "        ...,\n",
            "        [0.0000e+00, 5.4114e-02, 1.3716e-01,  ..., 4.2827e-01, 1.8130e-02,\n",
            "         1.6049e-01],\n",
            "        [0.0000e+00, 1.9592e+02, 0.0000e+00,  ..., 3.4284e+02, 1.0369e+01,\n",
            "         4.3371e+02],\n",
            "        [0.0000e+00, 0.0000e+00, 1.3716e-01,  ..., 4.2827e-01, 0.0000e+00,\n",
            "         1.6049e-01]], grad_fn=<SumBackward1>)}\n",
            "⚠️ Warning: 'visitor' embeddings are missing. Initializing to zeros.\n",
            "Output embeddings for 'visitor': tensor([[-0.0895,  0.1146,  0.0778,  ...,  0.0986, -0.0534, -0.0934],\n",
            "        [-0.0895,  0.1146,  0.0778,  ...,  0.0986, -0.0534, -0.0934],\n",
            "        [-0.0895,  0.1146,  0.0778,  ...,  0.0986, -0.0534, -0.0934],\n",
            "        ...,\n",
            "        [-0.0895,  0.1146,  0.0778,  ...,  0.0986, -0.0534, -0.0934],\n",
            "        [-0.0895,  0.1146,  0.0778,  ...,  0.0986, -0.0534, -0.0934],\n",
            "        [-0.0895,  0.1146,  0.0778,  ...,  0.0986, -0.0534, -0.0934]],\n",
            "       grad_fn=<AddmmBackward0>)\n"
          ]
        }
      ],
      "execution_count": null
    },
    {
      "cell_type": "code",
      "source": [
        "'''# Training Loop for HGT Model\n",
        "def train_hgt_model(model, train_data, optimizer, criterion, num_epochs=100):\n",
        "    model.train()\n",
        "\n",
        "    for epoch in range(num_epochs):\n",
        "        optimizer.zero_grad()\n",
        "\n",
        "        # Forward pass: Get interaction scores\n",
        "        output = model(train_data)  # Output interaction scores (visitor, item) pair\n",
        "\n",
        "        # Flatten the output and actual interactions\n",
        "        interaction_scores = output.view(-1)\n",
        "        actual_interactions = train_data['interaction_labels'].view(-1)  # Ground truth\n",
        "\n",
        "        # Calculate loss (Mean Squared Error for interaction prediction)\n",
        "        loss = criterion(interaction_scores, actual_interactions)\n",
        "\n",
        "        loss.backward()\n",
        "        optimizer.step()\n",
        "\n",
        "        print(f'Epoch {epoch}, Loss: {loss.item()}')\n",
        "\n",
        "    return model\n",
        "\n",
        "\n",
        "# Prepare your data (train_data in HeteroData format)\n",
        "# Assuming the 'train_data' has all the required node features, edge indices, and edge attributes.\n",
        "\n",
        "metadata = {\n",
        "    'node_types': ['visitor', 'item', 'category'],  # Adjust according to your dataset\n",
        "    'edge_types': [\n",
        "        ('visitor', 'interaction', 'item'),\n",
        "        ('item', 'belongs_to', 'category'),\n",
        "        ('category', 'sub_category_of', 'category'),\n",
        "        ('visitor', 'visitor-category', 'category'),\n",
        "        ('item', 'belongs_to_parent', 'category')\n",
        "    ]\n",
        "}\n",
        "\n",
        "# Initialize the model, optimizer, and loss function\n",
        "model = HGTRecommendationModel(hidden_channels=64, num_classes=1, metadata=metadata)\n",
        "optimizer = optim.Adam(model.parameters(), lr=0.001)\n",
        "criterion = torch.nn.MSELoss()  # You can experiment with ranking losses if needed\n",
        "\n",
        "# Train the model\n",
        "train_hgt_model(model, train_data, optimizer, criterion, num_epochs=100)'''"
      ],
      "metadata": {
        "colab": {
          "base_uri": "https://localhost:8080/"
        },
        "id": "cN_FS8ARQ15X",
        "outputId": "96e1a9a1-b1fc-427a-a84f-0405e9d57fcb",
        "ExecuteTime": {
          "end_time": "2025-02-14T15:36:39.036558200Z",
          "start_time": "2025-02-12T13:39:21.547432Z"
        }
      },
      "outputs": [
        {
          "data": {
            "text/plain": [
              "\"# Training Loop for HGT Model\\ndef train_hgt_model(model, train_data, optimizer, criterion, num_epochs=100):\\n    model.train()\\n\\n    for epoch in range(num_epochs):\\n        optimizer.zero_grad()\\n\\n        # Forward pass: Get interaction scores\\n        output = model(train_data)  # Output interaction scores (visitor, item) pair\\n\\n        # Flatten the output and actual interactions\\n        interaction_scores = output.view(-1)\\n        actual_interactions = train_data['interaction_labels'].view(-1)  # Ground truth\\n\\n        # Calculate loss (Mean Squared Error for interaction prediction)\\n        loss = criterion(interaction_scores, actual_interactions)\\n\\n        loss.backward()\\n        optimizer.step()\\n\\n        print(f'Epoch {epoch}, Loss: {loss.item()}')\\n\\n    return model\\n\\n\\n# Prepare your data (train_data in HeteroData format)\\n# Assuming the 'train_data' has all the required node features, edge indices, and edge attributes.\\n\\nmetadata = {\\n    'node_types': ['visitor', 'item', 'category'],  # Adjust according to your dataset\\n    'edge_types': [\\n        ('visitor', 'interaction', 'item'),\\n        ('item', 'belongs_to', 'category'),\\n        ('category', 'sub_category_of', 'category'),\\n        ('visitor', 'visitor-category', 'category'),\\n        ('item', 'belongs_to_parent', 'category')\\n    ]\\n}\\n\\n# Initialize the model, optimizer, and loss function\\nmodel = HGTRecommendationModel(hidden_channels=64, num_classes=1, metadata=metadata)\\noptimizer = optim.Adam(model.parameters(), lr=0.001)\\ncriterion = torch.nn.MSELoss()  # You can experiment with ranking losses if needed\\n\\n# Train the model\\ntrain_hgt_model(model, train_data, optimizer, criterion, num_epochs=100)\""
            ]
          },
          "execution_count": 38,
          "metadata": {},
          "output_type": "execute_result"
        }
      ],
      "execution_count": null
    },
    {
      "metadata": {
        "ExecuteTime": {
          "end_time": "2025-02-14T15:36:39.036558200Z",
          "start_time": "2025-02-12T13:39:21.835071Z"
        },
        "id": "Gsvb5_eN5BJv",
        "outputId": "e9688618-ae32-4e55-c62b-7fe89b9121e9"
      },
      "cell_type": "code",
      "source": [
        "import torch\n",
        "import torch_geometric\n",
        "import torch_sparse\n",
        "import torch_scatter\n",
        "\n",
        "print(torch.__version__)\n",
        "print(torch_geometric.__version__)\n",
        "print(torch_sparse.__version__)\n",
        "print(torch_scatter.__version__)\n"
      ],
      "outputs": [
        {
          "name": "stdout",
          "output_type": "stream",
          "text": [
            "2.6.0+cpu\n",
            "2.6.1\n",
            "0.6.18\n",
            "2.1.2\n"
          ]
        }
      ],
      "execution_count": null
    },
    {
      "metadata": {
        "ExecuteTime": {
          "end_time": "2025-02-14T15:36:39.043098Z",
          "start_time": "2025-02-12T13:39:22.140765Z"
        },
        "id": "wkalBqlQ5BJw"
      },
      "cell_type": "code",
      "source": [
        "class MyModel(torch.nn.Module):\n",
        "    def __init__(self, in_channels, out_channels):\n",
        "        super(MyModel, self).__init__()\n",
        "\n",
        "        print(f\"Initializing model with in_channels={in_channels}, out_channels={out_channels}\")\n",
        "\n",
        "        self.lin = torch.nn.Linear(in_channels, out_channels)\n",
        "\n",
        "    def forward(self, batch):\n",
        "        print(\"Batch structure:\")\n",
        "        for key, x in batch.x_dict.items():\n",
        "            print(f\"{key} feature shape: {x.shape}\")\n",
        "\n",
        "        # Ensure the node type exists in batch\n",
        "        if 'visitor' not in batch.x_dict:\n",
        "            print(\"Skipping batch: 'visitor' node type missing.\")\n",
        "            return None\n",
        "\n",
        "        x_visitor = batch.x_dict['visitor']\n",
        "        print(f\"x_visitor shape before Linear: {x_visitor.shape}\")\n",
        "\n",
        "        # Ensure input shape matches the linear layer\n",
        "        try:\n",
        "            x_visitor = self.lin(x_visitor)\n",
        "            print(f\"x_visitor shape after Linear: {x_visitor.shape}\")\n",
        "        except Exception as e:\n",
        "            print(f\"Error in Linear layer: {e}\")\n",
        "            return None\n",
        "\n",
        "        return x_visitor  # Modify this according to your actual model\n"
      ],
      "outputs": [],
      "execution_count": null
    },
    {
      "metadata": {
        "ExecuteTime": {
          "end_time": "2025-02-14T15:36:39.044267900Z",
          "start_time": "2025-02-12T13:39:22.435035Z"
        },
        "id": "yr-lmRpj5BJw",
        "outputId": "a338d992-8a5a-4918-a234-19e66c4690ea"
      },
      "cell_type": "code",
      "source": [
        "'''# Retrieve the feature size dynamically (from one batch)\n",
        "sample_batch = next(iter(train_loader))\n",
        "visitor_feature_size = sample_batch.x_dict['visitor'].shape[1]  # Should be 3 based on error log\n",
        "\n",
        "# Initialize the model with correct input size\n",
        "model = MyModel(in_channels=visitor_feature_size, out_channels=64).to(device)\n",
        "'''"
      ],
      "outputs": [
        {
          "data": {
            "text/plain": [
              "\"# Retrieve the feature size dynamically (from one batch)\\nsample_batch = next(iter(train_loader))\\nvisitor_feature_size = sample_batch.x_dict['visitor'].shape[1]  # Should be 3 based on error log\\n\\n# Initialize the model with correct input size\\nmodel = MyModel(in_channels=visitor_feature_size, out_channels=64).to(device)\\n\""
            ]
          },
          "execution_count": 41,
          "metadata": {},
          "output_type": "execute_result"
        }
      ],
      "execution_count": null
    },
    {
      "cell_type": "code",
      "source": [
        "'''device = torch.device('cuda' if torch.cuda.is_available() else 'cpu')\n",
        "model.to(device)\n",
        "\n",
        "for epoch in range(1, 201):\n",
        "    model.train()\n",
        "    total_loss = 0\n",
        "    missing_event_count = 0  # Counter for batches missing 'event_encoded'\n",
        "\n",
        "    for batch_idx, batch in enumerate(train_loader):\n",
        "        if batch_idx % 100 == 0:  # Reduce excessive logging\n",
        "            print(f\"\\n[Batch {batch_idx + 1}] Processing...\")\n",
        "\n",
        "        # Move batch to device\n",
        "        try:\n",
        "            batch = batch.to(device)\n",
        "        except Exception as e:\n",
        "            print(f\"Error moving batch to device: {e}\")\n",
        "            continue\n",
        "\n",
        "        optimizer.zero_grad()\n",
        "\n",
        "        # Ensure 'visitor' node has features\n",
        "        if 'visitor' not in batch.x_dict or batch.x_dict['visitor'].shape[0] == 0:\n",
        "            continue  # Skip empty visitor node batches\n",
        "\n",
        "        try:\n",
        "            out = model(batch)\n",
        "            if out is None:\n",
        "                continue  # Skip if model output is None\n",
        "        except Exception as e:\n",
        "            print(f\"Error in model forward pass: {e}\")\n",
        "            continue\n",
        "\n",
        "        # Check if 'event_encoded' exists\n",
        "        if not hasattr(batch, 'event_encoded') or batch.event_encoded is None:\n",
        "            missing_event_count += 1  # Increment missing label counter\n",
        "            continue  # Continue training without skipping the epoch\n",
        "\n",
        "        try:\n",
        "            event_encoded = batch.event_encoded.to(device)\n",
        "\n",
        "            # Convert one-hot encoded target to class indices if needed\n",
        "            if event_encoded.ndimension() > 1:\n",
        "                event_encoded = event_encoded.argmax(dim=1)\n",
        "\n",
        "        except Exception as e:\n",
        "            print(f\"Error processing event_encoded: {e}\")\n",
        "            continue\n",
        "\n",
        "        # Ensure output and target shapes are compatible\n",
        "        if out.shape[0] != event_encoded.shape[0]:\n",
        "            if batch_idx % 100 == 0:\n",
        "                print(f\"Shape mismatch: out={out.shape}, event_encoded={event_encoded.shape}, skipping batch.\")\n",
        "            continue\n",
        "\n",
        "        # Compute loss\n",
        "        try:\n",
        "            loss = torch.nn.CrossEntropyLoss()(out, event_encoded)\n",
        "        except Exception as e:\n",
        "            print(f\"Error computing loss: {e}\")\n",
        "            continue\n",
        "\n",
        "        # Backpropagation\n",
        "        try:\n",
        "            loss.backward()\n",
        "            optimizer.step()\n",
        "            total_loss += loss.item()\n",
        "        except Exception as e:\n",
        "            print(f\"Error in backpropagation: {e}\")\n",
        "            continue\n",
        "\n",
        "    print(f\"Epoch {epoch} Summary: Loss: {total_loss / len(train_loader):.4f}, Missing event_encoded: {missing_event_count}/{len(train_loader)}\")'''\n"
      ],
      "metadata": {
        "colab": {
          "base_uri": "https://localhost:8080/",
          "height": 529
        },
        "id": "Pa7Dp4O_k_y_",
        "outputId": "84cd2a84-8ec3-45f6-a808-31292a81505b",
        "ExecuteTime": {
          "end_time": "2025-02-14T15:36:39.044267900Z",
          "start_time": "2025-02-12T13:39:22.741876Z"
        }
      },
      "outputs": [
        {
          "data": {
            "text/plain": [
              "'device = torch.device(\\'cuda\\' if torch.cuda.is_available() else \\'cpu\\')\\nmodel.to(device)\\n\\nfor epoch in range(1, 201):\\n    model.train()\\n    total_loss = 0\\n    missing_event_count = 0  # Counter for batches missing \\'event_encoded\\'\\n\\n    for batch_idx, batch in enumerate(train_loader):\\n        if batch_idx % 100 == 0:  # Reduce excessive logging\\n            print(f\"\\n[Batch {batch_idx + 1}] Processing...\")\\n\\n        # Move batch to device\\n        try:\\n            batch = batch.to(device)\\n        except Exception as e:\\n            print(f\"Error moving batch to device: {e}\")\\n            continue\\n\\n        optimizer.zero_grad()\\n\\n        # Ensure \\'visitor\\' node has features\\n        if \\'visitor\\' not in batch.x_dict or batch.x_dict[\\'visitor\\'].shape[0] == 0:\\n            continue  # Skip empty visitor node batches\\n\\n        try:\\n            out = model(batch)\\n            if out is None:\\n                continue  # Skip if model output is None\\n        except Exception as e:\\n            print(f\"Error in model forward pass: {e}\")\\n            continue\\n\\n        # Check if \\'event_encoded\\' exists\\n        if not hasattr(batch, \\'event_encoded\\') or batch.event_encoded is None:\\n            missing_event_count += 1  # Increment missing label counter\\n            continue  # Continue training without skipping the epoch\\n\\n        try:\\n            event_encoded = batch.event_encoded.to(device)\\n\\n            # Convert one-hot encoded target to class indices if needed\\n            if event_encoded.ndimension() > 1:\\n                event_encoded = event_encoded.argmax(dim=1)\\n\\n        except Exception as e:\\n            print(f\"Error processing event_encoded: {e}\")\\n            continue\\n\\n        # Ensure output and target shapes are compatible\\n        if out.shape[0] != event_encoded.shape[0]:\\n            if batch_idx % 100 == 0:\\n                print(f\"Shape mismatch: out={out.shape}, event_encoded={event_encoded.shape}, skipping batch.\")\\n            continue\\n\\n        # Compute loss\\n        try:\\n            loss = torch.nn.CrossEntropyLoss()(out, event_encoded)\\n        except Exception as e:\\n            print(f\"Error computing loss: {e}\")\\n            continue\\n\\n        # Backpropagation\\n        try:\\n            loss.backward()\\n            optimizer.step()\\n            total_loss += loss.item()\\n        except Exception as e:\\n            print(f\"Error in backpropagation: {e}\")\\n            continue\\n\\n    print(f\"Epoch {epoch} Summary: Loss: {total_loss / len(train_loader):.4f}, Missing event_encoded: {missing_event_count}/{len(train_loader)}\")'"
            ]
          },
          "execution_count": 42,
          "metadata": {},
          "output_type": "execute_result"
        }
      ],
      "execution_count": null
    }
  ]
}