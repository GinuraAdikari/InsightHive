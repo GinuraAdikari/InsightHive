{
 "cells": [
  {
   "cell_type": "code",
   "id": "30935017",
   "metadata": {
    "scrolled": true,
    "ExecuteTime": {
     "end_time": "2025-04-04T08:28:26.216997Z",
     "start_time": "2025-04-04T08:28:25.504322Z"
    }
   },
   "source": [
    "import numpy as np\n",
    "import pandas as pd \n",
    "import seaborn as sns\n",
    "import matplotlib.pyplot as plt\n",
    "%matplotlib inline\n",
    "\n",
    "from datetime import datetime\n",
    "from sklearn.model_selection import train_test_split\n",
    "from sklearn.linear_model import LogisticRegression, LinearRegression\n",
    "from sklearn.preprocessing import PolynomialFeatures\n",
    "from sklearn.ensemble import RandomForestRegressor\n",
    "from xgboost import XGBRegressor, XGBRFRegressor\n",
    "from sklearn.tree import DecisionTreeRegressor\n",
    "\n",
    "from imblearn.pipeline import Pipeline\n",
    "from sklearn.impute import SimpleImputer\n",
    "from sklearn.preprocessing import MinMaxScaler, StandardScaler, RobustScaler\n",
    "from sklearn.ensemble import StackingRegressor\n",
    "from sklearn.neural_network import MLPRegressor\n",
    "\n",
    "from sklearn.model_selection import cross_val_score\n",
    "from sklearn.model_selection import GridSearchCV\n",
    "from sklearn.compose import ColumnTransformer\n",
    "\n",
    "from sklearn.metrics import mean_squared_error, r2_score, mean_absolute_error"
   ],
   "outputs": [],
   "execution_count": 1
  },
  {
   "cell_type": "code",
   "id": "88a7629f",
   "metadata": {
    "scrolled": false,
    "ExecuteTime": {
     "end_time": "2025-04-04T08:44:21.018736Z",
     "start_time": "2025-04-04T08:44:19.974661Z"
    }
   },
   "source": [
    "event = pd.read_csv('events.csv')\n",
    "event.head()"
   ],
   "outputs": [
    {
     "data": {
      "text/plain": [
       "       timestamp  visitorid event  itemid  transactionid\n",
       "0  1433221332117     257597  view  355908            NaN\n",
       "1  1433224214164     992329  view  248676            NaN\n",
       "2  1433221999827     111016  view  318965            NaN\n",
       "3  1433221955914     483717  view  253185            NaN\n",
       "4  1433221337106     951259  view  367447            NaN"
      ],
      "text/html": [
       "<div>\n",
       "<style scoped>\n",
       "    .dataframe tbody tr th:only-of-type {\n",
       "        vertical-align: middle;\n",
       "    }\n",
       "\n",
       "    .dataframe tbody tr th {\n",
       "        vertical-align: top;\n",
       "    }\n",
       "\n",
       "    .dataframe thead th {\n",
       "        text-align: right;\n",
       "    }\n",
       "</style>\n",
       "<table border=\"1\" class=\"dataframe\">\n",
       "  <thead>\n",
       "    <tr style=\"text-align: right;\">\n",
       "      <th></th>\n",
       "      <th>timestamp</th>\n",
       "      <th>visitorid</th>\n",
       "      <th>event</th>\n",
       "      <th>itemid</th>\n",
       "      <th>transactionid</th>\n",
       "    </tr>\n",
       "  </thead>\n",
       "  <tbody>\n",
       "    <tr>\n",
       "      <th>0</th>\n",
       "      <td>1433221332117</td>\n",
       "      <td>257597</td>\n",
       "      <td>view</td>\n",
       "      <td>355908</td>\n",
       "      <td>NaN</td>\n",
       "    </tr>\n",
       "    <tr>\n",
       "      <th>1</th>\n",
       "      <td>1433224214164</td>\n",
       "      <td>992329</td>\n",
       "      <td>view</td>\n",
       "      <td>248676</td>\n",
       "      <td>NaN</td>\n",
       "    </tr>\n",
       "    <tr>\n",
       "      <th>2</th>\n",
       "      <td>1433221999827</td>\n",
       "      <td>111016</td>\n",
       "      <td>view</td>\n",
       "      <td>318965</td>\n",
       "      <td>NaN</td>\n",
       "    </tr>\n",
       "    <tr>\n",
       "      <th>3</th>\n",
       "      <td>1433221955914</td>\n",
       "      <td>483717</td>\n",
       "      <td>view</td>\n",
       "      <td>253185</td>\n",
       "      <td>NaN</td>\n",
       "    </tr>\n",
       "    <tr>\n",
       "      <th>4</th>\n",
       "      <td>1433221337106</td>\n",
       "      <td>951259</td>\n",
       "      <td>view</td>\n",
       "      <td>367447</td>\n",
       "      <td>NaN</td>\n",
       "    </tr>\n",
       "  </tbody>\n",
       "</table>\n",
       "</div>"
      ]
     },
     "execution_count": 52,
     "metadata": {},
     "output_type": "execute_result"
    }
   ],
   "execution_count": 52
  },
  {
   "cell_type": "code",
   "id": "203bb3fe",
   "metadata": {
    "ExecuteTime": {
     "end_time": "2025-04-04T07:54:43.412369Z",
     "start_time": "2025-04-04T07:40:34.009530Z"
    }
   },
   "source": [
    "#time consuming steps\n",
    "event.timestamp = event.timestamp.apply(lambda x: pd.to_datetime(datetime.fromtimestamp(x//1000).strftime('%Y-%m-%d %H:%M:%S')))"
   ],
   "outputs": [],
   "execution_count": 6
  },
  {
   "cell_type": "code",
   "id": "5c98bcfd",
   "metadata": {
    "ExecuteTime": {
     "end_time": "2025-04-04T07:55:52.374442Z",
     "start_time": "2025-04-04T07:55:52.252924Z"
    }
   },
   "source": [
    "# imbalanced view and transaction\n",
    "event.event.value_counts()"
   ],
   "outputs": [
    {
     "data": {
      "text/plain": [
       "event\n",
       "view           2664312\n",
       "addtocart        69332\n",
       "transaction      22457\n",
       "Name: count, dtype: int64"
      ]
     },
     "execution_count": 7,
     "metadata": {},
     "output_type": "execute_result"
    }
   ],
   "execution_count": 7
  },
  {
   "cell_type": "code",
   "id": "401b4a2e",
   "metadata": {
    "ExecuteTime": {
     "end_time": "2025-04-04T08:44:41.216640Z",
     "start_time": "2025-04-04T08:44:41.192075Z"
    }
   },
   "source": [
    "# number of customers purchased items\n",
    "customer_purchased = event[event.transactionid.notnull()].visitorid.unique()\n",
    "customer_purchased.size"
   ],
   "outputs": [
    {
     "data": {
      "text/plain": [
       "11719"
      ]
     },
     "execution_count": 53,
     "metadata": {},
     "output_type": "execute_result"
    }
   ],
   "execution_count": 53
  },
  {
   "cell_type": "code",
   "id": "aca08530",
   "metadata": {
    "ExecuteTime": {
     "end_time": "2025-04-04T07:56:25.816110Z",
     "start_time": "2025-04-04T07:56:20.276301Z"
    }
   },
   "source": "event.to_csv('events_dates.csv', index=False)",
   "outputs": [],
   "execution_count": 10
  },
  {
   "cell_type": "code",
   "id": "4854f70e",
   "metadata": {
    "ExecuteTime": {
     "end_time": "2025-04-04T08:44:52.731407Z",
     "start_time": "2025-04-04T08:44:49.636915Z"
    }
   },
   "source": [
    "events = pd.read_csv('events_dates.csv')\n",
    "events.head()"
   ],
   "outputs": [
    {
     "data": {
      "text/plain": [
       "             timestamp  visitorid event  itemid  transactionid\n",
       "0  2015-06-02 10:32:12     257597  view  355908            NaN\n",
       "1  2015-06-02 11:20:14     992329  view  248676            NaN\n",
       "2  2015-06-02 10:43:19     111016  view  318965            NaN\n",
       "3  2015-06-02 10:42:35     483717  view  253185            NaN\n",
       "4  2015-06-02 10:32:17     951259  view  367447            NaN"
      ],
      "text/html": [
       "<div>\n",
       "<style scoped>\n",
       "    .dataframe tbody tr th:only-of-type {\n",
       "        vertical-align: middle;\n",
       "    }\n",
       "\n",
       "    .dataframe tbody tr th {\n",
       "        vertical-align: top;\n",
       "    }\n",
       "\n",
       "    .dataframe thead th {\n",
       "        text-align: right;\n",
       "    }\n",
       "</style>\n",
       "<table border=\"1\" class=\"dataframe\">\n",
       "  <thead>\n",
       "    <tr style=\"text-align: right;\">\n",
       "      <th></th>\n",
       "      <th>timestamp</th>\n",
       "      <th>visitorid</th>\n",
       "      <th>event</th>\n",
       "      <th>itemid</th>\n",
       "      <th>transactionid</th>\n",
       "    </tr>\n",
       "  </thead>\n",
       "  <tbody>\n",
       "    <tr>\n",
       "      <th>0</th>\n",
       "      <td>2015-06-02 10:32:12</td>\n",
       "      <td>257597</td>\n",
       "      <td>view</td>\n",
       "      <td>355908</td>\n",
       "      <td>NaN</td>\n",
       "    </tr>\n",
       "    <tr>\n",
       "      <th>1</th>\n",
       "      <td>2015-06-02 11:20:14</td>\n",
       "      <td>992329</td>\n",
       "      <td>view</td>\n",
       "      <td>248676</td>\n",
       "      <td>NaN</td>\n",
       "    </tr>\n",
       "    <tr>\n",
       "      <th>2</th>\n",
       "      <td>2015-06-02 10:43:19</td>\n",
       "      <td>111016</td>\n",
       "      <td>view</td>\n",
       "      <td>318965</td>\n",
       "      <td>NaN</td>\n",
       "    </tr>\n",
       "    <tr>\n",
       "      <th>3</th>\n",
       "      <td>2015-06-02 10:42:35</td>\n",
       "      <td>483717</td>\n",
       "      <td>view</td>\n",
       "      <td>253185</td>\n",
       "      <td>NaN</td>\n",
       "    </tr>\n",
       "    <tr>\n",
       "      <th>4</th>\n",
       "      <td>2015-06-02 10:32:17</td>\n",
       "      <td>951259</td>\n",
       "      <td>view</td>\n",
       "      <td>367447</td>\n",
       "      <td>NaN</td>\n",
       "    </tr>\n",
       "  </tbody>\n",
       "</table>\n",
       "</div>"
      ]
     },
     "execution_count": 54,
     "metadata": {},
     "output_type": "execute_result"
    }
   ],
   "execution_count": 54
  },
  {
   "cell_type": "markdown",
   "id": "d4b80b8c",
   "metadata": {},
   "source": [
    "## 1.2 Item"
   ]
  },
  {
   "cell_type": "code",
   "id": "35ff8767",
   "metadata": {
    "scrolled": true,
    "ExecuteTime": {
     "end_time": "2025-04-04T07:56:42.685154Z",
     "start_time": "2025-04-04T07:56:35.808362Z"
    }
   },
   "source": "item_1 = pd.read_csv('item_properties_part1.csv')",
   "outputs": [],
   "execution_count": 12
  },
  {
   "cell_type": "code",
   "id": "87bec6ef",
   "metadata": {
    "scrolled": true,
    "ExecuteTime": {
     "end_time": "2025-04-03T07:52:22.334909Z",
     "start_time": "2025-04-03T07:52:18.595252Z"
    }
   },
   "source": "item_2 = pd.read_csv('item_properties_part2.csv')",
   "outputs": [],
   "execution_count": 5
  },
  {
   "cell_type": "code",
   "id": "27d8b619",
   "metadata": {
    "scrolled": false,
    "ExecuteTime": {
     "end_time": "2025-04-03T07:52:22.721979Z",
     "start_time": "2025-04-03T07:52:22.350514Z"
    }
   },
   "source": [
    "# concat two tables into one\n",
    "items = pd.concat([item_1, item_2], axis=0)\n",
    "items.head()"
   ],
   "outputs": [
    {
     "data": {
      "text/plain": [
       "       timestamp  itemid    property                            value\n",
       "0  1435460400000  460429  categoryid                             1338\n",
       "1  1441508400000  206783         888          1116713 960601 n277.200\n",
       "2  1439089200000  395014         400  n552.000 639502 n720.000 424566\n",
       "3  1431226800000   59481         790                       n15360.000\n",
       "4  1431831600000  156781         917                           828513"
      ],
      "text/html": [
       "<div>\n",
       "<style scoped>\n",
       "    .dataframe tbody tr th:only-of-type {\n",
       "        vertical-align: middle;\n",
       "    }\n",
       "\n",
       "    .dataframe tbody tr th {\n",
       "        vertical-align: top;\n",
       "    }\n",
       "\n",
       "    .dataframe thead th {\n",
       "        text-align: right;\n",
       "    }\n",
       "</style>\n",
       "<table border=\"1\" class=\"dataframe\">\n",
       "  <thead>\n",
       "    <tr style=\"text-align: right;\">\n",
       "      <th></th>\n",
       "      <th>timestamp</th>\n",
       "      <th>itemid</th>\n",
       "      <th>property</th>\n",
       "      <th>value</th>\n",
       "    </tr>\n",
       "  </thead>\n",
       "  <tbody>\n",
       "    <tr>\n",
       "      <th>0</th>\n",
       "      <td>1435460400000</td>\n",
       "      <td>460429</td>\n",
       "      <td>categoryid</td>\n",
       "      <td>1338</td>\n",
       "    </tr>\n",
       "    <tr>\n",
       "      <th>1</th>\n",
       "      <td>1441508400000</td>\n",
       "      <td>206783</td>\n",
       "      <td>888</td>\n",
       "      <td>1116713 960601 n277.200</td>\n",
       "    </tr>\n",
       "    <tr>\n",
       "      <th>2</th>\n",
       "      <td>1439089200000</td>\n",
       "      <td>395014</td>\n",
       "      <td>400</td>\n",
       "      <td>n552.000 639502 n720.000 424566</td>\n",
       "    </tr>\n",
       "    <tr>\n",
       "      <th>3</th>\n",
       "      <td>1431226800000</td>\n",
       "      <td>59481</td>\n",
       "      <td>790</td>\n",
       "      <td>n15360.000</td>\n",
       "    </tr>\n",
       "    <tr>\n",
       "      <th>4</th>\n",
       "      <td>1431831600000</td>\n",
       "      <td>156781</td>\n",
       "      <td>917</td>\n",
       "      <td>828513</td>\n",
       "    </tr>\n",
       "  </tbody>\n",
       "</table>\n",
       "</div>"
      ]
     },
     "execution_count": 6,
     "metadata": {},
     "output_type": "execute_result"
    }
   ],
   "execution_count": 6
  },
  {
   "cell_type": "code",
   "id": "fefb5cd3",
   "metadata": {
    "ExecuteTime": {
     "end_time": "2025-04-02T22:18:51.237081Z",
     "start_time": "2025-04-02T21:14:33.150043Z"
    }
   },
   "source": [
    "# converting Unix timestamp to readable format, time consuming steps\n",
    "items.timestamp = items.timestamp.apply(lambda x: pd.to_datetime(datetime.fromtimestamp(x//1000).strftime('%Y-%m-%d %H:%M:%S')))"
   ],
   "outputs": [],
   "execution_count": 11
  },
  {
   "cell_type": "code",
   "id": "a793f21c",
   "metadata": {
    "ExecuteTime": {
     "end_time": "2025-04-02T22:19:25.730728Z",
     "start_time": "2025-04-02T22:18:55.469698Z"
    }
   },
   "source": [
    "# save to csv\n",
    "items.to_csv('items.csv', index=False)"
   ],
   "outputs": [],
   "execution_count": 13
  },
  {
   "cell_type": "code",
   "id": "352673d5",
   "metadata": {
    "ExecuteTime": {
     "end_time": "2025-04-04T07:57:15.547882Z",
     "start_time": "2025-04-04T07:57:00.015088Z"
    }
   },
   "source": [
    "# read items csv\n",
    "items = pd.read_csv('items.csv')\n",
    "items.head()"
   ],
   "outputs": [
    {
     "data": {
      "text/plain": [
       "             timestamp  itemid    property                            value\n",
       "0  2015-06-28 08:30:00  460429  categoryid                             1338\n",
       "1  2015-09-06 08:30:00  206783         888          1116713 960601 n277.200\n",
       "2  2015-08-09 08:30:00  395014         400  n552.000 639502 n720.000 424566\n",
       "3  2015-05-10 08:30:00   59481         790                       n15360.000\n",
       "4  2015-05-17 08:30:00  156781         917                           828513"
      ],
      "text/html": [
       "<div>\n",
       "<style scoped>\n",
       "    .dataframe tbody tr th:only-of-type {\n",
       "        vertical-align: middle;\n",
       "    }\n",
       "\n",
       "    .dataframe tbody tr th {\n",
       "        vertical-align: top;\n",
       "    }\n",
       "\n",
       "    .dataframe thead th {\n",
       "        text-align: right;\n",
       "    }\n",
       "</style>\n",
       "<table border=\"1\" class=\"dataframe\">\n",
       "  <thead>\n",
       "    <tr style=\"text-align: right;\">\n",
       "      <th></th>\n",
       "      <th>timestamp</th>\n",
       "      <th>itemid</th>\n",
       "      <th>property</th>\n",
       "      <th>value</th>\n",
       "    </tr>\n",
       "  </thead>\n",
       "  <tbody>\n",
       "    <tr>\n",
       "      <th>0</th>\n",
       "      <td>2015-06-28 08:30:00</td>\n",
       "      <td>460429</td>\n",
       "      <td>categoryid</td>\n",
       "      <td>1338</td>\n",
       "    </tr>\n",
       "    <tr>\n",
       "      <th>1</th>\n",
       "      <td>2015-09-06 08:30:00</td>\n",
       "      <td>206783</td>\n",
       "      <td>888</td>\n",
       "      <td>1116713 960601 n277.200</td>\n",
       "    </tr>\n",
       "    <tr>\n",
       "      <th>2</th>\n",
       "      <td>2015-08-09 08:30:00</td>\n",
       "      <td>395014</td>\n",
       "      <td>400</td>\n",
       "      <td>n552.000 639502 n720.000 424566</td>\n",
       "    </tr>\n",
       "    <tr>\n",
       "      <th>3</th>\n",
       "      <td>2015-05-10 08:30:00</td>\n",
       "      <td>59481</td>\n",
       "      <td>790</td>\n",
       "      <td>n15360.000</td>\n",
       "    </tr>\n",
       "    <tr>\n",
       "      <th>4</th>\n",
       "      <td>2015-05-17 08:30:00</td>\n",
       "      <td>156781</td>\n",
       "      <td>917</td>\n",
       "      <td>828513</td>\n",
       "    </tr>\n",
       "  </tbody>\n",
       "</table>\n",
       "</div>"
      ]
     },
     "execution_count": 13,
     "metadata": {},
     "output_type": "execute_result"
    }
   ],
   "execution_count": 13
  },
  {
   "cell_type": "markdown",
   "id": "710b3526",
   "metadata": {},
   "source": [
    "## 1.3 Category"
   ]
  },
  {
   "cell_type": "code",
   "id": "1dc51ca8",
   "metadata": {
    "scrolled": true,
    "ExecuteTime": {
     "end_time": "2025-04-04T07:57:28.354576Z",
     "start_time": "2025-04-04T07:57:28.295153Z"
    }
   },
   "source": [
    "category = pd.read_csv('category_tree.csv')\n",
    "category.head()"
   ],
   "outputs": [
    {
     "data": {
      "text/plain": [
       "   categoryid  parentid\n",
       "0        1016     213.0\n",
       "1         809     169.0\n",
       "2         570       9.0\n",
       "3        1691     885.0\n",
       "4         536    1691.0"
      ],
      "text/html": [
       "<div>\n",
       "<style scoped>\n",
       "    .dataframe tbody tr th:only-of-type {\n",
       "        vertical-align: middle;\n",
       "    }\n",
       "\n",
       "    .dataframe tbody tr th {\n",
       "        vertical-align: top;\n",
       "    }\n",
       "\n",
       "    .dataframe thead th {\n",
       "        text-align: right;\n",
       "    }\n",
       "</style>\n",
       "<table border=\"1\" class=\"dataframe\">\n",
       "  <thead>\n",
       "    <tr style=\"text-align: right;\">\n",
       "      <th></th>\n",
       "      <th>categoryid</th>\n",
       "      <th>parentid</th>\n",
       "    </tr>\n",
       "  </thead>\n",
       "  <tbody>\n",
       "    <tr>\n",
       "      <th>0</th>\n",
       "      <td>1016</td>\n",
       "      <td>213.0</td>\n",
       "    </tr>\n",
       "    <tr>\n",
       "      <th>1</th>\n",
       "      <td>809</td>\n",
       "      <td>169.0</td>\n",
       "    </tr>\n",
       "    <tr>\n",
       "      <th>2</th>\n",
       "      <td>570</td>\n",
       "      <td>9.0</td>\n",
       "    </tr>\n",
       "    <tr>\n",
       "      <th>3</th>\n",
       "      <td>1691</td>\n",
       "      <td>885.0</td>\n",
       "    </tr>\n",
       "    <tr>\n",
       "      <th>4</th>\n",
       "      <td>536</td>\n",
       "      <td>1691.0</td>\n",
       "    </tr>\n",
       "  </tbody>\n",
       "</table>\n",
       "</div>"
      ]
     },
     "execution_count": 14,
     "metadata": {},
     "output_type": "execute_result"
    }
   ],
   "execution_count": 14
  },
  {
   "cell_type": "code",
   "id": "55609f36",
   "metadata": {
    "ExecuteTime": {
     "end_time": "2025-04-04T07:57:54.890726Z",
     "start_time": "2025-04-04T07:57:54.875186Z"
    }
   },
   "source": [
    "# 25 null value in parentid\n",
    "category.isnull().value_counts()"
   ],
   "outputs": [
    {
     "data": {
      "text/plain": [
       "categoryid  parentid\n",
       "False       False       1644\n",
       "            True          25\n",
       "Name: count, dtype: int64"
      ]
     },
     "execution_count": 20,
     "metadata": {},
     "output_type": "execute_result"
    }
   ],
   "execution_count": 20
  },
  {
   "cell_type": "code",
   "id": "26f1cff7",
   "metadata": {
    "scrolled": true,
    "ExecuteTime": {
     "end_time": "2025-04-04T07:58:03.643205Z",
     "start_time": "2025-04-04T07:58:03.111185Z"
    }
   },
   "source": [
    "# items with categoryid and available as propery\n",
    "items = items.loc[items.property.isin(['categoryid', 'available']), :]\n",
    "print(\"items with categoryid and available as propery:\", items.size)\n",
    "items.head()"
   ],
   "outputs": [
    {
     "name": "stdout",
     "output_type": "stream",
     "text": [
      "items with categoryid and available as propery: 9167412\n"
     ]
    },
    {
     "data": {
      "text/plain": [
       "              timestamp  itemid    property value\n",
       "0   2015-06-28 08:30:00  460429  categoryid  1338\n",
       "5   2015-07-05 08:30:00  285026   available     0\n",
       "15  2015-07-19 08:30:00  186518   available     0\n",
       "79  2015-06-07 08:30:00  423682   available     0\n",
       "82  2015-06-14 08:30:00  316253   available     1"
      ],
      "text/html": [
       "<div>\n",
       "<style scoped>\n",
       "    .dataframe tbody tr th:only-of-type {\n",
       "        vertical-align: middle;\n",
       "    }\n",
       "\n",
       "    .dataframe tbody tr th {\n",
       "        vertical-align: top;\n",
       "    }\n",
       "\n",
       "    .dataframe thead th {\n",
       "        text-align: right;\n",
       "    }\n",
       "</style>\n",
       "<table border=\"1\" class=\"dataframe\">\n",
       "  <thead>\n",
       "    <tr style=\"text-align: right;\">\n",
       "      <th></th>\n",
       "      <th>timestamp</th>\n",
       "      <th>itemid</th>\n",
       "      <th>property</th>\n",
       "      <th>value</th>\n",
       "    </tr>\n",
       "  </thead>\n",
       "  <tbody>\n",
       "    <tr>\n",
       "      <th>0</th>\n",
       "      <td>2015-06-28 08:30:00</td>\n",
       "      <td>460429</td>\n",
       "      <td>categoryid</td>\n",
       "      <td>1338</td>\n",
       "    </tr>\n",
       "    <tr>\n",
       "      <th>5</th>\n",
       "      <td>2015-07-05 08:30:00</td>\n",
       "      <td>285026</td>\n",
       "      <td>available</td>\n",
       "      <td>0</td>\n",
       "    </tr>\n",
       "    <tr>\n",
       "      <th>15</th>\n",
       "      <td>2015-07-19 08:30:00</td>\n",
       "      <td>186518</td>\n",
       "      <td>available</td>\n",
       "      <td>0</td>\n",
       "    </tr>\n",
       "    <tr>\n",
       "      <th>79</th>\n",
       "      <td>2015-06-07 08:30:00</td>\n",
       "      <td>423682</td>\n",
       "      <td>available</td>\n",
       "      <td>0</td>\n",
       "    </tr>\n",
       "    <tr>\n",
       "      <th>82</th>\n",
       "      <td>2015-06-14 08:30:00</td>\n",
       "      <td>316253</td>\n",
       "      <td>available</td>\n",
       "      <td>1</td>\n",
       "    </tr>\n",
       "  </tbody>\n",
       "</table>\n",
       "</div>"
      ]
     },
     "execution_count": 23,
     "metadata": {},
     "output_type": "execute_result"
    }
   ],
   "execution_count": 23
  },
  {
   "cell_type": "code",
   "id": "3b666272",
   "metadata": {
    "scrolled": true,
    "ExecuteTime": {
     "end_time": "2025-04-04T07:58:04.160374Z",
     "start_time": "2025-04-04T07:58:03.748013Z"
    }
   },
   "source": [
    "# grouping itemid by its event type and creating list of each of them\n",
    "grouped = events.groupby('event')['itemid'].apply(list)\n",
    "grouped"
   ],
   "outputs": [
    {
     "data": {
      "text/plain": [
       "event\n",
       "addtocart      [5206, 10572, 255275, 356475, 312728, 63312, 1...\n",
       "transaction    [356475, 15335, 81345, 150318, 310791, 54058, ...\n",
       "view           [355908, 248676, 318965, 253185, 367447, 22556...\n",
       "Name: itemid, dtype: object"
      ]
     },
     "execution_count": 24,
     "metadata": {},
     "output_type": "execute_result"
    }
   ],
   "execution_count": 24
  },
  {
   "cell_type": "code",
   "id": "59fb8f83",
   "metadata": {
    "ExecuteTime": {
     "end_time": "2025-04-04T08:45:04.683221Z",
     "start_time": "2025-04-04T08:45:04.529676Z"
    }
   },
   "source": [
    "# all unique visitors\n",
    "all_customers = events['visitorid'].unique()\n",
    "print(\"Unique visitors:\", all_customers.size)\n",
    "\n",
    "# all visitors\n",
    "print('Total visitors:', events['visitorid'].size)"
   ],
   "outputs": [
    {
     "name": "stdout",
     "output_type": "stream",
     "text": [
      "Unique visitors: 1407580\n",
      "Total visitors: 2756101\n"
     ]
    }
   ],
   "execution_count": 55
  },
  {
   "cell_type": "code",
   "id": "67b0bcb0",
   "metadata": {
    "ExecuteTime": {
     "end_time": "2025-04-04T08:45:05.921862Z",
     "start_time": "2025-04-04T08:45:05.889650Z"
    }
   },
   "source": [
    "# get all the customers who bought something\n",
    "customer_purchased = events[events.transactionid.notnull()].visitorid.unique()\n",
    "customer_purchased.size"
   ],
   "outputs": [
    {
     "data": {
      "text/plain": [
       "11719"
      ]
     },
     "execution_count": 56,
     "metadata": {},
     "output_type": "execute_result"
    }
   ],
   "execution_count": 56
  },
  {
   "cell_type": "code",
   "id": "a3c8b0bb",
   "metadata": {
    "ExecuteTime": {
     "end_time": "2025-04-04T08:45:14.854184Z",
     "start_time": "2025-04-04T08:45:07.942744Z"
    }
   },
   "source": [
    "# get visitors who didn't buy anything\n",
    "customer_browsed = [x for x in all_customers if x not in customer_purchased]\n",
    "len(customer_browsed)"
   ],
   "outputs": [
    {
     "data": {
      "text/plain": [
       "1395861"
      ]
     },
     "execution_count": 57,
     "metadata": {},
     "output_type": "execute_result"
    }
   ],
   "execution_count": 57
  },
  {
   "cell_type": "code",
   "id": "1a0d8073",
   "metadata": {
    "scrolled": true,
    "ExecuteTime": {
     "end_time": "2025-04-04T07:58:28.483425Z",
     "start_time": "2025-04-04T07:58:28.474221Z"
    }
   },
   "source": [
    "events.head()"
   ],
   "outputs": [
    {
     "data": {
      "text/plain": [
       "             timestamp  visitorid event  itemid  transactionid\n",
       "0  2015-06-02 10:32:12     257597  view  355908            NaN\n",
       "1  2015-06-02 11:20:14     992329  view  248676            NaN\n",
       "2  2015-06-02 10:43:19     111016  view  318965            NaN\n",
       "3  2015-06-02 10:42:35     483717  view  253185            NaN\n",
       "4  2015-06-02 10:32:17     951259  view  367447            NaN"
      ],
      "text/html": [
       "<div>\n",
       "<style scoped>\n",
       "    .dataframe tbody tr th:only-of-type {\n",
       "        vertical-align: middle;\n",
       "    }\n",
       "\n",
       "    .dataframe tbody tr th {\n",
       "        vertical-align: top;\n",
       "    }\n",
       "\n",
       "    .dataframe thead th {\n",
       "        text-align: right;\n",
       "    }\n",
       "</style>\n",
       "<table border=\"1\" class=\"dataframe\">\n",
       "  <thead>\n",
       "    <tr style=\"text-align: right;\">\n",
       "      <th></th>\n",
       "      <th>timestamp</th>\n",
       "      <th>visitorid</th>\n",
       "      <th>event</th>\n",
       "      <th>itemid</th>\n",
       "      <th>transactionid</th>\n",
       "    </tr>\n",
       "  </thead>\n",
       "  <tbody>\n",
       "    <tr>\n",
       "      <th>0</th>\n",
       "      <td>2015-06-02 10:32:12</td>\n",
       "      <td>257597</td>\n",
       "      <td>view</td>\n",
       "      <td>355908</td>\n",
       "      <td>NaN</td>\n",
       "    </tr>\n",
       "    <tr>\n",
       "      <th>1</th>\n",
       "      <td>2015-06-02 11:20:14</td>\n",
       "      <td>992329</td>\n",
       "      <td>view</td>\n",
       "      <td>248676</td>\n",
       "      <td>NaN</td>\n",
       "    </tr>\n",
       "    <tr>\n",
       "      <th>2</th>\n",
       "      <td>2015-06-02 10:43:19</td>\n",
       "      <td>111016</td>\n",
       "      <td>view</td>\n",
       "      <td>318965</td>\n",
       "      <td>NaN</td>\n",
       "    </tr>\n",
       "    <tr>\n",
       "      <th>3</th>\n",
       "      <td>2015-06-02 10:42:35</td>\n",
       "      <td>483717</td>\n",
       "      <td>view</td>\n",
       "      <td>253185</td>\n",
       "      <td>NaN</td>\n",
       "    </tr>\n",
       "    <tr>\n",
       "      <th>4</th>\n",
       "      <td>2015-06-02 10:32:17</td>\n",
       "      <td>951259</td>\n",
       "      <td>view</td>\n",
       "      <td>367447</td>\n",
       "      <td>NaN</td>\n",
       "    </tr>\n",
       "  </tbody>\n",
       "</table>\n",
       "</div>"
      ]
     },
     "execution_count": 28,
     "metadata": {},
     "output_type": "execute_result"
    }
   ],
   "execution_count": 28
  },
  {
   "cell_type": "code",
   "id": "20fb2df1",
   "metadata": {
    "scrolled": true,
    "ExecuteTime": {
     "end_time": "2025-04-04T07:58:32.166084Z",
     "start_time": "2025-04-04T07:58:32.156607Z"
    }
   },
   "source": [
    "items.head()"
   ],
   "outputs": [
    {
     "data": {
      "text/plain": [
       "              timestamp  itemid    property value\n",
       "0   2015-06-28 08:30:00  460429  categoryid  1338\n",
       "5   2015-07-05 08:30:00  285026   available     0\n",
       "15  2015-07-19 08:30:00  186518   available     0\n",
       "79  2015-06-07 08:30:00  423682   available     0\n",
       "82  2015-06-14 08:30:00  316253   available     1"
      ],
      "text/html": [
       "<div>\n",
       "<style scoped>\n",
       "    .dataframe tbody tr th:only-of-type {\n",
       "        vertical-align: middle;\n",
       "    }\n",
       "\n",
       "    .dataframe tbody tr th {\n",
       "        vertical-align: top;\n",
       "    }\n",
       "\n",
       "    .dataframe thead th {\n",
       "        text-align: right;\n",
       "    }\n",
       "</style>\n",
       "<table border=\"1\" class=\"dataframe\">\n",
       "  <thead>\n",
       "    <tr style=\"text-align: right;\">\n",
       "      <th></th>\n",
       "      <th>timestamp</th>\n",
       "      <th>itemid</th>\n",
       "      <th>property</th>\n",
       "      <th>value</th>\n",
       "    </tr>\n",
       "  </thead>\n",
       "  <tbody>\n",
       "    <tr>\n",
       "      <th>0</th>\n",
       "      <td>2015-06-28 08:30:00</td>\n",
       "      <td>460429</td>\n",
       "      <td>categoryid</td>\n",
       "      <td>1338</td>\n",
       "    </tr>\n",
       "    <tr>\n",
       "      <th>5</th>\n",
       "      <td>2015-07-05 08:30:00</td>\n",
       "      <td>285026</td>\n",
       "      <td>available</td>\n",
       "      <td>0</td>\n",
       "    </tr>\n",
       "    <tr>\n",
       "      <th>15</th>\n",
       "      <td>2015-07-19 08:30:00</td>\n",
       "      <td>186518</td>\n",
       "      <td>available</td>\n",
       "      <td>0</td>\n",
       "    </tr>\n",
       "    <tr>\n",
       "      <th>79</th>\n",
       "      <td>2015-06-07 08:30:00</td>\n",
       "      <td>423682</td>\n",
       "      <td>available</td>\n",
       "      <td>0</td>\n",
       "    </tr>\n",
       "    <tr>\n",
       "      <th>82</th>\n",
       "      <td>2015-06-14 08:30:00</td>\n",
       "      <td>316253</td>\n",
       "      <td>available</td>\n",
       "      <td>1</td>\n",
       "    </tr>\n",
       "  </tbody>\n",
       "</table>\n",
       "</div>"
      ]
     },
     "execution_count": 30,
     "metadata": {},
     "output_type": "execute_result"
    }
   ],
   "execution_count": 30
  },
  {
   "cell_type": "code",
   "id": "36913224",
   "metadata": {
    "scrolled": true,
    "ExecuteTime": {
     "end_time": "2025-04-04T07:58:42.455456Z",
     "start_time": "2025-04-04T07:58:42.092417Z"
    }
   },
   "source": [
    "# create items_ that filtered the unique itemid with categoryid value\n",
    "items_ = items[items.property == 'categoryid'].drop(['timestamp', 'property'], axis=1).drop_duplicates()\n",
    "items_.head()"
   ],
   "outputs": [
    {
     "data": {
      "text/plain": [
       "     itemid value\n",
       "0    460429  1338\n",
       "140  281245  1277\n",
       "151   35575  1059\n",
       "189    8313  1147\n",
       "197   55102    47"
      ],
      "text/html": [
       "<div>\n",
       "<style scoped>\n",
       "    .dataframe tbody tr th:only-of-type {\n",
       "        vertical-align: middle;\n",
       "    }\n",
       "\n",
       "    .dataframe tbody tr th {\n",
       "        vertical-align: top;\n",
       "    }\n",
       "\n",
       "    .dataframe thead th {\n",
       "        text-align: right;\n",
       "    }\n",
       "</style>\n",
       "<table border=\"1\" class=\"dataframe\">\n",
       "  <thead>\n",
       "    <tr style=\"text-align: right;\">\n",
       "      <th></th>\n",
       "      <th>itemid</th>\n",
       "      <th>value</th>\n",
       "    </tr>\n",
       "  </thead>\n",
       "  <tbody>\n",
       "    <tr>\n",
       "      <th>0</th>\n",
       "      <td>460429</td>\n",
       "      <td>1338</td>\n",
       "    </tr>\n",
       "    <tr>\n",
       "      <th>140</th>\n",
       "      <td>281245</td>\n",
       "      <td>1277</td>\n",
       "    </tr>\n",
       "    <tr>\n",
       "      <th>151</th>\n",
       "      <td>35575</td>\n",
       "      <td>1059</td>\n",
       "    </tr>\n",
       "    <tr>\n",
       "      <th>189</th>\n",
       "      <td>8313</td>\n",
       "      <td>1147</td>\n",
       "    </tr>\n",
       "    <tr>\n",
       "      <th>197</th>\n",
       "      <td>55102</td>\n",
       "      <td>47</td>\n",
       "    </tr>\n",
       "  </tbody>\n",
       "</table>\n",
       "</div>"
      ]
     },
     "execution_count": 31,
     "metadata": {},
     "output_type": "execute_result"
    }
   ],
   "execution_count": 31
  },
  {
   "cell_type": "code",
   "id": "4ec7b517",
   "metadata": {
    "ExecuteTime": {
     "end_time": "2025-04-04T07:58:45.056415Z",
     "start_time": "2025-04-04T07:58:44.993384Z"
    }
   },
   "source": [
    "# convert object to int64 for value in items_, perpare for merge table\n",
    "items_.value = items_.value.astype('int64')"
   ],
   "outputs": [],
   "execution_count": 32
  },
  {
   "cell_type": "code",
   "id": "32fb58bc",
   "metadata": {
    "scrolled": false,
    "ExecuteTime": {
     "end_time": "2025-04-04T07:58:46.491523Z",
     "start_time": "2025-04-04T07:58:46.472328Z"
    }
   },
   "source": [
    "category.head()"
   ],
   "outputs": [
    {
     "data": {
      "text/plain": [
       "   categoryid  parentid\n",
       "0        1016     213.0\n",
       "1         809     169.0\n",
       "2         570       9.0\n",
       "3        1691     885.0\n",
       "4         536    1691.0"
      ],
      "text/html": [
       "<div>\n",
       "<style scoped>\n",
       "    .dataframe tbody tr th:only-of-type {\n",
       "        vertical-align: middle;\n",
       "    }\n",
       "\n",
       "    .dataframe tbody tr th {\n",
       "        vertical-align: top;\n",
       "    }\n",
       "\n",
       "    .dataframe thead th {\n",
       "        text-align: right;\n",
       "    }\n",
       "</style>\n",
       "<table border=\"1\" class=\"dataframe\">\n",
       "  <thead>\n",
       "    <tr style=\"text-align: right;\">\n",
       "      <th></th>\n",
       "      <th>categoryid</th>\n",
       "      <th>parentid</th>\n",
       "    </tr>\n",
       "  </thead>\n",
       "  <tbody>\n",
       "    <tr>\n",
       "      <th>0</th>\n",
       "      <td>1016</td>\n",
       "      <td>213.0</td>\n",
       "    </tr>\n",
       "    <tr>\n",
       "      <th>1</th>\n",
       "      <td>809</td>\n",
       "      <td>169.0</td>\n",
       "    </tr>\n",
       "    <tr>\n",
       "      <th>2</th>\n",
       "      <td>570</td>\n",
       "      <td>9.0</td>\n",
       "    </tr>\n",
       "    <tr>\n",
       "      <th>3</th>\n",
       "      <td>1691</td>\n",
       "      <td>885.0</td>\n",
       "    </tr>\n",
       "    <tr>\n",
       "      <th>4</th>\n",
       "      <td>536</td>\n",
       "      <td>1691.0</td>\n",
       "    </tr>\n",
       "  </tbody>\n",
       "</table>\n",
       "</div>"
      ]
     },
     "execution_count": 33,
     "metadata": {},
     "output_type": "execute_result"
    }
   ],
   "execution_count": 33
  },
  {
   "cell_type": "code",
   "id": "202836d1",
   "metadata": {
    "ExecuteTime": {
     "end_time": "2025-04-04T07:58:48.006612Z",
     "start_time": "2025-04-04T07:58:47.990966Z"
    }
   },
   "source": [
    "# check the datatype of category\n",
    "category.info()"
   ],
   "outputs": [
    {
     "name": "stdout",
     "output_type": "stream",
     "text": [
      "<class 'pandas.core.frame.DataFrame'>\n",
      "RangeIndex: 1669 entries, 0 to 1668\n",
      "Data columns (total 2 columns):\n",
      " #   Column      Non-Null Count  Dtype  \n",
      "---  ------      --------------  -----  \n",
      " 0   categoryid  1669 non-null   int64  \n",
      " 1   parentid    1644 non-null   float64\n",
      "dtypes: float64(1), int64(1)\n",
      "memory usage: 26.2 KB\n"
     ]
    }
   ],
   "execution_count": 34
  },
  {
   "cell_type": "code",
   "id": "52db4225",
   "metadata": {
    "ExecuteTime": {
     "end_time": "2025-04-04T07:58:51.025338Z",
     "start_time": "2025-04-04T07:58:50.134847Z"
    }
   },
   "source": [
    "# create the merged data with categoryid and parentid for items in events dataframe\n",
    "data = events.merge(items_, on='itemid').merge(category, left_on='value', right_on='categoryid').drop('value', axis=1)\n",
    "data.head()"
   ],
   "outputs": [
    {
     "data": {
      "text/plain": [
       "             timestamp  visitorid event  itemid  transactionid  categoryid  \\\n",
       "0  2015-06-02 10:32:12     257597  view  355908            NaN        1173   \n",
       "1  2015-06-02 11:20:14     992329  view  248676            NaN        1231   \n",
       "2  2015-06-02 10:42:35     483717  view  253185            NaN         914   \n",
       "3  2015-06-02 10:32:17     951259  view  367447            NaN        1613   \n",
       "4  2015-06-02 10:32:17     951259  view  367447            NaN         491   \n",
       "\n",
       "   parentid  \n",
       "0     805.0  \n",
       "1     901.0  \n",
       "2     226.0  \n",
       "3     250.0  \n",
       "4     679.0  "
      ],
      "text/html": [
       "<div>\n",
       "<style scoped>\n",
       "    .dataframe tbody tr th:only-of-type {\n",
       "        vertical-align: middle;\n",
       "    }\n",
       "\n",
       "    .dataframe tbody tr th {\n",
       "        vertical-align: top;\n",
       "    }\n",
       "\n",
       "    .dataframe thead th {\n",
       "        text-align: right;\n",
       "    }\n",
       "</style>\n",
       "<table border=\"1\" class=\"dataframe\">\n",
       "  <thead>\n",
       "    <tr style=\"text-align: right;\">\n",
       "      <th></th>\n",
       "      <th>timestamp</th>\n",
       "      <th>visitorid</th>\n",
       "      <th>event</th>\n",
       "      <th>itemid</th>\n",
       "      <th>transactionid</th>\n",
       "      <th>categoryid</th>\n",
       "      <th>parentid</th>\n",
       "    </tr>\n",
       "  </thead>\n",
       "  <tbody>\n",
       "    <tr>\n",
       "      <th>0</th>\n",
       "      <td>2015-06-02 10:32:12</td>\n",
       "      <td>257597</td>\n",
       "      <td>view</td>\n",
       "      <td>355908</td>\n",
       "      <td>NaN</td>\n",
       "      <td>1173</td>\n",
       "      <td>805.0</td>\n",
       "    </tr>\n",
       "    <tr>\n",
       "      <th>1</th>\n",
       "      <td>2015-06-02 11:20:14</td>\n",
       "      <td>992329</td>\n",
       "      <td>view</td>\n",
       "      <td>248676</td>\n",
       "      <td>NaN</td>\n",
       "      <td>1231</td>\n",
       "      <td>901.0</td>\n",
       "    </tr>\n",
       "    <tr>\n",
       "      <th>2</th>\n",
       "      <td>2015-06-02 10:42:35</td>\n",
       "      <td>483717</td>\n",
       "      <td>view</td>\n",
       "      <td>253185</td>\n",
       "      <td>NaN</td>\n",
       "      <td>914</td>\n",
       "      <td>226.0</td>\n",
       "    </tr>\n",
       "    <tr>\n",
       "      <th>3</th>\n",
       "      <td>2015-06-02 10:32:17</td>\n",
       "      <td>951259</td>\n",
       "      <td>view</td>\n",
       "      <td>367447</td>\n",
       "      <td>NaN</td>\n",
       "      <td>1613</td>\n",
       "      <td>250.0</td>\n",
       "    </tr>\n",
       "    <tr>\n",
       "      <th>4</th>\n",
       "      <td>2015-06-02 10:32:17</td>\n",
       "      <td>951259</td>\n",
       "      <td>view</td>\n",
       "      <td>367447</td>\n",
       "      <td>NaN</td>\n",
       "      <td>491</td>\n",
       "      <td>679.0</td>\n",
       "    </tr>\n",
       "  </tbody>\n",
       "</table>\n",
       "</div>"
      ]
     },
     "execution_count": 35,
     "metadata": {},
     "output_type": "execute_result"
    }
   ],
   "execution_count": 35
  },
  {
   "cell_type": "code",
   "id": "99cea5c6",
   "metadata": {
    "ExecuteTime": {
     "end_time": "2025-04-04T07:59:15.127787Z",
     "start_time": "2025-04-04T07:59:08.953304Z"
    }
   },
   "source": "data.to_csv('data_new.csv', index = False)",
   "outputs": [],
   "execution_count": 36
  },
  {
   "cell_type": "markdown",
   "id": "3cdf8ea7",
   "metadata": {},
   "source": [
    "### 2.3.1 EDA of summarized data"
   ]
  },
  {
   "cell_type": "code",
   "id": "4018f0ba",
   "metadata": {
    "ExecuteTime": {
     "end_time": "2025-04-04T08:29:01.407244Z",
     "start_time": "2025-04-04T08:28:58.277141Z"
    }
   },
   "source": "data = pd.read_csv('data_new.csv')",
   "outputs": [],
   "execution_count": 2
  },
  {
   "cell_type": "code",
   "id": "e49240bd",
   "metadata": {
    "scrolled": false,
    "ExecuteTime": {
     "end_time": "2025-04-04T08:35:46.185787Z",
     "start_time": "2025-04-04T08:35:46.170423Z"
    }
   },
   "source": [
    "data.info()"
   ],
   "outputs": [
    {
     "name": "stdout",
     "output_type": "stream",
     "text": [
      "<class 'pandas.core.frame.DataFrame'>\n",
      "Index: 2705278 entries, 0 to 2709445\n",
      "Data columns (total 7 columns):\n",
      " #   Column         Dtype         \n",
      "---  ------         -----         \n",
      " 0   timestamp      datetime64[ns]\n",
      " 1   visitorid      int64         \n",
      " 2   event          object        \n",
      " 3   itemid         int64         \n",
      " 4   transactionid  float64       \n",
      " 5   categoryid     int64         \n",
      " 6   parentid       float64       \n",
      "dtypes: datetime64[ns](1), float64(2), int64(3), object(1)\n",
      "memory usage: 165.1+ MB\n"
     ]
    }
   ],
   "execution_count": 16
  },
  {
   "cell_type": "code",
   "id": "f050bca9",
   "metadata": {
    "ExecuteTime": {
     "end_time": "2025-04-04T08:31:42.333751Z",
     "start_time": "2025-04-04T08:31:41.228882Z"
    }
   },
   "source": [
    "# convert the datatype\n",
    "data.timestamp = data.timestamp.astype('datetime64[ns]')"
   ],
   "outputs": [],
   "execution_count": 5
  },
  {
   "cell_type": "code",
   "id": "7df21f15",
   "metadata": {
    "ExecuteTime": {
     "end_time": "2025-04-04T08:31:46.549975Z",
     "start_time": "2025-04-04T08:31:45.149137Z"
    }
   },
   "source": [
    "data = data.drop_duplicates()"
   ],
   "outputs": [],
   "execution_count": 7
  },
  {
   "cell_type": "code",
   "id": "75644ad9",
   "metadata": {
    "scrolled": true,
    "ExecuteTime": {
     "end_time": "2025-04-04T08:32:26.148360Z",
     "start_time": "2025-04-04T08:32:26.112673Z"
    }
   },
   "source": [
    "data.transactionid.isnull().value_counts()"
   ],
   "outputs": [
    {
     "data": {
      "text/plain": [
       "transactionid\n",
       "True     2681915\n",
       "False      23363\n",
       "Name: count, dtype: int64"
      ]
     },
     "execution_count": 12,
     "metadata": {},
     "output_type": "execute_result"
    }
   ],
   "execution_count": 12
  },
  {
   "cell_type": "code",
   "id": "d5665ecc",
   "metadata": {
    "ExecuteTime": {
     "end_time": "2025-04-04T08:31:55.648045Z",
     "start_time": "2025-04-04T08:31:55.517451Z"
    }
   },
   "source": [
    "data.event.value_counts()"
   ],
   "outputs": [
    {
     "data": {
      "text/plain": [
       "event\n",
       "view           2610352\n",
       "addtocart        71563\n",
       "transaction      23363\n",
       "Name: count, dtype: int64"
      ]
     },
     "execution_count": 10,
     "metadata": {},
     "output_type": "execute_result"
    }
   ],
   "execution_count": 10
  },
  {
   "metadata": {
    "ExecuteTime": {
     "end_time": "2025-04-04T08:34:18.210449Z",
     "start_time": "2025-04-04T08:34:18.137939Z"
    }
   },
   "cell_type": "code",
   "source": "data['transactionid'].value_counts()",
   "id": "4925ca6569bea34a",
   "outputs": [
    {
     "data": {
      "text/plain": [
       "transactionid\n",
       "7063.0     34\n",
       "765.0      30\n",
       "8351.0     27\n",
       "2753.0     27\n",
       "6993.0     21\n",
       "           ..\n",
       "14021.0     1\n",
       "17414.0     1\n",
       "3999.0      1\n",
       "3786.0      1\n",
       "17579.0     1\n",
       "Name: count, Length: 17313, dtype: int64"
      ]
     },
     "execution_count": 13,
     "metadata": {},
     "output_type": "execute_result"
    }
   ],
   "execution_count": 13
  },
  {
   "cell_type": "code",
   "id": "b2fbd7d9",
   "metadata": {
    "scrolled": true,
    "ExecuteTime": {
     "end_time": "2025-04-04T08:34:51.495492Z",
     "start_time": "2025-04-04T08:34:50.585404Z"
    }
   },
   "source": "data.describe()",
   "outputs": [
    {
     "data": {
      "text/plain": [
       "                           timestamp     visitorid        itemid  \\\n",
       "count                        2705278  2.705278e+06  2.705278e+06   \n",
       "mean   2015-07-09 04:54:55.313824768  7.016354e+05  2.348950e+05   \n",
       "min              2015-05-03 08:30:04  0.000000e+00  3.000000e+00   \n",
       "25%    2015-06-05 04:35:32.249999872  3.500890e+05  1.182150e+05   \n",
       "50%       2015-07-09 06:10:35.500000  7.015695e+05  2.359020e+05   \n",
       "75%    2015-08-10 04:05:39.750000128  1.052846e+06  3.506290e+05   \n",
       "max              2015-09-18 08:29:47  1.407579e+06  4.668640e+05   \n",
       "std                              NaN  4.056618e+05  1.340439e+05   \n",
       "\n",
       "       transactionid    categoryid      parentid  \n",
       "count   23363.000000  2.705278e+06  2.705260e+06  \n",
       "mean     8832.780294  8.773571e+02  8.669219e+02  \n",
       "min         0.000000  0.000000e+00  8.000000e+00  \n",
       "25%      4419.500000  4.730000e+02  4.400000e+02  \n",
       "50%      8827.000000  9.580000e+02  8.710000e+02  \n",
       "75%     13222.000000  1.279000e+03  1.329000e+03  \n",
       "max     17671.000000  1.697000e+03  1.698000e+03  \n",
       "std      5100.994651  4.867197e+02  5.068626e+02  "
      ],
      "text/html": [
       "<div>\n",
       "<style scoped>\n",
       "    .dataframe tbody tr th:only-of-type {\n",
       "        vertical-align: middle;\n",
       "    }\n",
       "\n",
       "    .dataframe tbody tr th {\n",
       "        vertical-align: top;\n",
       "    }\n",
       "\n",
       "    .dataframe thead th {\n",
       "        text-align: right;\n",
       "    }\n",
       "</style>\n",
       "<table border=\"1\" class=\"dataframe\">\n",
       "  <thead>\n",
       "    <tr style=\"text-align: right;\">\n",
       "      <th></th>\n",
       "      <th>timestamp</th>\n",
       "      <th>visitorid</th>\n",
       "      <th>itemid</th>\n",
       "      <th>transactionid</th>\n",
       "      <th>categoryid</th>\n",
       "      <th>parentid</th>\n",
       "    </tr>\n",
       "  </thead>\n",
       "  <tbody>\n",
       "    <tr>\n",
       "      <th>count</th>\n",
       "      <td>2705278</td>\n",
       "      <td>2.705278e+06</td>\n",
       "      <td>2.705278e+06</td>\n",
       "      <td>23363.000000</td>\n",
       "      <td>2.705278e+06</td>\n",
       "      <td>2.705260e+06</td>\n",
       "    </tr>\n",
       "    <tr>\n",
       "      <th>mean</th>\n",
       "      <td>2015-07-09 04:54:55.313824768</td>\n",
       "      <td>7.016354e+05</td>\n",
       "      <td>2.348950e+05</td>\n",
       "      <td>8832.780294</td>\n",
       "      <td>8.773571e+02</td>\n",
       "      <td>8.669219e+02</td>\n",
       "    </tr>\n",
       "    <tr>\n",
       "      <th>min</th>\n",
       "      <td>2015-05-03 08:30:04</td>\n",
       "      <td>0.000000e+00</td>\n",
       "      <td>3.000000e+00</td>\n",
       "      <td>0.000000</td>\n",
       "      <td>0.000000e+00</td>\n",
       "      <td>8.000000e+00</td>\n",
       "    </tr>\n",
       "    <tr>\n",
       "      <th>25%</th>\n",
       "      <td>2015-06-05 04:35:32.249999872</td>\n",
       "      <td>3.500890e+05</td>\n",
       "      <td>1.182150e+05</td>\n",
       "      <td>4419.500000</td>\n",
       "      <td>4.730000e+02</td>\n",
       "      <td>4.400000e+02</td>\n",
       "    </tr>\n",
       "    <tr>\n",
       "      <th>50%</th>\n",
       "      <td>2015-07-09 06:10:35.500000</td>\n",
       "      <td>7.015695e+05</td>\n",
       "      <td>2.359020e+05</td>\n",
       "      <td>8827.000000</td>\n",
       "      <td>9.580000e+02</td>\n",
       "      <td>8.710000e+02</td>\n",
       "    </tr>\n",
       "    <tr>\n",
       "      <th>75%</th>\n",
       "      <td>2015-08-10 04:05:39.750000128</td>\n",
       "      <td>1.052846e+06</td>\n",
       "      <td>3.506290e+05</td>\n",
       "      <td>13222.000000</td>\n",
       "      <td>1.279000e+03</td>\n",
       "      <td>1.329000e+03</td>\n",
       "    </tr>\n",
       "    <tr>\n",
       "      <th>max</th>\n",
       "      <td>2015-09-18 08:29:47</td>\n",
       "      <td>1.407579e+06</td>\n",
       "      <td>4.668640e+05</td>\n",
       "      <td>17671.000000</td>\n",
       "      <td>1.697000e+03</td>\n",
       "      <td>1.698000e+03</td>\n",
       "    </tr>\n",
       "    <tr>\n",
       "      <th>std</th>\n",
       "      <td>NaN</td>\n",
       "      <td>4.056618e+05</td>\n",
       "      <td>1.340439e+05</td>\n",
       "      <td>5100.994651</td>\n",
       "      <td>4.867197e+02</td>\n",
       "      <td>5.068626e+02</td>\n",
       "    </tr>\n",
       "  </tbody>\n",
       "</table>\n",
       "</div>"
      ]
     },
     "execution_count": 15,
     "metadata": {},
     "output_type": "execute_result"
    }
   ],
   "execution_count": 15
  },
  {
   "cell_type": "markdown",
   "id": "a544ce17",
   "metadata": {},
   "source": [
    "### 2.3.2 Timestamp"
   ]
  },
  {
   "cell_type": "code",
   "id": "9a5698f2",
   "metadata": {
    "scrolled": true,
    "ExecuteTime": {
     "end_time": "2025-04-04T08:36:22.525025Z",
     "start_time": "2025-04-04T08:36:18.365055Z"
    }
   },
   "source": [
    "data.sort_values(by=['visitorid','itemid', 'timestamp'])"
   ],
   "outputs": [
    {
     "data": {
      "text/plain": [
       "                  timestamp  visitorid event  itemid  transactionid  \\\n",
       "1338798 2015-09-12 02:25:17          0  view   67045            NaN   \n",
       "1333375 2015-09-12 02:19:49          0  view  285930            NaN   \n",
       "1338670 2015-09-12 02:22:39          0  view  357564            NaN   \n",
       "817585  2015-08-13 23:16:06          1  view   72028            NaN   \n",
       "717304  2015-08-07 23:31:08          2  view  216305            NaN   \n",
       "...                     ...        ...   ...     ...            ...   \n",
       "204263  2015-06-11 03:16:08    1407575  view  121220            NaN   \n",
       "47148   2015-06-03 20:31:29    1407576  view  356208            NaN   \n",
       "1728728 2015-05-18 03:18:04    1407577  view  427784            NaN   \n",
       "1710517 2015-05-17 06:51:23    1407578  view  188736            NaN   \n",
       "477617  2015-06-25 03:52:06    1407579  view    2521            NaN   \n",
       "\n",
       "         categoryid  parentid  \n",
       "1338798         333    1497.0  \n",
       "1333375        1188    1497.0  \n",
       "1338670         256    1257.0  \n",
       "817585         1192     955.0  \n",
       "717304          299      73.0  \n",
       "...             ...       ...  \n",
       "204263         1221    1426.0  \n",
       "47148           175    1492.0  \n",
       "1728728        1237     623.0  \n",
       "1710517        1584    1562.0  \n",
       "477617         1282      25.0  \n",
       "\n",
       "[2705278 rows x 7 columns]"
      ],
      "text/html": [
       "<div>\n",
       "<style scoped>\n",
       "    .dataframe tbody tr th:only-of-type {\n",
       "        vertical-align: middle;\n",
       "    }\n",
       "\n",
       "    .dataframe tbody tr th {\n",
       "        vertical-align: top;\n",
       "    }\n",
       "\n",
       "    .dataframe thead th {\n",
       "        text-align: right;\n",
       "    }\n",
       "</style>\n",
       "<table border=\"1\" class=\"dataframe\">\n",
       "  <thead>\n",
       "    <tr style=\"text-align: right;\">\n",
       "      <th></th>\n",
       "      <th>timestamp</th>\n",
       "      <th>visitorid</th>\n",
       "      <th>event</th>\n",
       "      <th>itemid</th>\n",
       "      <th>transactionid</th>\n",
       "      <th>categoryid</th>\n",
       "      <th>parentid</th>\n",
       "    </tr>\n",
       "  </thead>\n",
       "  <tbody>\n",
       "    <tr>\n",
       "      <th>1338798</th>\n",
       "      <td>2015-09-12 02:25:17</td>\n",
       "      <td>0</td>\n",
       "      <td>view</td>\n",
       "      <td>67045</td>\n",
       "      <td>NaN</td>\n",
       "      <td>333</td>\n",
       "      <td>1497.0</td>\n",
       "    </tr>\n",
       "    <tr>\n",
       "      <th>1333375</th>\n",
       "      <td>2015-09-12 02:19:49</td>\n",
       "      <td>0</td>\n",
       "      <td>view</td>\n",
       "      <td>285930</td>\n",
       "      <td>NaN</td>\n",
       "      <td>1188</td>\n",
       "      <td>1497.0</td>\n",
       "    </tr>\n",
       "    <tr>\n",
       "      <th>1338670</th>\n",
       "      <td>2015-09-12 02:22:39</td>\n",
       "      <td>0</td>\n",
       "      <td>view</td>\n",
       "      <td>357564</td>\n",
       "      <td>NaN</td>\n",
       "      <td>256</td>\n",
       "      <td>1257.0</td>\n",
       "    </tr>\n",
       "    <tr>\n",
       "      <th>817585</th>\n",
       "      <td>2015-08-13 23:16:06</td>\n",
       "      <td>1</td>\n",
       "      <td>view</td>\n",
       "      <td>72028</td>\n",
       "      <td>NaN</td>\n",
       "      <td>1192</td>\n",
       "      <td>955.0</td>\n",
       "    </tr>\n",
       "    <tr>\n",
       "      <th>717304</th>\n",
       "      <td>2015-08-07 23:31:08</td>\n",
       "      <td>2</td>\n",
       "      <td>view</td>\n",
       "      <td>216305</td>\n",
       "      <td>NaN</td>\n",
       "      <td>299</td>\n",
       "      <td>73.0</td>\n",
       "    </tr>\n",
       "    <tr>\n",
       "      <th>...</th>\n",
       "      <td>...</td>\n",
       "      <td>...</td>\n",
       "      <td>...</td>\n",
       "      <td>...</td>\n",
       "      <td>...</td>\n",
       "      <td>...</td>\n",
       "      <td>...</td>\n",
       "    </tr>\n",
       "    <tr>\n",
       "      <th>204263</th>\n",
       "      <td>2015-06-11 03:16:08</td>\n",
       "      <td>1407575</td>\n",
       "      <td>view</td>\n",
       "      <td>121220</td>\n",
       "      <td>NaN</td>\n",
       "      <td>1221</td>\n",
       "      <td>1426.0</td>\n",
       "    </tr>\n",
       "    <tr>\n",
       "      <th>47148</th>\n",
       "      <td>2015-06-03 20:31:29</td>\n",
       "      <td>1407576</td>\n",
       "      <td>view</td>\n",
       "      <td>356208</td>\n",
       "      <td>NaN</td>\n",
       "      <td>175</td>\n",
       "      <td>1492.0</td>\n",
       "    </tr>\n",
       "    <tr>\n",
       "      <th>1728728</th>\n",
       "      <td>2015-05-18 03:18:04</td>\n",
       "      <td>1407577</td>\n",
       "      <td>view</td>\n",
       "      <td>427784</td>\n",
       "      <td>NaN</td>\n",
       "      <td>1237</td>\n",
       "      <td>623.0</td>\n",
       "    </tr>\n",
       "    <tr>\n",
       "      <th>1710517</th>\n",
       "      <td>2015-05-17 06:51:23</td>\n",
       "      <td>1407578</td>\n",
       "      <td>view</td>\n",
       "      <td>188736</td>\n",
       "      <td>NaN</td>\n",
       "      <td>1584</td>\n",
       "      <td>1562.0</td>\n",
       "    </tr>\n",
       "    <tr>\n",
       "      <th>477617</th>\n",
       "      <td>2015-06-25 03:52:06</td>\n",
       "      <td>1407579</td>\n",
       "      <td>view</td>\n",
       "      <td>2521</td>\n",
       "      <td>NaN</td>\n",
       "      <td>1282</td>\n",
       "      <td>25.0</td>\n",
       "    </tr>\n",
       "  </tbody>\n",
       "</table>\n",
       "<p>2705278 rows × 7 columns</p>\n",
       "</div>"
      ]
     },
     "execution_count": 17,
     "metadata": {},
     "output_type": "execute_result"
    }
   ],
   "execution_count": 17
  },
  {
   "cell_type": "code",
   "id": "1db14f19",
   "metadata": {
    "ExecuteTime": {
     "end_time": "2025-04-04T08:36:50.639805Z",
     "start_time": "2025-04-04T08:36:50.150250Z"
    }
   },
   "source": [
    "item_tra=data[['visitorid','itemid','timestamp']][data['event']=='transaction']\n",
    "item_atc=data[['visitorid','itemid','timestamp']][data['event']=='addtocart']\n",
    "item_viw=data[['visitorid','itemid','timestamp']][data['event']=='view']"
   ],
   "outputs": [],
   "execution_count": 21
  },
  {
   "cell_type": "code",
   "id": "79b549a9",
   "metadata": {
    "scrolled": true,
    "ExecuteTime": {
     "end_time": "2025-04-04T08:36:52.086158Z",
     "start_time": "2025-04-04T08:36:51.057001Z"
    }
   },
   "source": [
    "# create a dataframe of visitor, itemid found in all three events\n",
    "time_df=item_tra.merge(item_atc, how='inner', on=['visitorid','itemid'], suffixes=[' (transaction)', ' (add_to_cart)'])\n",
    "time_df=time_df.merge(item_viw, how='inner', on=['visitorid','itemid'])\n",
    "time_df=time_df.rename(columns={'timestamp':'timestamp (view)'})\n",
    "time_df.head()"
   ],
   "outputs": [
    {
     "data": {
      "text/plain": [
       "   visitorid  itemid timestamp (transaction) timestamp (add_to_cart)  \\\n",
       "0     599528  356475     2015-06-02 10:47:56     2015-06-02 10:42:21   \n",
       "1     599528  356475     2015-06-02 10:47:56     2015-06-02 10:42:21   \n",
       "2     599528  356475     2015-06-02 10:47:56     2015-06-02 10:42:21   \n",
       "3     599528  356475     2015-06-02 10:47:56     2015-06-02 10:42:21   \n",
       "4     599528  356475     2015-06-02 10:47:56     2015-06-02 10:42:21   \n",
       "\n",
       "     timestamp (view)  \n",
       "0 2015-06-02 10:41:36  \n",
       "1 2015-06-03 07:42:25  \n",
       "2 2015-06-07 02:40:10  \n",
       "3 2015-06-08 08:14:57  \n",
       "4 2015-06-10 06:04:37  "
      ],
      "text/html": [
       "<div>\n",
       "<style scoped>\n",
       "    .dataframe tbody tr th:only-of-type {\n",
       "        vertical-align: middle;\n",
       "    }\n",
       "\n",
       "    .dataframe tbody tr th {\n",
       "        vertical-align: top;\n",
       "    }\n",
       "\n",
       "    .dataframe thead th {\n",
       "        text-align: right;\n",
       "    }\n",
       "</style>\n",
       "<table border=\"1\" class=\"dataframe\">\n",
       "  <thead>\n",
       "    <tr style=\"text-align: right;\">\n",
       "      <th></th>\n",
       "      <th>visitorid</th>\n",
       "      <th>itemid</th>\n",
       "      <th>timestamp (transaction)</th>\n",
       "      <th>timestamp (add_to_cart)</th>\n",
       "      <th>timestamp (view)</th>\n",
       "    </tr>\n",
       "  </thead>\n",
       "  <tbody>\n",
       "    <tr>\n",
       "      <th>0</th>\n",
       "      <td>599528</td>\n",
       "      <td>356475</td>\n",
       "      <td>2015-06-02 10:47:56</td>\n",
       "      <td>2015-06-02 10:42:21</td>\n",
       "      <td>2015-06-02 10:41:36</td>\n",
       "    </tr>\n",
       "    <tr>\n",
       "      <th>1</th>\n",
       "      <td>599528</td>\n",
       "      <td>356475</td>\n",
       "      <td>2015-06-02 10:47:56</td>\n",
       "      <td>2015-06-02 10:42:21</td>\n",
       "      <td>2015-06-03 07:42:25</td>\n",
       "    </tr>\n",
       "    <tr>\n",
       "      <th>2</th>\n",
       "      <td>599528</td>\n",
       "      <td>356475</td>\n",
       "      <td>2015-06-02 10:47:56</td>\n",
       "      <td>2015-06-02 10:42:21</td>\n",
       "      <td>2015-06-07 02:40:10</td>\n",
       "    </tr>\n",
       "    <tr>\n",
       "      <th>3</th>\n",
       "      <td>599528</td>\n",
       "      <td>356475</td>\n",
       "      <td>2015-06-02 10:47:56</td>\n",
       "      <td>2015-06-02 10:42:21</td>\n",
       "      <td>2015-06-08 08:14:57</td>\n",
       "    </tr>\n",
       "    <tr>\n",
       "      <th>4</th>\n",
       "      <td>599528</td>\n",
       "      <td>356475</td>\n",
       "      <td>2015-06-02 10:47:56</td>\n",
       "      <td>2015-06-02 10:42:21</td>\n",
       "      <td>2015-06-10 06:04:37</td>\n",
       "    </tr>\n",
       "  </tbody>\n",
       "</table>\n",
       "</div>"
      ]
     },
     "execution_count": 22,
     "metadata": {},
     "output_type": "execute_result"
    }
   ],
   "execution_count": 22
  },
  {
   "cell_type": "code",
   "id": "82faaed9",
   "metadata": {
    "scrolled": false,
    "ExecuteTime": {
     "end_time": "2025-04-04T08:36:55.424484Z",
     "start_time": "2025-04-04T08:36:55.408095Z"
    }
   },
   "source": [
    "time_df.info()"
   ],
   "outputs": [
    {
     "name": "stdout",
     "output_type": "stream",
     "text": [
      "<class 'pandas.core.frame.DataFrame'>\n",
      "RangeIndex: 116294 entries, 0 to 116293\n",
      "Data columns (total 5 columns):\n",
      " #   Column                   Non-Null Count   Dtype         \n",
      "---  ------                   --------------   -----         \n",
      " 0   visitorid                116294 non-null  int64         \n",
      " 1   itemid                   116294 non-null  int64         \n",
      " 2   timestamp (transaction)  116294 non-null  datetime64[ns]\n",
      " 3   timestamp (add_to_cart)  116294 non-null  datetime64[ns]\n",
      " 4   timestamp (view)         116294 non-null  datetime64[ns]\n",
      "dtypes: datetime64[ns](3), int64(2)\n",
      "memory usage: 4.4 MB\n"
     ]
    }
   ],
   "execution_count": 23
  },
  {
   "cell_type": "code",
   "id": "fa4adb1d",
   "metadata": {
    "scrolled": false,
    "ExecuteTime": {
     "end_time": "2025-04-04T08:37:00.462016Z",
     "start_time": "2025-04-04T08:36:59.327952Z"
    }
   },
   "source": [
    "# calculate the time differences\n",
    "time_df['cart_to_transaction'] = (time_df['timestamp (transaction)'] - time_df['timestamp (add_to_cart)']).apply(lambda x: x.total_seconds()/3600)\n",
    "time_df['first_view'] = time_df.groupby('itemid')['timestamp (view)'].transform('min')\n",
    "time_df['firstview_to_cart'] = (time_df['timestamp (add_to_cart)'] - time_df['first_view']).apply(lambda x: x.total_seconds()/3600)\n",
    "\n",
    "time_df.head()"
   ],
   "outputs": [
    {
     "data": {
      "text/plain": [
       "   visitorid  itemid timestamp (transaction) timestamp (add_to_cart)  \\\n",
       "0     599528  356475     2015-06-02 10:47:56     2015-06-02 10:42:21   \n",
       "1     599528  356475     2015-06-02 10:47:56     2015-06-02 10:42:21   \n",
       "2     599528  356475     2015-06-02 10:47:56     2015-06-02 10:42:21   \n",
       "3     599528  356475     2015-06-02 10:47:56     2015-06-02 10:42:21   \n",
       "4     599528  356475     2015-06-02 10:47:56     2015-06-02 10:42:21   \n",
       "\n",
       "     timestamp (view)  cart_to_transaction          first_view  \\\n",
       "0 2015-06-02 10:41:36             0.093056 2015-06-02 10:41:36   \n",
       "1 2015-06-03 07:42:25             0.093056 2015-06-02 10:41:36   \n",
       "2 2015-06-07 02:40:10             0.093056 2015-06-02 10:41:36   \n",
       "3 2015-06-08 08:14:57             0.093056 2015-06-02 10:41:36   \n",
       "4 2015-06-10 06:04:37             0.093056 2015-06-02 10:41:36   \n",
       "\n",
       "   firstview_to_cart  \n",
       "0             0.0125  \n",
       "1             0.0125  \n",
       "2             0.0125  \n",
       "3             0.0125  \n",
       "4             0.0125  "
      ],
      "text/html": [
       "<div>\n",
       "<style scoped>\n",
       "    .dataframe tbody tr th:only-of-type {\n",
       "        vertical-align: middle;\n",
       "    }\n",
       "\n",
       "    .dataframe tbody tr th {\n",
       "        vertical-align: top;\n",
       "    }\n",
       "\n",
       "    .dataframe thead th {\n",
       "        text-align: right;\n",
       "    }\n",
       "</style>\n",
       "<table border=\"1\" class=\"dataframe\">\n",
       "  <thead>\n",
       "    <tr style=\"text-align: right;\">\n",
       "      <th></th>\n",
       "      <th>visitorid</th>\n",
       "      <th>itemid</th>\n",
       "      <th>timestamp (transaction)</th>\n",
       "      <th>timestamp (add_to_cart)</th>\n",
       "      <th>timestamp (view)</th>\n",
       "      <th>cart_to_transaction</th>\n",
       "      <th>first_view</th>\n",
       "      <th>firstview_to_cart</th>\n",
       "    </tr>\n",
       "  </thead>\n",
       "  <tbody>\n",
       "    <tr>\n",
       "      <th>0</th>\n",
       "      <td>599528</td>\n",
       "      <td>356475</td>\n",
       "      <td>2015-06-02 10:47:56</td>\n",
       "      <td>2015-06-02 10:42:21</td>\n",
       "      <td>2015-06-02 10:41:36</td>\n",
       "      <td>0.093056</td>\n",
       "      <td>2015-06-02 10:41:36</td>\n",
       "      <td>0.0125</td>\n",
       "    </tr>\n",
       "    <tr>\n",
       "      <th>1</th>\n",
       "      <td>599528</td>\n",
       "      <td>356475</td>\n",
       "      <td>2015-06-02 10:47:56</td>\n",
       "      <td>2015-06-02 10:42:21</td>\n",
       "      <td>2015-06-03 07:42:25</td>\n",
       "      <td>0.093056</td>\n",
       "      <td>2015-06-02 10:41:36</td>\n",
       "      <td>0.0125</td>\n",
       "    </tr>\n",
       "    <tr>\n",
       "      <th>2</th>\n",
       "      <td>599528</td>\n",
       "      <td>356475</td>\n",
       "      <td>2015-06-02 10:47:56</td>\n",
       "      <td>2015-06-02 10:42:21</td>\n",
       "      <td>2015-06-07 02:40:10</td>\n",
       "      <td>0.093056</td>\n",
       "      <td>2015-06-02 10:41:36</td>\n",
       "      <td>0.0125</td>\n",
       "    </tr>\n",
       "    <tr>\n",
       "      <th>3</th>\n",
       "      <td>599528</td>\n",
       "      <td>356475</td>\n",
       "      <td>2015-06-02 10:47:56</td>\n",
       "      <td>2015-06-02 10:42:21</td>\n",
       "      <td>2015-06-08 08:14:57</td>\n",
       "      <td>0.093056</td>\n",
       "      <td>2015-06-02 10:41:36</td>\n",
       "      <td>0.0125</td>\n",
       "    </tr>\n",
       "    <tr>\n",
       "      <th>4</th>\n",
       "      <td>599528</td>\n",
       "      <td>356475</td>\n",
       "      <td>2015-06-02 10:47:56</td>\n",
       "      <td>2015-06-02 10:42:21</td>\n",
       "      <td>2015-06-10 06:04:37</td>\n",
       "      <td>0.093056</td>\n",
       "      <td>2015-06-02 10:41:36</td>\n",
       "      <td>0.0125</td>\n",
       "    </tr>\n",
       "  </tbody>\n",
       "</table>\n",
       "</div>"
      ]
     },
     "execution_count": 24,
     "metadata": {},
     "output_type": "execute_result"
    }
   ],
   "execution_count": 24
  },
  {
   "cell_type": "markdown",
   "id": "1f45698f",
   "metadata": {},
   "source": [
    "### 2.3.3 Category"
   ]
  },
  {
   "cell_type": "code",
   "id": "c07efbb1",
   "metadata": {
    "ExecuteTime": {
     "end_time": "2025-04-04T08:39:13.944059Z",
     "start_time": "2025-04-04T08:39:12.617722Z"
    }
   },
   "source": [
    "data['purchased'] = data['transactionid'].apply(lambda x: 1 if not pd.isnull(x) else 0)"
   ],
   "outputs": [],
   "execution_count": 32
  },
  {
   "cell_type": "code",
   "id": "e8031478",
   "metadata": {
    "scrolled": false,
    "ExecuteTime": {
     "end_time": "2025-04-04T08:39:17.713539Z",
     "start_time": "2025-04-04T08:39:17.702201Z"
    }
   },
   "source": [
    "data.info()"
   ],
   "outputs": [
    {
     "name": "stdout",
     "output_type": "stream",
     "text": [
      "<class 'pandas.core.frame.DataFrame'>\n",
      "Index: 2705278 entries, 0 to 2709445\n",
      "Data columns (total 8 columns):\n",
      " #   Column         Dtype         \n",
      "---  ------         -----         \n",
      " 0   timestamp      datetime64[ns]\n",
      " 1   visitorid      int64         \n",
      " 2   event          object        \n",
      " 3   itemid         int64         \n",
      " 4   transactionid  float64       \n",
      " 5   categoryid     int64         \n",
      " 6   parentid       float64       \n",
      " 7   purchased      int64         \n",
      "dtypes: datetime64[ns](1), float64(2), int64(4), object(1)\n",
      "memory usage: 185.8+ MB\n"
     ]
    }
   ],
   "execution_count": 33
  },
  {
   "metadata": {
    "ExecuteTime": {
     "end_time": "2025-04-04T08:39:37.256530Z",
     "start_time": "2025-04-04T08:39:36.450805Z"
    }
   },
   "cell_type": "code",
   "source": "data.describe()",
   "id": "3186dae06ca132b4",
   "outputs": [
    {
     "data": {
      "text/plain": [
       "                           timestamp     visitorid        itemid  \\\n",
       "count                        2705278  2.705278e+06  2.705278e+06   \n",
       "mean   2015-07-09 04:54:55.313824768  7.016354e+05  2.348950e+05   \n",
       "min              2015-05-03 08:30:04  0.000000e+00  3.000000e+00   \n",
       "25%    2015-06-05 04:35:32.249999872  3.500890e+05  1.182150e+05   \n",
       "50%       2015-07-09 06:10:35.500000  7.015695e+05  2.359020e+05   \n",
       "75%    2015-08-10 04:05:39.750000128  1.052846e+06  3.506290e+05   \n",
       "max              2015-09-18 08:29:47  1.407579e+06  4.668640e+05   \n",
       "std                              NaN  4.056618e+05  1.340439e+05   \n",
       "\n",
       "       transactionid    categoryid      parentid     purchased  \n",
       "count   23363.000000  2.705278e+06  2.705260e+06  2.705278e+06  \n",
       "mean     8832.780294  8.773571e+02  8.669219e+02  8.636081e-03  \n",
       "min         0.000000  0.000000e+00  8.000000e+00  0.000000e+00  \n",
       "25%      4419.500000  4.730000e+02  4.400000e+02  0.000000e+00  \n",
       "50%      8827.000000  9.580000e+02  8.710000e+02  0.000000e+00  \n",
       "75%     13222.000000  1.279000e+03  1.329000e+03  0.000000e+00  \n",
       "max     17671.000000  1.697000e+03  1.698000e+03  1.000000e+00  \n",
       "std      5100.994651  4.867197e+02  5.068626e+02  9.252839e-02  "
      ],
      "text/html": [
       "<div>\n",
       "<style scoped>\n",
       "    .dataframe tbody tr th:only-of-type {\n",
       "        vertical-align: middle;\n",
       "    }\n",
       "\n",
       "    .dataframe tbody tr th {\n",
       "        vertical-align: top;\n",
       "    }\n",
       "\n",
       "    .dataframe thead th {\n",
       "        text-align: right;\n",
       "    }\n",
       "</style>\n",
       "<table border=\"1\" class=\"dataframe\">\n",
       "  <thead>\n",
       "    <tr style=\"text-align: right;\">\n",
       "      <th></th>\n",
       "      <th>timestamp</th>\n",
       "      <th>visitorid</th>\n",
       "      <th>itemid</th>\n",
       "      <th>transactionid</th>\n",
       "      <th>categoryid</th>\n",
       "      <th>parentid</th>\n",
       "      <th>purchased</th>\n",
       "    </tr>\n",
       "  </thead>\n",
       "  <tbody>\n",
       "    <tr>\n",
       "      <th>count</th>\n",
       "      <td>2705278</td>\n",
       "      <td>2.705278e+06</td>\n",
       "      <td>2.705278e+06</td>\n",
       "      <td>23363.000000</td>\n",
       "      <td>2.705278e+06</td>\n",
       "      <td>2.705260e+06</td>\n",
       "      <td>2.705278e+06</td>\n",
       "    </tr>\n",
       "    <tr>\n",
       "      <th>mean</th>\n",
       "      <td>2015-07-09 04:54:55.313824768</td>\n",
       "      <td>7.016354e+05</td>\n",
       "      <td>2.348950e+05</td>\n",
       "      <td>8832.780294</td>\n",
       "      <td>8.773571e+02</td>\n",
       "      <td>8.669219e+02</td>\n",
       "      <td>8.636081e-03</td>\n",
       "    </tr>\n",
       "    <tr>\n",
       "      <th>min</th>\n",
       "      <td>2015-05-03 08:30:04</td>\n",
       "      <td>0.000000e+00</td>\n",
       "      <td>3.000000e+00</td>\n",
       "      <td>0.000000</td>\n",
       "      <td>0.000000e+00</td>\n",
       "      <td>8.000000e+00</td>\n",
       "      <td>0.000000e+00</td>\n",
       "    </tr>\n",
       "    <tr>\n",
       "      <th>25%</th>\n",
       "      <td>2015-06-05 04:35:32.249999872</td>\n",
       "      <td>3.500890e+05</td>\n",
       "      <td>1.182150e+05</td>\n",
       "      <td>4419.500000</td>\n",
       "      <td>4.730000e+02</td>\n",
       "      <td>4.400000e+02</td>\n",
       "      <td>0.000000e+00</td>\n",
       "    </tr>\n",
       "    <tr>\n",
       "      <th>50%</th>\n",
       "      <td>2015-07-09 06:10:35.500000</td>\n",
       "      <td>7.015695e+05</td>\n",
       "      <td>2.359020e+05</td>\n",
       "      <td>8827.000000</td>\n",
       "      <td>9.580000e+02</td>\n",
       "      <td>8.710000e+02</td>\n",
       "      <td>0.000000e+00</td>\n",
       "    </tr>\n",
       "    <tr>\n",
       "      <th>75%</th>\n",
       "      <td>2015-08-10 04:05:39.750000128</td>\n",
       "      <td>1.052846e+06</td>\n",
       "      <td>3.506290e+05</td>\n",
       "      <td>13222.000000</td>\n",
       "      <td>1.279000e+03</td>\n",
       "      <td>1.329000e+03</td>\n",
       "      <td>0.000000e+00</td>\n",
       "    </tr>\n",
       "    <tr>\n",
       "      <th>max</th>\n",
       "      <td>2015-09-18 08:29:47</td>\n",
       "      <td>1.407579e+06</td>\n",
       "      <td>4.668640e+05</td>\n",
       "      <td>17671.000000</td>\n",
       "      <td>1.697000e+03</td>\n",
       "      <td>1.698000e+03</td>\n",
       "      <td>1.000000e+00</td>\n",
       "    </tr>\n",
       "    <tr>\n",
       "      <th>std</th>\n",
       "      <td>NaN</td>\n",
       "      <td>4.056618e+05</td>\n",
       "      <td>1.340439e+05</td>\n",
       "      <td>5100.994651</td>\n",
       "      <td>4.867197e+02</td>\n",
       "      <td>5.068626e+02</td>\n",
       "      <td>9.252839e-02</td>\n",
       "    </tr>\n",
       "  </tbody>\n",
       "</table>\n",
       "</div>"
      ]
     },
     "execution_count": 34,
     "metadata": {},
     "output_type": "execute_result"
    }
   ],
   "execution_count": 34
  },
  {
   "cell_type": "code",
   "id": "c38af8d3",
   "metadata": {
    "scrolled": false,
    "ExecuteTime": {
     "end_time": "2025-04-04T08:40:32.682707Z",
     "start_time": "2025-04-04T08:40:32.506623Z"
    }
   },
   "source": [
    "ds = data.copy()\n",
    "ds.head()"
   ],
   "outputs": [
    {
     "data": {
      "text/plain": [
       "            timestamp  visitorid event  itemid  transactionid  categoryid  \\\n",
       "0 2015-06-02 10:32:12     257597  view  355908            NaN        1173   \n",
       "1 2015-06-02 11:20:14     992329  view  248676            NaN        1231   \n",
       "2 2015-06-02 10:42:35     483717  view  253185            NaN         914   \n",
       "3 2015-06-02 10:32:17     951259  view  367447            NaN        1613   \n",
       "4 2015-06-02 10:32:17     951259  view  367447            NaN         491   \n",
       "\n",
       "   parentid  purchased  \n",
       "0     805.0          0  \n",
       "1     901.0          0  \n",
       "2     226.0          0  \n",
       "3     250.0          0  \n",
       "4     679.0          0  "
      ],
      "text/html": [
       "<div>\n",
       "<style scoped>\n",
       "    .dataframe tbody tr th:only-of-type {\n",
       "        vertical-align: middle;\n",
       "    }\n",
       "\n",
       "    .dataframe tbody tr th {\n",
       "        vertical-align: top;\n",
       "    }\n",
       "\n",
       "    .dataframe thead th {\n",
       "        text-align: right;\n",
       "    }\n",
       "</style>\n",
       "<table border=\"1\" class=\"dataframe\">\n",
       "  <thead>\n",
       "    <tr style=\"text-align: right;\">\n",
       "      <th></th>\n",
       "      <th>timestamp</th>\n",
       "      <th>visitorid</th>\n",
       "      <th>event</th>\n",
       "      <th>itemid</th>\n",
       "      <th>transactionid</th>\n",
       "      <th>categoryid</th>\n",
       "      <th>parentid</th>\n",
       "      <th>purchased</th>\n",
       "    </tr>\n",
       "  </thead>\n",
       "  <tbody>\n",
       "    <tr>\n",
       "      <th>0</th>\n",
       "      <td>2015-06-02 10:32:12</td>\n",
       "      <td>257597</td>\n",
       "      <td>view</td>\n",
       "      <td>355908</td>\n",
       "      <td>NaN</td>\n",
       "      <td>1173</td>\n",
       "      <td>805.0</td>\n",
       "      <td>0</td>\n",
       "    </tr>\n",
       "    <tr>\n",
       "      <th>1</th>\n",
       "      <td>2015-06-02 11:20:14</td>\n",
       "      <td>992329</td>\n",
       "      <td>view</td>\n",
       "      <td>248676</td>\n",
       "      <td>NaN</td>\n",
       "      <td>1231</td>\n",
       "      <td>901.0</td>\n",
       "      <td>0</td>\n",
       "    </tr>\n",
       "    <tr>\n",
       "      <th>2</th>\n",
       "      <td>2015-06-02 10:42:35</td>\n",
       "      <td>483717</td>\n",
       "      <td>view</td>\n",
       "      <td>253185</td>\n",
       "      <td>NaN</td>\n",
       "      <td>914</td>\n",
       "      <td>226.0</td>\n",
       "      <td>0</td>\n",
       "    </tr>\n",
       "    <tr>\n",
       "      <th>3</th>\n",
       "      <td>2015-06-02 10:32:17</td>\n",
       "      <td>951259</td>\n",
       "      <td>view</td>\n",
       "      <td>367447</td>\n",
       "      <td>NaN</td>\n",
       "      <td>1613</td>\n",
       "      <td>250.0</td>\n",
       "      <td>0</td>\n",
       "    </tr>\n",
       "    <tr>\n",
       "      <th>4</th>\n",
       "      <td>2015-06-02 10:32:17</td>\n",
       "      <td>951259</td>\n",
       "      <td>view</td>\n",
       "      <td>367447</td>\n",
       "      <td>NaN</td>\n",
       "      <td>491</td>\n",
       "      <td>679.0</td>\n",
       "      <td>0</td>\n",
       "    </tr>\n",
       "  </tbody>\n",
       "</table>\n",
       "</div>"
      ]
     },
     "execution_count": 36,
     "metadata": {},
     "output_type": "execute_result"
    }
   ],
   "execution_count": 36
  },
  {
   "metadata": {
    "ExecuteTime": {
     "end_time": "2025-04-04T08:41:33.625561Z",
     "start_time": "2025-04-04T08:41:33.579352Z"
    }
   },
   "cell_type": "code",
   "source": "ds['purchased'].value_counts()",
   "id": "bbe200852303e890",
   "outputs": [
    {
     "data": {
      "text/plain": [
       "purchased\n",
       "0    2681915\n",
       "1      23363\n",
       "Name: count, dtype: int64"
      ]
     },
     "execution_count": 38,
     "metadata": {},
     "output_type": "execute_result"
    }
   ],
   "execution_count": 38
  },
  {
   "cell_type": "code",
   "id": "0efe0548",
   "metadata": {
    "ExecuteTime": {
     "end_time": "2025-04-04T08:41:42.287185Z",
     "start_time": "2025-04-04T08:41:42.222642Z"
    }
   },
   "source": [
    "ds = ds.drop(['timestamp', 'transactionid'], axis = 1)"
   ],
   "outputs": [],
   "execution_count": 39
  },
  {
   "cell_type": "code",
   "id": "f2f41dcc",
   "metadata": {
    "ExecuteTime": {
     "end_time": "2025-04-04T08:41:46.043023Z",
     "start_time": "2025-04-04T08:41:43.976169Z"
    }
   },
   "source": [
    "# views_num of each item by each visitor\n",
    "ds['item_visitor_views_num'] = ds[ds['event']=='view'].groupby(['visitorid', 'itemid'])['event'].transform('count')"
   ],
   "outputs": [],
   "execution_count": 40
  },
  {
   "cell_type": "code",
   "id": "b5bfac6a",
   "metadata": {
    "ExecuteTime": {
     "end_time": "2025-04-04T08:41:49.809451Z",
     "start_time": "2025-04-04T08:41:49.162911Z"
    }
   },
   "source": [
    "# whether the item added to cart\n",
    "ds['add_to_cart'] = ds['event'].apply(lambda x: 1 if x == 'addtocart' else 0)"
   ],
   "outputs": [],
   "execution_count": 43
  },
  {
   "cell_type": "code",
   "id": "d3645e70",
   "metadata": {
    "scrolled": true,
    "ExecuteTime": {
     "end_time": "2025-04-04T08:41:50.593631Z",
     "start_time": "2025-04-04T08:41:50.569061Z"
    }
   },
   "source": [
    "ds.head()"
   ],
   "outputs": [
    {
     "data": {
      "text/plain": [
       "   visitorid event  itemid  categoryid  parentid  purchased  \\\n",
       "0     257597  view  355908        1173     805.0          0   \n",
       "1     992329  view  248676        1231     901.0          0   \n",
       "2     483717  view  253185         914     226.0          0   \n",
       "3     951259  view  367447        1613     250.0          0   \n",
       "4     951259  view  367447         491     679.0          0   \n",
       "\n",
       "   item_visitor_views_num  add_to_cart  \n",
       "0                     1.0            0  \n",
       "1                     1.0            0  \n",
       "2                     2.0            0  \n",
       "3                     2.0            0  \n",
       "4                     2.0            0  "
      ],
      "text/html": [
       "<div>\n",
       "<style scoped>\n",
       "    .dataframe tbody tr th:only-of-type {\n",
       "        vertical-align: middle;\n",
       "    }\n",
       "\n",
       "    .dataframe tbody tr th {\n",
       "        vertical-align: top;\n",
       "    }\n",
       "\n",
       "    .dataframe thead th {\n",
       "        text-align: right;\n",
       "    }\n",
       "</style>\n",
       "<table border=\"1\" class=\"dataframe\">\n",
       "  <thead>\n",
       "    <tr style=\"text-align: right;\">\n",
       "      <th></th>\n",
       "      <th>visitorid</th>\n",
       "      <th>event</th>\n",
       "      <th>itemid</th>\n",
       "      <th>categoryid</th>\n",
       "      <th>parentid</th>\n",
       "      <th>purchased</th>\n",
       "      <th>item_visitor_views_num</th>\n",
       "      <th>add_to_cart</th>\n",
       "    </tr>\n",
       "  </thead>\n",
       "  <tbody>\n",
       "    <tr>\n",
       "      <th>0</th>\n",
       "      <td>257597</td>\n",
       "      <td>view</td>\n",
       "      <td>355908</td>\n",
       "      <td>1173</td>\n",
       "      <td>805.0</td>\n",
       "      <td>0</td>\n",
       "      <td>1.0</td>\n",
       "      <td>0</td>\n",
       "    </tr>\n",
       "    <tr>\n",
       "      <th>1</th>\n",
       "      <td>992329</td>\n",
       "      <td>view</td>\n",
       "      <td>248676</td>\n",
       "      <td>1231</td>\n",
       "      <td>901.0</td>\n",
       "      <td>0</td>\n",
       "      <td>1.0</td>\n",
       "      <td>0</td>\n",
       "    </tr>\n",
       "    <tr>\n",
       "      <th>2</th>\n",
       "      <td>483717</td>\n",
       "      <td>view</td>\n",
       "      <td>253185</td>\n",
       "      <td>914</td>\n",
       "      <td>226.0</td>\n",
       "      <td>0</td>\n",
       "      <td>2.0</td>\n",
       "      <td>0</td>\n",
       "    </tr>\n",
       "    <tr>\n",
       "      <th>3</th>\n",
       "      <td>951259</td>\n",
       "      <td>view</td>\n",
       "      <td>367447</td>\n",
       "      <td>1613</td>\n",
       "      <td>250.0</td>\n",
       "      <td>0</td>\n",
       "      <td>2.0</td>\n",
       "      <td>0</td>\n",
       "    </tr>\n",
       "    <tr>\n",
       "      <th>4</th>\n",
       "      <td>951259</td>\n",
       "      <td>view</td>\n",
       "      <td>367447</td>\n",
       "      <td>491</td>\n",
       "      <td>679.0</td>\n",
       "      <td>0</td>\n",
       "      <td>2.0</td>\n",
       "      <td>0</td>\n",
       "    </tr>\n",
       "  </tbody>\n",
       "</table>\n",
       "</div>"
      ]
     },
     "execution_count": 44,
     "metadata": {},
     "output_type": "execute_result"
    }
   ],
   "execution_count": 44
  },
  {
   "cell_type": "code",
   "id": "7c97ecf2",
   "metadata": {
    "scrolled": true,
    "ExecuteTime": {
     "end_time": "2025-04-04T08:41:57.279581Z",
     "start_time": "2025-04-04T08:41:55.839830Z"
    }
   },
   "source": [
    "# remove data that visitor purchased same item multipule times\n",
    "ds = ds.drop_duplicates()"
   ],
   "outputs": [],
   "execution_count": 45
  },
  {
   "cell_type": "code",
   "id": "6d35dec8",
   "metadata": {
    "ExecuteTime": {
     "end_time": "2025-04-04T08:41:58.434586Z",
     "start_time": "2025-04-04T08:41:57.628623Z"
    }
   },
   "source": [
    "# convert categorical datatype to category\n",
    "ds['visitorid'] = ds['visitorid'].astype('category')\n",
    "ds['itemid'] = ds['itemid'].astype('category')\n",
    "ds['categoryid'] = ds['categoryid'].astype('category')\n",
    "ds['parentid'] = ds['parentid'].astype('category')\n",
    "ds['event'] = ds['event'].astype('category')\n",
    "ds['add_to_cart'] = ds['add_to_cart'].astype('category')\n",
    "ds['purchased'] = ds['purchased'].astype('category')"
   ],
   "outputs": [],
   "execution_count": 46
  },
  {
   "cell_type": "code",
   "id": "b2fc5bd7",
   "metadata": {
    "ExecuteTime": {
     "end_time": "2025-04-04T08:42:02.240752Z",
     "start_time": "2025-04-04T08:42:01.719042Z"
    }
   },
   "source": [
    "# drop visitorid and duplicates\n",
    "ds = ds.drop('visitorid', axis=1).drop_duplicates()"
   ],
   "outputs": [],
   "execution_count": 47
  },
  {
   "cell_type": "code",
   "id": "43b3a6a9",
   "metadata": {
    "scrolled": true,
    "ExecuteTime": {
     "end_time": "2025-04-04T08:42:13.473905Z",
     "start_time": "2025-04-04T08:42:13.441588Z"
    }
   },
   "source": [
    "ds.info()"
   ],
   "outputs": [
    {
     "name": "stdout",
     "output_type": "stream",
     "text": [
      "<class 'pandas.core.frame.DataFrame'>\n",
      "Index: 361663 entries, 0 to 2709403\n",
      "Data columns (total 7 columns):\n",
      " #   Column                  Non-Null Count   Dtype   \n",
      "---  ------                  --------------   -----   \n",
      " 0   event                   361663 non-null  category\n",
      " 1   itemid                  361663 non-null  category\n",
      " 2   categoryid              361663 non-null  category\n",
      " 3   parentid                361660 non-null  category\n",
      " 4   purchased               361663 non-null  category\n",
      " 5   item_visitor_views_num  324154 non-null  float64 \n",
      " 6   add_to_cart             361663 non-null  category\n",
      "dtypes: category(6), float64(1)\n",
      "memory usage: 14.8 MB\n"
     ]
    }
   ],
   "execution_count": 48
  },
  {
   "cell_type": "code",
   "id": "a2888df5",
   "metadata": {
    "ExecuteTime": {
     "end_time": "2025-04-04T08:42:27.952145Z",
     "start_time": "2025-04-04T08:42:27.928003Z"
    }
   },
   "source": [
    "ds.itemid.nunique()"
   ],
   "outputs": [
    {
     "data": {
      "text/plain": [
       "185246"
      ]
     },
     "execution_count": 49,
     "metadata": {},
     "output_type": "execute_result"
    }
   ],
   "execution_count": 49
  },
  {
   "cell_type": "code",
   "id": "40535593",
   "metadata": {
    "scrolled": false,
    "ExecuteTime": {
     "end_time": "2025-04-04T08:42:29.110056Z",
     "start_time": "2025-04-04T08:42:29.085295Z"
    }
   },
   "source": [
    "ds[ds['item_visitor_views_num'].isnull()]"
   ],
   "outputs": [
    {
     "data": {
      "text/plain": [
       "               event  itemid categoryid parentid purchased  \\\n",
       "18         addtocart    5206        927    605.0         0   \n",
       "19         addtocart    5206        381   1482.0         0   \n",
       "21         addtocart   10572       1037    402.0         0   \n",
       "64         addtocart  255275       1002    879.0         0   \n",
       "111        addtocart  356475        386   1095.0         0   \n",
       "...              ...     ...        ...      ...       ...   \n",
       "2708528    addtocart  409951       1404    593.0         0   \n",
       "2708643  transaction  446271        799    920.0         1   \n",
       "2708793    addtocart   59290       1421    105.0         0   \n",
       "2708896    addtocart  430566        746   1200.0         0   \n",
       "2708990    addtocart   47199       1277    312.0         0   \n",
       "\n",
       "         item_visitor_views_num add_to_cart  \n",
       "18                          NaN           1  \n",
       "19                          NaN           1  \n",
       "21                          NaN           1  \n",
       "64                          NaN           1  \n",
       "111                         NaN           1  \n",
       "...                         ...         ...  \n",
       "2708528                     NaN           1  \n",
       "2708643                     NaN           0  \n",
       "2708793                     NaN           1  \n",
       "2708896                     NaN           1  \n",
       "2708990                     NaN           1  \n",
       "\n",
       "[37509 rows x 7 columns]"
      ],
      "text/html": [
       "<div>\n",
       "<style scoped>\n",
       "    .dataframe tbody tr th:only-of-type {\n",
       "        vertical-align: middle;\n",
       "    }\n",
       "\n",
       "    .dataframe tbody tr th {\n",
       "        vertical-align: top;\n",
       "    }\n",
       "\n",
       "    .dataframe thead th {\n",
       "        text-align: right;\n",
       "    }\n",
       "</style>\n",
       "<table border=\"1\" class=\"dataframe\">\n",
       "  <thead>\n",
       "    <tr style=\"text-align: right;\">\n",
       "      <th></th>\n",
       "      <th>event</th>\n",
       "      <th>itemid</th>\n",
       "      <th>categoryid</th>\n",
       "      <th>parentid</th>\n",
       "      <th>purchased</th>\n",
       "      <th>item_visitor_views_num</th>\n",
       "      <th>add_to_cart</th>\n",
       "    </tr>\n",
       "  </thead>\n",
       "  <tbody>\n",
       "    <tr>\n",
       "      <th>18</th>\n",
       "      <td>addtocart</td>\n",
       "      <td>5206</td>\n",
       "      <td>927</td>\n",
       "      <td>605.0</td>\n",
       "      <td>0</td>\n",
       "      <td>NaN</td>\n",
       "      <td>1</td>\n",
       "    </tr>\n",
       "    <tr>\n",
       "      <th>19</th>\n",
       "      <td>addtocart</td>\n",
       "      <td>5206</td>\n",
       "      <td>381</td>\n",
       "      <td>1482.0</td>\n",
       "      <td>0</td>\n",
       "      <td>NaN</td>\n",
       "      <td>1</td>\n",
       "    </tr>\n",
       "    <tr>\n",
       "      <th>21</th>\n",
       "      <td>addtocart</td>\n",
       "      <td>10572</td>\n",
       "      <td>1037</td>\n",
       "      <td>402.0</td>\n",
       "      <td>0</td>\n",
       "      <td>NaN</td>\n",
       "      <td>1</td>\n",
       "    </tr>\n",
       "    <tr>\n",
       "      <th>64</th>\n",
       "      <td>addtocart</td>\n",
       "      <td>255275</td>\n",
       "      <td>1002</td>\n",
       "      <td>879.0</td>\n",
       "      <td>0</td>\n",
       "      <td>NaN</td>\n",
       "      <td>1</td>\n",
       "    </tr>\n",
       "    <tr>\n",
       "      <th>111</th>\n",
       "      <td>addtocart</td>\n",
       "      <td>356475</td>\n",
       "      <td>386</td>\n",
       "      <td>1095.0</td>\n",
       "      <td>0</td>\n",
       "      <td>NaN</td>\n",
       "      <td>1</td>\n",
       "    </tr>\n",
       "    <tr>\n",
       "      <th>...</th>\n",
       "      <td>...</td>\n",
       "      <td>...</td>\n",
       "      <td>...</td>\n",
       "      <td>...</td>\n",
       "      <td>...</td>\n",
       "      <td>...</td>\n",
       "      <td>...</td>\n",
       "    </tr>\n",
       "    <tr>\n",
       "      <th>2708528</th>\n",
       "      <td>addtocart</td>\n",
       "      <td>409951</td>\n",
       "      <td>1404</td>\n",
       "      <td>593.0</td>\n",
       "      <td>0</td>\n",
       "      <td>NaN</td>\n",
       "      <td>1</td>\n",
       "    </tr>\n",
       "    <tr>\n",
       "      <th>2708643</th>\n",
       "      <td>transaction</td>\n",
       "      <td>446271</td>\n",
       "      <td>799</td>\n",
       "      <td>920.0</td>\n",
       "      <td>1</td>\n",
       "      <td>NaN</td>\n",
       "      <td>0</td>\n",
       "    </tr>\n",
       "    <tr>\n",
       "      <th>2708793</th>\n",
       "      <td>addtocart</td>\n",
       "      <td>59290</td>\n",
       "      <td>1421</td>\n",
       "      <td>105.0</td>\n",
       "      <td>0</td>\n",
       "      <td>NaN</td>\n",
       "      <td>1</td>\n",
       "    </tr>\n",
       "    <tr>\n",
       "      <th>2708896</th>\n",
       "      <td>addtocart</td>\n",
       "      <td>430566</td>\n",
       "      <td>746</td>\n",
       "      <td>1200.0</td>\n",
       "      <td>0</td>\n",
       "      <td>NaN</td>\n",
       "      <td>1</td>\n",
       "    </tr>\n",
       "    <tr>\n",
       "      <th>2708990</th>\n",
       "      <td>addtocart</td>\n",
       "      <td>47199</td>\n",
       "      <td>1277</td>\n",
       "      <td>312.0</td>\n",
       "      <td>0</td>\n",
       "      <td>NaN</td>\n",
       "      <td>1</td>\n",
       "    </tr>\n",
       "  </tbody>\n",
       "</table>\n",
       "<p>37509 rows × 7 columns</p>\n",
       "</div>"
      ]
     },
     "execution_count": 50,
     "metadata": {},
     "output_type": "execute_result"
    }
   ],
   "execution_count": 50
  },
  {
   "cell_type": "code",
   "id": "2010be53",
   "metadata": {
    "ExecuteTime": {
     "end_time": "2025-04-04T08:45:43.213023Z",
     "start_time": "2025-04-04T08:45:43.195234Z"
    }
   },
   "source": [
    "def create_dataframe(visitor_list):\n",
    "    df_array = []\n",
    "    for index in visitor_list:\n",
    "        v_df = data[data.visitorid == index]\n",
    "        m_df = time_df[time_df.visitorid == index]\n",
    "        \n",
    "        temp = []\n",
    "        temp.append(index)\n",
    "        \n",
    "        temp.append(v_df[v_df.event == 'view'].itemid.unique().size)\n",
    "        \n",
    "        temp.append(v_df[v_df.event == 'view'].event.count())\n",
    "\n",
    "        temp.append(m_df['firstview_to_cart'].mean())\n",
    "        \n",
    "        temp.append(m_df['cart_to_transaction'].mean())\n",
    "        \n",
    "        number_of_items_bought = v_df[v_df.event == 'transaction'].event.count()\n",
    "        temp.append(number_of_items_bought)\n",
    "        \n",
    "        if(number_of_items_bought == 0):\n",
    "            temp.append(0)\n",
    "        else:\n",
    "            temp.append(1)\n",
    "\n",
    "        df_array.append(temp)\n",
    "        \n",
    "    return pd.DataFrame(df_array, columns=['visitorid', 'num_items_viewed', 'view_count', 'firstview_to_cart', 'cart_to_transaction', 'bought_count', 'purchased'])"
   ],
   "outputs": [],
   "execution_count": 61
  },
  {
   "cell_type": "code",
   "id": "8e6e2932",
   "metadata": {
    "scrolled": true,
    "ExecuteTime": {
     "end_time": "2025-04-04T08:46:30.400021Z",
     "start_time": "2025-04-04T08:45:46.402232Z"
    }
   },
   "source": [
    "buying_visitors_df = create_dataframe(customer_purchased)\n",
    "buying_visitors_df.head()"
   ],
   "outputs": [
    {
     "data": {
      "text/plain": [
       "   visitorid  num_items_viewed  view_count  firstview_to_cart  \\\n",
       "0     599528                 2          15           0.012500   \n",
       "1     121688                13          16          -0.145082   \n",
       "2     552148                 1           1           0.036667   \n",
       "3     102019                 2           6           0.024167   \n",
       "4     189384                 7          25         479.378596   \n",
       "\n",
       "   cart_to_transaction  bought_count  purchased  \n",
       "0             0.093056             1          1  \n",
       "1             0.927173            12          1  \n",
       "2             0.009722             1          1  \n",
       "3             0.259722             2          1  \n",
       "4             0.051974             2          1  "
      ],
      "text/html": [
       "<div>\n",
       "<style scoped>\n",
       "    .dataframe tbody tr th:only-of-type {\n",
       "        vertical-align: middle;\n",
       "    }\n",
       "\n",
       "    .dataframe tbody tr th {\n",
       "        vertical-align: top;\n",
       "    }\n",
       "\n",
       "    .dataframe thead th {\n",
       "        text-align: right;\n",
       "    }\n",
       "</style>\n",
       "<table border=\"1\" class=\"dataframe\">\n",
       "  <thead>\n",
       "    <tr style=\"text-align: right;\">\n",
       "      <th></th>\n",
       "      <th>visitorid</th>\n",
       "      <th>num_items_viewed</th>\n",
       "      <th>view_count</th>\n",
       "      <th>firstview_to_cart</th>\n",
       "      <th>cart_to_transaction</th>\n",
       "      <th>bought_count</th>\n",
       "      <th>purchased</th>\n",
       "    </tr>\n",
       "  </thead>\n",
       "  <tbody>\n",
       "    <tr>\n",
       "      <th>0</th>\n",
       "      <td>599528</td>\n",
       "      <td>2</td>\n",
       "      <td>15</td>\n",
       "      <td>0.012500</td>\n",
       "      <td>0.093056</td>\n",
       "      <td>1</td>\n",
       "      <td>1</td>\n",
       "    </tr>\n",
       "    <tr>\n",
       "      <th>1</th>\n",
       "      <td>121688</td>\n",
       "      <td>13</td>\n",
       "      <td>16</td>\n",
       "      <td>-0.145082</td>\n",
       "      <td>0.927173</td>\n",
       "      <td>12</td>\n",
       "      <td>1</td>\n",
       "    </tr>\n",
       "    <tr>\n",
       "      <th>2</th>\n",
       "      <td>552148</td>\n",
       "      <td>1</td>\n",
       "      <td>1</td>\n",
       "      <td>0.036667</td>\n",
       "      <td>0.009722</td>\n",
       "      <td>1</td>\n",
       "      <td>1</td>\n",
       "    </tr>\n",
       "    <tr>\n",
       "      <th>3</th>\n",
       "      <td>102019</td>\n",
       "      <td>2</td>\n",
       "      <td>6</td>\n",
       "      <td>0.024167</td>\n",
       "      <td>0.259722</td>\n",
       "      <td>2</td>\n",
       "      <td>1</td>\n",
       "    </tr>\n",
       "    <tr>\n",
       "      <th>4</th>\n",
       "      <td>189384</td>\n",
       "      <td>7</td>\n",
       "      <td>25</td>\n",
       "      <td>479.378596</td>\n",
       "      <td>0.051974</td>\n",
       "      <td>2</td>\n",
       "      <td>1</td>\n",
       "    </tr>\n",
       "  </tbody>\n",
       "</table>\n",
       "</div>"
      ]
     },
     "execution_count": 62,
     "metadata": {},
     "output_type": "execute_result"
    }
   ],
   "execution_count": 62
  },
  {
   "cell_type": "code",
   "id": "53e02569",
   "metadata": {
    "ExecuteTime": {
     "end_time": "2025-04-04T08:47:50.598438Z",
     "start_time": "2025-04-04T08:47:50.589301Z"
    }
   },
   "source": "buying_visitors_df.shape",
   "outputs": [
    {
     "data": {
      "text/plain": [
       "(11719, 7)"
      ]
     },
     "execution_count": 63,
     "metadata": {},
     "output_type": "execute_result"
    }
   ],
   "execution_count": 63
  },
  {
   "cell_type": "code",
   "id": "e4c9cec8",
   "metadata": {
    "ExecuteTime": {
     "end_time": "2025-04-04T08:47:55.292994Z",
     "start_time": "2025-04-04T08:47:54.498560Z"
    }
   },
   "source": [
    "import random\n",
    "random.shuffle(customer_browsed)"
   ],
   "outputs": [],
   "execution_count": 64
  },
  {
   "cell_type": "code",
   "id": "9c922b60",
   "metadata": {
    "ExecuteTime": {
     "end_time": "2025-04-04T12:09:13.119973Z",
     "start_time": "2025-04-04T10:54:40.599172Z"
    }
   },
   "source": [
    "\n",
    "subset_size = int(len(customer_browsed) * 1)\n",
    "subset = random.sample(customer_browsed, subset_size)\n",
    "\n",
    "viewing_visitors_df = create_dataframe(subset)\n",
    "\n"
   ],
   "outputs": [],
   "execution_count": 142
  },
  {
   "cell_type": "code",
   "id": "b17474cf",
   "metadata": {
    "ExecuteTime": {
     "end_time": "2025-04-04T13:28:35.010999Z",
     "start_time": "2025-04-04T13:28:34.902480Z"
    }
   },
   "source": [
    "data_ml = pd.concat([buying_visitors_df, viewing_visitors_df], ignore_index=True)"
   ],
   "outputs": [],
   "execution_count": 143
  },
  {
   "metadata": {
    "ExecuteTime": {
     "end_time": "2025-04-04T13:28:36.023310Z",
     "start_time": "2025-04-04T13:28:35.631806Z"
    }
   },
   "cell_type": "code",
   "source": "data_ml.describe()",
   "id": "5b55cf141c5b98d3",
   "outputs": [
    {
     "data": {
      "text/plain": [
       "          visitorid  num_items_viewed    view_count  firstview_to_cart  \\\n",
       "count  1.407580e+06      1.407580e+06  1.407580e+06        9791.000000   \n",
       "mean   7.037895e+05      1.358005e+00  1.854496e+00         428.554127   \n",
       "std    4.063335e+05      6.519558e+00  1.083521e+01         690.992677   \n",
       "min    0.000000e+00      0.000000e+00  0.000000e+00        -595.400764   \n",
       "25%    3.518948e+05      1.000000e+00  1.000000e+00           0.055000   \n",
       "50%    7.037895e+05      1.000000e+00  1.000000e+00          21.626667   \n",
       "75%    1.055684e+06      1.000000e+00  2.000000e+00         627.864167   \n",
       "max    1.407579e+06      3.280000e+03  5.722000e+03        3276.660278   \n",
       "\n",
       "       cart_to_transaction  bought_count     purchased  \n",
       "count          9791.000000  1.407580e+06  1.407580e+06  \n",
       "mean              3.279050  1.659799e-02  8.219071e-03  \n",
       "std              39.748556  8.471507e-01  9.028579e-02  \n",
       "min           -1478.021732  0.000000e+00  0.000000e+00  \n",
       "25%               0.046319  0.000000e+00  0.000000e+00  \n",
       "50%               0.089444  0.000000e+00  0.000000e+00  \n",
       "75%               0.219056  0.000000e+00  0.000000e+00  \n",
       "max            1198.972500  5.750000e+02  1.000000e+00  "
      ],
      "text/html": [
       "<div>\n",
       "<style scoped>\n",
       "    .dataframe tbody tr th:only-of-type {\n",
       "        vertical-align: middle;\n",
       "    }\n",
       "\n",
       "    .dataframe tbody tr th {\n",
       "        vertical-align: top;\n",
       "    }\n",
       "\n",
       "    .dataframe thead th {\n",
       "        text-align: right;\n",
       "    }\n",
       "</style>\n",
       "<table border=\"1\" class=\"dataframe\">\n",
       "  <thead>\n",
       "    <tr style=\"text-align: right;\">\n",
       "      <th></th>\n",
       "      <th>visitorid</th>\n",
       "      <th>num_items_viewed</th>\n",
       "      <th>view_count</th>\n",
       "      <th>firstview_to_cart</th>\n",
       "      <th>cart_to_transaction</th>\n",
       "      <th>bought_count</th>\n",
       "      <th>purchased</th>\n",
       "    </tr>\n",
       "  </thead>\n",
       "  <tbody>\n",
       "    <tr>\n",
       "      <th>count</th>\n",
       "      <td>1.407580e+06</td>\n",
       "      <td>1.407580e+06</td>\n",
       "      <td>1.407580e+06</td>\n",
       "      <td>9791.000000</td>\n",
       "      <td>9791.000000</td>\n",
       "      <td>1.407580e+06</td>\n",
       "      <td>1.407580e+06</td>\n",
       "    </tr>\n",
       "    <tr>\n",
       "      <th>mean</th>\n",
       "      <td>7.037895e+05</td>\n",
       "      <td>1.358005e+00</td>\n",
       "      <td>1.854496e+00</td>\n",
       "      <td>428.554127</td>\n",
       "      <td>3.279050</td>\n",
       "      <td>1.659799e-02</td>\n",
       "      <td>8.219071e-03</td>\n",
       "    </tr>\n",
       "    <tr>\n",
       "      <th>std</th>\n",
       "      <td>4.063335e+05</td>\n",
       "      <td>6.519558e+00</td>\n",
       "      <td>1.083521e+01</td>\n",
       "      <td>690.992677</td>\n",
       "      <td>39.748556</td>\n",
       "      <td>8.471507e-01</td>\n",
       "      <td>9.028579e-02</td>\n",
       "    </tr>\n",
       "    <tr>\n",
       "      <th>min</th>\n",
       "      <td>0.000000e+00</td>\n",
       "      <td>0.000000e+00</td>\n",
       "      <td>0.000000e+00</td>\n",
       "      <td>-595.400764</td>\n",
       "      <td>-1478.021732</td>\n",
       "      <td>0.000000e+00</td>\n",
       "      <td>0.000000e+00</td>\n",
       "    </tr>\n",
       "    <tr>\n",
       "      <th>25%</th>\n",
       "      <td>3.518948e+05</td>\n",
       "      <td>1.000000e+00</td>\n",
       "      <td>1.000000e+00</td>\n",
       "      <td>0.055000</td>\n",
       "      <td>0.046319</td>\n",
       "      <td>0.000000e+00</td>\n",
       "      <td>0.000000e+00</td>\n",
       "    </tr>\n",
       "    <tr>\n",
       "      <th>50%</th>\n",
       "      <td>7.037895e+05</td>\n",
       "      <td>1.000000e+00</td>\n",
       "      <td>1.000000e+00</td>\n",
       "      <td>21.626667</td>\n",
       "      <td>0.089444</td>\n",
       "      <td>0.000000e+00</td>\n",
       "      <td>0.000000e+00</td>\n",
       "    </tr>\n",
       "    <tr>\n",
       "      <th>75%</th>\n",
       "      <td>1.055684e+06</td>\n",
       "      <td>1.000000e+00</td>\n",
       "      <td>2.000000e+00</td>\n",
       "      <td>627.864167</td>\n",
       "      <td>0.219056</td>\n",
       "      <td>0.000000e+00</td>\n",
       "      <td>0.000000e+00</td>\n",
       "    </tr>\n",
       "    <tr>\n",
       "      <th>max</th>\n",
       "      <td>1.407579e+06</td>\n",
       "      <td>3.280000e+03</td>\n",
       "      <td>5.722000e+03</td>\n",
       "      <td>3276.660278</td>\n",
       "      <td>1198.972500</td>\n",
       "      <td>5.750000e+02</td>\n",
       "      <td>1.000000e+00</td>\n",
       "    </tr>\n",
       "  </tbody>\n",
       "</table>\n",
       "</div>"
      ]
     },
     "execution_count": 144,
     "metadata": {},
     "output_type": "execute_result"
    }
   ],
   "execution_count": 144
  },
  {
   "cell_type": "code",
   "id": "6ffcd629",
   "metadata": {
    "ExecuteTime": {
     "end_time": "2025-04-04T13:28:37.358751Z",
     "start_time": "2025-04-04T13:28:37.192008Z"
    }
   },
   "source": [
    "# shuffle main_df first\n",
    "data_ml = data_ml.sample(frac=1)"
   ],
   "outputs": [],
   "execution_count": 145
  },
  {
   "cell_type": "code",
   "id": "99aa57fb",
   "metadata": {
    "ExecuteTime": {
     "end_time": "2025-04-04T13:29:09.810716Z",
     "start_time": "2025-04-04T13:29:08.475986Z"
    }
   },
   "source": "data_ml.to_csv('newcsv.csv', index=False)",
   "outputs": [],
   "execution_count": 146
  },
  {
   "cell_type": "code",
   "id": "409d0f82",
   "metadata": {
    "scrolled": false,
    "ExecuteTime": {
     "end_time": "2025-04-04T13:29:53.543353Z",
     "start_time": "2025-04-04T13:29:53.231535Z"
    }
   },
   "source": [
    "data_ml = pd.read_csv('newcsv.csv')\n",
    "data_ml.head()"
   ],
   "outputs": [
    {
     "data": {
      "text/plain": [
       "   visitorid  num_items_viewed  view_count  firstview_to_cart  \\\n",
       "0     512286                 1           1                NaN   \n",
       "1     376052                 0           0                NaN   \n",
       "2    1063766                 8          13                NaN   \n",
       "3      58180                 4           6                NaN   \n",
       "4     428164                 0           0                NaN   \n",
       "\n",
       "   cart_to_transaction  bought_count  purchased  \n",
       "0                  NaN             0          0  \n",
       "1                  NaN             0          0  \n",
       "2                  NaN             0          0  \n",
       "3                  NaN             0          0  \n",
       "4                  NaN             0          0  "
      ],
      "text/html": [
       "<div>\n",
       "<style scoped>\n",
       "    .dataframe tbody tr th:only-of-type {\n",
       "        vertical-align: middle;\n",
       "    }\n",
       "\n",
       "    .dataframe tbody tr th {\n",
       "        vertical-align: top;\n",
       "    }\n",
       "\n",
       "    .dataframe thead th {\n",
       "        text-align: right;\n",
       "    }\n",
       "</style>\n",
       "<table border=\"1\" class=\"dataframe\">\n",
       "  <thead>\n",
       "    <tr style=\"text-align: right;\">\n",
       "      <th></th>\n",
       "      <th>visitorid</th>\n",
       "      <th>num_items_viewed</th>\n",
       "      <th>view_count</th>\n",
       "      <th>firstview_to_cart</th>\n",
       "      <th>cart_to_transaction</th>\n",
       "      <th>bought_count</th>\n",
       "      <th>purchased</th>\n",
       "    </tr>\n",
       "  </thead>\n",
       "  <tbody>\n",
       "    <tr>\n",
       "      <th>0</th>\n",
       "      <td>512286</td>\n",
       "      <td>1</td>\n",
       "      <td>1</td>\n",
       "      <td>NaN</td>\n",
       "      <td>NaN</td>\n",
       "      <td>0</td>\n",
       "      <td>0</td>\n",
       "    </tr>\n",
       "    <tr>\n",
       "      <th>1</th>\n",
       "      <td>376052</td>\n",
       "      <td>0</td>\n",
       "      <td>0</td>\n",
       "      <td>NaN</td>\n",
       "      <td>NaN</td>\n",
       "      <td>0</td>\n",
       "      <td>0</td>\n",
       "    </tr>\n",
       "    <tr>\n",
       "      <th>2</th>\n",
       "      <td>1063766</td>\n",
       "      <td>8</td>\n",
       "      <td>13</td>\n",
       "      <td>NaN</td>\n",
       "      <td>NaN</td>\n",
       "      <td>0</td>\n",
       "      <td>0</td>\n",
       "    </tr>\n",
       "    <tr>\n",
       "      <th>3</th>\n",
       "      <td>58180</td>\n",
       "      <td>4</td>\n",
       "      <td>6</td>\n",
       "      <td>NaN</td>\n",
       "      <td>NaN</td>\n",
       "      <td>0</td>\n",
       "      <td>0</td>\n",
       "    </tr>\n",
       "    <tr>\n",
       "      <th>4</th>\n",
       "      <td>428164</td>\n",
       "      <td>0</td>\n",
       "      <td>0</td>\n",
       "      <td>NaN</td>\n",
       "      <td>NaN</td>\n",
       "      <td>0</td>\n",
       "      <td>0</td>\n",
       "    </tr>\n",
       "  </tbody>\n",
       "</table>\n",
       "</div>"
      ]
     },
     "execution_count": 148,
     "metadata": {},
     "output_type": "execute_result"
    }
   ],
   "execution_count": 148
  },
  {
   "cell_type": "code",
   "id": "bb250236",
   "metadata": {
    "ExecuteTime": {
     "end_time": "2025-04-04T13:31:01.088661Z",
     "start_time": "2025-04-04T13:31:01.038488Z"
    }
   },
   "source": "data_ml['view_rate'] = data_ml['num_items_viewed']/data_ml['view_count']",
   "outputs": [],
   "execution_count": 149
  },
  {
   "cell_type": "code",
   "id": "a64c4048",
   "metadata": {
    "scrolled": true,
    "ExecuteTime": {
     "end_time": "2025-04-04T13:31:07.152306Z",
     "start_time": "2025-04-04T13:31:07.139376Z"
    }
   },
   "source": [
    "\n",
    "data_ml['purchase_rate'] = data_ml['bought_count']/data_ml['view_count']"
   ],
   "outputs": [],
   "execution_count": 151
  },
  {
   "cell_type": "code",
   "id": "8234cd02",
   "metadata": {
    "ExecuteTime": {
     "end_time": "2025-04-04T13:31:16.079485Z",
     "start_time": "2025-04-04T13:31:16.047695Z"
    }
   },
   "source": [
    "data_ml.purchased.value_counts()"
   ],
   "outputs": [
    {
     "data": {
      "text/plain": [
       "purchased\n",
       "0    1396011\n",
       "1      11569\n",
       "Name: count, dtype: int64"
      ]
     },
     "execution_count": 153,
     "metadata": {},
     "output_type": "execute_result"
    }
   ],
   "execution_count": 153
  },
  {
   "cell_type": "code",
   "id": "47150309",
   "metadata": {
    "scrolled": false,
    "ExecuteTime": {
     "end_time": "2025-04-04T13:31:20.779338Z",
     "start_time": "2025-04-04T13:31:20.737609Z"
    }
   },
   "source": [
    "data_ml.info()"
   ],
   "outputs": [
    {
     "name": "stdout",
     "output_type": "stream",
     "text": [
      "<class 'pandas.core.frame.DataFrame'>\n",
      "RangeIndex: 1407580 entries, 0 to 1407579\n",
      "Data columns (total 9 columns):\n",
      " #   Column               Non-Null Count    Dtype  \n",
      "---  ------               --------------    -----  \n",
      " 0   visitorid            1407580 non-null  int64  \n",
      " 1   num_items_viewed     1407580 non-null  int64  \n",
      " 2   view_count           1407580 non-null  int64  \n",
      " 3   firstview_to_cart    9791 non-null     float64\n",
      " 4   cart_to_transaction  9791 non-null     float64\n",
      " 5   bought_count         1407580 non-null  int64  \n",
      " 6   purchased            1407580 non-null  int64  \n",
      " 7   view_rate            1232600 non-null  float64\n",
      " 8   purchase_rate        1233029 non-null  float64\n",
      "dtypes: float64(4), int64(5)\n",
      "memory usage: 96.7 MB\n"
     ]
    }
   ],
   "execution_count": 154
  },
  {
   "cell_type": "markdown",
   "id": "e91f0682",
   "metadata": {},
   "source": [
    "### 3.1.1 purchase_rate, to be the label, need to drop rows in infinite value"
   ]
  },
  {
   "cell_type": "code",
   "id": "ddbca5c6",
   "metadata": {
    "ExecuteTime": {
     "end_time": "2025-04-04T13:31:35.893362Z",
     "start_time": "2025-04-04T13:31:35.838137Z"
    }
   },
   "source": [
    "# Drop rows with infinite values in the \"purchase_rate\" column\n",
    "data_ml = data_ml[~np.isinf(data_ml['purchase_rate'])]"
   ],
   "outputs": [],
   "execution_count": 156
  },
  {
   "cell_type": "code",
   "id": "517fd914",
   "metadata": {
    "ExecuteTime": {
     "end_time": "2025-04-04T08:50:28.123652Z",
     "start_time": "2025-04-04T08:50:28.094837Z"
    }
   },
   "source": [
    "# check whether these rows be dropped\n",
    "data_ml.info()"
   ],
   "outputs": [
    {
     "name": "stdout",
     "output_type": "stream",
     "text": [
      "<class 'pandas.core.frame.DataFrame'>\n",
      "Index: 25248 entries, 0 to 25676\n",
      "Data columns (total 9 columns):\n",
      " #   Column               Non-Null Count  Dtype  \n",
      "---  ------               --------------  -----  \n",
      " 0   visitorid            25248 non-null  int64  \n",
      " 1   num_items_viewed     25248 non-null  int64  \n",
      " 2   view_count           25248 non-null  int64  \n",
      " 3   firstview_to_cart    9791 non-null   float64\n",
      " 4   cart_to_transaction  9791 non-null   float64\n",
      " 5   bought_count         25248 non-null  int64  \n",
      " 6   purchased            25248 non-null  int64  \n",
      " 7   view_rate            23452 non-null  float64\n",
      " 8   purchase_rate        23452 non-null  float64\n",
      "dtypes: float64(4), int64(5)\n",
      "memory usage: 1.9 MB\n"
     ]
    }
   ],
   "execution_count": 79
  },
  {
   "cell_type": "code",
   "id": "c857ac6f",
   "metadata": {
    "ExecuteTime": {
     "end_time": "2025-04-04T08:50:32.454259Z",
     "start_time": "2025-04-04T08:50:32.422422Z"
    }
   },
   "source": [
    "data_ml['num_items_viewed'].value_counts().head(10)"
   ],
   "outputs": [
    {
     "data": {
      "text/plain": [
       "num_items_viewed\n",
       "1    14129\n",
       "2     3558\n",
       "0     1796\n",
       "3     1642\n",
       "4      897\n",
       "5      656\n",
       "6      441\n",
       "7      306\n",
       "8      240\n",
       "9      218\n",
       "Name: count, dtype: int64"
      ]
     },
     "execution_count": 81,
     "metadata": {},
     "output_type": "execute_result"
    }
   ],
   "execution_count": 81
  },
  {
   "cell_type": "code",
   "id": "45f45297",
   "metadata": {
    "scrolled": false,
    "ExecuteTime": {
     "end_time": "2025-04-04T13:31:52.774376Z",
     "start_time": "2025-04-04T13:31:52.742241Z"
    }
   },
   "source": [
    "data_ml['view_count'].value_counts()"
   ],
   "outputs": [
    {
     "data": {
      "text/plain": [
       "view_count\n",
       "1      794994\n",
       "2      235839\n",
       "0      174551\n",
       "3       75359\n",
       "4       43961\n",
       "        ...  \n",
       "344         1\n",
       "189         1\n",
       "141         1\n",
       "256         1\n",
       "900         1\n",
       "Name: count, Length: 333, dtype: int64"
      ]
     },
     "execution_count": 160,
     "metadata": {},
     "output_type": "execute_result"
    }
   ],
   "execution_count": 160
  },
  {
   "cell_type": "markdown",
   "id": "fa8f1278",
   "metadata": {},
   "source": [
    "\n",
    "### 3.1.5 firstview_to_cart"
   ]
  },
  {
   "cell_type": "code",
   "id": "ab9a539e",
   "metadata": {
    "ExecuteTime": {
     "end_time": "2025-04-04T13:32:13.113385Z",
     "start_time": "2025-04-04T13:32:13.097723Z"
    }
   },
   "source": [
    "# negetive value is due to item add_to_cart before the data collected.\n",
    "data_ml[data_ml['firstview_to_cart'] < 0]"
   ],
   "outputs": [
    {
     "data": {
      "text/plain": [
       "         visitorid  num_items_viewed  view_count  firstview_to_cart  \\\n",
       "8770       1317771                 5          11          -0.005556   \n",
       "17865       685143                 1           1          -0.034722   \n",
       "18368      1188257                10          17          -1.478657   \n",
       "20575       569471                 2           2          -0.093889   \n",
       "20862      1234428                 3           3          -0.002222   \n",
       "...            ...               ...         ...                ...   \n",
       "1344828     396151                 1           2          -1.502500   \n",
       "1347744     663616                 2           4          -0.015278   \n",
       "1397505     983395                32          62        -595.400764   \n",
       "1398399     586187                 2           2          -0.000556   \n",
       "1401425     562956                 1           1          -0.461389   \n",
       "\n",
       "         cart_to_transaction  bought_count  purchased  view_rate  \\\n",
       "8770              167.453056             1          1   0.454545   \n",
       "17865               0.015833             1          1   1.000000   \n",
       "18368               0.235972             2          1   0.588235   \n",
       "20575               0.137222             1          1   1.000000   \n",
       "20862               0.058056             1          1   1.000000   \n",
       "...                      ...           ...        ...        ...   \n",
       "1344828             0.051389             1          1   0.500000   \n",
       "1347744            16.500000             1          1   0.500000   \n",
       "1397505             0.278750             2          1   0.516129   \n",
       "1398399             0.443333             1          1   1.000000   \n",
       "1401425             0.514444             1          1   1.000000   \n",
       "\n",
       "         purchase_rate  \n",
       "8770          0.090909  \n",
       "17865         1.000000  \n",
       "18368         0.117647  \n",
       "20575         0.500000  \n",
       "20862         0.333333  \n",
       "...                ...  \n",
       "1344828       0.500000  \n",
       "1347744       0.250000  \n",
       "1397505       0.032258  \n",
       "1398399       0.500000  \n",
       "1401425       1.000000  \n",
       "\n",
       "[183 rows x 9 columns]"
      ],
      "text/html": [
       "<div>\n",
       "<style scoped>\n",
       "    .dataframe tbody tr th:only-of-type {\n",
       "        vertical-align: middle;\n",
       "    }\n",
       "\n",
       "    .dataframe tbody tr th {\n",
       "        vertical-align: top;\n",
       "    }\n",
       "\n",
       "    .dataframe thead th {\n",
       "        text-align: right;\n",
       "    }\n",
       "</style>\n",
       "<table border=\"1\" class=\"dataframe\">\n",
       "  <thead>\n",
       "    <tr style=\"text-align: right;\">\n",
       "      <th></th>\n",
       "      <th>visitorid</th>\n",
       "      <th>num_items_viewed</th>\n",
       "      <th>view_count</th>\n",
       "      <th>firstview_to_cart</th>\n",
       "      <th>cart_to_transaction</th>\n",
       "      <th>bought_count</th>\n",
       "      <th>purchased</th>\n",
       "      <th>view_rate</th>\n",
       "      <th>purchase_rate</th>\n",
       "    </tr>\n",
       "  </thead>\n",
       "  <tbody>\n",
       "    <tr>\n",
       "      <th>8770</th>\n",
       "      <td>1317771</td>\n",
       "      <td>5</td>\n",
       "      <td>11</td>\n",
       "      <td>-0.005556</td>\n",
       "      <td>167.453056</td>\n",
       "      <td>1</td>\n",
       "      <td>1</td>\n",
       "      <td>0.454545</td>\n",
       "      <td>0.090909</td>\n",
       "    </tr>\n",
       "    <tr>\n",
       "      <th>17865</th>\n",
       "      <td>685143</td>\n",
       "      <td>1</td>\n",
       "      <td>1</td>\n",
       "      <td>-0.034722</td>\n",
       "      <td>0.015833</td>\n",
       "      <td>1</td>\n",
       "      <td>1</td>\n",
       "      <td>1.000000</td>\n",
       "      <td>1.000000</td>\n",
       "    </tr>\n",
       "    <tr>\n",
       "      <th>18368</th>\n",
       "      <td>1188257</td>\n",
       "      <td>10</td>\n",
       "      <td>17</td>\n",
       "      <td>-1.478657</td>\n",
       "      <td>0.235972</td>\n",
       "      <td>2</td>\n",
       "      <td>1</td>\n",
       "      <td>0.588235</td>\n",
       "      <td>0.117647</td>\n",
       "    </tr>\n",
       "    <tr>\n",
       "      <th>20575</th>\n",
       "      <td>569471</td>\n",
       "      <td>2</td>\n",
       "      <td>2</td>\n",
       "      <td>-0.093889</td>\n",
       "      <td>0.137222</td>\n",
       "      <td>1</td>\n",
       "      <td>1</td>\n",
       "      <td>1.000000</td>\n",
       "      <td>0.500000</td>\n",
       "    </tr>\n",
       "    <tr>\n",
       "      <th>20862</th>\n",
       "      <td>1234428</td>\n",
       "      <td>3</td>\n",
       "      <td>3</td>\n",
       "      <td>-0.002222</td>\n",
       "      <td>0.058056</td>\n",
       "      <td>1</td>\n",
       "      <td>1</td>\n",
       "      <td>1.000000</td>\n",
       "      <td>0.333333</td>\n",
       "    </tr>\n",
       "    <tr>\n",
       "      <th>...</th>\n",
       "      <td>...</td>\n",
       "      <td>...</td>\n",
       "      <td>...</td>\n",
       "      <td>...</td>\n",
       "      <td>...</td>\n",
       "      <td>...</td>\n",
       "      <td>...</td>\n",
       "      <td>...</td>\n",
       "      <td>...</td>\n",
       "    </tr>\n",
       "    <tr>\n",
       "      <th>1344828</th>\n",
       "      <td>396151</td>\n",
       "      <td>1</td>\n",
       "      <td>2</td>\n",
       "      <td>-1.502500</td>\n",
       "      <td>0.051389</td>\n",
       "      <td>1</td>\n",
       "      <td>1</td>\n",
       "      <td>0.500000</td>\n",
       "      <td>0.500000</td>\n",
       "    </tr>\n",
       "    <tr>\n",
       "      <th>1347744</th>\n",
       "      <td>663616</td>\n",
       "      <td>2</td>\n",
       "      <td>4</td>\n",
       "      <td>-0.015278</td>\n",
       "      <td>16.500000</td>\n",
       "      <td>1</td>\n",
       "      <td>1</td>\n",
       "      <td>0.500000</td>\n",
       "      <td>0.250000</td>\n",
       "    </tr>\n",
       "    <tr>\n",
       "      <th>1397505</th>\n",
       "      <td>983395</td>\n",
       "      <td>32</td>\n",
       "      <td>62</td>\n",
       "      <td>-595.400764</td>\n",
       "      <td>0.278750</td>\n",
       "      <td>2</td>\n",
       "      <td>1</td>\n",
       "      <td>0.516129</td>\n",
       "      <td>0.032258</td>\n",
       "    </tr>\n",
       "    <tr>\n",
       "      <th>1398399</th>\n",
       "      <td>586187</td>\n",
       "      <td>2</td>\n",
       "      <td>2</td>\n",
       "      <td>-0.000556</td>\n",
       "      <td>0.443333</td>\n",
       "      <td>1</td>\n",
       "      <td>1</td>\n",
       "      <td>1.000000</td>\n",
       "      <td>0.500000</td>\n",
       "    </tr>\n",
       "    <tr>\n",
       "      <th>1401425</th>\n",
       "      <td>562956</td>\n",
       "      <td>1</td>\n",
       "      <td>1</td>\n",
       "      <td>-0.461389</td>\n",
       "      <td>0.514444</td>\n",
       "      <td>1</td>\n",
       "      <td>1</td>\n",
       "      <td>1.000000</td>\n",
       "      <td>1.000000</td>\n",
       "    </tr>\n",
       "  </tbody>\n",
       "</table>\n",
       "<p>183 rows × 9 columns</p>\n",
       "</div>"
      ]
     },
     "execution_count": 162,
     "metadata": {},
     "output_type": "execute_result"
    }
   ],
   "execution_count": 162
  },
  {
   "cell_type": "code",
   "id": "242367cd",
   "metadata": {
    "scrolled": true,
    "ExecuteTime": {
     "end_time": "2025-04-04T13:32:15.956156Z",
     "start_time": "2025-04-04T13:32:15.864221Z"
    }
   },
   "source": [
    "# the max is ~4 months\n",
    "data_ml.sort_values('firstview_to_cart', ascending=False).head(100)"
   ],
   "outputs": [
    {
     "data": {
      "text/plain": [
       "         visitorid  num_items_viewed  view_count  firstview_to_cart  \\\n",
       "384715      921915                 1           1        3276.660278   \n",
       "1027198    1199182                 1           1        3276.570278   \n",
       "300534        7633                 1           4        3260.562222   \n",
       "524505      346832                 1           1        3236.385278   \n",
       "116317      237886                 2           2        3232.516944   \n",
       "...            ...               ...         ...                ...   \n",
       "604397     1294899                 3           3        2786.395556   \n",
       "84603       276809                 1           2        2786.351111   \n",
       "366542      618031                 1           1        2781.591667   \n",
       "738566      939792                 4           5        2781.492130   \n",
       "1084566     187536                 3           6        2781.470833   \n",
       "\n",
       "         cart_to_transaction  bought_count  purchased  view_rate  \\\n",
       "384715              0.045278             1          1       1.00   \n",
       "1027198             0.058889             1          1       1.00   \n",
       "300534              0.142500             1          1       0.25   \n",
       "524505              0.100833             1          1       1.00   \n",
       "116317              0.068056             1          1       1.00   \n",
       "...                      ...           ...        ...        ...   \n",
       "604397              0.030833             1          1       1.00   \n",
       "84603               0.091389             2          1       0.50   \n",
       "366542              0.108056             1          1       1.00   \n",
       "738566              0.179167             2          1       0.80   \n",
       "1084566             0.025278             1          1       0.50   \n",
       "\n",
       "         purchase_rate  \n",
       "384715        1.000000  \n",
       "1027198       1.000000  \n",
       "300534        0.250000  \n",
       "524505        1.000000  \n",
       "116317        0.500000  \n",
       "...                ...  \n",
       "604397        0.333333  \n",
       "84603         1.000000  \n",
       "366542        1.000000  \n",
       "738566        0.400000  \n",
       "1084566       0.166667  \n",
       "\n",
       "[100 rows x 9 columns]"
      ],
      "text/html": [
       "<div>\n",
       "<style scoped>\n",
       "    .dataframe tbody tr th:only-of-type {\n",
       "        vertical-align: middle;\n",
       "    }\n",
       "\n",
       "    .dataframe tbody tr th {\n",
       "        vertical-align: top;\n",
       "    }\n",
       "\n",
       "    .dataframe thead th {\n",
       "        text-align: right;\n",
       "    }\n",
       "</style>\n",
       "<table border=\"1\" class=\"dataframe\">\n",
       "  <thead>\n",
       "    <tr style=\"text-align: right;\">\n",
       "      <th></th>\n",
       "      <th>visitorid</th>\n",
       "      <th>num_items_viewed</th>\n",
       "      <th>view_count</th>\n",
       "      <th>firstview_to_cart</th>\n",
       "      <th>cart_to_transaction</th>\n",
       "      <th>bought_count</th>\n",
       "      <th>purchased</th>\n",
       "      <th>view_rate</th>\n",
       "      <th>purchase_rate</th>\n",
       "    </tr>\n",
       "  </thead>\n",
       "  <tbody>\n",
       "    <tr>\n",
       "      <th>384715</th>\n",
       "      <td>921915</td>\n",
       "      <td>1</td>\n",
       "      <td>1</td>\n",
       "      <td>3276.660278</td>\n",
       "      <td>0.045278</td>\n",
       "      <td>1</td>\n",
       "      <td>1</td>\n",
       "      <td>1.00</td>\n",
       "      <td>1.000000</td>\n",
       "    </tr>\n",
       "    <tr>\n",
       "      <th>1027198</th>\n",
       "      <td>1199182</td>\n",
       "      <td>1</td>\n",
       "      <td>1</td>\n",
       "      <td>3276.570278</td>\n",
       "      <td>0.058889</td>\n",
       "      <td>1</td>\n",
       "      <td>1</td>\n",
       "      <td>1.00</td>\n",
       "      <td>1.000000</td>\n",
       "    </tr>\n",
       "    <tr>\n",
       "      <th>300534</th>\n",
       "      <td>7633</td>\n",
       "      <td>1</td>\n",
       "      <td>4</td>\n",
       "      <td>3260.562222</td>\n",
       "      <td>0.142500</td>\n",
       "      <td>1</td>\n",
       "      <td>1</td>\n",
       "      <td>0.25</td>\n",
       "      <td>0.250000</td>\n",
       "    </tr>\n",
       "    <tr>\n",
       "      <th>524505</th>\n",
       "      <td>346832</td>\n",
       "      <td>1</td>\n",
       "      <td>1</td>\n",
       "      <td>3236.385278</td>\n",
       "      <td>0.100833</td>\n",
       "      <td>1</td>\n",
       "      <td>1</td>\n",
       "      <td>1.00</td>\n",
       "      <td>1.000000</td>\n",
       "    </tr>\n",
       "    <tr>\n",
       "      <th>116317</th>\n",
       "      <td>237886</td>\n",
       "      <td>2</td>\n",
       "      <td>2</td>\n",
       "      <td>3232.516944</td>\n",
       "      <td>0.068056</td>\n",
       "      <td>1</td>\n",
       "      <td>1</td>\n",
       "      <td>1.00</td>\n",
       "      <td>0.500000</td>\n",
       "    </tr>\n",
       "    <tr>\n",
       "      <th>...</th>\n",
       "      <td>...</td>\n",
       "      <td>...</td>\n",
       "      <td>...</td>\n",
       "      <td>...</td>\n",
       "      <td>...</td>\n",
       "      <td>...</td>\n",
       "      <td>...</td>\n",
       "      <td>...</td>\n",
       "      <td>...</td>\n",
       "    </tr>\n",
       "    <tr>\n",
       "      <th>604397</th>\n",
       "      <td>1294899</td>\n",
       "      <td>3</td>\n",
       "      <td>3</td>\n",
       "      <td>2786.395556</td>\n",
       "      <td>0.030833</td>\n",
       "      <td>1</td>\n",
       "      <td>1</td>\n",
       "      <td>1.00</td>\n",
       "      <td>0.333333</td>\n",
       "    </tr>\n",
       "    <tr>\n",
       "      <th>84603</th>\n",
       "      <td>276809</td>\n",
       "      <td>1</td>\n",
       "      <td>2</td>\n",
       "      <td>2786.351111</td>\n",
       "      <td>0.091389</td>\n",
       "      <td>2</td>\n",
       "      <td>1</td>\n",
       "      <td>0.50</td>\n",
       "      <td>1.000000</td>\n",
       "    </tr>\n",
       "    <tr>\n",
       "      <th>366542</th>\n",
       "      <td>618031</td>\n",
       "      <td>1</td>\n",
       "      <td>1</td>\n",
       "      <td>2781.591667</td>\n",
       "      <td>0.108056</td>\n",
       "      <td>1</td>\n",
       "      <td>1</td>\n",
       "      <td>1.00</td>\n",
       "      <td>1.000000</td>\n",
       "    </tr>\n",
       "    <tr>\n",
       "      <th>738566</th>\n",
       "      <td>939792</td>\n",
       "      <td>4</td>\n",
       "      <td>5</td>\n",
       "      <td>2781.492130</td>\n",
       "      <td>0.179167</td>\n",
       "      <td>2</td>\n",
       "      <td>1</td>\n",
       "      <td>0.80</td>\n",
       "      <td>0.400000</td>\n",
       "    </tr>\n",
       "    <tr>\n",
       "      <th>1084566</th>\n",
       "      <td>187536</td>\n",
       "      <td>3</td>\n",
       "      <td>6</td>\n",
       "      <td>2781.470833</td>\n",
       "      <td>0.025278</td>\n",
       "      <td>1</td>\n",
       "      <td>1</td>\n",
       "      <td>0.50</td>\n",
       "      <td>0.166667</td>\n",
       "    </tr>\n",
       "  </tbody>\n",
       "</table>\n",
       "<p>100 rows × 9 columns</p>\n",
       "</div>"
      ]
     },
     "execution_count": 163,
     "metadata": {},
     "output_type": "execute_result"
    }
   ],
   "execution_count": 163
  },
  {
   "cell_type": "code",
   "id": "5365b65e",
   "metadata": {
    "ExecuteTime": {
     "end_time": "2025-04-04T13:32:20.360283Z",
     "start_time": "2025-04-04T13:32:20.344174Z"
    }
   },
   "source": "data_ml[data_ml['firstview_to_cart'] == 0]",
   "outputs": [
    {
     "data": {
      "text/plain": [
       "         visitorid  num_items_viewed  view_count  firstview_to_cart  \\\n",
       "52022       533142                34          36                0.0   \n",
       "110145       34667                 3           4                0.0   \n",
       "280917      767636                 1           2                0.0   \n",
       "379336       74832                 1           2                0.0   \n",
       "384658     1026145                 1           1                0.0   \n",
       "525511     1230189                 1           2                0.0   \n",
       "825581     1013847                 1           1                0.0   \n",
       "839036     1179416                 1           1                0.0   \n",
       "973605       20815                 1           2                0.0   \n",
       "1368447    1084182                 1           1                0.0   \n",
       "\n",
       "         cart_to_transaction  bought_count  purchased  view_rate  \\\n",
       "52022               0.021944             1          1   0.944444   \n",
       "110145              0.052222             1          1   0.750000   \n",
       "280917              0.035833             1          1   0.500000   \n",
       "379336              0.056111             1          1   0.500000   \n",
       "384658              0.037778             1          1   1.000000   \n",
       "525511              0.026667             2          1   0.500000   \n",
       "825581              0.042778             1          1   1.000000   \n",
       "839036              0.085278             2          1   1.000000   \n",
       "973605              0.022500             1          1   0.500000   \n",
       "1368447             0.026667             1          1   1.000000   \n",
       "\n",
       "         purchase_rate  \n",
       "52022         0.027778  \n",
       "110145        0.250000  \n",
       "280917        0.500000  \n",
       "379336        0.500000  \n",
       "384658        1.000000  \n",
       "525511        1.000000  \n",
       "825581        1.000000  \n",
       "839036        2.000000  \n",
       "973605        0.500000  \n",
       "1368447       1.000000  "
      ],
      "text/html": [
       "<div>\n",
       "<style scoped>\n",
       "    .dataframe tbody tr th:only-of-type {\n",
       "        vertical-align: middle;\n",
       "    }\n",
       "\n",
       "    .dataframe tbody tr th {\n",
       "        vertical-align: top;\n",
       "    }\n",
       "\n",
       "    .dataframe thead th {\n",
       "        text-align: right;\n",
       "    }\n",
       "</style>\n",
       "<table border=\"1\" class=\"dataframe\">\n",
       "  <thead>\n",
       "    <tr style=\"text-align: right;\">\n",
       "      <th></th>\n",
       "      <th>visitorid</th>\n",
       "      <th>num_items_viewed</th>\n",
       "      <th>view_count</th>\n",
       "      <th>firstview_to_cart</th>\n",
       "      <th>cart_to_transaction</th>\n",
       "      <th>bought_count</th>\n",
       "      <th>purchased</th>\n",
       "      <th>view_rate</th>\n",
       "      <th>purchase_rate</th>\n",
       "    </tr>\n",
       "  </thead>\n",
       "  <tbody>\n",
       "    <tr>\n",
       "      <th>52022</th>\n",
       "      <td>533142</td>\n",
       "      <td>34</td>\n",
       "      <td>36</td>\n",
       "      <td>0.0</td>\n",
       "      <td>0.021944</td>\n",
       "      <td>1</td>\n",
       "      <td>1</td>\n",
       "      <td>0.944444</td>\n",
       "      <td>0.027778</td>\n",
       "    </tr>\n",
       "    <tr>\n",
       "      <th>110145</th>\n",
       "      <td>34667</td>\n",
       "      <td>3</td>\n",
       "      <td>4</td>\n",
       "      <td>0.0</td>\n",
       "      <td>0.052222</td>\n",
       "      <td>1</td>\n",
       "      <td>1</td>\n",
       "      <td>0.750000</td>\n",
       "      <td>0.250000</td>\n",
       "    </tr>\n",
       "    <tr>\n",
       "      <th>280917</th>\n",
       "      <td>767636</td>\n",
       "      <td>1</td>\n",
       "      <td>2</td>\n",
       "      <td>0.0</td>\n",
       "      <td>0.035833</td>\n",
       "      <td>1</td>\n",
       "      <td>1</td>\n",
       "      <td>0.500000</td>\n",
       "      <td>0.500000</td>\n",
       "    </tr>\n",
       "    <tr>\n",
       "      <th>379336</th>\n",
       "      <td>74832</td>\n",
       "      <td>1</td>\n",
       "      <td>2</td>\n",
       "      <td>0.0</td>\n",
       "      <td>0.056111</td>\n",
       "      <td>1</td>\n",
       "      <td>1</td>\n",
       "      <td>0.500000</td>\n",
       "      <td>0.500000</td>\n",
       "    </tr>\n",
       "    <tr>\n",
       "      <th>384658</th>\n",
       "      <td>1026145</td>\n",
       "      <td>1</td>\n",
       "      <td>1</td>\n",
       "      <td>0.0</td>\n",
       "      <td>0.037778</td>\n",
       "      <td>1</td>\n",
       "      <td>1</td>\n",
       "      <td>1.000000</td>\n",
       "      <td>1.000000</td>\n",
       "    </tr>\n",
       "    <tr>\n",
       "      <th>525511</th>\n",
       "      <td>1230189</td>\n",
       "      <td>1</td>\n",
       "      <td>2</td>\n",
       "      <td>0.0</td>\n",
       "      <td>0.026667</td>\n",
       "      <td>2</td>\n",
       "      <td>1</td>\n",
       "      <td>0.500000</td>\n",
       "      <td>1.000000</td>\n",
       "    </tr>\n",
       "    <tr>\n",
       "      <th>825581</th>\n",
       "      <td>1013847</td>\n",
       "      <td>1</td>\n",
       "      <td>1</td>\n",
       "      <td>0.0</td>\n",
       "      <td>0.042778</td>\n",
       "      <td>1</td>\n",
       "      <td>1</td>\n",
       "      <td>1.000000</td>\n",
       "      <td>1.000000</td>\n",
       "    </tr>\n",
       "    <tr>\n",
       "      <th>839036</th>\n",
       "      <td>1179416</td>\n",
       "      <td>1</td>\n",
       "      <td>1</td>\n",
       "      <td>0.0</td>\n",
       "      <td>0.085278</td>\n",
       "      <td>2</td>\n",
       "      <td>1</td>\n",
       "      <td>1.000000</td>\n",
       "      <td>2.000000</td>\n",
       "    </tr>\n",
       "    <tr>\n",
       "      <th>973605</th>\n",
       "      <td>20815</td>\n",
       "      <td>1</td>\n",
       "      <td>2</td>\n",
       "      <td>0.0</td>\n",
       "      <td>0.022500</td>\n",
       "      <td>1</td>\n",
       "      <td>1</td>\n",
       "      <td>0.500000</td>\n",
       "      <td>0.500000</td>\n",
       "    </tr>\n",
       "    <tr>\n",
       "      <th>1368447</th>\n",
       "      <td>1084182</td>\n",
       "      <td>1</td>\n",
       "      <td>1</td>\n",
       "      <td>0.0</td>\n",
       "      <td>0.026667</td>\n",
       "      <td>1</td>\n",
       "      <td>1</td>\n",
       "      <td>1.000000</td>\n",
       "      <td>1.000000</td>\n",
       "    </tr>\n",
       "  </tbody>\n",
       "</table>\n",
       "</div>"
      ]
     },
     "execution_count": 164,
     "metadata": {},
     "output_type": "execute_result"
    }
   ],
   "execution_count": 164
  },
  {
   "cell_type": "code",
   "id": "1d9964a1",
   "metadata": {
    "ExecuteTime": {
     "end_time": "2025-04-04T13:32:27.221042Z",
     "start_time": "2025-04-04T13:32:27.195669Z"
    }
   },
   "source": [
    "# null value need to be addressed\n",
    "data_ml['cart_to_transaction'].isnull().value_counts()"
   ],
   "outputs": [
    {
     "data": {
      "text/plain": [
       "cart_to_transaction\n",
       "True     1397360\n",
       "False       9791\n",
       "Name: count, dtype: int64"
      ]
     },
     "execution_count": 165,
     "metadata": {},
     "output_type": "execute_result"
    }
   ],
   "execution_count": 165
  },
  {
   "cell_type": "code",
   "id": "5ef05fa3",
   "metadata": {
    "ExecuteTime": {
     "end_time": "2025-04-04T13:32:28.552753Z",
     "start_time": "2025-04-04T13:32:28.521014Z"
    }
   },
   "source": [
    "# check the negetive values\n",
    "data_ml[data_ml['cart_to_transaction'] < 0]"
   ],
   "outputs": [
    {
     "data": {
      "text/plain": [
       "         visitorid  num_items_viewed  view_count  firstview_to_cart  \\\n",
       "9682        276034                16          27          13.399444   \n",
       "14210       668226                 7          16           3.150794   \n",
       "16599       436380                 3           5           4.022639   \n",
       "22679      1038651                 1           4           0.725278   \n",
       "26223       481873                 1           3          23.864444   \n",
       "...            ...               ...         ...                ...   \n",
       "1359418    1362413                 5          15         110.334861   \n",
       "1367084    1148151                 3           9          71.621111   \n",
       "1376239    1279582                 2           5        1141.964444   \n",
       "1385082     450190                 1           8          28.983056   \n",
       "1395098    1348883                 1           2           0.042778   \n",
       "\n",
       "         cart_to_transaction  bought_count  purchased  view_rate  \\\n",
       "9682              -13.202778             1          1   0.592593   \n",
       "14210              -0.112540             2          1   0.437500   \n",
       "16599              -3.925139             1          1   0.600000   \n",
       "22679              -0.081389             2          1   0.250000   \n",
       "26223              -5.149722             1          1   0.333333   \n",
       "...                      ...           ...        ...        ...   \n",
       "1359418           -88.885278             2          1   0.333333   \n",
       "1367084           -23.794444             2          1   0.333333   \n",
       "1376239            -0.151528             2          1   0.400000   \n",
       "1385082           -28.429167             1          1   0.125000   \n",
       "1395098            -0.013889             1          1   0.500000   \n",
       "\n",
       "         purchase_rate  \n",
       "9682          0.037037  \n",
       "14210         0.125000  \n",
       "16599         0.200000  \n",
       "22679         0.500000  \n",
       "26223         0.333333  \n",
       "...                ...  \n",
       "1359418       0.133333  \n",
       "1367084       0.222222  \n",
       "1376239       0.400000  \n",
       "1385082       0.125000  \n",
       "1395098       0.500000  \n",
       "\n",
       "[231 rows x 9 columns]"
      ],
      "text/html": [
       "<div>\n",
       "<style scoped>\n",
       "    .dataframe tbody tr th:only-of-type {\n",
       "        vertical-align: middle;\n",
       "    }\n",
       "\n",
       "    .dataframe tbody tr th {\n",
       "        vertical-align: top;\n",
       "    }\n",
       "\n",
       "    .dataframe thead th {\n",
       "        text-align: right;\n",
       "    }\n",
       "</style>\n",
       "<table border=\"1\" class=\"dataframe\">\n",
       "  <thead>\n",
       "    <tr style=\"text-align: right;\">\n",
       "      <th></th>\n",
       "      <th>visitorid</th>\n",
       "      <th>num_items_viewed</th>\n",
       "      <th>view_count</th>\n",
       "      <th>firstview_to_cart</th>\n",
       "      <th>cart_to_transaction</th>\n",
       "      <th>bought_count</th>\n",
       "      <th>purchased</th>\n",
       "      <th>view_rate</th>\n",
       "      <th>purchase_rate</th>\n",
       "    </tr>\n",
       "  </thead>\n",
       "  <tbody>\n",
       "    <tr>\n",
       "      <th>9682</th>\n",
       "      <td>276034</td>\n",
       "      <td>16</td>\n",
       "      <td>27</td>\n",
       "      <td>13.399444</td>\n",
       "      <td>-13.202778</td>\n",
       "      <td>1</td>\n",
       "      <td>1</td>\n",
       "      <td>0.592593</td>\n",
       "      <td>0.037037</td>\n",
       "    </tr>\n",
       "    <tr>\n",
       "      <th>14210</th>\n",
       "      <td>668226</td>\n",
       "      <td>7</td>\n",
       "      <td>16</td>\n",
       "      <td>3.150794</td>\n",
       "      <td>-0.112540</td>\n",
       "      <td>2</td>\n",
       "      <td>1</td>\n",
       "      <td>0.437500</td>\n",
       "      <td>0.125000</td>\n",
       "    </tr>\n",
       "    <tr>\n",
       "      <th>16599</th>\n",
       "      <td>436380</td>\n",
       "      <td>3</td>\n",
       "      <td>5</td>\n",
       "      <td>4.022639</td>\n",
       "      <td>-3.925139</td>\n",
       "      <td>1</td>\n",
       "      <td>1</td>\n",
       "      <td>0.600000</td>\n",
       "      <td>0.200000</td>\n",
       "    </tr>\n",
       "    <tr>\n",
       "      <th>22679</th>\n",
       "      <td>1038651</td>\n",
       "      <td>1</td>\n",
       "      <td>4</td>\n",
       "      <td>0.725278</td>\n",
       "      <td>-0.081389</td>\n",
       "      <td>2</td>\n",
       "      <td>1</td>\n",
       "      <td>0.250000</td>\n",
       "      <td>0.500000</td>\n",
       "    </tr>\n",
       "    <tr>\n",
       "      <th>26223</th>\n",
       "      <td>481873</td>\n",
       "      <td>1</td>\n",
       "      <td>3</td>\n",
       "      <td>23.864444</td>\n",
       "      <td>-5.149722</td>\n",
       "      <td>1</td>\n",
       "      <td>1</td>\n",
       "      <td>0.333333</td>\n",
       "      <td>0.333333</td>\n",
       "    </tr>\n",
       "    <tr>\n",
       "      <th>...</th>\n",
       "      <td>...</td>\n",
       "      <td>...</td>\n",
       "      <td>...</td>\n",
       "      <td>...</td>\n",
       "      <td>...</td>\n",
       "      <td>...</td>\n",
       "      <td>...</td>\n",
       "      <td>...</td>\n",
       "      <td>...</td>\n",
       "    </tr>\n",
       "    <tr>\n",
       "      <th>1359418</th>\n",
       "      <td>1362413</td>\n",
       "      <td>5</td>\n",
       "      <td>15</td>\n",
       "      <td>110.334861</td>\n",
       "      <td>-88.885278</td>\n",
       "      <td>2</td>\n",
       "      <td>1</td>\n",
       "      <td>0.333333</td>\n",
       "      <td>0.133333</td>\n",
       "    </tr>\n",
       "    <tr>\n",
       "      <th>1367084</th>\n",
       "      <td>1148151</td>\n",
       "      <td>3</td>\n",
       "      <td>9</td>\n",
       "      <td>71.621111</td>\n",
       "      <td>-23.794444</td>\n",
       "      <td>2</td>\n",
       "      <td>1</td>\n",
       "      <td>0.333333</td>\n",
       "      <td>0.222222</td>\n",
       "    </tr>\n",
       "    <tr>\n",
       "      <th>1376239</th>\n",
       "      <td>1279582</td>\n",
       "      <td>2</td>\n",
       "      <td>5</td>\n",
       "      <td>1141.964444</td>\n",
       "      <td>-0.151528</td>\n",
       "      <td>2</td>\n",
       "      <td>1</td>\n",
       "      <td>0.400000</td>\n",
       "      <td>0.400000</td>\n",
       "    </tr>\n",
       "    <tr>\n",
       "      <th>1385082</th>\n",
       "      <td>450190</td>\n",
       "      <td>1</td>\n",
       "      <td>8</td>\n",
       "      <td>28.983056</td>\n",
       "      <td>-28.429167</td>\n",
       "      <td>1</td>\n",
       "      <td>1</td>\n",
       "      <td>0.125000</td>\n",
       "      <td>0.125000</td>\n",
       "    </tr>\n",
       "    <tr>\n",
       "      <th>1395098</th>\n",
       "      <td>1348883</td>\n",
       "      <td>1</td>\n",
       "      <td>2</td>\n",
       "      <td>0.042778</td>\n",
       "      <td>-0.013889</td>\n",
       "      <td>1</td>\n",
       "      <td>1</td>\n",
       "      <td>0.500000</td>\n",
       "      <td>0.500000</td>\n",
       "    </tr>\n",
       "  </tbody>\n",
       "</table>\n",
       "<p>231 rows × 9 columns</p>\n",
       "</div>"
      ]
     },
     "execution_count": 166,
     "metadata": {},
     "output_type": "execute_result"
    }
   ],
   "execution_count": 166
  },
  {
   "cell_type": "code",
   "id": "5a973ff7",
   "metadata": {
    "ExecuteTime": {
     "end_time": "2025-04-04T13:32:30.417268Z",
     "start_time": "2025-04-04T13:32:30.394723Z"
    }
   },
   "source": "data_ml['cart_to_transaction'].min()",
   "outputs": [
    {
     "data": {
      "text/plain": [
       "-1478.0217322097378"
      ]
     },
     "execution_count": 167,
     "metadata": {},
     "output_type": "execute_result"
    }
   ],
   "execution_count": 167
  },
  {
   "cell_type": "code",
   "id": "fc1c8404",
   "metadata": {
    "ExecuteTime": {
     "end_time": "2025-04-04T13:32:31.223217Z",
     "start_time": "2025-04-04T13:32:31.207263Z"
    }
   },
   "source": "data_ml['cart_to_transaction'].max()",
   "outputs": [
    {
     "data": {
      "text/plain": [
       "1198.9725"
      ]
     },
     "execution_count": 168,
     "metadata": {},
     "output_type": "execute_result"
    }
   ],
   "execution_count": 168
  },
  {
   "cell_type": "code",
   "id": "5f32e186",
   "metadata": {
    "ExecuteTime": {
     "end_time": "2025-04-04T13:32:33.646850Z",
     "start_time": "2025-04-04T13:32:33.542500Z"
    }
   },
   "source": [
    "# the higher value, the longer timediff of cart to transaction made. For null values, it can be assume that cart_to_transaction is infinite.\n",
    "data_ml.sort_values('cart_to_transaction', ascending=False).head(100)['purchase_rate'].mean()"
   ],
   "outputs": [
    {
     "data": {
      "text/plain": [
       "0.14905489183730244"
      ]
     },
     "execution_count": 169,
     "metadata": {},
     "output_type": "execute_result"
    }
   ],
   "execution_count": 169
  },
  {
   "cell_type": "code",
   "id": "50da00c4",
   "metadata": {
    "ExecuteTime": {
     "end_time": "2025-04-04T13:32:54.751901Z",
     "start_time": "2025-04-04T13:32:54.719981Z"
    }
   },
   "source": [
    "data_ml[(data_ml['cart_to_transaction']> -1) & (data_ml['cart_to_transaction']< 1)]"
   ],
   "outputs": [
    {
     "data": {
      "text/plain": [
       "         visitorid  num_items_viewed  view_count  firstview_to_cart  \\\n",
       "22         1397089                 1           4           1.941944   \n",
       "60          749945                 1           1        1909.540556   \n",
       "115         855383                 2           2         953.424028   \n",
       "208         592348                 2           5           0.006944   \n",
       "471         701722                 1          27         694.702130   \n",
       "...            ...               ...         ...                ...   \n",
       "1406834     850320                 2           4           0.271667   \n",
       "1406839    1208531                 7          24           0.013889   \n",
       "1406856    1056247                 3          12          23.964167   \n",
       "1406935     284451                 3           7           4.766944   \n",
       "1407238     775282                 4           7           0.005000   \n",
       "\n",
       "         cart_to_transaction  bought_count  purchased  view_rate  \\\n",
       "22                  0.094444             1          1   0.250000   \n",
       "60                  0.105556             1          1   1.000000   \n",
       "115                 0.025556             2          1   1.000000   \n",
       "208                 0.097500             1          1   0.400000   \n",
       "471                 0.166343             2          1   0.037037   \n",
       "...                      ...           ...        ...        ...   \n",
       "1406834             0.016111             1          1   0.500000   \n",
       "1406839             0.015000             1          1   0.291667   \n",
       "1406856             0.106944             1          1   0.250000   \n",
       "1406935             0.361667             1          1   0.428571   \n",
       "1407238             0.025556             1          1   0.571429   \n",
       "\n",
       "         purchase_rate  \n",
       "22            0.250000  \n",
       "60            1.000000  \n",
       "115           1.000000  \n",
       "208           0.200000  \n",
       "471           0.074074  \n",
       "...                ...  \n",
       "1406834       0.250000  \n",
       "1406839       0.041667  \n",
       "1406856       0.083333  \n",
       "1406935       0.142857  \n",
       "1407238       0.142857  \n",
       "\n",
       "[8646 rows x 9 columns]"
      ],
      "text/html": [
       "<div>\n",
       "<style scoped>\n",
       "    .dataframe tbody tr th:only-of-type {\n",
       "        vertical-align: middle;\n",
       "    }\n",
       "\n",
       "    .dataframe tbody tr th {\n",
       "        vertical-align: top;\n",
       "    }\n",
       "\n",
       "    .dataframe thead th {\n",
       "        text-align: right;\n",
       "    }\n",
       "</style>\n",
       "<table border=\"1\" class=\"dataframe\">\n",
       "  <thead>\n",
       "    <tr style=\"text-align: right;\">\n",
       "      <th></th>\n",
       "      <th>visitorid</th>\n",
       "      <th>num_items_viewed</th>\n",
       "      <th>view_count</th>\n",
       "      <th>firstview_to_cart</th>\n",
       "      <th>cart_to_transaction</th>\n",
       "      <th>bought_count</th>\n",
       "      <th>purchased</th>\n",
       "      <th>view_rate</th>\n",
       "      <th>purchase_rate</th>\n",
       "    </tr>\n",
       "  </thead>\n",
       "  <tbody>\n",
       "    <tr>\n",
       "      <th>22</th>\n",
       "      <td>1397089</td>\n",
       "      <td>1</td>\n",
       "      <td>4</td>\n",
       "      <td>1.941944</td>\n",
       "      <td>0.094444</td>\n",
       "      <td>1</td>\n",
       "      <td>1</td>\n",
       "      <td>0.250000</td>\n",
       "      <td>0.250000</td>\n",
       "    </tr>\n",
       "    <tr>\n",
       "      <th>60</th>\n",
       "      <td>749945</td>\n",
       "      <td>1</td>\n",
       "      <td>1</td>\n",
       "      <td>1909.540556</td>\n",
       "      <td>0.105556</td>\n",
       "      <td>1</td>\n",
       "      <td>1</td>\n",
       "      <td>1.000000</td>\n",
       "      <td>1.000000</td>\n",
       "    </tr>\n",
       "    <tr>\n",
       "      <th>115</th>\n",
       "      <td>855383</td>\n",
       "      <td>2</td>\n",
       "      <td>2</td>\n",
       "      <td>953.424028</td>\n",
       "      <td>0.025556</td>\n",
       "      <td>2</td>\n",
       "      <td>1</td>\n",
       "      <td>1.000000</td>\n",
       "      <td>1.000000</td>\n",
       "    </tr>\n",
       "    <tr>\n",
       "      <th>208</th>\n",
       "      <td>592348</td>\n",
       "      <td>2</td>\n",
       "      <td>5</td>\n",
       "      <td>0.006944</td>\n",
       "      <td>0.097500</td>\n",
       "      <td>1</td>\n",
       "      <td>1</td>\n",
       "      <td>0.400000</td>\n",
       "      <td>0.200000</td>\n",
       "    </tr>\n",
       "    <tr>\n",
       "      <th>471</th>\n",
       "      <td>701722</td>\n",
       "      <td>1</td>\n",
       "      <td>27</td>\n",
       "      <td>694.702130</td>\n",
       "      <td>0.166343</td>\n",
       "      <td>2</td>\n",
       "      <td>1</td>\n",
       "      <td>0.037037</td>\n",
       "      <td>0.074074</td>\n",
       "    </tr>\n",
       "    <tr>\n",
       "      <th>...</th>\n",
       "      <td>...</td>\n",
       "      <td>...</td>\n",
       "      <td>...</td>\n",
       "      <td>...</td>\n",
       "      <td>...</td>\n",
       "      <td>...</td>\n",
       "      <td>...</td>\n",
       "      <td>...</td>\n",
       "      <td>...</td>\n",
       "    </tr>\n",
       "    <tr>\n",
       "      <th>1406834</th>\n",
       "      <td>850320</td>\n",
       "      <td>2</td>\n",
       "      <td>4</td>\n",
       "      <td>0.271667</td>\n",
       "      <td>0.016111</td>\n",
       "      <td>1</td>\n",
       "      <td>1</td>\n",
       "      <td>0.500000</td>\n",
       "      <td>0.250000</td>\n",
       "    </tr>\n",
       "    <tr>\n",
       "      <th>1406839</th>\n",
       "      <td>1208531</td>\n",
       "      <td>7</td>\n",
       "      <td>24</td>\n",
       "      <td>0.013889</td>\n",
       "      <td>0.015000</td>\n",
       "      <td>1</td>\n",
       "      <td>1</td>\n",
       "      <td>0.291667</td>\n",
       "      <td>0.041667</td>\n",
       "    </tr>\n",
       "    <tr>\n",
       "      <th>1406856</th>\n",
       "      <td>1056247</td>\n",
       "      <td>3</td>\n",
       "      <td>12</td>\n",
       "      <td>23.964167</td>\n",
       "      <td>0.106944</td>\n",
       "      <td>1</td>\n",
       "      <td>1</td>\n",
       "      <td>0.250000</td>\n",
       "      <td>0.083333</td>\n",
       "    </tr>\n",
       "    <tr>\n",
       "      <th>1406935</th>\n",
       "      <td>284451</td>\n",
       "      <td>3</td>\n",
       "      <td>7</td>\n",
       "      <td>4.766944</td>\n",
       "      <td>0.361667</td>\n",
       "      <td>1</td>\n",
       "      <td>1</td>\n",
       "      <td>0.428571</td>\n",
       "      <td>0.142857</td>\n",
       "    </tr>\n",
       "    <tr>\n",
       "      <th>1407238</th>\n",
       "      <td>775282</td>\n",
       "      <td>4</td>\n",
       "      <td>7</td>\n",
       "      <td>0.005000</td>\n",
       "      <td>0.025556</td>\n",
       "      <td>1</td>\n",
       "      <td>1</td>\n",
       "      <td>0.571429</td>\n",
       "      <td>0.142857</td>\n",
       "    </tr>\n",
       "  </tbody>\n",
       "</table>\n",
       "<p>8646 rows × 9 columns</p>\n",
       "</div>"
      ]
     },
     "execution_count": 170,
     "metadata": {},
     "output_type": "execute_result"
    }
   ],
   "execution_count": 170
  },
  {
   "cell_type": "code",
   "id": "888d7bf9",
   "metadata": {
    "scrolled": false,
    "ExecuteTime": {
     "end_time": "2025-04-04T08:51:17.526700Z",
     "start_time": "2025-04-04T08:51:17.494924Z"
    }
   },
   "source": [
    "# In this case, num_items_viewed must be low\n",
    "data_ml[(data_ml['view_rate'] == 1) & data_ml['purchase_rate'] != 0]"
   ],
   "outputs": [
    {
     "data": {
      "text/plain": [
       "       visitorid  num_items_viewed  view_count  firstview_to_cart  \\\n",
       "0        1035684                 1           1           0.005000   \n",
       "8        1126660                 1           1        1555.202222   \n",
       "13        918415                 1           1         -58.547500   \n",
       "31        146458                 1           1                NaN   \n",
       "32        472290                 1           1           0.004167   \n",
       "...          ...               ...         ...                ...   \n",
       "25615     450098                 2           2        2011.006389   \n",
       "25633    1228166                 1           1         428.634167   \n",
       "25640    1292722                 2           2           0.010000   \n",
       "25662     837233                 1           1           0.006111   \n",
       "25675     596678                 1           1        1919.447500   \n",
       "\n",
       "       cart_to_transaction  bought_count  purchased  view_rate  purchase_rate  \n",
       "0                 0.095000             1          1        1.0            1.0  \n",
       "8                 0.045000             1          1        1.0            1.0  \n",
       "13               49.907222             1          1        1.0            1.0  \n",
       "31                     NaN             1          1        1.0            1.0  \n",
       "32                0.982222             5          1        1.0            5.0  \n",
       "...                    ...           ...        ...        ...            ...  \n",
       "25615             0.008056             1          1        1.0            0.5  \n",
       "25633             0.107222             1          1        1.0            1.0  \n",
       "25640             0.042222             1          1        1.0            0.5  \n",
       "25662             0.621111             1          1        1.0            1.0  \n",
       "25675             0.008056             1          1        1.0            1.0  \n",
       "\n",
       "[2908 rows x 9 columns]"
      ],
      "text/html": [
       "<div>\n",
       "<style scoped>\n",
       "    .dataframe tbody tr th:only-of-type {\n",
       "        vertical-align: middle;\n",
       "    }\n",
       "\n",
       "    .dataframe tbody tr th {\n",
       "        vertical-align: top;\n",
       "    }\n",
       "\n",
       "    .dataframe thead th {\n",
       "        text-align: right;\n",
       "    }\n",
       "</style>\n",
       "<table border=\"1\" class=\"dataframe\">\n",
       "  <thead>\n",
       "    <tr style=\"text-align: right;\">\n",
       "      <th></th>\n",
       "      <th>visitorid</th>\n",
       "      <th>num_items_viewed</th>\n",
       "      <th>view_count</th>\n",
       "      <th>firstview_to_cart</th>\n",
       "      <th>cart_to_transaction</th>\n",
       "      <th>bought_count</th>\n",
       "      <th>purchased</th>\n",
       "      <th>view_rate</th>\n",
       "      <th>purchase_rate</th>\n",
       "    </tr>\n",
       "  </thead>\n",
       "  <tbody>\n",
       "    <tr>\n",
       "      <th>0</th>\n",
       "      <td>1035684</td>\n",
       "      <td>1</td>\n",
       "      <td>1</td>\n",
       "      <td>0.005000</td>\n",
       "      <td>0.095000</td>\n",
       "      <td>1</td>\n",
       "      <td>1</td>\n",
       "      <td>1.0</td>\n",
       "      <td>1.0</td>\n",
       "    </tr>\n",
       "    <tr>\n",
       "      <th>8</th>\n",
       "      <td>1126660</td>\n",
       "      <td>1</td>\n",
       "      <td>1</td>\n",
       "      <td>1555.202222</td>\n",
       "      <td>0.045000</td>\n",
       "      <td>1</td>\n",
       "      <td>1</td>\n",
       "      <td>1.0</td>\n",
       "      <td>1.0</td>\n",
       "    </tr>\n",
       "    <tr>\n",
       "      <th>13</th>\n",
       "      <td>918415</td>\n",
       "      <td>1</td>\n",
       "      <td>1</td>\n",
       "      <td>-58.547500</td>\n",
       "      <td>49.907222</td>\n",
       "      <td>1</td>\n",
       "      <td>1</td>\n",
       "      <td>1.0</td>\n",
       "      <td>1.0</td>\n",
       "    </tr>\n",
       "    <tr>\n",
       "      <th>31</th>\n",
       "      <td>146458</td>\n",
       "      <td>1</td>\n",
       "      <td>1</td>\n",
       "      <td>NaN</td>\n",
       "      <td>NaN</td>\n",
       "      <td>1</td>\n",
       "      <td>1</td>\n",
       "      <td>1.0</td>\n",
       "      <td>1.0</td>\n",
       "    </tr>\n",
       "    <tr>\n",
       "      <th>32</th>\n",
       "      <td>472290</td>\n",
       "      <td>1</td>\n",
       "      <td>1</td>\n",
       "      <td>0.004167</td>\n",
       "      <td>0.982222</td>\n",
       "      <td>5</td>\n",
       "      <td>1</td>\n",
       "      <td>1.0</td>\n",
       "      <td>5.0</td>\n",
       "    </tr>\n",
       "    <tr>\n",
       "      <th>...</th>\n",
       "      <td>...</td>\n",
       "      <td>...</td>\n",
       "      <td>...</td>\n",
       "      <td>...</td>\n",
       "      <td>...</td>\n",
       "      <td>...</td>\n",
       "      <td>...</td>\n",
       "      <td>...</td>\n",
       "      <td>...</td>\n",
       "    </tr>\n",
       "    <tr>\n",
       "      <th>25615</th>\n",
       "      <td>450098</td>\n",
       "      <td>2</td>\n",
       "      <td>2</td>\n",
       "      <td>2011.006389</td>\n",
       "      <td>0.008056</td>\n",
       "      <td>1</td>\n",
       "      <td>1</td>\n",
       "      <td>1.0</td>\n",
       "      <td>0.5</td>\n",
       "    </tr>\n",
       "    <tr>\n",
       "      <th>25633</th>\n",
       "      <td>1228166</td>\n",
       "      <td>1</td>\n",
       "      <td>1</td>\n",
       "      <td>428.634167</td>\n",
       "      <td>0.107222</td>\n",
       "      <td>1</td>\n",
       "      <td>1</td>\n",
       "      <td>1.0</td>\n",
       "      <td>1.0</td>\n",
       "    </tr>\n",
       "    <tr>\n",
       "      <th>25640</th>\n",
       "      <td>1292722</td>\n",
       "      <td>2</td>\n",
       "      <td>2</td>\n",
       "      <td>0.010000</td>\n",
       "      <td>0.042222</td>\n",
       "      <td>1</td>\n",
       "      <td>1</td>\n",
       "      <td>1.0</td>\n",
       "      <td>0.5</td>\n",
       "    </tr>\n",
       "    <tr>\n",
       "      <th>25662</th>\n",
       "      <td>837233</td>\n",
       "      <td>1</td>\n",
       "      <td>1</td>\n",
       "      <td>0.006111</td>\n",
       "      <td>0.621111</td>\n",
       "      <td>1</td>\n",
       "      <td>1</td>\n",
       "      <td>1.0</td>\n",
       "      <td>1.0</td>\n",
       "    </tr>\n",
       "    <tr>\n",
       "      <th>25675</th>\n",
       "      <td>596678</td>\n",
       "      <td>1</td>\n",
       "      <td>1</td>\n",
       "      <td>1919.447500</td>\n",
       "      <td>0.008056</td>\n",
       "      <td>1</td>\n",
       "      <td>1</td>\n",
       "      <td>1.0</td>\n",
       "      <td>1.0</td>\n",
       "    </tr>\n",
       "  </tbody>\n",
       "</table>\n",
       "<p>2908 rows × 9 columns</p>\n",
       "</div>"
      ]
     },
     "execution_count": 102,
     "metadata": {},
     "output_type": "execute_result"
    }
   ],
   "execution_count": 102
  },
  {
   "cell_type": "code",
   "id": "f8c1f683",
   "metadata": {
    "scrolled": true,
    "ExecuteTime": {
     "end_time": "2025-04-04T13:33:08.680186Z",
     "start_time": "2025-04-04T13:33:08.643049Z"
    }
   },
   "source": "data_ml[data_ml['view_rate'].isnull()]",
   "outputs": [
    {
     "data": {
      "text/plain": [
       "         visitorid  num_items_viewed  view_count  firstview_to_cart  \\\n",
       "1           376052                 0           0                NaN   \n",
       "4           428164                 0           0                NaN   \n",
       "6          1177470                 0           0                NaN   \n",
       "31         1065275                 0           0                NaN   \n",
       "40         1074559                 0           0                NaN   \n",
       "...            ...               ...         ...                ...   \n",
       "1407555     604430                 0           0                NaN   \n",
       "1407563     354803                 0           0                NaN   \n",
       "1407569     290630                 0           0                NaN   \n",
       "1407573    1209143                 0           0                NaN   \n",
       "1407577     693184                 0           0                NaN   \n",
       "\n",
       "         cart_to_transaction  bought_count  purchased  view_rate  \\\n",
       "1                        NaN             0          0        NaN   \n",
       "4                        NaN             0          0        NaN   \n",
       "6                        NaN             0          0        NaN   \n",
       "31                       NaN             0          0        NaN   \n",
       "40                       NaN             0          0        NaN   \n",
       "...                      ...           ...        ...        ...   \n",
       "1407555                  NaN             0          0        NaN   \n",
       "1407563                  NaN             0          0        NaN   \n",
       "1407569                  NaN             0          0        NaN   \n",
       "1407573                  NaN             0          0        NaN   \n",
       "1407577                  NaN             0          0        NaN   \n",
       "\n",
       "         purchase_rate  \n",
       "1                  NaN  \n",
       "4                  NaN  \n",
       "6                  NaN  \n",
       "31                 NaN  \n",
       "40                 NaN  \n",
       "...                ...  \n",
       "1407555            NaN  \n",
       "1407563            NaN  \n",
       "1407569            NaN  \n",
       "1407573            NaN  \n",
       "1407577            NaN  \n",
       "\n",
       "[174551 rows x 9 columns]"
      ],
      "text/html": [
       "<div>\n",
       "<style scoped>\n",
       "    .dataframe tbody tr th:only-of-type {\n",
       "        vertical-align: middle;\n",
       "    }\n",
       "\n",
       "    .dataframe tbody tr th {\n",
       "        vertical-align: top;\n",
       "    }\n",
       "\n",
       "    .dataframe thead th {\n",
       "        text-align: right;\n",
       "    }\n",
       "</style>\n",
       "<table border=\"1\" class=\"dataframe\">\n",
       "  <thead>\n",
       "    <tr style=\"text-align: right;\">\n",
       "      <th></th>\n",
       "      <th>visitorid</th>\n",
       "      <th>num_items_viewed</th>\n",
       "      <th>view_count</th>\n",
       "      <th>firstview_to_cart</th>\n",
       "      <th>cart_to_transaction</th>\n",
       "      <th>bought_count</th>\n",
       "      <th>purchased</th>\n",
       "      <th>view_rate</th>\n",
       "      <th>purchase_rate</th>\n",
       "    </tr>\n",
       "  </thead>\n",
       "  <tbody>\n",
       "    <tr>\n",
       "      <th>1</th>\n",
       "      <td>376052</td>\n",
       "      <td>0</td>\n",
       "      <td>0</td>\n",
       "      <td>NaN</td>\n",
       "      <td>NaN</td>\n",
       "      <td>0</td>\n",
       "      <td>0</td>\n",
       "      <td>NaN</td>\n",
       "      <td>NaN</td>\n",
       "    </tr>\n",
       "    <tr>\n",
       "      <th>4</th>\n",
       "      <td>428164</td>\n",
       "      <td>0</td>\n",
       "      <td>0</td>\n",
       "      <td>NaN</td>\n",
       "      <td>NaN</td>\n",
       "      <td>0</td>\n",
       "      <td>0</td>\n",
       "      <td>NaN</td>\n",
       "      <td>NaN</td>\n",
       "    </tr>\n",
       "    <tr>\n",
       "      <th>6</th>\n",
       "      <td>1177470</td>\n",
       "      <td>0</td>\n",
       "      <td>0</td>\n",
       "      <td>NaN</td>\n",
       "      <td>NaN</td>\n",
       "      <td>0</td>\n",
       "      <td>0</td>\n",
       "      <td>NaN</td>\n",
       "      <td>NaN</td>\n",
       "    </tr>\n",
       "    <tr>\n",
       "      <th>31</th>\n",
       "      <td>1065275</td>\n",
       "      <td>0</td>\n",
       "      <td>0</td>\n",
       "      <td>NaN</td>\n",
       "      <td>NaN</td>\n",
       "      <td>0</td>\n",
       "      <td>0</td>\n",
       "      <td>NaN</td>\n",
       "      <td>NaN</td>\n",
       "    </tr>\n",
       "    <tr>\n",
       "      <th>40</th>\n",
       "      <td>1074559</td>\n",
       "      <td>0</td>\n",
       "      <td>0</td>\n",
       "      <td>NaN</td>\n",
       "      <td>NaN</td>\n",
       "      <td>0</td>\n",
       "      <td>0</td>\n",
       "      <td>NaN</td>\n",
       "      <td>NaN</td>\n",
       "    </tr>\n",
       "    <tr>\n",
       "      <th>...</th>\n",
       "      <td>...</td>\n",
       "      <td>...</td>\n",
       "      <td>...</td>\n",
       "      <td>...</td>\n",
       "      <td>...</td>\n",
       "      <td>...</td>\n",
       "      <td>...</td>\n",
       "      <td>...</td>\n",
       "      <td>...</td>\n",
       "    </tr>\n",
       "    <tr>\n",
       "      <th>1407555</th>\n",
       "      <td>604430</td>\n",
       "      <td>0</td>\n",
       "      <td>0</td>\n",
       "      <td>NaN</td>\n",
       "      <td>NaN</td>\n",
       "      <td>0</td>\n",
       "      <td>0</td>\n",
       "      <td>NaN</td>\n",
       "      <td>NaN</td>\n",
       "    </tr>\n",
       "    <tr>\n",
       "      <th>1407563</th>\n",
       "      <td>354803</td>\n",
       "      <td>0</td>\n",
       "      <td>0</td>\n",
       "      <td>NaN</td>\n",
       "      <td>NaN</td>\n",
       "      <td>0</td>\n",
       "      <td>0</td>\n",
       "      <td>NaN</td>\n",
       "      <td>NaN</td>\n",
       "    </tr>\n",
       "    <tr>\n",
       "      <th>1407569</th>\n",
       "      <td>290630</td>\n",
       "      <td>0</td>\n",
       "      <td>0</td>\n",
       "      <td>NaN</td>\n",
       "      <td>NaN</td>\n",
       "      <td>0</td>\n",
       "      <td>0</td>\n",
       "      <td>NaN</td>\n",
       "      <td>NaN</td>\n",
       "    </tr>\n",
       "    <tr>\n",
       "      <th>1407573</th>\n",
       "      <td>1209143</td>\n",
       "      <td>0</td>\n",
       "      <td>0</td>\n",
       "      <td>NaN</td>\n",
       "      <td>NaN</td>\n",
       "      <td>0</td>\n",
       "      <td>0</td>\n",
       "      <td>NaN</td>\n",
       "      <td>NaN</td>\n",
       "    </tr>\n",
       "    <tr>\n",
       "      <th>1407577</th>\n",
       "      <td>693184</td>\n",
       "      <td>0</td>\n",
       "      <td>0</td>\n",
       "      <td>NaN</td>\n",
       "      <td>NaN</td>\n",
       "      <td>0</td>\n",
       "      <td>0</td>\n",
       "      <td>NaN</td>\n",
       "      <td>NaN</td>\n",
       "    </tr>\n",
       "  </tbody>\n",
       "</table>\n",
       "<p>174551 rows × 9 columns</p>\n",
       "</div>"
      ]
     },
     "execution_count": 173,
     "metadata": {},
     "output_type": "execute_result"
    }
   ],
   "execution_count": 173
  },
  {
   "metadata": {
    "ExecuteTime": {
     "end_time": "2025-04-04T13:33:10.112881Z",
     "start_time": "2025-04-04T13:33:09.719404Z"
    }
   },
   "cell_type": "code",
   "source": "data_ml.describe()",
   "id": "ff214a2f98b1aa9b",
   "outputs": [
    {
     "data": {
      "text/plain": [
       "          visitorid  num_items_viewed    view_count  firstview_to_cart  \\\n",
       "count  1.407151e+06      1.407151e+06  1.407151e+06        9791.000000   \n",
       "mean   7.037826e+05      1.358419e+00  1.855062e+00         428.554127   \n",
       "std    4.063345e+05      6.520509e+00  1.083682e+01         690.992677   \n",
       "min    0.000000e+00      0.000000e+00  0.000000e+00        -595.400764   \n",
       "25%    3.518945e+05      1.000000e+00  1.000000e+00           0.055000   \n",
       "50%    7.037700e+05      1.000000e+00  1.000000e+00          21.626667   \n",
       "75%    1.055670e+06      1.000000e+00  2.000000e+00         627.864167   \n",
       "max    1.407579e+06      3.280000e+03  5.722000e+03        3276.660278   \n",
       "\n",
       "       cart_to_transaction  bought_count     purchased     view_rate  \\\n",
       "count          9791.000000  1.407151e+06  1.407151e+06  1.232600e+06   \n",
       "mean              3.279050  1.620295e-02  7.916705e-03  8.830757e-01   \n",
       "std              39.748556  8.468844e-01  8.862300e-02  2.197732e-01   \n",
       "min           -1478.021732  0.000000e+00  0.000000e+00  3.546099e-03   \n",
       "25%               0.046319  0.000000e+00  0.000000e+00  1.000000e+00   \n",
       "50%               0.089444  0.000000e+00  0.000000e+00  1.000000e+00   \n",
       "75%               0.219056  0.000000e+00  0.000000e+00  1.000000e+00   \n",
       "max            1198.972500  5.750000e+02  1.000000e+00  1.000000e+00   \n",
       "\n",
       "       purchase_rate  \n",
       "count   1.232600e+06  \n",
       "mean    3.987579e-03  \n",
       "std     5.674046e-02  \n",
       "min     0.000000e+00  \n",
       "25%     0.000000e+00  \n",
       "50%     0.000000e+00  \n",
       "75%     0.000000e+00  \n",
       "max     6.000000e+00  "
      ],
      "text/html": [
       "<div>\n",
       "<style scoped>\n",
       "    .dataframe tbody tr th:only-of-type {\n",
       "        vertical-align: middle;\n",
       "    }\n",
       "\n",
       "    .dataframe tbody tr th {\n",
       "        vertical-align: top;\n",
       "    }\n",
       "\n",
       "    .dataframe thead th {\n",
       "        text-align: right;\n",
       "    }\n",
       "</style>\n",
       "<table border=\"1\" class=\"dataframe\">\n",
       "  <thead>\n",
       "    <tr style=\"text-align: right;\">\n",
       "      <th></th>\n",
       "      <th>visitorid</th>\n",
       "      <th>num_items_viewed</th>\n",
       "      <th>view_count</th>\n",
       "      <th>firstview_to_cart</th>\n",
       "      <th>cart_to_transaction</th>\n",
       "      <th>bought_count</th>\n",
       "      <th>purchased</th>\n",
       "      <th>view_rate</th>\n",
       "      <th>purchase_rate</th>\n",
       "    </tr>\n",
       "  </thead>\n",
       "  <tbody>\n",
       "    <tr>\n",
       "      <th>count</th>\n",
       "      <td>1.407151e+06</td>\n",
       "      <td>1.407151e+06</td>\n",
       "      <td>1.407151e+06</td>\n",
       "      <td>9791.000000</td>\n",
       "      <td>9791.000000</td>\n",
       "      <td>1.407151e+06</td>\n",
       "      <td>1.407151e+06</td>\n",
       "      <td>1.232600e+06</td>\n",
       "      <td>1.232600e+06</td>\n",
       "    </tr>\n",
       "    <tr>\n",
       "      <th>mean</th>\n",
       "      <td>7.037826e+05</td>\n",
       "      <td>1.358419e+00</td>\n",
       "      <td>1.855062e+00</td>\n",
       "      <td>428.554127</td>\n",
       "      <td>3.279050</td>\n",
       "      <td>1.620295e-02</td>\n",
       "      <td>7.916705e-03</td>\n",
       "      <td>8.830757e-01</td>\n",
       "      <td>3.987579e-03</td>\n",
       "    </tr>\n",
       "    <tr>\n",
       "      <th>std</th>\n",
       "      <td>4.063345e+05</td>\n",
       "      <td>6.520509e+00</td>\n",
       "      <td>1.083682e+01</td>\n",
       "      <td>690.992677</td>\n",
       "      <td>39.748556</td>\n",
       "      <td>8.468844e-01</td>\n",
       "      <td>8.862300e-02</td>\n",
       "      <td>2.197732e-01</td>\n",
       "      <td>5.674046e-02</td>\n",
       "    </tr>\n",
       "    <tr>\n",
       "      <th>min</th>\n",
       "      <td>0.000000e+00</td>\n",
       "      <td>0.000000e+00</td>\n",
       "      <td>0.000000e+00</td>\n",
       "      <td>-595.400764</td>\n",
       "      <td>-1478.021732</td>\n",
       "      <td>0.000000e+00</td>\n",
       "      <td>0.000000e+00</td>\n",
       "      <td>3.546099e-03</td>\n",
       "      <td>0.000000e+00</td>\n",
       "    </tr>\n",
       "    <tr>\n",
       "      <th>25%</th>\n",
       "      <td>3.518945e+05</td>\n",
       "      <td>1.000000e+00</td>\n",
       "      <td>1.000000e+00</td>\n",
       "      <td>0.055000</td>\n",
       "      <td>0.046319</td>\n",
       "      <td>0.000000e+00</td>\n",
       "      <td>0.000000e+00</td>\n",
       "      <td>1.000000e+00</td>\n",
       "      <td>0.000000e+00</td>\n",
       "    </tr>\n",
       "    <tr>\n",
       "      <th>50%</th>\n",
       "      <td>7.037700e+05</td>\n",
       "      <td>1.000000e+00</td>\n",
       "      <td>1.000000e+00</td>\n",
       "      <td>21.626667</td>\n",
       "      <td>0.089444</td>\n",
       "      <td>0.000000e+00</td>\n",
       "      <td>0.000000e+00</td>\n",
       "      <td>1.000000e+00</td>\n",
       "      <td>0.000000e+00</td>\n",
       "    </tr>\n",
       "    <tr>\n",
       "      <th>75%</th>\n",
       "      <td>1.055670e+06</td>\n",
       "      <td>1.000000e+00</td>\n",
       "      <td>2.000000e+00</td>\n",
       "      <td>627.864167</td>\n",
       "      <td>0.219056</td>\n",
       "      <td>0.000000e+00</td>\n",
       "      <td>0.000000e+00</td>\n",
       "      <td>1.000000e+00</td>\n",
       "      <td>0.000000e+00</td>\n",
       "    </tr>\n",
       "    <tr>\n",
       "      <th>max</th>\n",
       "      <td>1.407579e+06</td>\n",
       "      <td>3.280000e+03</td>\n",
       "      <td>5.722000e+03</td>\n",
       "      <td>3276.660278</td>\n",
       "      <td>1198.972500</td>\n",
       "      <td>5.750000e+02</td>\n",
       "      <td>1.000000e+00</td>\n",
       "      <td>1.000000e+00</td>\n",
       "      <td>6.000000e+00</td>\n",
       "    </tr>\n",
       "  </tbody>\n",
       "</table>\n",
       "</div>"
      ]
     },
     "execution_count": 174,
     "metadata": {},
     "output_type": "execute_result"
    }
   ],
   "execution_count": 174
  },
  {
   "cell_type": "code",
   "id": "7c22e699",
   "metadata": {
    "ExecuteTime": {
     "end_time": "2025-04-04T13:33:11.809179Z",
     "start_time": "2025-04-04T13:33:11.750237Z"
    }
   },
   "source": [
    "# drop null value in view_rate\n",
    "data_ml = data_ml.dropna(subset=['view_rate'])"
   ],
   "outputs": [],
   "execution_count": 175
  },
  {
   "cell_type": "code",
   "id": "6261760d",
   "metadata": {
    "ExecuteTime": {
     "end_time": "2025-04-04T13:33:14.689972Z",
     "start_time": "2025-04-04T13:33:14.674657Z"
    }
   },
   "source": "data_ml['purchase_rate'].isnull().value_counts()",
   "outputs": [
    {
     "data": {
      "text/plain": [
       "purchase_rate\n",
       "False    1232600\n",
       "Name: count, dtype: int64"
      ]
     },
     "execution_count": 176,
     "metadata": {},
     "output_type": "execute_result"
    }
   ],
   "execution_count": 176
  },
  {
   "metadata": {
    "ExecuteTime": {
     "end_time": "2025-04-04T13:33:25.102281Z",
     "start_time": "2025-04-04T13:33:24.800568Z"
    }
   },
   "cell_type": "code",
   "source": "data_ml.describe()",
   "id": "55154c9427b1b9c3",
   "outputs": [
    {
     "data": {
      "text/plain": [
       "          visitorid  num_items_viewed    view_count  firstview_to_cart  \\\n",
       "count  1.232600e+06      1.232600e+06  1.232600e+06        9791.000000   \n",
       "mean   7.038277e+05      1.550787e+00  2.117761e+00         428.554127   \n",
       "std    4.063717e+05      6.945476e+00  1.155468e+01         690.992677   \n",
       "min    0.000000e+00      1.000000e+00  1.000000e+00        -595.400764   \n",
       "25%    3.519708e+05      1.000000e+00  1.000000e+00           0.055000   \n",
       "50%    7.038345e+05      1.000000e+00  1.000000e+00          21.626667   \n",
       "75%    1.055768e+06      1.000000e+00  2.000000e+00         627.864167   \n",
       "max    1.407579e+06      3.280000e+03  5.722000e+03        3276.660278   \n",
       "\n",
       "       cart_to_transaction  bought_count     purchased     view_rate  \\\n",
       "count          9791.000000  1.232600e+06  1.232600e+06  1.232600e+06   \n",
       "mean              3.279050  1.849748e-02  9.037806e-03  8.830757e-01   \n",
       "std              39.748556  9.048408e-01  9.463684e-02  2.197732e-01   \n",
       "min           -1478.021732  0.000000e+00  0.000000e+00  3.546099e-03   \n",
       "25%               0.046319  0.000000e+00  0.000000e+00  1.000000e+00   \n",
       "50%               0.089444  0.000000e+00  0.000000e+00  1.000000e+00   \n",
       "75%               0.219056  0.000000e+00  0.000000e+00  1.000000e+00   \n",
       "max            1198.972500  5.750000e+02  1.000000e+00  1.000000e+00   \n",
       "\n",
       "       purchase_rate  \n",
       "count   1.232600e+06  \n",
       "mean    3.987579e-03  \n",
       "std     5.674046e-02  \n",
       "min     0.000000e+00  \n",
       "25%     0.000000e+00  \n",
       "50%     0.000000e+00  \n",
       "75%     0.000000e+00  \n",
       "max     6.000000e+00  "
      ],
      "text/html": [
       "<div>\n",
       "<style scoped>\n",
       "    .dataframe tbody tr th:only-of-type {\n",
       "        vertical-align: middle;\n",
       "    }\n",
       "\n",
       "    .dataframe tbody tr th {\n",
       "        vertical-align: top;\n",
       "    }\n",
       "\n",
       "    .dataframe thead th {\n",
       "        text-align: right;\n",
       "    }\n",
       "</style>\n",
       "<table border=\"1\" class=\"dataframe\">\n",
       "  <thead>\n",
       "    <tr style=\"text-align: right;\">\n",
       "      <th></th>\n",
       "      <th>visitorid</th>\n",
       "      <th>num_items_viewed</th>\n",
       "      <th>view_count</th>\n",
       "      <th>firstview_to_cart</th>\n",
       "      <th>cart_to_transaction</th>\n",
       "      <th>bought_count</th>\n",
       "      <th>purchased</th>\n",
       "      <th>view_rate</th>\n",
       "      <th>purchase_rate</th>\n",
       "    </tr>\n",
       "  </thead>\n",
       "  <tbody>\n",
       "    <tr>\n",
       "      <th>count</th>\n",
       "      <td>1.232600e+06</td>\n",
       "      <td>1.232600e+06</td>\n",
       "      <td>1.232600e+06</td>\n",
       "      <td>9791.000000</td>\n",
       "      <td>9791.000000</td>\n",
       "      <td>1.232600e+06</td>\n",
       "      <td>1.232600e+06</td>\n",
       "      <td>1.232600e+06</td>\n",
       "      <td>1.232600e+06</td>\n",
       "    </tr>\n",
       "    <tr>\n",
       "      <th>mean</th>\n",
       "      <td>7.038277e+05</td>\n",
       "      <td>1.550787e+00</td>\n",
       "      <td>2.117761e+00</td>\n",
       "      <td>428.554127</td>\n",
       "      <td>3.279050</td>\n",
       "      <td>1.849748e-02</td>\n",
       "      <td>9.037806e-03</td>\n",
       "      <td>8.830757e-01</td>\n",
       "      <td>3.987579e-03</td>\n",
       "    </tr>\n",
       "    <tr>\n",
       "      <th>std</th>\n",
       "      <td>4.063717e+05</td>\n",
       "      <td>6.945476e+00</td>\n",
       "      <td>1.155468e+01</td>\n",
       "      <td>690.992677</td>\n",
       "      <td>39.748556</td>\n",
       "      <td>9.048408e-01</td>\n",
       "      <td>9.463684e-02</td>\n",
       "      <td>2.197732e-01</td>\n",
       "      <td>5.674046e-02</td>\n",
       "    </tr>\n",
       "    <tr>\n",
       "      <th>min</th>\n",
       "      <td>0.000000e+00</td>\n",
       "      <td>1.000000e+00</td>\n",
       "      <td>1.000000e+00</td>\n",
       "      <td>-595.400764</td>\n",
       "      <td>-1478.021732</td>\n",
       "      <td>0.000000e+00</td>\n",
       "      <td>0.000000e+00</td>\n",
       "      <td>3.546099e-03</td>\n",
       "      <td>0.000000e+00</td>\n",
       "    </tr>\n",
       "    <tr>\n",
       "      <th>25%</th>\n",
       "      <td>3.519708e+05</td>\n",
       "      <td>1.000000e+00</td>\n",
       "      <td>1.000000e+00</td>\n",
       "      <td>0.055000</td>\n",
       "      <td>0.046319</td>\n",
       "      <td>0.000000e+00</td>\n",
       "      <td>0.000000e+00</td>\n",
       "      <td>1.000000e+00</td>\n",
       "      <td>0.000000e+00</td>\n",
       "    </tr>\n",
       "    <tr>\n",
       "      <th>50%</th>\n",
       "      <td>7.038345e+05</td>\n",
       "      <td>1.000000e+00</td>\n",
       "      <td>1.000000e+00</td>\n",
       "      <td>21.626667</td>\n",
       "      <td>0.089444</td>\n",
       "      <td>0.000000e+00</td>\n",
       "      <td>0.000000e+00</td>\n",
       "      <td>1.000000e+00</td>\n",
       "      <td>0.000000e+00</td>\n",
       "    </tr>\n",
       "    <tr>\n",
       "      <th>75%</th>\n",
       "      <td>1.055768e+06</td>\n",
       "      <td>1.000000e+00</td>\n",
       "      <td>2.000000e+00</td>\n",
       "      <td>627.864167</td>\n",
       "      <td>0.219056</td>\n",
       "      <td>0.000000e+00</td>\n",
       "      <td>0.000000e+00</td>\n",
       "      <td>1.000000e+00</td>\n",
       "      <td>0.000000e+00</td>\n",
       "    </tr>\n",
       "    <tr>\n",
       "      <th>max</th>\n",
       "      <td>1.407579e+06</td>\n",
       "      <td>3.280000e+03</td>\n",
       "      <td>5.722000e+03</td>\n",
       "      <td>3276.660278</td>\n",
       "      <td>1198.972500</td>\n",
       "      <td>5.750000e+02</td>\n",
       "      <td>1.000000e+00</td>\n",
       "      <td>1.000000e+00</td>\n",
       "      <td>6.000000e+00</td>\n",
       "    </tr>\n",
       "  </tbody>\n",
       "</table>\n",
       "</div>"
      ]
     },
     "execution_count": 177,
     "metadata": {},
     "output_type": "execute_result"
    }
   ],
   "execution_count": 177
  },
  {
   "cell_type": "code",
   "id": "29b659fd",
   "metadata": {
    "ExecuteTime": {
     "end_time": "2025-04-04T13:34:23.875419Z",
     "start_time": "2025-04-04T13:34:22.026635Z"
    }
   },
   "source": [
    "data_ml.to_csv('df.csv', index=False)"
   ],
   "outputs": [],
   "execution_count": 178
  },
  {
   "cell_type": "code",
   "id": "75a6a99c",
   "metadata": {
    "scrolled": true,
    "ExecuteTime": {
     "end_time": "2025-04-04T13:37:32.875596Z",
     "start_time": "2025-04-04T13:37:32.507024Z"
    }
   },
   "source": [
    "df = pd.read_csv('df.csv')\n",
    "df.head()"
   ],
   "outputs": [
    {
     "data": {
      "text/plain": [
       "   visitorid  num_items_viewed  view_count  firstview_to_cart  \\\n",
       "0     512286                 1           1                NaN   \n",
       "1    1063766                 8          13                NaN   \n",
       "2      58180                 4           6                NaN   \n",
       "3    1000730                 1           1                NaN   \n",
       "4     823230                 1           1                NaN   \n",
       "\n",
       "   cart_to_transaction  bought_count  purchased  view_rate  purchase_rate  \n",
       "0                  NaN             0          0   1.000000            0.0  \n",
       "1                  NaN             0          0   0.615385            0.0  \n",
       "2                  NaN             0          0   0.666667            0.0  \n",
       "3                  NaN             0          0   1.000000            0.0  \n",
       "4                  NaN             0          0   1.000000            0.0  "
      ],
      "text/html": [
       "<div>\n",
       "<style scoped>\n",
       "    .dataframe tbody tr th:only-of-type {\n",
       "        vertical-align: middle;\n",
       "    }\n",
       "\n",
       "    .dataframe tbody tr th {\n",
       "        vertical-align: top;\n",
       "    }\n",
       "\n",
       "    .dataframe thead th {\n",
       "        text-align: right;\n",
       "    }\n",
       "</style>\n",
       "<table border=\"1\" class=\"dataframe\">\n",
       "  <thead>\n",
       "    <tr style=\"text-align: right;\">\n",
       "      <th></th>\n",
       "      <th>visitorid</th>\n",
       "      <th>num_items_viewed</th>\n",
       "      <th>view_count</th>\n",
       "      <th>firstview_to_cart</th>\n",
       "      <th>cart_to_transaction</th>\n",
       "      <th>bought_count</th>\n",
       "      <th>purchased</th>\n",
       "      <th>view_rate</th>\n",
       "      <th>purchase_rate</th>\n",
       "    </tr>\n",
       "  </thead>\n",
       "  <tbody>\n",
       "    <tr>\n",
       "      <th>0</th>\n",
       "      <td>512286</td>\n",
       "      <td>1</td>\n",
       "      <td>1</td>\n",
       "      <td>NaN</td>\n",
       "      <td>NaN</td>\n",
       "      <td>0</td>\n",
       "      <td>0</td>\n",
       "      <td>1.000000</td>\n",
       "      <td>0.0</td>\n",
       "    </tr>\n",
       "    <tr>\n",
       "      <th>1</th>\n",
       "      <td>1063766</td>\n",
       "      <td>8</td>\n",
       "      <td>13</td>\n",
       "      <td>NaN</td>\n",
       "      <td>NaN</td>\n",
       "      <td>0</td>\n",
       "      <td>0</td>\n",
       "      <td>0.615385</td>\n",
       "      <td>0.0</td>\n",
       "    </tr>\n",
       "    <tr>\n",
       "      <th>2</th>\n",
       "      <td>58180</td>\n",
       "      <td>4</td>\n",
       "      <td>6</td>\n",
       "      <td>NaN</td>\n",
       "      <td>NaN</td>\n",
       "      <td>0</td>\n",
       "      <td>0</td>\n",
       "      <td>0.666667</td>\n",
       "      <td>0.0</td>\n",
       "    </tr>\n",
       "    <tr>\n",
       "      <th>3</th>\n",
       "      <td>1000730</td>\n",
       "      <td>1</td>\n",
       "      <td>1</td>\n",
       "      <td>NaN</td>\n",
       "      <td>NaN</td>\n",
       "      <td>0</td>\n",
       "      <td>0</td>\n",
       "      <td>1.000000</td>\n",
       "      <td>0.0</td>\n",
       "    </tr>\n",
       "    <tr>\n",
       "      <th>4</th>\n",
       "      <td>823230</td>\n",
       "      <td>1</td>\n",
       "      <td>1</td>\n",
       "      <td>NaN</td>\n",
       "      <td>NaN</td>\n",
       "      <td>0</td>\n",
       "      <td>0</td>\n",
       "      <td>1.000000</td>\n",
       "      <td>0.0</td>\n",
       "    </tr>\n",
       "  </tbody>\n",
       "</table>\n",
       "</div>"
      ]
     },
     "execution_count": 202,
     "metadata": {},
     "output_type": "execute_result"
    }
   ],
   "execution_count": 202
  },
  {
   "metadata": {
    "ExecuteTime": {
     "end_time": "2025-04-04T13:37:34.044190Z",
     "start_time": "2025-04-04T13:37:33.907885Z"
    }
   },
   "cell_type": "code",
   "source": "df['visitorid'].sort_values(ascending=True).reset_index(drop=True)",
   "id": "fb2858d2b489a869",
   "outputs": [
    {
     "data": {
      "text/plain": [
       "0                0\n",
       "1                1\n",
       "2                2\n",
       "3                3\n",
       "4                5\n",
       "            ...   \n",
       "1232595    1407575\n",
       "1232596    1407576\n",
       "1232597    1407577\n",
       "1232598    1407578\n",
       "1232599    1407579\n",
       "Name: visitorid, Length: 1232600, dtype: int64"
      ]
     },
     "execution_count": 203,
     "metadata": {},
     "output_type": "execute_result"
    }
   ],
   "execution_count": 203
  },
  {
   "cell_type": "code",
   "id": "8a98fdc6",
   "metadata": {
    "scrolled": true,
    "ExecuteTime": {
     "end_time": "2025-04-04T13:37:35.253396Z",
     "start_time": "2025-04-04T13:37:35.220822Z"
    }
   },
   "source": [
    "df.info()"
   ],
   "outputs": [
    {
     "name": "stdout",
     "output_type": "stream",
     "text": [
      "<class 'pandas.core.frame.DataFrame'>\n",
      "RangeIndex: 1232600 entries, 0 to 1232599\n",
      "Data columns (total 9 columns):\n",
      " #   Column               Non-Null Count    Dtype  \n",
      "---  ------               --------------    -----  \n",
      " 0   visitorid            1232600 non-null  int64  \n",
      " 1   num_items_viewed     1232600 non-null  int64  \n",
      " 2   view_count           1232600 non-null  int64  \n",
      " 3   firstview_to_cart    9791 non-null     float64\n",
      " 4   cart_to_transaction  9791 non-null     float64\n",
      " 5   bought_count         1232600 non-null  int64  \n",
      " 6   purchased            1232600 non-null  int64  \n",
      " 7   view_rate            1232600 non-null  float64\n",
      " 8   purchase_rate        1232600 non-null  float64\n",
      "dtypes: float64(4), int64(5)\n",
      "memory usage: 84.6 MB\n"
     ]
    }
   ],
   "execution_count": 204
  },
  {
   "cell_type": "code",
   "id": "973f7e6d",
   "metadata": {
    "ExecuteTime": {
     "end_time": "2025-04-04T13:37:37.276765Z",
     "start_time": "2025-04-04T13:37:37.260823Z"
    }
   },
   "source": [
    "df = df.drop(['visitorid', 'view_count', 'purchased'], axis=1)"
   ],
   "outputs": [],
   "execution_count": 205
  },
  {
   "metadata": {
    "ExecuteTime": {
     "end_time": "2025-04-04T13:37:44.700636Z",
     "start_time": "2025-04-04T13:37:44.540932Z"
    }
   },
   "cell_type": "code",
   "source": "df.duplicated().value_counts()",
   "id": "68bb8643c56a6034",
   "outputs": [
    {
     "data": {
      "text/plain": [
       "True     1220816\n",
       "False      11784\n",
       "Name: count, dtype: int64"
      ]
     },
     "execution_count": 206,
     "metadata": {},
     "output_type": "execute_result"
    }
   ],
   "execution_count": 206
  },
  {
   "metadata": {},
   "cell_type": "code",
   "outputs": [],
   "execution_count": null,
   "source": "",
   "id": "ffc5f32bdf479ace"
  },
  {
   "cell_type": "code",
   "id": "5a4e0845",
   "metadata": {
    "ExecuteTime": {
     "end_time": "2025-04-04T13:38:16.619997Z",
     "start_time": "2025-04-04T13:38:16.457010Z"
    }
   },
   "source": [
    "df = df.drop_duplicates()"
   ],
   "outputs": [],
   "execution_count": 207
  },
  {
   "cell_type": "code",
   "id": "cb31806d",
   "metadata": {
    "ExecuteTime": {
     "end_time": "2025-04-04T13:38:18.193131Z",
     "start_time": "2025-04-04T13:38:18.177106Z"
    }
   },
   "source": [
    "len(df)"
   ],
   "outputs": [
    {
     "data": {
      "text/plain": [
       "11784"
      ]
     },
     "execution_count": 208,
     "metadata": {},
     "output_type": "execute_result"
    }
   ],
   "execution_count": 208
  },
  {
   "cell_type": "code",
   "id": "f91c99c6",
   "metadata": {
    "scrolled": true,
    "ExecuteTime": {
     "end_time": "2025-04-04T13:38:44.562713Z",
     "start_time": "2025-04-04T13:38:44.536699Z"
    }
   },
   "source": [
    "df.head()"
   ],
   "outputs": [
    {
     "data": {
      "text/plain": [
       "    num_items_viewed  firstview_to_cart  cart_to_transaction  bought_count  \\\n",
       "0                  1                NaN                  NaN             0   \n",
       "1                  8                NaN                  NaN             0   \n",
       "2                  4                NaN                  NaN             0   \n",
       "5                  1                NaN                  NaN             0   \n",
       "11                 3                NaN                  NaN             0   \n",
       "\n",
       "    view_rate  purchase_rate  \n",
       "0    1.000000            0.0  \n",
       "1    0.615385            0.0  \n",
       "2    0.666667            0.0  \n",
       "5    0.500000            0.0  \n",
       "11   1.000000            0.0  "
      ],
      "text/html": [
       "<div>\n",
       "<style scoped>\n",
       "    .dataframe tbody tr th:only-of-type {\n",
       "        vertical-align: middle;\n",
       "    }\n",
       "\n",
       "    .dataframe tbody tr th {\n",
       "        vertical-align: top;\n",
       "    }\n",
       "\n",
       "    .dataframe thead th {\n",
       "        text-align: right;\n",
       "    }\n",
       "</style>\n",
       "<table border=\"1\" class=\"dataframe\">\n",
       "  <thead>\n",
       "    <tr style=\"text-align: right;\">\n",
       "      <th></th>\n",
       "      <th>num_items_viewed</th>\n",
       "      <th>firstview_to_cart</th>\n",
       "      <th>cart_to_transaction</th>\n",
       "      <th>bought_count</th>\n",
       "      <th>view_rate</th>\n",
       "      <th>purchase_rate</th>\n",
       "    </tr>\n",
       "  </thead>\n",
       "  <tbody>\n",
       "    <tr>\n",
       "      <th>0</th>\n",
       "      <td>1</td>\n",
       "      <td>NaN</td>\n",
       "      <td>NaN</td>\n",
       "      <td>0</td>\n",
       "      <td>1.000000</td>\n",
       "      <td>0.0</td>\n",
       "    </tr>\n",
       "    <tr>\n",
       "      <th>1</th>\n",
       "      <td>8</td>\n",
       "      <td>NaN</td>\n",
       "      <td>NaN</td>\n",
       "      <td>0</td>\n",
       "      <td>0.615385</td>\n",
       "      <td>0.0</td>\n",
       "    </tr>\n",
       "    <tr>\n",
       "      <th>2</th>\n",
       "      <td>4</td>\n",
       "      <td>NaN</td>\n",
       "      <td>NaN</td>\n",
       "      <td>0</td>\n",
       "      <td>0.666667</td>\n",
       "      <td>0.0</td>\n",
       "    </tr>\n",
       "    <tr>\n",
       "      <th>5</th>\n",
       "      <td>1</td>\n",
       "      <td>NaN</td>\n",
       "      <td>NaN</td>\n",
       "      <td>0</td>\n",
       "      <td>0.500000</td>\n",
       "      <td>0.0</td>\n",
       "    </tr>\n",
       "    <tr>\n",
       "      <th>11</th>\n",
       "      <td>3</td>\n",
       "      <td>NaN</td>\n",
       "      <td>NaN</td>\n",
       "      <td>0</td>\n",
       "      <td>1.000000</td>\n",
       "      <td>0.0</td>\n",
       "    </tr>\n",
       "  </tbody>\n",
       "</table>\n",
       "</div>"
      ]
     },
     "execution_count": 209,
     "metadata": {},
     "output_type": "execute_result"
    }
   ],
   "execution_count": 209
  },
  {
   "cell_type": "code",
   "id": "35dcb3f5",
   "metadata": {
    "ExecuteTime": {
     "end_time": "2025-04-04T13:38:46.127355Z",
     "start_time": "2025-04-04T13:38:46.118413Z"
    }
   },
   "source": [
    "df.info()"
   ],
   "outputs": [
    {
     "name": "stdout",
     "output_type": "stream",
     "text": [
      "<class 'pandas.core.frame.DataFrame'>\n",
      "Index: 11784 entries, 0 to 1232360\n",
      "Data columns (total 6 columns):\n",
      " #   Column               Non-Null Count  Dtype  \n",
      "---  ------               --------------  -----  \n",
      " 0   num_items_viewed     11784 non-null  int64  \n",
      " 1   firstview_to_cart    9786 non-null   float64\n",
      " 2   cart_to_transaction  9786 non-null   float64\n",
      " 3   bought_count         11784 non-null  int64  \n",
      " 4   view_rate            11784 non-null  float64\n",
      " 5   purchase_rate        11784 non-null  float64\n",
      "dtypes: float64(4), int64(2)\n",
      "memory usage: 644.4 KB\n"
     ]
    }
   ],
   "execution_count": 210
  },
  {
   "cell_type": "code",
   "id": "33cabeeb",
   "metadata": {
    "ExecuteTime": {
     "end_time": "2025-04-04T13:38:48.124213Z",
     "start_time": "2025-04-04T13:38:48.108147Z"
    }
   },
   "source": [
    "# define features\n",
    "X = df.drop('purchase_rate', axis=1)\n",
    "X.head()"
   ],
   "outputs": [
    {
     "data": {
      "text/plain": [
       "    num_items_viewed  firstview_to_cart  cart_to_transaction  bought_count  \\\n",
       "0                  1                NaN                  NaN             0   \n",
       "1                  8                NaN                  NaN             0   \n",
       "2                  4                NaN                  NaN             0   \n",
       "5                  1                NaN                  NaN             0   \n",
       "11                 3                NaN                  NaN             0   \n",
       "\n",
       "    view_rate  \n",
       "0    1.000000  \n",
       "1    0.615385  \n",
       "2    0.666667  \n",
       "5    0.500000  \n",
       "11   1.000000  "
      ],
      "text/html": [
       "<div>\n",
       "<style scoped>\n",
       "    .dataframe tbody tr th:only-of-type {\n",
       "        vertical-align: middle;\n",
       "    }\n",
       "\n",
       "    .dataframe tbody tr th {\n",
       "        vertical-align: top;\n",
       "    }\n",
       "\n",
       "    .dataframe thead th {\n",
       "        text-align: right;\n",
       "    }\n",
       "</style>\n",
       "<table border=\"1\" class=\"dataframe\">\n",
       "  <thead>\n",
       "    <tr style=\"text-align: right;\">\n",
       "      <th></th>\n",
       "      <th>num_items_viewed</th>\n",
       "      <th>firstview_to_cart</th>\n",
       "      <th>cart_to_transaction</th>\n",
       "      <th>bought_count</th>\n",
       "      <th>view_rate</th>\n",
       "    </tr>\n",
       "  </thead>\n",
       "  <tbody>\n",
       "    <tr>\n",
       "      <th>0</th>\n",
       "      <td>1</td>\n",
       "      <td>NaN</td>\n",
       "      <td>NaN</td>\n",
       "      <td>0</td>\n",
       "      <td>1.000000</td>\n",
       "    </tr>\n",
       "    <tr>\n",
       "      <th>1</th>\n",
       "      <td>8</td>\n",
       "      <td>NaN</td>\n",
       "      <td>NaN</td>\n",
       "      <td>0</td>\n",
       "      <td>0.615385</td>\n",
       "    </tr>\n",
       "    <tr>\n",
       "      <th>2</th>\n",
       "      <td>4</td>\n",
       "      <td>NaN</td>\n",
       "      <td>NaN</td>\n",
       "      <td>0</td>\n",
       "      <td>0.666667</td>\n",
       "    </tr>\n",
       "    <tr>\n",
       "      <th>5</th>\n",
       "      <td>1</td>\n",
       "      <td>NaN</td>\n",
       "      <td>NaN</td>\n",
       "      <td>0</td>\n",
       "      <td>0.500000</td>\n",
       "    </tr>\n",
       "    <tr>\n",
       "      <th>11</th>\n",
       "      <td>3</td>\n",
       "      <td>NaN</td>\n",
       "      <td>NaN</td>\n",
       "      <td>0</td>\n",
       "      <td>1.000000</td>\n",
       "    </tr>\n",
       "  </tbody>\n",
       "</table>\n",
       "</div>"
      ]
     },
     "execution_count": 211,
     "metadata": {},
     "output_type": "execute_result"
    }
   ],
   "execution_count": 211
  },
  {
   "cell_type": "code",
   "id": "a231f09c",
   "metadata": {
    "ExecuteTime": {
     "end_time": "2025-04-04T13:38:50.203082Z",
     "start_time": "2025-04-04T13:38:50.187160Z"
    }
   },
   "source": [
    "# define label\n",
    "y=df['purchase_rate']"
   ],
   "outputs": [],
   "execution_count": 212
  },
  {
   "cell_type": "code",
   "id": "6c152a9d",
   "metadata": {
    "ExecuteTime": {
     "end_time": "2025-04-04T13:38:51.416695Z",
     "start_time": "2025-04-04T13:38:51.400689Z"
    }
   },
   "source": [
    "X_train, X_test, y_train, y_test = train_test_split(X, y, test_size=0.33, random_state=42)"
   ],
   "outputs": [],
   "execution_count": 213
  },
  {
   "cell_type": "code",
   "id": "4917f83c",
   "metadata": {
    "scrolled": true,
    "ExecuteTime": {
     "end_time": "2025-04-03T14:22:33.239698Z",
     "start_time": "2025-04-03T14:22:33.131951Z"
    }
   },
   "source": [
    "fvc_pipeline = Pipeline([\n",
    "    ('Impute_fvc', SimpleImputer(missing_values=np.nan, strategy='constant', fill_value=-1000))\n",
    "])\n",
    "\n",
    "cta_pipeline = Pipeline([\n",
    "    ('Impute_cta', SimpleImputer(missing_values=np.nan, strategy='constant', fill_value=2000))\n",
    "])\n",
    "\n",
    "preprocessor = ColumnTransformer(\n",
    "    transformers=[\n",
    "        ('fvc_pipe', fvc_pipeline, ['firstview_to_cart']),\n",
    "        ('cta_pipe', cta_pipeline, ['cart_to_transaction']),\n",
    "        \n",
    "    ], remainder='passthrough'\n",
    ")\n",
    "\n",
    "pipe = Pipeline(steps=[('preprocessor', preprocessor),\n",
    "                       ('scaler', StandardScaler()),\n",
    "                       ('lr', LinearRegression())])\n",
    "\n",
    "r2 = cross_val_score(pipe, X_train, y_train, cv=5, scoring='r2')\n",
    "mean_r2 = np.mean(r2)\n",
    "\n",
    "print(mean_r2)"
   ],
   "outputs": [
    {
     "name": "stdout",
     "output_type": "stream",
     "text": [
      "0.3983613278254092\n"
     ]
    }
   ],
   "execution_count": 197
  },
  {
   "cell_type": "code",
   "id": "20718409",
   "metadata": {
    "ExecuteTime": {
     "end_time": "2025-04-03T11:59:15.038309Z",
     "start_time": "2025-04-03T11:59:14.847418Z"
    }
   },
   "source": [
    "# Create the pipelines for imputing and scaling\n",
    "fvc_pipeline = Pipeline([\n",
    "    ('Impute_fvc', SimpleImputer(missing_values=np.nan, strategy='constant', fill_value=-1000))\n",
    "])\n",
    "\n",
    "cta_pipeline = Pipeline([\n",
    "    ('Impute_cta', SimpleImputer(missing_values=np.nan, strategy='constant', fill_value=2000))\n",
    "])\n",
    "\n",
    "# Create the preprocessor column transformer\n",
    "preprocessor = ColumnTransformer(\n",
    "    transformers=[\n",
    "        ('fvc_pipe', fvc_pipeline, ['firstview_to_cart']),\n",
    "        ('cta_pipe', cta_pipeline, ['cart_to_transaction']),\n",
    "    ], remainder='passthrough'\n",
    ")\n",
    "\n",
    "# Create the polynomial regression model\n",
    "poly_degree = 2  # Set the degree of the polynomial\n",
    "poly_reg = PolynomialFeatures(degree=poly_degree)\n",
    "linear_reg = LinearRegression()\n",
    "\n",
    "# Create the final pipeline with the polynomial regression model\n",
    "pipe = Pipeline(steps=[('preprocessor', preprocessor),\n",
    "                       ('scaler', StandardScaler()),\n",
    "                       ('poly_reg', poly_reg),\n",
    "                       ('linear_reg', linear_reg)])\n",
    "\n",
    "# Fit and evaluate the pipeline using cross-validation\n",
    "r2 = cross_val_score(pipe, X, y, cv=5, scoring='r2')\n",
    "mean_r2 = np.mean(r2)\n",
    "\n",
    "print(mean_r2)"
   ],
   "outputs": [
    {
     "name": "stdout",
     "output_type": "stream",
     "text": [
      "0.4469561440235849\n"
     ]
    }
   ],
   "execution_count": 125
  },
  {
   "cell_type": "markdown",
   "id": "5317259f",
   "metadata": {},
   "source": [
    "### 3.3.2 RandomForestRegressor"
   ]
  },
  {
   "cell_type": "code",
   "id": "8c1789dc",
   "metadata": {
    "ExecuteTime": {
     "end_time": "2025-04-03T15:36:44.644754Z",
     "start_time": "2025-04-03T15:36:40.981907Z"
    }
   },
   "source": [
    "# Create the pipelines for imputing and scaling\n",
    "fvc_pipeline = Pipeline([\n",
    "    ('Impute_fvc', SimpleImputer(missing_values=np.nan, strategy='constant', fill_value=-1000))\n",
    "])\n",
    "\n",
    "cta_pipeline = Pipeline([\n",
    "    ('Impute_cta', SimpleImputer(missing_values=np.nan, strategy='constant', fill_value=2000))\n",
    "])\n",
    "\n",
    "# Create the preprocessor column transformer\n",
    "preprocessor = ColumnTransformer(\n",
    "    transformers=[\n",
    "        ('fvc_pipe', fvc_pipeline, ['firstview_to_cart']),\n",
    "        ('cta_pipe', cta_pipeline, ['cart_to_transaction']),\n",
    "    ], remainder='passthrough'\n",
    ")\n",
    "\n",
    "pipe = Pipeline(steps=[('preprocessor', preprocessor),\n",
    "                       ('scaler', StandardScaler()),\n",
    "                       ('rf', RandomForestRegressor())])\n",
    "\n",
    "r2 = cross_val_score(pipe, X_train, y_train, cv=5, scoring='r2')\n",
    "mean_r2 = np.mean(r2)\n",
    "\n",
    "print(mean_r2)"
   ],
   "outputs": [
    {
     "name": "stdout",
     "output_type": "stream",
     "text": [
      "0.9902997219111747\n"
     ]
    }
   ],
   "execution_count": 205
  },
  {
   "metadata": {
    "ExecuteTime": {
     "end_time": "2025-04-03T15:22:27.362124Z",
     "start_time": "2025-04-03T15:21:53.140054Z"
    }
   },
   "cell_type": "code",
   "source": [
    "from sklearn.model_selection import GridSearchCV\n",
    "\n",
    "# Define the parameter grid for RandomForestRegressor\n",
    "param_grid = {\n",
    "    'rf__n_estimators': [50, 100, 200],  # Number of trees in the forest\n",
    "    'rf__max_depth': [None, 10, 20, 30],  # Depth of trees\n",
    "    'rf__min_samples_split': [2, 5, 10],  # Minimum samples required to split a node\n",
    "    'rf__min_samples_leaf': [1, 2, 4]  # Minimum samples required at a leaf node\n",
    "}\n",
    "\n",
    "# Set up GridSearchCV\n",
    "grid_search = GridSearchCV(pipe, param_grid, cv=5, scoring='r2', n_jobs=-1, verbose=2)\n",
    "\n",
    "# Fit the model with hyperparameter tuning\n",
    "grid_search.fit(X_test, y_test)\n",
    "\n",
    "# Print R² scores for all iterations\n",
    "print(\"\\nAll R² Scores for Each Hyperparameter Combination:\")\n",
    "for mean_score, params in zip(grid_search.cv_results_['mean_test_score'], grid_search.cv_results_['params']):\n",
    "    print(f\"R² Score: {mean_score:.5f} | Params: {params}\")\n",
    "\n",
    "# Print the best parameters and best score\n",
    "print(\"\\nBest Hyperparameters:\", grid_search.best_params_)\n",
    "print(\"Best R² Score:\", grid_search.best_score_)\n"
   ],
   "id": "77d2645c90aeeef6",
   "outputs": [
    {
     "name": "stdout",
     "output_type": "stream",
     "text": [
      "Fitting 5 folds for each of 108 candidates, totalling 540 fits\n",
      "\n",
      "All R² Scores for Each Hyperparameter Combination:\n",
      "R² Score: 0.95919 | Params: {'rf__max_depth': None, 'rf__min_samples_leaf': 1, 'rf__min_samples_split': 2, 'rf__n_estimators': 50}\n",
      "R² Score: 0.96149 | Params: {'rf__max_depth': None, 'rf__min_samples_leaf': 1, 'rf__min_samples_split': 2, 'rf__n_estimators': 100}\n",
      "R² Score: 0.96124 | Params: {'rf__max_depth': None, 'rf__min_samples_leaf': 1, 'rf__min_samples_split': 2, 'rf__n_estimators': 200}\n",
      "R² Score: 0.96073 | Params: {'rf__max_depth': None, 'rf__min_samples_leaf': 1, 'rf__min_samples_split': 5, 'rf__n_estimators': 50}\n",
      "R² Score: 0.96205 | Params: {'rf__max_depth': None, 'rf__min_samples_leaf': 1, 'rf__min_samples_split': 5, 'rf__n_estimators': 100}\n",
      "R² Score: 0.96167 | Params: {'rf__max_depth': None, 'rf__min_samples_leaf': 1, 'rf__min_samples_split': 5, 'rf__n_estimators': 200}\n",
      "R² Score: 0.95723 | Params: {'rf__max_depth': None, 'rf__min_samples_leaf': 1, 'rf__min_samples_split': 10, 'rf__n_estimators': 50}\n",
      "R² Score: 0.95825 | Params: {'rf__max_depth': None, 'rf__min_samples_leaf': 1, 'rf__min_samples_split': 10, 'rf__n_estimators': 100}\n",
      "R² Score: 0.95782 | Params: {'rf__max_depth': None, 'rf__min_samples_leaf': 1, 'rf__min_samples_split': 10, 'rf__n_estimators': 200}\n",
      "R² Score: 0.95085 | Params: {'rf__max_depth': None, 'rf__min_samples_leaf': 2, 'rf__min_samples_split': 2, 'rf__n_estimators': 50}\n",
      "R² Score: 0.95201 | Params: {'rf__max_depth': None, 'rf__min_samples_leaf': 2, 'rf__min_samples_split': 2, 'rf__n_estimators': 100}\n",
      "R² Score: 0.95288 | Params: {'rf__max_depth': None, 'rf__min_samples_leaf': 2, 'rf__min_samples_split': 2, 'rf__n_estimators': 200}\n",
      "R² Score: 0.95180 | Params: {'rf__max_depth': None, 'rf__min_samples_leaf': 2, 'rf__min_samples_split': 5, 'rf__n_estimators': 50}\n",
      "R² Score: 0.95247 | Params: {'rf__max_depth': None, 'rf__min_samples_leaf': 2, 'rf__min_samples_split': 5, 'rf__n_estimators': 100}\n",
      "R² Score: 0.95302 | Params: {'rf__max_depth': None, 'rf__min_samples_leaf': 2, 'rf__min_samples_split': 5, 'rf__n_estimators': 200}\n",
      "R² Score: 0.94691 | Params: {'rf__max_depth': None, 'rf__min_samples_leaf': 2, 'rf__min_samples_split': 10, 'rf__n_estimators': 50}\n",
      "R² Score: 0.94810 | Params: {'rf__max_depth': None, 'rf__min_samples_leaf': 2, 'rf__min_samples_split': 10, 'rf__n_estimators': 100}\n",
      "R² Score: 0.94868 | Params: {'rf__max_depth': None, 'rf__min_samples_leaf': 2, 'rf__min_samples_split': 10, 'rf__n_estimators': 200}\n",
      "R² Score: 0.93186 | Params: {'rf__max_depth': None, 'rf__min_samples_leaf': 4, 'rf__min_samples_split': 2, 'rf__n_estimators': 50}\n",
      "R² Score: 0.93362 | Params: {'rf__max_depth': None, 'rf__min_samples_leaf': 4, 'rf__min_samples_split': 2, 'rf__n_estimators': 100}\n",
      "R² Score: 0.93271 | Params: {'rf__max_depth': None, 'rf__min_samples_leaf': 4, 'rf__min_samples_split': 2, 'rf__n_estimators': 200}\n",
      "R² Score: 0.93186 | Params: {'rf__max_depth': None, 'rf__min_samples_leaf': 4, 'rf__min_samples_split': 5, 'rf__n_estimators': 50}\n",
      "R² Score: 0.93362 | Params: {'rf__max_depth': None, 'rf__min_samples_leaf': 4, 'rf__min_samples_split': 5, 'rf__n_estimators': 100}\n",
      "R² Score: 0.93271 | Params: {'rf__max_depth': None, 'rf__min_samples_leaf': 4, 'rf__min_samples_split': 5, 'rf__n_estimators': 200}\n",
      "R² Score: 0.93002 | Params: {'rf__max_depth': None, 'rf__min_samples_leaf': 4, 'rf__min_samples_split': 10, 'rf__n_estimators': 50}\n",
      "R² Score: 0.93236 | Params: {'rf__max_depth': None, 'rf__min_samples_leaf': 4, 'rf__min_samples_split': 10, 'rf__n_estimators': 100}\n",
      "R² Score: 0.93148 | Params: {'rf__max_depth': None, 'rf__min_samples_leaf': 4, 'rf__min_samples_split': 10, 'rf__n_estimators': 200}\n",
      "R² Score: 0.96079 | Params: {'rf__max_depth': 10, 'rf__min_samples_leaf': 1, 'rf__min_samples_split': 2, 'rf__n_estimators': 50}\n",
      "R² Score: 0.96300 | Params: {'rf__max_depth': 10, 'rf__min_samples_leaf': 1, 'rf__min_samples_split': 2, 'rf__n_estimators': 100}\n",
      "R² Score: 0.96157 | Params: {'rf__max_depth': 10, 'rf__min_samples_leaf': 1, 'rf__min_samples_split': 2, 'rf__n_estimators': 200}\n",
      "R² Score: 0.96049 | Params: {'rf__max_depth': 10, 'rf__min_samples_leaf': 1, 'rf__min_samples_split': 5, 'rf__n_estimators': 50}\n",
      "R² Score: 0.96205 | Params: {'rf__max_depth': 10, 'rf__min_samples_leaf': 1, 'rf__min_samples_split': 5, 'rf__n_estimators': 100}\n",
      "R² Score: 0.96148 | Params: {'rf__max_depth': 10, 'rf__min_samples_leaf': 1, 'rf__min_samples_split': 5, 'rf__n_estimators': 200}\n",
      "R² Score: 0.95707 | Params: {'rf__max_depth': 10, 'rf__min_samples_leaf': 1, 'rf__min_samples_split': 10, 'rf__n_estimators': 50}\n",
      "R² Score: 0.95809 | Params: {'rf__max_depth': 10, 'rf__min_samples_leaf': 1, 'rf__min_samples_split': 10, 'rf__n_estimators': 100}\n",
      "R² Score: 0.95774 | Params: {'rf__max_depth': 10, 'rf__min_samples_leaf': 1, 'rf__min_samples_split': 10, 'rf__n_estimators': 200}\n",
      "R² Score: 0.94980 | Params: {'rf__max_depth': 10, 'rf__min_samples_leaf': 2, 'rf__min_samples_split': 2, 'rf__n_estimators': 50}\n",
      "R² Score: 0.95128 | Params: {'rf__max_depth': 10, 'rf__min_samples_leaf': 2, 'rf__min_samples_split': 2, 'rf__n_estimators': 100}\n",
      "R² Score: 0.95270 | Params: {'rf__max_depth': 10, 'rf__min_samples_leaf': 2, 'rf__min_samples_split': 2, 'rf__n_estimators': 200}\n",
      "R² Score: 0.95160 | Params: {'rf__max_depth': 10, 'rf__min_samples_leaf': 2, 'rf__min_samples_split': 5, 'rf__n_estimators': 50}\n",
      "R² Score: 0.95215 | Params: {'rf__max_depth': 10, 'rf__min_samples_leaf': 2, 'rf__min_samples_split': 5, 'rf__n_estimators': 100}\n",
      "R² Score: 0.95298 | Params: {'rf__max_depth': 10, 'rf__min_samples_leaf': 2, 'rf__min_samples_split': 5, 'rf__n_estimators': 200}\n",
      "R² Score: 0.94703 | Params: {'rf__max_depth': 10, 'rf__min_samples_leaf': 2, 'rf__min_samples_split': 10, 'rf__n_estimators': 50}\n",
      "R² Score: 0.94821 | Params: {'rf__max_depth': 10, 'rf__min_samples_leaf': 2, 'rf__min_samples_split': 10, 'rf__n_estimators': 100}\n",
      "R² Score: 0.94878 | Params: {'rf__max_depth': 10, 'rf__min_samples_leaf': 2, 'rf__min_samples_split': 10, 'rf__n_estimators': 200}\n",
      "R² Score: 0.93162 | Params: {'rf__max_depth': 10, 'rf__min_samples_leaf': 4, 'rf__min_samples_split': 2, 'rf__n_estimators': 50}\n",
      "R² Score: 0.93344 | Params: {'rf__max_depth': 10, 'rf__min_samples_leaf': 4, 'rf__min_samples_split': 2, 'rf__n_estimators': 100}\n",
      "R² Score: 0.93279 | Params: {'rf__max_depth': 10, 'rf__min_samples_leaf': 4, 'rf__min_samples_split': 2, 'rf__n_estimators': 200}\n",
      "R² Score: 0.93162 | Params: {'rf__max_depth': 10, 'rf__min_samples_leaf': 4, 'rf__min_samples_split': 5, 'rf__n_estimators': 50}\n",
      "R² Score: 0.93344 | Params: {'rf__max_depth': 10, 'rf__min_samples_leaf': 4, 'rf__min_samples_split': 5, 'rf__n_estimators': 100}\n",
      "R² Score: 0.93279 | Params: {'rf__max_depth': 10, 'rf__min_samples_leaf': 4, 'rf__min_samples_split': 5, 'rf__n_estimators': 200}\n",
      "R² Score: 0.93031 | Params: {'rf__max_depth': 10, 'rf__min_samples_leaf': 4, 'rf__min_samples_split': 10, 'rf__n_estimators': 50}\n",
      "R² Score: 0.93241 | Params: {'rf__max_depth': 10, 'rf__min_samples_leaf': 4, 'rf__min_samples_split': 10, 'rf__n_estimators': 100}\n",
      "R² Score: 0.93154 | Params: {'rf__max_depth': 10, 'rf__min_samples_leaf': 4, 'rf__min_samples_split': 10, 'rf__n_estimators': 200}\n",
      "R² Score: 0.95937 | Params: {'rf__max_depth': 20, 'rf__min_samples_leaf': 1, 'rf__min_samples_split': 2, 'rf__n_estimators': 50}\n",
      "R² Score: 0.96159 | Params: {'rf__max_depth': 20, 'rf__min_samples_leaf': 1, 'rf__min_samples_split': 2, 'rf__n_estimators': 100}\n",
      "R² Score: 0.96130 | Params: {'rf__max_depth': 20, 'rf__min_samples_leaf': 1, 'rf__min_samples_split': 2, 'rf__n_estimators': 200}\n",
      "R² Score: 0.96073 | Params: {'rf__max_depth': 20, 'rf__min_samples_leaf': 1, 'rf__min_samples_split': 5, 'rf__n_estimators': 50}\n",
      "R² Score: 0.96205 | Params: {'rf__max_depth': 20, 'rf__min_samples_leaf': 1, 'rf__min_samples_split': 5, 'rf__n_estimators': 100}\n",
      "R² Score: 0.96167 | Params: {'rf__max_depth': 20, 'rf__min_samples_leaf': 1, 'rf__min_samples_split': 5, 'rf__n_estimators': 200}\n",
      "R² Score: 0.95723 | Params: {'rf__max_depth': 20, 'rf__min_samples_leaf': 1, 'rf__min_samples_split': 10, 'rf__n_estimators': 50}\n",
      "R² Score: 0.95825 | Params: {'rf__max_depth': 20, 'rf__min_samples_leaf': 1, 'rf__min_samples_split': 10, 'rf__n_estimators': 100}\n",
      "R² Score: 0.95782 | Params: {'rf__max_depth': 20, 'rf__min_samples_leaf': 1, 'rf__min_samples_split': 10, 'rf__n_estimators': 200}\n",
      "R² Score: 0.95085 | Params: {'rf__max_depth': 20, 'rf__min_samples_leaf': 2, 'rf__min_samples_split': 2, 'rf__n_estimators': 50}\n",
      "R² Score: 0.95201 | Params: {'rf__max_depth': 20, 'rf__min_samples_leaf': 2, 'rf__min_samples_split': 2, 'rf__n_estimators': 100}\n",
      "R² Score: 0.95288 | Params: {'rf__max_depth': 20, 'rf__min_samples_leaf': 2, 'rf__min_samples_split': 2, 'rf__n_estimators': 200}\n",
      "R² Score: 0.95180 | Params: {'rf__max_depth': 20, 'rf__min_samples_leaf': 2, 'rf__min_samples_split': 5, 'rf__n_estimators': 50}\n",
      "R² Score: 0.95247 | Params: {'rf__max_depth': 20, 'rf__min_samples_leaf': 2, 'rf__min_samples_split': 5, 'rf__n_estimators': 100}\n",
      "R² Score: 0.95302 | Params: {'rf__max_depth': 20, 'rf__min_samples_leaf': 2, 'rf__min_samples_split': 5, 'rf__n_estimators': 200}\n",
      "R² Score: 0.94691 | Params: {'rf__max_depth': 20, 'rf__min_samples_leaf': 2, 'rf__min_samples_split': 10, 'rf__n_estimators': 50}\n",
      "R² Score: 0.94810 | Params: {'rf__max_depth': 20, 'rf__min_samples_leaf': 2, 'rf__min_samples_split': 10, 'rf__n_estimators': 100}\n",
      "R² Score: 0.94868 | Params: {'rf__max_depth': 20, 'rf__min_samples_leaf': 2, 'rf__min_samples_split': 10, 'rf__n_estimators': 200}\n",
      "R² Score: 0.93186 | Params: {'rf__max_depth': 20, 'rf__min_samples_leaf': 4, 'rf__min_samples_split': 2, 'rf__n_estimators': 50}\n",
      "R² Score: 0.93362 | Params: {'rf__max_depth': 20, 'rf__min_samples_leaf': 4, 'rf__min_samples_split': 2, 'rf__n_estimators': 100}\n",
      "R² Score: 0.93271 | Params: {'rf__max_depth': 20, 'rf__min_samples_leaf': 4, 'rf__min_samples_split': 2, 'rf__n_estimators': 200}\n",
      "R² Score: 0.93186 | Params: {'rf__max_depth': 20, 'rf__min_samples_leaf': 4, 'rf__min_samples_split': 5, 'rf__n_estimators': 50}\n",
      "R² Score: 0.93362 | Params: {'rf__max_depth': 20, 'rf__min_samples_leaf': 4, 'rf__min_samples_split': 5, 'rf__n_estimators': 100}\n",
      "R² Score: 0.93271 | Params: {'rf__max_depth': 20, 'rf__min_samples_leaf': 4, 'rf__min_samples_split': 5, 'rf__n_estimators': 200}\n",
      "R² Score: 0.93002 | Params: {'rf__max_depth': 20, 'rf__min_samples_leaf': 4, 'rf__min_samples_split': 10, 'rf__n_estimators': 50}\n",
      "R² Score: 0.93236 | Params: {'rf__max_depth': 20, 'rf__min_samples_leaf': 4, 'rf__min_samples_split': 10, 'rf__n_estimators': 100}\n",
      "R² Score: 0.93148 | Params: {'rf__max_depth': 20, 'rf__min_samples_leaf': 4, 'rf__min_samples_split': 10, 'rf__n_estimators': 200}\n",
      "R² Score: 0.95919 | Params: {'rf__max_depth': 30, 'rf__min_samples_leaf': 1, 'rf__min_samples_split': 2, 'rf__n_estimators': 50}\n",
      "R² Score: 0.96149 | Params: {'rf__max_depth': 30, 'rf__min_samples_leaf': 1, 'rf__min_samples_split': 2, 'rf__n_estimators': 100}\n",
      "R² Score: 0.96124 | Params: {'rf__max_depth': 30, 'rf__min_samples_leaf': 1, 'rf__min_samples_split': 2, 'rf__n_estimators': 200}\n",
      "R² Score: 0.96073 | Params: {'rf__max_depth': 30, 'rf__min_samples_leaf': 1, 'rf__min_samples_split': 5, 'rf__n_estimators': 50}\n",
      "R² Score: 0.96205 | Params: {'rf__max_depth': 30, 'rf__min_samples_leaf': 1, 'rf__min_samples_split': 5, 'rf__n_estimators': 100}\n",
      "R² Score: 0.96167 | Params: {'rf__max_depth': 30, 'rf__min_samples_leaf': 1, 'rf__min_samples_split': 5, 'rf__n_estimators': 200}\n",
      "R² Score: 0.95723 | Params: {'rf__max_depth': 30, 'rf__min_samples_leaf': 1, 'rf__min_samples_split': 10, 'rf__n_estimators': 50}\n",
      "R² Score: 0.95825 | Params: {'rf__max_depth': 30, 'rf__min_samples_leaf': 1, 'rf__min_samples_split': 10, 'rf__n_estimators': 100}\n",
      "R² Score: 0.95782 | Params: {'rf__max_depth': 30, 'rf__min_samples_leaf': 1, 'rf__min_samples_split': 10, 'rf__n_estimators': 200}\n",
      "R² Score: 0.95085 | Params: {'rf__max_depth': 30, 'rf__min_samples_leaf': 2, 'rf__min_samples_split': 2, 'rf__n_estimators': 50}\n",
      "R² Score: 0.95201 | Params: {'rf__max_depth': 30, 'rf__min_samples_leaf': 2, 'rf__min_samples_split': 2, 'rf__n_estimators': 100}\n",
      "R² Score: 0.95288 | Params: {'rf__max_depth': 30, 'rf__min_samples_leaf': 2, 'rf__min_samples_split': 2, 'rf__n_estimators': 200}\n",
      "R² Score: 0.95180 | Params: {'rf__max_depth': 30, 'rf__min_samples_leaf': 2, 'rf__min_samples_split': 5, 'rf__n_estimators': 50}\n",
      "R² Score: 0.95247 | Params: {'rf__max_depth': 30, 'rf__min_samples_leaf': 2, 'rf__min_samples_split': 5, 'rf__n_estimators': 100}\n",
      "R² Score: 0.95302 | Params: {'rf__max_depth': 30, 'rf__min_samples_leaf': 2, 'rf__min_samples_split': 5, 'rf__n_estimators': 200}\n",
      "R² Score: 0.94691 | Params: {'rf__max_depth': 30, 'rf__min_samples_leaf': 2, 'rf__min_samples_split': 10, 'rf__n_estimators': 50}\n",
      "R² Score: 0.94810 | Params: {'rf__max_depth': 30, 'rf__min_samples_leaf': 2, 'rf__min_samples_split': 10, 'rf__n_estimators': 100}\n",
      "R² Score: 0.94868 | Params: {'rf__max_depth': 30, 'rf__min_samples_leaf': 2, 'rf__min_samples_split': 10, 'rf__n_estimators': 200}\n",
      "R² Score: 0.93186 | Params: {'rf__max_depth': 30, 'rf__min_samples_leaf': 4, 'rf__min_samples_split': 2, 'rf__n_estimators': 50}\n",
      "R² Score: 0.93362 | Params: {'rf__max_depth': 30, 'rf__min_samples_leaf': 4, 'rf__min_samples_split': 2, 'rf__n_estimators': 100}\n",
      "R² Score: 0.93271 | Params: {'rf__max_depth': 30, 'rf__min_samples_leaf': 4, 'rf__min_samples_split': 2, 'rf__n_estimators': 200}\n",
      "R² Score: 0.93186 | Params: {'rf__max_depth': 30, 'rf__min_samples_leaf': 4, 'rf__min_samples_split': 5, 'rf__n_estimators': 50}\n",
      "R² Score: 0.93362 | Params: {'rf__max_depth': 30, 'rf__min_samples_leaf': 4, 'rf__min_samples_split': 5, 'rf__n_estimators': 100}\n",
      "R² Score: 0.93271 | Params: {'rf__max_depth': 30, 'rf__min_samples_leaf': 4, 'rf__min_samples_split': 5, 'rf__n_estimators': 200}\n",
      "R² Score: 0.93002 | Params: {'rf__max_depth': 30, 'rf__min_samples_leaf': 4, 'rf__min_samples_split': 10, 'rf__n_estimators': 50}\n",
      "R² Score: 0.93236 | Params: {'rf__max_depth': 30, 'rf__min_samples_leaf': 4, 'rf__min_samples_split': 10, 'rf__n_estimators': 100}\n",
      "R² Score: 0.93148 | Params: {'rf__max_depth': 30, 'rf__min_samples_leaf': 4, 'rf__min_samples_split': 10, 'rf__n_estimators': 200}\n",
      "\n",
      "Best Hyperparameters: {'rf__max_depth': 10, 'rf__min_samples_leaf': 1, 'rf__min_samples_split': 2, 'rf__n_estimators': 100}\n",
      "Best R² Score: 0.9629995586827189\n"
     ]
    }
   ],
   "execution_count": 204
  },
  {
   "metadata": {
    "ExecuteTime": {
     "end_time": "2025-04-04T13:35:38.582969Z",
     "start_time": "2025-04-04T13:35:38.550688Z"
    }
   },
   "cell_type": "code",
   "source": "X_train.shape",
   "id": "ea25f1803e5cacf3",
   "outputs": [
    {
     "data": {
      "text/plain": [
       "(7895, 5)"
      ]
     },
     "execution_count": 192,
     "metadata": {},
     "output_type": "execute_result"
    }
   ],
   "execution_count": 192
  },
  {
   "metadata": {},
   "cell_type": "code",
   "outputs": [],
   "execution_count": null,
   "source": [
    "fvc_pipeline = Pipeline([\n",
    "    ('Impute_fvc', SimpleImputer(missing_values=np.nan, strategy='constant', fill_value=-1000))\n",
    "])\n",
    "\n",
    "cta_pipeline = Pipeline([\n",
    "    ('Impute_cta', SimpleImputer(missing_values=np.nan, strategy='constant', fill_value=2000))\n",
    "])\n",
    "\n",
    "# Step 4: Column transformer for feature preprocessing\n",
    "preprocessor = ColumnTransformer(\n",
    "    transformers=[\n",
    "        ('fvc_pipe', fvc_pipeline, ['firstview_to_cart']),\n",
    "        ('cta_pipe', cta_pipeline, ['cart_to_transaction']),\n",
    "    ], remainder='passthrough'\n",
    ")\n",
    "\n",
    "# Step 5: Define the full pipeline with RandomForestRegressor\n",
    "pipe = Pipeline(steps=[\n",
    "    ('preprocessor', preprocessor),\n",
    "    ('scaler', StandardScaler()),\n",
    "    ('rf', RandomForestRegressor(\n",
    "        n_estimators=200,\n",
    "        max_depth=20,\n",
    "        min_samples_leaf=1,\n",
    "        min_samples_split=2,\n",
    "        random_state=42\n",
    "    ))\n",
    "])\n",
    "\n",
    "# Step 6: Fit the model on the training data\n",
    "pipe.fit(X_train, y_train)"
   ],
   "id": "31168e64d72bffe6"
  },
  {
   "metadata": {},
   "cell_type": "code",
   "source": [
    "from sklearn.metrics import r2_score, mean_absolute_error, mean_squared_error\n",
    "import numpy as np\n",
    "\n",
    "# Predictions\n",
    "y_train_pred = pipe.predict(X_train)\n",
    "y_test_pred = pipe.predict(X_test)\n",
    "\n",
    "# Performance Metrics\n",
    "r2_train = r2_score(y_train, y_train_pred)\n",
    "r2_test = r2_score(y_test, y_test_pred)\n",
    "\n",
    "mae_train = mean_absolute_error(y_train, y_train_pred)\n",
    "mae_test = mean_absolute_error(y_test, y_test_pred)\n",
    "\n",
    "mse_train = mean_squared_error(y_train, y_train_pred)\n",
    "mse_test = mean_squared_error(y_test, y_test_pred)\n",
    "\n",
    "rmse_train = np.sqrt(mse_train)\n",
    "rmse_test = np.sqrt(mse_test)\n",
    "\n",
    "# Print results\n",
    "print(f\"Train R²: {r2_train:.4f}\")\n",
    "print(f\"Test R²: {r2_test:.4f}\")\n",
    "\n",
    "print(f\"Train MAE: {mae_train:.6f}\")\n",
    "print(f\"Test MAE: {mae_test:.6f}\")\n",
    "\n",
    "print(f\"Train RMSE: {rmse_train:.6f}\")\n",
    "print(f\"Test RMSE: {rmse_test:.6f}\")\n"
   ],
   "id": "56d11beaa603c0d1",
   "outputs": [],
   "execution_count": null
  },
  {
   "metadata": {
    "ExecuteTime": {
     "end_time": "2025-04-04T02:10:35.305831Z",
     "start_time": "2025-04-04T02:10:35.237431Z"
    }
   },
   "cell_type": "code",
   "source": [
    "import joblib\n",
    "\n",
    "# Save the trained model\n",
    "joblib.dump(pipe, \"purchasing_probability_model.pkl\")\n",
    "\n",
    "print(\"Model saved successfully!\")\n"
   ],
   "id": "c859573604ad7b3f",
   "outputs": [
    {
     "name": "stdout",
     "output_type": "stream",
     "text": [
      "Model saved successfully!\n"
     ]
    }
   ],
   "execution_count": 322
  },
  {
   "metadata": {
    "ExecuteTime": {
     "end_time": "2025-04-04T08:56:10.439444Z",
     "start_time": "2025-04-04T08:56:10.308237Z"
    }
   },
   "cell_type": "code",
   "source": [
    "import joblib\n",
    "\n",
    "# Load the trained model\n",
    "pipe = joblib.load(\"purchasing_probability_model.pkl\")\n",
    "\n",
    "print(\"Model loaded successfully!\")"
   ],
   "id": "d80a1bc0fa539c82",
   "outputs": [
    {
     "name": "stdout",
     "output_type": "stream",
     "text": [
      "Model loaded successfully!\n"
     ]
    }
   ],
   "execution_count": 121
  },
  {
   "metadata": {
    "ExecuteTime": {
     "end_time": "2025-04-04T07:15:30.830Z",
     "start_time": "2025-04-04T07:13:25.674356Z"
    }
   },
   "cell_type": "code",
   "source": [
    "from sklearn.model_selection import cross_val_predict\n",
    "\n",
    "# Create the pipelines for imputing\n",
    "fvc_pipeline = Pipeline([\n",
    "    ('Impute_fvc', SimpleImputer(missing_values=np.nan, strategy='constant', fill_value=-1000))\n",
    "])\n",
    "\n",
    "cta_pipeline = Pipeline([\n",
    "    ('Impute_cta', SimpleImputer(missing_values=np.nan, strategy='constant', fill_value=2000))\n",
    "])\n",
    "\n",
    "# Preprocessor for handling missing values\n",
    "preprocessor = ColumnTransformer(\n",
    "    transformers=[\n",
    "        ('fvc_pipe', fvc_pipeline, ['firstview_to_cart']),\n",
    "        ('cta_pipe', cta_pipeline, ['cart_to_transaction']),\n",
    "    ], remainder='passthrough'\n",
    ")\n",
    "\n",
    "# Define the final pipeline with best hyperparameters\n",
    "pipe = Pipeline(steps=[\n",
    "    ('preprocessor', preprocessor),\n",
    "    ('scaler', StandardScaler()),\n",
    "    ('rf', RandomForestRegressor(\n",
    "        n_estimators=200,\n",
    "        max_depth=20,\n",
    "        min_samples_leaf=1,\n",
    "        min_samples_split=2,\n",
    "        random_state=42\n",
    "    ))\n",
    "])\n",
    "\n",
    "\n",
    "# Perform cross-validation for R²\n",
    "r2_scores = cross_val_score(pipe, X, y, cv=5, scoring='r2')\n",
    "\n",
    "# Perform cross-validation to get predictions for calculating other metrics\n",
    "y_pred = cross_val_predict(pipe, X, y, cv=5)\n",
    "\n",
    "# Calculate evaluation metrics for cross-validation results\n",
    "mae = mean_absolute_error(y, y_pred)\n",
    "mse = mean_squared_error(y, y_pred)\n",
    "rmse = np.sqrt(mse)\n",
    "mape = np.mean(np.abs((y - y_pred) / y)) * 100  # In percentage\n",
    "\n",
    "# Print the cross-validation results\n",
    "print(f\"Cross-Validation Results:\")\n",
    "print(f\"R² Scores for each fold: {r2_scores}\")\n",
    "print(f\"Mean R²: {np.mean(r2_scores)}\")\n",
    "\n",
    "print(f\"\\nMean Absolute Error (MAE): {mae}\")\n",
    "print(f\"Mean Squared Error (MSE): {mse}\")\n",
    "print(f\"Root Mean Squared Error (RMSE): {rmse}\")\n",
    "print(f\"Mean Absolute Percentage Error (MAPE): {mape}%\")"
   ],
   "id": "f71331ac7f38bc43",
   "outputs": [
    {
     "name": "stdout",
     "output_type": "stream",
     "text": [
      "Cross-Validation Results:\n",
      "R² Scores for each fold: [0.99562704 0.99866418 0.99799926 0.99851304 0.9954875 ]\n",
      "Mean R²: 0.9972582041973315\n",
      "\n",
      "Mean Absolute Error (MAE): 3.598299989402523e-05\n",
      "Mean Squared Error (MSE): 8.985496999038403e-06\n",
      "Root Mean Squared Error (RMSE): 0.0029975818586050994\n",
      "Mean Absolute Percentage Error (MAPE): 2.0741115325017447%\n"
     ]
    }
   ],
   "execution_count": 328
  }
 ],
 "metadata": {
  "kernelspec": {
   "display_name": "Python (.venv)",
   "language": "python",
   "name": ".venv"
  },
  "language_info": {
   "codemirror_mode": {
    "name": "ipython",
    "version": 3
   },
   "file_extension": ".py",
   "mimetype": "text/x-python",
   "name": "python",
   "nbconvert_exporter": "python",
   "pygments_lexer": "ipython3",
   "version": "3.9.13"
  }
 },
 "nbformat": 4,
 "nbformat_minor": 5
}
