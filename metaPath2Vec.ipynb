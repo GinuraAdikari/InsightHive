{
  "nbformat": 4,
  "nbformat_minor": 0,
  "metadata": {
    "colab": {
      "provenance": [],
      "mount_file_id": "14NUA6Z6y99PVEM5yznyeCSE2ugBXxi4w",
      "authorship_tag": "ABX9TyNTGY2oqn+um5okYdA+DCai",
      "include_colab_link": true
    },
    "kernelspec": {
      "name": "python3",
      "display_name": "Python 3"
    },
    "language_info": {
      "name": "python"
    }
  },
  "cells": [
    {
      "cell_type": "markdown",
      "metadata": {
        "id": "view-in-github",
        "colab_type": "text"
      },
      "source": [
        "<a href=\"https://colab.research.google.com/github/GinuraAdikari/InsightHive/blob/Recommendation_Engine/metaPath2Vec.ipynb\" target=\"_parent\"><img src=\"https://colab.research.google.com/assets/colab-badge.svg\" alt=\"Open In Colab\"/></a>"
      ]
    },
    {
      "cell_type": "code",
      "execution_count": null,
      "metadata": {
        "colab": {
          "base_uri": "https://localhost:8080/"
        },
        "id": "dx9erbZvf_xQ",
        "outputId": "ecff0b94-fd13-4b85-9e00-0a265314d089"
      },
      "outputs": [
        {
          "output_type": "stream",
          "name": "stdout",
          "text": [
            "Requirement already satisfied: networkx in /usr/local/lib/python3.10/dist-packages (3.4.2)\n",
            "Requirement already satisfied: gensim in /usr/local/lib/python3.10/dist-packages (4.3.3)\n",
            "Requirement already satisfied: numpy<2.0,>=1.18.5 in /usr/local/lib/python3.10/dist-packages (from gensim) (1.26.4)\n",
            "Requirement already satisfied: scipy<1.14.0,>=1.7.0 in /usr/local/lib/python3.10/dist-packages (from gensim) (1.13.1)\n",
            "Requirement already satisfied: smart-open>=1.8.1 in /usr/local/lib/python3.10/dist-packages (from gensim) (7.0.5)\n",
            "Requirement already satisfied: wrapt in /usr/local/lib/python3.10/dist-packages (from smart-open>=1.8.1->gensim) (1.17.0)\n"
          ]
        }
      ],
      "source": [
        "!pip install networkx gensim"
      ]
    },
    {
      "cell_type": "code",
      "source": [
        "import networkx as nx\n",
        "import pandas as pd\n",
        "\n",
        "# Load the dataset\n",
        "features = pd.read_csv('drive/MyDrive/Colab Notebooks/features.csv')\n",
        "\n",
        "# Verify dataset structure\n",
        "print(features.head())\n"
      ],
      "metadata": {
        "colab": {
          "base_uri": "https://localhost:8080/"
        },
        "id": "Qm_2cOkdjbVm",
        "outputId": "d5c90d87-d4cb-41c6-de42-8f0bc4f30d9c"
      },
      "execution_count": null,
      "outputs": [
        {
          "output_type": "stream",
          "name": "stdout",
          "text": [
            "   visitorid  itemid  time_between_interaction  item_count  property_count  \\\n",
            "0          2  342816                         0           1               0   \n",
            "1          6   65273                         0           1               0   \n",
            "2         88   58827                         0           1               0   \n",
            "3        120  153339                         0           1               0   \n",
            "4        137  383819                         0           1               0   \n",
            "\n",
            "   category_count  avg_interaction_time  time_on_platform  \\\n",
            "0               0          1.438971e+12                 0   \n",
            "1               0          1.440915e+12                 0   \n",
            "2               0          1.442087e+12                 0   \n",
            "3               0          1.436024e+12                 0   \n",
            "4               0          1.433149e+12                 0   \n",
            "\n",
            "   time_between_actions  event_count  conversion rate  interaction_count_norm  \\\n",
            "0            40873501.5            1              0.0                     0.1   \n",
            "1            40873501.5            2              0.0                     0.1   \n",
            "2            40873501.5            1              0.0                     0.1   \n",
            "3            40873501.5            1              0.0                     0.1   \n",
            "4            40873501.5            1              0.0                     0.1   \n",
            "\n",
            "   item_popularity_score_norm  \n",
            "0                    0.019048  \n",
            "1                    0.266667  \n",
            "2                    0.003175  \n",
            "3                    0.009524  \n",
            "4                    0.003175  \n"
          ]
        }
      ]
    },
    {
      "cell_type": "code",
      "source": [
        "from sklearn.model_selection import train_test_split\n",
        "\n",
        "# Split data into train and test sets (e.g., 80% train, 20% test)\n",
        "train_data, test_data = train_test_split(features, test_size=0.2, random_state=42)  # random_state for reproducibility"
      ],
      "metadata": {
        "id": "C-o0CiUVDtP9"
      },
      "execution_count": null,
      "outputs": []
    },
    {
      "cell_type": "code",
      "source": [
        "# Initialize a graph\n",
        "G = nx.Graph()\n",
        "\n",
        "# Add user nodes\n",
        "users = features['visitorid'].unique()\n",
        "G.add_nodes_from(users, node_type='user')\n",
        "\n",
        "# Add item nodes\n",
        "items = features['itemid'].unique()\n",
        "G.add_nodes_from(items, node_type='item')\n",
        "\n",
        "# Add edges with various features\n",
        "for _, row in features.iterrows():\n",
        "    user_id = row['visitorid']\n",
        "    item_id = row['itemid']\n",
        "\n",
        "    # Direct Interaction Edges\n",
        "    G.add_edge(user_id, item_id, edge_type='interacts', weight=row['interaction_count_norm'])\n",
        "    G.add_edge(user_id, item_id, edge_type='time_between', weight=row['time_between_interaction'])\n",
        "    G.add_edge(user_id, item_id, edge_type='avg_interaction_time', weight=row['avg_interaction_time'])\n",
        "\n",
        "    # Indirect Relationship Edges (via Item Properties)\n",
        "    G.add_edge(user_id, item_id, edge_type='item_preference', weight=row['item_count'])\n",
        "    G.add_edge(user_id, item_id, edge_type='property_preference', weight=row['property_count'])\n",
        "    G.add_edge(user_id, item_id, edge_type='category_preference', weight=row['category_count'])\n",
        "    G.add_edge(user_id, item_id, edge_type='popularity_based', weight=row['item_popularity_score_norm'])\n",
        "\n",
        "# (Optional) Add user node attributes for user behavior:\n",
        "# for _, row in features.iterrows():\n",
        "#     user_id = row['visitorid']\n",
        "#     G.nodes[user_id]['time_on_platform'] = row['time_on_platform']\n",
        "#     G.nodes[user_id]['time_between_actions'] = row['time_between_actions']\n",
        "#     G.nodes[user_id]['event_count'] = row['event_count']\n",
        "#     G.nodes[user_id]['conversion_rate'] = row['conversion rate']\n",
        "\n"
      ],
      "metadata": {
        "id": "x0MEswhXjrpW"
      },
      "execution_count": null,
      "outputs": []
    },
    {
      "cell_type": "code",
      "source": [
        "print(\"Number of nodes:\", G.number_of_nodes())\n",
        "print(\"Number of edges:\", G.number_of_edges())"
      ],
      "metadata": {
        "colab": {
          "base_uri": "https://localhost:8080/"
        },
        "id": "D49xmjdCsPxZ",
        "outputId": "c4d971f9-351c-410c-c577-68651f4ce516"
      },
      "execution_count": null,
      "outputs": [
        {
          "output_type": "stream",
          "name": "stdout",
          "text": [
            "Number of nodes: 134638\n",
            "Number of edges: 97977\n"
          ]
        }
      ]
    },
    {
      "cell_type": "code",
      "source": [
        "import random\n",
        "\n",
        "# Define a function for meta-path-based random walks\n",
        "def generate_random_walks(graph, start_node, meta_path, walk_length):\n",
        "    walk = [start_node]\n",
        "    current_node = start_node\n",
        "\n",
        "    for i in range(walk_length - 1):\n",
        "        neighbors = list(graph.neighbors(current_node))\n",
        "\n",
        "        # Filter neighbors based on the meta-path constraints\n",
        "        next_nodes = [\n",
        "            neighbor for neighbor in neighbors\n",
        "            if graph.nodes[neighbor]['node_type'] == meta_path[len(walk) % len(meta_path)]\n",
        "        ]\n",
        "\n",
        "        if not next_nodes:\n",
        "            break\n",
        "\n",
        "        # Choose a random next node\n",
        "        current_node = random.choice(next_nodes)\n",
        "        walk.append(current_node)\n",
        "\n",
        "    return walk\n",
        "\n",
        "# Define a meta-path (e.g., user → item → user)\n",
        "meta_path = ['user', 'item', 'user']\n",
        "\n",
        "# Generate random walks for each user node\n",
        "walks = []\n",
        "for user in users:\n",
        "    for _ in range(10):  # Number of walks per node\n",
        "        walks.append(generate_random_walks(G, user, meta_path, walk_length=10))\n",
        "\n",
        "# Save walks for training\n",
        "with open('random_walks.txt', 'w') as f:\n",
        "    for walk in walks:\n",
        "        f.write(' '.join(map(str, walk)) + '\\n')\n"
      ],
      "metadata": {
        "id": "VcMnTqXPkgJt"
      },
      "execution_count": null,
      "outputs": []
    },
    {
      "cell_type": "code",
      "source": [
        "from gensim.models import Word2Vec\n",
        "\n",
        "# Train Metapath2Vec\n",
        "model = Word2Vec(corpus_file='random_walks.txt', vector_size=128, window=5, min_count=1, sg=1, workers=4)\n",
        "\n",
        "# Save embeddings\n",
        "model.wv.save_word2vec_format('metapath2vec_embeddings.txt')\n",
        "\n",
        "# Example: Get the embedding for a user node\n",
        "user_embedding = model.wv['2']  # Replace '12345' with a specific user ID\n",
        "print(user_embedding)\n"
      ],
      "metadata": {
        "colab": {
          "base_uri": "https://localhost:8080/"
        },
        "id": "w251rllrlSRd",
        "outputId": "d6215c1f-3e17-431e-8aa9-88feec7036e4"
      },
      "execution_count": null,
      "outputs": [
        {
          "output_type": "stream",
          "name": "stdout",
          "text": [
            "[ 5.2145794e-03 -2.3036450e-03  3.4334564e-03  5.9358333e-04\n",
            " -6.5487125e-03  5.0616534e-03  7.3793111e-03  6.0154055e-03\n",
            "  5.4838955e-03  6.6809310e-03 -6.2669902e-03 -1.2769230e-03\n",
            "  5.7831610e-04 -1.0743703e-03  6.8364716e-03  9.1963438e-03\n",
            "  8.6559996e-04  4.1008173e-03  4.5293239e-03  4.8663872e-03\n",
            "  8.3552357e-03  6.3381302e-03  1.5802862e-03 -3.7694902e-03\n",
            "  3.1492926e-04  7.9178158e-03  3.1649999e-03 -1.0929053e-03\n",
            "  4.9517569e-03 -5.7838438e-03  6.5548075e-03 -9.7040343e-04\n",
            " -7.0426352e-03 -1.2505563e-03 -7.9454705e-03 -3.0279467e-03\n",
            "  5.5028107e-03  1.2154589e-05 -9.0021006e-04 -7.5091985e-03\n",
            " -3.4678469e-03  5.8737057e-03 -2.8859708e-03 -1.0207070e-02\n",
            "  2.4564913e-04  6.1017321e-03  7.1217446e-03 -4.8111039e-03\n",
            "  4.3664915e-03 -9.6677458e-03 -2.8832490e-03  6.0047363e-03\n",
            "  1.9921935e-03 -4.5526335e-03 -4.0819845e-03  7.0850411e-03\n",
            " -4.5934706e-03  9.1185932e-05 -2.0699122e-03  6.3867513e-03\n",
            " -9.6924258e-03 -4.4489000e-03 -9.3249884e-03 -9.0629701e-03\n",
            "  3.1978930e-03 -1.3959022e-03  6.2548714e-03 -5.5164020e-03\n",
            "  6.5660868e-03  3.9298008e-03 -7.9223579e-03  5.4104412e-03\n",
            " -3.2954076e-03  2.4020504e-03 -3.4308169e-04  1.8079475e-03\n",
            " -8.1761125e-03  8.0097420e-03  8.2133813e-03 -1.0138181e-03\n",
            "  6.6021024e-03 -8.0269938e-03 -6.4460892e-04  9.2809750e-03\n",
            " -7.1101002e-03  2.6017793e-03  1.3586739e-03  2.4228718e-04\n",
            "  7.9731792e-03  8.6187022e-03 -4.1380464e-03 -6.6101295e-03\n",
            " -8.5308198e-03  6.8681873e-03  3.7540006e-03  8.7575108e-04\n",
            " -7.3381779e-03 -5.0928229e-03 -6.9005182e-03 -4.3023485e-03\n",
            " -1.8347166e-05  4.8927022e-03  8.6221017e-04  1.6883701e-04\n",
            "  7.9049794e-03  3.0686415e-03  5.1591308e-03  3.9204606e-03\n",
            " -6.8653241e-04  2.2208733e-03  1.0391347e-03 -1.9818526e-03\n",
            " -5.8832522e-03  3.9523565e-03  6.1161336e-03  4.8325598e-04\n",
            " -1.6774836e-03 -6.7510628e-03 -5.4727886e-03  1.7516332e-04\n",
            "  2.7880685e-03  6.1455360e-03 -2.4550178e-03  1.6956764e-03\n",
            " -1.4667389e-03 -5.3014103e-03  2.3062984e-03 -1.6965201e-03]\n"
          ]
        }
      ]
    },
    {
      "cell_type": "code",
      "source": [
        "import numpy as np\n",
        "\n",
        "def cosine_similarity(a, b):\n",
        "    return np.dot(a, b) / (np.linalg.norm(a) * np.linalg.norm(b))\n",
        "\n",
        "# Get embeddings for two users (replace with your actual user IDs)\n",
        "user1_embedding = model.wv['2']\n",
        "user2_embedding = model.wv['88']\n",
        "\n",
        "# Calculate cosine similarity\n",
        "similarity = cosine_similarity(user1_embedding, user2_embedding)\n",
        "print(f\"Cosine similarity between user1 and user2: {similarity}\")"
      ],
      "metadata": {
        "colab": {
          "base_uri": "https://localhost:8080/"
        },
        "id": "AGAFQg4OnZuY",
        "outputId": "40ca75bf-32e6-4136-c5f3-4d2d55c7a591"
      },
      "execution_count": null,
      "outputs": [
        {
          "output_type": "stream",
          "name": "stdout",
          "text": [
            "Cosine similarity between user1 and user2: 0.0655808076262474\n"
          ]
        }
      ]
    },
    {
      "cell_type": "code",
      "source": [
        "import numpy as np\n",
        "\n",
        "# Assuming you have already trained the Metapath2Vec model and saved it as 'model'\n",
        "# and you have a DataFrame named 'features' containing user-item interactions.\n",
        "\n",
        "def generate_recommendations(target_users, data, num_neighbors=10):\n",
        "    \"\"\"\n",
        "    Generates recommendations for a set of target users.\n",
        "\n",
        "    Args:\n",
        "        target_users (list): List of target user IDs.\n",
        "        data (pd.DataFrame): The DataFrame containing user-item interactions (train_data).\n",
        "        num_neighbors (int): Number of nearest neighbors to consider.\n",
        "\n",
        "    Returns:\n",
        "        dict: A dictionary mapping target user IDs to lists of recommended item IDs.\n",
        "    \"\"\"\n",
        "\n",
        "    recommendations = {}\n",
        "    for target_user_id in target_users:\n",
        "        # 1. Calculate Similarities\n",
        "        target_embedding = model.wv[str(target_user_id)]  # Convert user ID to string if necessary\n",
        "        similarities = {}\n",
        "        for user_id in model.wv.index_to_key:\n",
        "            if user_id != str(target_user_id):  # Convert user IDs for comparison\n",
        "                similarities[user_id] = cosine_similarity(target_embedding, model.wv[user_id])\n",
        "\n",
        "        # 2. Select Nearest Neighbors\n",
        "        nearest_neighbors = sorted(similarities.items(), key=lambda item: item[1], reverse=True)[:num_neighbors]\n",
        "\n",
        "        # 3. Generate Recommendations\n",
        "        recommended_items = []\n",
        "        for neighbor_id, _ in nearest_neighbors:\n",
        "            # Get items interacted with by neighbor\n",
        "            neighbor_id_int = int(float(neighbor_id))  # Convert to float first, then to int\n",
        "            neighbor_items = get_items_for_user(neighbor_id_int, data)  # Pass data (train_data) to get_items_for_user\n",
        "            # Add items not interacted with by target user to recommendations\n",
        "            recommended_items.extend([item for item in neighbor_items if item not in get_items_for_user(target_user_id, data)])  # Pass data (train_data) to get_items_for_user\n",
        "\n",
        "        recommendations[target_user_id] = recommended_items\n",
        "\n",
        "    return recommendations\n",
        "\n",
        "\n",
        "def cosine_similarity(a, b):\n",
        "    \"\"\"Calculates the cosine similarity between two vectors.\"\"\"\n",
        "    return np.dot(a, b) / (np.linalg.norm(a) * np.linalg.norm(b))\n",
        "\n",
        "def get_items_for_user(user_id, data):  # Add data argument\n",
        "    \"\"\"Retrieves the items interacted with by a given user from the specified data.\"\"\"\n",
        "    user_items = data[data['visitorid'] == user_id]['itemid'].tolist()\n",
        "    return user_items\n",
        "\n",
        "# Example Usage (assuming 'features' is your DataFrame)\n",
        "target_users = [2, 6, 88]  # Replace with your target user IDs\n",
        "recommendations = generate_recommendations(target_users, train_data)  # Pass train_data to generate_recommendations\n",
        "\n",
        "for user_id, recommended_items in recommendations.items():\n",
        "    print(f\"Recommendations for user {user_id}: {recommended_items}\")"
      ],
      "metadata": {
        "colab": {
          "base_uri": "https://localhost:8080/"
        },
        "id": "kPrIpfI3o_NK",
        "outputId": "47597a67-af52-45e4-c57a-b469e941ea67"
      },
      "execution_count": null,
      "outputs": [
        {
          "output_type": "stream",
          "name": "stdout",
          "text": [
            "Recommendations for user 2: [98412, 54124, 414939, 339763, 60139, 17478, 428891, 88886, 263741, 16949, 420228, 185712, 190487]\n",
            "Recommendations for user 6: [57841, 339665, 314642, 187511]\n",
            "Recommendations for user 88: [49466, 289051, 392004, 444951, 228844, 77233, 76570, 367664]\n"
          ]
        }
      ]
    },
    {
      "cell_type": "code",
      "source": [],
      "metadata": {
        "id": "cNYDOXWN7sCD"
      },
      "execution_count": null,
      "outputs": []
    },
    {
      "cell_type": "code",
      "source": [],
      "metadata": {
        "id": "zMA8PpudHutM"
      },
      "execution_count": null,
      "outputs": []
    }
  ]
}