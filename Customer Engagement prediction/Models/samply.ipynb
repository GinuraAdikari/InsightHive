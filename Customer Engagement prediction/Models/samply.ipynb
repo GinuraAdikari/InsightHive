{
 "cells": [
  {
   "cell_type": "code",
   "execution_count": 1,
   "metadata": {},
   "outputs": [
    {
     "name": "stderr",
     "output_type": "stream",
     "text": [
      "c:\\Users\\Thinkpad\\AppData\\Local\\Programs\\Python\\Python312\\Lib\\site-packages\\tqdm\\auto.py:21: TqdmWarning: IProgress not found. Please update jupyter and ipywidgets. See https://ipywidgets.readthedocs.io/en/stable/user_install.html\n",
      "  from .autonotebook import tqdm as notebook_tqdm\n",
      "Computing transition probabilities: 100%|██████████| 10/10 [00:00<00:00, 3323.54it/s]\n",
      "Generating walks (CPU: 1): 100%|██████████| 200/200 [00:00<00:00, 370.45it/s]\n"
     ]
    },
    {
     "name": "stdout",
     "output_type": "stream",
     "text": [
      "[-0.04871147 -0.21934043  0.1701026   0.17153533 -0.07276488 -0.25506553\n",
      "  0.04918388  0.06946573 -0.21279906 -0.0686221   0.23741898  0.03241392\n",
      " -0.0302852  -0.03668454  0.01788928 -0.00402349 -0.02120819  0.07816625\n",
      " -0.08625745  0.07045796  0.15748517  0.16770047  0.13918166  0.02967296\n",
      "  0.14564045  0.14454721 -0.08482698  0.08204758 -0.10566802 -0.07202717\n",
      " -0.07512327 -0.2080541  -0.0536923  -0.21982871  0.02023494  0.05832337\n",
      "  0.03412488 -0.07432535  0.31676617 -0.0447885  -0.05101873  0.11668368\n",
      " -0.03369311 -0.09595025  0.02425287 -0.06081545 -0.01181537 -0.01484256\n",
      "  0.10947117 -0.06448296  0.17165326 -0.00178679 -0.04219293  0.16088001\n",
      "  0.12692069 -0.09827207 -0.1181344  -0.19355066 -0.02912698  0.16558556\n",
      "  0.0370178  -0.12167971 -0.1459677   0.01529944]\n"
     ]
    }
   ],
   "source": [
    "from node2vec import Node2Vec\n",
    "import networkx as nx\n",
    "\n",
    "# Create a simple graph\n",
    "G = nx.fast_gnp_random_graph(n=10, p=0.5)\n",
    "\n",
    "# Initialize Node2Vec with the graph\n",
    "node2vec = Node2Vec(G, dimensions=64, walk_length=30, num_walks=200, p=1, q=1)\n",
    "\n",
    "# Fit the model\n",
    "model = node2vec.fit(window=10, min_count=1, batch_words=4)\n",
    "\n",
    "# Get the embedding for a node\n",
    "print(model.wv['0'])  # Replace '0' with an existing node ID in your graph\n"
   ]
  }
 ],
 "metadata": {
  "kernelspec": {
   "display_name": "Python 3",
   "language": "python",
   "name": "python3"
  },
  "language_info": {
   "codemirror_mode": {
    "name": "ipython",
    "version": 3
   },
   "file_extension": ".py",
   "mimetype": "text/x-python",
   "name": "python",
   "nbconvert_exporter": "python",
   "pygments_lexer": "ipython3",
   "version": "3.12.3"
  }
 },
 "nbformat": 4,
 "nbformat_minor": 2
}
