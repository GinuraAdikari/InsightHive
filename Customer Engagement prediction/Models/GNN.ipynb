{
 "cells": [
  {
   "cell_type": "code",
   "execution_count": 1,
   "metadata": {},
   "outputs": [],
   "source": [
    "import networkx as nx\n",
    "import pandas as pd\n",
    "\n",
    "data = pd.read_csv(\"../Datasets/Dataset.csv\")"
   ]
  },
  {
   "cell_type": "code",
   "execution_count": 2,
   "metadata": {},
   "outputs": [
    {
     "ename": "ModuleNotFoundError",
     "evalue": "No module named 'torch_geometric'",
     "output_type": "error",
     "traceback": [
      "\u001b[1;31m---------------------------------------------------------------------------\u001b[0m",
      "\u001b[1;31mModuleNotFoundError\u001b[0m                       Traceback (most recent call last)",
      "Cell \u001b[1;32mIn[2], line 3\u001b[0m\n\u001b[0;32m      1\u001b[0m \u001b[38;5;28;01mimport\u001b[39;00m \u001b[38;5;21;01mpandas\u001b[39;00m \u001b[38;5;28;01mas\u001b[39;00m \u001b[38;5;21;01mpd\u001b[39;00m\n\u001b[0;32m      2\u001b[0m \u001b[38;5;28;01mimport\u001b[39;00m \u001b[38;5;21;01mtorch\u001b[39;00m\n\u001b[1;32m----> 3\u001b[0m \u001b[38;5;28;01mfrom\u001b[39;00m \u001b[38;5;21;01mtorch_geometric\u001b[39;00m\u001b[38;5;21;01m.\u001b[39;00m\u001b[38;5;21;01mdata\u001b[39;00m \u001b[38;5;28;01mimport\u001b[39;00m Data\n\u001b[0;32m      4\u001b[0m \u001b[38;5;28;01mfrom\u001b[39;00m \u001b[38;5;21;01mtorch_geometric\u001b[39;00m\u001b[38;5;21;01m.\u001b[39;00m\u001b[38;5;21;01mutils\u001b[39;00m \u001b[38;5;28;01mimport\u001b[39;00m from_networkx\n\u001b[0;32m      5\u001b[0m \u001b[38;5;28;01mimport\u001b[39;00m \u001b[38;5;21;01mnetworkx\u001b[39;00m \u001b[38;5;28;01mas\u001b[39;00m \u001b[38;5;21;01mnx\u001b[39;00m\n",
      "\u001b[1;31mModuleNotFoundError\u001b[0m: No module named 'torch_geometric'"
     ]
    }
   ],
   "source": [
    "import pandas as pd\n",
    "import torch\n",
    "from torch_geometric.data import Data\n",
    "from torch_geometric.utils import from_networkx\n",
    "import networkx as nx\n",
    "\n",
    "# Initialize a NetworkX graph\n",
    "G = nx.Graph()\n",
    "\n",
    "# Step 1: Add nodes with unique types\n",
    "node_types = ['campaign_item_id', 'advertiser_id', 'ext_service_name', 'creative_id', \n",
    "              'search_tags', 'template_id', 'channel_name', 'keywords']\n",
    "\n",
    "# Add nodes to the graph\n",
    "node_mapping = {}  # To map node names to unique indices\n",
    "current_index = 0\n",
    "for col in node_types:\n",
    "    for value in data[col].unique():\n",
    "        node_name = f\"{col}_{value}\"\n",
    "        G.add_node(node_name, type=col)\n",
    "        node_mapping[node_name] = current_index\n",
    "        current_index += 1\n",
    "\n",
    "# Step 2: Add edges based on relationships\n",
    "for index, row in data.iterrows():\n",
    "    G.add_edge(f\"campaign_item_id_{row['campaign_item_id']}\", f\"advertiser_id_{row['advertiser_id']}\")\n",
    "    G.add_edge(f\"creative_id_{row['creative_id']}\", f\"search_tags_{row['search_tags']}\")\n",
    "    G.add_edge(f\"ext_service_name_{row['ext_service_name']}\", f\"channel_name_{row['channel_name']}\")\n",
    "    G.add_edge(f\"campaign_item_id_{row['campaign_item_id']}\", f\"creative_id_{row['creative_id']}\")\n",
    "\n",
    "# Optional: Add weighted edges\n",
    "for index, row in data.iterrows():\n",
    "    G.add_edge(f\"campaign_item_id_{row['campaign_item_id']}\", f\"ext_service_name_{row['ext_service_name']}\", weight=row['media_cost_usd'])\n",
    "\n",
    "# Step 3: Generate node features\n",
    "# Here, we'll create dummy features. Replace this with actual node features if available.\n",
    "num_features = 8  # Number of features per node\n",
    "features = torch.rand(len(node_mapping), num_features)\n",
    "\n",
    "# Assign features to nodes\n",
    "for node, idx in node_mapping.items():\n",
    "    G.nodes[node]['feature'] = features[idx]\n",
    "\n",
    "# Step 4: Convert the NetworkX graph to PyTorch Geometric's format\n",
    "data = from_networkx(G)\n",
    "\n",
    "# Step 5: Add node features to PyG data\n",
    "data.x = features  # Node features\n",
    "data.edge_attr = torch.tensor([G[u][v].get('weight', 1.0) for u, v in G.edges()], dtype=torch.float)  # Edge weights\n",
    "\n",
    "# Check the PyG data object\n",
    "print(data)\n"
   ]
  }
 ],
 "metadata": {
  "kernelspec": {
   "display_name": "Python 3",
   "language": "python",
   "name": "python3"
  },
  "language_info": {
   "codemirror_mode": {
    "name": "ipython",
    "version": 3
   },
   "file_extension": ".py",
   "mimetype": "text/x-python",
   "name": "python",
   "nbconvert_exporter": "python",
   "pygments_lexer": "ipython3",
   "version": "3.12.3"
  }
 },
 "nbformat": 4,
 "nbformat_minor": 2
}
