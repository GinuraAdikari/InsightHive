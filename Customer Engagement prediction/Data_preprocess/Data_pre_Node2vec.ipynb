{
 "cells": [
  {
   "cell_type": "code",
   "execution_count": 61,
   "metadata": {},
   "outputs": [],
   "source": [
    "import pandas as pd\n",
    "import networkx as nx\n",
    "from sklearn.preprocessing import LabelEncoder\n",
    "import matplotlib.pyplot as plt\n",
    "import numpy as np"
   ]
  },
  {
   "cell_type": "code",
   "execution_count": 62,
   "metadata": {},
   "outputs": [
    {
     "name": "stdout",
     "output_type": "stream",
     "text": [
      "   campaign_item_id  advertiser_id advertiser_name  ext_service_id  \\\n",
      "0              2733           4756             Web             128   \n",
      "1              2733           4756             Web              16   \n",
      "2              2733           4756             Web             128   \n",
      "3              2733           4756             Web             128   \n",
      "4              2733           4756             Web               4   \n",
      "\n",
      "  ext_service_name  creative_id  creative_width  creative_height  \\\n",
      "0     Facebook Ads         1000           300.0            250.0   \n",
      "1            DV360         1000           300.0            250.0   \n",
      "2     Facebook Ads         1000           300.0            250.0   \n",
      "3     Facebook Ads         1000           300.0            250.0   \n",
      "4       Google Ads         1000           300.0            250.0   \n",
      "\n",
      "                          search_tags  template_id  ...  channel_name  \\\n",
      "0                     #The Power of X         90.0  ...        Mobile   \n",
      "1                      #Be Bold. Be X         90.0  ...        Social   \n",
      "2  #Embrace Your Individuality with X         90.0  ...        Social   \n",
      "3                      #Be Bold. Be X         90.0  ...         Video   \n",
      "4                      #Be Bold. Be X         90.0  ...        Mobile   \n",
      "\n",
      "  campaign_budget_usd  media_cost_usd  impressions  clicks       time  \\\n",
      "0          652.173913       14.058514          837       8 2022-05-01   \n",
      "1          652.173913       99.633496         2634      44 2022-05-02   \n",
      "2          652.173913      109.419677         2135      32 2022-05-03   \n",
      "3          652.173913      115.209499         2327      48 2022-05-04   \n",
      "4          652.173913       66.990104         1538      20 2022-05-05   \n",
      "\n",
      "  weekday_cat                                       landing_page network_id  \\\n",
      "0    week_end  https://www.abcjewelry.com/collections/boho-je...        190   \n",
      "1    week_day  https://www.abcjewelry.com/women/costume-jewelry/        190   \n",
      "2    week_day  https://www.abcjewelry.com/collections/boho-je...        190   \n",
      "3    week_day  https://www.abcjewelry.com/collections/rhinest...        190   \n",
      "4    week_day  https://www.abcjewelry.com/collections/boho-je...        190   \n",
      "\n",
      "             keywords  \n",
      "0  delicate bracelets  \n",
      "1      summer jewelry  \n",
      "2     artisan jewelry  \n",
      "3   layered bracelets  \n",
      "4  minimalist jewelry  \n",
      "\n",
      "[5 rows x 21 columns]\n"
     ]
    }
   ],
   "source": [
    "# Load the dataset\n",
    "df = pd.read_csv(\"../Datasets/Marketing campaign dataset.csv\")\n",
    "\n",
    "# Select relevant features\n",
    "selected_columns = [\n",
    "    'campaign_item_id', 'advertiser_id', 'advertiser_name', 'ext_service_id', 'ext_service_name',\n",
    "    'creative_id', 'creative_width', 'creative_height', 'search_tags', 'template_id','channel_id', 'channel_name', 'campaign_budget_usd', \n",
    "    'media_cost_usd', 'impressions', 'clicks', 'time', 'weekday_cat','landing_page', 'network_id', 'keywords'\n",
    "]\n",
    "\n",
    "df = df[selected_columns]\n",
    "\n",
    "# Convert time to datetime for later use\n",
    "df['time'] = pd.to_datetime(df['time'])\n",
    "\n",
    "# Display the processed df\n",
    "print(df.head())"
   ]
  },
  {
   "cell_type": "code",
   "execution_count": 63,
   "metadata": {},
   "outputs": [
    {
     "name": "stdout",
     "output_type": "stream",
     "text": [
      "Null values in each column:\n",
      " campaign_item_id          0\n",
      "advertiser_id             0\n",
      "advertiser_name           0\n",
      "ext_service_id            0\n",
      "ext_service_name          0\n",
      "creative_id               0\n",
      "creative_width         3412\n",
      "creative_height        3412\n",
      "search_tags               0\n",
      "template_id            3412\n",
      "channel_id                0\n",
      "channel_name              0\n",
      "campaign_budget_usd       0\n",
      "media_cost_usd            0\n",
      "impressions               0\n",
      "clicks                    0\n",
      "time                      0\n",
      "weekday_cat               0\n",
      "landing_page              0\n",
      "network_id                0\n",
      "keywords                  0\n",
      "dtype: int64\n",
      "Total rows with any missing values: 3412\n"
     ]
    }
   ],
   "source": [
    "# Check for null values in the dfset\n",
    "null_values = df.isnull().sum()\n",
    "\n",
    "# Display columns with null values (if any)\n",
    "print(\"Null values in each column:\\n\", null_values)\n",
    "\n",
    "# To check if there are any rows with missing values in the entire dfset\n",
    "print(\"Total rows with any missing values:\", df.isnull().any(axis=1).sum())"
   ]
  },
  {
   "cell_type": "code",
   "execution_count": 64,
   "metadata": {},
   "outputs": [],
   "source": [
    "df['creative_dimension'] = df['creative_height'] * df['creative_width']\n",
    "df = df.drop(columns=['creative_height','creative_width'])"
   ]
  },
  {
   "cell_type": "code",
   "execution_count": 65,
   "metadata": {},
   "outputs": [
    {
     "name": "stdout",
     "output_type": "stream",
     "text": [
      "   campaign_item_id  advertiser_id advertiser_name  ext_service_id  \\\n",
      "0              2733           4756             Web             128   \n",
      "1              2733           4756             Web              16   \n",
      "2              2733           4756             Web             128   \n",
      "3              2733           4756             Web             128   \n",
      "4              2733           4756             Web               4   \n",
      "\n",
      "  ext_service_name  creative_id                         search_tags  \\\n",
      "0     Facebook Ads         1000                     #The Power of X   \n",
      "1            DV360         1000                      #Be Bold. Be X   \n",
      "2     Facebook Ads         1000  #Embrace Your Individuality with X   \n",
      "3     Facebook Ads         1000                      #Be Bold. Be X   \n",
      "4       Google Ads         1000                      #Be Bold. Be X   \n",
      "\n",
      "   template_id  channel_id channel_name  campaign_budget_usd  media_cost_usd  \\\n",
      "0         90.0          32       Mobile           652.173913       14.058514   \n",
      "1         90.0           8       Social           652.173913       99.633496   \n",
      "2         90.0           8       Social           652.173913      109.419677   \n",
      "3         90.0          64        Video           652.173913      115.209499   \n",
      "4         90.0          32       Mobile           652.173913       66.990104   \n",
      "\n",
      "   impressions  clicks       time weekday_cat  \\\n",
      "0          837       8 2022-05-01    week_end   \n",
      "1         2634      44 2022-05-02    week_day   \n",
      "2         2135      32 2022-05-03    week_day   \n",
      "3         2327      48 2022-05-04    week_day   \n",
      "4         1538      20 2022-05-05    week_day   \n",
      "\n",
      "                                        landing_page  network_id  \\\n",
      "0  https://www.abcjewelry.com/collections/boho-je...         190   \n",
      "1  https://www.abcjewelry.com/women/costume-jewelry/         190   \n",
      "2  https://www.abcjewelry.com/collections/boho-je...         190   \n",
      "3  https://www.abcjewelry.com/collections/rhinest...         190   \n",
      "4  https://www.abcjewelry.com/collections/boho-je...         190   \n",
      "\n",
      "             keywords  creative_dimension  \n",
      "0  delicate bracelets             75000.0  \n",
      "1      summer jewelry             75000.0  \n",
      "2     artisan jewelry             75000.0  \n",
      "3   layered bracelets             75000.0  \n",
      "4  minimalist jewelry             75000.0  \n"
     ]
    }
   ],
   "source": [
    "# Remove rows where 'creative_dimension' is null (NaN)\n",
    "df = df.dropna(subset=['creative_dimension'])\n",
    "\n",
    "# Check the cleaned df frame\n",
    "print(df.head())"
   ]
  },
  {
   "cell_type": "code",
   "execution_count": 66,
   "metadata": {},
   "outputs": [
    {
     "name": "stdout",
     "output_type": "stream",
     "text": [
      "       campaign_item_id  advertiser_id advertiser_name  ext_service_id  \\\n",
      "0                  2733           4756             Web             128   \n",
      "1                  2733           4756             Web              16   \n",
      "2                  2733           4756             Web             128   \n",
      "3                  2733           4756             Web             128   \n",
      "4                  2733           4756             Web               4   \n",
      "...                 ...            ...             ...             ...   \n",
      "69195              3960           5857           Cairo             128   \n",
      "69196              3960           5857           Cairo             128   \n",
      "69197              3960           5857           Cairo             128   \n",
      "69198              3960           5857           Cairo             128   \n",
      "69199              3960           5857           Cairo              16   \n",
      "\n",
      "      ext_service_name  creative_id                               search_tags  \\\n",
      "0         Facebook Ads         1000                           #The Power of X   \n",
      "1                DV360         1000                            #Be Bold. Be X   \n",
      "2         Facebook Ads         1000        #Embrace Your Individuality with X   \n",
      "3         Facebook Ads         1000                            #Be Bold. Be X   \n",
      "4           Google Ads         1000                            #Be Bold. Be X   \n",
      "...                ...          ...                                       ...   \n",
      "69195     Facebook Ads        13710    #The Ultimate Fashion Statement with X   \n",
      "69196     Facebook Ads        13710                            #Be Bold. Be X   \n",
      "69197     Facebook Ads        13710                         #Timeless X Style   \n",
      "69198     Facebook Ads        13710  #The X Factor - Fashion for the Fearless   \n",
      "69199            DV360        13710                           #The Power of X   \n",
      "\n",
      "       template_id  channel_id channel_name  campaign_budget_usd  \\\n",
      "0             90.0          32       Mobile           652.173913   \n",
      "1             90.0           8       Social           652.173913   \n",
      "2             90.0           8       Social           652.173913   \n",
      "3             90.0          64        Video           652.173913   \n",
      "4             90.0          32       Mobile           652.173913   \n",
      "...            ...         ...          ...                  ...   \n",
      "69195         90.0          32       Mobile           600.000000   \n",
      "69196         90.0           1      Display           600.000000   \n",
      "69197         90.0           4       Search           600.000000   \n",
      "69198         90.0           8       Social           600.000000   \n",
      "69199         90.0           8       Social           600.000000   \n",
      "\n",
      "       media_cost_usd  impressions  clicks       time weekday_cat  \\\n",
      "0           14.058514          837       8 2022-05-01    week_end   \n",
      "1           99.633496         2634      44 2022-05-02    week_day   \n",
      "2          109.419677         2135      32 2022-05-03    week_day   \n",
      "3          115.209499         2327      48 2022-05-04    week_day   \n",
      "4           66.990104         1538      20 2022-05-05    week_day   \n",
      "...               ...          ...     ...        ...         ...   \n",
      "69195       20.419520         1274      12 2022-12-03    week_day   \n",
      "69196       18.950320         1210       7 2022-12-04    week_end   \n",
      "69197       16.460140         1153      25 2022-12-05    week_day   \n",
      "69198       16.374037         1156      11 2022-12-06    week_day   \n",
      "69199        1.751098          590       3 2022-12-07    week_day   \n",
      "\n",
      "                                            landing_page  network_id  \\\n",
      "0      https://www.abcjewelry.com/collections/boho-je...         190   \n",
      "1      https://www.abcjewelry.com/women/costume-jewelry/         190   \n",
      "2      https://www.abcjewelry.com/collections/boho-je...         190   \n",
      "3      https://www.abcjewelry.com/collections/rhinest...         190   \n",
      "4      https://www.abcjewelry.com/collections/boho-je...         190   \n",
      "...                                                  ...         ...   \n",
      "69195  https://www.abcjewelry.com/collections/rhinest...         350   \n",
      "69196  https://www.abcjewelry.com/women/designer-insp...         350   \n",
      "69197   https://www.abcjewelry.com/women/fashion-jewelry         350   \n",
      "69198  https://www.abcjewelry.com/collections/boho-je...         350   \n",
      "69199  https://www.abcjewelry.com/collections/multi-s...         350   \n",
      "\n",
      "                 keywords  creative_dimension  \n",
      "0      delicate bracelets             75000.0  \n",
      "1          summer jewelry             75000.0  \n",
      "2         artisan jewelry             75000.0  \n",
      "3       layered bracelets             75000.0  \n",
      "4      minimalist jewelry             75000.0  \n",
      "...                   ...                 ...  \n",
      "69195      chunky jewelry             75000.0  \n",
      "69196      luxury jewelry             75000.0  \n",
      "69197    everyday jewelry             75000.0  \n",
      "69198    dazzling jewelry             75000.0  \n",
      "69199      winter jewelry             75000.0  \n",
      "\n",
      "[69200 rows x 20 columns]\n"
     ]
    }
   ],
   "source": [
    "print(df)"
   ]
  },
  {
   "cell_type": "code",
   "execution_count": 67,
   "metadata": {},
   "outputs": [],
   "source": [
    "encoded_channels = pd.get_dummies(df['channel_name'], prefix='channel').astype(int)\n",
    "encoded_services = pd.get_dummies(df['ext_service_name'], prefix='service').astype(int)\n",
    "df = df.drop(columns=['channel_name', 'ext_service_name'])\n",
    "df = pd.concat([df, encoded_channels, encoded_services], axis=1)\n"
   ]
  },
  {
   "cell_type": "code",
   "execution_count": 68,
   "metadata": {},
   "outputs": [],
   "source": [
    "from sklearn.preprocessing import LabelEncoder\n",
    "\n",
    "# Label encode the advertiser_name feature\n",
    "le = LabelEncoder()\n",
    "df['advertiser_name'] = le.fit_transform(df['advertiser_name'])"
   ]
  },
  {
   "cell_type": "code",
   "execution_count": 69,
   "metadata": {},
   "outputs": [
    {
     "name": "stdout",
     "output_type": "stream",
     "text": [
      "Epoch 1/10\n",
      "\u001b[1m2163/2163\u001b[0m \u001b[32m━━━━━━━━━━━━━━━━━━━━\u001b[0m\u001b[37m\u001b[0m \u001b[1m9s\u001b[0m 3ms/step - loss: 0.1037\n",
      "Epoch 2/10\n",
      "\u001b[1m2163/2163\u001b[0m \u001b[32m━━━━━━━━━━━━━━━━━━━━\u001b[0m\u001b[37m\u001b[0m \u001b[1m6s\u001b[0m 3ms/step - loss: 0.0839\n",
      "Epoch 3/10\n",
      "\u001b[1m2163/2163\u001b[0m \u001b[32m━━━━━━━━━━━━━━━━━━━━\u001b[0m\u001b[37m\u001b[0m \u001b[1m6s\u001b[0m 3ms/step - loss: 0.0836\n",
      "Epoch 4/10\n",
      "\u001b[1m2163/2163\u001b[0m \u001b[32m━━━━━━━━━━━━━━━━━━━━\u001b[0m\u001b[37m\u001b[0m \u001b[1m6s\u001b[0m 3ms/step - loss: 0.0841\n",
      "Epoch 5/10\n",
      "\u001b[1m2163/2163\u001b[0m \u001b[32m━━━━━━━━━━━━━━━━━━━━\u001b[0m\u001b[37m\u001b[0m \u001b[1m6s\u001b[0m 3ms/step - loss: 0.0842\n",
      "Epoch 6/10\n",
      "\u001b[1m2163/2163\u001b[0m \u001b[32m━━━━━━━━━━━━━━━━━━━━\u001b[0m\u001b[37m\u001b[0m \u001b[1m6s\u001b[0m 3ms/step - loss: 0.0839\n",
      "Epoch 7/10\n",
      "\u001b[1m2163/2163\u001b[0m \u001b[32m━━━━━━━━━━━━━━━━━━━━\u001b[0m\u001b[37m\u001b[0m \u001b[1m6s\u001b[0m 3ms/step - loss: 0.0839\n",
      "Epoch 8/10\n",
      "\u001b[1m2163/2163\u001b[0m \u001b[32m━━━━━━━━━━━━━━━━━━━━\u001b[0m\u001b[37m\u001b[0m \u001b[1m6s\u001b[0m 3ms/step - loss: 0.0844\n",
      "Epoch 9/10\n",
      "\u001b[1m2163/2163\u001b[0m \u001b[32m━━━━━━━━━━━━━━━━━━━━\u001b[0m\u001b[37m\u001b[0m \u001b[1m7s\u001b[0m 3ms/step - loss: 0.0835\n",
      "Epoch 10/10\n",
      "\u001b[1m2163/2163\u001b[0m \u001b[32m━━━━━━━━━━━━━━━━━━━━\u001b[0m\u001b[37m\u001b[0m \u001b[1m6s\u001b[0m 3ms/step - loss: 0.0843\n"
     ]
    }
   ],
   "source": [
    "from tensorflow.keras.models import Model\n",
    "from tensorflow.keras.layers import Input, Embedding, Flatten, Dense\n",
    "from tensorflow.keras.optimizers import Adam\n",
    "import numpy as np\n",
    "\n",
    "# Example of your df after label encoding\n",
    "advertiser_ids = df['advertiser_name'].values\n",
    "\n",
    "# Embedding parameters\n",
    "num_advertisers = len(df['advertiser_name'].unique())  # Number of unique advertisers\n",
    "embedding_size = 10  # Dimensionality of the embedding\n",
    "\n",
    "# Define the model with an embedding layer\n",
    "advertiser_input = Input(shape=(1,), dtype='int32')\n",
    "embedding_layer = Embedding(input_dim=num_advertisers, output_dim=embedding_size)(advertiser_input)\n",
    "flattened = Flatten()(embedding_layer)\n",
    "output = Dense(1, activation='linear')(flattened)  # Example output layer (you can replace with your target)\n",
    "\n",
    "# Compile the model\n",
    "model = Model(inputs=advertiser_input, outputs=output)\n",
    "model.compile(optimizer=Adam(), loss='mean_squared_error')\n",
    "\n",
    "# Train the model (assuming you have a target variable)\n",
    "target = np.random.rand(len(advertiser_ids))  # Replace with actual target (e.g., clicks or impressions)\n",
    "model.fit(advertiser_ids, target, epochs=10, batch_size=32)\n",
    "\n",
    "# Extract learned embeddings\n",
    "embeddings = model.layers[1].get_weights()[0]  # Extract embeddings from the embedding layer\n",
    "\n",
    "# Save embeddings (for future use)\n",
    "np.save('../Datasets/advertiser_embeddings.npy', embeddings)\n"
   ]
  },
  {
   "cell_type": "code",
   "execution_count": 70,
   "metadata": {},
   "outputs": [],
   "source": [
    "from sklearn.preprocessing import LabelEncoder\n",
    "\n",
    "# Label encode the keywords feature\n",
    "le = LabelEncoder()\n",
    "df['keywords'] = le.fit_transform(df['keywords'])"
   ]
  },
  {
   "cell_type": "code",
   "execution_count": 71,
   "metadata": {},
   "outputs": [
    {
     "name": "stdout",
     "output_type": "stream",
     "text": [
      "Epoch 1/10\n",
      "\u001b[1m2163/2163\u001b[0m \u001b[32m━━━━━━━━━━━━━━━━━━━━\u001b[0m\u001b[37m\u001b[0m \u001b[1m9s\u001b[0m 3ms/step - loss: 0.1019\n",
      "Epoch 2/10\n",
      "\u001b[1m2163/2163\u001b[0m \u001b[32m━━━━━━━━━━━━━━━━━━━━\u001b[0m\u001b[37m\u001b[0m \u001b[1m7s\u001b[0m 3ms/step - loss: 0.0832\n",
      "Epoch 3/10\n",
      "\u001b[1m2163/2163\u001b[0m \u001b[32m━━━━━━━━━━━━━━━━━━━━\u001b[0m\u001b[37m\u001b[0m \u001b[1m6s\u001b[0m 3ms/step - loss: 0.0832\n",
      "Epoch 4/10\n",
      "\u001b[1m2163/2163\u001b[0m \u001b[32m━━━━━━━━━━━━━━━━━━━━\u001b[0m\u001b[37m\u001b[0m \u001b[1m6s\u001b[0m 3ms/step - loss: 0.0833\n",
      "Epoch 5/10\n",
      "\u001b[1m2163/2163\u001b[0m \u001b[32m━━━━━━━━━━━━━━━━━━━━\u001b[0m\u001b[37m\u001b[0m \u001b[1m7s\u001b[0m 3ms/step - loss: 0.0831\n",
      "Epoch 6/10\n",
      "\u001b[1m2163/2163\u001b[0m \u001b[32m━━━━━━━━━━━━━━━━━━━━\u001b[0m\u001b[37m\u001b[0m \u001b[1m6s\u001b[0m 3ms/step - loss: 0.0838\n",
      "Epoch 7/10\n",
      "\u001b[1m2163/2163\u001b[0m \u001b[32m━━━━━━━━━━━━━━━━━━━━\u001b[0m\u001b[37m\u001b[0m \u001b[1m8s\u001b[0m 4ms/step - loss: 0.0840\n",
      "Epoch 8/10\n",
      "\u001b[1m2163/2163\u001b[0m \u001b[32m━━━━━━━━━━━━━━━━━━━━\u001b[0m\u001b[37m\u001b[0m \u001b[1m6s\u001b[0m 3ms/step - loss: 0.0840\n",
      "Epoch 9/10\n",
      "\u001b[1m2163/2163\u001b[0m \u001b[32m━━━━━━━━━━━━━━━━━━━━\u001b[0m\u001b[37m\u001b[0m \u001b[1m7s\u001b[0m 3ms/step - loss: 0.0836\n",
      "Epoch 10/10\n",
      "\u001b[1m2163/2163\u001b[0m \u001b[32m━━━━━━━━━━━━━━━━━━━━\u001b[0m\u001b[37m\u001b[0m \u001b[1m7s\u001b[0m 3ms/step - loss: 0.0833\n"
     ]
    }
   ],
   "source": [
    "from tensorflow.keras.models import Model\n",
    "from tensorflow.keras.layers import Input, Embedding, Flatten, Dense\n",
    "from tensorflow.keras.optimizers import Adam\n",
    "import numpy as np\n",
    "\n",
    "# Example of your df after label encoding\n",
    "keyword_ids = df['keywords'].values\n",
    "\n",
    "# Embedding parameters\n",
    "num_keywords = len(df['keywords'].unique())  # Number of unique advertisers\n",
    "embedding_size = 10  # Dimensionality of the embedding\n",
    "\n",
    "# Define the model with an embedding layer\n",
    "advertiser_input = Input(shape=(1,), dtype='int32')\n",
    "embedding_layer = Embedding(input_dim=num_advertisers, output_dim=embedding_size)(advertiser_input)\n",
    "flattened = Flatten()(embedding_layer)\n",
    "output = Dense(1, activation='linear')(flattened)  # Example output layer (you can replace with your target)\n",
    "\n",
    "# Compile the model\n",
    "model = Model(inputs=advertiser_input, outputs=output)\n",
    "model.compile(optimizer=Adam(), loss='mean_squared_error')\n",
    "\n",
    "# Train the model (assuming you have a target variable)\n",
    "target = np.random.rand(len(advertiser_ids))  # Replace with actual target (e.g., clicks or impressions)\n",
    "model.fit(advertiser_ids, target, epochs=10, batch_size=32)\n",
    "\n",
    "# Extract learned embeddings\n",
    "embeddings_key = model.layers[1].get_weights()[0]  # Extract embeddings from the embedding layer\n",
    "\n",
    "# Save embeddings (for future use)\n",
    "np.save('../Datasets/keywords_embeddings.npy', embeddings_key)\n"
   ]
  },
  {
   "cell_type": "code",
   "execution_count": 76,
   "metadata": {},
   "outputs": [
    {
     "name": "stdout",
     "output_type": "stream",
     "text": [
      "Categorical Columns:\n",
      "Index(['search_tags', 'landing_page'], dtype='object')\n"
     ]
    }
   ],
   "source": [
    "categorical_columns = df.select_dtypes(include=['object', 'category']).columns\n",
    "print(\"Categorical Columns:\")\n",
    "print(categorical_columns)"
   ]
  },
  {
   "cell_type": "code",
   "execution_count": 77,
   "metadata": {},
   "outputs": [
    {
     "name": "stdout",
     "output_type": "stream",
     "text": [
      "['#The Power of X' '#Be Bold. Be X' '#Embrace Your Individuality with X'\n",
      " '#The Ultimate Fashion Statement with X'\n",
      " '#The X Factor - Fashion for the Fearless' '#Timeless X Style']\n"
     ]
    }
   ],
   "source": [
    "print(df['search_tags'].unique())"
   ]
  },
  {
   "cell_type": "code",
   "execution_count": null,
   "metadata": {},
   "outputs": [
    {
     "name": "stdout",
     "output_type": "stream",
     "text": [
      "   campaign_item_id  advertiser_id  advertiser_name  ext_service_id  \\\n",
      "0              2733           4756               37             128   \n",
      "1              2733           4756               37              16   \n",
      "2              2733           4756               37             128   \n",
      "3              2733           4756               37             128   \n",
      "4              2733           4756               37               4   \n",
      "\n",
      "   creative_id                         search_tags  template_id  channel_id  \\\n",
      "0         1000                     #The Power of X         90.0          32   \n",
      "1         1000                      #Be Bold. Be X         90.0           8   \n",
      "2         1000  #Embrace Your Individuality with X         90.0           8   \n",
      "3         1000                      #Be Bold. Be X         90.0          64   \n",
      "4         1000                      #Be Bold. Be X         90.0          32   \n",
      "\n",
      "   campaign_budget_usd  media_cost_usd  ...  channel_Display  channel_Mobile  \\\n",
      "0           652.173913       14.058514  ...                0               1   \n",
      "1           652.173913       99.633496  ...                0               0   \n",
      "2           652.173913      109.419677  ...                0               0   \n",
      "3           652.173913      115.209499  ...                0               0   \n",
      "4           652.173913       66.990104  ...                0               1   \n",
      "\n",
      "  channel_Search channel_Social  channel_Video  service_DV360  \\\n",
      "0              0              0              0              0   \n",
      "1              0              1              0              1   \n",
      "2              0              1              0              0   \n",
      "3              0              0              1              0   \n",
      "4              0              0              0              0   \n",
      "\n",
      "   service_Facebook Ads  service_Google Ads  week_day  week_end  \n",
      "0                     1                   0         0         1  \n",
      "1                     0                   0         1         0  \n",
      "2                     1                   0         1         0  \n",
      "3                     1                   0         1         0  \n",
      "4                     0                   1         1         0  \n",
      "\n",
      "[5 rows x 27 columns]\n"
     ]
    }
   ],
   "source": [
    "# One-hot encoding 'week_cat' with column names exactly matching unique values\n",
    "encoded_week_cat = pd.get_dummies(df['weekday_cat'], prefix='', prefix_sep='').astype(int)\n",
    "\n",
    "# Adding the encoded columns to the DataFrame\n",
    "df = pd.concat([df, encoded_week_cat], axis=1)\n",
    "\n",
    "# Optionally drop the original 'weekday_cat' column if no longer needed\n",
    "df.drop('weekday_cat', axis=1, inplace=True)\n",
    "\n",
    "# Display the updated DataFrame\n",
    "print(df.head())\n"
   ]
  }
 ],
 "metadata": {
  "kernelspec": {
   "display_name": "Python 3",
   "language": "python",
   "name": "python3"
  },
  "language_info": {
   "codemirror_mode": {
    "name": "ipython",
    "version": 3
   },
   "file_extension": ".py",
   "mimetype": "text/x-python",
   "name": "python",
   "nbconvert_exporter": "python",
   "pygments_lexer": "ipython3",
   "version": "3.12.3"
  }
 },
 "nbformat": 4,
 "nbformat_minor": 2
}
