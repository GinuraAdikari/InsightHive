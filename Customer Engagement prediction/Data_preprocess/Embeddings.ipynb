{
 "cells": [
  {
   "cell_type": "code",
   "execution_count": 2,
   "metadata": {},
   "outputs": [
    {
     "data": {
      "text/plain": [
       "<bound method DataFrame.info of        campaign_item_id  no_of_days  ext_service_id ext_service_name  \\\n",
       "0                  2733    0.059322             128     Facebook Ads   \n",
       "1                  2733    0.067797              16            DV360   \n",
       "2                  2733    0.076271             128     Facebook Ads   \n",
       "3                  2733    0.084746             128     Facebook Ads   \n",
       "4                  2733    0.093220               4       Google Ads   \n",
       "...                 ...         ...             ...              ...   \n",
       "65744              3960    0.016949             128     Facebook Ads   \n",
       "65745              3960    0.025424             128     Facebook Ads   \n",
       "65746              3960    0.033898             128     Facebook Ads   \n",
       "65747              3960    0.042373             128     Facebook Ads   \n",
       "65748              3960    0.050847              16            DV360   \n",
       "\n",
       "       creative_id                               search_tags  template_id  \\\n",
       "0             1000                           #The Power of X         90.0   \n",
       "1             1000                            #Be Bold. Be X         90.0   \n",
       "2             1000        #Embrace Your Individuality with X         90.0   \n",
       "3             1000                            #Be Bold. Be X         90.0   \n",
       "4             1000                            #Be Bold. Be X         90.0   \n",
       "...            ...                                       ...          ...   \n",
       "65744        13710    #The Ultimate Fashion Statement with X         90.0   \n",
       "65745        13710                            #Be Bold. Be X         90.0   \n",
       "65746        13710                         #Timeless X Style         90.0   \n",
       "65747        13710  #The X Factor - Fashion for the Fearless         90.0   \n",
       "65748        13710                           #The Power of X         90.0   \n",
       "\n",
       "       advertiser_id advertiser_name  network_id  ...  search_cat_Inmarket  \\\n",
       "0               4756             Web         190  ...                    0   \n",
       "1               4756             Web         190  ...                    0   \n",
       "2               4756             Web         190  ...                    0   \n",
       "3               4756             Web         190  ...                    0   \n",
       "4               4756             Web         190  ...                    0   \n",
       "...              ...             ...         ...  ...                  ...   \n",
       "65744           5857           Cairo         350  ...                    1   \n",
       "65745           5857           Cairo         350  ...                    1   \n",
       "65746           5857           Cairo         350  ...                    1   \n",
       "65747           5857           Cairo         350  ...                    1   \n",
       "65748           5857           Cairo         350  ...                    1   \n",
       "\n",
       "      search_cat_Others  search_cat_Retargeting  search_cat_Youtube Display  \\\n",
       "0                     1                       0                   0       0   \n",
       "1                     1                       0                   0       0   \n",
       "2                     1                       0                   0       0   \n",
       "3                     1                       0                   0       0   \n",
       "4                     1                       0                   0       0   \n",
       "...                 ...                     ...                 ...     ...   \n",
       "65744                 0                       0                   0       0   \n",
       "65745                 0                       0                   0       1   \n",
       "65746                 0                       0                   0       0   \n",
       "65747                 0                       0                   0       0   \n",
       "65748                 0                       0                   0       0   \n",
       "\n",
       "       Mobile Search Social Video  clicks_category  \n",
       "0           1      0      0     0                0  \n",
       "1           0      0      1     0                1  \n",
       "2           0      0      1     0                1  \n",
       "3           0      0      0     1                1  \n",
       "4           1      0      0     0                1  \n",
       "...       ...    ...    ...   ...              ...  \n",
       "65744       1      0      0     0                0  \n",
       "65745       0      0      0     0                0  \n",
       "65746       0      1      0     0                1  \n",
       "65747       0      0      1     0                0  \n",
       "65748       0      0      1     0                0  \n",
       "\n",
       "[65749 rows x 38 columns]>"
      ]
     },
     "execution_count": 2,
     "metadata": {},
     "output_type": "execute_result"
    }
   ],
   "source": [
    "import pandas as pd\n",
    "import numpy as np\n",
    "\n",
    "df = pd.read_csv('../Datasets/processed_data.csv')\n",
    "df.info"
   ]
  },
  {
   "cell_type": "code",
   "execution_count": 3,
   "metadata": {},
   "outputs": [],
   "source": [
    "import numpy as np\n",
    "import pandas as pd\n",
    "\n",
    "# Step 1: Load GloVe embeddings\n",
    "glove_path = \"../GloVe/glove.6B.50d.txt\"  # Update with the correct path\n",
    "\n",
    "def load_glove_embeddings(glove_file):\n",
    "    embeddings = {}\n",
    "    with open(glove_file, \"r\", encoding=\"utf-8\") as f:\n",
    "        for line in f:\n",
    "            values = line.split()\n",
    "            word = values[0]  # First value is the word\n",
    "            vector = np.array(values[1:], dtype=np.float32)  # Rest are vector components\n",
    "            embeddings[word] = vector\n",
    "    return embeddings\n",
    "\n",
    "glove_embeddings = load_glove_embeddings(glove_path)\n"
   ]
  },
  {
   "cell_type": "code",
   "execution_count": 4,
   "metadata": {},
   "outputs": [],
   "source": [
    "# Step 2: Function to get phrase-level embedding\n",
    "def get_phrase_embedding(phrase):\n",
    "    words = phrase.split()  # Split phrase into words\n",
    "    vectors = [glove_embeddings[word] for word in words if word in glove_embeddings]  \n",
    "    if vectors:\n",
    "        return np.mean(vectors, axis=0)  # Average word vectors to form phrase vector\n",
    "    else:\n",
    "        return np.zeros(50)  # Return zero vector if no word is found in GloVe\n"
   ]
  },
  {
   "cell_type": "code",
   "execution_count": 5,
   "metadata": {},
   "outputs": [],
   "source": [
    "# Step 3: Apply embeddings to the DataFrame\n",
    "df['keyword_embedding'] = df['keywords'].apply(get_phrase_embedding)"
   ]
  },
  {
   "cell_type": "code",
   "execution_count": 6,
   "metadata": {},
   "outputs": [],
   "source": [
    "# Step 3: Apply embeddings to the DataFrame\n",
    "df['advertiser_embedding'] = df['advertiser_name'].apply(get_phrase_embedding)"
   ]
  },
  {
   "cell_type": "code",
   "execution_count": 7,
   "metadata": {},
   "outputs": [
    {
     "name": "stdout",
     "output_type": "stream",
     "text": [
      "✅ Keyword embeddings saved to 'keyword_embeddings.csv'.\n"
     ]
    }
   ],
   "source": [
    "import pandas as pd\n",
    "\n",
    "# Convert keyword embeddings to a DataFrame\n",
    "keyword_embeddings_df = pd.DataFrame(df['keyword_embedding'].tolist(), \n",
    "                                     columns=[f'keyword_emb_{i}' for i in range(50)])\n",
    "keyword_embeddings_df.insert(0, \"keyword\", df['keywords'])  # Add keyword column\n",
    "\n",
    "# Save keyword embeddings for later use\n",
    "keyword_embeddings_df.to_csv(\"../Datasets/keyword_embeddings.csv\", index=False)\n",
    "\n",
    "print(\"✅ Keyword embeddings saved to 'keyword_embeddings.csv'.\")\n",
    "\n",
    "# Merge embeddings into the original DataFrame\n",
    "df = pd.concat([df.drop(columns=['keywords', 'keyword_embedding']), keyword_embeddings_df.drop(columns=['keyword'])], axis=1)"
   ]
  },
  {
   "cell_type": "code",
   "execution_count": 8,
   "metadata": {},
   "outputs": [
    {
     "name": "stdout",
     "output_type": "stream",
     "text": [
      "✅ Advertiser embeddings for all records saved to 'advertiser_embeddings.csv'.\n"
     ]
    }
   ],
   "source": [
    "import pandas as pd\n",
    "import numpy as np\n",
    "\n",
    "# Assuming df is the original DataFrame containing a column 'advertiser_name' with advertiser names\n",
    "\n",
    "# Function to get GloVe embedding for a given word\n",
    "def get_glove_embedding(word):\n",
    "    if isinstance(word, str):  # Ensure the word is a string before splitting\n",
    "        words = word.split()  # Handle multi-word names\n",
    "        vectors = [glove_embeddings[w.lower()] for w in words if w.lower() in glove_embeddings]\n",
    "        if vectors:\n",
    "            return np.mean(vectors, axis=0)  # Average vectors for multi-word names\n",
    "    return np.zeros(50)  # Default zero vector for non-strings or unknown words\n",
    "\n",
    "# Step 1: Handle non-string values in the 'advertiser_name' column (replace NaN or non-strings with empty strings)\n",
    "df['advertiser_name'] = df['advertiser_name'].fillna('').astype(str)\n",
    "\n",
    "# Step 2: Apply the embedding function to each 'advertiser_name' in the DataFrame\n",
    "df['advertiser_embedding'] = df['advertiser_name'].apply(get_glove_embedding)\n",
    "\n",
    "# Step 3: Convert the embeddings into separate columns\n",
    "advertiser_embeddings_df = pd.DataFrame(df['advertiser_embedding'].tolist(), \n",
    "                                        columns=[f'advertiser_emb_{i}' for i in range(50)])\n",
    "\n",
    "# Step 4: Include only the 'advertiser_name' and embedding columns\n",
    "advertiser_embeddings_df.insert(0, \"advertiser_name\", df['advertiser_name'])\n",
    "\n",
    "# Step 5: Save the embeddings to a separate CSV file (only 'advertiser_name' and embeddings)\n",
    "advertiser_embeddings_df.to_csv(\"../Datasets/advertiser_embeddings.csv\", index=False)\n",
    "\n",
    "print(\"✅ Advertiser embeddings for all records saved to 'advertiser_embeddings.csv'.\")\n"
   ]
  },
  {
   "cell_type": "code",
   "execution_count": 9,
   "metadata": {},
   "outputs": [
    {
     "name": "stdout",
     "output_type": "stream",
     "text": [
      "✅ Search tag embeddings saved to 'search_tag_embeddings.csv'.\n"
     ]
    }
   ],
   "source": [
    "# Function to get phrase-level embedding for search tags\n",
    "def get_search_tag_embedding(tag):\n",
    "    if isinstance(tag, str):  # Ensure the tag is a string before splitting\n",
    "        words = tag.split()  # Split tag into words\n",
    "        vectors = [glove_embeddings[word] for word in words if word in glove_embeddings]  \n",
    "        if vectors:\n",
    "            return np.mean(vectors, axis=0)  # Average word vectors to form phrase vector\n",
    "    return np.zeros(50)  # Return zero vector if no word is found or tag is not a string\n",
    "\n",
    "# Apply embeddings to the search_tags column\n",
    "df['search_tag_embedding'] = df['search_tags'].apply(get_search_tag_embedding)\n",
    "\n",
    "# Convert search tag embeddings to a DataFrame\n",
    "search_tag_embeddings_df = pd.DataFrame(df['search_tag_embedding'].tolist(), \n",
    "                                     columns=[f'search_tag_emb_{i}' for i in range(50)])\n",
    "search_tag_embeddings_df.insert(0, \"search_tag\", df['search_tags'])  # Add search_tag column\n",
    "\n",
    "# Save search tag embeddings for later use\n",
    "search_tag_embeddings_df.to_csv(\"../Datasets/search_tag_embeddings.csv\", index=False)\n",
    "print(\"✅ Search tag embeddings saved to 'search_tag_embeddings.csv'.\")\n",
    "\n",
    "# Clean up the main DataFrame without adding the embeddings\n",
    "df = df.drop(columns=['search_tags', 'search_tag_embedding'])\n"
   ]
  }
 ],
 "metadata": {
  "kernelspec": {
   "display_name": "Python 3",
   "language": "python",
   "name": "python3"
  },
  "language_info": {
   "codemirror_mode": {
    "name": "ipython",
    "version": 3
   },
   "file_extension": ".py",
   "mimetype": "text/x-python",
   "name": "python",
   "nbconvert_exporter": "python",
   "pygments_lexer": "ipython3",
   "version": "3.12.3"
  }
 },
 "nbformat": 4,
 "nbformat_minor": 2
}
