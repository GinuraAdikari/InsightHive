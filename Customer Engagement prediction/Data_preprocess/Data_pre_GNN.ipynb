{
 "cells": [
  {
   "cell_type": "markdown",
   "metadata": {},
   "source": [
    "### Importing relavent libraries\n"
   ]
  },
  {
   "cell_type": "code",
   "execution_count": 1,
   "metadata": {},
   "outputs": [],
   "source": [
    "import pandas as pd"
   ]
  },
  {
   "cell_type": "code",
   "execution_count": 2,
   "metadata": {},
   "outputs": [],
   "source": [
    "# Load the dataset\n",
    "df = pd.read_csv(\"../Datasets/Marketing campaign dataset.csv\")"
   ]
  },
  {
   "cell_type": "code",
   "execution_count": 3,
   "metadata": {},
   "outputs": [
    {
     "data": {
      "text/html": [
       "<div>\n",
       "<style scoped>\n",
       "    .dataframe tbody tr th:only-of-type {\n",
       "        vertical-align: middle;\n",
       "    }\n",
       "\n",
       "    .dataframe tbody tr th {\n",
       "        vertical-align: top;\n",
       "    }\n",
       "\n",
       "    .dataframe thead th {\n",
       "        text-align: right;\n",
       "    }\n",
       "</style>\n",
       "<table border=\"1\" class=\"dataframe\">\n",
       "  <thead>\n",
       "    <tr style=\"text-align: right;\">\n",
       "      <th></th>\n",
       "      <th>campaign_item_id</th>\n",
       "      <th>no_of_days</th>\n",
       "      <th>time</th>\n",
       "      <th>ext_service_id</th>\n",
       "      <th>ext_service_name</th>\n",
       "      <th>creative_id</th>\n",
       "      <th>creative_width</th>\n",
       "      <th>creative_height</th>\n",
       "      <th>search_tags</th>\n",
       "      <th>template_id</th>\n",
       "      <th>...</th>\n",
       "      <th>exchange_rate</th>\n",
       "      <th>media_cost_usd</th>\n",
       "      <th>position_in_content</th>\n",
       "      <th>unique_reach</th>\n",
       "      <th>total_reach</th>\n",
       "      <th>search_tag_cat</th>\n",
       "      <th>cmi_currency_code</th>\n",
       "      <th>timezone</th>\n",
       "      <th>weekday_cat</th>\n",
       "      <th>keywords</th>\n",
       "    </tr>\n",
       "  </thead>\n",
       "  <tbody>\n",
       "    <tr>\n",
       "      <th>0</th>\n",
       "      <td>2733</td>\n",
       "      <td>7</td>\n",
       "      <td>2022-05-01</td>\n",
       "      <td>128</td>\n",
       "      <td>Facebook Ads</td>\n",
       "      <td>1000</td>\n",
       "      <td>300.0</td>\n",
       "      <td>250.0</td>\n",
       "      <td>#The Power of X</td>\n",
       "      <td>90.0</td>\n",
       "      <td>...</td>\n",
       "      <td>1</td>\n",
       "      <td>14.058514</td>\n",
       "      <td>NaN</td>\n",
       "      <td>NaN</td>\n",
       "      <td>NaN</td>\n",
       "      <td>Others</td>\n",
       "      <td>SGD</td>\n",
       "      <td>Asia/Singapore</td>\n",
       "      <td>week_end</td>\n",
       "      <td>delicate bracelets</td>\n",
       "    </tr>\n",
       "    <tr>\n",
       "      <th>1</th>\n",
       "      <td>2733</td>\n",
       "      <td>8</td>\n",
       "      <td>2022-05-02</td>\n",
       "      <td>16</td>\n",
       "      <td>DV360</td>\n",
       "      <td>1000</td>\n",
       "      <td>300.0</td>\n",
       "      <td>250.0</td>\n",
       "      <td>#Be Bold. Be X</td>\n",
       "      <td>90.0</td>\n",
       "      <td>...</td>\n",
       "      <td>1</td>\n",
       "      <td>99.633496</td>\n",
       "      <td>NaN</td>\n",
       "      <td>NaN</td>\n",
       "      <td>NaN</td>\n",
       "      <td>Others</td>\n",
       "      <td>SGD</td>\n",
       "      <td>Asia/Singapore</td>\n",
       "      <td>week_day</td>\n",
       "      <td>summer jewelry</td>\n",
       "    </tr>\n",
       "    <tr>\n",
       "      <th>2</th>\n",
       "      <td>2733</td>\n",
       "      <td>9</td>\n",
       "      <td>2022-05-03</td>\n",
       "      <td>128</td>\n",
       "      <td>Facebook Ads</td>\n",
       "      <td>1000</td>\n",
       "      <td>300.0</td>\n",
       "      <td>250.0</td>\n",
       "      <td>#Embrace Your Individuality with X</td>\n",
       "      <td>90.0</td>\n",
       "      <td>...</td>\n",
       "      <td>1</td>\n",
       "      <td>109.419677</td>\n",
       "      <td>NaN</td>\n",
       "      <td>NaN</td>\n",
       "      <td>NaN</td>\n",
       "      <td>Others</td>\n",
       "      <td>SGD</td>\n",
       "      <td>Asia/Singapore</td>\n",
       "      <td>week_day</td>\n",
       "      <td>artisan jewelry</td>\n",
       "    </tr>\n",
       "    <tr>\n",
       "      <th>3</th>\n",
       "      <td>2733</td>\n",
       "      <td>10</td>\n",
       "      <td>2022-05-04</td>\n",
       "      <td>128</td>\n",
       "      <td>Facebook Ads</td>\n",
       "      <td>1000</td>\n",
       "      <td>300.0</td>\n",
       "      <td>250.0</td>\n",
       "      <td>#Be Bold. Be X</td>\n",
       "      <td>90.0</td>\n",
       "      <td>...</td>\n",
       "      <td>1</td>\n",
       "      <td>115.209499</td>\n",
       "      <td>NaN</td>\n",
       "      <td>NaN</td>\n",
       "      <td>NaN</td>\n",
       "      <td>Others</td>\n",
       "      <td>SGD</td>\n",
       "      <td>Asia/Singapore</td>\n",
       "      <td>week_day</td>\n",
       "      <td>layered bracelets</td>\n",
       "    </tr>\n",
       "    <tr>\n",
       "      <th>4</th>\n",
       "      <td>2733</td>\n",
       "      <td>11</td>\n",
       "      <td>2022-05-05</td>\n",
       "      <td>4</td>\n",
       "      <td>Google Ads</td>\n",
       "      <td>1000</td>\n",
       "      <td>300.0</td>\n",
       "      <td>250.0</td>\n",
       "      <td>#Be Bold. Be X</td>\n",
       "      <td>90.0</td>\n",
       "      <td>...</td>\n",
       "      <td>1</td>\n",
       "      <td>66.990104</td>\n",
       "      <td>NaN</td>\n",
       "      <td>NaN</td>\n",
       "      <td>NaN</td>\n",
       "      <td>Others</td>\n",
       "      <td>SGD</td>\n",
       "      <td>Asia/Singapore</td>\n",
       "      <td>week_day</td>\n",
       "      <td>minimalist jewelry</td>\n",
       "    </tr>\n",
       "  </tbody>\n",
       "</table>\n",
       "<p>5 rows × 35 columns</p>\n",
       "</div>"
      ],
      "text/plain": [
       "   campaign_item_id  no_of_days        time  ext_service_id ext_service_name  \\\n",
       "0              2733           7  2022-05-01             128     Facebook Ads   \n",
       "1              2733           8  2022-05-02              16            DV360   \n",
       "2              2733           9  2022-05-03             128     Facebook Ads   \n",
       "3              2733          10  2022-05-04             128     Facebook Ads   \n",
       "4              2733          11  2022-05-05               4       Google Ads   \n",
       "\n",
       "   creative_id  creative_width  creative_height  \\\n",
       "0         1000           300.0            250.0   \n",
       "1         1000           300.0            250.0   \n",
       "2         1000           300.0            250.0   \n",
       "3         1000           300.0            250.0   \n",
       "4         1000           300.0            250.0   \n",
       "\n",
       "                          search_tags  template_id  ... exchange_rate  \\\n",
       "0                     #The Power of X         90.0  ...             1   \n",
       "1                      #Be Bold. Be X         90.0  ...             1   \n",
       "2  #Embrace Your Individuality with X         90.0  ...             1   \n",
       "3                      #Be Bold. Be X         90.0  ...             1   \n",
       "4                      #Be Bold. Be X         90.0  ...             1   \n",
       "\n",
       "   media_cost_usd position_in_content  unique_reach  total_reach  \\\n",
       "0       14.058514                 NaN           NaN          NaN   \n",
       "1       99.633496                 NaN           NaN          NaN   \n",
       "2      109.419677                 NaN           NaN          NaN   \n",
       "3      115.209499                 NaN           NaN          NaN   \n",
       "4       66.990104                 NaN           NaN          NaN   \n",
       "\n",
       "  search_tag_cat  cmi_currency_code        timezone  weekday_cat  \\\n",
       "0         Others                SGD  Asia/Singapore     week_end   \n",
       "1         Others                SGD  Asia/Singapore     week_day   \n",
       "2         Others                SGD  Asia/Singapore     week_day   \n",
       "3         Others                SGD  Asia/Singapore     week_day   \n",
       "4         Others                SGD  Asia/Singapore     week_day   \n",
       "\n",
       "             keywords  \n",
       "0  delicate bracelets  \n",
       "1      summer jewelry  \n",
       "2     artisan jewelry  \n",
       "3   layered bracelets  \n",
       "4  minimalist jewelry  \n",
       "\n",
       "[5 rows x 35 columns]"
      ]
     },
     "execution_count": 3,
     "metadata": {},
     "output_type": "execute_result"
    }
   ],
   "source": [
    "df.head()"
   ]
  },
  {
   "cell_type": "code",
   "execution_count": 4,
   "metadata": {},
   "outputs": [
    {
     "name": "stdout",
     "output_type": "stream",
     "text": [
      "campaign_item_id         int64\n",
      "no_of_days               int64\n",
      "time                    object\n",
      "ext_service_id           int64\n",
      "ext_service_name        object\n",
      "creative_id              int64\n",
      "creative_width         float64\n",
      "creative_height        float64\n",
      "search_tags             object\n",
      "template_id            float64\n",
      "landing_page            object\n",
      "advertiser_id            int64\n",
      "advertiser_name         object\n",
      "network_id               int64\n",
      "approved_budget        float64\n",
      "advertiser_currency     object\n",
      "channel_id               int64\n",
      "channel_name            object\n",
      "max_bid_cpm            float64\n",
      "network_margin         float64\n",
      "campaign_budget_usd    float64\n",
      "impressions              int64\n",
      "clicks                   int64\n",
      "stats_currency          object\n",
      "currency_code           object\n",
      "exchange_rate            int64\n",
      "media_cost_usd         float64\n",
      "position_in_content    float64\n",
      "unique_reach           float64\n",
      "total_reach            float64\n",
      "search_tag_cat          object\n",
      "cmi_currency_code       object\n",
      "timezone                object\n",
      "weekday_cat             object\n",
      "keywords                object\n",
      "dtype: object\n"
     ]
    }
   ],
   "source": [
    "print(df.dtypes)"
   ]
  },
  {
   "cell_type": "markdown",
   "metadata": {},
   "source": [
    "#### Check for null values"
   ]
  },
  {
   "cell_type": "code",
   "execution_count": 5,
   "metadata": {},
   "outputs": [
    {
     "name": "stdout",
     "output_type": "stream",
     "text": [
      "campaign_item_id           0\n",
      "no_of_days                 0\n",
      "time                       0\n",
      "ext_service_id             0\n",
      "ext_service_name           0\n",
      "creative_id                0\n",
      "creative_width          3412\n",
      "creative_height         3412\n",
      "search_tags                0\n",
      "template_id             3412\n",
      "landing_page               0\n",
      "advertiser_id              0\n",
      "advertiser_name            0\n",
      "network_id                 0\n",
      "approved_budget          406\n",
      "advertiser_currency        0\n",
      "channel_id                 0\n",
      "channel_name               0\n",
      "max_bid_cpm            65206\n",
      "network_margin             0\n",
      "campaign_budget_usd        0\n",
      "impressions                0\n",
      "clicks                     0\n",
      "stats_currency             0\n",
      "currency_code              0\n",
      "exchange_rate              0\n",
      "media_cost_usd             0\n",
      "position_in_content    72612\n",
      "unique_reach           72612\n",
      "total_reach            72612\n",
      "search_tag_cat             0\n",
      "cmi_currency_code          0\n",
      "timezone                   0\n",
      "weekday_cat                0\n",
      "keywords                   0\n",
      "dtype: int64 72612\n"
     ]
    }
   ],
   "source": [
    "print(df.isnull().sum(), len(df))"
   ]
  },
  {
   "cell_type": "markdown",
   "metadata": {},
   "source": [
    "#### Removing unneeded columns"
   ]
  },
  {
   "cell_type": "code",
   "execution_count": 6,
   "metadata": {},
   "outputs": [],
   "source": [
    "df = df.drop(columns=['total_reach','unique_reach','position_in_content',\n",
    "                      'max_bid_cpm','network_margin','approved_budget',\n",
    "                      'exchange_rate','stats_currency','advertiser_currency',\n",
    "                      'cmi_currency_code','landing_page'])"
   ]
  },
  {
   "cell_type": "markdown",
   "metadata": {},
   "source": [
    "## Creative"
   ]
  },
  {
   "cell_type": "markdown",
   "metadata": {},
   "source": [
    "#### Changing the creative columns to one column"
   ]
  },
  {
   "cell_type": "code",
   "execution_count": 7,
   "metadata": {},
   "outputs": [
    {
     "data": {
      "text/plain": [
       "array([300.,   0.,  nan])"
      ]
     },
     "execution_count": 7,
     "metadata": {},
     "output_type": "execute_result"
    }
   ],
   "source": [
    "df['creative_height'].unique()\n",
    "df['creative_width'].unique()"
   ]
  },
  {
   "cell_type": "code",
   "execution_count": 8,
   "metadata": {},
   "outputs": [],
   "source": [
    "df['creative_dimension'] = df['creative_height'] * df['creative_width']\n",
    "df = df.drop(columns=['creative_height','creative_width'])"
   ]
  },
  {
   "cell_type": "code",
   "execution_count": 9,
   "metadata": {},
   "outputs": [
    {
     "name": "stdout",
     "output_type": "stream",
     "text": [
      "campaign_item_id          0\n",
      "no_of_days                0\n",
      "time                      0\n",
      "ext_service_id            0\n",
      "ext_service_name          0\n",
      "creative_id               0\n",
      "search_tags               0\n",
      "template_id            3412\n",
      "advertiser_id             0\n",
      "advertiser_name           0\n",
      "network_id                0\n",
      "channel_id                0\n",
      "channel_name              0\n",
      "campaign_budget_usd       0\n",
      "impressions               0\n",
      "clicks                    0\n",
      "currency_code             0\n",
      "media_cost_usd            0\n",
      "search_tag_cat            0\n",
      "timezone                  0\n",
      "weekday_cat               0\n",
      "keywords                  0\n",
      "creative_dimension     3412\n",
      "dtype: int64 72612\n"
     ]
    }
   ],
   "source": [
    "print(df.isnull().sum(), len(df))"
   ]
  },
  {
   "cell_type": "markdown",
   "metadata": {},
   "source": [
    "## Template"
   ]
  },
  {
   "cell_type": "code",
   "execution_count": 10,
   "metadata": {},
   "outputs": [
    {
     "data": {
      "text/plain": [
       "array([90., 23., 92., 89., 93., nan])"
      ]
     },
     "execution_count": 10,
     "metadata": {},
     "output_type": "execute_result"
    }
   ],
   "source": [
    "df['template_id'].unique()"
   ]
  },
  {
   "cell_type": "markdown",
   "metadata": {},
   "source": [
    "##### Leaving template as it is"
   ]
  },
  {
   "cell_type": "code",
   "execution_count": 11,
   "metadata": {},
   "outputs": [
    {
     "data": {
      "text/plain": [
       "array([75000.,     0.,    nan])"
      ]
     },
     "execution_count": 11,
     "metadata": {},
     "output_type": "execute_result"
    }
   ],
   "source": [
    "df['creative_dimension'].unique()"
   ]
  },
  {
   "cell_type": "code",
   "execution_count": 12,
   "metadata": {},
   "outputs": [
    {
     "name": "stdout",
     "output_type": "stream",
     "text": [
      "       campaign_item_id  no_of_days        time  ext_service_id  \\\n",
      "0                  2733           7  2022-05-01             128   \n",
      "1                  2733           8  2022-05-02              16   \n",
      "2                  2733           9  2022-05-03             128   \n",
      "3                  2733          10  2022-05-04             128   \n",
      "4                  2733          11  2022-05-05               4   \n",
      "...                 ...         ...         ...             ...   \n",
      "72607              3567          11  2022-11-28               4   \n",
      "72608              3567          12  2022-11-29             128   \n",
      "72609              3567          13  2022-11-30             128   \n",
      "72610              3567          14  2022-12-01               4   \n",
      "72611              3567          15  2022-12-02              16   \n",
      "\n",
      "      ext_service_name  creative_id                               search_tags  \\\n",
      "0         Facebook Ads         1000                           #The Power of X   \n",
      "1                DV360         1000                            #Be Bold. Be X   \n",
      "2         Facebook Ads         1000        #Embrace Your Individuality with X   \n",
      "3         Facebook Ads         1000                            #Be Bold. Be X   \n",
      "4           Google Ads         1000                            #Be Bold. Be X   \n",
      "...                ...          ...                                       ...   \n",
      "72607       Google Ads        15605  #The X Factor - Fashion for the Fearless   \n",
      "72608     Facebook Ads        15605        #Embrace Your Individuality with X   \n",
      "72609     Facebook Ads        15605                           #The Power of X   \n",
      "72610       Google Ads        15605        #Embrace Your Individuality with X   \n",
      "72611            DV360        15605                            #Be Bold. Be X   \n",
      "\n",
      "       template_id  advertiser_id advertiser_name  ...  campaign_budget_usd  \\\n",
      "0             90.0           4756             Web  ...           652.173913   \n",
      "1             90.0           4756             Web  ...           652.173913   \n",
      "2             90.0           4756             Web  ...           652.173913   \n",
      "3             90.0           4756             Web  ...           652.173913   \n",
      "4             90.0           4756             Web  ...           652.173913   \n",
      "...            ...            ...             ...  ...                  ...   \n",
      "72607          NaN           6304              UP  ...           306.635594   \n",
      "72608          NaN           6304              UP  ...           306.635594   \n",
      "72609          NaN           6304              UP  ...           306.635594   \n",
      "72610          NaN           6304              UP  ...           306.635594   \n",
      "72611          NaN           6304              UP  ...           306.635594   \n",
      "\n",
      "       impressions clicks  currency_code  media_cost_usd  search_tag_cat  \\\n",
      "0              837      8            SGD       14.058514          Others   \n",
      "1             2634     44            SGD       99.633496          Others   \n",
      "2             2135     32            SGD      109.419677          Others   \n",
      "3             2327     48            SGD      115.209499          Others   \n",
      "4             1538     20            SGD       66.990104          Others   \n",
      "...            ...    ...            ...             ...             ...   \n",
      "72607         1059     56            INR        4.858090          Others   \n",
      "72608          865     41            INR        3.536262          Others   \n",
      "72609          646     21            INR        1.947816          Others   \n",
      "72610          658     20            INR        1.711467          Others   \n",
      "72611          600     14            INR        0.990870          Others   \n",
      "\n",
      "             timezone  weekday_cat            keywords creative_dimension  \n",
      "0      Asia/Singapore     week_end  delicate bracelets                  1  \n",
      "1      Asia/Singapore     week_day      summer jewelry                  1  \n",
      "2      Asia/Singapore     week_day     artisan jewelry                  1  \n",
      "3      Asia/Singapore     week_day   layered bracelets                  1  \n",
      "4      Asia/Singapore     week_day  minimalist jewelry                  1  \n",
      "...               ...          ...                 ...                ...  \n",
      "72607    Asia/Kolkata     week_day        chic jewelry                  0  \n",
      "72608    Asia/Kolkata     week_day      statement pins                  0  \n",
      "72609    Asia/Kolkata     week_day      bridal jewelry                  0  \n",
      "72610    Asia/Kolkata     week_day        jewelry sets                  0  \n",
      "72611    Asia/Kolkata     week_day        fall jewelry                  0  \n",
      "\n",
      "[72612 rows x 23 columns]\n"
     ]
    }
   ],
   "source": [
    "df['creative_dimension'] = (df['creative_dimension'] == 75000).astype(int)\n",
    "print(df)"
   ]
  },
  {
   "cell_type": "code",
   "execution_count": 13,
   "metadata": {},
   "outputs": [
    {
     "data": {
      "text/plain": [
       "array([ 1000,  1005,  1010, ..., 15595, 15600, 15605], dtype=int64)"
      ]
     },
     "execution_count": 13,
     "metadata": {},
     "output_type": "execute_result"
    }
   ],
   "source": [
    "df['creative_id'].unique()"
   ]
  },
  {
   "cell_type": "code",
   "execution_count": 14,
   "metadata": {},
   "outputs": [
    {
     "name": "stdout",
     "output_type": "stream",
     "text": [
      "   campaign_item_id  no_of_days        time  ext_service_id ext_service_name  \\\n",
      "0              2733           7  2022-05-01             128     Facebook Ads   \n",
      "1              2733           8  2022-05-02              16            DV360   \n",
      "2              2733           9  2022-05-03             128     Facebook Ads   \n",
      "3              2733          10  2022-05-04             128     Facebook Ads   \n",
      "4              2733          11  2022-05-05               4       Google Ads   \n",
      "\n",
      "   creative_id                         search_tags  template_id  \\\n",
      "0         1000                     #The Power of X         90.0   \n",
      "1         1000                      #Be Bold. Be X         90.0   \n",
      "2         1000  #Embrace Your Individuality with X         90.0   \n",
      "3         1000                      #Be Bold. Be X         90.0   \n",
      "4         1000                      #Be Bold. Be X         90.0   \n",
      "\n",
      "   advertiser_id advertiser_name  ...  campaign_budget_usd  impressions  \\\n",
      "0           4756             Web  ...           652.173913          837   \n",
      "1           4756             Web  ...           652.173913         2634   \n",
      "2           4756             Web  ...           652.173913         2135   \n",
      "3           4756             Web  ...           652.173913         2327   \n",
      "4           4756             Web  ...           652.173913         1538   \n",
      "\n",
      "  clicks  currency_code  media_cost_usd  search_tag_cat        timezone  \\\n",
      "0      8            SGD       14.058514          Others  Asia/Singapore   \n",
      "1     44            SGD       99.633496          Others  Asia/Singapore   \n",
      "2     32            SGD      109.419677          Others  Asia/Singapore   \n",
      "3     48            SGD      115.209499          Others  Asia/Singapore   \n",
      "4     20            SGD       66.990104          Others  Asia/Singapore   \n",
      "\n",
      "   weekday_cat            keywords creative_dimension  \n",
      "0     week_end  delicate bracelets                  1  \n",
      "1     week_day      summer jewelry                  1  \n",
      "2     week_day     artisan jewelry                  1  \n",
      "3     week_day   layered bracelets                  1  \n",
      "4     week_day  minimalist jewelry                  1  \n",
      "\n",
      "[5 rows x 23 columns]\n"
     ]
    }
   ],
   "source": [
    "# Remove rows where 'creative_dimension' is null (NaN)\n",
    "df = df.dropna(subset=['creative_dimension'])\n",
    "\n",
    "# Check the cleaned dataframe\n",
    "print(df.head())"
   ]
  },
  {
   "cell_type": "markdown",
   "metadata": {},
   "source": [
    "## Campaign id"
   ]
  },
  {
   "cell_type": "code",
   "execution_count": 154,
   "metadata": {},
   "outputs": [
    {
     "data": {
      "text/plain": [
       "array([2733, 2766, 2802, 2850, 2851, 2879, 3223, 3054, 3132, 3150, 3149,\n",
       "       3157, 3153, 3154, 3222, 3220, 3221, 3219, 3173, 3166, 3164, 3165,\n",
       "       2934, 2949, 2950, 2952, 2977, 2980, 2982, 3033, 3034, 3035, 3038,\n",
       "       3039, 3040, 3041, 3050, 3042, 3052, 3053, 3055, 3056, 3045, 3046,\n",
       "       3047, 3048, 3049, 3051, 3057, 3058, 3098, 3099, 3100, 3101, 3102,\n",
       "       3103, 3104, 3107, 3129, 3130, 3131, 3127, 3128, 3133, 3134, 3147,\n",
       "       3148, 3151, 3152, 3155, 3156, 3158, 3159, 3160, 3161, 3162, 3163,\n",
       "       3167, 3168, 3169, 3170, 3171, 3172, 3174, 3175, 3176, 3177, 3178,\n",
       "       3179, 3180, 3181, 3182, 3183, 3184, 3185, 3186, 3187, 3188, 3189,\n",
       "       3190, 3191, 3192, 3193, 3194, 3195, 3196, 3197, 3199, 3200, 3201,\n",
       "       3202, 3204, 3208, 3207, 3209, 3210, 3211, 3212, 3213, 3214, 3215,\n",
       "       3216, 3217, 3218, 3354, 3355, 3389, 3444, 3445, 3486, 3488, 3543,\n",
       "       3545, 3546, 3547, 3557, 3558, 3559, 3719, 3959, 3960], dtype=int64)"
      ]
     },
     "execution_count": 154,
     "metadata": {},
     "output_type": "execute_result"
    }
   ],
   "source": [
    "df['campaign_item_id'].unique()"
   ]
  },
  {
   "cell_type": "markdown",
   "metadata": {},
   "source": [
    "##### Applying embedding to the campaign_id feature. if not the model might miscalculate relationship. "
   ]
  },
  {
   "cell_type": "code",
   "execution_count": 15,
   "metadata": {},
   "outputs": [
    {
     "name": "stdout",
     "output_type": "stream",
     "text": [
      "Embedding Shape: torch.Size([72612, 16])\n"
     ]
    }
   ],
   "source": [
    "import torch\n",
    "import torch.nn as nn\n",
    "\n",
    "# Map each unique campaign_item_id to an index starting from 0\n",
    "id_mapping = {id_: idx for idx, id_ in enumerate(df['campaign_item_id'].unique())}\n",
    "df['campaign_index'] = df['campaign_item_id'].map(id_mapping)\n",
    "\n",
    "# Number of unique campaigns\n",
    "num_campaigns = len(id_mapping)  # Total unique campaign IDs\n",
    "embedding_dim = 16  # Dimensionality of the embedding vectors\n",
    "\n",
    "# Create an embedding layer\n",
    "campaign_embedding = nn.Embedding(num_embeddings=num_campaigns, embedding_dim=embedding_dim)\n",
    "\n",
    "# Convert campaign_index to tensor\n",
    "campaign_indices = torch.tensor(df['campaign_index'].values, dtype=torch.long)\n",
    "\n",
    "# Get the embeddings\n",
    "embedded_campaigns = campaign_embedding(campaign_indices)\n",
    "print(\"Embedding Shape:\", embedded_campaigns.shape)  # Should match (num_samples, embedding_dim)\n"
   ]
  },
  {
   "cell_type": "code",
   "execution_count": 17,
   "metadata": {},
   "outputs": [
    {
     "name": "stdout",
     "output_type": "stream",
     "text": [
      "Campaign ID to Index Mapping:\n",
      "Campaign ID: 2733 -> Campaign Index: 0\n",
      "Campaign ID: 2766 -> Campaign Index: 1\n",
      "Campaign ID: 2802 -> Campaign Index: 2\n",
      "Campaign ID: 2850 -> Campaign Index: 3\n",
      "Campaign ID: 2851 -> Campaign Index: 4\n",
      "Campaign ID: 2879 -> Campaign Index: 5\n",
      "Campaign ID: 3223 -> Campaign Index: 6\n",
      "Campaign ID: 3054 -> Campaign Index: 7\n",
      "Campaign ID: 3132 -> Campaign Index: 8\n",
      "Campaign ID: 3150 -> Campaign Index: 9\n",
      "Campaign ID: 3149 -> Campaign Index: 10\n",
      "Campaign ID: 3157 -> Campaign Index: 11\n",
      "Campaign ID: 3153 -> Campaign Index: 12\n",
      "Campaign ID: 3154 -> Campaign Index: 13\n",
      "Campaign ID: 3222 -> Campaign Index: 14\n",
      "Campaign ID: 3220 -> Campaign Index: 15\n",
      "Campaign ID: 3221 -> Campaign Index: 16\n",
      "Campaign ID: 3219 -> Campaign Index: 17\n",
      "Campaign ID: 3173 -> Campaign Index: 18\n",
      "Campaign ID: 3166 -> Campaign Index: 19\n",
      "Campaign ID: 3164 -> Campaign Index: 20\n",
      "Campaign ID: 3165 -> Campaign Index: 21\n",
      "Campaign ID: 2934 -> Campaign Index: 22\n",
      "Campaign ID: 2949 -> Campaign Index: 23\n",
      "Campaign ID: 2950 -> Campaign Index: 24\n",
      "Campaign ID: 2952 -> Campaign Index: 25\n",
      "Campaign ID: 2977 -> Campaign Index: 26\n",
      "Campaign ID: 2980 -> Campaign Index: 27\n",
      "Campaign ID: 2982 -> Campaign Index: 28\n",
      "Campaign ID: 3033 -> Campaign Index: 29\n",
      "Campaign ID: 3034 -> Campaign Index: 30\n",
      "Campaign ID: 3035 -> Campaign Index: 31\n",
      "Campaign ID: 3038 -> Campaign Index: 32\n",
      "Campaign ID: 3039 -> Campaign Index: 33\n",
      "Campaign ID: 3040 -> Campaign Index: 34\n",
      "Campaign ID: 3041 -> Campaign Index: 35\n",
      "Campaign ID: 3050 -> Campaign Index: 36\n",
      "Campaign ID: 3042 -> Campaign Index: 37\n",
      "Campaign ID: 3052 -> Campaign Index: 38\n",
      "Campaign ID: 3053 -> Campaign Index: 39\n",
      "Campaign ID: 3055 -> Campaign Index: 40\n",
      "Campaign ID: 3056 -> Campaign Index: 41\n",
      "Campaign ID: 3045 -> Campaign Index: 42\n",
      "Campaign ID: 3046 -> Campaign Index: 43\n",
      "Campaign ID: 3047 -> Campaign Index: 44\n",
      "Campaign ID: 3048 -> Campaign Index: 45\n",
      "Campaign ID: 3049 -> Campaign Index: 46\n",
      "Campaign ID: 3051 -> Campaign Index: 47\n",
      "Campaign ID: 3057 -> Campaign Index: 48\n",
      "Campaign ID: 3058 -> Campaign Index: 49\n",
      "Campaign ID: 3098 -> Campaign Index: 50\n",
      "Campaign ID: 3099 -> Campaign Index: 51\n",
      "Campaign ID: 3100 -> Campaign Index: 52\n",
      "Campaign ID: 3101 -> Campaign Index: 53\n",
      "Campaign ID: 3102 -> Campaign Index: 54\n",
      "Campaign ID: 3103 -> Campaign Index: 55\n",
      "Campaign ID: 3104 -> Campaign Index: 56\n",
      "Campaign ID: 3107 -> Campaign Index: 57\n",
      "Campaign ID: 3129 -> Campaign Index: 58\n",
      "Campaign ID: 3130 -> Campaign Index: 59\n",
      "Campaign ID: 3131 -> Campaign Index: 60\n",
      "Campaign ID: 3127 -> Campaign Index: 61\n",
      "Campaign ID: 3128 -> Campaign Index: 62\n",
      "Campaign ID: 3133 -> Campaign Index: 63\n",
      "Campaign ID: 3134 -> Campaign Index: 64\n",
      "Campaign ID: 3147 -> Campaign Index: 65\n",
      "Campaign ID: 3148 -> Campaign Index: 66\n",
      "Campaign ID: 3151 -> Campaign Index: 67\n",
      "Campaign ID: 3152 -> Campaign Index: 68\n",
      "Campaign ID: 3155 -> Campaign Index: 69\n",
      "Campaign ID: 3156 -> Campaign Index: 70\n",
      "Campaign ID: 3158 -> Campaign Index: 71\n",
      "Campaign ID: 3159 -> Campaign Index: 72\n",
      "Campaign ID: 3160 -> Campaign Index: 73\n",
      "Campaign ID: 3161 -> Campaign Index: 74\n",
      "Campaign ID: 3162 -> Campaign Index: 75\n",
      "Campaign ID: 3163 -> Campaign Index: 76\n",
      "Campaign ID: 3167 -> Campaign Index: 77\n",
      "Campaign ID: 3168 -> Campaign Index: 78\n",
      "Campaign ID: 3169 -> Campaign Index: 79\n",
      "Campaign ID: 3170 -> Campaign Index: 80\n",
      "Campaign ID: 3171 -> Campaign Index: 81\n",
      "Campaign ID: 3172 -> Campaign Index: 82\n",
      "Campaign ID: 3174 -> Campaign Index: 83\n",
      "Campaign ID: 3175 -> Campaign Index: 84\n",
      "Campaign ID: 3176 -> Campaign Index: 85\n",
      "Campaign ID: 3177 -> Campaign Index: 86\n",
      "Campaign ID: 3178 -> Campaign Index: 87\n",
      "Campaign ID: 3179 -> Campaign Index: 88\n",
      "Campaign ID: 3180 -> Campaign Index: 89\n",
      "Campaign ID: 3181 -> Campaign Index: 90\n",
      "Campaign ID: 3182 -> Campaign Index: 91\n",
      "Campaign ID: 3183 -> Campaign Index: 92\n",
      "Campaign ID: 3184 -> Campaign Index: 93\n",
      "Campaign ID: 3185 -> Campaign Index: 94\n",
      "Campaign ID: 3186 -> Campaign Index: 95\n",
      "Campaign ID: 3187 -> Campaign Index: 96\n",
      "Campaign ID: 3188 -> Campaign Index: 97\n",
      "Campaign ID: 3189 -> Campaign Index: 98\n",
      "Campaign ID: 3190 -> Campaign Index: 99\n",
      "Campaign ID: 3191 -> Campaign Index: 100\n",
      "Campaign ID: 3192 -> Campaign Index: 101\n",
      "Campaign ID: 3193 -> Campaign Index: 102\n",
      "Campaign ID: 3194 -> Campaign Index: 103\n",
      "Campaign ID: 3195 -> Campaign Index: 104\n",
      "Campaign ID: 3196 -> Campaign Index: 105\n",
      "Campaign ID: 3197 -> Campaign Index: 106\n",
      "Campaign ID: 3199 -> Campaign Index: 107\n",
      "Campaign ID: 3200 -> Campaign Index: 108\n",
      "Campaign ID: 3201 -> Campaign Index: 109\n",
      "Campaign ID: 3202 -> Campaign Index: 110\n",
      "Campaign ID: 3204 -> Campaign Index: 111\n",
      "Campaign ID: 3208 -> Campaign Index: 112\n",
      "Campaign ID: 3207 -> Campaign Index: 113\n",
      "Campaign ID: 3209 -> Campaign Index: 114\n",
      "Campaign ID: 3210 -> Campaign Index: 115\n",
      "Campaign ID: 3211 -> Campaign Index: 116\n",
      "Campaign ID: 3212 -> Campaign Index: 117\n",
      "Campaign ID: 3213 -> Campaign Index: 118\n",
      "Campaign ID: 3214 -> Campaign Index: 119\n",
      "Campaign ID: 3215 -> Campaign Index: 120\n",
      "Campaign ID: 3216 -> Campaign Index: 121\n",
      "Campaign ID: 3217 -> Campaign Index: 122\n",
      "Campaign ID: 3218 -> Campaign Index: 123\n",
      "Campaign ID: 3354 -> Campaign Index: 124\n",
      "Campaign ID: 3355 -> Campaign Index: 125\n",
      "Campaign ID: 3389 -> Campaign Index: 126\n",
      "Campaign ID: 3444 -> Campaign Index: 127\n",
      "Campaign ID: 3445 -> Campaign Index: 128\n",
      "Campaign ID: 3486 -> Campaign Index: 129\n",
      "Campaign ID: 3488 -> Campaign Index: 130\n",
      "Campaign ID: 3543 -> Campaign Index: 131\n",
      "Campaign ID: 3545 -> Campaign Index: 132\n",
      "Campaign ID: 3546 -> Campaign Index: 133\n",
      "Campaign ID: 3547 -> Campaign Index: 134\n",
      "Campaign ID: 3557 -> Campaign Index: 135\n",
      "Campaign ID: 3558 -> Campaign Index: 136\n",
      "Campaign ID: 3559 -> Campaign Index: 137\n",
      "Campaign ID: 3719 -> Campaign Index: 138\n",
      "Campaign ID: 3959 -> Campaign Index: 139\n",
      "Campaign ID: 3960 -> Campaign Index: 140\n",
      "Campaign ID: 3106 -> Campaign Index: 141\n",
      "Campaign ID: 3375 -> Campaign Index: 142\n",
      "Campaign ID: 3384 -> Campaign Index: 143\n",
      "Campaign ID: 3386 -> Campaign Index: 144\n",
      "Campaign ID: 3387 -> Campaign Index: 145\n",
      "Campaign ID: 3388 -> Campaign Index: 146\n",
      "Campaign ID: 3395 -> Campaign Index: 147\n",
      "Campaign ID: 3407 -> Campaign Index: 148\n",
      "Campaign ID: 3434 -> Campaign Index: 149\n",
      "Campaign ID: 3464 -> Campaign Index: 150\n",
      "Campaign ID: 3491 -> Campaign Index: 151\n",
      "Campaign ID: 3500 -> Campaign Index: 152\n",
      "Campaign ID: 3532 -> Campaign Index: 153\n",
      "Campaign ID: 3533 -> Campaign Index: 154\n",
      "Campaign ID: 3563 -> Campaign Index: 155\n",
      "Campaign ID: 3567 -> Campaign Index: 156\n"
     ]
    }
   ],
   "source": [
    "# Print the mapping dictionary\n",
    "print(\"Campaign ID to Index Mapping:\")\n",
    "for campaign_id, campaign_index in id_mapping.items():\n",
    "    print(f\"Campaign ID: {campaign_id} -> Campaign Index: {campaign_index}\")\n"
   ]
  },
  {
   "cell_type": "markdown",
   "metadata": {},
   "source": [
    "## Number of Days"
   ]
  },
  {
   "cell_type": "code",
   "execution_count": 18,
   "metadata": {},
   "outputs": [
    {
     "name": "stdout",
     "output_type": "stream",
     "text": [
      "Minimum days: 0\n",
      "Maximum days: 118\n"
     ]
    }
   ],
   "source": [
    "days = df['no_of_days']\n",
    "\n",
    "# Calculate the minimum and maximum values\n",
    "min_days = days.min()\n",
    "max_days = days.max()\n",
    "\n",
    "print(f\"Minimum days: {min_days}\")\n",
    "print(f\"Maximum days: {max_days}\")"
   ]
  },
  {
   "cell_type": "markdown",
   "metadata": {},
   "source": [
    "##### Normalizing this will be a good option for GNN"
   ]
  },
  {
   "cell_type": "code",
   "execution_count": 19,
   "metadata": {},
   "outputs": [
    {
     "name": "stdout",
     "output_type": "stream",
     "text": [
      "   no_of_days\n",
      "0    0.059322\n",
      "1    0.067797\n",
      "2    0.076271\n",
      "3    0.084746\n",
      "4    0.093220\n"
     ]
    }
   ],
   "source": [
    "from sklearn.preprocessing import MinMaxScaler\n",
    "\n",
    "# Initialize the scaler\n",
    "scaler = MinMaxScaler()\n",
    "\n",
    "# Normalize the 'impressions' column\n",
    "df['no_of_days'] = scaler.fit_transform(df[['no_of_days']])\n",
    "\n",
    "# Check the result\n",
    "print(df[['no_of_days']].head())"
   ]
  },
  {
   "cell_type": "markdown",
   "metadata": {},
   "source": [
    "## Time\n"
   ]
  },
  {
   "cell_type": "code",
   "execution_count": 20,
   "metadata": {},
   "outputs": [
    {
     "name": "stdout",
     "output_type": "stream",
     "text": [
      "         time\n",
      "0  2022-05-01\n",
      "1  2022-05-02\n",
      "2  2022-05-03\n",
      "3  2022-05-04\n",
      "4  2022-05-05\n"
     ]
    }
   ],
   "source": [
    "print(df[['time']].head())"
   ]
  },
  {
   "cell_type": "markdown",
   "metadata": {},
   "source": [
    "##### Extract date components from time"
   ]
  },
  {
   "cell_type": "code",
   "execution_count": 21,
   "metadata": {},
   "outputs": [
    {
     "name": "stdout",
     "output_type": "stream",
     "text": [
      "   day_of_week  month  day_of_year\n",
      "0            6      5          121\n",
      "1            0      5          122\n",
      "2            1      5          123\n",
      "3            2      5          124\n",
      "4            3      5          125\n"
     ]
    }
   ],
   "source": [
    "# Convert the 'time' column to datetime format if it's not already\n",
    "df['time'] = pd.to_datetime(df['time'])\n",
    "\n",
    "# Extract day of the week (0=Monday, 6=Sunday)\n",
    "df['day_of_week'] = df['time'].dt.dayofweek\n",
    "\n",
    "# Extract month (1=January, 12=December)\n",
    "df['month'] = df['time'].dt.month\n",
    "\n",
    "# Extract day of the year (1-365/366)\n",
    "df['day_of_year'] = df['time'].dt.dayofyear\n",
    "\n",
    "df =df.drop(columns=['time'])\n",
    "\n",
    "# Display the new date-related columns\n",
    "print(df[['day_of_week', 'month', 'day_of_year']].head())\n",
    "\n"
   ]
  },
  {
   "cell_type": "code",
   "execution_count": 22,
   "metadata": {},
   "outputs": [
    {
     "data": {
      "text/plain": [
       "array([6.52173913e+02, 7.60000000e+02, 8.00000000e+02, 3.25000000e+02,\n",
       "       4.00000000e+02, 5.00000000e+02, 1.80934870e+01, 6.98630688e+02,\n",
       "       5.98780952e+02, 4.98984127e+02, 5.11640212e+02, 2.30000000e+03,\n",
       "       8.93460490e+02, 4.35756972e+03, 2.01693227e+03, 5.24523161e+02,\n",
       "       1.57356948e+03, 1.99318801e+03, 7.86648501e+02, 2.94277929e+02,\n",
       "       4.94277929e+02, 4.11989101e+02, 1.02997275e+02, 3.67847410e+01,\n",
       "       1.23433243e+02, 4.65395095e+02, 2.58583106e+02, 6.17983651e+02,\n",
       "       2.94277930e+01, 5.42779292e+02, 3.99455041e+02, 2.66212534e+02,\n",
       "       1.99727520e+02, 3.32697548e+02, 2.58855590e+01, 5.29700272e+02,\n",
       "       3.40599460e+01, 3.41416894e+02, 1.33242507e+02, 8.00817439e+02,\n",
       "       1.13896458e+02, 3.82833787e+02, 3.43051771e+02, 4.85013620e+01,\n",
       "       1.86648501e+02, 4.45231608e+02, 2.47138965e+02, 2.42779292e+02,\n",
       "       5.14986380e+01, 6.15803810e+01, 1.03542230e+01, 7.62942800e+00,\n",
       "       8.71934600e+00, 1.96185290e+01, 3.15803815e+02, 1.97275204e+02,\n",
       "       4.54768392e+02, 4.90463215e+02, 2.26430518e+02, 7.55313351e+02,\n",
       "       5.53133510e+01, 9.06267030e+02, 1.88828338e+02, 6.20435967e+02,\n",
       "       1.27138965e+03, 1.48310627e+03, 7.06267030e+02, 7.98910082e+02,\n",
       "       1.11689373e+03, 1.23978202e+02, 6.38964578e+02, 4.79291553e+02,\n",
       "       1.30299727e+03, 1.41144414e+02, 9.58583106e+02, 3.19618529e+02,\n",
       "       4.90463220e+01, 4.89918256e+02, 1.12670300e+03, 7.83651226e+02,\n",
       "       6.00000000e+01, 1.10000000e+02, 4.70000000e+01, 1.40000000e+02,\n",
       "       1.16600000e+03, 1.22865217e+03, 9.82921735e+02, 2.21157390e+03,\n",
       "       1.84297825e+03, 4.61973215e+03, 2.47005064e+02, 7.41015191e+02,\n",
       "       1.23502532e+02, 4.32258861e+03, 2.47005064e+03, 1.85253798e+03,\n",
       "       6.17512700e+00, 6.22509960e+02, 1.24501992e+03, 2.49003984e+03,\n",
       "       9.96015936e+02, 6.84760956e+03, 2.11653386e+03, 4.98007968e+02,\n",
       "       9.97260956e+02, 5.66484064e+02, 2.40413347e+03, 7.74402390e+02,\n",
       "       1.37823705e+03, 3.73505976e+02, 1.61852590e+03, 5.60258964e+02,\n",
       "       9.82320717e+02, 2.49003984e+02, 1.12051793e+03, 4.35756972e+02,\n",
       "       4.41982072e+02, 8.11752988e+02, 9.57420319e+02, 1.86752988e+03,\n",
       "       4.98007968e+03, 6.22509960e+03, 3.73505976e+03, 1.61354582e+03,\n",
       "       1.28984064e+03, 1.59736056e+03, 2.00074701e+03, 2.01942231e+03,\n",
       "       1.61728088e+03, 2.24103586e+03, 1.79282868e+03, 1.22260956e+03,\n",
       "       7.47011952e+02, 3.11254980e+03, 4.88047809e+02, 1.10308765e+03,\n",
       "       5.41583665e+02, 5.49053785e+02, 2.98804781e+02, 1.99203187e+02,\n",
       "       6.72310757e+02, 1.46912351e+03, 3.85956175e+02, 3.67280876e+02,\n",
       "       3.98406375e+02, 8.71513944e+02, 1.37325697e+03, 4.85557769e+02,\n",
       "       1.24377490e+03, 4.66882470e+02, 1.28859562e+03, 1.61977092e+03,\n",
       "       1.59611554e+03, 1.67704183e+03, 2.27340638e+03, 1.49402390e+03,\n",
       "       9.33764940e+02, 4.32686364e+03, 1.85437013e+03, 1.23624675e+03,\n",
       "       9.88997404e+02, 1.29311411e+03, 1.61824700e+03, 1.49709482e+03,\n",
       "       3.70874026e+02, 1.53789096e+03, 2.47249351e+02, 1.78019533e+03,\n",
       "       2.22524416e+03, 4.32686364e+02, 5.37767338e+02, 5.56311040e+02,\n",
       "       1.06069972e+03, 4.14142663e+02, 6.18123377e+02, 4.94498702e+02,\n",
       "       3.09061689e+03, 1.48349611e+03, 1.43388944e+03, 1.63720120e+03,\n",
       "       2.05677291e+03, 2.02556026e+03, 5.47808765e+02, 1.30727092e+03,\n",
       "       1.66334661e+03, 4.23306773e+02, 1.29855578e+03, 1.62101594e+03,\n",
       "       1.97335657e+03, 1.30104582e+03, 1.67455179e+03, 1.68202191e+03,\n",
       "       1.47783865e+03, 1.52390438e+03, 4.17081673e+02, 1.33217132e+03,\n",
       "       6.13794821e+02, 1.02091634e+03, 1.14666335e+03, 6.03834661e+02,\n",
       "       7.98057769e+02, 1.35956175e+03, 4.73107570e+02, 8.02179837e+02,\n",
       "       1.12305177e+02, 6.53950950e+01, 1.52588556e+02, 7.52043597e+02,\n",
       "       9.17493190e+01, 1.16566757e+03, 4.51226158e+02, 1.29427793e+02,\n",
       "       7.19346050e+01, 1.06267030e+02, 2.38964578e+02, 7.27520440e+01,\n",
       "       4.73297003e+02, 1.45776567e+02, 1.45504087e+02, 1.20163488e+02,\n",
       "       1.67029973e+02, 8.74659400e+01, 4.08719350e+01, 1.67574932e+02,\n",
       "       9.78201630e+01, 1.71662125e+02, 2.45231610e+01, 2.04359673e+02,\n",
       "       1.19073569e+02, 3.57493188e+02, 1.76021798e+02, 4.41416894e+02,\n",
       "       5.14986376e+02, 1.60762943e+02, 3.81471390e+01, 6.26702997e+02,\n",
       "       6.53950954e+02, 8.92643052e+02, 2.72479564e+02, 7.84741140e+01,\n",
       "       4.72207084e+02, 4.04632153e+02, 2.69754768e+02, 2.08566757e+02,\n",
       "       2.34632150e+01, 2.60708447e+02, 1.30354223e+02, 5.23160763e+02,\n",
       "       1.30790191e+02, 2.17983651e+02, 1.96185286e+02, 3.26975477e+02,\n",
       "       7.84741144e+02, 1.01907357e+02, 7.41144410e+01, 2.03814714e+02,\n",
       "       3.05722071e+02, 3.43324251e+02, 8.58310630e+01, 4.48773842e+02,\n",
       "       3.77111717e+02, 5.42234332e+02, 2.37057220e+01, 6.35694823e+02,\n",
       "       2.35694823e+02, 3.05994550e+02, 5.58310627e+02, 2.45231600e+00,\n",
       "       2.99727500e+00, 2.55040872e+02, 1.68937330e+01, 3.54223400e+00,\n",
       "       1.59673025e+02, 1.41689370e+01, 2.39509537e+02, 2.97547684e+02,\n",
       "       7.41689373e+02, 6.51498638e+02, 1.41689373e+02, 2.99182561e+02,\n",
       "       3.53133515e+02, 3.56948229e+02, 1.49591281e+02, 1.70027248e+02,\n",
       "       3.10354223e+02, 2.49318801e+02, 4.09536785e+02, 4.31880109e+02,\n",
       "       3.59945504e+02, 2.16076294e+02, 6.25700272e+02, 4.56239782e+02,\n",
       "       3.74659401e+02, 1.19891008e+02, 9.12479564e+02, 7.82125341e+02,\n",
       "       5.21416894e+02, 1.43389646e+02, 9.77656676e+02, 3.91062670e+02,\n",
       "       6.51771117e+02, 1.22615804e+02, 1.92098093e+03, 2.45231608e+02,\n",
       "       3.46594005e+02, 4.74114441e+02, 3.26975480e+01, 1.04632153e+02,\n",
       "       4.62125341e+02, 6.32152589e+02, 4.63215300e+00, 4.00544959e+02,\n",
       "       1.64305177e+02, 4.02452316e+02, 4.81743870e+01, 1.90190736e+03,\n",
       "       9.84196185e+02, 6.57220708e+02, 1.44523160e+01, 5.78092640e+01,\n",
       "       1.06724796e+02, 8.89373300e+01, 2.89046320e+01, 9.63487740e+01,\n",
       "       1.15618529e+02, 1.44414169e+02, 1.73427793e+02, 4.33242510e+01,\n",
       "       2.97002725e+02, 3.73297000e+01, 2.58855586e+02, 4.65940054e+02,\n",
       "       5.69482289e+02, 1.20735695e+03, 6.03542234e+02, 1.45231608e+02,\n",
       "       1.87465940e+02, 8.71934600e+01, 3.37874659e+02, 5.51498638e+02,\n",
       "       8.15531335e+02, 6.98910082e+02, 2.61307902e+02, 3.67847411e+02,\n",
       "       4.29155313e+02, 1.95531335e+02, 3.78038150e+01, 4.08719346e+02,\n",
       "       4.25885559e+02, 6.81198910e+02, 2.55585831e+02, 1.80490463e+02,\n",
       "       1.80490460e+01, 1.20326975e+02, 4.76021798e+02, 1.63760218e+02,\n",
       "       8.49046322e+02, 3.40054496e+02, 8.19346049e+02, 8.64032698e+02,\n",
       "       7.19891008e+02, 1.83923706e+02, 3.06539510e+02, 2.08566757e+03,\n",
       "       1.23836512e+03, 1.30354223e+03, 4.07629428e+02, 1.36239782e+02,\n",
       "       1.21525886e+02, 1.61852861e+02, 2.24250681e+02, 1.97820163e+02,\n",
       "       2.37329700e+02, 3.95640327e+02, 7.49318801e+02, 2.63760218e+02,\n",
       "       5.99455040e+01, 8.25613080e+01, 1.11989101e+02, 1.37329700e+02,\n",
       "       1.07901907e+02, 2.15803815e+02, 1.58855586e+02, 4.49591281e+02,\n",
       "       1.62942779e+03, 1.95531335e+03, 4.30168937e+02, 2.76752044e+02,\n",
       "       6.91880109e+02, 3.00817439e+02, 3.43324250e+01, 1.06267030e+03,\n",
       "       4.95912807e+02, 6.68664850e+02, 9.08719346e+02, 1.63487738e+02,\n",
       "       4.70027248e+02, 6.64305177e+02, 6.29972750e+01, 7.54768390e+01,\n",
       "       1.88991830e+01, 7.00272480e+01, 2.33460490e+02, 2.80108992e+02,\n",
       "       1.25994550e+02, 1.51193460e+02, 1.88991826e+02, 2.26702997e+02,\n",
       "       5.66975480e+01, 3.76021800e+01, 1.50953678e+02, 6.01634877e+02,\n",
       "       5.58038147e+02, 4.37874659e+02, 3.29972752e+02, 9.55626703e+02,\n",
       "       7.61479564e+02, 9.96730245e+02, 9.49046322e+02, 5.60523161e+02,\n",
       "       4.56239780e+01, 5.72207084e+02, 3.77656676e+02, 9.42779290e+01,\n",
       "       4.79564030e+01, 1.13079019e+02, 4.53133515e+02, 2.20708447e+02,\n",
       "       9.80926430e+01, 4.63215259e+02, 3.33514990e+01, 1.00054500e+01,\n",
       "       4.00217980e+01, 2.00108990e+01, 6.67029970e+01, 8.00435970e+01,\n",
       "       1.00000000e+02, 1.20065395e+02, 2.99727520e+01, 1.33787466e+02,\n",
       "       3.92528610e+02, 5.21798365e+02, 6.04904632e+02, 2.43324251e+02,\n",
       "       3.48773840e+01, 6.94822890e+01, 1.07629428e+03, 1.38964580e+01,\n",
       "       1.90544959e+03, 9.96457766e+02, 5.73558583e+02, 3.52861035e+02,\n",
       "       6.25340599e+02, 7.29700272e+02, 3.78027248e+02, 1.30354220e+01,\n",
       "       7.15258860e+01, 1.14441417e+02, 2.67029973e+02, 1.66757493e+02,\n",
       "       1.43051771e+02, 3.10626700e+01, 3.54223430e+01, 1.70299730e+01,\n",
       "       3.65395095e+02, 1.82833787e+02, 3.04632153e+02, 1.43869210e+02,\n",
       "       3.51956403e+02, 2.08555860e+01, 6.81198910e+01, 1.08991826e+02,\n",
       "       5.83651226e+02, 1.74931880e+02, 7.00272480e+02, 9.56948229e+02,\n",
       "       5.68937330e+02, 8.17438690e+01, 9.80926431e+02, 6.13079019e+02,\n",
       "       5.77656680e+01, 1.44414170e+01, 1.24512262e+02, 1.03542234e+02,\n",
       "       2.88828340e+01, 9.61852860e+01, 1.15531335e+02, 1.73297003e+02,\n",
       "       3.71934605e+02, 5.20435970e+01, 3.86103542e+02, 3.21525886e+02,\n",
       "       7.31362398e+02, 6.14874659e+02, 8.06811989e+02, 8.06539510e+02,\n",
       "       1.07275204e+03, 6.10354223e+02, 2.61580381e+02, 1.45791833e+03,\n",
       "       1.63487740e+01, 8.96457770e+01, 1.70299728e+02, 7.82016300e+00,\n",
       "       1.53405995e+02, 4.76839237e+02, 2.29564033e+02, 4.18801090e+02,\n",
       "       2.64305180e+01, 2.31607630e+01, 1.28065400e+01, 3.07901910e+01,\n",
       "       3.59400545e+02, 2.99455041e+02, 5.56130790e+02, 1.79836512e+02,\n",
       "       4.88555858e+02, 2.67847411e+02, 2.64850136e+02, 1.27520436e+02,\n",
       "       2.32697548e+02, 3.07356948e+02, 2.15084469e+02, 1.69460490e+02,\n",
       "       6.86648500e+01, 7.10430518e+02, 6.07629430e+01, 6.18528610e+01,\n",
       "       8.09264310e+01, 8.99182560e+01, 2.74659401e+02, 8.22888280e+01,\n",
       "       3.29427793e+02, 5.13623978e+02, 2.65667575e+02, 3.86594010e+01,\n",
       "       1.13678470e+01, 8.96566760e+01, 8.15258860e+01, 1.11171662e+02,\n",
       "       3.00163490e+01, 2.13732970e+01, 1.00054496e+02, 7.86811990e+01,\n",
       "       1.94277929e+02, 2.47956403e+02, 4.70264305e+02, 6.45776570e+01,\n",
       "       2.37286104e+02, 4.16076294e+02, 3.79564033e+02, 5.31335150e+01,\n",
       "       1.02179837e+02, 1.61444142e+03, 5.99455000e+00, 2.85817439e+03,\n",
       "       1.49495913e+03, 2.57493188e+02, 1.49482289e+03, 9.53678470e+01,\n",
       "       1.47138965e+02, 8.62915531e+02, 1.98365123e+02, 8.33787470e+01,\n",
       "       2.50136240e+02, 4.41416890e+01, 7.90190740e+01, 8.34277930e+01,\n",
       "       2.84196185e+02, 1.77111720e+01, 1.77656676e+02, 5.44959130e+01,\n",
       "       2.65940054e+02, 1.32970027e+02, 2.21525886e+02, 5.53514990e+01,\n",
       "       7.21961853e+02, 4.81307902e+02, 7.08446870e+01, 3.58855586e+02,\n",
       "       1.28749864e+03, 3.48948229e+02, 9.04359673e+02, 1.91280654e+02,\n",
       "       4.52316076e+02, 6.01634900e+00, 9.26512260e+01, 2.88828338e+02,\n",
       "       3.95095368e+02, 6.62125340e+01, 1.55040872e+02, 6.64850140e+01,\n",
       "       2.11989101e+02, 1.10899183e+02, 1.02043597e+02, 1.86103542e+02,\n",
       "       1.17166210e+01, 5.72207100e+00, 1.36239780e+01, 1.06539510e+02,\n",
       "       7.98365120e+01, 2.17166213e+02, 1.17711172e+02, 5.66757490e+01,\n",
       "       1.36512262e+02, 3.54964578e+02, 7.21961850e+01, 9.18256130e+01,\n",
       "       1.19926431e+02, 9.12534100e+00, 2.05994550e+02, 2.22343320e+01,\n",
       "       2.66811990e+01, 6.67030000e+00, 5.33623980e+01, 4.44686650e+01,\n",
       "       1.33405990e+01, 6.12534060e+01, 1.98910080e+01, 1.48773842e+02,\n",
       "       2.23433240e+01, 3.86920980e+01, 8.20163490e+01, 2.63098093e+02,\n",
       "       3.40757493e+02, 2.60217984e+02, 2.84741144e+02, 3.86376022e+02,\n",
       "       1.09863760e+03, 7.32425068e+02, 3.16948229e+03, 1.46485014e+03,\n",
       "       3.05177112e+02, 3.32425068e+02, 1.66212534e+02, 2.76839237e+02,\n",
       "       7.14931880e+01, 5.01362398e+02, 4.61253406e+02, 1.05367847e+03,\n",
       "       9.07356950e+01, 5.26702997e+02, 2.28882834e+02, 5.72207080e+01,\n",
       "       4.57765668e+02, 3.92370572e+02, 1.20435967e+02, 2.40871935e+02,\n",
       "       7.66212534e+02, 4.17438692e+02, 1.23623978e+03, 1.22564040e+03,\n",
       "       1.77406864e+03, 2.45128079e+03, 2.14001520e+03, 9.81233902e+02,\n",
       "       2.00000000e+02, 6.00000000e+02, 2.65000000e+02, 9.81233902e+03,\n",
       "       3.81454679e+03, 1.22654238e+03, 8.58579664e+02, 1.86599019e+03,\n",
       "       6.13271189e+02, 1.22654238e+02, 2.45308475e+03, 5.51944070e+02,\n",
       "       1.22654238e+04, 1.90000000e+03, 1.00000000e+03, 8.71513944e+03,\n",
       "       1.64342629e+04, 2.24103586e+04, 1.99950199e+03, 1.18276892e+04,\n",
       "       3.73505976e+04, 1.84448016e+03, 1.86178761e+03, 3.95598962e+04,\n",
       "       3.09061689e+02, 1.61852590e+04, 1.46289841e+03, 1.16521526e+03,\n",
       "       3.06410099e+02, 6.12820199e+02, 9.80512318e+02, 3.67692119e+02,\n",
       "       1.83846060e+03, 4.90256159e+02, 1.65461454e+03, 1.83981357e+03,\n",
       "       3.67962713e+02, 3.06635594e+02, 2.45308475e+02, 2.08512204e+03])"
      ]
     },
     "execution_count": 22,
     "metadata": {},
     "output_type": "execute_result"
    }
   ],
   "source": [
    "df['campaign_budget_usd'].unique()"
   ]
  },
  {
   "cell_type": "markdown",
   "metadata": {},
   "source": [
    "## Week Cat"
   ]
  },
  {
   "cell_type": "markdown",
   "metadata": {},
   "source": [
    "##### oneHot encoding the week_cat"
   ]
  },
  {
   "cell_type": "code",
   "execution_count": 23,
   "metadata": {},
   "outputs": [
    {
     "name": "stdout",
     "output_type": "stream",
     "text": [
      "       campaign_item_id  no_of_days  ext_service_id ext_service_name  \\\n",
      "0                  2733    0.059322             128     Facebook Ads   \n",
      "1                  2733    0.067797              16            DV360   \n",
      "2                  2733    0.076271             128     Facebook Ads   \n",
      "3                  2733    0.084746             128     Facebook Ads   \n",
      "4                  2733    0.093220               4       Google Ads   \n",
      "...                 ...         ...             ...              ...   \n",
      "72607              3567    0.093220               4       Google Ads   \n",
      "72608              3567    0.101695             128     Facebook Ads   \n",
      "72609              3567    0.110169             128     Facebook Ads   \n",
      "72610              3567    0.118644               4       Google Ads   \n",
      "72611              3567    0.127119              16            DV360   \n",
      "\n",
      "       creative_id                               search_tags  template_id  \\\n",
      "0             1000                           #The Power of X         90.0   \n",
      "1             1000                            #Be Bold. Be X         90.0   \n",
      "2             1000        #Embrace Your Individuality with X         90.0   \n",
      "3             1000                            #Be Bold. Be X         90.0   \n",
      "4             1000                            #Be Bold. Be X         90.0   \n",
      "...            ...                                       ...          ...   \n",
      "72607        15605  #The X Factor - Fashion for the Fearless          NaN   \n",
      "72608        15605        #Embrace Your Individuality with X          NaN   \n",
      "72609        15605                           #The Power of X          NaN   \n",
      "72610        15605        #Embrace Your Individuality with X          NaN   \n",
      "72611        15605                            #Be Bold. Be X          NaN   \n",
      "\n",
      "       advertiser_id advertiser_name  network_id  ...  search_tag_cat  \\\n",
      "0               4756             Web         190  ...          Others   \n",
      "1               4756             Web         190  ...          Others   \n",
      "2               4756             Web         190  ...          Others   \n",
      "3               4756             Web         190  ...          Others   \n",
      "4               4756             Web         190  ...          Others   \n",
      "...              ...             ...         ...  ...             ...   \n",
      "72607           6304              UP         353  ...          Others   \n",
      "72608           6304              UP         353  ...          Others   \n",
      "72609           6304              UP         353  ...          Others   \n",
      "72610           6304              UP         353  ...          Others   \n",
      "72611           6304              UP         353  ...          Others   \n",
      "\n",
      "             timezone            keywords  creative_dimension  campaign_index  \\\n",
      "0      Asia/Singapore  delicate bracelets                   1               0   \n",
      "1      Asia/Singapore      summer jewelry                   1               0   \n",
      "2      Asia/Singapore     artisan jewelry                   1               0   \n",
      "3      Asia/Singapore   layered bracelets                   1               0   \n",
      "4      Asia/Singapore  minimalist jewelry                   1               0   \n",
      "...               ...                 ...                 ...             ...   \n",
      "72607    Asia/Kolkata        chic jewelry                   0             156   \n",
      "72608    Asia/Kolkata      statement pins                   0             156   \n",
      "72609    Asia/Kolkata      bridal jewelry                   0             156   \n",
      "72610    Asia/Kolkata        jewelry sets                   0             156   \n",
      "72611    Asia/Kolkata        fall jewelry                   0             156   \n",
      "\n",
      "      day_of_week  month day_of_year weekday_week_day weekday_week_end  \n",
      "0               6      5         121                0                1  \n",
      "1               0      5         122                1                0  \n",
      "2               1      5         123                1                0  \n",
      "3               2      5         124                1                0  \n",
      "4               3      5         125                1                0  \n",
      "...           ...    ...         ...              ...              ...  \n",
      "72607           0     11         332                1                0  \n",
      "72608           1     11         333                1                0  \n",
      "72609           2     11         334                1                0  \n",
      "72610           3     12         335                1                0  \n",
      "72611           4     12         336                1                0  \n",
      "\n",
      "[72612 rows x 27 columns]\n"
     ]
    }
   ],
   "source": [
    "# One-hot encoding the 'weekday_cat' column\n",
    "df_one_hot = pd.get_dummies(df['weekday_cat'], prefix='weekday')\n",
    "\n",
    "# Convert True/False to 1/0\n",
    "df_one_hot = df_one_hot.astype(int)\n",
    "\n",
    "# Combine the original DataFrame with the new one-hot encoded columns\n",
    "df = pd.concat([df, df_one_hot], axis=1)\n",
    "\n",
    "# Drop the original 'weekday_cat' column if it's no longer needed\n",
    "df = df.drop(columns=['weekday_cat'])\n",
    "\n",
    "print(df)\n"
   ]
  },
  {
   "cell_type": "markdown",
   "metadata": {},
   "source": [
    "## Platform"
   ]
  },
  {
   "cell_type": "markdown",
   "metadata": {},
   "source": [
    "#### Plateform of the advertisement"
   ]
  },
  {
   "cell_type": "code",
   "execution_count": 24,
   "metadata": {},
   "outputs": [
    {
     "data": {
      "text/plain": [
       "array(['Facebook Ads', 'DV360', 'Google Ads'], dtype=object)"
      ]
     },
     "execution_count": 24,
     "metadata": {},
     "output_type": "execute_result"
    }
   ],
   "source": [
    "df['ext_service_id'].unique()\n",
    "df['ext_service_name'].unique()"
   ]
  },
  {
   "cell_type": "markdown",
   "metadata": {},
   "source": [
    "##### Checking whether both are inter connected"
   ]
  },
  {
   "cell_type": "code",
   "execution_count": 164,
   "metadata": {},
   "outputs": [
    {
     "name": "stdout",
     "output_type": "stream",
     "text": [
      "   ext_service_id ext_service_name\n",
      "0             128     Facebook Ads\n",
      "1              16            DV360\n",
      "4               4       Google Ads\n"
     ]
    }
   ],
   "source": [
    "# Create a combined feature by concatenating 'ext_service_id' and 'ext_service_name'\n",
    "combined_feature = df[['ext_service_id', 'ext_service_name']]\n",
    "\n",
    "# Display the unique combinations of the two features\n",
    "unique_combinations = combined_feature.drop_duplicates()\n",
    "print(unique_combinations)"
   ]
  },
  {
   "cell_type": "markdown",
   "metadata": {},
   "source": [
    "#####  Encoding plateform ext_service_name\n"
   ]
  },
  {
   "cell_type": "code",
   "execution_count": 165,
   "metadata": {},
   "outputs": [],
   "source": [
    "# Apply One-Hot Encoding to the 'ext_service_name' column\n",
    "df_encoded = pd.get_dummies(df['ext_service_name'], prefix='plateform')\n",
    "\n",
    "# Convert True/False to 1/0\n",
    "df_encoded = df_encoded.astype(int)\n",
    "\n",
    "# Optionally, concatenate the encoded columns with the original dataframe\n",
    "df = pd.concat([df, df_encoded], axis=1)\n",
    "\n",
    "# Drop the original 'ext_service_name' column\n",
    "df.drop('ext_service_name', axis=1, inplace=True)"
   ]
  },
  {
   "cell_type": "code",
   "execution_count": 25,
   "metadata": {},
   "outputs": [],
   "source": [
    "import torch\n",
    "import torch.nn as nn\n",
    "\n",
    "num_unique_ids = df['ext_service_id'].nunique()\n",
    "embedding_dim = 4  # Choose based on experiment\n",
    "\n",
    "embedding_layer = nn.Embedding(num_unique_ids, embedding_dim)"
   ]
  },
  {
   "cell_type": "code",
   "execution_count": 26,
   "metadata": {},
   "outputs": [
    {
     "name": "stdout",
     "output_type": "stream",
     "text": [
      "       campaign_item_id  no_of_days  ext_service_id ext_service_name  \\\n",
      "0                  2733    0.059322             128     Facebook Ads   \n",
      "1                  2733    0.067797              16            DV360   \n",
      "2                  2733    0.076271             128     Facebook Ads   \n",
      "3                  2733    0.084746             128     Facebook Ads   \n",
      "4                  2733    0.093220               4       Google Ads   \n",
      "...                 ...         ...             ...              ...   \n",
      "72607              3567    0.093220               4       Google Ads   \n",
      "72608              3567    0.101695             128     Facebook Ads   \n",
      "72609              3567    0.110169             128     Facebook Ads   \n",
      "72610              3567    0.118644               4       Google Ads   \n",
      "72611              3567    0.127119              16            DV360   \n",
      "\n",
      "       creative_id                               search_tags  template_id  \\\n",
      "0             1000                           #The Power of X         90.0   \n",
      "1             1000                            #Be Bold. Be X         90.0   \n",
      "2             1000        #Embrace Your Individuality with X         90.0   \n",
      "3             1000                            #Be Bold. Be X         90.0   \n",
      "4             1000                            #Be Bold. Be X         90.0   \n",
      "...            ...                                       ...          ...   \n",
      "72607        15605  #The X Factor - Fashion for the Fearless          NaN   \n",
      "72608        15605        #Embrace Your Individuality with X          NaN   \n",
      "72609        15605                           #The Power of X          NaN   \n",
      "72610        15605        #Embrace Your Individuality with X          NaN   \n",
      "72611        15605                            #Be Bold. Be X          NaN   \n",
      "\n",
      "       advertiser_id advertiser_name  network_id  ...  search_tag_cat  \\\n",
      "0               4756             Web         190  ...          Others   \n",
      "1               4756             Web         190  ...          Others   \n",
      "2               4756             Web         190  ...          Others   \n",
      "3               4756             Web         190  ...          Others   \n",
      "4               4756             Web         190  ...          Others   \n",
      "...              ...             ...         ...  ...             ...   \n",
      "72607           6304              UP         353  ...          Others   \n",
      "72608           6304              UP         353  ...          Others   \n",
      "72609           6304              UP         353  ...          Others   \n",
      "72610           6304              UP         353  ...          Others   \n",
      "72611           6304              UP         353  ...          Others   \n",
      "\n",
      "             timezone            keywords  creative_dimension  campaign_index  \\\n",
      "0      Asia/Singapore  delicate bracelets                   1               0   \n",
      "1      Asia/Singapore      summer jewelry                   1               0   \n",
      "2      Asia/Singapore     artisan jewelry                   1               0   \n",
      "3      Asia/Singapore   layered bracelets                   1               0   \n",
      "4      Asia/Singapore  minimalist jewelry                   1               0   \n",
      "...               ...                 ...                 ...             ...   \n",
      "72607    Asia/Kolkata        chic jewelry                   0             156   \n",
      "72608    Asia/Kolkata      statement pins                   0             156   \n",
      "72609    Asia/Kolkata      bridal jewelry                   0             156   \n",
      "72610    Asia/Kolkata        jewelry sets                   0             156   \n",
      "72611    Asia/Kolkata        fall jewelry                   0             156   \n",
      "\n",
      "      day_of_week  month day_of_year weekday_week_day weekday_week_end  \n",
      "0               6      5         121                0                1  \n",
      "1               0      5         122                1                0  \n",
      "2               1      5         123                1                0  \n",
      "3               2      5         124                1                0  \n",
      "4               3      5         125                1                0  \n",
      "...           ...    ...         ...              ...              ...  \n",
      "72607           0     11         332                1                0  \n",
      "72608           1     11         333                1                0  \n",
      "72609           2     11         334                1                0  \n",
      "72610           3     12         335                1                0  \n",
      "72611           4     12         336                1                0  \n",
      "\n",
      "[72612 rows x 27 columns]\n"
     ]
    }
   ],
   "source": [
    "print(df)"
   ]
  },
  {
   "cell_type": "code",
   "execution_count": 166,
   "metadata": {},
   "outputs": [
    {
     "data": {
      "image/png": "[encoded data removed]",
      "text/plain": [
       "<Figure size 1000x600 with 1 Axes>"
      ]
     },
     "metadata": {},
     "output_type": "display_data"
    }
   ],
   "source": [
    "import matplotlib.pyplot as plt\n",
    "\n",
    "plt.figure(figsize=(10, 6))\n",
    "plt.scatter(df['campaign_item_id'], df['clicks'], alpha=0.5)\n",
    "plt.title('Scatter Plot of Campaign ID vs. Clicks')\n",
    "plt.xlabel('Campaign ID')\n",
    "plt.ylabel('Clicks')\n",
    "plt.show()"
   ]
  },
  {
   "cell_type": "markdown",
   "metadata": {},
   "source": [
    "## Time Zone"
   ]
  },
  {
   "cell_type": "code",
   "execution_count": 167,
   "metadata": {},
   "outputs": [
    {
     "data": {
      "text/plain": [
       "array(['Asia/Singapore', 'America/New_York', 'Africa/Cairo', 'US/Eastern',\n",
       "       'Asia/Kolkata', 'Asia/Muscat', 'Asia/Calcutta'], dtype=object)"
      ]
     },
     "execution_count": 167,
     "metadata": {},
     "output_type": "execute_result"
    }
   ],
   "source": [
    "df['timezone'].unique()"
   ]
  },
  {
   "cell_type": "code",
   "execution_count": 168,
   "metadata": {},
   "outputs": [],
   "source": [
    "# Apply One-Hot Encoding to the 'timezone' column\n",
    "df_encoded = pd.get_dummies(df['timezone'], prefix='zone')\n",
    "\n",
    "# Convert True/False to 1/0\n",
    "df_encoded = df_encoded.astype(int)\n",
    "\n",
    "# Optionally, concatenate the encoded columns with the original dataframe\n",
    "df = pd.concat([df, df_encoded], axis=1)\n",
    "\n",
    "# Drop the original 'search_tag_cat' column\n",
    "df.drop('timezone', axis=1, inplace=True)"
   ]
  },
  {
   "cell_type": "markdown",
   "metadata": {},
   "source": [
    "## Impression"
   ]
  },
  {
   "cell_type": "code",
   "execution_count": 169,
   "metadata": {},
   "outputs": [
    {
     "name": "stdout",
     "output_type": "stream",
     "text": [
      "0         837\n",
      "1        2634\n",
      "2        2135\n",
      "3        2327\n",
      "4        1538\n",
      "         ... \n",
      "69195    1274\n",
      "69196    1210\n",
      "69197    1153\n",
      "69198    1156\n",
      "69199     590\n",
      "Name: impressions, Length: 69200, dtype: int64\n"
     ]
    }
   ],
   "source": [
    "print(df['impressions'])"
   ]
  },
  {
   "cell_type": "code",
   "execution_count": 170,
   "metadata": {},
   "outputs": [
    {
     "name": "stdout",
     "output_type": "stream",
     "text": [
      "Minimum Impressions: 511\n",
      "Maximum Impressions: 153959\n"
     ]
    }
   ],
   "source": [
    "impressions = df['impressions']\n",
    "\n",
    "# Calculate the minimum and maximum values\n",
    "min_impressions = impressions.min()\n",
    "max_impressions = impressions.max()\n",
    "\n",
    "print(f\"Minimum Impressions: {min_impressions}\")\n",
    "print(f\"Maximum Impressions: {max_impressions}\")"
   ]
  },
  {
   "cell_type": "markdown",
   "metadata": {},
   "source": [
    "##### Since we have larger different in the min max value. its better to normalize"
   ]
  },
  {
   "cell_type": "code",
   "execution_count": 171,
   "metadata": {},
   "outputs": [
    {
     "name": "stdout",
     "output_type": "stream",
     "text": [
      "   impressions  impressions_normalized\n",
      "0          837                0.002124\n",
      "1         2634                0.013835\n",
      "2         2135                0.010583\n",
      "3         2327                0.011835\n",
      "4         1538                0.006693\n"
     ]
    }
   ],
   "source": [
    "from sklearn.preprocessing import MinMaxScaler\n",
    "\n",
    "# Initialize the scaler\n",
    "scaler = MinMaxScaler()\n",
    "\n",
    "# Normalize the 'impressions' column\n",
    "df['impressions_normalized'] = scaler.fit_transform(df[['impressions']])\n",
    "\n",
    "# Check the result\n",
    "print(df[['impressions', 'impressions_normalized']].head())"
   ]
  },
  {
   "cell_type": "code",
   "execution_count": 172,
   "metadata": {},
   "outputs": [],
   "source": [
    "df = df.drop(columns=['impressions'])"
   ]
  },
  {
   "cell_type": "markdown",
   "metadata": {},
   "source": [
    "## Search tags"
   ]
  },
  {
   "cell_type": "code",
   "execution_count": 173,
   "metadata": {},
   "outputs": [
    {
     "data": {
      "text/plain": [
       "array(['#The Power of X', '#Be Bold. Be X',\n",
       "       '#Embrace Your Individuality with X',\n",
       "       '#The Ultimate Fashion Statement with X',\n",
       "       '#The X Factor - Fashion for the Fearless', '#Timeless X Style'],\n",
       "      dtype=object)"
      ]
     },
     "execution_count": 173,
     "metadata": {},
     "output_type": "execute_result"
    }
   ],
   "source": [
    "df['search_tags'].unique()"
   ]
  },
  {
   "cell_type": "code",
   "execution_count": 174,
   "metadata": {},
   "outputs": [
    {
     "name": "stdout",
     "output_type": "stream",
     "text": [
      "       campaign_item_id  no_of_days  ext_service_id  creative_id  template_id  \\\n",
      "0                  2733    0.059322             128         1000         90.0   \n",
      "1                  2733    0.067797              16         1000         90.0   \n",
      "2                  2733    0.076271             128         1000         90.0   \n",
      "3                  2733    0.084746             128         1000         90.0   \n",
      "4                  2733    0.093220               4         1000         90.0   \n",
      "...                 ...         ...             ...          ...          ...   \n",
      "69195              3960    0.016949             128        13710         90.0   \n",
      "69196              3960    0.025424             128        13710         90.0   \n",
      "69197              3960    0.033898             128        13710         90.0   \n",
      "69198              3960    0.042373             128        13710         90.0   \n",
      "69199              3960    0.050847              16        13710         90.0   \n",
      "\n",
      "       advertiser_id advertiser_name  network_id  channel_id channel_name  \\\n",
      "0               4756             Web         190          32       Mobile   \n",
      "1               4756             Web         190           8       Social   \n",
      "2               4756             Web         190           8       Social   \n",
      "3               4756             Web         190          64        Video   \n",
      "4               4756             Web         190          32       Mobile   \n",
      "...              ...             ...         ...         ...          ...   \n",
      "69195           5857           Cairo         350          32       Mobile   \n",
      "69196           5857           Cairo         350           1      Display   \n",
      "69197           5857           Cairo         350           4       Search   \n",
      "69198           5857           Cairo         350           8       Social   \n",
      "69199           5857           Cairo         350           8       Social   \n",
      "\n",
      "       ...  search_tag_emb_40  search_tag_emb_41 search_tag_emb_42  \\\n",
      "0      ...          -0.009019           0.011403          0.018360   \n",
      "1      ...          -0.011188           0.003461         -0.001795   \n",
      "2      ...           0.002175          -0.003152          0.004393   \n",
      "3      ...          -0.011188           0.003461         -0.001795   \n",
      "4      ...          -0.011188           0.003461         -0.001795   \n",
      "...    ...                ...                ...               ...   \n",
      "69195  ...           0.015796          -0.013979         -0.018312   \n",
      "69196  ...          -0.011188           0.003461         -0.001795   \n",
      "69197  ...          -0.019207           0.010015         -0.017519   \n",
      "69198  ...           0.003263           0.000380          0.006947   \n",
      "69199  ...          -0.009019           0.011403          0.018360   \n",
      "\n",
      "       search_tag_emb_43 search_tag_emb_44 search_tag_emb_45  \\\n",
      "0              -0.008200          0.015929          0.010751   \n",
      "1               0.013587          0.007947          0.009059   \n",
      "2              -0.015763         -0.005434          0.005326   \n",
      "3               0.013587          0.007947          0.009059   \n",
      "4               0.013587          0.007947          0.009059   \n",
      "...                  ...               ...               ...   \n",
      "69195          -0.000712         -0.006200          0.015789   \n",
      "69196           0.013587          0.007947          0.009059   \n",
      "69197          -0.008784         -0.000070         -0.000592   \n",
      "69198           0.000436          0.019238          0.010121   \n",
      "69199          -0.008200          0.015929          0.010751   \n",
      "\n",
      "       search_tag_emb_46  search_tag_emb_47  search_tag_emb_48  \\\n",
      "0               0.011758           0.001025           0.016426   \n",
      "1               0.002869          -0.005400          -0.008734   \n",
      "2               0.010693          -0.004783          -0.019020   \n",
      "3               0.002869          -0.005400          -0.008734   \n",
      "4               0.002869          -0.005400          -0.008734   \n",
      "...                  ...                ...                ...   \n",
      "69195           0.011877          -0.003091           0.003022   \n",
      "69196           0.002869          -0.005400          -0.008734   \n",
      "69197          -0.015322           0.019229           0.009964   \n",
      "69198          -0.017835          -0.014083           0.001803   \n",
      "69199           0.011758           0.001025           0.016426   \n",
      "\n",
      "       search_tag_emb_49  \n",
      "0              -0.014038  \n",
      "1              -0.002064  \n",
      "2               0.009012  \n",
      "3              -0.002064  \n",
      "4              -0.002064  \n",
      "...                  ...  \n",
      "69195           0.003580  \n",
      "69196          -0.002064  \n",
      "69197           0.018466  \n",
      "69198           0.012785  \n",
      "69199          -0.014038  \n",
      "\n",
      "[69200 rows x 84 columns]\n"
     ]
    }
   ],
   "source": [
    "from gensim.models import Word2Vec\n",
    "import numpy as np\n",
    "import pandas as pd\n",
    "\n",
    "# Get unique search tags\n",
    "unique_search_tags = df['search_tags'].unique()\n",
    "\n",
    "# Create Word2Vec model\n",
    "search_tag_model = Word2Vec(sentences=[[tag] for tag in unique_search_tags], vector_size=50, window=2, min_count=1, workers=4)\n",
    "\n",
    "# Map each search tag to its embedding\n",
    "def get_search_tag_embedding(tag):\n",
    "    try:\n",
    "        return search_tag_model.wv[tag]\n",
    "    except KeyError:\n",
    "        return np.zeros(50)\n",
    "\n",
    "# Apply embeddings to the DataFrame\n",
    "search_tag_embeddings = np.array([get_search_tag_embedding(tag) for tag in df['search_tags']])\n",
    "search_tag_embedding_columns = [f'search_tag_emb_{i}' for i in range(50)]\n",
    "\n",
    "# Add the embeddings as new columns in the original DataFrame\n",
    "for i, column in enumerate(search_tag_embedding_columns):\n",
    "    df[column] = search_tag_embeddings[:, i]\n",
    "\n",
    "df = df.drop(columns=['search_tags'])\n",
    "# Check the updated DataFrame\n",
    "print(df)\n"
   ]
  },
  {
   "cell_type": "markdown",
   "metadata": {},
   "source": [
    "#### Perform text embedding for search tags which is most suitable for GNN. then Applying PCA to reduce the dimensionality"
   ]
  },
  {
   "cell_type": "code",
   "execution_count": 175,
   "metadata": {},
   "outputs": [
    {
     "data": {
      "text/plain": [
       "array(['Others', 'Youtube', 'Inmarket', 'Retargeting', 'Affinity'],\n",
       "      dtype=object)"
      ]
     },
     "execution_count": 175,
     "metadata": {},
     "output_type": "execute_result"
    }
   ],
   "source": [
    "df['search_tag_cat'].unique()"
   ]
  },
  {
   "cell_type": "markdown",
   "metadata": {},
   "source": [
    "##### Applying One-hot-encoding since theres no proper relationship"
   ]
  },
  {
   "cell_type": "code",
   "execution_count": 176,
   "metadata": {},
   "outputs": [],
   "source": [
    "# Apply One-Hot Encoding to the 'search_tag_cat' column\n",
    "df_encoded = pd.get_dummies(df['search_tag_cat'], prefix='search_cat')\n",
    "\n",
    "# Convert True/False to 1/0\n",
    "df_encoded = df_encoded.astype(int)\n",
    "\n",
    "# Optionally, concatenate the encoded columns with the original dataframe\n",
    "df = pd.concat([df, df_encoded], axis=1)\n",
    "\n",
    "# Drop the original 'search_tag_cat' column\n",
    "df.drop('search_tag_cat', axis=1, inplace=True)"
   ]
  },
  {
   "cell_type": "markdown",
   "metadata": {},
   "source": [
    "#### Check whether advertiser id and advertiser names are inter connected"
   ]
  },
  {
   "cell_type": "code",
   "execution_count": 177,
   "metadata": {},
   "outputs": [
    {
     "name": "stdout",
     "output_type": "stream",
     "text": [
      "       advertiser_id advertiser_name\n",
      "0               4756             Web\n",
      "5               5191           Brand\n",
      "3586            5209           Brand\n",
      "7126            5395           Luxor\n",
      "7430            5227      Almaza Bay\n",
      "7601            5611             USA\n",
      "7646            5785             USA\n",
      "7816            5641       Karnataka\n",
      "7830            5686     Maharashtra\n",
      "7843            6382            Oman\n",
      "13636           6391             UAE\n",
      "15286           5857           Cairo\n",
      "15672           5914       Al Ahmadi\n",
      "15782           5908     Addis Ababa\n",
      "15910           5917        Vadodara\n",
      "16103           5938         Chennai\n",
      "16105           6112      Coimbatore\n",
      "16198           5755           Malad\n",
      "16262           6019          Indore\n",
      "16483           6340            Pali\n",
      "16487           6292  Andhra Pradesh\n",
      "17185           6337    Kuala Lumpur\n",
      "18003           6298         Gujarat\n",
      "18602           6325        Chandpur\n",
      "18647           6316     West Bengal\n",
      "19424           6331      Tamil Nadu\n",
      "19569           6328  Madhya Pradesh\n",
      "19613           6319          Orissa\n",
      "19694           6370           North\n",
      "20311           6334        Thailand\n",
      "22641           6376       Singapore\n",
      "22729           6388           Sohar\n",
      "28459           6394             KSA\n",
      "42456           6385           Qatar\n",
      "49754           6379          Muscat\n",
      "49808           6397          Kuwait\n",
      "55776           6412         Bahrain\n",
      "57720           6400        Malaysia\n",
      "68360           6409          Jeddah\n",
      "68802           6010      Chattogram\n",
      "69130           6373       Pan India\n",
      "69136           6490      Chattogram\n"
     ]
    }
   ],
   "source": [
    "# Create a combined feature by concatenating 'advertiser_id' and 'advertiser_name'\n",
    "combined_feature = df[['advertiser_id', 'advertiser_name']]\n",
    "\n",
    "# Display the unique combinations of the two features\n",
    "unique_combinations = combined_feature.drop_duplicates()\n",
    "print(unique_combinations)"
   ]
  },
  {
   "cell_type": "markdown",
   "metadata": {},
   "source": [
    "## Network ID"
   ]
  },
  {
   "cell_type": "code",
   "execution_count": 178,
   "metadata": {},
   "outputs": [
    {
     "data": {
      "text/plain": [
       "array([190, 287, 191, 188, 353, 350], dtype=int64)"
      ]
     },
     "execution_count": 178,
     "metadata": {},
     "output_type": "execute_result"
    }
   ],
   "source": [
    "df['network_id'].unique()"
   ]
  },
  {
   "cell_type": "code",
   "execution_count": 179,
   "metadata": {},
   "outputs": [
    {
     "name": "stdout",
     "output_type": "stream",
     "text": [
      "   campaign_item_id  no_of_days  ext_service_id  creative_id  template_id  \\\n",
      "0              2733    0.059322             128         1000         90.0   \n",
      "1              2733    0.067797              16         1000         90.0   \n",
      "2              2733    0.076271             128         1000         90.0   \n",
      "3              2733    0.084746             128         1000         90.0   \n",
      "4              2733    0.093220               4         1000         90.0   \n",
      "\n",
      "   advertiser_id advertiser_name  network_id  channel_id channel_name  ...  \\\n",
      "0           4756             Web         190          32       Mobile  ...   \n",
      "1           4756             Web         190           8       Social  ...   \n",
      "2           4756             Web         190           8       Social  ...   \n",
      "3           4756             Web         190          64        Video  ...   \n",
      "4           4756             Web         190          32       Mobile  ...   \n",
      "\n",
      "   search_cat_Affinity  search_cat_Inmarket  search_cat_Others  \\\n",
      "0                    0                    0                  1   \n",
      "1                    0                    0                  1   \n",
      "2                    0                    0                  1   \n",
      "3                    0                    0                  1   \n",
      "4                    0                    0                  1   \n",
      "\n",
      "  search_cat_Retargeting  search_cat_Youtube  currency_AED  currency_EGP  \\\n",
      "0                      0                   0             0             0   \n",
      "1                      0                   0             0             0   \n",
      "2                      0                   0             0             0   \n",
      "3                      0                   0             0             0   \n",
      "4                      0                   0             0             0   \n",
      "\n",
      "   currency_INR  currency_SGD  currency_USD  \n",
      "0             0             1             0  \n",
      "1             0             1             0  \n",
      "2             0             1             0  \n",
      "3             0             1             0  \n",
      "4             0             1             0  \n",
      "\n",
      "[5 rows x 92 columns]\n"
     ]
    }
   ],
   "source": [
    "# Apply One-Hot Encoding to the 'currency_code' column\n",
    "df_encoded = pd.get_dummies(df['currency_code'], prefix='currency')\n",
    "\n",
    "# Convert True/False to 1/0\n",
    "df_encoded = df_encoded.astype(int)\n",
    "\n",
    "# Optionally, concatenate the encoded columns with the original dataframe\n",
    "df = pd.concat([df, df_encoded], axis=1)\n",
    "\n",
    "# Drop the original 'currency_code' column\n",
    "df.drop('currency_code', axis=1, inplace=True)\n",
    "\n",
    "print(df.head())"
   ]
  },
  {
   "cell_type": "markdown",
   "metadata": {},
   "source": [
    "## Channel"
   ]
  },
  {
   "cell_type": "code",
   "execution_count": 180,
   "metadata": {},
   "outputs": [
    {
     "data": {
      "text/plain": [
       "array([32,  8, 64,  1,  4], dtype=int64)"
      ]
     },
     "execution_count": 180,
     "metadata": {},
     "output_type": "execute_result"
    }
   ],
   "source": [
    "df['channel_id'].unique()"
   ]
  },
  {
   "cell_type": "code",
   "execution_count": 181,
   "metadata": {},
   "outputs": [
    {
     "data": {
      "text/plain": [
       "array(['Mobile', 'Social', 'Video', 'Display', 'Search'], dtype=object)"
      ]
     },
     "execution_count": 181,
     "metadata": {},
     "output_type": "execute_result"
    }
   ],
   "source": [
    "df['channel_name'].unique()"
   ]
  },
  {
   "cell_type": "code",
   "execution_count": 182,
   "metadata": {},
   "outputs": [],
   "source": [
    "# Apply One-Hot Encoding to the 'channel name' column\n",
    "df_encoded = pd.get_dummies(df['channel_name'], prefix='channel')\n",
    "\n",
    "# Convert True/False to 1/0\n",
    "df_encoded = df_encoded.astype(int)\n",
    "\n",
    "# Optionally, concatenate the encoded columns with the original dataframe\n",
    "df = pd.concat([df, df_encoded], axis=1)\n",
    "\n",
    "# Drop the original 'channel_name' column\n",
    "df.drop('channel_name', axis=1, inplace=True)"
   ]
  },
  {
   "cell_type": "code",
   "execution_count": 183,
   "metadata": {},
   "outputs": [
    {
     "name": "stdout",
     "output_type": "stream",
     "text": [
      "   campaign_item_id  no_of_days  ext_service_id  creative_id  template_id  \\\n",
      "0              2733    0.059322             128         1000         90.0   \n",
      "1              2733    0.067797              16         1000         90.0   \n",
      "2              2733    0.076271             128         1000         90.0   \n",
      "3              2733    0.084746             128         1000         90.0   \n",
      "4              2733    0.093220               4         1000         90.0   \n",
      "\n",
      "   advertiser_id advertiser_name  network_id  channel_id  campaign_budget_usd  \\\n",
      "0           4756             Web         190          32             0.201396   \n",
      "1           4756             Web         190           8             0.201396   \n",
      "2           4756             Web         190           8             0.201396   \n",
      "3           4756             Web         190          64             0.201396   \n",
      "4           4756             Web         190          32             0.201396   \n",
      "\n",
      "   ...  currency_AED  currency_EGP currency_INR  currency_SGD  currency_USD  \\\n",
      "0  ...             0             0            0             1             0   \n",
      "1  ...             0             0            0             1             0   \n",
      "2  ...             0             0            0             1             0   \n",
      "3  ...             0             0            0             1             0   \n",
      "4  ...             0             0            0             1             0   \n",
      "\n",
      "   channel_Display  channel_Mobile  channel_Search  channel_Social  \\\n",
      "0                0               1               0               0   \n",
      "1                0               0               0               1   \n",
      "2                0               0               0               1   \n",
      "3                0               0               0               0   \n",
      "4                0               1               0               0   \n",
      "\n",
      "   channel_Video  \n",
      "0              0  \n",
      "1              0  \n",
      "2              0  \n",
      "3              1  \n",
      "4              0  \n",
      "\n",
      "[5 rows x 96 columns]\n"
     ]
    }
   ],
   "source": [
    "from sklearn.preprocessing import StandardScaler\n",
    "\n",
    "# Initialize StandardScaler\n",
    "scaler = StandardScaler()\n",
    "\n",
    "# Standardize the 'campaign_budget_usd' column\n",
    "df['campaign_budget_usd'] = scaler.fit_transform(df[['campaign_budget_usd']])\n",
    "\n",
    "# Display the updated DataFrame with the scaled feature\n",
    "print(df.head())"
   ]
  },
  {
   "cell_type": "markdown",
   "metadata": {},
   "source": [
    "## Keywords"
   ]
  },
  {
   "cell_type": "code",
   "execution_count": 184,
   "metadata": {},
   "outputs": [
    {
     "data": {
      "text/plain": [
       "array(['delicate bracelets', 'summer jewelry', 'artisan jewelry',\n",
       "       'layered bracelets', 'minimalist jewelry', 'beaded bracelets',\n",
       "       'bridal jewelry', 'unique and trendy jewelry', 'clip-on earrings',\n",
       "       'bohemian jewelry', 'layered jewelry', 'tribal jewelry',\n",
       "       'rhinestone jewelry', 'statement rings', 'mixed metal jewelry',\n",
       "       'chic and affordable jewelry', 'colorful jewelry', 'funky jewelry',\n",
       "       'cuff bracelets', 'elegant and modern jewelry',\n",
       "       'fashionable jewelry', 'statement necklaces', 'bold jewelry',\n",
       "       'seashell jewelry', 'party jewelry', 'modern jewelry',\n",
       "       'winter jewelry', 'seasonal jewelry', 'drop earrings',\n",
       "       'charm bracelets', 'costume jewelry sets', 'pendant necklaces',\n",
       "       'fashion jewelry for women', 'bangles', 'chic jewelry',\n",
       "       'vintage-inspired jewelry', 'dazzling jewelry', 'spring jewelry',\n",
       "       'stud earrings', 'beach jewelry', 'vibrant jewelry',\n",
       "       'fashion brooches', 'gemstone jewelry', 'toe rings',\n",
       "       'religious jewelry', 'edwardian jewelry', 'trendy jewelry',\n",
       "       'art deco jewelry', 'handmade jewelry', 'art nouveau jewelry',\n",
       "       'everyday jewelry', 'boho jewelry', 'nature-inspired jewelry',\n",
       "       'fall jewelry', 'unique jewelry', 'vintage jewelry', 'midi rings',\n",
       "       'elegant jewelry', 'dangle earrings', 'brooches', 'body jewelry',\n",
       "       'tassel earrings', 'victorian jewelry', 'multi-strand necklaces',\n",
       "       'wedding jewelry', 'office jewelry', 'jewelry sets',\n",
       "       'exquisite jewelry', 'layered earrings',\n",
       "       'affordable statement jewelry', 'crystal jewelry',\n",
       "       'concert jewelry', 'animal jewelry', 'handcrafted jewelry',\n",
       "       'renaissance jewelry', 'festival jewelry', 'threader earrings',\n",
       "       'statement jewelry', 'birthstone jewelry', 'ear cuffs',\n",
       "       'hoop earrings', 'zodiac jewelry', 'affordable luxury jewelry',\n",
       "       'luxury jewelry', 'pearl jewelry', 'retro jewelry', 'arm cuffs',\n",
       "       'casual chic jewelry', 'designer-inspired jewelry',\n",
       "       'minimalistic jewelry', 'anklets', 'cocktail rings',\n",
       "       'affordable jewelry', 'hair accessories', 'costume jewelry',\n",
       "       'choker necklaces', 'chunky jewelry', 'stackable bracelets',\n",
       "       'sophisticated jewelry', 'whimsical jewelry',\n",
       "       'affordable trendy jewelry', 'artisanal jewelry',\n",
       "       'glamorous jewelry', 'casual jewelry', 'dainty jewelry',\n",
       "       'personalized jewelry', 'beaded jewelry', 'long necklaces',\n",
       "       'body piercings', 'initial jewelry', 'trendy and timeless jewelry',\n",
       "       'formal jewelry', 'huggie earrings', 'statement pins',\n",
       "       'layered necklaces', 'baroque jewelry', 'holiday jewelry',\n",
       "       'body chains'], dtype=object)"
      ]
     },
     "execution_count": 184,
     "metadata": {},
     "output_type": "execute_result"
    }
   ],
   "source": [
    "df['keywords'].unique()"
   ]
  },
  {
   "cell_type": "code",
   "execution_count": 185,
   "metadata": {},
   "outputs": [],
   "source": [
    "import numpy as np\n",
    "import pandas as pd\n",
    "\n",
    "# Step 1: Load GloVe embeddings\n",
    "glove_path = \"../GloVe/glove.6B.50d.txt\"  # Update with the correct path\n",
    "\n",
    "def load_glove_embeddings(glove_file):\n",
    "    embeddings = {}\n",
    "    with open(glove_file, \"r\", encoding=\"utf-8\") as f:\n",
    "        for line in f:\n",
    "            values = line.split()\n",
    "            word = values[0]  # First value is the word\n",
    "            vector = np.array(values[1:], dtype=np.float32)  # Rest are vector components\n",
    "            embeddings[word] = vector\n",
    "    return embeddings\n",
    "\n",
    "glove_embeddings = load_glove_embeddings(glove_path)\n"
   ]
  },
  {
   "cell_type": "code",
   "execution_count": 186,
   "metadata": {},
   "outputs": [],
   "source": [
    "# Step 2: Function to get phrase-level embedding\n",
    "def get_phrase_embedding(phrase):\n",
    "    words = phrase.split()  # Split phrase into words\n",
    "    vectors = [glove_embeddings[word] for word in words if word in glove_embeddings]  \n",
    "    if vectors:\n",
    "        return np.mean(vectors, axis=0)  # Average word vectors to form phrase vector\n",
    "    else:\n",
    "        return np.zeros(50)  # Return zero vector if no word is found in GloVe\n"
   ]
  },
  {
   "cell_type": "code",
   "execution_count": 187,
   "metadata": {},
   "outputs": [],
   "source": [
    "# Step 3: Apply embeddings to the DataFrame\n",
    "df['keyword_embedding'] = df['keywords'].apply(get_phrase_embedding)"
   ]
  },
  {
   "cell_type": "code",
   "execution_count": 188,
   "metadata": {},
   "outputs": [],
   "source": [
    "# Step 3: Apply embeddings to the DataFrame\n",
    "df['advertiser_embedding'] = df['advertiser_name'].apply(get_phrase_embedding)"
   ]
  },
  {
   "cell_type": "code",
   "execution_count": null,
   "metadata": {},
   "outputs": [
    {
     "name": "stdout",
     "output_type": "stream",
     "text": [
      "✅ Keyword embeddings saved to 'keyword_embeddings.csv'.\n",
      "   campaign_item_id  no_of_days  ext_service_id  creative_id  template_id  \\\n",
      "0              2733    0.059322             128         1000         90.0   \n",
      "1              2733    0.067797              16         1000         90.0   \n",
      "2              2733    0.076271             128         1000         90.0   \n",
      "3              2733    0.084746             128         1000         90.0   \n",
      "4              2733    0.093220               4         1000         90.0   \n",
      "\n",
      "   advertiser_id advertiser_name  network_id  channel_id  campaign_budget_usd  \\\n",
      "0           4756             Web         190          32             0.201396   \n",
      "1           4756             Web         190           8             0.201396   \n",
      "2           4756             Web         190           8             0.201396   \n",
      "3           4756             Web         190          64             0.201396   \n",
      "4           4756             Web         190          32             0.201396   \n",
      "\n",
      "   ...  keyword_emb_40  keyword_emb_41  keyword_emb_42  keyword_emb_43  \\\n",
      "0  ...       -0.025815        0.065080        0.321560        0.366740   \n",
      "1  ...       -0.288120        0.262839        0.490360       -0.231585   \n",
      "2  ...        0.468140        0.385195        0.476245       -0.077119   \n",
      "3  ...        0.470525        0.220776        0.379105        0.502782   \n",
      "4  ...        0.504205        0.476090        0.636025       -0.109955   \n",
      "\n",
      "   keyword_emb_44  keyword_emb_45  keyword_emb_46  keyword_emb_47  \\\n",
      "0        0.782945       -0.452590        0.762445       -0.236451   \n",
      "1        0.551810       -0.311771        0.046185       -0.758240   \n",
      "2        0.603715       -0.069030       -0.254485       -0.243660   \n",
      "3        0.474088       -0.622575        0.831450       -0.160355   \n",
      "4        0.559820       -0.140575        0.277635       -0.568215   \n",
      "\n",
      "   keyword_emb_48  keyword_emb_49  \n",
      "0       -0.974220       -0.784795  \n",
      "1       -0.280470       -0.238490  \n",
      "2       -0.069849       -0.327535  \n",
      "3       -1.160585       -0.801550  \n",
      "4       -0.258175       -0.202530  \n",
      "\n",
      "[5 rows x 146 columns]\n"
     ]
    }
   ],
   "source": [
    "import pandas as pd\n",
    "\n",
    "# Convert keyword embeddings to a DataFrame\n",
    "keyword_embeddings_df = pd.DataFrame(df['keyword_embedding'].tolist(), \n",
    "                                     columns=[f'keyword_emb_{i}' for i in range(50)])\n",
    "keyword_embeddings_df.insert(0, \"keyword\", df['keywords'])  # Add keyword column\n",
    "\n",
    "# Save keyword embeddings for later use\n",
    "keyword_embeddings_df.to_csv(\"../Datasets/keyword_embeddings.csv\", index=False)\n",
    "\n",
    "print(\"✅ Keyword embeddings saved to 'keyword_embeddings.csv'.\")\n",
    "\n",
    "# Merge embeddings into the original DataFrame\n",
    "df = pd.concat([df.drop(columns=['keywords', 'keyword_embedding']), keyword_embeddings_df.drop(columns=['keyword'])], axis=1)\n",
    "\n",
    "# Verify embeddings\n",
    "print(df.head())\n"
   ]
  },
  {
   "cell_type": "code",
   "execution_count": 190,
   "metadata": {},
   "outputs": [
    {
     "data": {
      "text/plain": [
       "array(['Web', 'Brand', 'Luxor', 'Almaza Bay', 'USA', 'Karnataka',\n",
       "       'Maharashtra', 'Oman', 'UAE', 'Cairo', 'Al Ahmadi', 'Addis Ababa',\n",
       "       'Vadodara', 'Chennai', 'Coimbatore', 'Malad', 'Indore', 'Pali',\n",
       "       'Andhra Pradesh', 'Kuala Lumpur', 'Gujarat', 'Chandpur',\n",
       "       'West Bengal', 'Tamil Nadu', 'Madhya Pradesh', 'Orissa', 'North',\n",
       "       'Thailand', 'Singapore', 'Sohar', 'KSA', 'Qatar', 'Muscat',\n",
       "       'Kuwait', 'Bahrain', 'Malaysia', 'Jeddah', 'Chattogram',\n",
       "       'Pan India'], dtype=object)"
      ]
     },
     "execution_count": 190,
     "metadata": {},
     "output_type": "execute_result"
    }
   ],
   "source": [
    "df['advertiser_name'].unique()"
   ]
  },
  {
   "cell_type": "code",
   "execution_count": 191,
   "metadata": {},
   "outputs": [
    {
     "name": "stdout",
     "output_type": "stream",
     "text": [
      "✅ Advertiser embeddings saved to 'advertiser_embeddings.csv'.\n"
     ]
    }
   ],
   "source": [
    "# List of unique advertiser names\n",
    "advertisers = [\n",
    "    \"Web\", \"Brand\", \"Luxor\", \"Almaza Bay\", \"USA\", \"Karnataka\",\n",
    "    \"Maharashtra\", \"Oman\", \"UAE\", \"Cairo\", \"Al Ahmadi\", \"Addis Ababa\",\n",
    "    \"Vadodara\", \"Chennai\", \"Coimbatore\", \"Malad\", \"Indore\", \"Pali\",\n",
    "    \"Andhra Pradesh\", \"Kuala Lumpur\", \"Gujarat\", \"Chandpur\",\n",
    "    \"West Bengal\", \"Tamil Nadu\", \"Madhya Pradesh\", \"Orissa\", \"North\",\n",
    "    \"Thailand\", \"Singapore\", \"Sohar\", \"KSA\", \"Qatar\", \"Muscat\",\n",
    "    \"Kuwait\", \"Bahrain\", \"Malaysia\", \"Jeddah\", \"Chattogram\"\n",
    "]\n",
    "\n",
    "# Function to get GloVe embedding for a given word\n",
    "def get_glove_embedding(word):\n",
    "    words = word.split()  # Handle multi-word names\n",
    "    vectors = [glove_embeddings[w.lower()] for w in words if w.lower() in glove_embeddings]\n",
    "    if vectors:\n",
    "        return np.mean(vectors, axis=0)  # Average vectors for multi-word names\n",
    "    else:\n",
    "        return np.zeros(50)  # Default zero vector for unknown words\n",
    "\n",
    "# Create a dictionary mapping each advertiser name to its GloVe embedding\n",
    "advertiser_to_embedding = {adv: get_glove_embedding(adv) for adv in advertisers}\n",
    "\n",
    "# Convert to DataFrame\n",
    "advertiser_embeddings_df = pd.DataFrame.from_dict(advertiser_to_embedding, orient='index', \n",
    "                                                  columns=[f'advertiser_emb_{i}' for i in range(50)])\n",
    "advertiser_embeddings_df.insert(0, \"advertiser_name\", advertisers)  # Add advertiser_name column\n",
    "\n",
    "# Save to CSV for later use\n",
    "advertiser_embeddings_df.to_csv(\"../Datasets/advertiser_embeddings.csv\", index=False)\n",
    "\n",
    "print(\"✅ Advertiser embeddings saved to 'advertiser_embeddings.csv'.\")\n"
   ]
  },
  {
   "cell_type": "code",
   "execution_count": 192,
   "metadata": {},
   "outputs": [
    {
     "data": {
      "text/plain": [
       "0          0\n",
       "1          0\n",
       "2          0\n",
       "3          0\n",
       "4          0\n",
       "        ... \n",
       "69195    140\n",
       "69196    140\n",
       "69197    140\n",
       "69198    140\n",
       "69199    140\n",
       "Name: campaign_index, Length: 69200, dtype: int64"
      ]
     },
     "execution_count": 192,
     "metadata": {},
     "output_type": "execute_result"
    }
   ],
   "source": [
    "df['campaign_index']"
   ]
  },
  {
   "cell_type": "code",
   "execution_count": 193,
   "metadata": {},
   "outputs": [
    {
     "name": "stdout",
     "output_type": "stream",
     "text": [
      "Columns with null values:\n",
      "Series([], dtype: float64)\n"
     ]
    }
   ],
   "source": [
    "# Find columns with null values\n",
    "null_columns = df.columns[df.isnull().any()]\n",
    "\n",
    "# Display columns with null values and their respective counts\n",
    "null_counts = df[null_columns].isnull().sum()\n",
    "\n",
    "print(\"Columns with null values:\")\n",
    "print(null_counts)\n"
   ]
  },
  {
   "cell_type": "code",
   "execution_count": 194,
   "metadata": {},
   "outputs": [],
   "source": [
    "# Identify and drop advertiser embedding columns\n",
    "advertiser_emb_cols = [col for col in df.columns if col.startswith(\"advertiser_emb_\")]\n",
    "\n",
    "# Identify and drop keyword embedding columns (assuming they start with \"keyword_emb_\")\n",
    "keyword_emb_cols = [col for col in df.columns if col.startswith(\"keyword_emb_\")]\n",
    "\n",
    "search_tag_emb_cols = [col for col in df.columns if col.startswith(\"search_tag_emb_\")]\n",
    "\n",
    "# Drop both sets of embeddings\n",
    "df.drop(columns=advertiser_emb_cols + keyword_emb_cols + search_tag_emb_cols, inplace=True)"
   ]
  },
  {
   "cell_type": "code",
   "execution_count": 195,
   "metadata": {},
   "outputs": [
    {
     "name": "stdout",
     "output_type": "stream",
     "text": [
      "       campaign_item_id  no_of_days  ext_service_id  creative_id  template_id  \\\n",
      "0                  2733    0.059322             128         1000         90.0   \n",
      "1                  2733    0.067797              16         1000         90.0   \n",
      "2                  2733    0.076271             128         1000         90.0   \n",
      "3                  2733    0.084746             128         1000         90.0   \n",
      "4                  2733    0.093220               4         1000         90.0   \n",
      "...                 ...         ...             ...          ...          ...   \n",
      "69195              3960    0.016949             128        13710         90.0   \n",
      "69196              3960    0.025424             128        13710         90.0   \n",
      "69197              3960    0.033898             128        13710         90.0   \n",
      "69198              3960    0.042373             128        13710         90.0   \n",
      "69199              3960    0.050847              16        13710         90.0   \n",
      "\n",
      "       advertiser_id advertiser_name  network_id  channel_id  \\\n",
      "0               4756             Web         190          32   \n",
      "1               4756             Web         190           8   \n",
      "2               4756             Web         190           8   \n",
      "3               4756             Web         190          64   \n",
      "4               4756             Web         190          32   \n",
      "...              ...             ...         ...         ...   \n",
      "69195           5857           Cairo         350          32   \n",
      "69196           5857           Cairo         350           1   \n",
      "69197           5857           Cairo         350           4   \n",
      "69198           5857           Cairo         350           8   \n",
      "69199           5857           Cairo         350           8   \n",
      "\n",
      "       campaign_budget_usd  ...  currency_EGP  currency_INR  currency_SGD  \\\n",
      "0                 0.201396  ...             0             0             1   \n",
      "1                 0.201396  ...             0             0             1   \n",
      "2                 0.201396  ...             0             0             1   \n",
      "3                 0.201396  ...             0             0             1   \n",
      "4                 0.201396  ...             0             0             1   \n",
      "...                    ...  ...           ...           ...           ...   \n",
      "69195             0.113102  ...             0             0             0   \n",
      "69196             0.113102  ...             0             0             0   \n",
      "69197             0.113102  ...             0             0             0   \n",
      "69198             0.113102  ...             0             0             0   \n",
      "69199             0.113102  ...             0             0             0   \n",
      "\n",
      "       currency_USD  channel_Display  channel_Mobile  channel_Search  \\\n",
      "0                 0                0               1               0   \n",
      "1                 0                0               0               0   \n",
      "2                 0                0               0               0   \n",
      "3                 0                0               0               0   \n",
      "4                 0                0               1               0   \n",
      "...             ...              ...             ...             ...   \n",
      "69195             1                0               1               0   \n",
      "69196             1                1               0               0   \n",
      "69197             1                0               0               1   \n",
      "69198             1                0               0               0   \n",
      "69199             1                0               0               0   \n",
      "\n",
      "       channel_Social  channel_Video  \\\n",
      "0                   0              0   \n",
      "1                   1              0   \n",
      "2                   1              0   \n",
      "3                   0              1   \n",
      "4                   0              0   \n",
      "...               ...            ...   \n",
      "69195               0              0   \n",
      "69196               0              0   \n",
      "69197               0              0   \n",
      "69198               1              0   \n",
      "69199               1              0   \n",
      "\n",
      "                                    advertiser_embedding  \n",
      "0      [0.0, 0.0, 0.0, 0.0, 0.0, 0.0, 0.0, 0.0, 0.0, ...  \n",
      "1      [0.0, 0.0, 0.0, 0.0, 0.0, 0.0, 0.0, 0.0, 0.0, ...  \n",
      "2      [0.0, 0.0, 0.0, 0.0, 0.0, 0.0, 0.0, 0.0, 0.0, ...  \n",
      "3      [0.0, 0.0, 0.0, 0.0, 0.0, 0.0, 0.0, 0.0, 0.0, ...  \n",
      "4      [0.0, 0.0, 0.0, 0.0, 0.0, 0.0, 0.0, 0.0, 0.0, ...  \n",
      "...                                                  ...  \n",
      "69195  [0.0, 0.0, 0.0, 0.0, 0.0, 0.0, 0.0, 0.0, 0.0, ...  \n",
      "69196  [0.0, 0.0, 0.0, 0.0, 0.0, 0.0, 0.0, 0.0, 0.0, ...  \n",
      "69197  [0.0, 0.0, 0.0, 0.0, 0.0, 0.0, 0.0, 0.0, 0.0, ...  \n",
      "69198  [0.0, 0.0, 0.0, 0.0, 0.0, 0.0, 0.0, 0.0, 0.0, ...  \n",
      "69199  [0.0, 0.0, 0.0, 0.0, 0.0, 0.0, 0.0, 0.0, 0.0, ...  \n",
      "\n",
      "[69200 rows x 46 columns]\n"
     ]
    }
   ],
   "source": [
    "print(df)"
   ]
  },
  {
   "cell_type": "code",
   "execution_count": 196,
   "metadata": {},
   "outputs": [
    {
     "name": "stdout",
     "output_type": "stream",
     "text": [
      "Available columns in the dataset:\n",
      "['campaign_item_id', 'no_of_days', 'ext_service_id', 'creative_id', 'template_id', 'advertiser_id', 'advertiser_name', 'network_id', 'channel_id', 'campaign_budget_usd', 'clicks', 'media_cost_usd', 'creative_dimension', 'campaign_index', 'day_of_week', 'month', 'day_of_year', 'weekday_week_day', 'weekday_week_end', 'plateform_DV360', 'plateform_Facebook Ads', 'plateform_Google Ads', 'zone_Africa/Cairo', 'zone_America/New_York', 'zone_Asia/Calcutta', 'zone_Asia/Kolkata', 'zone_Asia/Muscat', 'zone_Asia/Singapore', 'zone_US/Eastern', 'impressions_normalized', 'search_cat_Affinity', 'search_cat_Inmarket', 'search_cat_Others', 'search_cat_Retargeting', 'search_cat_Youtube', 'currency_AED', 'currency_EGP', 'currency_INR', 'currency_SGD', 'currency_USD', 'channel_Display', 'channel_Mobile', 'channel_Search', 'channel_Social', 'channel_Video', 'advertiser_embedding']\n"
     ]
    }
   ],
   "source": [
    "# Print all column names\n",
    "print(\"Available columns in the dataset:\")\n",
    "print(df.columns.tolist())  # Prints as a list for better readability"
   ]
  },
  {
   "cell_type": "code",
   "execution_count": 197,
   "metadata": {},
   "outputs": [],
   "source": [
    "df = df.drop(columns=['campaign_item_id', 'advertiser_embedding'])"
   ]
  },
  {
   "cell_type": "code",
   "execution_count": 198,
   "metadata": {},
   "outputs": [
    {
     "name": "stdout",
     "output_type": "stream",
     "text": [
      "Final DataFrame saved to ../Datasets/processed_data.csv\n"
     ]
    }
   ],
   "source": [
    "# Save the final DataFrame to a CSV file\n",
    "final_csv_path = '../Datasets/processed_data.csv'\n",
    "df.to_csv(final_csv_path, index=False)\n",
    "\n",
    "print(f\"Final DataFrame saved to {final_csv_path}\")"
   ]
  }
 ],
 "metadata": {
  "kernelspec": {
   "display_name": "Python 3",
   "language": "python",
   "name": "python3"
  },
  "language_info": {
   "codemirror_mode": {
    "name": "ipython",
    "version": 3
   },
   "file_extension": ".py",
   "mimetype": "text/x-python",
   "name": "python",
   "nbconvert_exporter": "python",
   "pygments_lexer": "ipython3",
   "version": "3.12.3"
  }
 },
 "nbformat": 4,
 "nbformat_minor": 2
}
