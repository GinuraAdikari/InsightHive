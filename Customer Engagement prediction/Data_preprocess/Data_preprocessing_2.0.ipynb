{
 "cells": [
  {
   "cell_type": "markdown",
   "metadata": {},
   "source": [
    "### Importing relavent libraries\n"
   ]
  },
  {
   "cell_type": "code",
   "execution_count": 108,
   "metadata": {},
   "outputs": [],
   "source": [
    "import pandas as pd\n",
    "import seaborn as sns"
   ]
  },
  {
   "cell_type": "code",
   "execution_count": 109,
   "metadata": {},
   "outputs": [],
   "source": [
    "# Load the dataset\n",
    "df = pd.read_csv(\"../Datasets/Marketing campaign dataset.csv\")"
   ]
  },
  {
   "cell_type": "code",
   "execution_count": 110,
   "metadata": {},
   "outputs": [
    {
     "data": {
      "text/html": [
       "<div>\n",
       "<style scoped>\n",
       "    .dataframe tbody tr th:only-of-type {\n",
       "        vertical-align: middle;\n",
       "    }\n",
       "\n",
       "    .dataframe tbody tr th {\n",
       "        vertical-align: top;\n",
       "    }\n",
       "\n",
       "    .dataframe thead th {\n",
       "        text-align: right;\n",
       "    }\n",
       "</style>\n",
       "<table border=\"1\" class=\"dataframe\">\n",
       "  <thead>\n",
       "    <tr style=\"text-align: right;\">\n",
       "      <th></th>\n",
       "      <th>campaign_item_id</th>\n",
       "      <th>no_of_days</th>\n",
       "      <th>time</th>\n",
       "      <th>ext_service_id</th>\n",
       "      <th>ext_service_name</th>\n",
       "      <th>creative_id</th>\n",
       "      <th>creative_width</th>\n",
       "      <th>creative_height</th>\n",
       "      <th>search_tags</th>\n",
       "      <th>template_id</th>\n",
       "      <th>...</th>\n",
       "      <th>exchange_rate</th>\n",
       "      <th>media_cost_usd</th>\n",
       "      <th>position_in_content</th>\n",
       "      <th>unique_reach</th>\n",
       "      <th>total_reach</th>\n",
       "      <th>search_tag_cat</th>\n",
       "      <th>cmi_currency_code</th>\n",
       "      <th>timezone</th>\n",
       "      <th>weekday_cat</th>\n",
       "      <th>keywords</th>\n",
       "    </tr>\n",
       "  </thead>\n",
       "  <tbody>\n",
       "    <tr>\n",
       "      <th>0</th>\n",
       "      <td>2733</td>\n",
       "      <td>7</td>\n",
       "      <td>2022-05-01</td>\n",
       "      <td>128</td>\n",
       "      <td>Facebook Ads</td>\n",
       "      <td>1000</td>\n",
       "      <td>300.0</td>\n",
       "      <td>250.0</td>\n",
       "      <td>#The Power of X</td>\n",
       "      <td>90.0</td>\n",
       "      <td>...</td>\n",
       "      <td>1</td>\n",
       "      <td>14.058514</td>\n",
       "      <td>NaN</td>\n",
       "      <td>NaN</td>\n",
       "      <td>NaN</td>\n",
       "      <td>Others</td>\n",
       "      <td>SGD</td>\n",
       "      <td>Asia/Singapore</td>\n",
       "      <td>week_end</td>\n",
       "      <td>delicate bracelets</td>\n",
       "    </tr>\n",
       "    <tr>\n",
       "      <th>1</th>\n",
       "      <td>2733</td>\n",
       "      <td>8</td>\n",
       "      <td>2022-05-02</td>\n",
       "      <td>16</td>\n",
       "      <td>DV360</td>\n",
       "      <td>1000</td>\n",
       "      <td>300.0</td>\n",
       "      <td>250.0</td>\n",
       "      <td>#Be Bold. Be X</td>\n",
       "      <td>90.0</td>\n",
       "      <td>...</td>\n",
       "      <td>1</td>\n",
       "      <td>99.633496</td>\n",
       "      <td>NaN</td>\n",
       "      <td>NaN</td>\n",
       "      <td>NaN</td>\n",
       "      <td>Others</td>\n",
       "      <td>SGD</td>\n",
       "      <td>Asia/Singapore</td>\n",
       "      <td>week_day</td>\n",
       "      <td>summer jewelry</td>\n",
       "    </tr>\n",
       "    <tr>\n",
       "      <th>2</th>\n",
       "      <td>2733</td>\n",
       "      <td>9</td>\n",
       "      <td>2022-05-03</td>\n",
       "      <td>128</td>\n",
       "      <td>Facebook Ads</td>\n",
       "      <td>1000</td>\n",
       "      <td>300.0</td>\n",
       "      <td>250.0</td>\n",
       "      <td>#Embrace Your Individuality with X</td>\n",
       "      <td>90.0</td>\n",
       "      <td>...</td>\n",
       "      <td>1</td>\n",
       "      <td>109.419677</td>\n",
       "      <td>NaN</td>\n",
       "      <td>NaN</td>\n",
       "      <td>NaN</td>\n",
       "      <td>Others</td>\n",
       "      <td>SGD</td>\n",
       "      <td>Asia/Singapore</td>\n",
       "      <td>week_day</td>\n",
       "      <td>artisan jewelry</td>\n",
       "    </tr>\n",
       "    <tr>\n",
       "      <th>3</th>\n",
       "      <td>2733</td>\n",
       "      <td>10</td>\n",
       "      <td>2022-05-04</td>\n",
       "      <td>128</td>\n",
       "      <td>Facebook Ads</td>\n",
       "      <td>1000</td>\n",
       "      <td>300.0</td>\n",
       "      <td>250.0</td>\n",
       "      <td>#Be Bold. Be X</td>\n",
       "      <td>90.0</td>\n",
       "      <td>...</td>\n",
       "      <td>1</td>\n",
       "      <td>115.209499</td>\n",
       "      <td>NaN</td>\n",
       "      <td>NaN</td>\n",
       "      <td>NaN</td>\n",
       "      <td>Others</td>\n",
       "      <td>SGD</td>\n",
       "      <td>Asia/Singapore</td>\n",
       "      <td>week_day</td>\n",
       "      <td>layered bracelets</td>\n",
       "    </tr>\n",
       "    <tr>\n",
       "      <th>4</th>\n",
       "      <td>2733</td>\n",
       "      <td>11</td>\n",
       "      <td>2022-05-05</td>\n",
       "      <td>4</td>\n",
       "      <td>Google Ads</td>\n",
       "      <td>1000</td>\n",
       "      <td>300.0</td>\n",
       "      <td>250.0</td>\n",
       "      <td>#Be Bold. Be X</td>\n",
       "      <td>90.0</td>\n",
       "      <td>...</td>\n",
       "      <td>1</td>\n",
       "      <td>66.990104</td>\n",
       "      <td>NaN</td>\n",
       "      <td>NaN</td>\n",
       "      <td>NaN</td>\n",
       "      <td>Others</td>\n",
       "      <td>SGD</td>\n",
       "      <td>Asia/Singapore</td>\n",
       "      <td>week_day</td>\n",
       "      <td>minimalist jewelry</td>\n",
       "    </tr>\n",
       "  </tbody>\n",
       "</table>\n",
       "<p>5 rows × 35 columns</p>\n",
       "</div>"
      ],
      "text/plain": [
       "   campaign_item_id  no_of_days        time  ext_service_id ext_service_name  \\\n",
       "0              2733           7  2022-05-01             128     Facebook Ads   \n",
       "1              2733           8  2022-05-02              16            DV360   \n",
       "2              2733           9  2022-05-03             128     Facebook Ads   \n",
       "3              2733          10  2022-05-04             128     Facebook Ads   \n",
       "4              2733          11  2022-05-05               4       Google Ads   \n",
       "\n",
       "   creative_id  creative_width  creative_height  \\\n",
       "0         1000           300.0            250.0   \n",
       "1         1000           300.0            250.0   \n",
       "2         1000           300.0            250.0   \n",
       "3         1000           300.0            250.0   \n",
       "4         1000           300.0            250.0   \n",
       "\n",
       "                          search_tags  template_id  ... exchange_rate  \\\n",
       "0                     #The Power of X         90.0  ...             1   \n",
       "1                      #Be Bold. Be X         90.0  ...             1   \n",
       "2  #Embrace Your Individuality with X         90.0  ...             1   \n",
       "3                      #Be Bold. Be X         90.0  ...             1   \n",
       "4                      #Be Bold. Be X         90.0  ...             1   \n",
       "\n",
       "   media_cost_usd position_in_content  unique_reach  total_reach  \\\n",
       "0       14.058514                 NaN           NaN          NaN   \n",
       "1       99.633496                 NaN           NaN          NaN   \n",
       "2      109.419677                 NaN           NaN          NaN   \n",
       "3      115.209499                 NaN           NaN          NaN   \n",
       "4       66.990104                 NaN           NaN          NaN   \n",
       "\n",
       "  search_tag_cat  cmi_currency_code        timezone  weekday_cat  \\\n",
       "0         Others                SGD  Asia/Singapore     week_end   \n",
       "1         Others                SGD  Asia/Singapore     week_day   \n",
       "2         Others                SGD  Asia/Singapore     week_day   \n",
       "3         Others                SGD  Asia/Singapore     week_day   \n",
       "4         Others                SGD  Asia/Singapore     week_day   \n",
       "\n",
       "             keywords  \n",
       "0  delicate bracelets  \n",
       "1      summer jewelry  \n",
       "2     artisan jewelry  \n",
       "3   layered bracelets  \n",
       "4  minimalist jewelry  \n",
       "\n",
       "[5 rows x 35 columns]"
      ]
     },
     "execution_count": 110,
     "metadata": {},
     "output_type": "execute_result"
    }
   ],
   "source": [
    "df.head()"
   ]
  },
  {
   "cell_type": "code",
   "execution_count": 111,
   "metadata": {},
   "outputs": [
    {
     "name": "stdout",
     "output_type": "stream",
     "text": [
      "campaign_item_id         int64\n",
      "no_of_days               int64\n",
      "time                    object\n",
      "ext_service_id           int64\n",
      "ext_service_name        object\n",
      "creative_id              int64\n",
      "creative_width         float64\n",
      "creative_height        float64\n",
      "search_tags             object\n",
      "template_id            float64\n",
      "landing_page            object\n",
      "advertiser_id            int64\n",
      "advertiser_name         object\n",
      "network_id               int64\n",
      "approved_budget        float64\n",
      "advertiser_currency     object\n",
      "channel_id               int64\n",
      "channel_name            object\n",
      "max_bid_cpm            float64\n",
      "network_margin         float64\n",
      "campaign_budget_usd    float64\n",
      "impressions              int64\n",
      "clicks                   int64\n",
      "stats_currency          object\n",
      "currency_code           object\n",
      "exchange_rate            int64\n",
      "media_cost_usd         float64\n",
      "position_in_content    float64\n",
      "unique_reach           float64\n",
      "total_reach            float64\n",
      "search_tag_cat          object\n",
      "cmi_currency_code       object\n",
      "timezone                object\n",
      "weekday_cat             object\n",
      "keywords                object\n",
      "dtype: object\n"
     ]
    }
   ],
   "source": [
    "print(df.dtypes)"
   ]
  },
  {
   "cell_type": "markdown",
   "metadata": {},
   "source": [
    "#### Check for null values"
   ]
  },
  {
   "cell_type": "code",
   "execution_count": 112,
   "metadata": {},
   "outputs": [
    {
     "name": "stdout",
     "output_type": "stream",
     "text": [
      "campaign_item_id           0\n",
      "no_of_days                 0\n",
      "time                       0\n",
      "ext_service_id             0\n",
      "ext_service_name           0\n",
      "creative_id                0\n",
      "creative_width          3412\n",
      "creative_height         3412\n",
      "search_tags                0\n",
      "template_id             3412\n",
      "landing_page               0\n",
      "advertiser_id              0\n",
      "advertiser_name            0\n",
      "network_id                 0\n",
      "approved_budget          406\n",
      "advertiser_currency        0\n",
      "channel_id                 0\n",
      "channel_name               0\n",
      "max_bid_cpm            65206\n",
      "network_margin             0\n",
      "campaign_budget_usd        0\n",
      "impressions                0\n",
      "clicks                     0\n",
      "stats_currency             0\n",
      "currency_code              0\n",
      "exchange_rate              0\n",
      "media_cost_usd             0\n",
      "position_in_content    72612\n",
      "unique_reach           72612\n",
      "total_reach            72612\n",
      "search_tag_cat             0\n",
      "cmi_currency_code          0\n",
      "timezone                   0\n",
      "weekday_cat                0\n",
      "keywords                   0\n",
      "dtype: int64 72612\n"
     ]
    }
   ],
   "source": [
    "print(df.isnull().sum(), len(df))"
   ]
  },
  {
   "cell_type": "markdown",
   "metadata": {},
   "source": [
    "#### Removing 3 columns which are completely null"
   ]
  },
  {
   "cell_type": "code",
   "execution_count": 113,
   "metadata": {},
   "outputs": [],
   "source": [
    "df = df.drop(columns=['total_reach','unique_reach','position_in_content','max_bid_cpm'])"
   ]
  },
  {
   "cell_type": "markdown",
   "metadata": {},
   "source": [
    "#### Changing the creative columns to one column"
   ]
  },
  {
   "cell_type": "code",
   "execution_count": 114,
   "metadata": {},
   "outputs": [
    {
     "data": {
      "text/plain": [
       "array([300.,   0.,  nan])"
      ]
     },
     "execution_count": 114,
     "metadata": {},
     "output_type": "execute_result"
    }
   ],
   "source": [
    "df['creative_height'].unique()\n",
    "df['creative_width'].unique()"
   ]
  },
  {
   "cell_type": "code",
   "execution_count": 115,
   "metadata": {},
   "outputs": [],
   "source": [
    "df['creative_dimension'] = df['creative_height'] * df['creative_width']\n",
    "df = df.drop(columns=['creative_height','creative_width'])"
   ]
  },
  {
   "cell_type": "code",
   "execution_count": 116,
   "metadata": {},
   "outputs": [
    {
     "name": "stdout",
     "output_type": "stream",
     "text": [
      "campaign_item_id          0\n",
      "no_of_days                0\n",
      "time                      0\n",
      "ext_service_id            0\n",
      "ext_service_name          0\n",
      "creative_id               0\n",
      "search_tags               0\n",
      "template_id            3412\n",
      "landing_page              0\n",
      "advertiser_id             0\n",
      "advertiser_name           0\n",
      "network_id                0\n",
      "approved_budget         406\n",
      "advertiser_currency       0\n",
      "channel_id                0\n",
      "channel_name              0\n",
      "network_margin            0\n",
      "campaign_budget_usd       0\n",
      "impressions               0\n",
      "clicks                    0\n",
      "stats_currency            0\n",
      "currency_code             0\n",
      "exchange_rate             0\n",
      "media_cost_usd            0\n",
      "search_tag_cat            0\n",
      "cmi_currency_code         0\n",
      "timezone                  0\n",
      "weekday_cat               0\n",
      "keywords                  0\n",
      "creative_dimension     3412\n",
      "dtype: int64 72612\n"
     ]
    }
   ],
   "source": [
    "print(df.isnull().sum(), len(df))"
   ]
  },
  {
   "cell_type": "code",
   "execution_count": 117,
   "metadata": {},
   "outputs": [
    {
     "data": {
      "text/plain": [
       "array([90., 23., 92., 89., 93., nan])"
      ]
     },
     "execution_count": 117,
     "metadata": {},
     "output_type": "execute_result"
    }
   ],
   "source": [
    "df['template_id'].unique()"
   ]
  },
  {
   "cell_type": "markdown",
   "metadata": {},
   "source": [
    "##### Leaving template as it is"
   ]
  },
  {
   "cell_type": "code",
   "execution_count": 118,
   "metadata": {},
   "outputs": [
    {
     "data": {
      "text/plain": [
       "array([75000.,     0.,    nan])"
      ]
     },
     "execution_count": 118,
     "metadata": {},
     "output_type": "execute_result"
    }
   ],
   "source": [
    "df['creative_dimension'].unique()"
   ]
  },
  {
   "cell_type": "code",
   "execution_count": 119,
   "metadata": {},
   "outputs": [
    {
     "data": {
      "text/plain": [
       "array([ 1000,  1005,  1010, ..., 15595, 15600, 15605], dtype=int64)"
      ]
     },
     "execution_count": 119,
     "metadata": {},
     "output_type": "execute_result"
    }
   ],
   "source": [
    "df['creative_id'].unique()"
   ]
  },
  {
   "cell_type": "code",
   "execution_count": 120,
   "metadata": {},
   "outputs": [],
   "source": [
    "df = df.drop(columns=['creative_id'])"
   ]
  },
  {
   "cell_type": "code",
   "execution_count": 121,
   "metadata": {},
   "outputs": [
    {
     "name": "stdout",
     "output_type": "stream",
     "text": [
      "   campaign_item_id  no_of_days        time  ext_service_id ext_service_name  \\\n",
      "0              2733           7  2022-05-01             128     Facebook Ads   \n",
      "1              2733           8  2022-05-02              16            DV360   \n",
      "2              2733           9  2022-05-03             128     Facebook Ads   \n",
      "3              2733          10  2022-05-04             128     Facebook Ads   \n",
      "4              2733          11  2022-05-05               4       Google Ads   \n",
      "\n",
      "                          search_tags  template_id  \\\n",
      "0                     #The Power of X         90.0   \n",
      "1                      #Be Bold. Be X         90.0   \n",
      "2  #Embrace Your Individuality with X         90.0   \n",
      "3                      #Be Bold. Be X         90.0   \n",
      "4                      #Be Bold. Be X         90.0   \n",
      "\n",
      "                                        landing_page  advertiser_id  \\\n",
      "0  https://www.abcjewelry.com/collections/boho-je...           4756   \n",
      "1  https://www.abcjewelry.com/women/costume-jewelry/           4756   \n",
      "2  https://www.abcjewelry.com/collections/boho-je...           4756   \n",
      "3  https://www.abcjewelry.com/collections/rhinest...           4756   \n",
      "4  https://www.abcjewelry.com/collections/boho-je...           4756   \n",
      "\n",
      "  advertiser_name  ...  stats_currency  currency_code exchange_rate  \\\n",
      "0             Web  ...             SGD            SGD             1   \n",
      "1             Web  ...             SGD            SGD             1   \n",
      "2             Web  ...             SGD            SGD             1   \n",
      "3             Web  ...             SGD            SGD             1   \n",
      "4             Web  ...             SGD            SGD             1   \n",
      "\n",
      "   media_cost_usd search_tag_cat  cmi_currency_code        timezone  \\\n",
      "0       14.058514         Others                SGD  Asia/Singapore   \n",
      "1       99.633496         Others                SGD  Asia/Singapore   \n",
      "2      109.419677         Others                SGD  Asia/Singapore   \n",
      "3      115.209499         Others                SGD  Asia/Singapore   \n",
      "4       66.990104         Others                SGD  Asia/Singapore   \n",
      "\n",
      "   weekday_cat            keywords creative_dimension  \n",
      "0     week_end  delicate bracelets            75000.0  \n",
      "1     week_day      summer jewelry            75000.0  \n",
      "2     week_day     artisan jewelry            75000.0  \n",
      "3     week_day   layered bracelets            75000.0  \n",
      "4     week_day  minimalist jewelry            75000.0  \n",
      "\n",
      "[5 rows x 29 columns]\n"
     ]
    }
   ],
   "source": [
    "# Remove rows where 'creative_dimension' is null (NaN)\n",
    "df = df.dropna(subset=['creative_dimension'])\n",
    "\n",
    "# Check the cleaned dataframe\n",
    "print(df.head())"
   ]
  },
  {
   "cell_type": "code",
   "execution_count": 122,
   "metadata": {},
   "outputs": [
    {
     "data": {
      "text/plain": [
       "(69200, 29)"
      ]
     },
     "execution_count": 122,
     "metadata": {},
     "output_type": "execute_result"
    }
   ],
   "source": [
    "df.shape"
   ]
  },
  {
   "cell_type": "code",
   "execution_count": 123,
   "metadata": {},
   "outputs": [
    {
     "data": {
      "text/plain": [
       "<Axes: xlabel='template_id', ylabel='creative_dimension'>"
      ]
     },
     "execution_count": 123,
     "metadata": {},
     "output_type": "execute_result"
    },
    {
     "data": {
      "image/png": "[encoded data removed]",
      "text/plain": [
       "<Figure size 640x480 with 1 Axes>"
      ]
     },
     "metadata": {},
     "output_type": "display_data"
    }
   ],
   "source": [
    "sns.boxplot(x=df['template_id'], y=df['creative_dimension'])"
   ]
  },
  {
   "cell_type": "markdown",
   "metadata": {},
   "source": [
    "#### Campaign id"
   ]
  },
  {
   "cell_type": "code",
   "execution_count": 124,
   "metadata": {},
   "outputs": [
    {
     "data": {
      "text/plain": [
       "array([2733, 2766, 2802, 2850, 2851, 2879, 3223, 3054, 3132, 3150, 3149,\n",
       "       3157, 3153, 3154, 3222, 3220, 3221, 3219, 3173, 3166, 3164, 3165,\n",
       "       2934, 2949, 2950, 2952, 2977, 2980, 2982, 3033, 3034, 3035, 3038,\n",
       "       3039, 3040, 3041, 3050, 3042, 3052, 3053, 3055, 3056, 3045, 3046,\n",
       "       3047, 3048, 3049, 3051, 3057, 3058, 3098, 3099, 3100, 3101, 3102,\n",
       "       3103, 3104, 3107, 3129, 3130, 3131, 3127, 3128, 3133, 3134, 3147,\n",
       "       3148, 3151, 3152, 3155, 3156, 3158, 3159, 3160, 3161, 3162, 3163,\n",
       "       3167, 3168, 3169, 3170, 3171, 3172, 3174, 3175, 3176, 3177, 3178,\n",
       "       3179, 3180, 3181, 3182, 3183, 3184, 3185, 3186, 3187, 3188, 3189,\n",
       "       3190, 3191, 3192, 3193, 3194, 3195, 3196, 3197, 3199, 3200, 3201,\n",
       "       3202, 3204, 3208, 3207, 3209, 3210, 3211, 3212, 3213, 3214, 3215,\n",
       "       3216, 3217, 3218, 3354, 3355, 3389, 3444, 3445, 3486, 3488, 3543,\n",
       "       3545, 3546, 3547, 3557, 3558, 3559, 3719, 3959, 3960], dtype=int64)"
      ]
     },
     "execution_count": 124,
     "metadata": {},
     "output_type": "execute_result"
    }
   ],
   "source": [
    "df['campaign_item_id'].unique()"
   ]
  },
  {
   "cell_type": "markdown",
   "metadata": {},
   "source": [
    "##### Applying embedding to the campaign_id feature. if not the model might miscalculate relationship. "
   ]
  },
  {
   "cell_type": "code",
   "execution_count": 125,
   "metadata": {},
   "outputs": [
    {
     "name": "stdout",
     "output_type": "stream",
     "text": [
      "Embedding Shape: torch.Size([69200, 16])\n"
     ]
    }
   ],
   "source": [
    "import torch\n",
    "import torch.nn as nn\n",
    "\n",
    "# Map each unique campaign_item_id to an index starting from 0\n",
    "id_mapping = {id_: idx for idx, id_ in enumerate(df['campaign_item_id'].unique())}\n",
    "df['campaign_index'] = df['campaign_item_id'].map(id_mapping)\n",
    "\n",
    "# Number of unique campaigns\n",
    "num_campaigns = len(id_mapping)  # Total unique campaign IDs\n",
    "embedding_dim = 16  # Dimensionality of the embedding vectors\n",
    "\n",
    "# Create an embedding layer\n",
    "campaign_embedding = nn.Embedding(num_embeddings=num_campaigns, embedding_dim=embedding_dim)\n",
    "\n",
    "# Convert campaign_index to tensor\n",
    "campaign_indices = torch.tensor(df['campaign_index'].values, dtype=torch.long)\n",
    "\n",
    "# Get the embeddings\n",
    "embedded_campaigns = campaign_embedding(campaign_indices)\n",
    "print(\"Embedding Shape:\", embedded_campaigns.shape)  # Should match (num_samples, embedding_dim)\n"
   ]
  },
  {
   "cell_type": "code",
   "execution_count": 126,
   "metadata": {},
   "outputs": [
    {
     "name": "stdout",
     "output_type": "stream",
     "text": [
      "Campaign ID to Index Mapping:\n",
      "Campaign ID: 2733 -> Campaign Index: 0\n",
      "Campaign ID: 2766 -> Campaign Index: 1\n",
      "Campaign ID: 2802 -> Campaign Index: 2\n",
      "Campaign ID: 2850 -> Campaign Index: 3\n",
      "Campaign ID: 2851 -> Campaign Index: 4\n",
      "Campaign ID: 2879 -> Campaign Index: 5\n",
      "Campaign ID: 3223 -> Campaign Index: 6\n",
      "Campaign ID: 3054 -> Campaign Index: 7\n",
      "Campaign ID: 3132 -> Campaign Index: 8\n",
      "Campaign ID: 3150 -> Campaign Index: 9\n",
      "Campaign ID: 3149 -> Campaign Index: 10\n",
      "Campaign ID: 3157 -> Campaign Index: 11\n",
      "Campaign ID: 3153 -> Campaign Index: 12\n",
      "Campaign ID: 3154 -> Campaign Index: 13\n",
      "Campaign ID: 3222 -> Campaign Index: 14\n",
      "Campaign ID: 3220 -> Campaign Index: 15\n",
      "Campaign ID: 3221 -> Campaign Index: 16\n",
      "Campaign ID: 3219 -> Campaign Index: 17\n",
      "Campaign ID: 3173 -> Campaign Index: 18\n",
      "Campaign ID: 3166 -> Campaign Index: 19\n",
      "Campaign ID: 3164 -> Campaign Index: 20\n",
      "Campaign ID: 3165 -> Campaign Index: 21\n",
      "Campaign ID: 2934 -> Campaign Index: 22\n",
      "Campaign ID: 2949 -> Campaign Index: 23\n",
      "Campaign ID: 2950 -> Campaign Index: 24\n",
      "Campaign ID: 2952 -> Campaign Index: 25\n",
      "Campaign ID: 2977 -> Campaign Index: 26\n",
      "Campaign ID: 2980 -> Campaign Index: 27\n",
      "Campaign ID: 2982 -> Campaign Index: 28\n",
      "Campaign ID: 3033 -> Campaign Index: 29\n",
      "Campaign ID: 3034 -> Campaign Index: 30\n",
      "Campaign ID: 3035 -> Campaign Index: 31\n",
      "Campaign ID: 3038 -> Campaign Index: 32\n",
      "Campaign ID: 3039 -> Campaign Index: 33\n",
      "Campaign ID: 3040 -> Campaign Index: 34\n",
      "Campaign ID: 3041 -> Campaign Index: 35\n",
      "Campaign ID: 3050 -> Campaign Index: 36\n",
      "Campaign ID: 3042 -> Campaign Index: 37\n",
      "Campaign ID: 3052 -> Campaign Index: 38\n",
      "Campaign ID: 3053 -> Campaign Index: 39\n",
      "Campaign ID: 3055 -> Campaign Index: 40\n",
      "Campaign ID: 3056 -> Campaign Index: 41\n",
      "Campaign ID: 3045 -> Campaign Index: 42\n",
      "Campaign ID: 3046 -> Campaign Index: 43\n",
      "Campaign ID: 3047 -> Campaign Index: 44\n",
      "Campaign ID: 3048 -> Campaign Index: 45\n",
      "Campaign ID: 3049 -> Campaign Index: 46\n",
      "Campaign ID: 3051 -> Campaign Index: 47\n",
      "Campaign ID: 3057 -> Campaign Index: 48\n",
      "Campaign ID: 3058 -> Campaign Index: 49\n",
      "Campaign ID: 3098 -> Campaign Index: 50\n",
      "Campaign ID: 3099 -> Campaign Index: 51\n",
      "Campaign ID: 3100 -> Campaign Index: 52\n",
      "Campaign ID: 3101 -> Campaign Index: 53\n",
      "Campaign ID: 3102 -> Campaign Index: 54\n",
      "Campaign ID: 3103 -> Campaign Index: 55\n",
      "Campaign ID: 3104 -> Campaign Index: 56\n",
      "Campaign ID: 3107 -> Campaign Index: 57\n",
      "Campaign ID: 3129 -> Campaign Index: 58\n",
      "Campaign ID: 3130 -> Campaign Index: 59\n",
      "Campaign ID: 3131 -> Campaign Index: 60\n",
      "Campaign ID: 3127 -> Campaign Index: 61\n",
      "Campaign ID: 3128 -> Campaign Index: 62\n",
      "Campaign ID: 3133 -> Campaign Index: 63\n",
      "Campaign ID: 3134 -> Campaign Index: 64\n",
      "Campaign ID: 3147 -> Campaign Index: 65\n",
      "Campaign ID: 3148 -> Campaign Index: 66\n",
      "Campaign ID: 3151 -> Campaign Index: 67\n",
      "Campaign ID: 3152 -> Campaign Index: 68\n",
      "Campaign ID: 3155 -> Campaign Index: 69\n",
      "Campaign ID: 3156 -> Campaign Index: 70\n",
      "Campaign ID: 3158 -> Campaign Index: 71\n",
      "Campaign ID: 3159 -> Campaign Index: 72\n",
      "Campaign ID: 3160 -> Campaign Index: 73\n",
      "Campaign ID: 3161 -> Campaign Index: 74\n",
      "Campaign ID: 3162 -> Campaign Index: 75\n",
      "Campaign ID: 3163 -> Campaign Index: 76\n",
      "Campaign ID: 3167 -> Campaign Index: 77\n",
      "Campaign ID: 3168 -> Campaign Index: 78\n",
      "Campaign ID: 3169 -> Campaign Index: 79\n",
      "Campaign ID: 3170 -> Campaign Index: 80\n",
      "Campaign ID: 3171 -> Campaign Index: 81\n",
      "Campaign ID: 3172 -> Campaign Index: 82\n",
      "Campaign ID: 3174 -> Campaign Index: 83\n",
      "Campaign ID: 3175 -> Campaign Index: 84\n",
      "Campaign ID: 3176 -> Campaign Index: 85\n",
      "Campaign ID: 3177 -> Campaign Index: 86\n",
      "Campaign ID: 3178 -> Campaign Index: 87\n",
      "Campaign ID: 3179 -> Campaign Index: 88\n",
      "Campaign ID: 3180 -> Campaign Index: 89\n",
      "Campaign ID: 3181 -> Campaign Index: 90\n",
      "Campaign ID: 3182 -> Campaign Index: 91\n",
      "Campaign ID: 3183 -> Campaign Index: 92\n",
      "Campaign ID: 3184 -> Campaign Index: 93\n",
      "Campaign ID: 3185 -> Campaign Index: 94\n",
      "Campaign ID: 3186 -> Campaign Index: 95\n",
      "Campaign ID: 3187 -> Campaign Index: 96\n",
      "Campaign ID: 3188 -> Campaign Index: 97\n",
      "Campaign ID: 3189 -> Campaign Index: 98\n",
      "Campaign ID: 3190 -> Campaign Index: 99\n",
      "Campaign ID: 3191 -> Campaign Index: 100\n",
      "Campaign ID: 3192 -> Campaign Index: 101\n",
      "Campaign ID: 3193 -> Campaign Index: 102\n",
      "Campaign ID: 3194 -> Campaign Index: 103\n",
      "Campaign ID: 3195 -> Campaign Index: 104\n",
      "Campaign ID: 3196 -> Campaign Index: 105\n",
      "Campaign ID: 3197 -> Campaign Index: 106\n",
      "Campaign ID: 3199 -> Campaign Index: 107\n",
      "Campaign ID: 3200 -> Campaign Index: 108\n",
      "Campaign ID: 3201 -> Campaign Index: 109\n",
      "Campaign ID: 3202 -> Campaign Index: 110\n",
      "Campaign ID: 3204 -> Campaign Index: 111\n",
      "Campaign ID: 3208 -> Campaign Index: 112\n",
      "Campaign ID: 3207 -> Campaign Index: 113\n",
      "Campaign ID: 3209 -> Campaign Index: 114\n",
      "Campaign ID: 3210 -> Campaign Index: 115\n",
      "Campaign ID: 3211 -> Campaign Index: 116\n",
      "Campaign ID: 3212 -> Campaign Index: 117\n",
      "Campaign ID: 3213 -> Campaign Index: 118\n",
      "Campaign ID: 3214 -> Campaign Index: 119\n",
      "Campaign ID: 3215 -> Campaign Index: 120\n",
      "Campaign ID: 3216 -> Campaign Index: 121\n",
      "Campaign ID: 3217 -> Campaign Index: 122\n",
      "Campaign ID: 3218 -> Campaign Index: 123\n",
      "Campaign ID: 3354 -> Campaign Index: 124\n",
      "Campaign ID: 3355 -> Campaign Index: 125\n",
      "Campaign ID: 3389 -> Campaign Index: 126\n",
      "Campaign ID: 3444 -> Campaign Index: 127\n",
      "Campaign ID: 3445 -> Campaign Index: 128\n",
      "Campaign ID: 3486 -> Campaign Index: 129\n",
      "Campaign ID: 3488 -> Campaign Index: 130\n",
      "Campaign ID: 3543 -> Campaign Index: 131\n",
      "Campaign ID: 3545 -> Campaign Index: 132\n",
      "Campaign ID: 3546 -> Campaign Index: 133\n",
      "Campaign ID: 3547 -> Campaign Index: 134\n",
      "Campaign ID: 3557 -> Campaign Index: 135\n",
      "Campaign ID: 3558 -> Campaign Index: 136\n",
      "Campaign ID: 3559 -> Campaign Index: 137\n",
      "Campaign ID: 3719 -> Campaign Index: 138\n",
      "Campaign ID: 3959 -> Campaign Index: 139\n",
      "Campaign ID: 3960 -> Campaign Index: 140\n"
     ]
    }
   ],
   "source": [
    "# Print the mapping dictionary\n",
    "print(\"Campaign ID to Index Mapping:\")\n",
    "for campaign_id, campaign_index in id_mapping.items():\n",
    "    print(f\"Campaign ID: {campaign_id} -> Campaign Index: {campaign_index}\")\n"
   ]
  },
  {
   "cell_type": "markdown",
   "metadata": {},
   "source": [
    "#### Number of days"
   ]
  },
  {
   "cell_type": "code",
   "execution_count": 127,
   "metadata": {},
   "outputs": [
    {
     "name": "stdout",
     "output_type": "stream",
     "text": [
      "Minimum days: 0\n",
      "Maximum days: 118\n"
     ]
    }
   ],
   "source": [
    "days = df['no_of_days']\n",
    "\n",
    "# Calculate the minimum and maximum values\n",
    "min_days = days.min()\n",
    "max_days = days.max()\n",
    "\n",
    "print(f\"Minimum days: {min_days}\")\n",
    "print(f\"Maximum days: {max_days}\")"
   ]
  },
  {
   "cell_type": "markdown",
   "metadata": {},
   "source": [
    "##### Normalizing this will be a good option for GNN"
   ]
  },
  {
   "cell_type": "code",
   "execution_count": 128,
   "metadata": {},
   "outputs": [
    {
     "name": "stdout",
     "output_type": "stream",
     "text": [
      "   no_of_days\n",
      "0    0.059322\n",
      "1    0.067797\n",
      "2    0.076271\n",
      "3    0.084746\n",
      "4    0.093220\n"
     ]
    }
   ],
   "source": [
    "from sklearn.preprocessing import MinMaxScaler\n",
    "\n",
    "# Initialize the scaler\n",
    "scaler = MinMaxScaler()\n",
    "\n",
    "# Normalize the 'impressions' column\n",
    "df['no_of_days'] = scaler.fit_transform(df[['no_of_days']])\n",
    "\n",
    "# Check the result\n",
    "print(df[['no_of_days']].head())"
   ]
  },
  {
   "cell_type": "markdown",
   "metadata": {},
   "source": [
    "#### Time and Week_cat\n"
   ]
  },
  {
   "cell_type": "code",
   "execution_count": 129,
   "metadata": {},
   "outputs": [
    {
     "name": "stdout",
     "output_type": "stream",
     "text": [
      "         time\n",
      "0  2022-05-01\n",
      "1  2022-05-02\n",
      "2  2022-05-03\n",
      "3  2022-05-04\n",
      "4  2022-05-05\n"
     ]
    }
   ],
   "source": [
    "print(df[['time']].head())"
   ]
  },
  {
   "cell_type": "markdown",
   "metadata": {},
   "source": [
    "##### Extract date components from time"
   ]
  },
  {
   "cell_type": "code",
   "execution_count": 130,
   "metadata": {},
   "outputs": [
    {
     "name": "stdout",
     "output_type": "stream",
     "text": [
      "        time  day_of_week  month  day_of_year\n",
      "0 2022-05-01            6      5          121\n",
      "1 2022-05-02            0      5          122\n",
      "2 2022-05-03            1      5          123\n",
      "3 2022-05-04            2      5          124\n",
      "4 2022-05-05            3      5          125\n"
     ]
    }
   ],
   "source": [
    "# Convert the 'time' column to datetime format if it's not already\n",
    "df['time'] = pd.to_datetime(df['time'])\n",
    "\n",
    "# Extract day of the week (0=Monday, 6=Sunday)\n",
    "df['day_of_week'] = df['time'].dt.dayofweek\n",
    "\n",
    "# Extract month (1=January, 12=December)\n",
    "df['month'] = df['time'].dt.month\n",
    "\n",
    "# Extract day of the year (1-365/366)\n",
    "df['day_of_year'] = df['time'].dt.dayofyear\n",
    "\n",
    "# Display the new date-related columns\n",
    "print(df[['time', 'day_of_week', 'month', 'day_of_year']].head())\n"
   ]
  },
  {
   "cell_type": "markdown",
   "metadata": {},
   "source": [
    "##### Applying cyclic feature for better relationship"
   ]
  },
  {
   "cell_type": "code",
   "execution_count": 131,
   "metadata": {},
   "outputs": [
    {
     "name": "stdout",
     "output_type": "stream",
     "text": [
      "        time  day_of_week_sin  day_of_week_cos  month_sin  month_cos\n",
      "0 2022-05-01        -0.781831         0.623490        0.5  -0.866025\n",
      "1 2022-05-02         0.000000         1.000000        0.5  -0.866025\n",
      "2 2022-05-03         0.781831         0.623490        0.5  -0.866025\n",
      "3 2022-05-04         0.974928        -0.222521        0.5  -0.866025\n",
      "4 2022-05-05         0.433884        -0.900969        0.5  -0.866025\n"
     ]
    }
   ],
   "source": [
    "import numpy as np\n",
    "\n",
    "# Apply sine and cosine transformations to cyclic features\n",
    "df['day_of_week_sin'] = np.sin(2 * np.pi * df['day_of_week'] / 7)\n",
    "df['day_of_week_cos'] = np.cos(2 * np.pi * df['day_of_week'] / 7)\n",
    "\n",
    "df['month_sin'] = np.sin(2 * np.pi * df['month'] / 12)\n",
    "df['month_cos'] = np.cos(2 * np.pi * df['month'] / 12)\n",
    "\n",
    "# Display the encoded columns\n",
    "print(df[['time', 'day_of_week_sin', 'day_of_week_cos', 'month_sin', 'month_cos']].head())\n",
    "\n"
   ]
  },
  {
   "cell_type": "markdown",
   "metadata": {},
   "source": [
    "##### oneHot encoding the week_cat"
   ]
  },
  {
   "cell_type": "code",
   "execution_count": 132,
   "metadata": {},
   "outputs": [],
   "source": [
    "# # Apply one-hot encoding to only 'weekday_cat' in the original DataFrame\n",
    "# df = pd.get_dummies(df, columns=['weekday_cat'], drop_first=False)\n",
    "\n",
    "# # Inspect the new columns created by get_dummies to confirm column names\n",
    "# print(df.columns)\n",
    "\n",
    "# # Now, we'll use the exact column names created by get_dummies\n",
    "# df['weekend'] = df['weekday_cat_weekend'].astype(int)\n",
    "# df['weekday'] = df['weekday_cat_weekday'].astype(int)\n",
    "\n",
    "# # Drop the original columns created by get_dummies\n",
    "# df = df.drop(columns=['weekday_cat_weekend', 'weekday_cat_weekday'])\n",
    "\n",
    "# # Print the resulting DataFrame\n",
    "# print(df)"
   ]
  },
  {
   "cell_type": "markdown",
   "metadata": {},
   "source": [
    "#### Plateform of the advertisement"
   ]
  },
  {
   "cell_type": "code",
   "execution_count": 133,
   "metadata": {},
   "outputs": [
    {
     "data": {
      "text/plain": [
       "array(['Facebook Ads', 'DV360', 'Google Ads'], dtype=object)"
      ]
     },
     "execution_count": 133,
     "metadata": {},
     "output_type": "execute_result"
    }
   ],
   "source": [
    "df['ext_service_id'].unique()\n",
    "df['ext_service_name'].unique()"
   ]
  },
  {
   "cell_type": "markdown",
   "metadata": {},
   "source": [
    "##### Checking whether both are inter connected"
   ]
  },
  {
   "cell_type": "code",
   "execution_count": 134,
   "metadata": {},
   "outputs": [
    {
     "name": "stdout",
     "output_type": "stream",
     "text": [
      "   ext_service_id ext_service_name\n",
      "0             128     Facebook Ads\n",
      "1              16            DV360\n",
      "4               4       Google Ads\n"
     ]
    }
   ],
   "source": [
    "# Create a combined feature by concatenating 'ext_service_id' and 'ext_service_name'\n",
    "combined_feature = df[['ext_service_id', 'ext_service_name']]\n",
    "\n",
    "# Display the unique combinations of the two features\n",
    "unique_combinations = combined_feature.drop_duplicates()\n",
    "print(unique_combinations)"
   ]
  },
  {
   "cell_type": "markdown",
   "metadata": {},
   "source": [
    "#####  We can see theres a connection between id and name. Considering dimnesionality lable encoding is applied"
   ]
  },
  {
   "cell_type": "code",
   "execution_count": 135,
   "metadata": {},
   "outputs": [
    {
     "name": "stdout",
     "output_type": "stream",
     "text": [
      "  ext_service_combined  ext_service_combined_label\n",
      "0     128_Facebook Ads                           0\n",
      "1             16_DV360                           1\n",
      "2     128_Facebook Ads                           0\n",
      "3     128_Facebook Ads                           0\n",
      "4         4_Google Ads                           2\n"
     ]
    }
   ],
   "source": [
    "from sklearn.preprocessing import LabelEncoder\n",
    "\n",
    "# Combine 'ext_service_id' and 'ext_service_name' into a single feature\n",
    "df['ext_service_combined'] = df['ext_service_id'].astype(str) + \"_\" + df['ext_service_name']\n",
    "\n",
    "# Initialize the LabelEncoder\n",
    "label_encoder = LabelEncoder()\n",
    "\n",
    "# Apply label encoding to the combined feature\n",
    "df['ext_service_combined_label'] = label_encoder.fit_transform(df['ext_service_combined'])\n",
    "\n",
    "# Display the first few rows of the updated DataFrame\n",
    "print(df[['ext_service_combined', 'ext_service_combined_label']].head())\n"
   ]
  },
  {
   "cell_type": "code",
   "execution_count": 136,
   "metadata": {},
   "outputs": [
    {
     "data": {
      "text/plain": [
       "(69200, 39)"
      ]
     },
     "execution_count": 136,
     "metadata": {},
     "output_type": "execute_result"
    }
   ],
   "source": [
    "df.shape"
   ]
  },
  {
   "cell_type": "code",
   "execution_count": 137,
   "metadata": {},
   "outputs": [
    {
     "data": {
      "image/png": "[encoded data removed]",
      "text/plain": [
       "<Figure size 1000x600 with 1 Axes>"
      ]
     },
     "metadata": {},
     "output_type": "display_data"
    }
   ],
   "source": [
    "import matplotlib.pyplot as plt\n",
    "\n",
    "plt.figure(figsize=(10, 6))\n",
    "plt.scatter(df['campaign_item_id'], df['clicks'], alpha=0.5)\n",
    "plt.title('Scatter Plot of Campaign ID vs. Clicks')\n",
    "plt.xlabel('Campaign ID')\n",
    "plt.ylabel('Clicks')\n",
    "plt.show()"
   ]
  },
  {
   "cell_type": "code",
   "execution_count": 138,
   "metadata": {},
   "outputs": [
    {
     "name": "stdout",
     "output_type": "stream",
     "text": [
      "0         837\n",
      "1        2634\n",
      "2        2135\n",
      "3        2327\n",
      "4        1538\n",
      "         ... \n",
      "69195    1274\n",
      "69196    1210\n",
      "69197    1153\n",
      "69198    1156\n",
      "69199     590\n",
      "Name: impressions, Length: 69200, dtype: int64\n"
     ]
    }
   ],
   "source": [
    "print(df['impressions'])"
   ]
  },
  {
   "cell_type": "code",
   "execution_count": 139,
   "metadata": {},
   "outputs": [
    {
     "name": "stdout",
     "output_type": "stream",
     "text": [
      "Minimum Impressions: 511\n",
      "Maximum Impressions: 153959\n"
     ]
    }
   ],
   "source": [
    "impressions = df['impressions']\n",
    "\n",
    "# Calculate the minimum and maximum values\n",
    "min_impressions = impressions.min()\n",
    "max_impressions = impressions.max()\n",
    "\n",
    "print(f\"Minimum Impressions: {min_impressions}\")\n",
    "print(f\"Maximum Impressions: {max_impressions}\")"
   ]
  },
  {
   "cell_type": "markdown",
   "metadata": {},
   "source": [
    "##### Since we have larger different in the min max value. its better to normalize"
   ]
  },
  {
   "cell_type": "code",
   "execution_count": 140,
   "metadata": {},
   "outputs": [
    {
     "name": "stdout",
     "output_type": "stream",
     "text": [
      "   impressions  normalized_impressions\n",
      "0          837                0.002124\n",
      "1         2634                0.013835\n",
      "2         2135                0.010583\n",
      "3         2327                0.011835\n",
      "4         1538                0.006693\n"
     ]
    }
   ],
   "source": [
    "from sklearn.preprocessing import MinMaxScaler\n",
    "\n",
    "# Initialize the scaler\n",
    "scaler = MinMaxScaler()\n",
    "\n",
    "# Normalize the 'impressions' column\n",
    "df['normalized_impressions'] = scaler.fit_transform(df[['impressions']])\n",
    "\n",
    "# Check the result\n",
    "print(df[['impressions', 'normalized_impressions']].head())"
   ]
  },
  {
   "cell_type": "code",
   "execution_count": 141,
   "metadata": {},
   "outputs": [],
   "source": [
    "df = df.drop(columns=['impressions'])"
   ]
  },
  {
   "cell_type": "markdown",
   "metadata": {},
   "source": [
    "#### Search tags"
   ]
  },
  {
   "cell_type": "code",
   "execution_count": 142,
   "metadata": {},
   "outputs": [
    {
     "data": {
      "text/plain": [
       "array(['#The Power of X', '#Be Bold. Be X',\n",
       "       '#Embrace Your Individuality with X',\n",
       "       '#The Ultimate Fashion Statement with X',\n",
       "       '#The X Factor - Fashion for the Fearless', '#Timeless X Style'],\n",
       "      dtype=object)"
      ]
     },
     "execution_count": 142,
     "metadata": {},
     "output_type": "execute_result"
    }
   ],
   "source": [
    "df['search_tags'].unique()"
   ]
  },
  {
   "cell_type": "markdown",
   "metadata": {},
   "source": [
    "#### Perform text embedding for search tags which is most suitable for GNN. then Applying PCA to reduce the dimensionality"
   ]
  },
  {
   "cell_type": "code",
   "execution_count": 143,
   "metadata": {},
   "outputs": [],
   "source": [
    "# from sentence_transformers import SentenceTransformer\n",
    "# import pandas as pd\n",
    "# import numpy as np\n",
    "# from sklearn.decomposition import PCA\n",
    "# from sklearn.preprocessing import StandardScaler\n",
    "\n",
    "# model = SentenceTransformer('all-MiniLM-L6-v2')  # You can choose other models if desired\n",
    "\n",
    "# # Step 3: Generate embeddings for the 'search_tags' column\n",
    "# df['search_tag_embedding'] = df['search_tags'].apply(lambda x: model.encode(x))\n",
    "\n",
    "# # Step 4: Convert embeddings into a separate dataframe (for better inspection and use)\n",
    "# embeddings_df = pd.DataFrame(df['search_tag_embedding'].tolist(), index=df.index)\n",
    "\n",
    "# # Standardize the embeddings\n",
    "# scaler = StandardScaler()\n",
    "# embeddings_scaled = scaler.fit_transform(embeddings_df)\n",
    "\n",
    "# # Apply PCA to reduce dimensionality\n",
    "# pca = PCA(n_components=0.95)  # Retain 95% of variance\n",
    "# embeddings_pca = pca.fit_transform(embeddings_scaled)\n",
    "\n",
    "# # Check the explained variance ratio to confirm the retained variance\n",
    "# print(f\"Explained Variance Ratio: {sum(pca.explained_variance_ratio_):.2f}\")\n",
    "\n",
    "# # Create a new dataframe with the reduced dimensions\n",
    "# embeddings_pca_df = pd.DataFrame(embeddings_pca, columns=[f'PC{i+1}' for i in range(embeddings_pca.shape[1])])\n",
    "\n",
    "# # Optionally, combine the reduced embeddings with the original dataframe\n",
    "# df = pd.concat([df.reset_index(drop=True), embeddings_pca_df], axis=1)\n",
    "\n",
    "# # Drop the original high-dimensional embeddings (optional)\n",
    "# df = df.drop(columns=[col for col in df.columns if 'search_tag_embedding' in col], errors='ignore')\n",
    "\n",
    "# print(df.head())"
   ]
  },
  {
   "cell_type": "code",
   "execution_count": 144,
   "metadata": {},
   "outputs": [
    {
     "data": {
      "text/plain": [
       "array(['Others', 'Youtube', 'Inmarket', 'Retargeting', 'Affinity'],\n",
       "      dtype=object)"
      ]
     },
     "execution_count": 144,
     "metadata": {},
     "output_type": "execute_result"
    }
   ],
   "source": [
    "df['search_tag_cat'].unique()"
   ]
  },
  {
   "cell_type": "markdown",
   "metadata": {},
   "source": [
    "##### Applying One-hot-encoding since theres no proper relationship"
   ]
  },
  {
   "cell_type": "code",
   "execution_count": 145,
   "metadata": {},
   "outputs": [
    {
     "data": {
      "text/html": [
       "<div>\n",
       "<style scoped>\n",
       "    .dataframe tbody tr th:only-of-type {\n",
       "        vertical-align: middle;\n",
       "    }\n",
       "\n",
       "    .dataframe tbody tr th {\n",
       "        vertical-align: top;\n",
       "    }\n",
       "\n",
       "    .dataframe thead th {\n",
       "        text-align: right;\n",
       "    }\n",
       "</style>\n",
       "<table border=\"1\" class=\"dataframe\">\n",
       "  <thead>\n",
       "    <tr style=\"text-align: right;\">\n",
       "      <th></th>\n",
       "      <th>campaign_item_id</th>\n",
       "      <th>no_of_days</th>\n",
       "      <th>time</th>\n",
       "      <th>ext_service_id</th>\n",
       "      <th>ext_service_name</th>\n",
       "      <th>search_tags</th>\n",
       "      <th>template_id</th>\n",
       "      <th>landing_page</th>\n",
       "      <th>advertiser_id</th>\n",
       "      <th>advertiser_name</th>\n",
       "      <th>...</th>\n",
       "      <th>month_sin</th>\n",
       "      <th>month_cos</th>\n",
       "      <th>ext_service_combined</th>\n",
       "      <th>ext_service_combined_label</th>\n",
       "      <th>normalized_impressions</th>\n",
       "      <th>search_cat_Affinity</th>\n",
       "      <th>search_cat_Inmarket</th>\n",
       "      <th>search_cat_Others</th>\n",
       "      <th>search_cat_Retargeting</th>\n",
       "      <th>search_cat_Youtube</th>\n",
       "    </tr>\n",
       "  </thead>\n",
       "  <tbody>\n",
       "    <tr>\n",
       "      <th>0</th>\n",
       "      <td>2733</td>\n",
       "      <td>0.059322</td>\n",
       "      <td>2022-05-01</td>\n",
       "      <td>128</td>\n",
       "      <td>Facebook Ads</td>\n",
       "      <td>#The Power of X</td>\n",
       "      <td>90.0</td>\n",
       "      <td>https://www.abcjewelry.com/collections/boho-je...</td>\n",
       "      <td>4756</td>\n",
       "      <td>Web</td>\n",
       "      <td>...</td>\n",
       "      <td>0.5</td>\n",
       "      <td>-0.866025</td>\n",
       "      <td>128_Facebook Ads</td>\n",
       "      <td>0</td>\n",
       "      <td>0.002124</td>\n",
       "      <td>0</td>\n",
       "      <td>0</td>\n",
       "      <td>1</td>\n",
       "      <td>0</td>\n",
       "      <td>0</td>\n",
       "    </tr>\n",
       "    <tr>\n",
       "      <th>1</th>\n",
       "      <td>2733</td>\n",
       "      <td>0.067797</td>\n",
       "      <td>2022-05-02</td>\n",
       "      <td>16</td>\n",
       "      <td>DV360</td>\n",
       "      <td>#Be Bold. Be X</td>\n",
       "      <td>90.0</td>\n",
       "      <td>https://www.abcjewelry.com/women/costume-jewelry/</td>\n",
       "      <td>4756</td>\n",
       "      <td>Web</td>\n",
       "      <td>...</td>\n",
       "      <td>0.5</td>\n",
       "      <td>-0.866025</td>\n",
       "      <td>16_DV360</td>\n",
       "      <td>1</td>\n",
       "      <td>0.013835</td>\n",
       "      <td>0</td>\n",
       "      <td>0</td>\n",
       "      <td>1</td>\n",
       "      <td>0</td>\n",
       "      <td>0</td>\n",
       "    </tr>\n",
       "    <tr>\n",
       "      <th>2</th>\n",
       "      <td>2733</td>\n",
       "      <td>0.076271</td>\n",
       "      <td>2022-05-03</td>\n",
       "      <td>128</td>\n",
       "      <td>Facebook Ads</td>\n",
       "      <td>#Embrace Your Individuality with X</td>\n",
       "      <td>90.0</td>\n",
       "      <td>https://www.abcjewelry.com/collections/boho-je...</td>\n",
       "      <td>4756</td>\n",
       "      <td>Web</td>\n",
       "      <td>...</td>\n",
       "      <td>0.5</td>\n",
       "      <td>-0.866025</td>\n",
       "      <td>128_Facebook Ads</td>\n",
       "      <td>0</td>\n",
       "      <td>0.010583</td>\n",
       "      <td>0</td>\n",
       "      <td>0</td>\n",
       "      <td>1</td>\n",
       "      <td>0</td>\n",
       "      <td>0</td>\n",
       "    </tr>\n",
       "    <tr>\n",
       "      <th>3</th>\n",
       "      <td>2733</td>\n",
       "      <td>0.084746</td>\n",
       "      <td>2022-05-04</td>\n",
       "      <td>128</td>\n",
       "      <td>Facebook Ads</td>\n",
       "      <td>#Be Bold. Be X</td>\n",
       "      <td>90.0</td>\n",
       "      <td>https://www.abcjewelry.com/collections/rhinest...</td>\n",
       "      <td>4756</td>\n",
       "      <td>Web</td>\n",
       "      <td>...</td>\n",
       "      <td>0.5</td>\n",
       "      <td>-0.866025</td>\n",
       "      <td>128_Facebook Ads</td>\n",
       "      <td>0</td>\n",
       "      <td>0.011835</td>\n",
       "      <td>0</td>\n",
       "      <td>0</td>\n",
       "      <td>1</td>\n",
       "      <td>0</td>\n",
       "      <td>0</td>\n",
       "    </tr>\n",
       "    <tr>\n",
       "      <th>4</th>\n",
       "      <td>2733</td>\n",
       "      <td>0.093220</td>\n",
       "      <td>2022-05-05</td>\n",
       "      <td>4</td>\n",
       "      <td>Google Ads</td>\n",
       "      <td>#Be Bold. Be X</td>\n",
       "      <td>90.0</td>\n",
       "      <td>https://www.abcjewelry.com/collections/boho-je...</td>\n",
       "      <td>4756</td>\n",
       "      <td>Web</td>\n",
       "      <td>...</td>\n",
       "      <td>0.5</td>\n",
       "      <td>-0.866025</td>\n",
       "      <td>4_Google Ads</td>\n",
       "      <td>2</td>\n",
       "      <td>0.006693</td>\n",
       "      <td>0</td>\n",
       "      <td>0</td>\n",
       "      <td>1</td>\n",
       "      <td>0</td>\n",
       "      <td>0</td>\n",
       "    </tr>\n",
       "  </tbody>\n",
       "</table>\n",
       "<p>5 rows × 43 columns</p>\n",
       "</div>"
      ],
      "text/plain": [
       "   campaign_item_id  no_of_days       time  ext_service_id ext_service_name  \\\n",
       "0              2733    0.059322 2022-05-01             128     Facebook Ads   \n",
       "1              2733    0.067797 2022-05-02              16            DV360   \n",
       "2              2733    0.076271 2022-05-03             128     Facebook Ads   \n",
       "3              2733    0.084746 2022-05-04             128     Facebook Ads   \n",
       "4              2733    0.093220 2022-05-05               4       Google Ads   \n",
       "\n",
       "                          search_tags  template_id  \\\n",
       "0                     #The Power of X         90.0   \n",
       "1                      #Be Bold. Be X         90.0   \n",
       "2  #Embrace Your Individuality with X         90.0   \n",
       "3                      #Be Bold. Be X         90.0   \n",
       "4                      #Be Bold. Be X         90.0   \n",
       "\n",
       "                                        landing_page  advertiser_id  \\\n",
       "0  https://www.abcjewelry.com/collections/boho-je...           4756   \n",
       "1  https://www.abcjewelry.com/women/costume-jewelry/           4756   \n",
       "2  https://www.abcjewelry.com/collections/boho-je...           4756   \n",
       "3  https://www.abcjewelry.com/collections/rhinest...           4756   \n",
       "4  https://www.abcjewelry.com/collections/boho-je...           4756   \n",
       "\n",
       "  advertiser_name  ...  month_sin  month_cos ext_service_combined  \\\n",
       "0             Web  ...        0.5  -0.866025     128_Facebook Ads   \n",
       "1             Web  ...        0.5  -0.866025             16_DV360   \n",
       "2             Web  ...        0.5  -0.866025     128_Facebook Ads   \n",
       "3             Web  ...        0.5  -0.866025     128_Facebook Ads   \n",
       "4             Web  ...        0.5  -0.866025         4_Google Ads   \n",
       "\n",
       "   ext_service_combined_label normalized_impressions  search_cat_Affinity  \\\n",
       "0                           0               0.002124                    0   \n",
       "1                           1               0.013835                    0   \n",
       "2                           0               0.010583                    0   \n",
       "3                           0               0.011835                    0   \n",
       "4                           2               0.006693                    0   \n",
       "\n",
       "   search_cat_Inmarket  search_cat_Others search_cat_Retargeting  \\\n",
       "0                    0                  1                      0   \n",
       "1                    0                  1                      0   \n",
       "2                    0                  1                      0   \n",
       "3                    0                  1                      0   \n",
       "4                    0                  1                      0   \n",
       "\n",
       "  search_cat_Youtube  \n",
       "0                  0  \n",
       "1                  0  \n",
       "2                  0  \n",
       "3                  0  \n",
       "4                  0  \n",
       "\n",
       "[5 rows x 43 columns]"
      ]
     },
     "execution_count": 145,
     "metadata": {},
     "output_type": "execute_result"
    }
   ],
   "source": [
    "# Apply One-Hot Encoding to the 'job' column\n",
    "df_encoded = pd.get_dummies(df['search_tag_cat'], prefix='search_cat')\n",
    "\n",
    "# Convert True/False to 1/0\n",
    "df_encoded = df_encoded.astype(int)\n",
    "\n",
    "# Optionally, concatenate the encoded columns with the original dataframe\n",
    "df = pd.concat([df, df_encoded], axis=1)\n",
    "\n",
    "# Drop the original 'job' column\n",
    "df.drop('search_tag_cat', axis=1, inplace=True)\n",
    "\n",
    "df.head()"
   ]
  },
  {
   "cell_type": "markdown",
   "metadata": {},
   "source": [
    "#### Landing page"
   ]
  },
  {
   "cell_type": "code",
   "execution_count": 146,
   "metadata": {},
   "outputs": [
    {
     "data": {
      "text/plain": [
       "array(['https://www.abcjewelry.com/collections/boho-jewelry-for-women',\n",
       "       'https://www.abcjewelry.com/women/costume-jewelry/',\n",
       "       'https://www.abcjewelry.com/collections/rhinestone-jewelry-for-women',\n",
       "       'https://www.abcjewelry.com/collections',\n",
       "       'https://www.abcjewelry.com/collections/gemstone-jewelry-for-women',\n",
       "       'https://www.abcjewelry.com/collections/statement-necklaces-for-women',\n",
       "       'https://www.abcjewelry.com/collections/bold-jewelry-for-women',\n",
       "       'https://www.abcjewelry.com/collections/hoop-earrings-for-women',\n",
       "       'https://www.abcjewelry.com/collections/layered-jewelry-for-women',\n",
       "       'https://www.abcjewelry.com/collections/cuff-bracelets-for-women',\n",
       "       'https://www.abcjewelry.com/collections/pendant-necklaces-for-women',\n",
       "       'https://www.abcjewelry.com/collections/pearl-jewelry-for-women',\n",
       "       'https://www.abcjewelry.com/women/boho-jewelry/',\n",
       "       'https://www.abcjewelry.com/collections/beaded-jewelry-for-women',\n",
       "       'https://www.abcjewelry.com/women/fashion-jewelry',\n",
       "       'https://www.abcjewelry.com/women/handmade-jewelry/',\n",
       "       'https://www.abcjewelry.com/collections/beaded-bracelets-for-women',\n",
       "       'https://www.abcjewelry.com/collections/choker-necklaces-for-women',\n",
       "       'https://www.abcjewelry.com/women/designer-inspired-jewelry/',\n",
       "       'https://www.abcjewelry.com/women/vintage-inspired-jewelry/',\n",
       "       'https://www.abcjewelry.com/women/bold-jewelry/',\n",
       "       'https://www.abcjewelry.com/collections/layered-necklaces-for-women',\n",
       "       'https://www.abcjewelry.com/collections/crystal-jewelry-for-women',\n",
       "       'https://www.abcjewelry.com/women/fashion-jewelry/',\n",
       "       'https://www.abcjewelry.com/collections/delicate-bracelets-for-women',\n",
       "       'https://www.abcjewelry.com/collections/handmade-jewelry-for-women',\n",
       "       'https://www.abcjewelry.com/collections/unique-jewelry-for-women',\n",
       "       'https://www.abcjewelry.com/women/affordable-jewelry/',\n",
       "       'https://www.abcjewelry.com/women/statement-jewelry/',\n",
       "       'https://www.abcjewelry.com/collections/mixed-metal-jewelry-for-women',\n",
       "       'https://www.abcjewelry.com/collections/tassel-earrings-for-women',\n",
       "       'https://www.abcjewelry.com/collections/long-necklaces-for-women',\n",
       "       'https://www.abcjewelry.com/collections/affordable-jewelry-for-women',\n",
       "       'https://www.abcjewelry.com/collections/multi-strand-necklaces-for-women',\n",
       "       'https://www.abcjewelry.com/collections/chunky-jewelry-for-women',\n",
       "       'https://www.abcjewelry.com/collections/minimalist-jewelry-for-women',\n",
       "       'https://www.abcjewelry.com/collections/vintage-inspired-jewelry-for-women',\n",
       "       'https://www.abcjewelry.com/collections/dainty-jewelry-for-women',\n",
       "       'https://www.abcjewelry.com/women/unique-jewelry/',\n",
       "       'https://www.abcjewelry.com/collections/designer-inspired-jewelry-for-women',\n",
       "       'https://www.abcjewelry.com/collections/trendy-jewelry-for-women',\n",
       "       'https://www.abcjewelry.com/women/minimalist-jewelry/',\n",
       "       'https://www.abcjewelry.com/women/trendy-jewelry/',\n",
       "       'https://www.abcjewelry.com/collections/costume-jewelry-for-women',\n",
       "       'https://www.abcjewelry.com/collections/statement-jewelry-for-women'],\n",
       "      dtype=object)"
      ]
     },
     "execution_count": 146,
     "metadata": {},
     "output_type": "execute_result"
    }
   ],
   "source": [
    "df['landing_page'].unique()"
   ]
  },
  {
   "cell_type": "code",
   "execution_count": 147,
   "metadata": {},
   "outputs": [],
   "source": [
    "# from sentence_transformers import SentenceTransformer\n",
    "# import pandas as pd\n",
    "# from sklearn.decomposition import PCA\n",
    "# from sklearn.preprocessing import StandardScaler\n",
    "\n",
    "# # Initialize the pre-trained model (You can choose other models based on your needs)\n",
    "# model = SentenceTransformer('all-MiniLM-L6-v2')  # This model is fast and performs well for general tasks\n",
    "\n",
    "# # Generate embeddings in batches\n",
    "# embeddings = model.encode(df['landing_page'].tolist(), batch_size=32, show_progress_bar=True)\n",
    "# df['landing_page_embedding'] = list(embeddings)\n",
    "\n",
    "# # Convert the embeddings into a DataFrame (each embedding is a vector)\n",
    "# embeddings_df = pd.DataFrame(df['landing_page_embedding'].tolist(), index=df.index)\n",
    "\n",
    "# # Optionally, standardize the embeddings before applying PCA\n",
    "# scaler = StandardScaler()\n",
    "# embeddings_scaled = scaler.fit_transform(embeddings_df)\n",
    "\n",
    "# # Apply PCA to reduce dimensionality (retain 95% of variance, for example)\n",
    "# pca = PCA(n_components=0.95)  # You can adjust the variance ratio if needed\n",
    "# embeddings_pca = pca.fit_transform(embeddings_scaled)\n",
    "\n",
    "# # Create a new DataFrame with the reduced dimensionality\n",
    "# embeddings_pca_df = pd.DataFrame(embeddings_pca, columns=[f'PC{i+1}' for i in range(embeddings_pca.shape[1])])\n",
    "\n",
    "# # Optionally, combine the reduced embeddings with the original dataframe\n",
    "# df = pd.concat([df, embeddings_pca_df], axis=1)\n",
    "\n",
    "# # Drop the original 'landing_page' column if it's no longer needed\n",
    "# # df = df.drop(columns=['landing_page'])\n",
    "\n",
    "# # Display the updated dataframe with embeddings\n",
    "# print(df.head())\n"
   ]
  },
  {
   "cell_type": "markdown",
   "metadata": {},
   "source": [
    "#### Check whether advertiser id and advertiser names are inter connected"
   ]
  },
  {
   "cell_type": "code",
   "execution_count": 148,
   "metadata": {},
   "outputs": [
    {
     "name": "stdout",
     "output_type": "stream",
     "text": [
      "       advertiser_id advertiser_name\n",
      "0               4756             Web\n",
      "5               5191           Brand\n",
      "3586            5209           Brand\n",
      "7126            5395           Luxor\n",
      "7430            5227      Almaza Bay\n",
      "7601            5611             USA\n",
      "7646            5785             USA\n",
      "7816            5641       Karnataka\n",
      "7830            5686     Maharashtra\n",
      "7843            6382            Oman\n",
      "13636           6391             UAE\n",
      "15286           5857           Cairo\n",
      "15672           5914       Al Ahmadi\n",
      "15782           5908     Addis Ababa\n",
      "15910           5917        Vadodara\n",
      "16103           5938         Chennai\n",
      "16105           6112      Coimbatore\n",
      "16198           5755           Malad\n",
      "16262           6019          Indore\n",
      "16483           6340            Pali\n",
      "16487           6292  Andhra Pradesh\n",
      "17185           6337    Kuala Lumpur\n",
      "18003           6298         Gujarat\n",
      "18602           6325        Chandpur\n",
      "18647           6316     West Bengal\n",
      "19424           6331      Tamil Nadu\n",
      "19569           6328  Madhya Pradesh\n",
      "19613           6319          Orissa\n",
      "19694           6370           North\n",
      "20311           6334        Thailand\n",
      "22641           6376       Singapore\n",
      "22729           6388           Sohar\n",
      "28459           6394             KSA\n",
      "42456           6385           Qatar\n",
      "49754           6379          Muscat\n",
      "49808           6397          Kuwait\n",
      "55776           6412         Bahrain\n",
      "57720           6400        Malaysia\n",
      "68360           6409          Jeddah\n",
      "68802           6010      Chattogram\n",
      "69130           6373       Pan India\n",
      "69136           6490      Chattogram\n"
     ]
    }
   ],
   "source": [
    "# Create a combined feature by concatenating 'advertiser_id' and 'advertiser_name '\n",
    "combined_feature = df[['advertiser_id', 'advertiser_name']]\n",
    "\n",
    "# Display the unique combinations of the two features\n",
    "unique_combinations = combined_feature.drop_duplicates()\n",
    "print(unique_combinations)"
   ]
  },
  {
   "cell_type": "code",
   "execution_count": 149,
   "metadata": {},
   "outputs": [
    {
     "name": "stdout",
     "output_type": "stream",
     "text": [
      "Multiple names for the same 'advertiser_id':\n",
      "Series([], Name: advertiser_name, dtype: int64)\n",
      "\n",
      "Multiple IDs for the same 'advertiser_name':\n",
      "advertiser_name\n",
      "Brand         2\n",
      "Chattogram    2\n",
      "USA           2\n",
      "Name: advertiser_id, dtype: int64\n"
     ]
    }
   ],
   "source": [
    "# Create a combined feature by concatenating 'advertiser_id' and 'advertiser_name'\n",
    "combined_feature = df[['advertiser_id', 'advertiser_name']]\n",
    "\n",
    "# 1. Check if there are multiple names for the same 'advertiser_id'\n",
    "multiple_names_for_id = combined_feature.groupby('advertiser_id')['advertiser_name'].nunique()\n",
    "multiple_names_for_id = multiple_names_for_id[multiple_names_for_id > 1]  # Filter for IDs with more than 1 name\n",
    "print(\"Multiple names for the same 'advertiser_id':\")\n",
    "print(multiple_names_for_id)\n",
    "\n",
    "# 2. Check if there are multiple IDs for the same 'advertiser_name'\n",
    "multiple_ids_for_name = combined_feature.groupby('advertiser_name')['advertiser_id'].nunique()\n",
    "multiple_ids_for_name = multiple_ids_for_name[multiple_ids_for_name > 1]  # Filter for names with more than 1 ID\n",
    "print(\"\\nMultiple IDs for the same 'advertiser_name':\")\n",
    "print(multiple_ids_for_name)\n"
   ]
  },
  {
   "cell_type": "code",
   "execution_count": 150,
   "metadata": {},
   "outputs": [
    {
     "name": "stderr",
     "output_type": "stream",
     "text": [
      "Batches: 100%|██████████| 2163/2163 [01:27<00:00, 24.76it/s]\n"
     ]
    },
    {
     "ename": "KeyboardInterrupt",
     "evalue": "",
     "output_type": "error",
     "traceback": [
      "\u001b[1;31m---------------------------------------------------------------------------\u001b[0m",
      "\u001b[1;31mKeyboardInterrupt\u001b[0m                         Traceback (most recent call last)",
      "File \u001b[1;32m_zmq.py:141\u001b[0m, in \u001b[0;36mzmq.backend.cython._zmq._check_rc\u001b[1;34m()\u001b[0m\n",
      "\u001b[1;31mKeyboardInterrupt\u001b[0m: "
     ]
    },
    {
     "name": "stderr",
     "output_type": "stream",
     "text": [
      "Exception ignored in: 'zmq.backend.cython._zmq.Frame.__del__'\n",
      "Traceback (most recent call last):\n",
      "  File \"_zmq.py\", line 141, in zmq.backend.cython._zmq._check_rc\n",
      "KeyboardInterrupt: \n"
     ]
    },
    {
     "name": "stdout",
     "output_type": "stream",
     "text": [
      "   campaign_item_id  no_of_days       time  ext_service_id ext_service_name  \\\n",
      "0              2733    0.059322 2022-05-01             128     Facebook Ads   \n",
      "1              2733    0.067797 2022-05-02              16            DV360   \n",
      "2              2733    0.076271 2022-05-03             128     Facebook Ads   \n",
      "3              2733    0.084746 2022-05-04             128     Facebook Ads   \n",
      "4              2733    0.093220 2022-05-05               4       Google Ads   \n",
      "\n",
      "                          search_tags  template_id  \\\n",
      "0                     #The Power of X         90.0   \n",
      "1                      #Be Bold. Be X         90.0   \n",
      "2  #Embrace Your Individuality with X         90.0   \n",
      "3                      #Be Bold. Be X         90.0   \n",
      "4                      #Be Bold. Be X         90.0   \n",
      "\n",
      "                                        landing_page  advertiser_id  \\\n",
      "0  https://www.abcjewelry.com/collections/boho-je...           4756   \n",
      "1  https://www.abcjewelry.com/women/costume-jewelry/           4756   \n",
      "2  https://www.abcjewelry.com/collections/boho-je...           4756   \n",
      "3  https://www.abcjewelry.com/collections/rhinest...           4756   \n",
      "4  https://www.abcjewelry.com/collections/boho-je...           4756   \n",
      "\n",
      "  advertiser_name  ...       PC8       PC9      PC10      PC11      PC12  \\\n",
      "0             Web  ... -0.813099  0.828502  3.285976 -3.264137  4.085717   \n",
      "1             Web  ... -0.813098  0.828503  3.285975 -3.264136  4.085720   \n",
      "2             Web  ... -0.813098  0.828503  3.285975 -3.264136  4.085720   \n",
      "3             Web  ... -0.813098  0.828503  3.285975 -3.264136  4.085720   \n",
      "4             Web  ... -0.813098  0.828503  3.285975 -3.264136  4.085720   \n",
      "\n",
      "       PC13      PC14      PC15      PC16      PC17  \n",
      "0 -0.474232 -2.565244  0.613352 -0.380737 -1.259938  \n",
      "1 -0.474231 -2.565246  0.613351 -0.380737 -1.259937  \n",
      "2 -0.474231 -2.565246  0.613351 -0.380737 -1.259937  \n",
      "3 -0.474231 -2.565246  0.613351 -0.380737 -1.259937  \n",
      "4 -0.474231 -2.565246  0.613351 -0.380737 -1.259937  \n",
      "\n",
      "[5 rows x 60 columns]\n"
     ]
    }
   ],
   "source": [
    "from sentence_transformers import SentenceTransformer\n",
    "import pandas as pd\n",
    "from sklearn.decomposition import PCA\n",
    "from sklearn.preprocessing import StandardScaler\n",
    "\n",
    "# Initialize the pre-trained model for embedding\n",
    "model = SentenceTransformer('all-MiniLM-L6-v2')\n",
    "\n",
    "# Generate embeddings for 'advertiser_name'\n",
    "advertiser_name_embeddings = model.encode(df['advertiser_name'].tolist(), show_progress_bar=True)\n",
    "\n",
    "# Create a DataFrame for embeddings\n",
    "df_advertiser_emb = pd.DataFrame(advertiser_name_embeddings, columns=[f'name_emb_{i+1}' for i in range(advertiser_name_embeddings.shape[1])])\n",
    "\n",
    "# Optionally, reduce dimensionality of embeddings with PCA\n",
    "scaler = StandardScaler()\n",
    "embeddings_scaled = scaler.fit_transform(df_advertiser_emb)\n",
    "\n",
    "pca = PCA(n_components=0.95)  # Retain 95% variance\n",
    "embeddings_pca = pca.fit_transform(embeddings_scaled)\n",
    "\n",
    "# Create a DataFrame for PCA-reduced embeddings\n",
    "df_advertiser_pca = pd.DataFrame(embeddings_pca, columns=[f'PC{i+1}' for i in range(embeddings_pca.shape[1])])\n",
    "\n",
    "# Combine PCA-reduced embeddings with 'advertiser_id'\n",
    "df = pd.concat([df.reset_index(drop=True), df_advertiser_pca], axis=1)\n",
    "\n",
    "# Retain 'advertiser_id' as a feature\n",
    "print(df.head())\n"
   ]
  },
  {
   "cell_type": "code",
   "execution_count": 151,
   "metadata": {},
   "outputs": [
    {
     "data": {
      "text/plain": [
       "array([190, 287, 191, 188, 353, 350], dtype=int64)"
      ]
     },
     "execution_count": 151,
     "metadata": {},
     "output_type": "execute_result"
    }
   ],
   "source": [
    "df['network_id'].unique()"
   ]
  },
  {
   "cell_type": "code",
   "execution_count": 152,
   "metadata": {},
   "outputs": [
    {
     "data": {
      "text/plain": [
       "array(['SGD', 'USD', 'EGP', 'AED', 'INR'], dtype=object)"
      ]
     },
     "execution_count": 152,
     "metadata": {},
     "output_type": "execute_result"
    }
   ],
   "source": [
    "df['advertiser_currency'].unique()"
   ]
  },
  {
   "cell_type": "code",
   "execution_count": 153,
   "metadata": {},
   "outputs": [
    {
     "data": {
      "text/plain": [
       "array(['SGD', 'USD', 'EGP', 'AED', 'INR'], dtype=object)"
      ]
     },
     "execution_count": 153,
     "metadata": {},
     "output_type": "execute_result"
    }
   ],
   "source": [
    "df['currency_code'].unique()"
   ]
  },
  {
   "cell_type": "code",
   "execution_count": 156,
   "metadata": {},
   "outputs": [
    {
     "name": "stdout",
     "output_type": "stream",
     "text": [
      "      advertiser_name currency_code advertiser_currency\n",
      "0                 Web           SGD                 SGD\n",
      "5               Brand           USD                 USD\n",
      "7126            Luxor           EGP                 EGP\n",
      "7430       Almaza Bay           EGP                 EGP\n",
      "7601              USA           USD                 USD\n",
      "7646              USA           AED                 AED\n",
      "7816        Karnataka           INR                 INR\n",
      "7830      Maharashtra           INR                 INR\n",
      "7843             Oman           AED                 AED\n",
      "13636             UAE           AED                 AED\n",
      "15286           Cairo           USD                 USD\n",
      "15672       Al Ahmadi           INR                 INR\n",
      "15782     Addis Ababa           INR                 INR\n",
      "15910        Vadodara           INR                 INR\n",
      "16103         Chennai           INR                 INR\n",
      "16105      Coimbatore           INR                 INR\n",
      "16198           Malad           INR                 INR\n",
      "16262          Indore           INR                 INR\n",
      "16483            Pali           INR                 INR\n",
      "16487  Andhra Pradesh           INR                 INR\n",
      "17185    Kuala Lumpur           INR                 INR\n",
      "18003         Gujarat           INR                 INR\n",
      "18602        Chandpur           INR                 INR\n",
      "18647     West Bengal           INR                 INR\n",
      "19424      Tamil Nadu           INR                 INR\n",
      "19569  Madhya Pradesh           INR                 INR\n",
      "19613          Orissa           INR                 INR\n",
      "19694           North           INR                 INR\n",
      "20311        Thailand           INR                 INR\n",
      "22641       Singapore           AED                 AED\n",
      "22729           Sohar           AED                 AED\n",
      "28459             KSA           AED                 AED\n",
      "42456           Qatar           AED                 AED\n",
      "49754          Muscat           AED                 AED\n",
      "49808          Kuwait           AED                 AED\n",
      "55776         Bahrain           AED                 AED\n",
      "57720        Malaysia           AED                 AED\n",
      "68360          Jeddah           AED                 AED\n",
      "68802      Chattogram           INR                 INR\n",
      "69130       Pan India           INR                 INR\n",
      "69136      Chattogram           USD                 USD\n"
     ]
    }
   ],
   "source": [
    "import pandas as pd\n",
    "\n",
    "# Drop duplicates based on 'advertiser_name', 'currency_code', and 'advertiser_currency'\n",
    "unique_combinations = df[['advertiser_name', 'currency_code', 'advertiser_currency']].drop_duplicates()\n",
    "\n",
    "# Display the unique combinations\n",
    "print(unique_combinations)\n"
   ]
  },
  {
   "cell_type": "code",
   "execution_count": null,
   "metadata": {},
   "outputs": [
    {
     "ename": "KeyError",
     "evalue": "'advertiser_currency'",
     "output_type": "error",
     "traceback": [
      "\u001b[1;31m---------------------------------------------------------------------------\u001b[0m",
      "\u001b[1;31mKeyError\u001b[0m                                  Traceback (most recent call last)",
      "File \u001b[1;32mc:\\Users\\Thinkpad\\AppData\\Local\\Programs\\Python\\Python312\\Lib\\site-packages\\pandas\\core\\indexes\\base.py:3805\u001b[0m, in \u001b[0;36mIndex.get_loc\u001b[1;34m(self, key)\u001b[0m\n\u001b[0;32m   3804\u001b[0m \u001b[38;5;28;01mtry\u001b[39;00m:\n\u001b[1;32m-> 3805\u001b[0m     \u001b[38;5;28;01mreturn\u001b[39;00m \u001b[38;5;28;43mself\u001b[39;49m\u001b[38;5;241;43m.\u001b[39;49m\u001b[43m_engine\u001b[49m\u001b[38;5;241;43m.\u001b[39;49m\u001b[43mget_loc\u001b[49m\u001b[43m(\u001b[49m\u001b[43mcasted_key\u001b[49m\u001b[43m)\u001b[49m\n\u001b[0;32m   3806\u001b[0m \u001b[38;5;28;01mexcept\u001b[39;00m \u001b[38;5;167;01mKeyError\u001b[39;00m \u001b[38;5;28;01mas\u001b[39;00m err:\n",
      "File \u001b[1;32mindex.pyx:167\u001b[0m, in \u001b[0;36mpandas._libs.index.IndexEngine.get_loc\u001b[1;34m()\u001b[0m\n",
      "File \u001b[1;32mindex.pyx:191\u001b[0m, in \u001b[0;36mpandas._libs.index.IndexEngine.get_loc\u001b[1;34m()\u001b[0m\n",
      "File \u001b[1;32mindex.pyx:234\u001b[0m, in \u001b[0;36mpandas._libs.index.IndexEngine._get_loc_duplicates\u001b[1;34m()\u001b[0m\n",
      "File \u001b[1;32mindex.pyx:242\u001b[0m, in \u001b[0;36mpandas._libs.index.IndexEngine._maybe_get_bool_indexer\u001b[1;34m()\u001b[0m\n",
      "File \u001b[1;32mindex.pyx:134\u001b[0m, in \u001b[0;36mpandas._libs.index._unpack_bool_indexer\u001b[1;34m()\u001b[0m\n",
      "\u001b[1;31mKeyError\u001b[0m: 'advertiser_currency'",
      "\nThe above exception was the direct cause of the following exception:\n",
      "\u001b[1;31mKeyError\u001b[0m                                  Traceback (most recent call last)",
      "Cell \u001b[1;32mIn[97], line 2\u001b[0m\n\u001b[0;32m      1\u001b[0m \u001b[38;5;66;03m# Apply One-Hot Encoding to the 'job' column\u001b[39;00m\n\u001b[1;32m----> 2\u001b[0m df_encoded \u001b[38;5;241m=\u001b[39m pd\u001b[38;5;241m.\u001b[39mget_dummies(\u001b[43mdf\u001b[49m\u001b[43m[\u001b[49m\u001b[38;5;124;43m'\u001b[39;49m\u001b[38;5;124;43madvertiser_currency\u001b[39;49m\u001b[38;5;124;43m'\u001b[39;49m\u001b[43m]\u001b[49m, prefix\u001b[38;5;241m=\u001b[39m\u001b[38;5;124m'\u001b[39m\u001b[38;5;124mcurrency\u001b[39m\u001b[38;5;124m'\u001b[39m)\n\u001b[0;32m      4\u001b[0m \u001b[38;5;66;03m# Convert True/False to 1/0\u001b[39;00m\n\u001b[0;32m      5\u001b[0m df_encoded \u001b[38;5;241m=\u001b[39m df_encoded\u001b[38;5;241m.\u001b[39mastype(\u001b[38;5;28mint\u001b[39m)\n",
      "File \u001b[1;32mc:\\Users\\Thinkpad\\AppData\\Local\\Programs\\Python\\Python312\\Lib\\site-packages\\pandas\\core\\frame.py:4102\u001b[0m, in \u001b[0;36mDataFrame.__getitem__\u001b[1;34m(self, key)\u001b[0m\n\u001b[0;32m   4100\u001b[0m \u001b[38;5;28;01mif\u001b[39;00m \u001b[38;5;28mself\u001b[39m\u001b[38;5;241m.\u001b[39mcolumns\u001b[38;5;241m.\u001b[39mnlevels \u001b[38;5;241m>\u001b[39m \u001b[38;5;241m1\u001b[39m:\n\u001b[0;32m   4101\u001b[0m     \u001b[38;5;28;01mreturn\u001b[39;00m \u001b[38;5;28mself\u001b[39m\u001b[38;5;241m.\u001b[39m_getitem_multilevel(key)\n\u001b[1;32m-> 4102\u001b[0m indexer \u001b[38;5;241m=\u001b[39m \u001b[38;5;28;43mself\u001b[39;49m\u001b[38;5;241;43m.\u001b[39;49m\u001b[43mcolumns\u001b[49m\u001b[38;5;241;43m.\u001b[39;49m\u001b[43mget_loc\u001b[49m\u001b[43m(\u001b[49m\u001b[43mkey\u001b[49m\u001b[43m)\u001b[49m\n\u001b[0;32m   4103\u001b[0m \u001b[38;5;28;01mif\u001b[39;00m is_integer(indexer):\n\u001b[0;32m   4104\u001b[0m     indexer \u001b[38;5;241m=\u001b[39m [indexer]\n",
      "File \u001b[1;32mc:\\Users\\Thinkpad\\AppData\\Local\\Programs\\Python\\Python312\\Lib\\site-packages\\pandas\\core\\indexes\\base.py:3812\u001b[0m, in \u001b[0;36mIndex.get_loc\u001b[1;34m(self, key)\u001b[0m\n\u001b[0;32m   3807\u001b[0m     \u001b[38;5;28;01mif\u001b[39;00m \u001b[38;5;28misinstance\u001b[39m(casted_key, \u001b[38;5;28mslice\u001b[39m) \u001b[38;5;129;01mor\u001b[39;00m (\n\u001b[0;32m   3808\u001b[0m         \u001b[38;5;28misinstance\u001b[39m(casted_key, abc\u001b[38;5;241m.\u001b[39mIterable)\n\u001b[0;32m   3809\u001b[0m         \u001b[38;5;129;01mand\u001b[39;00m \u001b[38;5;28many\u001b[39m(\u001b[38;5;28misinstance\u001b[39m(x, \u001b[38;5;28mslice\u001b[39m) \u001b[38;5;28;01mfor\u001b[39;00m x \u001b[38;5;129;01min\u001b[39;00m casted_key)\n\u001b[0;32m   3810\u001b[0m     ):\n\u001b[0;32m   3811\u001b[0m         \u001b[38;5;28;01mraise\u001b[39;00m InvalidIndexError(key)\n\u001b[1;32m-> 3812\u001b[0m     \u001b[38;5;28;01mraise\u001b[39;00m \u001b[38;5;167;01mKeyError\u001b[39;00m(key) \u001b[38;5;28;01mfrom\u001b[39;00m \u001b[38;5;21;01merr\u001b[39;00m\n\u001b[0;32m   3813\u001b[0m \u001b[38;5;28;01mexcept\u001b[39;00m \u001b[38;5;167;01mTypeError\u001b[39;00m:\n\u001b[0;32m   3814\u001b[0m     \u001b[38;5;66;03m# If we have a listlike key, _check_indexing_error will raise\u001b[39;00m\n\u001b[0;32m   3815\u001b[0m     \u001b[38;5;66;03m#  InvalidIndexError. Otherwise we fall through and re-raise\u001b[39;00m\n\u001b[0;32m   3816\u001b[0m     \u001b[38;5;66;03m#  the TypeError.\u001b[39;00m\n\u001b[0;32m   3817\u001b[0m     \u001b[38;5;28mself\u001b[39m\u001b[38;5;241m.\u001b[39m_check_indexing_error(key)\n",
      "\u001b[1;31mKeyError\u001b[0m: 'advertiser_currency'"
     ]
    }
   ],
   "source": [
    "# Apply One-Hot Encoding to the 'job' column\n",
    "df_encoded = pd.get_dummies(df['advertiser_currency'], prefix='currency')\n",
    "\n",
    "# Convert True/False to 1/0\n",
    "df_encoded = df_encoded.astype(int)\n",
    "\n",
    "# Optionally, concatenate the encoded columns with the original dataframe\n",
    "df = pd.concat([df, df_encoded], axis=1)\n",
    "\n",
    "# Drop the original 'job' column\n",
    "df.drop('advertiser_currency', axis=1, inplace=True)\n",
    "\n",
    "print(df.head())"
   ]
  },
  {
   "cell_type": "code",
   "execution_count": 98,
   "metadata": {},
   "outputs": [
    {
     "data": {
      "text/plain": [
       "array([32,  8, 64,  1,  4], dtype=int64)"
      ]
     },
     "execution_count": 98,
     "metadata": {},
     "output_type": "execute_result"
    }
   ],
   "source": [
    "df['channel_id'].unique()"
   ]
  },
  {
   "cell_type": "code",
   "execution_count": 99,
   "metadata": {},
   "outputs": [
    {
     "data": {
      "text/plain": [
       "array(['Mobile', 'Social', 'Video', 'Display', 'Search'], dtype=object)"
      ]
     },
     "execution_count": 99,
     "metadata": {},
     "output_type": "execute_result"
    }
   ],
   "source": [
    "df['channel_name'].unique()"
   ]
  },
  {
   "cell_type": "code",
   "execution_count": 100,
   "metadata": {},
   "outputs": [
    {
     "name": "stdout",
     "output_type": "stream",
     "text": [
      "   channel_id channel_name\n",
      "0          32       Mobile\n",
      "1           8       Social\n",
      "3          64        Video\n",
      "7           1      Display\n",
      "8           4       Search\n"
     ]
    }
   ],
   "source": [
    "# Create a combined feature by concatenating 'channel_id' and 'channel_name'\n",
    "combined_feature = df[['channel_id', 'channel_name']]\n",
    "\n",
    "# Display the unique combinations of the two features\n",
    "unique_combinations = combined_feature.drop_duplicates()\n",
    "print(unique_combinations)"
   ]
  },
  {
   "cell_type": "code",
   "execution_count": 101,
   "metadata": {},
   "outputs": [
    {
     "name": "stdout",
     "output_type": "stream",
     "text": [
      "  channel_combined  channel_combined_label\n",
      "0        32_Mobile                       1\n",
      "1         8_Social                       4\n",
      "2         8_Social                       4\n",
      "3         64_Video                       3\n",
      "4        32_Mobile                       1\n"
     ]
    }
   ],
   "source": [
    "from sklearn.preprocessing import LabelEncoder\n",
    "\n",
    "# Combine 'channel_id' and 'channel_name' into a single feature\n",
    "df['channel_combined'] = df['channel_id'].astype(str) + \"_\" + df['channel_name']\n",
    "\n",
    "# Initialize the LabelEncoder\n",
    "label_encoder = LabelEncoder()\n",
    "\n",
    "# Apply label encoding to the combined feature\n",
    "df['channel_combined_label'] = label_encoder.fit_transform(df['channel_combined'])\n",
    "\n",
    "# Display the first few rows of the updated DataFrame\n",
    "print(df[['channel_combined', 'channel_combined_label']].head())\n"
   ]
  },
  {
   "cell_type": "code",
   "execution_count": 104,
   "metadata": {},
   "outputs": [
    {
     "name": "stdout",
     "output_type": "stream",
     "text": [
      "   campaign_item_id  no_of_days       time  ext_service_id ext_service_name  \\\n",
      "0              2733    0.059322 2022-05-01             128     Facebook Ads   \n",
      "1              2733    0.067797 2022-05-02              16            DV360   \n",
      "2              2733    0.076271 2022-05-03             128     Facebook Ads   \n",
      "3              2733    0.084746 2022-05-04             128     Facebook Ads   \n",
      "4              2733    0.093220 2022-05-05               4       Google Ads   \n",
      "\n",
      "                          search_tags  template_id  \\\n",
      "0                     #The Power of X         90.0   \n",
      "1                      #Be Bold. Be X         90.0   \n",
      "2  #Embrace Your Individuality with X         90.0   \n",
      "3                      #Be Bold. Be X         90.0   \n",
      "4                      #Be Bold. Be X         90.0   \n",
      "\n",
      "                                        landing_page  advertiser_id  \\\n",
      "0  https://www.abcjewelry.com/collections/boho-je...           4756   \n",
      "1  https://www.abcjewelry.com/women/costume-jewelry/           4756   \n",
      "2  https://www.abcjewelry.com/collections/boho-je...           4756   \n",
      "3  https://www.abcjewelry.com/collections/rhinest...           4756   \n",
      "4  https://www.abcjewelry.com/collections/boho-je...           4756   \n",
      "\n",
      "  advertiser_name  ...      PC16      PC17  currency_AED currency_EGP  \\\n",
      "0             Web  ... -0.380737 -1.259938             0            0   \n",
      "1             Web  ... -0.380737 -1.259937             0            0   \n",
      "2             Web  ... -0.380737 -1.259937             0            0   \n",
      "3             Web  ... -0.380737 -1.259937             0            0   \n",
      "4             Web  ... -0.380737 -1.259937             0            0   \n",
      "\n",
      "   currency_INR  currency_SGD  currency_USD channel_combined  \\\n",
      "0             0             1             0        32_Mobile   \n",
      "1             0             1             0         8_Social   \n",
      "2             0             1             0         8_Social   \n",
      "3             0             1             0         64_Video   \n",
      "4             0             1             0        32_Mobile   \n",
      "\n",
      "  channel_combined_label  campaign_budget_usd_scaled  \n",
      "0                      1                    0.201396  \n",
      "1                      4                    0.201396  \n",
      "2                      4                    0.201396  \n",
      "3                      3                    0.201396  \n",
      "4                      1                    0.201396  \n",
      "\n",
      "[5 rows x 95 columns]\n"
     ]
    }
   ],
   "source": [
    "from sklearn.preprocessing import StandardScaler\n",
    "\n",
    "# Initialize StandardScaler\n",
    "scaler = StandardScaler()\n",
    "\n",
    "# Standardize the 'campaign_budget_usd' column\n",
    "df['campaign_budget_usd_scaled'] = scaler.fit_transform(df[['campaign_budget_usd']])\n",
    "\n",
    "# Display the updated DataFrame with the scaled feature\n",
    "print(df.head())"
   ]
  },
  {
   "cell_type": "code",
   "execution_count": 105,
   "metadata": {},
   "outputs": [
    {
     "data": {
      "text/plain": [
       "0        SGD\n",
       "1        SGD\n",
       "2        SGD\n",
       "3        SGD\n",
       "4        SGD\n",
       "        ... \n",
       "69195    USD\n",
       "69196    USD\n",
       "69197    USD\n",
       "69198    USD\n",
       "69199    USD\n",
       "Name: currency_code, Length: 69200, dtype: object"
      ]
     },
     "execution_count": 105,
     "metadata": {},
     "output_type": "execute_result"
    }
   ],
   "source": [
    "df['currency_code']"
   ]
  },
  {
   "cell_type": "code",
   "execution_count": 157,
   "metadata": {},
   "outputs": [
    {
     "data": {
      "text/plain": [
       "0        SGD\n",
       "1        SGD\n",
       "2        SGD\n",
       "3        SGD\n",
       "4        SGD\n",
       "        ... \n",
       "69195    USD\n",
       "69196    USD\n",
       "69197    USD\n",
       "69198    USD\n",
       "69199    USD\n",
       "Name: advertiser_currency, Length: 69200, dtype: object"
      ]
     },
     "execution_count": 157,
     "metadata": {},
     "output_type": "execute_result"
    }
   ],
   "source": [
    "df['advertiser_currency']"
   ]
  },
  {
   "cell_type": "code",
   "execution_count": 159,
   "metadata": {},
   "outputs": [],
   "source": [
    "df  = df.drop(columns=['advertiser_currency'])"
   ]
  },
  {
   "cell_type": "code",
   "execution_count": 162,
   "metadata": {},
   "outputs": [
    {
     "data": {
      "text/plain": [
       "array([1], dtype=int64)"
      ]
     },
     "execution_count": 162,
     "metadata": {},
     "output_type": "execute_result"
    }
   ],
   "source": [
    "df['exchange_rate'].unique()"
   ]
  },
  {
   "cell_type": "code",
   "execution_count": 163,
   "metadata": {},
   "outputs": [],
   "source": [
    "df  = df.drop(columns=['exchange_rate'])"
   ]
  },
  {
   "cell_type": "code",
   "execution_count": 164,
   "metadata": {},
   "outputs": [
    {
     "data": {
      "text/plain": [
       "array([ 14.058514,  99.633496, 109.419677, ...,  16.46014 ,  16.374037,\n",
       "         1.751098])"
      ]
     },
     "execution_count": 164,
     "metadata": {},
     "output_type": "execute_result"
    }
   ],
   "source": [
    "df['media_cost_usd'].unique()"
   ]
  },
  {
   "cell_type": "code",
   "execution_count": 166,
   "metadata": {},
   "outputs": [
    {
     "name": "stdout",
     "output_type": "stream",
     "text": [
      "2295.028945 0.0\n"
     ]
    }
   ],
   "source": [
    "print(df['media_cost_usd'].max(), df['media_cost_usd'].min())\n"
   ]
  },
  {
   "cell_type": "code",
   "execution_count": 167,
   "metadata": {},
   "outputs": [
    {
     "data": {
      "image/png": "[encoded data removed]",
      "text/plain": [
       "<Figure size 640x480 with 1 Axes>"
      ]
     },
     "metadata": {},
     "output_type": "display_data"
    }
   ],
   "source": [
    "import matplotlib.pyplot as plt\n",
    "import seaborn as sns\n",
    "\n",
    "sns.histplot(df['media_cost_usd'], kde=True)\n",
    "plt.title('Distribution of media_cost_usd')\n",
    "plt.show()"
   ]
  },
  {
   "cell_type": "code",
   "execution_count": 168,
   "metadata": {},
   "outputs": [],
   "source": [
    "import numpy as np\n",
    "df['media_cost_usd_log'] = np.log1p(df['media_cost_usd'])  # Use log1p to handle zero values\n"
   ]
  },
  {
   "cell_type": "code",
   "execution_count": 169,
   "metadata": {},
   "outputs": [
    {
     "data": {
      "image/png": "[encoded data removed]",
      "text/plain": [
       "<Figure size 640x480 with 1 Axes>"
      ]
     },
     "metadata": {},
     "output_type": "display_data"
    }
   ],
   "source": [
    "import seaborn as sns\n",
    "import matplotlib.pyplot as plt\n",
    "\n",
    "sns.histplot(df['media_cost_usd_log'], kde=True)\n",
    "plt.title('Distribution of Log-Transformed media_cost_usd')\n",
    "plt.show()\n"
   ]
  },
  {
   "cell_type": "code",
   "execution_count": 174,
   "metadata": {},
   "outputs": [
    {
     "data": {
      "text/plain": [
       "array(['delicate bracelets', 'summer jewelry', 'artisan jewelry',\n",
       "       'layered bracelets', 'minimalist jewelry', 'beaded bracelets',\n",
       "       'bridal jewelry', 'unique and trendy jewelry', 'clip-on earrings',\n",
       "       'bohemian jewelry', 'layered jewelry', 'tribal jewelry',\n",
       "       'rhinestone jewelry', 'statement rings', 'mixed metal jewelry',\n",
       "       'chic and affordable jewelry', 'colorful jewelry', 'funky jewelry',\n",
       "       'cuff bracelets', 'elegant and modern jewelry',\n",
       "       'fashionable jewelry', 'statement necklaces', 'bold jewelry',\n",
       "       'seashell jewelry', 'party jewelry', 'modern jewelry',\n",
       "       'winter jewelry', 'seasonal jewelry', 'drop earrings',\n",
       "       'charm bracelets', 'costume jewelry sets', 'pendant necklaces',\n",
       "       'fashion jewelry for women', 'bangles', 'chic jewelry',\n",
       "       'vintage-inspired jewelry', 'dazzling jewelry', 'spring jewelry',\n",
       "       'stud earrings', 'beach jewelry', 'vibrant jewelry',\n",
       "       'fashion brooches', 'gemstone jewelry', 'toe rings',\n",
       "       'religious jewelry', 'edwardian jewelry', 'trendy jewelry',\n",
       "       'art deco jewelry', 'handmade jewelry', 'art nouveau jewelry',\n",
       "       'everyday jewelry', 'boho jewelry', 'nature-inspired jewelry',\n",
       "       'fall jewelry', 'unique jewelry', 'vintage jewelry', 'midi rings',\n",
       "       'elegant jewelry', 'dangle earrings', 'brooches', 'body jewelry',\n",
       "       'tassel earrings', 'victorian jewelry', 'multi-strand necklaces',\n",
       "       'wedding jewelry', 'office jewelry', 'jewelry sets',\n",
       "       'exquisite jewelry', 'layered earrings',\n",
       "       'affordable statement jewelry', 'crystal jewelry',\n",
       "       'concert jewelry', 'animal jewelry', 'handcrafted jewelry',\n",
       "       'renaissance jewelry', 'festival jewelry', 'threader earrings',\n",
       "       'statement jewelry', 'birthstone jewelry', 'ear cuffs',\n",
       "       'hoop earrings', 'zodiac jewelry', 'affordable luxury jewelry',\n",
       "       'luxury jewelry', 'pearl jewelry', 'retro jewelry', 'arm cuffs',\n",
       "       'casual chic jewelry', 'designer-inspired jewelry',\n",
       "       'minimalistic jewelry', 'anklets', 'cocktail rings',\n",
       "       'affordable jewelry', 'hair accessories', 'costume jewelry',\n",
       "       'choker necklaces', 'chunky jewelry', 'stackable bracelets',\n",
       "       'sophisticated jewelry', 'whimsical jewelry',\n",
       "       'affordable trendy jewelry', 'artisanal jewelry',\n",
       "       'glamorous jewelry', 'casual jewelry', 'dainty jewelry',\n",
       "       'personalized jewelry', 'beaded jewelry', 'long necklaces',\n",
       "       'body piercings', 'initial jewelry', 'trendy and timeless jewelry',\n",
       "       'formal jewelry', 'huggie earrings', 'statement pins',\n",
       "       'layered necklaces', 'baroque jewelry', 'holiday jewelry',\n",
       "       'body chains'], dtype=object)"
      ]
     },
     "execution_count": 174,
     "metadata": {},
     "output_type": "execute_result"
    }
   ],
   "source": [
    "df['keywords'].unique()"
   ]
  },
  {
   "cell_type": "code",
   "execution_count": 175,
   "metadata": {},
   "outputs": [
    {
     "data": {
      "text/plain": [
       "(set(),\n",
       " {'Total Keywords': 118,\n",
       "  'Total Search Tags': 6,\n",
       "  'Overlap Count': 0,\n",
       "  'Unique to Keywords': 118,\n",
       "  'Unique to Search Tags': 6})"
      ]
     },
     "execution_count": 175,
     "metadata": {},
     "output_type": "execute_result"
    }
   ],
   "source": [
    "# Calculate overlap\n",
    "unique_keywords = set(df['keywords'])\n",
    "unique_search_tags = set(df['search_tags'])\n",
    "\n",
    "# Find intersection, unique to keywords, and unique to search_tags\n",
    "intersection = unique_keywords.intersection(unique_search_tags)\n",
    "unique_to_keywords = unique_keywords.difference(unique_search_tags)\n",
    "unique_to_search_tags = unique_search_tags.difference(unique_keywords)\n",
    "\n",
    "# Result summary\n",
    "overlap_analysis = {\n",
    "    \"Total Keywords\": len(unique_keywords),\n",
    "    \"Total Search Tags\": len(unique_search_tags),\n",
    "    \"Overlap Count\": len(intersection),\n",
    "    \"Unique to Keywords\": len(unique_to_keywords),\n",
    "    \"Unique to Search Tags\": len(unique_to_search_tags)\n",
    "}\n",
    "\n",
    "intersection, overlap_analysis"
   ]
  },
  {
   "cell_type": "code",
   "execution_count": 177,
   "metadata": {},
   "outputs": [
    {
     "data": {
      "text/plain": [
       "array(['#The Power of X', '#Be Bold. Be X',\n",
       "       '#Embrace Your Individuality with X',\n",
       "       '#The Ultimate Fashion Statement with X',\n",
       "       '#The X Factor - Fashion for the Fearless', '#Timeless X Style'],\n",
       "      dtype=object)"
      ]
     },
     "execution_count": 177,
     "metadata": {},
     "output_type": "execute_result"
    }
   ],
   "source": [
    "df['search_tags'].unique()"
   ]
  },
  {
   "cell_type": "code",
   "execution_count": 178,
   "metadata": {},
   "outputs": [
    {
     "name": "stderr",
     "output_type": "stream",
     "text": [
      "c:\\Users\\Thinkpad\\AppData\\Local\\Programs\\Python\\Python312\\Lib\\site-packages\\huggingface_hub\\file_download.py:140: UserWarning: `huggingface_hub` cache-system uses symlinks by default to efficiently store duplicated files but your machine does not support them in C:\\Users\\Thinkpad\\.cache\\huggingface\\hub\\models--sentence-transformers--paraphrase-MiniLM-L6-v2. Caching files will still work but in a degraded version that might require more space on your disk. This warning can be disabled by setting the `HF_HUB_DISABLE_SYMLINKS_WARNING` environment variable. For more details, see https://huggingface.co/docs/huggingface_hub/how-to-cache#limitations.\n",
      "To support symlinks on Windows, you either need to activate Developer Mode or to run Python as an administrator. In order to activate developer mode, see this article: https://docs.microsoft.com/en-us/windows/apps/get-started/enable-your-device-for-development\n",
      "  warnings.warn(message)\n"
     ]
    },
    {
     "ename": "ChunkedEncodingError",
     "evalue": "('Connection broken: IncompleteRead(23642650 bytes read, 67225723 more expected)', IncompleteRead(23642650 bytes read, 67225723 more expected))",
     "output_type": "error",
     "traceback": [
      "\u001b[1;31m---------------------------------------------------------------------------\u001b[0m",
      "\u001b[1;31mIncompleteRead\u001b[0m                            Traceback (most recent call last)",
      "File \u001b[1;32mc:\\Users\\Thinkpad\\AppData\\Local\\Programs\\Python\\Python312\\Lib\\site-packages\\urllib3\\response.py:748\u001b[0m, in \u001b[0;36mHTTPResponse._error_catcher\u001b[1;34m(self)\u001b[0m\n\u001b[0;32m    747\u001b[0m \u001b[38;5;28;01mtry\u001b[39;00m:\n\u001b[1;32m--> 748\u001b[0m     \u001b[38;5;28;01myield\u001b[39;00m\n\u001b[0;32m    750\u001b[0m \u001b[38;5;28;01mexcept\u001b[39;00m SocketTimeout \u001b[38;5;28;01mas\u001b[39;00m e:\n\u001b[0;32m    751\u001b[0m     \u001b[38;5;66;03m# FIXME: Ideally we'd like to include the url in the ReadTimeoutError but\u001b[39;00m\n\u001b[0;32m    752\u001b[0m     \u001b[38;5;66;03m# there is yet no clean way to get at it from this context.\u001b[39;00m\n",
      "File \u001b[1;32mc:\\Users\\Thinkpad\\AppData\\Local\\Programs\\Python\\Python312\\Lib\\site-packages\\urllib3\\response.py:894\u001b[0m, in \u001b[0;36mHTTPResponse._raw_read\u001b[1;34m(self, amt, read1)\u001b[0m\n\u001b[0;32m    884\u001b[0m     \u001b[38;5;28;01mif\u001b[39;00m (\n\u001b[0;32m    885\u001b[0m         \u001b[38;5;28mself\u001b[39m\u001b[38;5;241m.\u001b[39menforce_content_length\n\u001b[0;32m    886\u001b[0m         \u001b[38;5;129;01mand\u001b[39;00m \u001b[38;5;28mself\u001b[39m\u001b[38;5;241m.\u001b[39mlength_remaining \u001b[38;5;129;01mis\u001b[39;00m \u001b[38;5;129;01mnot\u001b[39;00m \u001b[38;5;28;01mNone\u001b[39;00m\n\u001b[1;32m   (...)\u001b[0m\n\u001b[0;32m    892\u001b[0m         \u001b[38;5;66;03m# raised during streaming, so all calls with incorrect\u001b[39;00m\n\u001b[0;32m    893\u001b[0m         \u001b[38;5;66;03m# Content-Length are caught.\u001b[39;00m\n\u001b[1;32m--> 894\u001b[0m         \u001b[38;5;28;01mraise\u001b[39;00m IncompleteRead(\u001b[38;5;28mself\u001b[39m\u001b[38;5;241m.\u001b[39m_fp_bytes_read, \u001b[38;5;28mself\u001b[39m\u001b[38;5;241m.\u001b[39mlength_remaining)\n\u001b[0;32m    895\u001b[0m \u001b[38;5;28;01melif\u001b[39;00m read1 \u001b[38;5;129;01mand\u001b[39;00m (\n\u001b[0;32m    896\u001b[0m     (amt \u001b[38;5;241m!=\u001b[39m \u001b[38;5;241m0\u001b[39m \u001b[38;5;129;01mand\u001b[39;00m \u001b[38;5;129;01mnot\u001b[39;00m data) \u001b[38;5;129;01mor\u001b[39;00m \u001b[38;5;28mself\u001b[39m\u001b[38;5;241m.\u001b[39mlength_remaining \u001b[38;5;241m==\u001b[39m \u001b[38;5;28mlen\u001b[39m(data)\n\u001b[0;32m    897\u001b[0m ):\n\u001b[1;32m   (...)\u001b[0m\n\u001b[0;32m    900\u001b[0m     \u001b[38;5;66;03m# `http.client.HTTPResponse`, so we close it here.\u001b[39;00m\n\u001b[0;32m    901\u001b[0m     \u001b[38;5;66;03m# See https://github.com/python/cpython/issues/113199\u001b[39;00m\n",
      "\u001b[1;31mIncompleteRead\u001b[0m: IncompleteRead(23642650 bytes read, 67225723 more expected)",
      "\nThe above exception was the direct cause of the following exception:\n",
      "\u001b[1;31mProtocolError\u001b[0m                             Traceback (most recent call last)",
      "File \u001b[1;32mc:\\Users\\Thinkpad\\AppData\\Local\\Programs\\Python\\Python312\\Lib\\site-packages\\requests\\models.py:820\u001b[0m, in \u001b[0;36mResponse.iter_content.<locals>.generate\u001b[1;34m()\u001b[0m\n\u001b[0;32m    819\u001b[0m \u001b[38;5;28;01mtry\u001b[39;00m:\n\u001b[1;32m--> 820\u001b[0m     \u001b[38;5;28;01myield from\u001b[39;00m \u001b[38;5;28mself\u001b[39m\u001b[38;5;241m.\u001b[39mraw\u001b[38;5;241m.\u001b[39mstream(chunk_size, decode_content\u001b[38;5;241m=\u001b[39m\u001b[38;5;28;01mTrue\u001b[39;00m)\n\u001b[0;32m    821\u001b[0m \u001b[38;5;28;01mexcept\u001b[39;00m ProtocolError \u001b[38;5;28;01mas\u001b[39;00m e:\n",
      "File \u001b[1;32mc:\\Users\\Thinkpad\\AppData\\Local\\Programs\\Python\\Python312\\Lib\\site-packages\\urllib3\\response.py:1060\u001b[0m, in \u001b[0;36mHTTPResponse.stream\u001b[1;34m(self, amt, decode_content)\u001b[0m\n\u001b[0;32m   1059\u001b[0m \u001b[38;5;28;01mwhile\u001b[39;00m \u001b[38;5;129;01mnot\u001b[39;00m is_fp_closed(\u001b[38;5;28mself\u001b[39m\u001b[38;5;241m.\u001b[39m_fp) \u001b[38;5;129;01mor\u001b[39;00m \u001b[38;5;28mlen\u001b[39m(\u001b[38;5;28mself\u001b[39m\u001b[38;5;241m.\u001b[39m_decoded_buffer) \u001b[38;5;241m>\u001b[39m \u001b[38;5;241m0\u001b[39m:\n\u001b[1;32m-> 1060\u001b[0m     data \u001b[38;5;241m=\u001b[39m \u001b[38;5;28;43mself\u001b[39;49m\u001b[38;5;241;43m.\u001b[39;49m\u001b[43mread\u001b[49m\u001b[43m(\u001b[49m\u001b[43mamt\u001b[49m\u001b[38;5;241;43m=\u001b[39;49m\u001b[43mamt\u001b[49m\u001b[43m,\u001b[49m\u001b[43m \u001b[49m\u001b[43mdecode_content\u001b[49m\u001b[38;5;241;43m=\u001b[39;49m\u001b[43mdecode_content\u001b[49m\u001b[43m)\u001b[49m\n\u001b[0;32m   1062\u001b[0m     \u001b[38;5;28;01mif\u001b[39;00m data:\n",
      "File \u001b[1;32mc:\\Users\\Thinkpad\\AppData\\Local\\Programs\\Python\\Python312\\Lib\\site-packages\\urllib3\\response.py:977\u001b[0m, in \u001b[0;36mHTTPResponse.read\u001b[1;34m(self, amt, decode_content, cache_content)\u001b[0m\n\u001b[0;32m    973\u001b[0m \u001b[38;5;28;01mwhile\u001b[39;00m \u001b[38;5;28mlen\u001b[39m(\u001b[38;5;28mself\u001b[39m\u001b[38;5;241m.\u001b[39m_decoded_buffer) \u001b[38;5;241m<\u001b[39m amt \u001b[38;5;129;01mand\u001b[39;00m data:\n\u001b[0;32m    974\u001b[0m     \u001b[38;5;66;03m# TODO make sure to initially read enough data to get past the headers\u001b[39;00m\n\u001b[0;32m    975\u001b[0m     \u001b[38;5;66;03m# For example, the GZ file header takes 10 bytes, we don't want to read\u001b[39;00m\n\u001b[0;32m    976\u001b[0m     \u001b[38;5;66;03m# it one byte at a time\u001b[39;00m\n\u001b[1;32m--> 977\u001b[0m     data \u001b[38;5;241m=\u001b[39m \u001b[38;5;28;43mself\u001b[39;49m\u001b[38;5;241;43m.\u001b[39;49m\u001b[43m_raw_read\u001b[49m\u001b[43m(\u001b[49m\u001b[43mamt\u001b[49m\u001b[43m)\u001b[49m\n\u001b[0;32m    978\u001b[0m     decoded_data \u001b[38;5;241m=\u001b[39m \u001b[38;5;28mself\u001b[39m\u001b[38;5;241m.\u001b[39m_decode(data, decode_content, flush_decoder)\n",
      "File \u001b[1;32mc:\\Users\\Thinkpad\\AppData\\Local\\Programs\\Python\\Python312\\Lib\\site-packages\\urllib3\\response.py:872\u001b[0m, in \u001b[0;36mHTTPResponse._raw_read\u001b[1;34m(self, amt, read1)\u001b[0m\n\u001b[0;32m    870\u001b[0m fp_closed \u001b[38;5;241m=\u001b[39m \u001b[38;5;28mgetattr\u001b[39m(\u001b[38;5;28mself\u001b[39m\u001b[38;5;241m.\u001b[39m_fp, \u001b[38;5;124m\"\u001b[39m\u001b[38;5;124mclosed\u001b[39m\u001b[38;5;124m\"\u001b[39m, \u001b[38;5;28;01mFalse\u001b[39;00m)\n\u001b[1;32m--> 872\u001b[0m \u001b[43m\u001b[49m\u001b[38;5;28;43;01mwith\u001b[39;49;00m\u001b[43m \u001b[49m\u001b[38;5;28;43mself\u001b[39;49m\u001b[38;5;241;43m.\u001b[39;49m\u001b[43m_error_catcher\u001b[49m\u001b[43m(\u001b[49m\u001b[43m)\u001b[49m\u001b[43m:\u001b[49m\n\u001b[0;32m    873\u001b[0m \u001b[43m    \u001b[49m\u001b[43mdata\u001b[49m\u001b[43m \u001b[49m\u001b[38;5;241;43m=\u001b[39;49m\u001b[43m \u001b[49m\u001b[38;5;28;43mself\u001b[39;49m\u001b[38;5;241;43m.\u001b[39;49m\u001b[43m_fp_read\u001b[49m\u001b[43m(\u001b[49m\u001b[43mamt\u001b[49m\u001b[43m,\u001b[49m\u001b[43m \u001b[49m\u001b[43mread1\u001b[49m\u001b[38;5;241;43m=\u001b[39;49m\u001b[43mread1\u001b[49m\u001b[43m)\u001b[49m\u001b[43m \u001b[49m\u001b[38;5;28;43;01mif\u001b[39;49;00m\u001b[43m \u001b[49m\u001b[38;5;129;43;01mnot\u001b[39;49;00m\u001b[43m \u001b[49m\u001b[43mfp_closed\u001b[49m\u001b[43m \u001b[49m\u001b[38;5;28;43;01melse\u001b[39;49;00m\u001b[43m \u001b[49m\u001b[38;5;124;43mb\u001b[39;49m\u001b[38;5;124;43m\"\u001b[39;49m\u001b[38;5;124;43m\"\u001b[39;49m\n",
      "File \u001b[1;32mc:\\Users\\Thinkpad\\AppData\\Local\\Programs\\Python\\Python312\\Lib\\contextlib.py:158\u001b[0m, in \u001b[0;36m_GeneratorContextManager.__exit__\u001b[1;34m(self, typ, value, traceback)\u001b[0m\n\u001b[0;32m    157\u001b[0m \u001b[38;5;28;01mtry\u001b[39;00m:\n\u001b[1;32m--> 158\u001b[0m     \u001b[38;5;28;43mself\u001b[39;49m\u001b[38;5;241;43m.\u001b[39;49m\u001b[43mgen\u001b[49m\u001b[38;5;241;43m.\u001b[39;49m\u001b[43mthrow\u001b[49m\u001b[43m(\u001b[49m\u001b[43mvalue\u001b[49m\u001b[43m)\u001b[49m\n\u001b[0;32m    159\u001b[0m \u001b[38;5;28;01mexcept\u001b[39;00m \u001b[38;5;167;01mStopIteration\u001b[39;00m \u001b[38;5;28;01mas\u001b[39;00m exc:\n\u001b[0;32m    160\u001b[0m     \u001b[38;5;66;03m# Suppress StopIteration *unless* it's the same exception that\u001b[39;00m\n\u001b[0;32m    161\u001b[0m     \u001b[38;5;66;03m# was passed to throw().  This prevents a StopIteration\u001b[39;00m\n\u001b[0;32m    162\u001b[0m     \u001b[38;5;66;03m# raised inside the \"with\" statement from being suppressed.\u001b[39;00m\n",
      "File \u001b[1;32mc:\\Users\\Thinkpad\\AppData\\Local\\Programs\\Python\\Python312\\Lib\\site-packages\\urllib3\\response.py:772\u001b[0m, in \u001b[0;36mHTTPResponse._error_catcher\u001b[1;34m(self)\u001b[0m\n\u001b[0;32m    771\u001b[0m         arg \u001b[38;5;241m=\u001b[39m \u001b[38;5;124mf\u001b[39m\u001b[38;5;124m\"\u001b[39m\u001b[38;5;124mConnection broken: \u001b[39m\u001b[38;5;132;01m{\u001b[39;00me\u001b[38;5;132;01m!r}\u001b[39;00m\u001b[38;5;124m\"\u001b[39m\n\u001b[1;32m--> 772\u001b[0m     \u001b[38;5;28;01mraise\u001b[39;00m ProtocolError(arg, e) \u001b[38;5;28;01mfrom\u001b[39;00m \u001b[38;5;21;01me\u001b[39;00m\n\u001b[0;32m    774\u001b[0m \u001b[38;5;28;01mexcept\u001b[39;00m (HTTPException, \u001b[38;5;167;01mOSError\u001b[39;00m) \u001b[38;5;28;01mas\u001b[39;00m e:\n",
      "\u001b[1;31mProtocolError\u001b[0m: ('Connection broken: IncompleteRead(23642650 bytes read, 67225723 more expected)', IncompleteRead(23642650 bytes read, 67225723 more expected))",
      "\nDuring handling of the above exception, another exception occurred:\n",
      "\u001b[1;31mChunkedEncodingError\u001b[0m                      Traceback (most recent call last)",
      "Cell \u001b[1;32mIn[178], line 6\u001b[0m\n\u001b[0;32m      3\u001b[0m \u001b[38;5;28;01mimport\u001b[39;00m \u001b[38;5;21;01mnumpy\u001b[39;00m \u001b[38;5;28;01mas\u001b[39;00m \u001b[38;5;21;01mnp\u001b[39;00m\n\u001b[0;32m      5\u001b[0m \u001b[38;5;66;03m# Initialize the pre-trained model\u001b[39;00m\n\u001b[1;32m----> 6\u001b[0m model \u001b[38;5;241m=\u001b[39m \u001b[43mSentenceTransformer\u001b[49m\u001b[43m(\u001b[49m\u001b[38;5;124;43m'\u001b[39;49m\u001b[38;5;124;43mparaphrase-MiniLM-L6-v2\u001b[39;49m\u001b[38;5;124;43m'\u001b[39;49m\u001b[43m)\u001b[49m\n\u001b[0;32m      7\u001b[0m \u001b[38;5;66;03m# Generate embeddings for the 'keywords' column\u001b[39;00m\n\u001b[0;32m      8\u001b[0m \u001b[38;5;28;01mdef\u001b[39;00m \u001b[38;5;21mgenerate_embeddings\u001b[39m(keywords_list, model):\n\u001b[0;32m      9\u001b[0m     \u001b[38;5;66;03m# Generate embeddings for the list of keywords\u001b[39;00m\n",
      "File \u001b[1;32mc:\\Users\\Thinkpad\\AppData\\Local\\Programs\\Python\\Python312\\Lib\\site-packages\\sentence_transformers\\SentenceTransformer.py:308\u001b[0m, in \u001b[0;36mSentenceTransformer.__init__\u001b[1;34m(self, model_name_or_path, modules, device, prompts, default_prompt_name, similarity_fn_name, cache_folder, trust_remote_code, revision, local_files_only, token, use_auth_token, truncate_dim, model_kwargs, tokenizer_kwargs, config_kwargs, model_card_data, backend)\u001b[0m\n\u001b[0;32m    299\u001b[0m         model_name_or_path \u001b[38;5;241m=\u001b[39m __MODEL_HUB_ORGANIZATION__ \u001b[38;5;241m+\u001b[39m \u001b[38;5;124m\"\u001b[39m\u001b[38;5;124m/\u001b[39m\u001b[38;5;124m\"\u001b[39m \u001b[38;5;241m+\u001b[39m model_name_or_path\n\u001b[0;32m    301\u001b[0m \u001b[38;5;28;01mif\u001b[39;00m is_sentence_transformer_model(\n\u001b[0;32m    302\u001b[0m     model_name_or_path,\n\u001b[0;32m    303\u001b[0m     token,\n\u001b[1;32m   (...)\u001b[0m\n\u001b[0;32m    306\u001b[0m     local_files_only\u001b[38;5;241m=\u001b[39mlocal_files_only,\n\u001b[0;32m    307\u001b[0m ):\n\u001b[1;32m--> 308\u001b[0m     modules, \u001b[38;5;28mself\u001b[39m\u001b[38;5;241m.\u001b[39mmodule_kwargs \u001b[38;5;241m=\u001b[39m \u001b[38;5;28;43mself\u001b[39;49m\u001b[38;5;241;43m.\u001b[39;49m\u001b[43m_load_sbert_model\u001b[49m\u001b[43m(\u001b[49m\n\u001b[0;32m    309\u001b[0m \u001b[43m        \u001b[49m\u001b[43mmodel_name_or_path\u001b[49m\u001b[43m,\u001b[49m\n\u001b[0;32m    310\u001b[0m \u001b[43m        \u001b[49m\u001b[43mtoken\u001b[49m\u001b[38;5;241;43m=\u001b[39;49m\u001b[43mtoken\u001b[49m\u001b[43m,\u001b[49m\n\u001b[0;32m    311\u001b[0m \u001b[43m        \u001b[49m\u001b[43mcache_folder\u001b[49m\u001b[38;5;241;43m=\u001b[39;49m\u001b[43mcache_folder\u001b[49m\u001b[43m,\u001b[49m\n\u001b[0;32m    312\u001b[0m \u001b[43m        \u001b[49m\u001b[43mrevision\u001b[49m\u001b[38;5;241;43m=\u001b[39;49m\u001b[43mrevision\u001b[49m\u001b[43m,\u001b[49m\n\u001b[0;32m    313\u001b[0m \u001b[43m        \u001b[49m\u001b[43mtrust_remote_code\u001b[49m\u001b[38;5;241;43m=\u001b[39;49m\u001b[43mtrust_remote_code\u001b[49m\u001b[43m,\u001b[49m\n\u001b[0;32m    314\u001b[0m \u001b[43m        \u001b[49m\u001b[43mlocal_files_only\u001b[49m\u001b[38;5;241;43m=\u001b[39;49m\u001b[43mlocal_files_only\u001b[49m\u001b[43m,\u001b[49m\n\u001b[0;32m    315\u001b[0m \u001b[43m        \u001b[49m\u001b[43mmodel_kwargs\u001b[49m\u001b[38;5;241;43m=\u001b[39;49m\u001b[43mmodel_kwargs\u001b[49m\u001b[43m,\u001b[49m\n\u001b[0;32m    316\u001b[0m \u001b[43m        \u001b[49m\u001b[43mtokenizer_kwargs\u001b[49m\u001b[38;5;241;43m=\u001b[39;49m\u001b[43mtokenizer_kwargs\u001b[49m\u001b[43m,\u001b[49m\n\u001b[0;32m    317\u001b[0m \u001b[43m        \u001b[49m\u001b[43mconfig_kwargs\u001b[49m\u001b[38;5;241;43m=\u001b[39;49m\u001b[43mconfig_kwargs\u001b[49m\u001b[43m,\u001b[49m\n\u001b[0;32m    318\u001b[0m \u001b[43m    \u001b[49m\u001b[43m)\u001b[49m\n\u001b[0;32m    319\u001b[0m \u001b[38;5;28;01melse\u001b[39;00m:\n\u001b[0;32m    320\u001b[0m     modules \u001b[38;5;241m=\u001b[39m \u001b[38;5;28mself\u001b[39m\u001b[38;5;241m.\u001b[39m_load_auto_model(\n\u001b[0;32m    321\u001b[0m         model_name_or_path,\n\u001b[0;32m    322\u001b[0m         token\u001b[38;5;241m=\u001b[39mtoken,\n\u001b[1;32m   (...)\u001b[0m\n\u001b[0;32m    329\u001b[0m         config_kwargs\u001b[38;5;241m=\u001b[39mconfig_kwargs,\n\u001b[0;32m    330\u001b[0m     )\n",
      "File \u001b[1;32mc:\\Users\\Thinkpad\\AppData\\Local\\Programs\\Python\\Python312\\Lib\\site-packages\\sentence_transformers\\SentenceTransformer.py:1728\u001b[0m, in \u001b[0;36mSentenceTransformer._load_sbert_model\u001b[1;34m(self, model_name_or_path, token, cache_folder, revision, trust_remote_code, local_files_only, model_kwargs, tokenizer_kwargs, config_kwargs)\u001b[0m\n\u001b[0;32m   1725\u001b[0m \u001b[38;5;66;03m# Try to initialize the module with a lot of kwargs, but only if the module supports them\u001b[39;00m\n\u001b[0;32m   1726\u001b[0m \u001b[38;5;66;03m# Otherwise we fall back to the load method\u001b[39;00m\n\u001b[0;32m   1727\u001b[0m \u001b[38;5;28;01mtry\u001b[39;00m:\n\u001b[1;32m-> 1728\u001b[0m     module \u001b[38;5;241m=\u001b[39m \u001b[43mmodule_class\u001b[49m\u001b[43m(\u001b[49m\u001b[43mmodel_name_or_path\u001b[49m\u001b[43m,\u001b[49m\u001b[43m \u001b[49m\u001b[43mcache_dir\u001b[49m\u001b[38;5;241;43m=\u001b[39;49m\u001b[43mcache_folder\u001b[49m\u001b[43m,\u001b[49m\u001b[43m \u001b[49m\u001b[43mbackend\u001b[49m\u001b[38;5;241;43m=\u001b[39;49m\u001b[38;5;28;43mself\u001b[39;49m\u001b[38;5;241;43m.\u001b[39;49m\u001b[43mbackend\u001b[49m\u001b[43m,\u001b[49m\u001b[43m \u001b[49m\u001b[38;5;241;43m*\u001b[39;49m\u001b[38;5;241;43m*\u001b[39;49m\u001b[43mkwargs\u001b[49m\u001b[43m)\u001b[49m\n\u001b[0;32m   1729\u001b[0m \u001b[38;5;28;01mexcept\u001b[39;00m \u001b[38;5;167;01mTypeError\u001b[39;00m:\n\u001b[0;32m   1730\u001b[0m     module \u001b[38;5;241m=\u001b[39m module_class\u001b[38;5;241m.\u001b[39mload(model_name_or_path)\n",
      "File \u001b[1;32mc:\\Users\\Thinkpad\\AppData\\Local\\Programs\\Python\\Python312\\Lib\\site-packages\\sentence_transformers\\models\\Transformer.py:78\u001b[0m, in \u001b[0;36mTransformer.__init__\u001b[1;34m(self, model_name_or_path, max_seq_length, model_args, tokenizer_args, config_args, cache_dir, do_lower_case, tokenizer_name_or_path, backend)\u001b[0m\n\u001b[0;32m     75\u001b[0m     config_args \u001b[38;5;241m=\u001b[39m {}\n\u001b[0;32m     77\u001b[0m config \u001b[38;5;241m=\u001b[39m \u001b[38;5;28mself\u001b[39m\u001b[38;5;241m.\u001b[39m_load_config(model_name_or_path, cache_dir, backend, config_args)\n\u001b[1;32m---> 78\u001b[0m \u001b[38;5;28;43mself\u001b[39;49m\u001b[38;5;241;43m.\u001b[39;49m\u001b[43m_load_model\u001b[49m\u001b[43m(\u001b[49m\u001b[43mmodel_name_or_path\u001b[49m\u001b[43m,\u001b[49m\u001b[43m \u001b[49m\u001b[43mconfig\u001b[49m\u001b[43m,\u001b[49m\u001b[43m \u001b[49m\u001b[43mcache_dir\u001b[49m\u001b[43m,\u001b[49m\u001b[43m \u001b[49m\u001b[43mbackend\u001b[49m\u001b[43m,\u001b[49m\u001b[43m \u001b[49m\u001b[38;5;241;43m*\u001b[39;49m\u001b[38;5;241;43m*\u001b[39;49m\u001b[43mmodel_args\u001b[49m\u001b[43m)\u001b[49m\n\u001b[0;32m     80\u001b[0m \u001b[38;5;28;01mif\u001b[39;00m max_seq_length \u001b[38;5;129;01mis\u001b[39;00m \u001b[38;5;129;01mnot\u001b[39;00m \u001b[38;5;28;01mNone\u001b[39;00m \u001b[38;5;129;01mand\u001b[39;00m \u001b[38;5;124m\"\u001b[39m\u001b[38;5;124mmodel_max_length\u001b[39m\u001b[38;5;124m\"\u001b[39m \u001b[38;5;129;01mnot\u001b[39;00m \u001b[38;5;129;01min\u001b[39;00m tokenizer_args:\n\u001b[0;32m     81\u001b[0m     tokenizer_args[\u001b[38;5;124m\"\u001b[39m\u001b[38;5;124mmodel_max_length\u001b[39m\u001b[38;5;124m\"\u001b[39m] \u001b[38;5;241m=\u001b[39m max_seq_length\n",
      "File \u001b[1;32mc:\\Users\\Thinkpad\\AppData\\Local\\Programs\\Python\\Python312\\Lib\\site-packages\\sentence_transformers\\models\\Transformer.py:138\u001b[0m, in \u001b[0;36mTransformer._load_model\u001b[1;34m(self, model_name_or_path, config, cache_dir, backend, **model_args)\u001b[0m\n\u001b[0;32m    136\u001b[0m         \u001b[38;5;28mself\u001b[39m\u001b[38;5;241m.\u001b[39m_load_mt5_model(model_name_or_path, config, cache_dir, \u001b[38;5;241m*\u001b[39m\u001b[38;5;241m*\u001b[39mmodel_args)\n\u001b[0;32m    137\u001b[0m     \u001b[38;5;28;01melse\u001b[39;00m:\n\u001b[1;32m--> 138\u001b[0m         \u001b[38;5;28mself\u001b[39m\u001b[38;5;241m.\u001b[39mauto_model \u001b[38;5;241m=\u001b[39m \u001b[43mAutoModel\u001b[49m\u001b[38;5;241;43m.\u001b[39;49m\u001b[43mfrom_pretrained\u001b[49m\u001b[43m(\u001b[49m\n\u001b[0;32m    139\u001b[0m \u001b[43m            \u001b[49m\u001b[43mmodel_name_or_path\u001b[49m\u001b[43m,\u001b[49m\u001b[43m \u001b[49m\u001b[43mconfig\u001b[49m\u001b[38;5;241;43m=\u001b[39;49m\u001b[43mconfig\u001b[49m\u001b[43m,\u001b[49m\u001b[43m \u001b[49m\u001b[43mcache_dir\u001b[49m\u001b[38;5;241;43m=\u001b[39;49m\u001b[43mcache_dir\u001b[49m\u001b[43m,\u001b[49m\u001b[43m \u001b[49m\u001b[38;5;241;43m*\u001b[39;49m\u001b[38;5;241;43m*\u001b[39;49m\u001b[43mmodel_args\u001b[49m\n\u001b[0;32m    140\u001b[0m \u001b[43m        \u001b[49m\u001b[43m)\u001b[49m\n\u001b[0;32m    141\u001b[0m     \u001b[38;5;28mself\u001b[39m\u001b[38;5;241m.\u001b[39m_load_peft_model(model_name_or_path, config, cache_dir, \u001b[38;5;241m*\u001b[39m\u001b[38;5;241m*\u001b[39mmodel_args)\n\u001b[0;32m    142\u001b[0m \u001b[38;5;28;01melif\u001b[39;00m backend \u001b[38;5;241m==\u001b[39m \u001b[38;5;124m\"\u001b[39m\u001b[38;5;124monnx\u001b[39m\u001b[38;5;124m\"\u001b[39m:\n",
      "File \u001b[1;32mc:\\Users\\Thinkpad\\AppData\\Local\\Programs\\Python\\Python312\\Lib\\site-packages\\transformers\\models\\auto\\auto_factory.py:564\u001b[0m, in \u001b[0;36m_BaseAutoModelClass.from_pretrained\u001b[1;34m(cls, pretrained_model_name_or_path, *model_args, **kwargs)\u001b[0m\n\u001b[0;32m    562\u001b[0m \u001b[38;5;28;01melif\u001b[39;00m \u001b[38;5;28mtype\u001b[39m(config) \u001b[38;5;129;01min\u001b[39;00m \u001b[38;5;28mcls\u001b[39m\u001b[38;5;241m.\u001b[39m_model_mapping\u001b[38;5;241m.\u001b[39mkeys():\n\u001b[0;32m    563\u001b[0m     model_class \u001b[38;5;241m=\u001b[39m _get_model_class(config, \u001b[38;5;28mcls\u001b[39m\u001b[38;5;241m.\u001b[39m_model_mapping)\n\u001b[1;32m--> 564\u001b[0m     \u001b[38;5;28;01mreturn\u001b[39;00m \u001b[43mmodel_class\u001b[49m\u001b[38;5;241;43m.\u001b[39;49m\u001b[43mfrom_pretrained\u001b[49m\u001b[43m(\u001b[49m\n\u001b[0;32m    565\u001b[0m \u001b[43m        \u001b[49m\u001b[43mpretrained_model_name_or_path\u001b[49m\u001b[43m,\u001b[49m\u001b[43m \u001b[49m\u001b[38;5;241;43m*\u001b[39;49m\u001b[43mmodel_args\u001b[49m\u001b[43m,\u001b[49m\u001b[43m \u001b[49m\u001b[43mconfig\u001b[49m\u001b[38;5;241;43m=\u001b[39;49m\u001b[43mconfig\u001b[49m\u001b[43m,\u001b[49m\u001b[43m \u001b[49m\u001b[38;5;241;43m*\u001b[39;49m\u001b[38;5;241;43m*\u001b[39;49m\u001b[43mhub_kwargs\u001b[49m\u001b[43m,\u001b[49m\u001b[43m \u001b[49m\u001b[38;5;241;43m*\u001b[39;49m\u001b[38;5;241;43m*\u001b[39;49m\u001b[43mkwargs\u001b[49m\n\u001b[0;32m    566\u001b[0m \u001b[43m    \u001b[49m\u001b[43m)\u001b[49m\n\u001b[0;32m    567\u001b[0m \u001b[38;5;28;01mraise\u001b[39;00m \u001b[38;5;167;01mValueError\u001b[39;00m(\n\u001b[0;32m    568\u001b[0m     \u001b[38;5;124mf\u001b[39m\u001b[38;5;124m\"\u001b[39m\u001b[38;5;124mUnrecognized configuration class \u001b[39m\u001b[38;5;132;01m{\u001b[39;00mconfig\u001b[38;5;241m.\u001b[39m\u001b[38;5;18m__class__\u001b[39m\u001b[38;5;132;01m}\u001b[39;00m\u001b[38;5;124m for this kind of AutoModel: \u001b[39m\u001b[38;5;132;01m{\u001b[39;00m\u001b[38;5;28mcls\u001b[39m\u001b[38;5;241m.\u001b[39m\u001b[38;5;18m__name__\u001b[39m\u001b[38;5;132;01m}\u001b[39;00m\u001b[38;5;124m.\u001b[39m\u001b[38;5;130;01m\\n\u001b[39;00m\u001b[38;5;124m\"\u001b[39m\n\u001b[0;32m    569\u001b[0m     \u001b[38;5;124mf\u001b[39m\u001b[38;5;124m\"\u001b[39m\u001b[38;5;124mModel type should be one of \u001b[39m\u001b[38;5;132;01m{\u001b[39;00m\u001b[38;5;124m'\u001b[39m\u001b[38;5;124m, \u001b[39m\u001b[38;5;124m'\u001b[39m\u001b[38;5;241m.\u001b[39mjoin(c\u001b[38;5;241m.\u001b[39m\u001b[38;5;18m__name__\u001b[39m\u001b[38;5;250m \u001b[39m\u001b[38;5;28;01mfor\u001b[39;00m\u001b[38;5;250m \u001b[39mc\u001b[38;5;250m \u001b[39m\u001b[38;5;129;01min\u001b[39;00m\u001b[38;5;250m \u001b[39m\u001b[38;5;28mcls\u001b[39m\u001b[38;5;241m.\u001b[39m_model_mapping\u001b[38;5;241m.\u001b[39mkeys())\u001b[38;5;132;01m}\u001b[39;00m\u001b[38;5;124m.\u001b[39m\u001b[38;5;124m\"\u001b[39m\n\u001b[0;32m    570\u001b[0m )\n",
      "File \u001b[1;32mc:\\Users\\Thinkpad\\AppData\\Local\\Programs\\Python\\Python312\\Lib\\site-packages\\transformers\\modeling_utils.py:3825\u001b[0m, in \u001b[0;36mPreTrainedModel.from_pretrained\u001b[1;34m(cls, pretrained_model_name_or_path, config, cache_dir, ignore_mismatched_sizes, force_download, local_files_only, token, revision, use_safetensors, weights_only, *model_args, **kwargs)\u001b[0m\n\u001b[0;32m   3809\u001b[0m \u001b[38;5;28;01mtry\u001b[39;00m:\n\u001b[0;32m   3810\u001b[0m     \u001b[38;5;66;03m# Load from URL or cache if already cached\u001b[39;00m\n\u001b[0;32m   3811\u001b[0m     cached_file_kwargs \u001b[38;5;241m=\u001b[39m {\n\u001b[0;32m   3812\u001b[0m         \u001b[38;5;124m\"\u001b[39m\u001b[38;5;124mcache_dir\u001b[39m\u001b[38;5;124m\"\u001b[39m: cache_dir,\n\u001b[0;32m   3813\u001b[0m         \u001b[38;5;124m\"\u001b[39m\u001b[38;5;124mforce_download\u001b[39m\u001b[38;5;124m\"\u001b[39m: force_download,\n\u001b[1;32m   (...)\u001b[0m\n\u001b[0;32m   3823\u001b[0m         \u001b[38;5;124m\"\u001b[39m\u001b[38;5;124m_commit_hash\u001b[39m\u001b[38;5;124m\"\u001b[39m: commit_hash,\n\u001b[0;32m   3824\u001b[0m     }\n\u001b[1;32m-> 3825\u001b[0m     resolved_archive_file \u001b[38;5;241m=\u001b[39m \u001b[43mcached_file\u001b[49m\u001b[43m(\u001b[49m\u001b[43mpretrained_model_name_or_path\u001b[49m\u001b[43m,\u001b[49m\u001b[43m \u001b[49m\u001b[43mfilename\u001b[49m\u001b[43m,\u001b[49m\u001b[43m \u001b[49m\u001b[38;5;241;43m*\u001b[39;49m\u001b[38;5;241;43m*\u001b[39;49m\u001b[43mcached_file_kwargs\u001b[49m\u001b[43m)\u001b[49m\n\u001b[0;32m   3827\u001b[0m     \u001b[38;5;66;03m# Since we set _raise_exceptions_for_missing_entries=False, we don't get an exception but a None\u001b[39;00m\n\u001b[0;32m   3828\u001b[0m     \u001b[38;5;66;03m# result when internet is up, the repo and revision exist, but the file does not.\u001b[39;00m\n\u001b[0;32m   3829\u001b[0m     \u001b[38;5;28;01mif\u001b[39;00m resolved_archive_file \u001b[38;5;129;01mis\u001b[39;00m \u001b[38;5;28;01mNone\u001b[39;00m \u001b[38;5;129;01mand\u001b[39;00m filename \u001b[38;5;241m==\u001b[39m _add_variant(SAFE_WEIGHTS_NAME, variant):\n\u001b[0;32m   3830\u001b[0m         \u001b[38;5;66;03m# Maybe the checkpoint is sharded, we try to grab the index name in this case.\u001b[39;00m\n",
      "File \u001b[1;32mc:\\Users\\Thinkpad\\AppData\\Local\\Programs\\Python\\Python312\\Lib\\site-packages\\transformers\\utils\\hub.py:403\u001b[0m, in \u001b[0;36mcached_file\u001b[1;34m(path_or_repo_id, filename, cache_dir, force_download, resume_download, proxies, token, revision, local_files_only, subfolder, repo_type, user_agent, _raise_exceptions_for_gated_repo, _raise_exceptions_for_missing_entries, _raise_exceptions_for_connection_errors, _commit_hash, **deprecated_kwargs)\u001b[0m\n\u001b[0;32m    400\u001b[0m user_agent \u001b[38;5;241m=\u001b[39m http_user_agent(user_agent)\n\u001b[0;32m    401\u001b[0m \u001b[38;5;28;01mtry\u001b[39;00m:\n\u001b[0;32m    402\u001b[0m     \u001b[38;5;66;03m# Load from URL or cache if already cached\u001b[39;00m\n\u001b[1;32m--> 403\u001b[0m     resolved_file \u001b[38;5;241m=\u001b[39m \u001b[43mhf_hub_download\u001b[49m\u001b[43m(\u001b[49m\n\u001b[0;32m    404\u001b[0m \u001b[43m        \u001b[49m\u001b[43mpath_or_repo_id\u001b[49m\u001b[43m,\u001b[49m\n\u001b[0;32m    405\u001b[0m \u001b[43m        \u001b[49m\u001b[43mfilename\u001b[49m\u001b[43m,\u001b[49m\n\u001b[0;32m    406\u001b[0m \u001b[43m        \u001b[49m\u001b[43msubfolder\u001b[49m\u001b[38;5;241;43m=\u001b[39;49m\u001b[38;5;28;43;01mNone\u001b[39;49;00m\u001b[43m \u001b[49m\u001b[38;5;28;43;01mif\u001b[39;49;00m\u001b[43m \u001b[49m\u001b[38;5;28;43mlen\u001b[39;49m\u001b[43m(\u001b[49m\u001b[43msubfolder\u001b[49m\u001b[43m)\u001b[49m\u001b[43m \u001b[49m\u001b[38;5;241;43m==\u001b[39;49m\u001b[43m \u001b[49m\u001b[38;5;241;43m0\u001b[39;49m\u001b[43m \u001b[49m\u001b[38;5;28;43;01melse\u001b[39;49;00m\u001b[43m \u001b[49m\u001b[43msubfolder\u001b[49m\u001b[43m,\u001b[49m\n\u001b[0;32m    407\u001b[0m \u001b[43m        \u001b[49m\u001b[43mrepo_type\u001b[49m\u001b[38;5;241;43m=\u001b[39;49m\u001b[43mrepo_type\u001b[49m\u001b[43m,\u001b[49m\n\u001b[0;32m    408\u001b[0m \u001b[43m        \u001b[49m\u001b[43mrevision\u001b[49m\u001b[38;5;241;43m=\u001b[39;49m\u001b[43mrevision\u001b[49m\u001b[43m,\u001b[49m\n\u001b[0;32m    409\u001b[0m \u001b[43m        \u001b[49m\u001b[43mcache_dir\u001b[49m\u001b[38;5;241;43m=\u001b[39;49m\u001b[43mcache_dir\u001b[49m\u001b[43m,\u001b[49m\n\u001b[0;32m    410\u001b[0m \u001b[43m        \u001b[49m\u001b[43muser_agent\u001b[49m\u001b[38;5;241;43m=\u001b[39;49m\u001b[43muser_agent\u001b[49m\u001b[43m,\u001b[49m\n\u001b[0;32m    411\u001b[0m \u001b[43m        \u001b[49m\u001b[43mforce_download\u001b[49m\u001b[38;5;241;43m=\u001b[39;49m\u001b[43mforce_download\u001b[49m\u001b[43m,\u001b[49m\n\u001b[0;32m    412\u001b[0m \u001b[43m        \u001b[49m\u001b[43mproxies\u001b[49m\u001b[38;5;241;43m=\u001b[39;49m\u001b[43mproxies\u001b[49m\u001b[43m,\u001b[49m\n\u001b[0;32m    413\u001b[0m \u001b[43m        \u001b[49m\u001b[43mresume_download\u001b[49m\u001b[38;5;241;43m=\u001b[39;49m\u001b[43mresume_download\u001b[49m\u001b[43m,\u001b[49m\n\u001b[0;32m    414\u001b[0m \u001b[43m        \u001b[49m\u001b[43mtoken\u001b[49m\u001b[38;5;241;43m=\u001b[39;49m\u001b[43mtoken\u001b[49m\u001b[43m,\u001b[49m\n\u001b[0;32m    415\u001b[0m \u001b[43m        \u001b[49m\u001b[43mlocal_files_only\u001b[49m\u001b[38;5;241;43m=\u001b[39;49m\u001b[43mlocal_files_only\u001b[49m\u001b[43m,\u001b[49m\n\u001b[0;32m    416\u001b[0m \u001b[43m    \u001b[49m\u001b[43m)\u001b[49m\n\u001b[0;32m    417\u001b[0m \u001b[38;5;28;01mexcept\u001b[39;00m GatedRepoError \u001b[38;5;28;01mas\u001b[39;00m e:\n\u001b[0;32m    418\u001b[0m     resolved_file \u001b[38;5;241m=\u001b[39m _get_cache_file_to_return(path_or_repo_id, full_filename, cache_dir, revision)\n",
      "File \u001b[1;32mc:\\Users\\Thinkpad\\AppData\\Local\\Programs\\Python\\Python312\\Lib\\site-packages\\huggingface_hub\\utils\\_validators.py:114\u001b[0m, in \u001b[0;36mvalidate_hf_hub_args.<locals>._inner_fn\u001b[1;34m(*args, **kwargs)\u001b[0m\n\u001b[0;32m    111\u001b[0m \u001b[38;5;28;01mif\u001b[39;00m check_use_auth_token:\n\u001b[0;32m    112\u001b[0m     kwargs \u001b[38;5;241m=\u001b[39m smoothly_deprecate_use_auth_token(fn_name\u001b[38;5;241m=\u001b[39mfn\u001b[38;5;241m.\u001b[39m\u001b[38;5;18m__name__\u001b[39m, has_token\u001b[38;5;241m=\u001b[39mhas_token, kwargs\u001b[38;5;241m=\u001b[39mkwargs)\n\u001b[1;32m--> 114\u001b[0m \u001b[38;5;28;01mreturn\u001b[39;00m \u001b[43mfn\u001b[49m\u001b[43m(\u001b[49m\u001b[38;5;241;43m*\u001b[39;49m\u001b[43margs\u001b[49m\u001b[43m,\u001b[49m\u001b[43m \u001b[49m\u001b[38;5;241;43m*\u001b[39;49m\u001b[38;5;241;43m*\u001b[39;49m\u001b[43mkwargs\u001b[49m\u001b[43m)\u001b[49m\n",
      "File \u001b[1;32mc:\\Users\\Thinkpad\\AppData\\Local\\Programs\\Python\\Python312\\Lib\\site-packages\\huggingface_hub\\file_download.py:860\u001b[0m, in \u001b[0;36mhf_hub_download\u001b[1;34m(repo_id, filename, subfolder, repo_type, revision, library_name, library_version, cache_dir, local_dir, user_agent, force_download, proxies, etag_timeout, token, local_files_only, headers, endpoint, resume_download, force_filename, local_dir_use_symlinks)\u001b[0m\n\u001b[0;32m    840\u001b[0m     \u001b[38;5;28;01mreturn\u001b[39;00m _hf_hub_download_to_local_dir(\n\u001b[0;32m    841\u001b[0m         \u001b[38;5;66;03m# Destination\u001b[39;00m\n\u001b[0;32m    842\u001b[0m         local_dir\u001b[38;5;241m=\u001b[39mlocal_dir,\n\u001b[1;32m   (...)\u001b[0m\n\u001b[0;32m    857\u001b[0m         local_files_only\u001b[38;5;241m=\u001b[39mlocal_files_only,\n\u001b[0;32m    858\u001b[0m     )\n\u001b[0;32m    859\u001b[0m \u001b[38;5;28;01melse\u001b[39;00m:\n\u001b[1;32m--> 860\u001b[0m     \u001b[38;5;28;01mreturn\u001b[39;00m \u001b[43m_hf_hub_download_to_cache_dir\u001b[49m\u001b[43m(\u001b[49m\n\u001b[0;32m    861\u001b[0m \u001b[43m        \u001b[49m\u001b[38;5;66;43;03m# Destination\u001b[39;49;00m\n\u001b[0;32m    862\u001b[0m \u001b[43m        \u001b[49m\u001b[43mcache_dir\u001b[49m\u001b[38;5;241;43m=\u001b[39;49m\u001b[43mcache_dir\u001b[49m\u001b[43m,\u001b[49m\n\u001b[0;32m    863\u001b[0m \u001b[43m        \u001b[49m\u001b[38;5;66;43;03m# File info\u001b[39;49;00m\n\u001b[0;32m    864\u001b[0m \u001b[43m        \u001b[49m\u001b[43mrepo_id\u001b[49m\u001b[38;5;241;43m=\u001b[39;49m\u001b[43mrepo_id\u001b[49m\u001b[43m,\u001b[49m\n\u001b[0;32m    865\u001b[0m \u001b[43m        \u001b[49m\u001b[43mfilename\u001b[49m\u001b[38;5;241;43m=\u001b[39;49m\u001b[43mfilename\u001b[49m\u001b[43m,\u001b[49m\n\u001b[0;32m    866\u001b[0m \u001b[43m        \u001b[49m\u001b[43mrepo_type\u001b[49m\u001b[38;5;241;43m=\u001b[39;49m\u001b[43mrepo_type\u001b[49m\u001b[43m,\u001b[49m\n\u001b[0;32m    867\u001b[0m \u001b[43m        \u001b[49m\u001b[43mrevision\u001b[49m\u001b[38;5;241;43m=\u001b[39;49m\u001b[43mrevision\u001b[49m\u001b[43m,\u001b[49m\n\u001b[0;32m    868\u001b[0m \u001b[43m        \u001b[49m\u001b[38;5;66;43;03m# HTTP info\u001b[39;49;00m\n\u001b[0;32m    869\u001b[0m \u001b[43m        \u001b[49m\u001b[43mendpoint\u001b[49m\u001b[38;5;241;43m=\u001b[39;49m\u001b[43mendpoint\u001b[49m\u001b[43m,\u001b[49m\n\u001b[0;32m    870\u001b[0m \u001b[43m        \u001b[49m\u001b[43metag_timeout\u001b[49m\u001b[38;5;241;43m=\u001b[39;49m\u001b[43metag_timeout\u001b[49m\u001b[43m,\u001b[49m\n\u001b[0;32m    871\u001b[0m \u001b[43m        \u001b[49m\u001b[43mheaders\u001b[49m\u001b[38;5;241;43m=\u001b[39;49m\u001b[43mhf_headers\u001b[49m\u001b[43m,\u001b[49m\n\u001b[0;32m    872\u001b[0m \u001b[43m        \u001b[49m\u001b[43mproxies\u001b[49m\u001b[38;5;241;43m=\u001b[39;49m\u001b[43mproxies\u001b[49m\u001b[43m,\u001b[49m\n\u001b[0;32m    873\u001b[0m \u001b[43m        \u001b[49m\u001b[43mtoken\u001b[49m\u001b[38;5;241;43m=\u001b[39;49m\u001b[43mtoken\u001b[49m\u001b[43m,\u001b[49m\n\u001b[0;32m    874\u001b[0m \u001b[43m        \u001b[49m\u001b[38;5;66;43;03m# Additional options\u001b[39;49;00m\n\u001b[0;32m    875\u001b[0m \u001b[43m        \u001b[49m\u001b[43mlocal_files_only\u001b[49m\u001b[38;5;241;43m=\u001b[39;49m\u001b[43mlocal_files_only\u001b[49m\u001b[43m,\u001b[49m\n\u001b[0;32m    876\u001b[0m \u001b[43m        \u001b[49m\u001b[43mforce_download\u001b[49m\u001b[38;5;241;43m=\u001b[39;49m\u001b[43mforce_download\u001b[49m\u001b[43m,\u001b[49m\n\u001b[0;32m    877\u001b[0m \u001b[43m    \u001b[49m\u001b[43m)\u001b[49m\n",
      "File \u001b[1;32mc:\\Users\\Thinkpad\\AppData\\Local\\Programs\\Python\\Python312\\Lib\\site-packages\\huggingface_hub\\file_download.py:1009\u001b[0m, in \u001b[0;36m_hf_hub_download_to_cache_dir\u001b[1;34m(cache_dir, repo_id, filename, repo_type, revision, endpoint, etag_timeout, headers, proxies, token, local_files_only, force_download)\u001b[0m\n\u001b[0;32m   1007\u001b[0m Path(lock_path)\u001b[38;5;241m.\u001b[39mparent\u001b[38;5;241m.\u001b[39mmkdir(parents\u001b[38;5;241m=\u001b[39m\u001b[38;5;28;01mTrue\u001b[39;00m, exist_ok\u001b[38;5;241m=\u001b[39m\u001b[38;5;28;01mTrue\u001b[39;00m)\n\u001b[0;32m   1008\u001b[0m \u001b[38;5;28;01mwith\u001b[39;00m WeakFileLock(lock_path):\n\u001b[1;32m-> 1009\u001b[0m     \u001b[43m_download_to_tmp_and_move\u001b[49m\u001b[43m(\u001b[49m\n\u001b[0;32m   1010\u001b[0m \u001b[43m        \u001b[49m\u001b[43mincomplete_path\u001b[49m\u001b[38;5;241;43m=\u001b[39;49m\u001b[43mPath\u001b[49m\u001b[43m(\u001b[49m\u001b[43mblob_path\u001b[49m\u001b[43m \u001b[49m\u001b[38;5;241;43m+\u001b[39;49m\u001b[43m \u001b[49m\u001b[38;5;124;43m\"\u001b[39;49m\u001b[38;5;124;43m.incomplete\u001b[39;49m\u001b[38;5;124;43m\"\u001b[39;49m\u001b[43m)\u001b[49m\u001b[43m,\u001b[49m\n\u001b[0;32m   1011\u001b[0m \u001b[43m        \u001b[49m\u001b[43mdestination_path\u001b[49m\u001b[38;5;241;43m=\u001b[39;49m\u001b[43mPath\u001b[49m\u001b[43m(\u001b[49m\u001b[43mblob_path\u001b[49m\u001b[43m)\u001b[49m\u001b[43m,\u001b[49m\n\u001b[0;32m   1012\u001b[0m \u001b[43m        \u001b[49m\u001b[43murl_to_download\u001b[49m\u001b[38;5;241;43m=\u001b[39;49m\u001b[43murl_to_download\u001b[49m\u001b[43m,\u001b[49m\n\u001b[0;32m   1013\u001b[0m \u001b[43m        \u001b[49m\u001b[43mproxies\u001b[49m\u001b[38;5;241;43m=\u001b[39;49m\u001b[43mproxies\u001b[49m\u001b[43m,\u001b[49m\n\u001b[0;32m   1014\u001b[0m \u001b[43m        \u001b[49m\u001b[43mheaders\u001b[49m\u001b[38;5;241;43m=\u001b[39;49m\u001b[43mheaders\u001b[49m\u001b[43m,\u001b[49m\n\u001b[0;32m   1015\u001b[0m \u001b[43m        \u001b[49m\u001b[43mexpected_size\u001b[49m\u001b[38;5;241;43m=\u001b[39;49m\u001b[43mexpected_size\u001b[49m\u001b[43m,\u001b[49m\n\u001b[0;32m   1016\u001b[0m \u001b[43m        \u001b[49m\u001b[43mfilename\u001b[49m\u001b[38;5;241;43m=\u001b[39;49m\u001b[43mfilename\u001b[49m\u001b[43m,\u001b[49m\n\u001b[0;32m   1017\u001b[0m \u001b[43m        \u001b[49m\u001b[43mforce_download\u001b[49m\u001b[38;5;241;43m=\u001b[39;49m\u001b[43mforce_download\u001b[49m\u001b[43m,\u001b[49m\n\u001b[0;32m   1018\u001b[0m \u001b[43m    \u001b[49m\u001b[43m)\u001b[49m\n\u001b[0;32m   1019\u001b[0m     \u001b[38;5;28;01mif\u001b[39;00m \u001b[38;5;129;01mnot\u001b[39;00m os\u001b[38;5;241m.\u001b[39mpath\u001b[38;5;241m.\u001b[39mexists(pointer_path):\n\u001b[0;32m   1020\u001b[0m         _create_symlink(blob_path, pointer_path, new_blob\u001b[38;5;241m=\u001b[39m\u001b[38;5;28;01mTrue\u001b[39;00m)\n",
      "File \u001b[1;32mc:\\Users\\Thinkpad\\AppData\\Local\\Programs\\Python\\Python312\\Lib\\site-packages\\huggingface_hub\\file_download.py:1543\u001b[0m, in \u001b[0;36m_download_to_tmp_and_move\u001b[1;34m(incomplete_path, destination_path, url_to_download, proxies, headers, expected_size, filename, force_download)\u001b[0m\n\u001b[0;32m   1540\u001b[0m         _check_disk_space(expected_size, incomplete_path\u001b[38;5;241m.\u001b[39mparent)\n\u001b[0;32m   1541\u001b[0m         _check_disk_space(expected_size, destination_path\u001b[38;5;241m.\u001b[39mparent)\n\u001b[1;32m-> 1543\u001b[0m     \u001b[43mhttp_get\u001b[49m\u001b[43m(\u001b[49m\n\u001b[0;32m   1544\u001b[0m \u001b[43m        \u001b[49m\u001b[43murl_to_download\u001b[49m\u001b[43m,\u001b[49m\n\u001b[0;32m   1545\u001b[0m \u001b[43m        \u001b[49m\u001b[43mf\u001b[49m\u001b[43m,\u001b[49m\n\u001b[0;32m   1546\u001b[0m \u001b[43m        \u001b[49m\u001b[43mproxies\u001b[49m\u001b[38;5;241;43m=\u001b[39;49m\u001b[43mproxies\u001b[49m\u001b[43m,\u001b[49m\n\u001b[0;32m   1547\u001b[0m \u001b[43m        \u001b[49m\u001b[43mresume_size\u001b[49m\u001b[38;5;241;43m=\u001b[39;49m\u001b[43mresume_size\u001b[49m\u001b[43m,\u001b[49m\n\u001b[0;32m   1548\u001b[0m \u001b[43m        \u001b[49m\u001b[43mheaders\u001b[49m\u001b[38;5;241;43m=\u001b[39;49m\u001b[43mheaders\u001b[49m\u001b[43m,\u001b[49m\n\u001b[0;32m   1549\u001b[0m \u001b[43m        \u001b[49m\u001b[43mexpected_size\u001b[49m\u001b[38;5;241;43m=\u001b[39;49m\u001b[43mexpected_size\u001b[49m\u001b[43m,\u001b[49m\n\u001b[0;32m   1550\u001b[0m \u001b[43m    \u001b[49m\u001b[43m)\u001b[49m\n\u001b[0;32m   1552\u001b[0m logger\u001b[38;5;241m.\u001b[39minfo(\u001b[38;5;124mf\u001b[39m\u001b[38;5;124m\"\u001b[39m\u001b[38;5;124mDownload complete. Moving file to \u001b[39m\u001b[38;5;132;01m{\u001b[39;00mdestination_path\u001b[38;5;132;01m}\u001b[39;00m\u001b[38;5;124m\"\u001b[39m)\n\u001b[0;32m   1553\u001b[0m _chmod_and_move(incomplete_path, destination_path)\n",
      "File \u001b[1;32mc:\\Users\\Thinkpad\\AppData\\Local\\Programs\\Python\\Python312\\Lib\\site-packages\\huggingface_hub\\file_download.py:452\u001b[0m, in \u001b[0;36mhttp_get\u001b[1;34m(url, temp_file, proxies, resume_size, headers, expected_size, displayed_filename, _nb_retries, _tqdm_bar)\u001b[0m\n\u001b[0;32m    450\u001b[0m new_resume_size \u001b[38;5;241m=\u001b[39m resume_size\n\u001b[0;32m    451\u001b[0m \u001b[38;5;28;01mtry\u001b[39;00m:\n\u001b[1;32m--> 452\u001b[0m \u001b[43m    \u001b[49m\u001b[38;5;28;43;01mfor\u001b[39;49;00m\u001b[43m \u001b[49m\u001b[43mchunk\u001b[49m\u001b[43m \u001b[49m\u001b[38;5;129;43;01min\u001b[39;49;00m\u001b[43m \u001b[49m\u001b[43mr\u001b[49m\u001b[38;5;241;43m.\u001b[39;49m\u001b[43miter_content\u001b[49m\u001b[43m(\u001b[49m\u001b[43mchunk_size\u001b[49m\u001b[38;5;241;43m=\u001b[39;49m\u001b[43mconstants\u001b[49m\u001b[38;5;241;43m.\u001b[39;49m\u001b[43mDOWNLOAD_CHUNK_SIZE\u001b[49m\u001b[43m)\u001b[49m\u001b[43m:\u001b[49m\n\u001b[0;32m    453\u001b[0m \u001b[43m        \u001b[49m\u001b[38;5;28;43;01mif\u001b[39;49;00m\u001b[43m \u001b[49m\u001b[43mchunk\u001b[49m\u001b[43m:\u001b[49m\u001b[43m  \u001b[49m\u001b[38;5;66;43;03m# filter out keep-alive new chunks\u001b[39;49;00m\n\u001b[0;32m    454\u001b[0m \u001b[43m            \u001b[49m\u001b[43mprogress\u001b[49m\u001b[38;5;241;43m.\u001b[39;49m\u001b[43mupdate\u001b[49m\u001b[43m(\u001b[49m\u001b[38;5;28;43mlen\u001b[39;49m\u001b[43m(\u001b[49m\u001b[43mchunk\u001b[49m\u001b[43m)\u001b[49m\u001b[43m)\u001b[49m\n",
      "File \u001b[1;32mc:\\Users\\Thinkpad\\AppData\\Local\\Programs\\Python\\Python312\\Lib\\site-packages\\requests\\models.py:822\u001b[0m, in \u001b[0;36mResponse.iter_content.<locals>.generate\u001b[1;34m()\u001b[0m\n\u001b[0;32m    820\u001b[0m     \u001b[38;5;28;01myield from\u001b[39;00m \u001b[38;5;28mself\u001b[39m\u001b[38;5;241m.\u001b[39mraw\u001b[38;5;241m.\u001b[39mstream(chunk_size, decode_content\u001b[38;5;241m=\u001b[39m\u001b[38;5;28;01mTrue\u001b[39;00m)\n\u001b[0;32m    821\u001b[0m \u001b[38;5;28;01mexcept\u001b[39;00m ProtocolError \u001b[38;5;28;01mas\u001b[39;00m e:\n\u001b[1;32m--> 822\u001b[0m     \u001b[38;5;28;01mraise\u001b[39;00m ChunkedEncodingError(e)\n\u001b[0;32m    823\u001b[0m \u001b[38;5;28;01mexcept\u001b[39;00m DecodeError \u001b[38;5;28;01mas\u001b[39;00m e:\n\u001b[0;32m    824\u001b[0m     \u001b[38;5;28;01mraise\u001b[39;00m ContentDecodingError(e)\n",
      "\u001b[1;31mChunkedEncodingError\u001b[0m: ('Connection broken: IncompleteRead(23642650 bytes read, 67225723 more expected)', IncompleteRead(23642650 bytes read, 67225723 more expected))"
     ]
    }
   ],
   "source": [
    "from sentence_transformers import SentenceTransformer\n",
    "import pandas as pd\n",
    "import numpy as np\n",
    "\n",
    "# Initialize the pre-trained model\n",
    "model = SentenceTransformer('paraphrase-MiniLM-L6-v2')\n",
    "# Generate embeddings for the 'keywords' column\n",
    "def generate_embeddings(keywords_list, model):\n",
    "    # Generate embeddings for the list of keywords\n",
    "    embeddings = model.encode(keywords_list, show_progress_bar=True)\n",
    "    return embeddings\n",
    "\n",
    "# Apply embedding generation\n",
    "df['keywords_embedding'] = generate_embeddings(df['keywords'].tolist(), model)\n",
    "\n",
    "# Expand embeddings into separate columns\n",
    "embedding_dim = len(df['keywords_embedding'][0])\n",
    "embeddings_df = pd.DataFrame(df['keywords_embedding'].to_list(), columns=[f'keyword_emb_{i}' for i in range(embedding_dim)])\n",
    "\n",
    "# Combine the embeddings with the original DataFrame\n",
    "df = pd.concat([df, embeddings_df], axis=1)\n",
    "\n",
    "# Drop the original 'keywords_embedding' column (optional)\n",
    "df.drop(columns=['keywords_embedding'], inplace=True)\n",
    "\n",
    "# Output the final DataFrame\n",
    "print(df.head())"
   ]
  }
 ],
 "metadata": {
  "kernelspec": {
   "display_name": "Python 3",
   "language": "python",
   "name": "python3"
  },
  "language_info": {
   "codemirror_mode": {
    "name": "ipython",
    "version": 3
   },
   "file_extension": ".py",
   "mimetype": "text/x-python",
   "name": "python",
   "nbconvert_exporter": "python",
   "pygments_lexer": "ipython3",
   "version": "3.12.3"
  }
 },
 "nbformat": 4,
 "nbformat_minor": 2
}
