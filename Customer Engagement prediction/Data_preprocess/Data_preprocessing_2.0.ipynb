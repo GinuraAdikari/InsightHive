{
 "cells": [
  {
   "cell_type": "markdown",
   "metadata": {},
   "source": [
    "### Importing relavent libraries\n"
   ]
  },
  {
   "cell_type": "code",
   "execution_count": 2,
   "metadata": {},
   "outputs": [],
   "source": [
    "import pandas as pd\n",
    "import seaborn as sns"
   ]
  },
  {
   "cell_type": "code",
   "execution_count": 3,
   "metadata": {},
   "outputs": [],
   "source": [
    "# Load the dataset\n",
    "df = pd.read_csv(\"../Datasets/Marketing campaign dataset.csv\")"
   ]
  },
  {
   "cell_type": "code",
   "execution_count": 4,
   "metadata": {},
   "outputs": [
    {
     "data": {
      "text/html": [
       "<div>\n",
       "<style scoped>\n",
       "    .dataframe tbody tr th:only-of-type {\n",
       "        vertical-align: middle;\n",
       "    }\n",
       "\n",
       "    .dataframe tbody tr th {\n",
       "        vertical-align: top;\n",
       "    }\n",
       "\n",
       "    .dataframe thead th {\n",
       "        text-align: right;\n",
       "    }\n",
       "</style>\n",
       "<table border=\"1\" class=\"dataframe\">\n",
       "  <thead>\n",
       "    <tr style=\"text-align: right;\">\n",
       "      <th></th>\n",
       "      <th>campaign_item_id</th>\n",
       "      <th>no_of_days</th>\n",
       "      <th>time</th>\n",
       "      <th>ext_service_id</th>\n",
       "      <th>ext_service_name</th>\n",
       "      <th>creative_id</th>\n",
       "      <th>creative_width</th>\n",
       "      <th>creative_height</th>\n",
       "      <th>search_tags</th>\n",
       "      <th>template_id</th>\n",
       "      <th>...</th>\n",
       "      <th>exchange_rate</th>\n",
       "      <th>media_cost_usd</th>\n",
       "      <th>position_in_content</th>\n",
       "      <th>unique_reach</th>\n",
       "      <th>total_reach</th>\n",
       "      <th>search_tag_cat</th>\n",
       "      <th>cmi_currency_code</th>\n",
       "      <th>timezone</th>\n",
       "      <th>weekday_cat</th>\n",
       "      <th>keywords</th>\n",
       "    </tr>\n",
       "  </thead>\n",
       "  <tbody>\n",
       "    <tr>\n",
       "      <th>0</th>\n",
       "      <td>2733</td>\n",
       "      <td>7</td>\n",
       "      <td>2022-05-01</td>\n",
       "      <td>128</td>\n",
       "      <td>Facebook Ads</td>\n",
       "      <td>1000</td>\n",
       "      <td>300.0</td>\n",
       "      <td>250.0</td>\n",
       "      <td>#The Power of X</td>\n",
       "      <td>90.0</td>\n",
       "      <td>...</td>\n",
       "      <td>1</td>\n",
       "      <td>14.058514</td>\n",
       "      <td>NaN</td>\n",
       "      <td>NaN</td>\n",
       "      <td>NaN</td>\n",
       "      <td>Others</td>\n",
       "      <td>SGD</td>\n",
       "      <td>Asia/Singapore</td>\n",
       "      <td>week_end</td>\n",
       "      <td>delicate bracelets</td>\n",
       "    </tr>\n",
       "    <tr>\n",
       "      <th>1</th>\n",
       "      <td>2733</td>\n",
       "      <td>8</td>\n",
       "      <td>2022-05-02</td>\n",
       "      <td>16</td>\n",
       "      <td>DV360</td>\n",
       "      <td>1000</td>\n",
       "      <td>300.0</td>\n",
       "      <td>250.0</td>\n",
       "      <td>#Be Bold. Be X</td>\n",
       "      <td>90.0</td>\n",
       "      <td>...</td>\n",
       "      <td>1</td>\n",
       "      <td>99.633496</td>\n",
       "      <td>NaN</td>\n",
       "      <td>NaN</td>\n",
       "      <td>NaN</td>\n",
       "      <td>Others</td>\n",
       "      <td>SGD</td>\n",
       "      <td>Asia/Singapore</td>\n",
       "      <td>week_day</td>\n",
       "      <td>summer jewelry</td>\n",
       "    </tr>\n",
       "    <tr>\n",
       "      <th>2</th>\n",
       "      <td>2733</td>\n",
       "      <td>9</td>\n",
       "      <td>2022-05-03</td>\n",
       "      <td>128</td>\n",
       "      <td>Facebook Ads</td>\n",
       "      <td>1000</td>\n",
       "      <td>300.0</td>\n",
       "      <td>250.0</td>\n",
       "      <td>#Embrace Your Individuality with X</td>\n",
       "      <td>90.0</td>\n",
       "      <td>...</td>\n",
       "      <td>1</td>\n",
       "      <td>109.419677</td>\n",
       "      <td>NaN</td>\n",
       "      <td>NaN</td>\n",
       "      <td>NaN</td>\n",
       "      <td>Others</td>\n",
       "      <td>SGD</td>\n",
       "      <td>Asia/Singapore</td>\n",
       "      <td>week_day</td>\n",
       "      <td>artisan jewelry</td>\n",
       "    </tr>\n",
       "    <tr>\n",
       "      <th>3</th>\n",
       "      <td>2733</td>\n",
       "      <td>10</td>\n",
       "      <td>2022-05-04</td>\n",
       "      <td>128</td>\n",
       "      <td>Facebook Ads</td>\n",
       "      <td>1000</td>\n",
       "      <td>300.0</td>\n",
       "      <td>250.0</td>\n",
       "      <td>#Be Bold. Be X</td>\n",
       "      <td>90.0</td>\n",
       "      <td>...</td>\n",
       "      <td>1</td>\n",
       "      <td>115.209499</td>\n",
       "      <td>NaN</td>\n",
       "      <td>NaN</td>\n",
       "      <td>NaN</td>\n",
       "      <td>Others</td>\n",
       "      <td>SGD</td>\n",
       "      <td>Asia/Singapore</td>\n",
       "      <td>week_day</td>\n",
       "      <td>layered bracelets</td>\n",
       "    </tr>\n",
       "    <tr>\n",
       "      <th>4</th>\n",
       "      <td>2733</td>\n",
       "      <td>11</td>\n",
       "      <td>2022-05-05</td>\n",
       "      <td>4</td>\n",
       "      <td>Google Ads</td>\n",
       "      <td>1000</td>\n",
       "      <td>300.0</td>\n",
       "      <td>250.0</td>\n",
       "      <td>#Be Bold. Be X</td>\n",
       "      <td>90.0</td>\n",
       "      <td>...</td>\n",
       "      <td>1</td>\n",
       "      <td>66.990104</td>\n",
       "      <td>NaN</td>\n",
       "      <td>NaN</td>\n",
       "      <td>NaN</td>\n",
       "      <td>Others</td>\n",
       "      <td>SGD</td>\n",
       "      <td>Asia/Singapore</td>\n",
       "      <td>week_day</td>\n",
       "      <td>minimalist jewelry</td>\n",
       "    </tr>\n",
       "  </tbody>\n",
       "</table>\n",
       "<p>5 rows × 35 columns</p>\n",
       "</div>"
      ],
      "text/plain": [
       "   campaign_item_id  no_of_days        time  ext_service_id ext_service_name  \\\n",
       "0              2733           7  2022-05-01             128     Facebook Ads   \n",
       "1              2733           8  2022-05-02              16            DV360   \n",
       "2              2733           9  2022-05-03             128     Facebook Ads   \n",
       "3              2733          10  2022-05-04             128     Facebook Ads   \n",
       "4              2733          11  2022-05-05               4       Google Ads   \n",
       "\n",
       "   creative_id  creative_width  creative_height  \\\n",
       "0         1000           300.0            250.0   \n",
       "1         1000           300.0            250.0   \n",
       "2         1000           300.0            250.0   \n",
       "3         1000           300.0            250.0   \n",
       "4         1000           300.0            250.0   \n",
       "\n",
       "                          search_tags  template_id  ... exchange_rate  \\\n",
       "0                     #The Power of X         90.0  ...             1   \n",
       "1                      #Be Bold. Be X         90.0  ...             1   \n",
       "2  #Embrace Your Individuality with X         90.0  ...             1   \n",
       "3                      #Be Bold. Be X         90.0  ...             1   \n",
       "4                      #Be Bold. Be X         90.0  ...             1   \n",
       "\n",
       "   media_cost_usd position_in_content  unique_reach  total_reach  \\\n",
       "0       14.058514                 NaN           NaN          NaN   \n",
       "1       99.633496                 NaN           NaN          NaN   \n",
       "2      109.419677                 NaN           NaN          NaN   \n",
       "3      115.209499                 NaN           NaN          NaN   \n",
       "4       66.990104                 NaN           NaN          NaN   \n",
       "\n",
       "  search_tag_cat  cmi_currency_code        timezone  weekday_cat  \\\n",
       "0         Others                SGD  Asia/Singapore     week_end   \n",
       "1         Others                SGD  Asia/Singapore     week_day   \n",
       "2         Others                SGD  Asia/Singapore     week_day   \n",
       "3         Others                SGD  Asia/Singapore     week_day   \n",
       "4         Others                SGD  Asia/Singapore     week_day   \n",
       "\n",
       "             keywords  \n",
       "0  delicate bracelets  \n",
       "1      summer jewelry  \n",
       "2     artisan jewelry  \n",
       "3   layered bracelets  \n",
       "4  minimalist jewelry  \n",
       "\n",
       "[5 rows x 35 columns]"
      ]
     },
     "execution_count": 4,
     "metadata": {},
     "output_type": "execute_result"
    }
   ],
   "source": [
    "df.head()"
   ]
  },
  {
   "cell_type": "code",
   "execution_count": 5,
   "metadata": {},
   "outputs": [
    {
     "name": "stdout",
     "output_type": "stream",
     "text": [
      "campaign_item_id         int64\n",
      "no_of_days               int64\n",
      "time                    object\n",
      "ext_service_id           int64\n",
      "ext_service_name        object\n",
      "creative_id              int64\n",
      "creative_width         float64\n",
      "creative_height        float64\n",
      "search_tags             object\n",
      "template_id            float64\n",
      "landing_page            object\n",
      "advertiser_id            int64\n",
      "advertiser_name         object\n",
      "network_id               int64\n",
      "approved_budget        float64\n",
      "advertiser_currency     object\n",
      "channel_id               int64\n",
      "channel_name            object\n",
      "max_bid_cpm            float64\n",
      "network_margin         float64\n",
      "campaign_budget_usd    float64\n",
      "impressions              int64\n",
      "clicks                   int64\n",
      "stats_currency          object\n",
      "currency_code           object\n",
      "exchange_rate            int64\n",
      "media_cost_usd         float64\n",
      "position_in_content    float64\n",
      "unique_reach           float64\n",
      "total_reach            float64\n",
      "search_tag_cat          object\n",
      "cmi_currency_code       object\n",
      "timezone                object\n",
      "weekday_cat             object\n",
      "keywords                object\n",
      "dtype: object\n"
     ]
    }
   ],
   "source": [
    "print(df.dtypes)"
   ]
  },
  {
   "cell_type": "markdown",
   "metadata": {},
   "source": [
    "#### Check for null values"
   ]
  },
  {
   "cell_type": "code",
   "execution_count": 6,
   "metadata": {},
   "outputs": [
    {
     "name": "stdout",
     "output_type": "stream",
     "text": [
      "campaign_item_id           0\n",
      "no_of_days                 0\n",
      "time                       0\n",
      "ext_service_id             0\n",
      "ext_service_name           0\n",
      "creative_id                0\n",
      "creative_width          3412\n",
      "creative_height         3412\n",
      "search_tags                0\n",
      "template_id             3412\n",
      "landing_page               0\n",
      "advertiser_id              0\n",
      "advertiser_name            0\n",
      "network_id                 0\n",
      "approved_budget          406\n",
      "advertiser_currency        0\n",
      "channel_id                 0\n",
      "channel_name               0\n",
      "max_bid_cpm            65206\n",
      "network_margin             0\n",
      "campaign_budget_usd        0\n",
      "impressions                0\n",
      "clicks                     0\n",
      "stats_currency             0\n",
      "currency_code              0\n",
      "exchange_rate              0\n",
      "media_cost_usd             0\n",
      "position_in_content    72612\n",
      "unique_reach           72612\n",
      "total_reach            72612\n",
      "search_tag_cat             0\n",
      "cmi_currency_code          0\n",
      "timezone                   0\n",
      "weekday_cat                0\n",
      "keywords                   0\n",
      "dtype: int64 72612\n"
     ]
    }
   ],
   "source": [
    "print(df.isnull().sum(), len(df))"
   ]
  },
  {
   "cell_type": "markdown",
   "metadata": {},
   "source": [
    "#### Removing 3 columns which are completely null"
   ]
  },
  {
   "cell_type": "code",
   "execution_count": 7,
   "metadata": {},
   "outputs": [],
   "source": [
    "df = df.drop(columns=['total_reach','unique_reach','position_in_content','max_bid_cpm'])"
   ]
  },
  {
   "cell_type": "markdown",
   "metadata": {},
   "source": [
    "#### Changing the creative columns to one column"
   ]
  },
  {
   "cell_type": "code",
   "execution_count": 8,
   "metadata": {},
   "outputs": [
    {
     "data": {
      "text/plain": [
       "array([300.,   0.,  nan])"
      ]
     },
     "execution_count": 8,
     "metadata": {},
     "output_type": "execute_result"
    }
   ],
   "source": [
    "df['creative_height'].unique()\n",
    "df['creative_width'].unique()"
   ]
  },
  {
   "cell_type": "code",
   "execution_count": 9,
   "metadata": {},
   "outputs": [],
   "source": [
    "df['creative_dimension'] = df['creative_height'] * df['creative_width']\n",
    "df = df.drop(columns=['creative_height','creative_width'])"
   ]
  },
  {
   "cell_type": "code",
   "execution_count": 40,
   "metadata": {},
   "outputs": [
    {
     "name": "stdout",
     "output_type": "stream",
     "text": [
      "campaign_item_id                0\n",
      "no_of_days                      0\n",
      "time                            0\n",
      "ext_service_id                  0\n",
      "ext_service_name                0\n",
      "search_tags                     0\n",
      "template_id                     0\n",
      "landing_page                    0\n",
      "advertiser_id                   0\n",
      "advertiser_name                 0\n",
      "network_id                      0\n",
      "approved_budget               320\n",
      "advertiser_currency             0\n",
      "channel_id                      0\n",
      "channel_name                    0\n",
      "network_margin                  0\n",
      "campaign_budget_usd             0\n",
      "clicks                          0\n",
      "stats_currency                  0\n",
      "currency_code                   0\n",
      "exchange_rate                   0\n",
      "media_cost_usd                  0\n",
      "cmi_currency_code               0\n",
      "timezone                        0\n",
      "weekday_cat                     0\n",
      "keywords                        0\n",
      "creative_dimension              0\n",
      "campaign_index                  0\n",
      "day_of_week                     0\n",
      "month                           0\n",
      "day_of_year                     0\n",
      "day_of_week_sin                 0\n",
      "day_of_week_cos                 0\n",
      "month_sin                       0\n",
      "month_cos                       0\n",
      "ext_service_combined            0\n",
      "ext_service_combined_label      0\n",
      "normalized_impressions          0\n",
      "search_cat_Affinity             0\n",
      "search_cat_Inmarket             0\n",
      "search_cat_Others               0\n",
      "search_cat_Retargeting          0\n",
      "search_cat_Youtube              0\n",
      "dtype: int64 69200\n"
     ]
    }
   ],
   "source": [
    "print(df.isnull().sum(), len(df))"
   ]
  },
  {
   "cell_type": "code",
   "execution_count": 11,
   "metadata": {},
   "outputs": [
    {
     "data": {
      "text/plain": [
       "array([90., 23., 92., 89., 93., nan])"
      ]
     },
     "execution_count": 11,
     "metadata": {},
     "output_type": "execute_result"
    }
   ],
   "source": [
    "df['template_id'].unique()"
   ]
  },
  {
   "cell_type": "markdown",
   "metadata": {},
   "source": [
    "##### Leaving template as it is"
   ]
  },
  {
   "cell_type": "code",
   "execution_count": 12,
   "metadata": {},
   "outputs": [
    {
     "data": {
      "text/plain": [
       "array([75000.,     0.,    nan])"
      ]
     },
     "execution_count": 12,
     "metadata": {},
     "output_type": "execute_result"
    }
   ],
   "source": [
    "df['creative_dimension'].unique()"
   ]
  },
  {
   "cell_type": "code",
   "execution_count": 13,
   "metadata": {},
   "outputs": [
    {
     "data": {
      "text/plain": [
       "array([ 1000,  1005,  1010, ..., 15595, 15600, 15605], dtype=int64)"
      ]
     },
     "execution_count": 13,
     "metadata": {},
     "output_type": "execute_result"
    }
   ],
   "source": [
    "df['creative_id'].unique()"
   ]
  },
  {
   "cell_type": "code",
   "execution_count": 14,
   "metadata": {},
   "outputs": [],
   "source": [
    "df = df.drop(columns=['creative_id'])"
   ]
  },
  {
   "cell_type": "code",
   "execution_count": 15,
   "metadata": {},
   "outputs": [
    {
     "name": "stdout",
     "output_type": "stream",
     "text": [
      "   campaign_item_id  no_of_days        time  ext_service_id ext_service_name  \\\n",
      "0              2733           7  2022-05-01             128     Facebook Ads   \n",
      "1              2733           8  2022-05-02              16            DV360   \n",
      "2              2733           9  2022-05-03             128     Facebook Ads   \n",
      "3              2733          10  2022-05-04             128     Facebook Ads   \n",
      "4              2733          11  2022-05-05               4       Google Ads   \n",
      "\n",
      "                          search_tags  template_id  \\\n",
      "0                     #The Power of X         90.0   \n",
      "1                      #Be Bold. Be X         90.0   \n",
      "2  #Embrace Your Individuality with X         90.0   \n",
      "3                      #Be Bold. Be X         90.0   \n",
      "4                      #Be Bold. Be X         90.0   \n",
      "\n",
      "                                        landing_page  advertiser_id  \\\n",
      "0  https://www.abcjewelry.com/collections/boho-je...           4756   \n",
      "1  https://www.abcjewelry.com/women/costume-jewelry/           4756   \n",
      "2  https://www.abcjewelry.com/collections/boho-je...           4756   \n",
      "3  https://www.abcjewelry.com/collections/rhinest...           4756   \n",
      "4  https://www.abcjewelry.com/collections/boho-je...           4756   \n",
      "\n",
      "  advertiser_name  ...  stats_currency  currency_code exchange_rate  \\\n",
      "0             Web  ...             SGD            SGD             1   \n",
      "1             Web  ...             SGD            SGD             1   \n",
      "2             Web  ...             SGD            SGD             1   \n",
      "3             Web  ...             SGD            SGD             1   \n",
      "4             Web  ...             SGD            SGD             1   \n",
      "\n",
      "   media_cost_usd search_tag_cat  cmi_currency_code        timezone  \\\n",
      "0       14.058514         Others                SGD  Asia/Singapore   \n",
      "1       99.633496         Others                SGD  Asia/Singapore   \n",
      "2      109.419677         Others                SGD  Asia/Singapore   \n",
      "3      115.209499         Others                SGD  Asia/Singapore   \n",
      "4       66.990104         Others                SGD  Asia/Singapore   \n",
      "\n",
      "   weekday_cat            keywords creative_dimension  \n",
      "0     week_end  delicate bracelets            75000.0  \n",
      "1     week_day      summer jewelry            75000.0  \n",
      "2     week_day     artisan jewelry            75000.0  \n",
      "3     week_day   layered bracelets            75000.0  \n",
      "4     week_day  minimalist jewelry            75000.0  \n",
      "\n",
      "[5 rows x 29 columns]\n"
     ]
    }
   ],
   "source": [
    "# Remove rows where 'creative_dimension' is null (NaN)\n",
    "df = df.dropna(subset=['creative_dimension'])\n",
    "\n",
    "# Check the cleaned dataframe\n",
    "print(df.head())"
   ]
  },
  {
   "cell_type": "code",
   "execution_count": 16,
   "metadata": {},
   "outputs": [
    {
     "data": {
      "text/plain": [
       "(69200, 29)"
      ]
     },
     "execution_count": 16,
     "metadata": {},
     "output_type": "execute_result"
    }
   ],
   "source": [
    "df.shape"
   ]
  },
  {
   "cell_type": "code",
   "execution_count": 17,
   "metadata": {},
   "outputs": [
    {
     "data": {
      "text/plain": [
       "<Axes: xlabel='template_id', ylabel='creative_dimension'>"
      ]
     },
     "execution_count": 17,
     "metadata": {},
     "output_type": "execute_result"
    },
    {
     "data": {
      "image/png": "[encoded data removed]",
      "text/plain": [
       "<Figure size 640x480 with 1 Axes>"
      ]
     },
     "metadata": {},
     "output_type": "display_data"
    }
   ],
   "source": [
    "sns.boxplot(x=df['template_id'], y=df['creative_dimension'])"
   ]
  },
  {
   "cell_type": "markdown",
   "metadata": {},
   "source": [
    "#### Campaign id"
   ]
  },
  {
   "cell_type": "code",
   "execution_count": 18,
   "metadata": {},
   "outputs": [
    {
     "data": {
      "text/plain": [
       "array([2733, 2766, 2802, 2850, 2851, 2879, 3223, 3054, 3132, 3150, 3149,\n",
       "       3157, 3153, 3154, 3222, 3220, 3221, 3219, 3173, 3166, 3164, 3165,\n",
       "       2934, 2949, 2950, 2952, 2977, 2980, 2982, 3033, 3034, 3035, 3038,\n",
       "       3039, 3040, 3041, 3050, 3042, 3052, 3053, 3055, 3056, 3045, 3046,\n",
       "       3047, 3048, 3049, 3051, 3057, 3058, 3098, 3099, 3100, 3101, 3102,\n",
       "       3103, 3104, 3107, 3129, 3130, 3131, 3127, 3128, 3133, 3134, 3147,\n",
       "       3148, 3151, 3152, 3155, 3156, 3158, 3159, 3160, 3161, 3162, 3163,\n",
       "       3167, 3168, 3169, 3170, 3171, 3172, 3174, 3175, 3176, 3177, 3178,\n",
       "       3179, 3180, 3181, 3182, 3183, 3184, 3185, 3186, 3187, 3188, 3189,\n",
       "       3190, 3191, 3192, 3193, 3194, 3195, 3196, 3197, 3199, 3200, 3201,\n",
       "       3202, 3204, 3208, 3207, 3209, 3210, 3211, 3212, 3213, 3214, 3215,\n",
       "       3216, 3217, 3218, 3354, 3355, 3389, 3444, 3445, 3486, 3488, 3543,\n",
       "       3545, 3546, 3547, 3557, 3558, 3559, 3719, 3959, 3960], dtype=int64)"
      ]
     },
     "execution_count": 18,
     "metadata": {},
     "output_type": "execute_result"
    }
   ],
   "source": [
    "df['campaign_item_id'].unique()"
   ]
  },
  {
   "cell_type": "markdown",
   "metadata": {},
   "source": [
    "##### Applying embedding to the campaign_id feature. if not the model might miscalculate relationship. "
   ]
  },
  {
   "cell_type": "code",
   "execution_count": 19,
   "metadata": {},
   "outputs": [
    {
     "name": "stdout",
     "output_type": "stream",
     "text": [
      "Embedding Shape: torch.Size([69200, 16])\n"
     ]
    }
   ],
   "source": [
    "import torch\n",
    "import torch.nn as nn\n",
    "\n",
    "# Map each unique campaign_item_id to an index starting from 0\n",
    "id_mapping = {id_: idx for idx, id_ in enumerate(df['campaign_item_id'].unique())}\n",
    "df['campaign_index'] = df['campaign_item_id'].map(id_mapping)\n",
    "\n",
    "# Number of unique campaigns\n",
    "num_campaigns = len(id_mapping)  # Total unique campaign IDs\n",
    "embedding_dim = 16  # Dimensionality of the embedding vectors\n",
    "\n",
    "# Create an embedding layer\n",
    "campaign_embedding = nn.Embedding(num_embeddings=num_campaigns, embedding_dim=embedding_dim)\n",
    "\n",
    "# Convert campaign_index to tensor\n",
    "campaign_indices = torch.tensor(df['campaign_index'].values, dtype=torch.long)\n",
    "\n",
    "# Get the embeddings\n",
    "embedded_campaigns = campaign_embedding(campaign_indices)\n",
    "print(\"Embedding Shape:\", embedded_campaigns.shape)  # Should match (num_samples, embedding_dim)\n"
   ]
  },
  {
   "cell_type": "code",
   "execution_count": 20,
   "metadata": {},
   "outputs": [
    {
     "name": "stdout",
     "output_type": "stream",
     "text": [
      "Campaign ID to Index Mapping:\n",
      "Campaign ID: 2733 -> Campaign Index: 0\n",
      "Campaign ID: 2766 -> Campaign Index: 1\n",
      "Campaign ID: 2802 -> Campaign Index: 2\n",
      "Campaign ID: 2850 -> Campaign Index: 3\n",
      "Campaign ID: 2851 -> Campaign Index: 4\n",
      "Campaign ID: 2879 -> Campaign Index: 5\n",
      "Campaign ID: 3223 -> Campaign Index: 6\n",
      "Campaign ID: 3054 -> Campaign Index: 7\n",
      "Campaign ID: 3132 -> Campaign Index: 8\n",
      "Campaign ID: 3150 -> Campaign Index: 9\n",
      "Campaign ID: 3149 -> Campaign Index: 10\n",
      "Campaign ID: 3157 -> Campaign Index: 11\n",
      "Campaign ID: 3153 -> Campaign Index: 12\n",
      "Campaign ID: 3154 -> Campaign Index: 13\n",
      "Campaign ID: 3222 -> Campaign Index: 14\n",
      "Campaign ID: 3220 -> Campaign Index: 15\n",
      "Campaign ID: 3221 -> Campaign Index: 16\n",
      "Campaign ID: 3219 -> Campaign Index: 17\n",
      "Campaign ID: 3173 -> Campaign Index: 18\n",
      "Campaign ID: 3166 -> Campaign Index: 19\n",
      "Campaign ID: 3164 -> Campaign Index: 20\n",
      "Campaign ID: 3165 -> Campaign Index: 21\n",
      "Campaign ID: 2934 -> Campaign Index: 22\n",
      "Campaign ID: 2949 -> Campaign Index: 23\n",
      "Campaign ID: 2950 -> Campaign Index: 24\n",
      "Campaign ID: 2952 -> Campaign Index: 25\n",
      "Campaign ID: 2977 -> Campaign Index: 26\n",
      "Campaign ID: 2980 -> Campaign Index: 27\n",
      "Campaign ID: 2982 -> Campaign Index: 28\n",
      "Campaign ID: 3033 -> Campaign Index: 29\n",
      "Campaign ID: 3034 -> Campaign Index: 30\n",
      "Campaign ID: 3035 -> Campaign Index: 31\n",
      "Campaign ID: 3038 -> Campaign Index: 32\n",
      "Campaign ID: 3039 -> Campaign Index: 33\n",
      "Campaign ID: 3040 -> Campaign Index: 34\n",
      "Campaign ID: 3041 -> Campaign Index: 35\n",
      "Campaign ID: 3050 -> Campaign Index: 36\n",
      "Campaign ID: 3042 -> Campaign Index: 37\n",
      "Campaign ID: 3052 -> Campaign Index: 38\n",
      "Campaign ID: 3053 -> Campaign Index: 39\n",
      "Campaign ID: 3055 -> Campaign Index: 40\n",
      "Campaign ID: 3056 -> Campaign Index: 41\n",
      "Campaign ID: 3045 -> Campaign Index: 42\n",
      "Campaign ID: 3046 -> Campaign Index: 43\n",
      "Campaign ID: 3047 -> Campaign Index: 44\n",
      "Campaign ID: 3048 -> Campaign Index: 45\n",
      "Campaign ID: 3049 -> Campaign Index: 46\n",
      "Campaign ID: 3051 -> Campaign Index: 47\n",
      "Campaign ID: 3057 -> Campaign Index: 48\n",
      "Campaign ID: 3058 -> Campaign Index: 49\n",
      "Campaign ID: 3098 -> Campaign Index: 50\n",
      "Campaign ID: 3099 -> Campaign Index: 51\n",
      "Campaign ID: 3100 -> Campaign Index: 52\n",
      "Campaign ID: 3101 -> Campaign Index: 53\n",
      "Campaign ID: 3102 -> Campaign Index: 54\n",
      "Campaign ID: 3103 -> Campaign Index: 55\n",
      "Campaign ID: 3104 -> Campaign Index: 56\n",
      "Campaign ID: 3107 -> Campaign Index: 57\n",
      "Campaign ID: 3129 -> Campaign Index: 58\n",
      "Campaign ID: 3130 -> Campaign Index: 59\n",
      "Campaign ID: 3131 -> Campaign Index: 60\n",
      "Campaign ID: 3127 -> Campaign Index: 61\n",
      "Campaign ID: 3128 -> Campaign Index: 62\n",
      "Campaign ID: 3133 -> Campaign Index: 63\n",
      "Campaign ID: 3134 -> Campaign Index: 64\n",
      "Campaign ID: 3147 -> Campaign Index: 65\n",
      "Campaign ID: 3148 -> Campaign Index: 66\n",
      "Campaign ID: 3151 -> Campaign Index: 67\n",
      "Campaign ID: 3152 -> Campaign Index: 68\n",
      "Campaign ID: 3155 -> Campaign Index: 69\n",
      "Campaign ID: 3156 -> Campaign Index: 70\n",
      "Campaign ID: 3158 -> Campaign Index: 71\n",
      "Campaign ID: 3159 -> Campaign Index: 72\n",
      "Campaign ID: 3160 -> Campaign Index: 73\n",
      "Campaign ID: 3161 -> Campaign Index: 74\n",
      "Campaign ID: 3162 -> Campaign Index: 75\n",
      "Campaign ID: 3163 -> Campaign Index: 76\n",
      "Campaign ID: 3167 -> Campaign Index: 77\n",
      "Campaign ID: 3168 -> Campaign Index: 78\n",
      "Campaign ID: 3169 -> Campaign Index: 79\n",
      "Campaign ID: 3170 -> Campaign Index: 80\n",
      "Campaign ID: 3171 -> Campaign Index: 81\n",
      "Campaign ID: 3172 -> Campaign Index: 82\n",
      "Campaign ID: 3174 -> Campaign Index: 83\n",
      "Campaign ID: 3175 -> Campaign Index: 84\n",
      "Campaign ID: 3176 -> Campaign Index: 85\n",
      "Campaign ID: 3177 -> Campaign Index: 86\n",
      "Campaign ID: 3178 -> Campaign Index: 87\n",
      "Campaign ID: 3179 -> Campaign Index: 88\n",
      "Campaign ID: 3180 -> Campaign Index: 89\n",
      "Campaign ID: 3181 -> Campaign Index: 90\n",
      "Campaign ID: 3182 -> Campaign Index: 91\n",
      "Campaign ID: 3183 -> Campaign Index: 92\n",
      "Campaign ID: 3184 -> Campaign Index: 93\n",
      "Campaign ID: 3185 -> Campaign Index: 94\n",
      "Campaign ID: 3186 -> Campaign Index: 95\n",
      "Campaign ID: 3187 -> Campaign Index: 96\n",
      "Campaign ID: 3188 -> Campaign Index: 97\n",
      "Campaign ID: 3189 -> Campaign Index: 98\n",
      "Campaign ID: 3190 -> Campaign Index: 99\n",
      "Campaign ID: 3191 -> Campaign Index: 100\n",
      "Campaign ID: 3192 -> Campaign Index: 101\n",
      "Campaign ID: 3193 -> Campaign Index: 102\n",
      "Campaign ID: 3194 -> Campaign Index: 103\n",
      "Campaign ID: 3195 -> Campaign Index: 104\n",
      "Campaign ID: 3196 -> Campaign Index: 105\n",
      "Campaign ID: 3197 -> Campaign Index: 106\n",
      "Campaign ID: 3199 -> Campaign Index: 107\n",
      "Campaign ID: 3200 -> Campaign Index: 108\n",
      "Campaign ID: 3201 -> Campaign Index: 109\n",
      "Campaign ID: 3202 -> Campaign Index: 110\n",
      "Campaign ID: 3204 -> Campaign Index: 111\n",
      "Campaign ID: 3208 -> Campaign Index: 112\n",
      "Campaign ID: 3207 -> Campaign Index: 113\n",
      "Campaign ID: 3209 -> Campaign Index: 114\n",
      "Campaign ID: 3210 -> Campaign Index: 115\n",
      "Campaign ID: 3211 -> Campaign Index: 116\n",
      "Campaign ID: 3212 -> Campaign Index: 117\n",
      "Campaign ID: 3213 -> Campaign Index: 118\n",
      "Campaign ID: 3214 -> Campaign Index: 119\n",
      "Campaign ID: 3215 -> Campaign Index: 120\n",
      "Campaign ID: 3216 -> Campaign Index: 121\n",
      "Campaign ID: 3217 -> Campaign Index: 122\n",
      "Campaign ID: 3218 -> Campaign Index: 123\n",
      "Campaign ID: 3354 -> Campaign Index: 124\n",
      "Campaign ID: 3355 -> Campaign Index: 125\n",
      "Campaign ID: 3389 -> Campaign Index: 126\n",
      "Campaign ID: 3444 -> Campaign Index: 127\n",
      "Campaign ID: 3445 -> Campaign Index: 128\n",
      "Campaign ID: 3486 -> Campaign Index: 129\n",
      "Campaign ID: 3488 -> Campaign Index: 130\n",
      "Campaign ID: 3543 -> Campaign Index: 131\n",
      "Campaign ID: 3545 -> Campaign Index: 132\n",
      "Campaign ID: 3546 -> Campaign Index: 133\n",
      "Campaign ID: 3547 -> Campaign Index: 134\n",
      "Campaign ID: 3557 -> Campaign Index: 135\n",
      "Campaign ID: 3558 -> Campaign Index: 136\n",
      "Campaign ID: 3559 -> Campaign Index: 137\n",
      "Campaign ID: 3719 -> Campaign Index: 138\n",
      "Campaign ID: 3959 -> Campaign Index: 139\n",
      "Campaign ID: 3960 -> Campaign Index: 140\n"
     ]
    }
   ],
   "source": [
    "# Print the mapping dictionary\n",
    "print(\"Campaign ID to Index Mapping:\")\n",
    "for campaign_id, campaign_index in id_mapping.items():\n",
    "    print(f\"Campaign ID: {campaign_id} -> Campaign Index: {campaign_index}\")\n"
   ]
  },
  {
   "cell_type": "markdown",
   "metadata": {},
   "source": [
    "#### Number of days"
   ]
  },
  {
   "cell_type": "code",
   "execution_count": 21,
   "metadata": {},
   "outputs": [
    {
     "name": "stdout",
     "output_type": "stream",
     "text": [
      "Minimum Impressions: 0\n",
      "Maximum Impressions: 118\n"
     ]
    }
   ],
   "source": [
    "days = df['no_of_days']\n",
    "\n",
    "# Calculate the minimum and maximum values\n",
    "min_days = days.min()\n",
    "max_days = days.max()\n",
    "\n",
    "print(f\"Minimum days: {min_days}\")\n",
    "print(f\"Maximum days: {max_days}\")"
   ]
  },
  {
   "cell_type": "markdown",
   "metadata": {},
   "source": [
    "##### Normalizing this will be a good option for GNN"
   ]
  },
  {
   "cell_type": "code",
   "execution_count": 22,
   "metadata": {},
   "outputs": [
    {
     "name": "stdout",
     "output_type": "stream",
     "text": [
      "   no_of_days\n",
      "0    0.059322\n",
      "1    0.067797\n",
      "2    0.076271\n",
      "3    0.084746\n",
      "4    0.093220\n"
     ]
    }
   ],
   "source": [
    "from sklearn.preprocessing import MinMaxScaler\n",
    "\n",
    "# Initialize the scaler\n",
    "scaler = MinMaxScaler()\n",
    "\n",
    "# Normalize the 'impressions' column\n",
    "df['no_of_days'] = scaler.fit_transform(df[['no_of_days']])\n",
    "\n",
    "# Check the result\n",
    "print(df[['no_of_days']].head())"
   ]
  },
  {
   "cell_type": "markdown",
   "metadata": {},
   "source": [
    "#### Time and Week_cat\n"
   ]
  },
  {
   "cell_type": "code",
   "execution_count": 23,
   "metadata": {},
   "outputs": [
    {
     "name": "stdout",
     "output_type": "stream",
     "text": [
      "         time\n",
      "0  2022-05-01\n",
      "1  2022-05-02\n",
      "2  2022-05-03\n",
      "3  2022-05-04\n",
      "4  2022-05-05\n"
     ]
    }
   ],
   "source": [
    "print(df[['time']].head())"
   ]
  },
  {
   "cell_type": "markdown",
   "metadata": {},
   "source": [
    "##### Extract date components from time"
   ]
  },
  {
   "cell_type": "code",
   "execution_count": 24,
   "metadata": {},
   "outputs": [
    {
     "name": "stdout",
     "output_type": "stream",
     "text": [
      "        time  day_of_week  month  day_of_year\n",
      "0 2022-05-01            6      5          121\n",
      "1 2022-05-02            0      5          122\n",
      "2 2022-05-03            1      5          123\n",
      "3 2022-05-04            2      5          124\n",
      "4 2022-05-05            3      5          125\n"
     ]
    }
   ],
   "source": [
    "# Convert the 'time' column to datetime format if it's not already\n",
    "df['time'] = pd.to_datetime(df['time'])\n",
    "\n",
    "# Extract day of the week (0=Monday, 6=Sunday)\n",
    "df['day_of_week'] = df['time'].dt.dayofweek\n",
    "\n",
    "# Extract month (1=January, 12=December)\n",
    "df['month'] = df['time'].dt.month\n",
    "\n",
    "# Extract day of the year (1-365/366)\n",
    "df['day_of_year'] = df['time'].dt.dayofyear\n",
    "\n",
    "# Display the new date-related columns\n",
    "print(df[['time', 'day_of_week', 'month', 'day_of_year']].head())\n"
   ]
  },
  {
   "cell_type": "markdown",
   "metadata": {},
   "source": [
    "##### Applying cyclic feature for better relationship"
   ]
  },
  {
   "cell_type": "code",
   "execution_count": 25,
   "metadata": {},
   "outputs": [
    {
     "name": "stdout",
     "output_type": "stream",
     "text": [
      "        time  day_of_week_sin  day_of_week_cos  month_sin  month_cos\n",
      "0 2022-05-01        -0.781831         0.623490        0.5  -0.866025\n",
      "1 2022-05-02         0.000000         1.000000        0.5  -0.866025\n",
      "2 2022-05-03         0.781831         0.623490        0.5  -0.866025\n",
      "3 2022-05-04         0.974928        -0.222521        0.5  -0.866025\n",
      "4 2022-05-05         0.433884        -0.900969        0.5  -0.866025\n"
     ]
    }
   ],
   "source": [
    "import numpy as np\n",
    "\n",
    "# Apply sine and cosine transformations to cyclic features\n",
    "df['day_of_week_sin'] = np.sin(2 * np.pi * df['day_of_week'] / 7)\n",
    "df['day_of_week_cos'] = np.cos(2 * np.pi * df['day_of_week'] / 7)\n",
    "\n",
    "df['month_sin'] = np.sin(2 * np.pi * df['month'] / 12)\n",
    "df['month_cos'] = np.cos(2 * np.pi * df['month'] / 12)\n",
    "\n",
    "# Display the encoded columns\n",
    "print(df[['time', 'day_of_week_sin', 'day_of_week_cos', 'month_sin', 'month_cos']].head())\n",
    "\n"
   ]
  },
  {
   "cell_type": "markdown",
   "metadata": {},
   "source": [
    "##### oneHot encoding the week_cat"
   ]
  },
  {
   "cell_type": "code",
   "execution_count": 26,
   "metadata": {},
   "outputs": [],
   "source": [
    "# # Apply one-hot encoding to only 'weekday_cat' in the original DataFrame\n",
    "# df = pd.get_dummies(df, columns=['weekday_cat'], drop_first=False)\n",
    "\n",
    "# # Inspect the new columns created by get_dummies to confirm column names\n",
    "# print(df.columns)\n",
    "\n",
    "# # Now, we'll use the exact column names created by get_dummies\n",
    "# df['weekend'] = df['weekday_cat_weekend'].astype(int)\n",
    "# df['weekday'] = df['weekday_cat_weekday'].astype(int)\n",
    "\n",
    "# # Drop the original columns created by get_dummies\n",
    "# df = df.drop(columns=['weekday_cat_weekend', 'weekday_cat_weekday'])\n",
    "\n",
    "# # Print the resulting DataFrame\n",
    "# print(df)"
   ]
  },
  {
   "cell_type": "markdown",
   "metadata": {},
   "source": [
    "#### Plateform of the advertisement"
   ]
  },
  {
   "cell_type": "code",
   "execution_count": 27,
   "metadata": {},
   "outputs": [
    {
     "data": {
      "text/plain": [
       "array(['Facebook Ads', 'DV360', 'Google Ads'], dtype=object)"
      ]
     },
     "execution_count": 27,
     "metadata": {},
     "output_type": "execute_result"
    }
   ],
   "source": [
    "df['ext_service_id'].unique()\n",
    "df['ext_service_name'].unique()"
   ]
  },
  {
   "cell_type": "markdown",
   "metadata": {},
   "source": [
    "##### Checking whether both are inter connected"
   ]
  },
  {
   "cell_type": "code",
   "execution_count": 28,
   "metadata": {},
   "outputs": [
    {
     "name": "stdout",
     "output_type": "stream",
     "text": [
      "   ext_service_id ext_service_name\n",
      "0             128     Facebook Ads\n",
      "1              16            DV360\n",
      "4               4       Google Ads\n"
     ]
    }
   ],
   "source": [
    "# Create a combined feature by concatenating 'ext_service_id' and 'ext_service_name'\n",
    "combined_feature = df[['ext_service_id', 'ext_service_name']]\n",
    "\n",
    "# Display the unique combinations of the two features\n",
    "unique_combinations = combined_feature.drop_duplicates()\n",
    "print(unique_combinations)"
   ]
  },
  {
   "cell_type": "markdown",
   "metadata": {},
   "source": [
    "#####  We can see theres a connection between id and name. Considering dimnesionality lable encoding is applied"
   ]
  },
  {
   "cell_type": "code",
   "execution_count": 29,
   "metadata": {},
   "outputs": [
    {
     "name": "stdout",
     "output_type": "stream",
     "text": [
      "  ext_service_combined  ext_service_combined_label\n",
      "0     128_Facebook Ads                           0\n",
      "1             16_DV360                           1\n",
      "2     128_Facebook Ads                           0\n",
      "3     128_Facebook Ads                           0\n",
      "4         4_Google Ads                           2\n"
     ]
    }
   ],
   "source": [
    "from sklearn.preprocessing import LabelEncoder\n",
    "\n",
    "# Combine 'ext_service_id' and 'ext_service_name' into a single feature\n",
    "df['ext_service_combined'] = df['ext_service_id'].astype(str) + \"_\" + df['ext_service_name']\n",
    "\n",
    "# Initialize the LabelEncoder\n",
    "label_encoder = LabelEncoder()\n",
    "\n",
    "# Apply label encoding to the combined feature\n",
    "df['ext_service_combined_label'] = label_encoder.fit_transform(df['ext_service_combined'])\n",
    "\n",
    "# Display the first few rows of the updated DataFrame\n",
    "print(df[['ext_service_combined', 'ext_service_combined_label']].head())\n"
   ]
  },
  {
   "cell_type": "code",
   "execution_count": 30,
   "metadata": {},
   "outputs": [
    {
     "data": {
      "text/plain": [
       "(69200, 39)"
      ]
     },
     "execution_count": 30,
     "metadata": {},
     "output_type": "execute_result"
    }
   ],
   "source": [
    "df.shape"
   ]
  },
  {
   "cell_type": "code",
   "execution_count": 31,
   "metadata": {},
   "outputs": [
    {
     "data": {
      "image/png": "[encoded data removed]",
      "text/plain": [
       "<Figure size 1000x600 with 1 Axes>"
      ]
     },
     "metadata": {},
     "output_type": "display_data"
    }
   ],
   "source": [
    "import matplotlib.pyplot as plt\n",
    "\n",
    "plt.figure(figsize=(10, 6))\n",
    "plt.scatter(df['campaign_item_id'], df['clicks'], alpha=0.5)\n",
    "plt.title('Scatter Plot of Campaign ID vs. Clicks')\n",
    "plt.xlabel('Campaign ID')\n",
    "plt.ylabel('Clicks')\n",
    "plt.show()"
   ]
  },
  {
   "cell_type": "code",
   "execution_count": 32,
   "metadata": {},
   "outputs": [
    {
     "name": "stdout",
     "output_type": "stream",
     "text": [
      "0         837\n",
      "1        2634\n",
      "2        2135\n",
      "3        2327\n",
      "4        1538\n",
      "         ... \n",
      "69195    1274\n",
      "69196    1210\n",
      "69197    1153\n",
      "69198    1156\n",
      "69199     590\n",
      "Name: impressions, Length: 69200, dtype: int64\n"
     ]
    }
   ],
   "source": [
    "print(df['impressions'])"
   ]
  },
  {
   "cell_type": "code",
   "execution_count": 33,
   "metadata": {},
   "outputs": [
    {
     "name": "stdout",
     "output_type": "stream",
     "text": [
      "Minimum Impressions: 511\n",
      "Maximum Impressions: 153959\n"
     ]
    }
   ],
   "source": [
    "impressions = df['impressions']\n",
    "\n",
    "# Calculate the minimum and maximum values\n",
    "min_impressions = impressions.min()\n",
    "max_impressions = impressions.max()\n",
    "\n",
    "print(f\"Minimum Impressions: {min_impressions}\")\n",
    "print(f\"Maximum Impressions: {max_impressions}\")"
   ]
  },
  {
   "cell_type": "markdown",
   "metadata": {},
   "source": [
    "##### Since we have larger different in the min max value. its better to normalize"
   ]
  },
  {
   "cell_type": "code",
   "execution_count": 34,
   "metadata": {},
   "outputs": [
    {
     "name": "stdout",
     "output_type": "stream",
     "text": [
      "   impressions  normalized_impressions\n",
      "0          837                0.002124\n",
      "1         2634                0.013835\n",
      "2         2135                0.010583\n",
      "3         2327                0.011835\n",
      "4         1538                0.006693\n"
     ]
    }
   ],
   "source": [
    "from sklearn.preprocessing import MinMaxScaler\n",
    "\n",
    "# Initialize the scaler\n",
    "scaler = MinMaxScaler()\n",
    "\n",
    "# Normalize the 'impressions' column\n",
    "df['normalized_impressions'] = scaler.fit_transform(df[['impressions']])\n",
    "\n",
    "# Check the result\n",
    "print(df[['impressions', 'normalized_impressions']].head())"
   ]
  },
  {
   "cell_type": "code",
   "execution_count": 35,
   "metadata": {},
   "outputs": [],
   "source": [
    "df = df.drop(columns=['impressions'])"
   ]
  },
  {
   "cell_type": "markdown",
   "metadata": {},
   "source": [
    "#### Search tags"
   ]
  },
  {
   "cell_type": "code",
   "execution_count": 36,
   "metadata": {},
   "outputs": [
    {
     "data": {
      "text/plain": [
       "array(['#The Power of X', '#Be Bold. Be X',\n",
       "       '#Embrace Your Individuality with X',\n",
       "       '#The Ultimate Fashion Statement with X',\n",
       "       '#The X Factor - Fashion for the Fearless', '#Timeless X Style'],\n",
       "      dtype=object)"
      ]
     },
     "execution_count": 36,
     "metadata": {},
     "output_type": "execute_result"
    }
   ],
   "source": [
    "df['search_tags'].unique()"
   ]
  },
  {
   "cell_type": "markdown",
   "metadata": {},
   "source": [
    "#### Perform text embedding for search tags which is most suitable for GNN. then Applying PCA to reduce the dimensionality"
   ]
  },
  {
   "cell_type": "code",
   "execution_count": 37,
   "metadata": {},
   "outputs": [],
   "source": [
    "# from sentence_transformers import SentenceTransformer\n",
    "# import pandas as pd\n",
    "# import numpy as np\n",
    "# from sklearn.decomposition import PCA\n",
    "# from sklearn.preprocessing import StandardScaler\n",
    "\n",
    "# model = SentenceTransformer('all-MiniLM-L6-v2')  # You can choose other models if desired\n",
    "\n",
    "# # Step 3: Generate embeddings for the 'search_tags' column\n",
    "# df['search_tag_embedding'] = df['search_tags'].apply(lambda x: model.encode(x))\n",
    "\n",
    "# # Step 4: Convert embeddings into a separate dataframe (for better inspection and use)\n",
    "# embeddings_df = pd.DataFrame(df['search_tag_embedding'].tolist(), index=df.index)\n",
    "\n",
    "# # Standardize the embeddings\n",
    "# scaler = StandardScaler()\n",
    "# embeddings_scaled = scaler.fit_transform(embeddings_df)\n",
    "\n",
    "# # Apply PCA to reduce dimensionality\n",
    "# pca = PCA(n_components=0.95)  # Retain 95% of variance\n",
    "# embeddings_pca = pca.fit_transform(embeddings_scaled)\n",
    "\n",
    "# # Check the explained variance ratio to confirm the retained variance\n",
    "# print(f\"Explained Variance Ratio: {sum(pca.explained_variance_ratio_):.2f}\")\n",
    "\n",
    "# # Create a new dataframe with the reduced dimensions\n",
    "# embeddings_pca_df = pd.DataFrame(embeddings_pca, columns=[f'PC{i+1}' for i in range(embeddings_pca.shape[1])])\n",
    "\n",
    "# # Optionally, combine the reduced embeddings with the original dataframe\n",
    "# df = pd.concat([df.reset_index(drop=True), embeddings_pca_df], axis=1)\n",
    "\n",
    "# # Drop the original high-dimensional embeddings (optional)\n",
    "# df = df.drop(columns=[col for col in df.columns if 'search_tag_embedding' in col], errors='ignore')\n",
    "\n",
    "# print(df.head())"
   ]
  },
  {
   "cell_type": "code",
   "execution_count": 38,
   "metadata": {},
   "outputs": [
    {
     "data": {
      "text/plain": [
       "array(['Others', 'Youtube', 'Inmarket', 'Retargeting', 'Affinity'],\n",
       "      dtype=object)"
      ]
     },
     "execution_count": 38,
     "metadata": {},
     "output_type": "execute_result"
    }
   ],
   "source": [
    "df['search_tag_cat'].unique()"
   ]
  },
  {
   "cell_type": "markdown",
   "metadata": {},
   "source": [
    "##### Applying One-hot-encoding since theres no proper relationship"
   ]
  },
  {
   "cell_type": "code",
   "execution_count": 39,
   "metadata": {},
   "outputs": [
    {
     "data": {
      "text/html": [
       "<div>\n",
       "<style scoped>\n",
       "    .dataframe tbody tr th:only-of-type {\n",
       "        vertical-align: middle;\n",
       "    }\n",
       "\n",
       "    .dataframe tbody tr th {\n",
       "        vertical-align: top;\n",
       "    }\n",
       "\n",
       "    .dataframe thead th {\n",
       "        text-align: right;\n",
       "    }\n",
       "</style>\n",
       "<table border=\"1\" class=\"dataframe\">\n",
       "  <thead>\n",
       "    <tr style=\"text-align: right;\">\n",
       "      <th></th>\n",
       "      <th>campaign_item_id</th>\n",
       "      <th>no_of_days</th>\n",
       "      <th>time</th>\n",
       "      <th>ext_service_id</th>\n",
       "      <th>ext_service_name</th>\n",
       "      <th>search_tags</th>\n",
       "      <th>template_id</th>\n",
       "      <th>landing_page</th>\n",
       "      <th>advertiser_id</th>\n",
       "      <th>advertiser_name</th>\n",
       "      <th>...</th>\n",
       "      <th>month_sin</th>\n",
       "      <th>month_cos</th>\n",
       "      <th>ext_service_combined</th>\n",
       "      <th>ext_service_combined_label</th>\n",
       "      <th>normalized_impressions</th>\n",
       "      <th>search_cat_Affinity</th>\n",
       "      <th>search_cat_Inmarket</th>\n",
       "      <th>search_cat_Others</th>\n",
       "      <th>search_cat_Retargeting</th>\n",
       "      <th>search_cat_Youtube</th>\n",
       "    </tr>\n",
       "  </thead>\n",
       "  <tbody>\n",
       "    <tr>\n",
       "      <th>0</th>\n",
       "      <td>2733</td>\n",
       "      <td>0.059322</td>\n",
       "      <td>2022-05-01</td>\n",
       "      <td>128</td>\n",
       "      <td>Facebook Ads</td>\n",
       "      <td>#The Power of X</td>\n",
       "      <td>90.0</td>\n",
       "      <td>https://www.abcjewelry.com/collections/boho-je...</td>\n",
       "      <td>4756</td>\n",
       "      <td>Web</td>\n",
       "      <td>...</td>\n",
       "      <td>0.5</td>\n",
       "      <td>-0.866025</td>\n",
       "      <td>128_Facebook Ads</td>\n",
       "      <td>0</td>\n",
       "      <td>0.002124</td>\n",
       "      <td>0</td>\n",
       "      <td>0</td>\n",
       "      <td>1</td>\n",
       "      <td>0</td>\n",
       "      <td>0</td>\n",
       "    </tr>\n",
       "    <tr>\n",
       "      <th>1</th>\n",
       "      <td>2733</td>\n",
       "      <td>0.067797</td>\n",
       "      <td>2022-05-02</td>\n",
       "      <td>16</td>\n",
       "      <td>DV360</td>\n",
       "      <td>#Be Bold. Be X</td>\n",
       "      <td>90.0</td>\n",
       "      <td>https://www.abcjewelry.com/women/costume-jewelry/</td>\n",
       "      <td>4756</td>\n",
       "      <td>Web</td>\n",
       "      <td>...</td>\n",
       "      <td>0.5</td>\n",
       "      <td>-0.866025</td>\n",
       "      <td>16_DV360</td>\n",
       "      <td>1</td>\n",
       "      <td>0.013835</td>\n",
       "      <td>0</td>\n",
       "      <td>0</td>\n",
       "      <td>1</td>\n",
       "      <td>0</td>\n",
       "      <td>0</td>\n",
       "    </tr>\n",
       "    <tr>\n",
       "      <th>2</th>\n",
       "      <td>2733</td>\n",
       "      <td>0.076271</td>\n",
       "      <td>2022-05-03</td>\n",
       "      <td>128</td>\n",
       "      <td>Facebook Ads</td>\n",
       "      <td>#Embrace Your Individuality with X</td>\n",
       "      <td>90.0</td>\n",
       "      <td>https://www.abcjewelry.com/collections/boho-je...</td>\n",
       "      <td>4756</td>\n",
       "      <td>Web</td>\n",
       "      <td>...</td>\n",
       "      <td>0.5</td>\n",
       "      <td>-0.866025</td>\n",
       "      <td>128_Facebook Ads</td>\n",
       "      <td>0</td>\n",
       "      <td>0.010583</td>\n",
       "      <td>0</td>\n",
       "      <td>0</td>\n",
       "      <td>1</td>\n",
       "      <td>0</td>\n",
       "      <td>0</td>\n",
       "    </tr>\n",
       "    <tr>\n",
       "      <th>3</th>\n",
       "      <td>2733</td>\n",
       "      <td>0.084746</td>\n",
       "      <td>2022-05-04</td>\n",
       "      <td>128</td>\n",
       "      <td>Facebook Ads</td>\n",
       "      <td>#Be Bold. Be X</td>\n",
       "      <td>90.0</td>\n",
       "      <td>https://www.abcjewelry.com/collections/rhinest...</td>\n",
       "      <td>4756</td>\n",
       "      <td>Web</td>\n",
       "      <td>...</td>\n",
       "      <td>0.5</td>\n",
       "      <td>-0.866025</td>\n",
       "      <td>128_Facebook Ads</td>\n",
       "      <td>0</td>\n",
       "      <td>0.011835</td>\n",
       "      <td>0</td>\n",
       "      <td>0</td>\n",
       "      <td>1</td>\n",
       "      <td>0</td>\n",
       "      <td>0</td>\n",
       "    </tr>\n",
       "    <tr>\n",
       "      <th>4</th>\n",
       "      <td>2733</td>\n",
       "      <td>0.093220</td>\n",
       "      <td>2022-05-05</td>\n",
       "      <td>4</td>\n",
       "      <td>Google Ads</td>\n",
       "      <td>#Be Bold. Be X</td>\n",
       "      <td>90.0</td>\n",
       "      <td>https://www.abcjewelry.com/collections/boho-je...</td>\n",
       "      <td>4756</td>\n",
       "      <td>Web</td>\n",
       "      <td>...</td>\n",
       "      <td>0.5</td>\n",
       "      <td>-0.866025</td>\n",
       "      <td>4_Google Ads</td>\n",
       "      <td>2</td>\n",
       "      <td>0.006693</td>\n",
       "      <td>0</td>\n",
       "      <td>0</td>\n",
       "      <td>1</td>\n",
       "      <td>0</td>\n",
       "      <td>0</td>\n",
       "    </tr>\n",
       "  </tbody>\n",
       "</table>\n",
       "<p>5 rows × 43 columns</p>\n",
       "</div>"
      ],
      "text/plain": [
       "   campaign_item_id  no_of_days       time  ext_service_id ext_service_name  \\\n",
       "0              2733    0.059322 2022-05-01             128     Facebook Ads   \n",
       "1              2733    0.067797 2022-05-02              16            DV360   \n",
       "2              2733    0.076271 2022-05-03             128     Facebook Ads   \n",
       "3              2733    0.084746 2022-05-04             128     Facebook Ads   \n",
       "4              2733    0.093220 2022-05-05               4       Google Ads   \n",
       "\n",
       "                          search_tags  template_id  \\\n",
       "0                     #The Power of X         90.0   \n",
       "1                      #Be Bold. Be X         90.0   \n",
       "2  #Embrace Your Individuality with X         90.0   \n",
       "3                      #Be Bold. Be X         90.0   \n",
       "4                      #Be Bold. Be X         90.0   \n",
       "\n",
       "                                        landing_page  advertiser_id  \\\n",
       "0  https://www.abcjewelry.com/collections/boho-je...           4756   \n",
       "1  https://www.abcjewelry.com/women/costume-jewelry/           4756   \n",
       "2  https://www.abcjewelry.com/collections/boho-je...           4756   \n",
       "3  https://www.abcjewelry.com/collections/rhinest...           4756   \n",
       "4  https://www.abcjewelry.com/collections/boho-je...           4756   \n",
       "\n",
       "  advertiser_name  ...  month_sin  month_cos ext_service_combined  \\\n",
       "0             Web  ...        0.5  -0.866025     128_Facebook Ads   \n",
       "1             Web  ...        0.5  -0.866025             16_DV360   \n",
       "2             Web  ...        0.5  -0.866025     128_Facebook Ads   \n",
       "3             Web  ...        0.5  -0.866025     128_Facebook Ads   \n",
       "4             Web  ...        0.5  -0.866025         4_Google Ads   \n",
       "\n",
       "   ext_service_combined_label normalized_impressions  search_cat_Affinity  \\\n",
       "0                           0               0.002124                    0   \n",
       "1                           1               0.013835                    0   \n",
       "2                           0               0.010583                    0   \n",
       "3                           0               0.011835                    0   \n",
       "4                           2               0.006693                    0   \n",
       "\n",
       "   search_cat_Inmarket  search_cat_Others search_cat_Retargeting  \\\n",
       "0                    0                  1                      0   \n",
       "1                    0                  1                      0   \n",
       "2                    0                  1                      0   \n",
       "3                    0                  1                      0   \n",
       "4                    0                  1                      0   \n",
       "\n",
       "  search_cat_Youtube  \n",
       "0                  0  \n",
       "1                  0  \n",
       "2                  0  \n",
       "3                  0  \n",
       "4                  0  \n",
       "\n",
       "[5 rows x 43 columns]"
      ]
     },
     "execution_count": 39,
     "metadata": {},
     "output_type": "execute_result"
    }
   ],
   "source": [
    "# Apply One-Hot Encoding to the 'job' column\n",
    "df_encoded = pd.get_dummies(df['search_tag_cat'], prefix='search_cat')\n",
    "\n",
    "# Convert True/False to 1/0\n",
    "df_encoded = df_encoded.astype(int)\n",
    "\n",
    "# Optionally, concatenate the encoded columns with the original dataframe\n",
    "df = pd.concat([df, df_encoded], axis=1)\n",
    "\n",
    "# Drop the original 'job' column\n",
    "df.drop('search_tag_cat', axis=1, inplace=True)\n",
    "\n",
    "df.head()"
   ]
  },
  {
   "cell_type": "markdown",
   "metadata": {},
   "source": [
    "#### Landing page"
   ]
  },
  {
   "cell_type": "code",
   "execution_count": 41,
   "metadata": {},
   "outputs": [
    {
     "data": {
      "text/plain": [
       "array(['https://www.abcjewelry.com/collections/boho-jewelry-for-women',\n",
       "       'https://www.abcjewelry.com/women/costume-jewelry/',\n",
       "       'https://www.abcjewelry.com/collections/rhinestone-jewelry-for-women',\n",
       "       'https://www.abcjewelry.com/collections',\n",
       "       'https://www.abcjewelry.com/collections/gemstone-jewelry-for-women',\n",
       "       'https://www.abcjewelry.com/collections/statement-necklaces-for-women',\n",
       "       'https://www.abcjewelry.com/collections/bold-jewelry-for-women',\n",
       "       'https://www.abcjewelry.com/collections/hoop-earrings-for-women',\n",
       "       'https://www.abcjewelry.com/collections/layered-jewelry-for-women',\n",
       "       'https://www.abcjewelry.com/collections/cuff-bracelets-for-women',\n",
       "       'https://www.abcjewelry.com/collections/pendant-necklaces-for-women',\n",
       "       'https://www.abcjewelry.com/collections/pearl-jewelry-for-women',\n",
       "       'https://www.abcjewelry.com/women/boho-jewelry/',\n",
       "       'https://www.abcjewelry.com/collections/beaded-jewelry-for-women',\n",
       "       'https://www.abcjewelry.com/women/fashion-jewelry',\n",
       "       'https://www.abcjewelry.com/women/handmade-jewelry/',\n",
       "       'https://www.abcjewelry.com/collections/beaded-bracelets-for-women',\n",
       "       'https://www.abcjewelry.com/collections/choker-necklaces-for-women',\n",
       "       'https://www.abcjewelry.com/women/designer-inspired-jewelry/',\n",
       "       'https://www.abcjewelry.com/women/vintage-inspired-jewelry/',\n",
       "       'https://www.abcjewelry.com/women/bold-jewelry/',\n",
       "       'https://www.abcjewelry.com/collections/layered-necklaces-for-women',\n",
       "       'https://www.abcjewelry.com/collections/crystal-jewelry-for-women',\n",
       "       'https://www.abcjewelry.com/women/fashion-jewelry/',\n",
       "       'https://www.abcjewelry.com/collections/delicate-bracelets-for-women',\n",
       "       'https://www.abcjewelry.com/collections/handmade-jewelry-for-women',\n",
       "       'https://www.abcjewelry.com/collections/unique-jewelry-for-women',\n",
       "       'https://www.abcjewelry.com/women/affordable-jewelry/',\n",
       "       'https://www.abcjewelry.com/women/statement-jewelry/',\n",
       "       'https://www.abcjewelry.com/collections/mixed-metal-jewelry-for-women',\n",
       "       'https://www.abcjewelry.com/collections/tassel-earrings-for-women',\n",
       "       'https://www.abcjewelry.com/collections/long-necklaces-for-women',\n",
       "       'https://www.abcjewelry.com/collections/affordable-jewelry-for-women',\n",
       "       'https://www.abcjewelry.com/collections/multi-strand-necklaces-for-women',\n",
       "       'https://www.abcjewelry.com/collections/chunky-jewelry-for-women',\n",
       "       'https://www.abcjewelry.com/collections/minimalist-jewelry-for-women',\n",
       "       'https://www.abcjewelry.com/collections/vintage-inspired-jewelry-for-women',\n",
       "       'https://www.abcjewelry.com/collections/dainty-jewelry-for-women',\n",
       "       'https://www.abcjewelry.com/women/unique-jewelry/',\n",
       "       'https://www.abcjewelry.com/collections/designer-inspired-jewelry-for-women',\n",
       "       'https://www.abcjewelry.com/collections/trendy-jewelry-for-women',\n",
       "       'https://www.abcjewelry.com/women/minimalist-jewelry/',\n",
       "       'https://www.abcjewelry.com/women/trendy-jewelry/',\n",
       "       'https://www.abcjewelry.com/collections/costume-jewelry-for-women',\n",
       "       'https://www.abcjewelry.com/collections/statement-jewelry-for-women'],\n",
       "      dtype=object)"
      ]
     },
     "execution_count": 41,
     "metadata": {},
     "output_type": "execute_result"
    }
   ],
   "source": [
    "df['landing_page'].unique()"
   ]
  },
  {
   "cell_type": "code",
   "execution_count": null,
   "metadata": {},
   "outputs": [
    {
     "name": "stderr",
     "output_type": "stream",
     "text": [
      "c:\\Users\\Thinkpad\\AppData\\Local\\Programs\\Python\\Python312\\Lib\\site-packages\\tqdm\\auto.py:21: TqdmWarning: IProgress not found. Please update jupyter and ipywidgets. See https://ipywidgets.readthedocs.io/en/stable/user_install.html\n",
      "  from .autonotebook import tqdm as notebook_tqdm\n"
     ]
    },
    {
     "name": "stdout",
     "output_type": "stream",
     "text": [
      "WARNING:tensorflow:From c:\\Users\\Thinkpad\\AppData\\Local\\Programs\\Python\\Python312\\Lib\\site-packages\\tf_keras\\src\\losses.py:2976: The name tf.losses.sparse_softmax_cross_entropy is deprecated. Please use tf.compat.v1.losses.sparse_softmax_cross_entropy instead.\n",
      "\n"
     ]
    }
   ],
   "source": [
    "from sentence_transformers import SentenceTransformer\n",
    "import pandas as pd\n",
    "\n",
    "# Initialize the pre-trained model (You can choose other models based on your needs)\n",
    "model = SentenceTransformer('all-MiniLM-L6-v2')  # This model is fast and performs well for general tasks\n",
    "\n",
    "# Assuming 'landing_page' is the column with URLs in your dataframe\n",
    "df['landing_page_embedding'] = df['landing_page'].apply(lambda x: model.encode(x))\n",
    "\n",
    "# Convert the embeddings into a DataFrame (each embedding is a vector)\n",
    "embeddings_df = pd.DataFrame(df['landing_page_embedding'].tolist(), index=df.index)\n",
    "\n",
    "# You can now append the embeddings to the original dataframe or keep them separately\n",
    "df = pd.concat([df, embeddings_df], axis=1)\n",
    "\n",
    "# Drop the original 'landing_page' column if it's no longer needed\n",
    "# df = df.drop(columns=['landing_page'])\n",
    "\n",
    "# Display the updated dataframe with embeddings\n",
    "print(df.head())\n"
   ]
  },
  {
   "cell_type": "markdown",
   "metadata": {},
   "source": [
    "#### Check whether advertiser id and advertiser names are inter connected"
   ]
  },
  {
   "cell_type": "code",
   "execution_count": null,
   "metadata": {},
   "outputs": [],
   "source": [
    "# Create a combined feature by concatenating 'advertiser_id' and 'advertiser_name '\n",
    "combined_feature = df[['advertiser_id', 'advertiser_name ']]\n",
    "\n",
    "# Display the unique combinations of the two features\n",
    "unique_combinations = combined_feature.drop_duplicates()\n",
    "print(unique_combinations)"
   ]
  }
 ],
 "metadata": {
  "kernelspec": {
   "display_name": "Python 3",
   "language": "python",
   "name": "python3"
  },
  "language_info": {
   "codemirror_mode": {
    "name": "ipython",
    "version": 3
   },
   "file_extension": ".py",
   "mimetype": "text/x-python",
   "name": "python",
   "nbconvert_exporter": "python",
   "pygments_lexer": "ipython3",
   "version": "3.12.3"
  }
 },
 "nbformat": 4,
 "nbformat_minor": 2
}
