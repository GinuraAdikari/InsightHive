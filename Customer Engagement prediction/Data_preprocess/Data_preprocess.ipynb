{
 "cells": [
  {
   "cell_type": "markdown",
   "metadata": {},
   "source": [
    "### Importing relavent libraries\n"
   ]
  },
  {
   "cell_type": "code",
   "execution_count": 566,
   "metadata": {},
   "outputs": [],
   "source": [
    "import pandas as pd\n",
    "import numpy as np"
   ]
  },
  {
   "cell_type": "code",
   "execution_count": 567,
   "metadata": {},
   "outputs": [],
   "source": [
    "# Load the dataset\n",
    "df = pd.read_csv(\"../Datasets/Marketing campaign dataset.csv\")"
   ]
  },
  {
   "cell_type": "code",
   "execution_count": 568,
   "metadata": {},
   "outputs": [
    {
     "data": {
      "text/html": [
       "<div>\n",
       "<style scoped>\n",
       "    .dataframe tbody tr th:only-of-type {\n",
       "        vertical-align: middle;\n",
       "    }\n",
       "\n",
       "    .dataframe tbody tr th {\n",
       "        vertical-align: top;\n",
       "    }\n",
       "\n",
       "    .dataframe thead th {\n",
       "        text-align: right;\n",
       "    }\n",
       "</style>\n",
       "<table border=\"1\" class=\"dataframe\">\n",
       "  <thead>\n",
       "    <tr style=\"text-align: right;\">\n",
       "      <th></th>\n",
       "      <th>campaign_item_id</th>\n",
       "      <th>no_of_days</th>\n",
       "      <th>time</th>\n",
       "      <th>ext_service_id</th>\n",
       "      <th>ext_service_name</th>\n",
       "      <th>creative_id</th>\n",
       "      <th>creative_width</th>\n",
       "      <th>creative_height</th>\n",
       "      <th>search_tags</th>\n",
       "      <th>template_id</th>\n",
       "      <th>...</th>\n",
       "      <th>exchange_rate</th>\n",
       "      <th>media_cost_usd</th>\n",
       "      <th>position_in_content</th>\n",
       "      <th>unique_reach</th>\n",
       "      <th>total_reach</th>\n",
       "      <th>search_tag_cat</th>\n",
       "      <th>cmi_currency_code</th>\n",
       "      <th>timezone</th>\n",
       "      <th>weekday_cat</th>\n",
       "      <th>keywords</th>\n",
       "    </tr>\n",
       "  </thead>\n",
       "  <tbody>\n",
       "    <tr>\n",
       "      <th>0</th>\n",
       "      <td>2733</td>\n",
       "      <td>7</td>\n",
       "      <td>2022-05-01</td>\n",
       "      <td>128</td>\n",
       "      <td>Facebook Ads</td>\n",
       "      <td>1000</td>\n",
       "      <td>300.0</td>\n",
       "      <td>250.0</td>\n",
       "      <td>#The Power of X</td>\n",
       "      <td>90.0</td>\n",
       "      <td>...</td>\n",
       "      <td>1</td>\n",
       "      <td>14.058514</td>\n",
       "      <td>NaN</td>\n",
       "      <td>NaN</td>\n",
       "      <td>NaN</td>\n",
       "      <td>Others</td>\n",
       "      <td>SGD</td>\n",
       "      <td>Asia/Singapore</td>\n",
       "      <td>week_end</td>\n",
       "      <td>delicate bracelets</td>\n",
       "    </tr>\n",
       "    <tr>\n",
       "      <th>1</th>\n",
       "      <td>2733</td>\n",
       "      <td>8</td>\n",
       "      <td>2022-05-02</td>\n",
       "      <td>16</td>\n",
       "      <td>DV360</td>\n",
       "      <td>1000</td>\n",
       "      <td>300.0</td>\n",
       "      <td>250.0</td>\n",
       "      <td>#Be Bold. Be X</td>\n",
       "      <td>90.0</td>\n",
       "      <td>...</td>\n",
       "      <td>1</td>\n",
       "      <td>99.633496</td>\n",
       "      <td>NaN</td>\n",
       "      <td>NaN</td>\n",
       "      <td>NaN</td>\n",
       "      <td>Others</td>\n",
       "      <td>SGD</td>\n",
       "      <td>Asia/Singapore</td>\n",
       "      <td>week_day</td>\n",
       "      <td>summer jewelry</td>\n",
       "    </tr>\n",
       "    <tr>\n",
       "      <th>2</th>\n",
       "      <td>2733</td>\n",
       "      <td>9</td>\n",
       "      <td>2022-05-03</td>\n",
       "      <td>128</td>\n",
       "      <td>Facebook Ads</td>\n",
       "      <td>1000</td>\n",
       "      <td>300.0</td>\n",
       "      <td>250.0</td>\n",
       "      <td>#Embrace Your Individuality with X</td>\n",
       "      <td>90.0</td>\n",
       "      <td>...</td>\n",
       "      <td>1</td>\n",
       "      <td>109.419677</td>\n",
       "      <td>NaN</td>\n",
       "      <td>NaN</td>\n",
       "      <td>NaN</td>\n",
       "      <td>Others</td>\n",
       "      <td>SGD</td>\n",
       "      <td>Asia/Singapore</td>\n",
       "      <td>week_day</td>\n",
       "      <td>artisan jewelry</td>\n",
       "    </tr>\n",
       "    <tr>\n",
       "      <th>3</th>\n",
       "      <td>2733</td>\n",
       "      <td>10</td>\n",
       "      <td>2022-05-04</td>\n",
       "      <td>128</td>\n",
       "      <td>Facebook Ads</td>\n",
       "      <td>1000</td>\n",
       "      <td>300.0</td>\n",
       "      <td>250.0</td>\n",
       "      <td>#Be Bold. Be X</td>\n",
       "      <td>90.0</td>\n",
       "      <td>...</td>\n",
       "      <td>1</td>\n",
       "      <td>115.209499</td>\n",
       "      <td>NaN</td>\n",
       "      <td>NaN</td>\n",
       "      <td>NaN</td>\n",
       "      <td>Others</td>\n",
       "      <td>SGD</td>\n",
       "      <td>Asia/Singapore</td>\n",
       "      <td>week_day</td>\n",
       "      <td>layered bracelets</td>\n",
       "    </tr>\n",
       "    <tr>\n",
       "      <th>4</th>\n",
       "      <td>2733</td>\n",
       "      <td>11</td>\n",
       "      <td>2022-05-05</td>\n",
       "      <td>4</td>\n",
       "      <td>Google Ads</td>\n",
       "      <td>1000</td>\n",
       "      <td>300.0</td>\n",
       "      <td>250.0</td>\n",
       "      <td>#Be Bold. Be X</td>\n",
       "      <td>90.0</td>\n",
       "      <td>...</td>\n",
       "      <td>1</td>\n",
       "      <td>66.990104</td>\n",
       "      <td>NaN</td>\n",
       "      <td>NaN</td>\n",
       "      <td>NaN</td>\n",
       "      <td>Others</td>\n",
       "      <td>SGD</td>\n",
       "      <td>Asia/Singapore</td>\n",
       "      <td>week_day</td>\n",
       "      <td>minimalist jewelry</td>\n",
       "    </tr>\n",
       "  </tbody>\n",
       "</table>\n",
       "<p>5 rows × 35 columns</p>\n",
       "</div>"
      ],
      "text/plain": [
       "   campaign_item_id  no_of_days        time  ext_service_id ext_service_name  \\\n",
       "0              2733           7  2022-05-01             128     Facebook Ads   \n",
       "1              2733           8  2022-05-02              16            DV360   \n",
       "2              2733           9  2022-05-03             128     Facebook Ads   \n",
       "3              2733          10  2022-05-04             128     Facebook Ads   \n",
       "4              2733          11  2022-05-05               4       Google Ads   \n",
       "\n",
       "   creative_id  creative_width  creative_height  \\\n",
       "0         1000           300.0            250.0   \n",
       "1         1000           300.0            250.0   \n",
       "2         1000           300.0            250.0   \n",
       "3         1000           300.0            250.0   \n",
       "4         1000           300.0            250.0   \n",
       "\n",
       "                          search_tags  template_id  ... exchange_rate  \\\n",
       "0                     #The Power of X         90.0  ...             1   \n",
       "1                      #Be Bold. Be X         90.0  ...             1   \n",
       "2  #Embrace Your Individuality with X         90.0  ...             1   \n",
       "3                      #Be Bold. Be X         90.0  ...             1   \n",
       "4                      #Be Bold. Be X         90.0  ...             1   \n",
       "\n",
       "   media_cost_usd position_in_content  unique_reach  total_reach  \\\n",
       "0       14.058514                 NaN           NaN          NaN   \n",
       "1       99.633496                 NaN           NaN          NaN   \n",
       "2      109.419677                 NaN           NaN          NaN   \n",
       "3      115.209499                 NaN           NaN          NaN   \n",
       "4       66.990104                 NaN           NaN          NaN   \n",
       "\n",
       "  search_tag_cat  cmi_currency_code        timezone  weekday_cat  \\\n",
       "0         Others                SGD  Asia/Singapore     week_end   \n",
       "1         Others                SGD  Asia/Singapore     week_day   \n",
       "2         Others                SGD  Asia/Singapore     week_day   \n",
       "3         Others                SGD  Asia/Singapore     week_day   \n",
       "4         Others                SGD  Asia/Singapore     week_day   \n",
       "\n",
       "             keywords  \n",
       "0  delicate bracelets  \n",
       "1      summer jewelry  \n",
       "2     artisan jewelry  \n",
       "3   layered bracelets  \n",
       "4  minimalist jewelry  \n",
       "\n",
       "[5 rows x 35 columns]"
      ]
     },
     "execution_count": 568,
     "metadata": {},
     "output_type": "execute_result"
    }
   ],
   "source": [
    "df.head()"
   ]
  },
  {
   "cell_type": "code",
   "execution_count": 569,
   "metadata": {},
   "outputs": [
    {
     "name": "stdout",
     "output_type": "stream",
     "text": [
      "campaign_item_id         int64\n",
      "no_of_days               int64\n",
      "time                    object\n",
      "ext_service_id           int64\n",
      "ext_service_name        object\n",
      "creative_id              int64\n",
      "creative_width         float64\n",
      "creative_height        float64\n",
      "search_tags             object\n",
      "template_id            float64\n",
      "landing_page            object\n",
      "advertiser_id            int64\n",
      "advertiser_name         object\n",
      "network_id               int64\n",
      "approved_budget        float64\n",
      "advertiser_currency     object\n",
      "channel_id               int64\n",
      "channel_name            object\n",
      "max_bid_cpm            float64\n",
      "network_margin         float64\n",
      "campaign_budget_usd    float64\n",
      "impressions              int64\n",
      "clicks                   int64\n",
      "stats_currency          object\n",
      "currency_code           object\n",
      "exchange_rate            int64\n",
      "media_cost_usd         float64\n",
      "position_in_content    float64\n",
      "unique_reach           float64\n",
      "total_reach            float64\n",
      "search_tag_cat          object\n",
      "cmi_currency_code       object\n",
      "timezone                object\n",
      "weekday_cat             object\n",
      "keywords                object\n",
      "dtype: object\n"
     ]
    }
   ],
   "source": [
    "print(df.dtypes)"
   ]
  },
  {
   "cell_type": "markdown",
   "metadata": {},
   "source": [
    "#### Check for null values"
   ]
  },
  {
   "cell_type": "code",
   "execution_count": 570,
   "metadata": {},
   "outputs": [
    {
     "name": "stdout",
     "output_type": "stream",
     "text": [
      "campaign_item_id           0\n",
      "no_of_days                 0\n",
      "time                       0\n",
      "ext_service_id             0\n",
      "ext_service_name           0\n",
      "creative_id                0\n",
      "creative_width          3412\n",
      "creative_height         3412\n",
      "search_tags                0\n",
      "template_id             3412\n",
      "landing_page               0\n",
      "advertiser_id              0\n",
      "advertiser_name            0\n",
      "network_id                 0\n",
      "approved_budget          406\n",
      "advertiser_currency        0\n",
      "channel_id                 0\n",
      "channel_name               0\n",
      "max_bid_cpm            65206\n",
      "network_margin             0\n",
      "campaign_budget_usd        0\n",
      "impressions                0\n",
      "clicks                     0\n",
      "stats_currency             0\n",
      "currency_code              0\n",
      "exchange_rate              0\n",
      "media_cost_usd             0\n",
      "position_in_content    72612\n",
      "unique_reach           72612\n",
      "total_reach            72612\n",
      "search_tag_cat             0\n",
      "cmi_currency_code          0\n",
      "timezone                   0\n",
      "weekday_cat                0\n",
      "keywords                   0\n",
      "dtype: int64 72612\n"
     ]
    }
   ],
   "source": [
    "print(df.isnull().sum(), len(df))"
   ]
  },
  {
   "cell_type": "markdown",
   "metadata": {},
   "source": [
    "#### Removing unneeded columns"
   ]
  },
  {
   "cell_type": "code",
   "execution_count": 571,
   "metadata": {},
   "outputs": [],
   "source": [
    "df = df.drop(columns=['total_reach','unique_reach','position_in_content',\n",
    "                      'max_bid_cpm','network_margin','approved_budget',\n",
    "                      'exchange_rate','stats_currency','advertiser_currency',\n",
    "                      'cmi_currency_code','landing_page', 'time', 'impressions'])"
   ]
  },
  {
   "cell_type": "markdown",
   "metadata": {},
   "source": [
    "## Creative"
   ]
  },
  {
   "cell_type": "markdown",
   "metadata": {},
   "source": [
    "#### Changing the creative columns to one column"
   ]
  },
  {
   "cell_type": "code",
   "execution_count": 572,
   "metadata": {},
   "outputs": [
    {
     "data": {
      "text/plain": [
       "array([300.,   0.,  nan])"
      ]
     },
     "execution_count": 572,
     "metadata": {},
     "output_type": "execute_result"
    }
   ],
   "source": [
    "df['creative_height'].unique()\n",
    "df['creative_width'].unique()"
   ]
  },
  {
   "cell_type": "code",
   "execution_count": 573,
   "metadata": {},
   "outputs": [],
   "source": [
    "df['creative_dimension'] = df['creative_height'] * df['creative_width']\n",
    "df = df.drop(columns=['creative_height','creative_width'])"
   ]
  },
  {
   "cell_type": "code",
   "execution_count": 574,
   "metadata": {},
   "outputs": [
    {
     "name": "stdout",
     "output_type": "stream",
     "text": [
      "campaign_item_id          0\n",
      "no_of_days                0\n",
      "ext_service_id            0\n",
      "ext_service_name          0\n",
      "creative_id               0\n",
      "search_tags               0\n",
      "template_id            3412\n",
      "advertiser_id             0\n",
      "advertiser_name           0\n",
      "network_id                0\n",
      "channel_id                0\n",
      "channel_name              0\n",
      "campaign_budget_usd       0\n",
      "clicks                    0\n",
      "currency_code             0\n",
      "media_cost_usd            0\n",
      "search_tag_cat            0\n",
      "timezone                  0\n",
      "weekday_cat               0\n",
      "keywords                  0\n",
      "creative_dimension     3412\n",
      "dtype: int64 72612\n"
     ]
    }
   ],
   "source": [
    "print(df.isnull().sum(), len(df))"
   ]
  },
  {
   "cell_type": "markdown",
   "metadata": {},
   "source": [
    "## Template"
   ]
  },
  {
   "cell_type": "code",
   "execution_count": 575,
   "metadata": {},
   "outputs": [
    {
     "data": {
      "text/plain": [
       "array([90., 23., 92., 89., 93., nan])"
      ]
     },
     "execution_count": 575,
     "metadata": {},
     "output_type": "execute_result"
    }
   ],
   "source": [
    "df['template_id'].unique()"
   ]
  },
  {
   "cell_type": "markdown",
   "metadata": {},
   "source": [
    "##### Leaving template as it is"
   ]
  },
  {
   "cell_type": "markdown",
   "metadata": {},
   "source": [
    "## Creative\n"
   ]
  },
  {
   "cell_type": "code",
   "execution_count": 576,
   "metadata": {},
   "outputs": [
    {
     "data": {
      "text/plain": [
       "array([75000.,     0.,    nan])"
      ]
     },
     "execution_count": 576,
     "metadata": {},
     "output_type": "execute_result"
    }
   ],
   "source": [
    "df['creative_dimension'].unique()"
   ]
  },
  {
   "cell_type": "code",
   "execution_count": 577,
   "metadata": {},
   "outputs": [
    {
     "name": "stdout",
     "output_type": "stream",
     "text": [
      "       campaign_item_id  no_of_days  ext_service_id ext_service_name  \\\n",
      "0                  2733           7             128     Facebook Ads   \n",
      "1                  2733           8              16            DV360   \n",
      "2                  2733           9             128     Facebook Ads   \n",
      "3                  2733          10             128     Facebook Ads   \n",
      "4                  2733          11               4       Google Ads   \n",
      "...                 ...         ...             ...              ...   \n",
      "72607              3567          11               4       Google Ads   \n",
      "72608              3567          12             128     Facebook Ads   \n",
      "72609              3567          13             128     Facebook Ads   \n",
      "72610              3567          14               4       Google Ads   \n",
      "72611              3567          15              16            DV360   \n",
      "\n",
      "       creative_id                               search_tags  template_id  \\\n",
      "0             1000                           #The Power of X         90.0   \n",
      "1             1000                            #Be Bold. Be X         90.0   \n",
      "2             1000        #Embrace Your Individuality with X         90.0   \n",
      "3             1000                            #Be Bold. Be X         90.0   \n",
      "4             1000                            #Be Bold. Be X         90.0   \n",
      "...            ...                                       ...          ...   \n",
      "72607        15605  #The X Factor - Fashion for the Fearless          NaN   \n",
      "72608        15605        #Embrace Your Individuality with X          NaN   \n",
      "72609        15605                           #The Power of X          NaN   \n",
      "72610        15605        #Embrace Your Individuality with X          NaN   \n",
      "72611        15605                            #Be Bold. Be X          NaN   \n",
      "\n",
      "       advertiser_id advertiser_name  network_id  ...  channel_name  \\\n",
      "0               4756             Web         190  ...        Mobile   \n",
      "1               4756             Web         190  ...        Social   \n",
      "2               4756             Web         190  ...        Social   \n",
      "3               4756             Web         190  ...         Video   \n",
      "4               4756             Web         190  ...        Mobile   \n",
      "...              ...             ...         ...  ...           ...   \n",
      "72607           6304              UP         353  ...        Mobile   \n",
      "72608           6304              UP         353  ...        Search   \n",
      "72609           6304              UP         353  ...         Video   \n",
      "72610           6304              UP         353  ...        Social   \n",
      "72611           6304              UP         353  ...         Video   \n",
      "\n",
      "      campaign_budget_usd  clicks  currency_code media_cost_usd  \\\n",
      "0              652.173913       8            SGD      14.058514   \n",
      "1              652.173913      44            SGD      99.633496   \n",
      "2              652.173913      32            SGD     109.419677   \n",
      "3              652.173913      48            SGD     115.209499   \n",
      "4              652.173913      20            SGD      66.990104   \n",
      "...                   ...     ...            ...            ...   \n",
      "72607          306.635594      56            INR       4.858090   \n",
      "72608          306.635594      41            INR       3.536262   \n",
      "72609          306.635594      21            INR       1.947816   \n",
      "72610          306.635594      20            INR       1.711467   \n",
      "72611          306.635594      14            INR       0.990870   \n",
      "\n",
      "       search_tag_cat        timezone weekday_cat            keywords  \\\n",
      "0              Others  Asia/Singapore    week_end  delicate bracelets   \n",
      "1              Others  Asia/Singapore    week_day      summer jewelry   \n",
      "2              Others  Asia/Singapore    week_day     artisan jewelry   \n",
      "3              Others  Asia/Singapore    week_day   layered bracelets   \n",
      "4              Others  Asia/Singapore    week_day  minimalist jewelry   \n",
      "...               ...             ...         ...                 ...   \n",
      "72607          Others    Asia/Kolkata    week_day        chic jewelry   \n",
      "72608          Others    Asia/Kolkata    week_day      statement pins   \n",
      "72609          Others    Asia/Kolkata    week_day      bridal jewelry   \n",
      "72610          Others    Asia/Kolkata    week_day        jewelry sets   \n",
      "72611          Others    Asia/Kolkata    week_day        fall jewelry   \n",
      "\n",
      "      creative_dimension  \n",
      "0                      1  \n",
      "1                      1  \n",
      "2                      1  \n",
      "3                      1  \n",
      "4                      1  \n",
      "...                  ...  \n",
      "72607                  0  \n",
      "72608                  0  \n",
      "72609                  0  \n",
      "72610                  0  \n",
      "72611                  0  \n",
      "\n",
      "[72612 rows x 21 columns]\n"
     ]
    }
   ],
   "source": [
    "df['creative_dimension'] = (df['creative_dimension'] == 75000).astype(int)\n",
    "print(df)"
   ]
  },
  {
   "cell_type": "code",
   "execution_count": 578,
   "metadata": {},
   "outputs": [
    {
     "name": "stdout",
     "output_type": "stream",
     "text": [
      "   campaign_item_id  no_of_days  ext_service_id ext_service_name  creative_id  \\\n",
      "0              2733           7             128     Facebook Ads         1000   \n",
      "1              2733           8              16            DV360         1000   \n",
      "2              2733           9             128     Facebook Ads         1000   \n",
      "3              2733          10             128     Facebook Ads         1000   \n",
      "4              2733          11               4       Google Ads         1000   \n",
      "\n",
      "                          search_tags  template_id  advertiser_id  \\\n",
      "0                     #The Power of X         90.0           4756   \n",
      "1                      #Be Bold. Be X         90.0           4756   \n",
      "2  #Embrace Your Individuality with X         90.0           4756   \n",
      "3                      #Be Bold. Be X         90.0           4756   \n",
      "4                      #Be Bold. Be X         90.0           4756   \n",
      "\n",
      "  advertiser_name  network_id  ...  channel_name campaign_budget_usd  clicks  \\\n",
      "0             Web         190  ...        Mobile          652.173913       8   \n",
      "1             Web         190  ...        Social          652.173913      44   \n",
      "2             Web         190  ...        Social          652.173913      32   \n",
      "3             Web         190  ...         Video          652.173913      48   \n",
      "4             Web         190  ...        Mobile          652.173913      20   \n",
      "\n",
      "   currency_code media_cost_usd  search_tag_cat        timezone weekday_cat  \\\n",
      "0            SGD      14.058514          Others  Asia/Singapore    week_end   \n",
      "1            SGD      99.633496          Others  Asia/Singapore    week_day   \n",
      "2            SGD     109.419677          Others  Asia/Singapore    week_day   \n",
      "3            SGD     115.209499          Others  Asia/Singapore    week_day   \n",
      "4            SGD      66.990104          Others  Asia/Singapore    week_day   \n",
      "\n",
      "             keywords creative_dimension  \n",
      "0  delicate bracelets                  1  \n",
      "1      summer jewelry                  1  \n",
      "2     artisan jewelry                  1  \n",
      "3   layered bracelets                  1  \n",
      "4  minimalist jewelry                  1  \n",
      "\n",
      "[5 rows x 21 columns]\n"
     ]
    }
   ],
   "source": [
    "# Remove rows where 'creative_dimension' is null (NaN)\n",
    "df = df.dropna(subset=['creative_dimension'])\n",
    "\n",
    "# Check the cleaned dataframe\n",
    "print(df.head())"
   ]
  },
  {
   "cell_type": "code",
   "execution_count": 579,
   "metadata": {},
   "outputs": [
    {
     "name": "stdout",
     "output_type": "stream",
     "text": [
      "has_image\n",
      "0    72612\n",
      "Name: count, dtype: int64\n"
     ]
    }
   ],
   "source": [
    "# Convert 'creative_dimension' to a binary feature\n",
    "df['has_image'] = df['creative_dimension'].apply(lambda x: 1 if x == 75000 else 0)\n",
    "\n",
    "# Check the transformation\n",
    "print(df['has_image'].value_counts())"
   ]
  },
  {
   "cell_type": "code",
   "execution_count": 580,
   "metadata": {},
   "outputs": [
    {
     "name": "stdout",
     "output_type": "stream",
     "text": [
      "campaign_item_id       0\n",
      "no_of_days             0\n",
      "ext_service_id         0\n",
      "ext_service_name       0\n",
      "creative_id            0\n",
      "search_tags            0\n",
      "template_id            0\n",
      "advertiser_id          0\n",
      "advertiser_name        0\n",
      "network_id             0\n",
      "channel_id             0\n",
      "channel_name           0\n",
      "campaign_budget_usd    0\n",
      "clicks                 0\n",
      "currency_code          0\n",
      "media_cost_usd         0\n",
      "search_tag_cat         0\n",
      "timezone               0\n",
      "weekday_cat            0\n",
      "keywords               0\n",
      "creative_dimension     0\n",
      "has_image              0\n",
      "dtype: int64\n",
      "✅ Rows with null values have been removed. Remaining rows: 69200\n"
     ]
    }
   ],
   "source": [
    "# Drop rows with any null values\n",
    "df = df.dropna()\n",
    "\n",
    "# Verify if null values are removed\n",
    "print(df.isnull().sum())\n",
    "print(f\"✅ Rows with null values have been removed. Remaining rows: {len(df)}\")\n"
   ]
  },
  {
   "cell_type": "markdown",
   "metadata": {},
   "source": [
    "## Campaign id"
   ]
  },
  {
   "cell_type": "code",
   "execution_count": 581,
   "metadata": {},
   "outputs": [
    {
     "data": {
      "text/plain": [
       "array([2733, 2766, 2802, 2850, 2851, 2879, 3223, 3054, 3132, 3150, 3149,\n",
       "       3157, 3153, 3154, 3222, 3220, 3221, 3219, 3173, 3166, 3164, 3165,\n",
       "       2934, 2949, 2950, 2952, 2977, 2980, 2982, 3033, 3034, 3035, 3038,\n",
       "       3039, 3040, 3041, 3050, 3042, 3052, 3053, 3055, 3056, 3045, 3046,\n",
       "       3047, 3048, 3049, 3051, 3057, 3058, 3098, 3099, 3100, 3101, 3102,\n",
       "       3103, 3104, 3107, 3129, 3130, 3131, 3127, 3128, 3133, 3134, 3147,\n",
       "       3148, 3151, 3152, 3155, 3156, 3158, 3159, 3160, 3161, 3162, 3163,\n",
       "       3167, 3168, 3169, 3170, 3171, 3172, 3174, 3175, 3176, 3177, 3178,\n",
       "       3179, 3180, 3181, 3182, 3183, 3184, 3185, 3186, 3187, 3188, 3189,\n",
       "       3190, 3191, 3192, 3193, 3194, 3195, 3196, 3197, 3199, 3200, 3201,\n",
       "       3202, 3204, 3208, 3207, 3209, 3210, 3211, 3212, 3213, 3214, 3215,\n",
       "       3216, 3217, 3218, 3354, 3355, 3389, 3444, 3445, 3486, 3488, 3543,\n",
       "       3545, 3546, 3547, 3557, 3558, 3559, 3719, 3959, 3960], dtype=int64)"
      ]
     },
     "execution_count": 581,
     "metadata": {},
     "output_type": "execute_result"
    }
   ],
   "source": [
    "df['campaign_item_id'].unique()"
   ]
  },
  {
   "cell_type": "markdown",
   "metadata": {},
   "source": [
    "##### Applying embedding to the campaign_id feature. if not the model might miscalculate relationship. "
   ]
  },
  {
   "cell_type": "code",
   "execution_count": 582,
   "metadata": {},
   "outputs": [
    {
     "name": "stdout",
     "output_type": "stream",
     "text": [
      "Embedding Shape: torch.Size([69200, 16])\n"
     ]
    }
   ],
   "source": [
    "import torch\n",
    "import torch.nn as nn\n",
    "\n",
    "# Map each unique campaign_item_id to an index starting from 0\n",
    "id_mapping = {id_: idx for idx, id_ in enumerate(df['campaign_item_id'].unique())}\n",
    "df['campaign_index'] = df['campaign_item_id'].map(id_mapping)\n",
    "\n",
    "# Number of unique campaigns\n",
    "num_campaigns = len(id_mapping)  # Total unique campaign IDs\n",
    "embedding_dim = 16  # Dimensionality of the embedding vectors\n",
    "\n",
    "# Create an embedding layer\n",
    "campaign_embedding = nn.Embedding(num_embeddings=num_campaigns, embedding_dim=embedding_dim)\n",
    "\n",
    "# Convert campaign_index to tensor\n",
    "campaign_indices = torch.tensor(df['campaign_index'].values, dtype=torch.long)\n",
    "\n",
    "# Get the embeddings\n",
    "embedded_campaigns = campaign_embedding(campaign_indices)\n",
    "print(\"Embedding Shape:\", embedded_campaigns.shape)  # Should match (num_samples, embedding_dim)\n"
   ]
  },
  {
   "cell_type": "code",
   "execution_count": 583,
   "metadata": {},
   "outputs": [
    {
     "name": "stdout",
     "output_type": "stream",
     "text": [
      "Campaign ID to Index Mapping:\n",
      "Campaign ID: 2733 -> Campaign Index: 0\n",
      "Campaign ID: 2766 -> Campaign Index: 1\n",
      "Campaign ID: 2802 -> Campaign Index: 2\n",
      "Campaign ID: 2850 -> Campaign Index: 3\n",
      "Campaign ID: 2851 -> Campaign Index: 4\n",
      "Campaign ID: 2879 -> Campaign Index: 5\n",
      "Campaign ID: 3223 -> Campaign Index: 6\n",
      "Campaign ID: 3054 -> Campaign Index: 7\n",
      "Campaign ID: 3132 -> Campaign Index: 8\n",
      "Campaign ID: 3150 -> Campaign Index: 9\n",
      "Campaign ID: 3149 -> Campaign Index: 10\n",
      "Campaign ID: 3157 -> Campaign Index: 11\n",
      "Campaign ID: 3153 -> Campaign Index: 12\n",
      "Campaign ID: 3154 -> Campaign Index: 13\n",
      "Campaign ID: 3222 -> Campaign Index: 14\n",
      "Campaign ID: 3220 -> Campaign Index: 15\n",
      "Campaign ID: 3221 -> Campaign Index: 16\n",
      "Campaign ID: 3219 -> Campaign Index: 17\n",
      "Campaign ID: 3173 -> Campaign Index: 18\n",
      "Campaign ID: 3166 -> Campaign Index: 19\n",
      "Campaign ID: 3164 -> Campaign Index: 20\n",
      "Campaign ID: 3165 -> Campaign Index: 21\n",
      "Campaign ID: 2934 -> Campaign Index: 22\n",
      "Campaign ID: 2949 -> Campaign Index: 23\n",
      "Campaign ID: 2950 -> Campaign Index: 24\n",
      "Campaign ID: 2952 -> Campaign Index: 25\n",
      "Campaign ID: 2977 -> Campaign Index: 26\n",
      "Campaign ID: 2980 -> Campaign Index: 27\n",
      "Campaign ID: 2982 -> Campaign Index: 28\n",
      "Campaign ID: 3033 -> Campaign Index: 29\n",
      "Campaign ID: 3034 -> Campaign Index: 30\n",
      "Campaign ID: 3035 -> Campaign Index: 31\n",
      "Campaign ID: 3038 -> Campaign Index: 32\n",
      "Campaign ID: 3039 -> Campaign Index: 33\n",
      "Campaign ID: 3040 -> Campaign Index: 34\n",
      "Campaign ID: 3041 -> Campaign Index: 35\n",
      "Campaign ID: 3050 -> Campaign Index: 36\n",
      "Campaign ID: 3042 -> Campaign Index: 37\n",
      "Campaign ID: 3052 -> Campaign Index: 38\n",
      "Campaign ID: 3053 -> Campaign Index: 39\n",
      "Campaign ID: 3055 -> Campaign Index: 40\n",
      "Campaign ID: 3056 -> Campaign Index: 41\n",
      "Campaign ID: 3045 -> Campaign Index: 42\n",
      "Campaign ID: 3046 -> Campaign Index: 43\n",
      "Campaign ID: 3047 -> Campaign Index: 44\n",
      "Campaign ID: 3048 -> Campaign Index: 45\n",
      "Campaign ID: 3049 -> Campaign Index: 46\n",
      "Campaign ID: 3051 -> Campaign Index: 47\n",
      "Campaign ID: 3057 -> Campaign Index: 48\n",
      "Campaign ID: 3058 -> Campaign Index: 49\n",
      "Campaign ID: 3098 -> Campaign Index: 50\n",
      "Campaign ID: 3099 -> Campaign Index: 51\n",
      "Campaign ID: 3100 -> Campaign Index: 52\n",
      "Campaign ID: 3101 -> Campaign Index: 53\n",
      "Campaign ID: 3102 -> Campaign Index: 54\n",
      "Campaign ID: 3103 -> Campaign Index: 55\n",
      "Campaign ID: 3104 -> Campaign Index: 56\n",
      "Campaign ID: 3107 -> Campaign Index: 57\n",
      "Campaign ID: 3129 -> Campaign Index: 58\n",
      "Campaign ID: 3130 -> Campaign Index: 59\n",
      "Campaign ID: 3131 -> Campaign Index: 60\n",
      "Campaign ID: 3127 -> Campaign Index: 61\n",
      "Campaign ID: 3128 -> Campaign Index: 62\n",
      "Campaign ID: 3133 -> Campaign Index: 63\n",
      "Campaign ID: 3134 -> Campaign Index: 64\n",
      "Campaign ID: 3147 -> Campaign Index: 65\n",
      "Campaign ID: 3148 -> Campaign Index: 66\n",
      "Campaign ID: 3151 -> Campaign Index: 67\n",
      "Campaign ID: 3152 -> Campaign Index: 68\n",
      "Campaign ID: 3155 -> Campaign Index: 69\n",
      "Campaign ID: 3156 -> Campaign Index: 70\n",
      "Campaign ID: 3158 -> Campaign Index: 71\n",
      "Campaign ID: 3159 -> Campaign Index: 72\n",
      "Campaign ID: 3160 -> Campaign Index: 73\n",
      "Campaign ID: 3161 -> Campaign Index: 74\n",
      "Campaign ID: 3162 -> Campaign Index: 75\n",
      "Campaign ID: 3163 -> Campaign Index: 76\n",
      "Campaign ID: 3167 -> Campaign Index: 77\n",
      "Campaign ID: 3168 -> Campaign Index: 78\n",
      "Campaign ID: 3169 -> Campaign Index: 79\n",
      "Campaign ID: 3170 -> Campaign Index: 80\n",
      "Campaign ID: 3171 -> Campaign Index: 81\n",
      "Campaign ID: 3172 -> Campaign Index: 82\n",
      "Campaign ID: 3174 -> Campaign Index: 83\n",
      "Campaign ID: 3175 -> Campaign Index: 84\n",
      "Campaign ID: 3176 -> Campaign Index: 85\n",
      "Campaign ID: 3177 -> Campaign Index: 86\n",
      "Campaign ID: 3178 -> Campaign Index: 87\n",
      "Campaign ID: 3179 -> Campaign Index: 88\n",
      "Campaign ID: 3180 -> Campaign Index: 89\n",
      "Campaign ID: 3181 -> Campaign Index: 90\n",
      "Campaign ID: 3182 -> Campaign Index: 91\n",
      "Campaign ID: 3183 -> Campaign Index: 92\n",
      "Campaign ID: 3184 -> Campaign Index: 93\n",
      "Campaign ID: 3185 -> Campaign Index: 94\n",
      "Campaign ID: 3186 -> Campaign Index: 95\n",
      "Campaign ID: 3187 -> Campaign Index: 96\n",
      "Campaign ID: 3188 -> Campaign Index: 97\n",
      "Campaign ID: 3189 -> Campaign Index: 98\n",
      "Campaign ID: 3190 -> Campaign Index: 99\n",
      "Campaign ID: 3191 -> Campaign Index: 100\n",
      "Campaign ID: 3192 -> Campaign Index: 101\n",
      "Campaign ID: 3193 -> Campaign Index: 102\n",
      "Campaign ID: 3194 -> Campaign Index: 103\n",
      "Campaign ID: 3195 -> Campaign Index: 104\n",
      "Campaign ID: 3196 -> Campaign Index: 105\n",
      "Campaign ID: 3197 -> Campaign Index: 106\n",
      "Campaign ID: 3199 -> Campaign Index: 107\n",
      "Campaign ID: 3200 -> Campaign Index: 108\n",
      "Campaign ID: 3201 -> Campaign Index: 109\n",
      "Campaign ID: 3202 -> Campaign Index: 110\n",
      "Campaign ID: 3204 -> Campaign Index: 111\n",
      "Campaign ID: 3208 -> Campaign Index: 112\n",
      "Campaign ID: 3207 -> Campaign Index: 113\n",
      "Campaign ID: 3209 -> Campaign Index: 114\n",
      "Campaign ID: 3210 -> Campaign Index: 115\n",
      "Campaign ID: 3211 -> Campaign Index: 116\n",
      "Campaign ID: 3212 -> Campaign Index: 117\n",
      "Campaign ID: 3213 -> Campaign Index: 118\n",
      "Campaign ID: 3214 -> Campaign Index: 119\n",
      "Campaign ID: 3215 -> Campaign Index: 120\n",
      "Campaign ID: 3216 -> Campaign Index: 121\n",
      "Campaign ID: 3217 -> Campaign Index: 122\n",
      "Campaign ID: 3218 -> Campaign Index: 123\n",
      "Campaign ID: 3354 -> Campaign Index: 124\n",
      "Campaign ID: 3355 -> Campaign Index: 125\n",
      "Campaign ID: 3389 -> Campaign Index: 126\n",
      "Campaign ID: 3444 -> Campaign Index: 127\n",
      "Campaign ID: 3445 -> Campaign Index: 128\n",
      "Campaign ID: 3486 -> Campaign Index: 129\n",
      "Campaign ID: 3488 -> Campaign Index: 130\n",
      "Campaign ID: 3543 -> Campaign Index: 131\n",
      "Campaign ID: 3545 -> Campaign Index: 132\n",
      "Campaign ID: 3546 -> Campaign Index: 133\n",
      "Campaign ID: 3547 -> Campaign Index: 134\n",
      "Campaign ID: 3557 -> Campaign Index: 135\n",
      "Campaign ID: 3558 -> Campaign Index: 136\n",
      "Campaign ID: 3559 -> Campaign Index: 137\n",
      "Campaign ID: 3719 -> Campaign Index: 138\n",
      "Campaign ID: 3959 -> Campaign Index: 139\n",
      "Campaign ID: 3960 -> Campaign Index: 140\n"
     ]
    }
   ],
   "source": [
    "# Print the mapping dictionary\n",
    "print(\"Campaign ID to Index Mapping:\")\n",
    "for campaign_id, campaign_index in id_mapping.items():\n",
    "    print(f\"Campaign ID: {campaign_id} -> Campaign Index: {campaign_index}\")\n"
   ]
  },
  {
   "cell_type": "markdown",
   "metadata": {},
   "source": [
    "## Number of Days"
   ]
  },
  {
   "cell_type": "code",
   "execution_count": 584,
   "metadata": {},
   "outputs": [
    {
     "name": "stdout",
     "output_type": "stream",
     "text": [
      "Minimum days: 0\n",
      "Maximum days: 118\n"
     ]
    }
   ],
   "source": [
    "days = df['no_of_days']\n",
    "\n",
    "# Calculate the minimum and maximum values\n",
    "min_days = days.min()\n",
    "max_days = days.max()\n",
    "\n",
    "print(f\"Minimum days: {min_days}\")\n",
    "print(f\"Maximum days: {max_days}\")"
   ]
  },
  {
   "cell_type": "markdown",
   "metadata": {},
   "source": [
    "##### Normalizing this will be a good option for GNN"
   ]
  },
  {
   "cell_type": "code",
   "execution_count": 585,
   "metadata": {},
   "outputs": [
    {
     "name": "stdout",
     "output_type": "stream",
     "text": [
      "   no_of_days\n",
      "0    0.059322\n",
      "1    0.067797\n",
      "2    0.076271\n",
      "3    0.084746\n",
      "4    0.093220\n"
     ]
    }
   ],
   "source": [
    "from sklearn.preprocessing import MinMaxScaler\n",
    "\n",
    "# Initialize the scaler\n",
    "scaler = MinMaxScaler()\n",
    "\n",
    "# Normalize the column\n",
    "df['no_of_days'] = scaler.fit_transform(df[['no_of_days']])\n",
    "\n",
    "# Check the result\n",
    "print(df[['no_of_days']].head())"
   ]
  },
  {
   "cell_type": "markdown",
   "metadata": {},
   "source": [
    "## Week Cat"
   ]
  },
  {
   "cell_type": "markdown",
   "metadata": {},
   "source": [
    "##### oneHot encoding the week_cat"
   ]
  },
  {
   "cell_type": "code",
   "execution_count": 586,
   "metadata": {},
   "outputs": [
    {
     "name": "stdout",
     "output_type": "stream",
     "text": [
      "is_weekday\n",
      "0    69200\n",
      "Name: count, dtype: int64\n"
     ]
    }
   ],
   "source": [
    "# Convert 'weekday_cat' to a binary feature\n",
    "df['is_weekday'] = df['weekday_cat'].apply(lambda x: 1 if x == 'weekday' else 0)\n",
    "\n",
    "# Check the transformation\n",
    "print(df['is_weekday'].value_counts())\n"
   ]
  },
  {
   "cell_type": "markdown",
   "metadata": {},
   "source": [
    "## Platform"
   ]
  },
  {
   "cell_type": "markdown",
   "metadata": {},
   "source": [
    "#### Plateform of the advertisement"
   ]
  },
  {
   "cell_type": "code",
   "execution_count": 587,
   "metadata": {},
   "outputs": [
    {
     "data": {
      "text/plain": [
       "array(['Facebook Ads', 'DV360', 'Google Ads'], dtype=object)"
      ]
     },
     "execution_count": 587,
     "metadata": {},
     "output_type": "execute_result"
    }
   ],
   "source": [
    "df['ext_service_id'].unique()\n",
    "df['ext_service_name'].unique()"
   ]
  },
  {
   "cell_type": "code",
   "execution_count": 588,
   "metadata": {},
   "outputs": [],
   "source": [
    "df[\"platform\"] = df[\"ext_service_name\"]"
   ]
  },
  {
   "cell_type": "markdown",
   "metadata": {},
   "source": [
    "##### Checking whether both are inter connected"
   ]
  },
  {
   "cell_type": "code",
   "execution_count": 589,
   "metadata": {},
   "outputs": [
    {
     "name": "stdout",
     "output_type": "stream",
     "text": [
      "   ext_service_id      platform\n",
      "0             128  Facebook Ads\n",
      "1              16         DV360\n",
      "4               4    Google Ads\n"
     ]
    }
   ],
   "source": [
    "# Create a combined feature by concatenating 'ext_service_id' and 'ext_service_name'\n",
    "combined_feature = df[['ext_service_id', 'platform']]\n",
    "\n",
    "# Display the unique combinations of the two features\n",
    "unique_combinations = combined_feature.drop_duplicates()\n",
    "print(unique_combinations)"
   ]
  },
  {
   "cell_type": "markdown",
   "metadata": {},
   "source": [
    "#####  Encoding plateform ext_service_name\n"
   ]
  },
  {
   "cell_type": "code",
   "execution_count": 590,
   "metadata": {},
   "outputs": [],
   "source": [
    "# Apply One-Hot Encoding to the 'ext_service_name' column\n",
    "df_encoded = pd.get_dummies(df['platform'])\n",
    "\n",
    "# Convert True/False to 1/0\n",
    "df_encoded = df_encoded.astype(int)\n",
    "\n",
    "# Optionally, concatenate the encoded columns with the original dataframe\n",
    "df = pd.concat([df, df_encoded], axis=1)"
   ]
  },
  {
   "cell_type": "code",
   "execution_count": 591,
   "metadata": {},
   "outputs": [],
   "source": [
    "import torch.nn as nn\n",
    "\n",
    "num_unique_ids = df['ext_service_id'].nunique()\n",
    "embedding_dim = 4  # Choose based on experiment\n",
    "\n",
    "embedding_layer = nn.Embedding(num_unique_ids, embedding_dim)"
   ]
  },
  {
   "cell_type": "markdown",
   "metadata": {},
   "source": [
    "## Search tags"
   ]
  },
  {
   "cell_type": "code",
   "execution_count": 592,
   "metadata": {},
   "outputs": [
    {
     "data": {
      "text/plain": [
       "array(['#The Power of X', '#Be Bold. Be X',\n",
       "       '#Embrace Your Individuality with X',\n",
       "       '#The Ultimate Fashion Statement with X',\n",
       "       '#The X Factor - Fashion for the Fearless', '#Timeless X Style'],\n",
       "      dtype=object)"
      ]
     },
     "execution_count": 592,
     "metadata": {},
     "output_type": "execute_result"
    }
   ],
   "source": [
    "df['search_tags'].unique()"
   ]
  },
  {
   "cell_type": "markdown",
   "metadata": {},
   "source": [
    "#### Perform text embedding for search tags which is most suitable for GNN. then Applying PCA to reduce the dimensionality"
   ]
  },
  {
   "cell_type": "code",
   "execution_count": 593,
   "metadata": {},
   "outputs": [
    {
     "data": {
      "text/plain": [
       "array(['Others', 'Youtube', 'Inmarket', 'Retargeting', 'Affinity'],\n",
       "      dtype=object)"
      ]
     },
     "execution_count": 593,
     "metadata": {},
     "output_type": "execute_result"
    }
   ],
   "source": [
    "df['search_tag_cat'].unique()"
   ]
  },
  {
   "cell_type": "markdown",
   "metadata": {},
   "source": [
    "##### Applying One-hot-encoding since theres no proper relationship"
   ]
  },
  {
   "cell_type": "code",
   "execution_count": 594,
   "metadata": {},
   "outputs": [],
   "source": [
    "# Apply One-Hot Encoding to the 'search_tag_cat' column\n",
    "df_encoded = pd.get_dummies(df['search_tag_cat'], prefix='search_cat')\n",
    "\n",
    "# Convert True/False to 1/0\n",
    "df_encoded = df_encoded.astype(int)\n",
    "\n",
    "# Optionally, concatenate the encoded columns with the original dataframe\n",
    "df = pd.concat([df, df_encoded], axis=1)\n",
    "\n",
    "# Drop the original 'search_tag_cat' column\n",
    "df.drop('search_tag_cat', axis=1, inplace=True)"
   ]
  },
  {
   "cell_type": "code",
   "execution_count": 595,
   "metadata": {},
   "outputs": [
    {
     "data": {
      "text/plain": [
       "(69200, 32)"
      ]
     },
     "execution_count": 595,
     "metadata": {},
     "output_type": "execute_result"
    }
   ],
   "source": [
    "df.shape"
   ]
  },
  {
   "cell_type": "markdown",
   "metadata": {},
   "source": [
    "#### Check whether advertiser id and advertiser names are inter connected"
   ]
  },
  {
   "cell_type": "code",
   "execution_count": 596,
   "metadata": {},
   "outputs": [
    {
     "name": "stdout",
     "output_type": "stream",
     "text": [
      "       advertiser_id advertiser_name\n",
      "0               4756             Web\n",
      "5               5191           Brand\n",
      "3586            5209           Brand\n",
      "7126            5395           Luxor\n",
      "7430            5227      Almaza Bay\n",
      "7601            5611             USA\n",
      "7646            5785             USA\n",
      "7816            5641       Karnataka\n",
      "7830            5686     Maharashtra\n",
      "7843            6382            Oman\n",
      "13636           6391             UAE\n",
      "15286           5857           Cairo\n",
      "15672           5914       Al Ahmadi\n",
      "15782           5908     Addis Ababa\n",
      "15910           5917        Vadodara\n",
      "16103           5938         Chennai\n",
      "16105           6112      Coimbatore\n",
      "16198           5755           Malad\n",
      "16262           6019          Indore\n",
      "16483           6340            Pali\n",
      "16487           6292  Andhra Pradesh\n",
      "17185           6337    Kuala Lumpur\n",
      "18003           6298         Gujarat\n",
      "18602           6325        Chandpur\n",
      "18647           6316     West Bengal\n",
      "19424           6331      Tamil Nadu\n",
      "19569           6328  Madhya Pradesh\n",
      "19613           6319          Orissa\n",
      "19694           6370           North\n",
      "20311           6334        Thailand\n",
      "22641           6376       Singapore\n",
      "22729           6388           Sohar\n",
      "28459           6394             KSA\n",
      "42456           6385           Qatar\n",
      "49754           6379          Muscat\n",
      "49808           6397          Kuwait\n",
      "55776           6412         Bahrain\n",
      "57720           6400        Malaysia\n",
      "68360           6409          Jeddah\n",
      "68802           6010      Chattogram\n",
      "69130           6373       Pan India\n",
      "69136           6490      Chattogram\n"
     ]
    }
   ],
   "source": [
    "# Create a combined feature by concatenating 'advertiser_id' and 'advertiser_name'\n",
    "combined_feature = df[['advertiser_id', 'advertiser_name']]\n",
    "\n",
    "# Display the unique combinations of the two features\n",
    "unique_combinations = combined_feature.drop_duplicates()\n",
    "print(unique_combinations)"
   ]
  },
  {
   "cell_type": "markdown",
   "metadata": {},
   "source": [
    "## Network ID"
   ]
  },
  {
   "cell_type": "code",
   "execution_count": 597,
   "metadata": {},
   "outputs": [
    {
     "data": {
      "text/plain": [
       "array([190, 287, 191, 188, 353, 350], dtype=int64)"
      ]
     },
     "execution_count": 597,
     "metadata": {},
     "output_type": "execute_result"
    }
   ],
   "source": [
    "df['network_id'].unique()"
   ]
  },
  {
   "cell_type": "markdown",
   "metadata": {},
   "source": [
    "## Channel"
   ]
  },
  {
   "cell_type": "code",
   "execution_count": 598,
   "metadata": {},
   "outputs": [
    {
     "data": {
      "text/plain": [
       "array([32,  8, 64,  1,  4], dtype=int64)"
      ]
     },
     "execution_count": 598,
     "metadata": {},
     "output_type": "execute_result"
    }
   ],
   "source": [
    "df['channel_id'].unique()"
   ]
  },
  {
   "cell_type": "code",
   "execution_count": 599,
   "metadata": {},
   "outputs": [
    {
     "data": {
      "text/plain": [
       "array(['Mobile', 'Social', 'Video', 'Display', 'Search'], dtype=object)"
      ]
     },
     "execution_count": 599,
     "metadata": {},
     "output_type": "execute_result"
    }
   ],
   "source": [
    "df['channel_name'].unique()"
   ]
  },
  {
   "cell_type": "code",
   "execution_count": 600,
   "metadata": {},
   "outputs": [],
   "source": [
    "# Apply One-Hot Encoding to the 'channel name' column\n",
    "df_encoded = pd.get_dummies(df['channel_name'])\n",
    "\n",
    "# Convert True/False to 1/0\n",
    "df_encoded = df_encoded.astype(int)\n",
    "\n",
    "# Optionally, concatenate the encoded columns with the original dataframe\n",
    "df = pd.concat([df, df_encoded], axis=1)\n"
   ]
  },
  {
   "cell_type": "code",
   "execution_count": 601,
   "metadata": {},
   "outputs": [],
   "source": [
    "from sklearn.preprocessing import StandardScaler\n",
    "\n",
    "# Initialize StandardScaler\n",
    "scaler = StandardScaler()\n",
    "\n",
    "# Standardize the 'campaign_budget_usd' column\n",
    "df['campaign_budget_usd'] = scaler.fit_transform(df[['campaign_budget_usd']])"
   ]
  },
  {
   "cell_type": "markdown",
   "metadata": {},
   "source": [
    "### Clicks analysis\n"
   ]
  },
  {
   "cell_type": "code",
   "execution_count": 602,
   "metadata": {},
   "outputs": [
    {
     "name": "stdout",
     "output_type": "stream",
     "text": [
      "clicks shape: (69200,)\n"
     ]
    }
   ],
   "source": [
    "# The corresponding click values for each record\n",
    "click_values = df['clicks'].values\n",
    "\n",
    "# Ensure shapes are appropriate\n",
    "print(f\"clicks shape: {click_values.shape}\")"
   ]
  },
  {
   "cell_type": "code",
   "execution_count": 603,
   "metadata": {},
   "outputs": [
    {
     "name": "stdout",
     "output_type": "stream",
     "text": [
      "count    69200.000000\n",
      "mean        33.698902\n",
      "std        268.706638\n",
      "min          2.000000\n",
      "25%          5.000000\n",
      "50%          8.000000\n",
      "75%         11.000000\n",
      "max      31807.000000\n",
      "dtype: float64\n",
      "Skewness: 61.02\n",
      "Kurtosis: 5612.22\n"
     ]
    }
   ],
   "source": [
    "import pandas as pd\n",
    "\n",
    "# Convert to a Pandas Series for easier analysis\n",
    "click_series = pd.Series(click_values)  # Since click_values is now a NumPy array\n",
    "\n",
    "# Descriptive statistics\n",
    "print(click_series.describe())\n",
    "\n",
    "# Skewness and Kurtosis\n",
    "print(f\"Skewness: {click_series.skew():.2f}\")\n",
    "print(f\"Kurtosis: {click_series.kurt():.2f}\")\n"
   ]
  },
  {
   "cell_type": "code",
   "execution_count": 604,
   "metadata": {},
   "outputs": [
    {
     "name": "stdout",
     "output_type": "stream",
     "text": [
      "95th Percentile Threshold: 118.0\n",
      "New Max Value: 118\n",
      "New Shape: (65749,)\n"
     ]
    }
   ],
   "source": [
    "import numpy as np\n",
    "\n",
    "# Calculate the 95th percentile threshold\n",
    "threshold = np.percentile(click_values, 95)\n",
    "print(f\"95th Percentile Threshold: {threshold}\")\n",
    "\n",
    "# Filter out the outliers\n",
    "click_values_filtered = click_values[click_values <= threshold]\n",
    "\n",
    "# Check the new distribution\n",
    "print(f\"New Max Value: {click_values_filtered.max()}\")\n",
    "print(f\"New Shape: {click_values_filtered.shape}\")\n"
   ]
  },
  {
   "cell_type": "code",
   "execution_count": 605,
   "metadata": {},
   "outputs": [
    {
     "name": "stdout",
     "output_type": "stream",
     "text": [
      "Normalized Click Values (Min-Max): [0.05172414 0.36206897 0.25862069 0.39655172 0.15517241 0.07758621\n",
      " 0.13793103 0.0862069  0.02586207 0.05172414]\n"
     ]
    }
   ],
   "source": [
    "from sklearn.preprocessing import MinMaxScaler\n",
    "\n",
    "scaler = MinMaxScaler()\n",
    "click_values_normalized = scaler.fit_transform(click_values_filtered.reshape(-1, 1))\n",
    "\n",
    "print(f\"Normalized Click Values (Min-Max): {click_values_normalized.flatten()[:10]}\")\n"
   ]
  },
  {
   "cell_type": "code",
   "execution_count": 606,
   "metadata": {},
   "outputs": [
    {
     "data": {
      "image/png": "[encoded data removed]",
      "text/plain": [
       "<Figure size 800x600 with 1 Axes>"
      ]
     },
     "metadata": {},
     "output_type": "display_data"
    }
   ],
   "source": [
    "plt.figure(figsize=(8, 6))\n",
    "sns.histplot(click_values_filtered, bins=50, kde=True)\n",
    "plt.title('Distribution of Clicks (After Outlier Removal)')\n",
    "plt.xlabel('Clicks')\n",
    "plt.ylabel('Frequency')\n",
    "plt.show()\n"
   ]
  },
  {
   "cell_type": "code",
   "execution_count": 607,
   "metadata": {},
   "outputs": [
    {
     "name": "stdout",
     "output_type": "stream",
     "text": [
      "Filtered Dataset Shape: (65749, 37)\n"
     ]
    }
   ],
   "source": [
    "# Keep only the rows where clicks are below the threshold\n",
    "df = df[df['clicks'] <= threshold]\n",
    "print(f\"Filtered Dataset Shape: {df.shape}\")\n"
   ]
  },
  {
   "cell_type": "code",
   "execution_count": 608,
   "metadata": {},
   "outputs": [
    {
     "name": "stdout",
     "output_type": "stream",
     "text": [
      "\n",
      "Categorized Clicks:\n",
      "   clicks clicks_category\n",
      "0       8               0\n",
      "1      44               1\n",
      "2      32               1\n",
      "3      48               1\n",
      "4      20               1\n",
      "✅ Clicks processed for both regression and classification scenarios.\n"
     ]
    }
   ],
   "source": [
    "# 2. Classification Approach: Binning into 5 Engagement Levels\n",
    "bins = [0, 20, 50, 80, 120, float('inf')]\n",
    "labels = [0, 1, 2, 3, 4]  # 5 engagement levels\n",
    "df['clicks_category'] = pd.cut(df['clicks'], bins=bins, labels=labels, right=False)\n",
    "\n",
    "# Verify classification\n",
    "print('\\nCategorized Clicks:')\n",
    "print(df[['clicks', 'clicks_category']].head())\n",
    "\n",
    "print('✅ Clicks processed for both regression and classification scenarios.')"
   ]
  },
  {
   "cell_type": "code",
   "execution_count": 609,
   "metadata": {},
   "outputs": [
    {
     "name": "stdout",
     "output_type": "stream",
     "text": [
      "Final DataFrame saved to ../Datasets/processed_data.csv\n"
     ]
    }
   ],
   "source": [
    "# Save the final DataFrame to a CSV file\n",
    "final_csv_path = '../Datasets/processed_data.csv'\n",
    "df.to_csv(final_csv_path, index=False)\n",
    "\n",
    "print(f\"Final DataFrame saved to {final_csv_path}\")"
   ]
  }
 ],
 "metadata": {
  "kernelspec": {
   "display_name": "Python 3",
   "language": "python",
   "name": "python3"
  },
  "language_info": {
   "codemirror_mode": {
    "name": "ipython",
    "version": 3
   },
   "file_extension": ".py",
   "mimetype": "text/x-python",
   "name": "python",
   "nbconvert_exporter": "python",
   "pygments_lexer": "ipython3",
   "version": "3.12.3"
  }
 },
 "nbformat": 4,
 "nbformat_minor": 2
}
